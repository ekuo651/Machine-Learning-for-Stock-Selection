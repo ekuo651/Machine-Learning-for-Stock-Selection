{
 "cells": [
  {
   "cell_type": "code",
   "execution_count": 1,
   "metadata": {},
   "outputs": [],
   "source": [
    "from datetime import datetime, timedelta\n",
    "from iexfinance.stocks import get_historical_data\n",
    "from iexfinance.refdata import get_symbols\n",
    "import os\n",
    "import pandas as pd"
   ]
  },
  {
   "cell_type": "code",
   "execution_count": null,
   "metadata": {},
   "outputs": [],
   "source": [
    "token = os.getenv(\"IEX_TOKEN\")\n",
    "\n",
    "ticker = \"ILMN\"\n",
    "\n",
    "\n",
    "end_date = datetime.now()\n",
    "start_date = end_date + timedelta(-365)\n",
    "\n",
    "\n",
    "df = get_historical_data(ticker, start_date, end_date,  output_format='pandas', token=token)\n",
    "df = df['close'].to_frame()\n",
    "df.columns = ['ILMN']\n"
   ]
  },
  {
   "cell_type": "code",
   "execution_count": null,
   "metadata": {},
   "outputs": [],
   "source": [
    "tickers = ['VFIAX', 'VTSAX', 'VEXAX', 'VIGAX', 'VVIAX', 'VIMAX', 'VMGMX', 'VMVAX', 'VSMAX', 'VSGAX', 'VSIAX', 'VTMGX', 'VFWAX', 'VTIAX', 'VEMAX', 'VGSLX', 'VBTLX', 'VTEAX', 'VSBSX', 'VSIGX', 'VLGSX', 'VBIRX', 'VFTAX', 'VTABX']\n",
    "end_date = datetime.now()\n",
    "start_date = end_date + timedelta(-365)\n",
    "stocks_df = df\n",
    "\n",
    "for ticker in tickers:\n",
    "    print(ticker)\n",
    "    try:\n",
    "        stock_df = get_historical_data(ticker, start_date, end_date,  output_format='pandas', token=token)\n",
    "        stock_df = stock_df['close'].to_frame()\n",
    "        stock_df.columns = tick\n",
    "        stocks_df = pd.concat([stocks_df, stock_df], axis=1, join='inner')\n",
    "    except Exception as e:\n",
    "        print(e)\n",
    "        "
   ]
  },
  {
   "cell_type": "code",
   "execution_count": null,
   "metadata": {},
   "outputs": [],
   "source": []
  }
 ],
 "metadata": {
  "kernelspec": {
   "display_name": "Python 3",
   "language": "python",
   "name": "python3"
  },
  "language_info": {
   "codemirror_mode": {
    "name": "ipython",
    "version": 3
   },
   "file_extension": ".py",
   "mimetype": "text/x-python",
   "name": "python",
   "nbconvert_exporter": "python",
   "pygments_lexer": "ipython3",
   "version": "3.7.3"
  }
 },
 "nbformat": 4,
 "nbformat_minor": 4
}
