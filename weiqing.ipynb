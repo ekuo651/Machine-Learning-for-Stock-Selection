{
 "cells": [
  {
   "cell_type": "code",
   "execution_count": null,
   "metadata": {},
   "outputs": [],
   "source": [
    "#from datetime import datetime, timedelta\n",
    "from iexfinance.stocks import get_historical_data\n",
    "from iexfinance.refdata import get_symbols\n",
    "import os\n",
    "import pandas as pd\n",
    "import numpy as np\n",
    "from sklearn.linear_model import LinearRegression\n",
    "from sklearn.cluster import KMeans\n",
    "import hvplot.pandas\n",
    "from sklearn.preprocessing import StandardScaler\n",
    "from sklearn.decomposition import PCA\n",
    "import plotly.express as px"
   ]
  },
  {
   "cell_type": "code",
   "execution_count": 12,
   "metadata": {},
   "outputs": [],
   "source": [
    "token = os.getenv(\"IEX_TOKEN\")\n",
    "tickers = pd.DataFrame(get_symbols())\n",
    "random = tickers.sample(1000)\n",
    "symbols = random.symbol.to_frame()\n",
    "symbols.to_csv(\"Data/symbols1000.csv\", index=False)"
   ]
  },
  {
   "cell_type": "code",
   "execution_count": null,
   "metadata": {},
   "outputs": [],
   "source": [
    "index_funds = pd.read_csv(\"Data/index_funds.csv\", index_col=\"PX_LAST\", parse_dates=True, infer_datetime_format=True)"
   ]
  },
  {
   "cell_type": "code",
   "execution_count": null,
   "metadata": {},
   "outputs": [],
   "source": [
    "new_index_funds = index_funds.loc['2018-11-01':'2019-12-01']"
   ]
  },
  {
   "cell_type": "code",
   "execution_count": null,
   "metadata": {},
   "outputs": [],
   "source": [
    "aapl = pd.read_csv(\"Data/aapl.csv\", index_col=\"date\", parse_dates=True, infer_datetime_format=True)\n",
    "aapl = aapl['close'].to_frame()"
   ]
  },
  {
   "cell_type": "code",
   "execution_count": null,
   "metadata": {},
   "outputs": [],
   "source": [
    "sp500_fundamentals = pd.read_csv(\"Data/company_fundamentals.csv\")\n",
    "sp500_fundamentals.columns"
   ]
  },
  {
   "cell_type": "code",
   "execution_count": 88,
   "metadata": {},
   "outputs": [],
   "source": [
    "#import clustering data\n",
    "sp500_fundamentals = pd.read_csv(\"Data/Fundamentals_Clustering_12-6-2019.csv\")\n",
    "#sp500_fundamentals = pd.read_csv(\"Data/company_fundamentals.csv\")\n",
    "sp500_fundamentals = sp500_fundamentals.dropna()\n",
    "sp500_fundamentals['Ticker'] = sp500_fundamentals.Ticker.apply(lambda x: x[x.find(\":\")+1:])\n",
    "sp500_fundamentals = sp500_fundamentals[sp500_fundamentals.IQ_PE_EXCL!='(Invalid Identifier)']"
   ]
  },
  {
   "cell_type": "code",
   "execution_count": 89,
   "metadata": {},
   "outputs": [],
   "source": [
    "#keep nessessary columns\n",
    "colnames_keep = sp500_fundamentals.columns[1:]\n",
    "#colnames_keep =['Ticker', 'PE_Calc', 'Return on Equity_Calc', 'IQ_BETA_2YR']\n",
    "sp500_fundamentals = sp500_fundamentals[colnames_keep]"
   ]
  },
  {
   "cell_type": "code",
   "execution_count": 90,
   "metadata": {},
   "outputs": [],
   "source": [
    "#replace 0 and NM values with NA\n",
    "sp500_fundamentals = sp500_fundamentals.replace(\"0\", np.nan)\n",
    "sp500_fundamentals = sp500_fundamentals.replace(\"NM\", np.nan)\n",
    "#sp500_fundamentals = sp500_fundamentals.replace(\"#DIV/0!\", np.nan)\n"
   ]
  },
  {
   "cell_type": "code",
   "execution_count": 143,
   "metadata": {},
   "outputs": [],
   "source": [
    "#import industry data\n",
    "#sp500_industry = pd.read_csv(\"Data/industry.csv\")\n",
    "sp500_industry = pd.read_csv(\"Data/s_universe.csv\")\n",
    "#sp500_industry['Ticker'] = sp500_industry.Ticker.apply(lambda x: x[x.find(\":\")+1:])\n",
    "sp500_industry.rename(columns={\"SPX 8/7/2018\":'Ticker'}, inplace=True)\n",
    "sp500_industry['Ticker'] = sp500_industry.Ticker.str[:-10]\n",
    "sp500_industry = sp500_industry[['Ticker', 'GICS_SECTOR_NAME']]"
   ]
  },
  {
   "cell_type": "code",
   "execution_count": 154,
   "metadata": {},
   "outputs": [
    {
     "data": {
      "text/plain": [
       "(464, 13)"
      ]
     },
     "execution_count": 154,
     "metadata": {},
     "output_type": "execute_result"
    }
   ],
   "source": [
    "#merge industry data and fundamental data\n",
    "sp500 = pd.merge(sp500_fundamentals, sp500_industry, on=\"Ticker\")\n",
    "#sp500 = pd.get_dummies(sp500, columns=['Industry'])\n",
    "labels = sp500['GICS_SECTOR_NAME'].astype('category').cat.categories.tolist()\n",
    "replace_map_comp = {'GICS_SECTOR_NAME' : {k: v for k,v in zip(labels,list(range(1,len(labels)+1)))}}\n",
    "sp500.replace(replace_map_comp, inplace=True)\n",
    "sp500.shape"
   ]
  },
  {
   "cell_type": "code",
   "execution_count": 153,
   "metadata": {},
   "outputs": [
    {
     "data": {
      "text/plain": [
       "(500, 2)"
      ]
     },
     "execution_count": 153,
     "metadata": {},
     "output_type": "execute_result"
    }
   ],
   "source": [
    "#get market cap data\n",
    "sp500_market_cap = pd.read_csv(\"Data/company_fundamentals.csv\")\n",
    "sp500_market_cap = sp500_market_cap[['Ticker', 'IQ_MarketCap']]\n",
    "sp500_market_cap['Ticker'] = sp500_market_cap.Ticker.apply(lambda x: x[x.find(\":\")+1:])\n",
    "sp500_market_cap.shape"
   ]
  },
  {
   "cell_type": "code",
   "execution_count": 152,
   "metadata": {},
   "outputs": [
    {
     "data": {
      "text/plain": [
       "(464, 14)"
      ]
     },
     "execution_count": 152,
     "metadata": {},
     "output_type": "execute_result"
    }
   ],
   "source": [
    "#merge market cap data\n",
    "sp500_all = pd.merge(sp500, sp500_market_cap, on=\"Ticker\")\n",
    "sp500_all.shape"
   ]
  },
  {
   "cell_type": "code",
   "execution_count": 147,
   "metadata": {},
   "outputs": [],
   "source": [
    "#fill NAs\n",
    "def deal_with_na (df, method):\n",
    "    if method == \"ml\":\n",
    "        #drop first column\n",
    "        first_colname = df.columns[0]\n",
    "        df = df.drop(columns=first_colname)\n",
    "        df = df.astype('float')\n",
    "        #drop rows with more than 2 NAs\n",
    "        df = df.dropna(thresh=df.shape[1]-1)\n",
    "        tickers = df.iloc[:,0].to_frame()\n",
    "        data_without_null = df.dropna() \n",
    "        for i in range(0, df.shape[1]):\n",
    "            print(df.columns[i])\n",
    "            colname = df.columns[i]\n",
    "            X_train = data_without_null.drop(columns=[colname])\n",
    "            y_train = data_without_null[colname]\n",
    "            X_test = df[df[colname].isnull()].drop(columns=[colname])\n",
    "            if X_test.shape[0] != 0:\n",
    "                linreg = LinearRegression()\n",
    "                linreg.fit(X_train, y_train)\n",
    "                predicted = linreg.predict(X_test)\n",
    "                df[colname][df[colname].isnull()] = predicted\n",
    "        output = pd.concat([tickers, df], axis=1)\n",
    "        return output\n",
    "    if method == \"ts\":\n",
    "        #drop first column\n",
    "        first_colname = df.columns[0]\n",
    "        df = df.drop(columns=first_colname)\n",
    "        df = df.astype('float')\n",
    "        tickers = df.iloc[:,0].to_frame()\n",
    "        for i in range(0, df.shape[1]):\n",
    "            colname = df.columns[i]\n",
    "            colmean = df[colname].median()\n",
    "            df[colname]=df[colname].fillna(colmean)\n",
    "        output = pd.concat([tickers, df], axis=1)\n",
    "        return output\n",
    "        "
   ]
  },
  {
   "cell_type": "code",
   "execution_count": 148,
   "metadata": {},
   "outputs": [],
   "source": [
    "#sp500_no_na = deal_with_na(sp500_fundamentals, 'ml')\n",
    "#sp500_no_na = deal_with_na(sp500_fundamentals, 'ts')\n",
    "#sp500_no_na = sp500_fundamentals.dropna()\n",
    "\n",
    "#sp500_no_na = deal_with_na(sp500_all, 'ml')\n",
    "#sp500_no_na = deal_with_na(sp500_all, 'ts')\n",
    "sp500_no_na = sp500_all.dropna()"
   ]
  },
  {
   "cell_type": "code",
   "execution_count": 155,
   "metadata": {},
   "outputs": [],
   "source": [
    "sp500_kmeans = sp500_no_na.iloc[:,1:]\n",
    "sp500_kmeans['IQ_MarketCap'] = sp500_kmeans['IQ_MarketCap'].apply(np.log)\n",
    "sp500_scaled = StandardScaler().fit_transform(sp500_kmeans)"
   ]
  },
  {
   "cell_type": "code",
   "execution_count": 156,
   "metadata": {},
   "outputs": [
    {
     "data": {
      "application/vnd.holoviews_exec.v0+json": "",
      "text/html": [
       "<div id='5027' style='display: table; margin: 0 auto;'>\n",
       "\n",
       "\n",
       "\n",
       "\n",
       "\n",
       "  <div class=\"bk-root\" id=\"99c3b5be-fe13-4b08-88e9-387bad70b416\" data-root-id=\"5027\"></div>\n",
       "</div>\n",
       "<script type=\"application/javascript\">(function(root) {\n",
       "  function embed_document(root) {\n",
       "    \n",
       "  var docs_json = {\"78d4927f-55ec-487e-a31b-54fb8fff4992\":{\"roots\":{\"references\":[{\"attributes\":{\"align\":null,\"below\":[{\"id\":\"5036\",\"type\":\"LinearAxis\"}],\"center\":[{\"id\":\"5040\",\"type\":\"Grid\"},{\"id\":\"5045\",\"type\":\"Grid\"}],\"left\":[{\"id\":\"5041\",\"type\":\"LinearAxis\"}],\"margin\":null,\"min_border_bottom\":10,\"min_border_left\":10,\"min_border_right\":10,\"min_border_top\":10,\"plot_height\":300,\"plot_width\":700,\"renderers\":[{\"id\":\"5064\",\"type\":\"GlyphRenderer\"}],\"sizing_mode\":\"fixed\",\"title\":{\"id\":\"5028\",\"type\":\"Title\"},\"toolbar\":{\"id\":\"5051\",\"type\":\"Toolbar\"},\"x_range\":{\"id\":\"5024\",\"type\":\"Range1d\"},\"x_scale\":{\"id\":\"5032\",\"type\":\"LinearScale\"},\"y_range\":{\"id\":\"5025\",\"type\":\"Range1d\"},\"y_scale\":{\"id\":\"5034\",\"type\":\"LinearScale\"}},\"id\":\"5027\",\"subtype\":\"Figure\",\"type\":\"Plot\"},{\"attributes\":{},\"id\":\"5034\",\"type\":\"LinearScale\"},{\"attributes\":{\"ticks\":[1,2,3,4,5,6,7,8,9,10]},\"id\":\"5066\",\"type\":\"FixedTicker\"},{\"attributes\":{\"axis_label\":\"k\",\"bounds\":\"auto\",\"formatter\":{\"id\":\"5067\",\"type\":\"BasicTickFormatter\"},\"major_label_orientation\":\"horizontal\",\"ticker\":{\"id\":\"5066\",\"type\":\"FixedTicker\"}},\"id\":\"5036\",\"type\":\"LinearAxis\"},{\"attributes\":{},\"id\":\"5037\",\"type\":\"BasicTicker\"},{\"attributes\":{\"grid_line_color\":null,\"ticker\":{\"id\":\"5037\",\"type\":\"BasicTicker\"}},\"id\":\"5040\",\"type\":\"Grid\"},{\"attributes\":{\"bottom_units\":\"screen\",\"fill_alpha\":{\"value\":0.5},\"fill_color\":{\"value\":\"lightgrey\"},\"left_units\":\"screen\",\"level\":\"overlay\",\"line_alpha\":{\"value\":1.0},\"line_color\":{\"value\":\"black\"},\"line_dash\":[4,4],\"line_width\":{\"value\":2},\"render_mode\":\"css\",\"right_units\":\"screen\",\"top_units\":\"screen\"},\"id\":\"5079\",\"type\":\"BoxAnnotation\"},{\"attributes\":{\"axis_label\":\"inertia\",\"bounds\":\"auto\",\"formatter\":{\"id\":\"5071\",\"type\":\"BasicTickFormatter\"},\"major_label_orientation\":\"horizontal\",\"ticker\":{\"id\":\"5042\",\"type\":\"BasicTicker\"}},\"id\":\"5041\",\"type\":\"LinearAxis\"},{\"attributes\":{},\"id\":\"5042\",\"type\":\"BasicTicker\"},{\"attributes\":{\"line_alpha\":0.1,\"line_color\":\"#1f77b4\",\"line_width\":2,\"x\":{\"field\":\"k\"},\"y\":{\"field\":\"inertia\"}},\"id\":\"5062\",\"type\":\"Line\"},{\"attributes\":{\"dimension\":1,\"grid_line_color\":null,\"ticker\":{\"id\":\"5042\",\"type\":\"BasicTicker\"}},\"id\":\"5045\",\"type\":\"Grid\"},{\"attributes\":{\"callback\":null,\"end\":4979.0,\"reset_end\":4979.0,\"reset_start\":2188.3677225390625,\"start\":2188.3677225390625,\"tags\":[[[\"inertia\",\"inertia\",null]]]},\"id\":\"5025\",\"type\":\"Range1d\"},{\"attributes\":{\"data_source\":{\"id\":\"5058\",\"type\":\"ColumnDataSource\"},\"glyph\":{\"id\":\"5061\",\"type\":\"Line\"},\"hover_glyph\":null,\"muted_glyph\":{\"id\":\"5063\",\"type\":\"Line\"},\"nonselection_glyph\":{\"id\":\"5062\",\"type\":\"Line\"},\"selection_glyph\":null,\"view\":{\"id\":\"5065\",\"type\":\"CDSView\"}},\"id\":\"5064\",\"type\":\"GlyphRenderer\"},{\"attributes\":{\"line_alpha\":0.2,\"line_color\":\"#1f77b4\",\"line_width\":2,\"x\":{\"field\":\"k\"},\"y\":{\"field\":\"inertia\"}},\"id\":\"5063\",\"type\":\"Line\"},{\"attributes\":{\"callback\":null,\"end\":10.0,\"reset_end\":10.0,\"reset_start\":1.0,\"start\":1.0,\"tags\":[[[\"k\",\"k\",null]]]},\"id\":\"5024\",\"type\":\"Range1d\"},{\"attributes\":{},\"id\":\"5059\",\"type\":\"Selection\"},{\"attributes\":{\"callback\":null,\"renderers\":[{\"id\":\"5064\",\"type\":\"GlyphRenderer\"}],\"tags\":[\"hv_created\"],\"tooltips\":[[\"k\",\"@{k}\"],[\"inertia\",\"@{inertia}\"]]},\"id\":\"5026\",\"type\":\"HoverTool\"},{\"attributes\":{},\"id\":\"5071\",\"type\":\"BasicTickFormatter\"},{\"attributes\":{},\"id\":\"5046\",\"type\":\"SaveTool\"},{\"attributes\":{},\"id\":\"5077\",\"type\":\"UnionRenderers\"},{\"attributes\":{\"source\":{\"id\":\"5058\",\"type\":\"ColumnDataSource\"}},\"id\":\"5065\",\"type\":\"CDSView\"},{\"attributes\":{},\"id\":\"5047\",\"type\":\"PanTool\"},{\"attributes\":{},\"id\":\"5048\",\"type\":\"WheelZoomTool\"},{\"attributes\":{},\"id\":\"5032\",\"type\":\"LinearScale\"},{\"attributes\":{\"overlay\":{\"id\":\"5079\",\"type\":\"BoxAnnotation\"}},\"id\":\"5049\",\"type\":\"BoxZoomTool\"},{\"attributes\":{},\"id\":\"5067\",\"type\":\"BasicTickFormatter\"},{\"attributes\":{\"line_color\":\"#1f77b4\",\"line_width\":2,\"x\":{\"field\":\"k\"},\"y\":{\"field\":\"inertia\"}},\"id\":\"5061\",\"type\":\"Line\"},{\"attributes\":{},\"id\":\"5050\",\"type\":\"ResetTool\"},{\"attributes\":{\"active_drag\":\"auto\",\"active_inspect\":\"auto\",\"active_multi\":null,\"active_scroll\":\"auto\",\"active_tap\":\"auto\",\"tools\":[{\"id\":\"5026\",\"type\":\"HoverTool\"},{\"id\":\"5046\",\"type\":\"SaveTool\"},{\"id\":\"5047\",\"type\":\"PanTool\"},{\"id\":\"5048\",\"type\":\"WheelZoomTool\"},{\"id\":\"5049\",\"type\":\"BoxZoomTool\"},{\"id\":\"5050\",\"type\":\"ResetTool\"}]},\"id\":\"5051\",\"type\":\"Toolbar\"},{\"attributes\":{\"callback\":null,\"data\":{\"inertia\":{\"__ndarray__\":\"AAAAAABzs0AJaQaFHdSwQASRKCmCMK1Ax8m+XpJbqUClkgAwGfKmQD63qJQUMaVAhGSQkKK4o0A0GIV/jb6iQJH+t2EI4KFAje4gRrwYoUA=\",\"dtype\":\"float64\",\"shape\":[10]},\"k\":[1,2,3,4,5,6,7,8,9,10]},\"selected\":{\"id\":\"5059\",\"type\":\"Selection\"},\"selection_policy\":{\"id\":\"5077\",\"type\":\"UnionRenderers\"}},\"id\":\"5058\",\"type\":\"ColumnDataSource\"},{\"attributes\":{\"text\":\"Elbow Curve\",\"text_color\":{\"value\":\"black\"},\"text_font_size\":{\"value\":\"12pt\"}},\"id\":\"5028\",\"type\":\"Title\"}],\"root_ids\":[\"5027\"]},\"title\":\"Bokeh Application\",\"version\":\"1.3.4\"}};\n",
       "  var render_items = [{\"docid\":\"78d4927f-55ec-487e-a31b-54fb8fff4992\",\"roots\":{\"5027\":\"99c3b5be-fe13-4b08-88e9-387bad70b416\"}}];\n",
       "  root.Bokeh.embed.embed_items_notebook(docs_json, render_items);\n",
       "\n",
       "  }\n",
       "  if (root.Bokeh !== undefined) {\n",
       "    embed_document(root);\n",
       "  } else {\n",
       "    var attempts = 0;\n",
       "    var timer = setInterval(function(root) {\n",
       "      if (root.Bokeh !== undefined) {\n",
       "        embed_document(root);\n",
       "        clearInterval(timer);\n",
       "      }\n",
       "      attempts++;\n",
       "      if (attempts > 100) {\n",
       "        console.log(\"Bokeh: ERROR: Unable to run BokehJS code because BokehJS library is missing\");\n",
       "        clearInterval(timer);\n",
       "      }\n",
       "    }, 10, root)\n",
       "  }\n",
       "})(window);</script>"
      ],
      "text/plain": [
       ":Curve   [k]   (inertia)"
      ]
     },
     "execution_count": 156,
     "metadata": {
      "application/vnd.holoviews_exec.v0+json": {
       "id": "5027"
      }
     },
     "output_type": "execute_result"
    }
   ],
   "source": [
    "inertia = []\n",
    "k = list(range(1, 11))\n",
    "for i in k:\n",
    "    km = KMeans(n_clusters=i)\n",
    "    km.fit(sp500_scaled)\n",
    "    inertia.append(km.inertia_)\n",
    "\n",
    "elbow_data = {\"k\": k, \"inertia\": inertia}\n",
    "df_elbow = pd.DataFrame(elbow_data)\n",
    "df_elbow.hvplot.line(x=\"k\", y=\"inertia\", xticks=k, title=\"Elbow Curve\")"
   ]
  },
  {
   "cell_type": "code",
   "execution_count": 157,
   "metadata": {},
   "outputs": [],
   "source": [
    "model = KMeans(n_clusters=7)\n",
    "model.fit(sp500_kmeans)\n",
    "predictions = model.predict(sp500_kmeans)\n",
    "predictions = pd.DataFrame(predictions)\n",
    "predictions.rename(columns={0:'predictions'}, inplace=True)"
   ]
  },
  {
   "cell_type": "code",
   "execution_count": 158,
   "metadata": {},
   "outputs": [
    {
     "data": {
      "text/plain": [
       "array([0.23428847, 0.17307753, 0.16072687, 0.12840212, 0.07506141,\n",
       "       0.06505997])"
      ]
     },
     "execution_count": 158,
     "metadata": {},
     "output_type": "execute_result"
    }
   ],
   "source": [
    "sp500_scaled = StandardScaler().fit_transform(sp500_kmeans)\n",
    "pca = PCA(n_components=6)\n",
    "sp500_pca = pca.fit_transform(sp500_scaled)\n",
    "pca.explained_variance_ratio_"
   ]
  },
  {
   "cell_type": "code",
   "execution_count": null,
   "metadata": {},
   "outputs": [],
   "source": [
    "sp500_pca = pd.DataFrame(\n",
    "    data=sp500_pca, columns=[\"pc1\", \"pc2\", 'pc3']\n",
    ")\n",
    "sp500_pca.hvplot.scatter(x='pc1', y='pc2')"
   ]
  },
  {
   "cell_type": "code",
   "execution_count": 159,
   "metadata": {},
   "outputs": [
    {
     "data": {
      "application/vnd.holoviews_exec.v0+json": "",
      "text/html": [
       "<div id='5138' style='display: table; margin: 0 auto;'>\n",
       "\n",
       "\n",
       "\n",
       "\n",
       "\n",
       "  <div class=\"bk-root\" id=\"596090ee-7894-44df-b25b-a10993d50489\" data-root-id=\"5138\"></div>\n",
       "</div>\n",
       "<script type=\"application/javascript\">(function(root) {\n",
       "  function embed_document(root) {\n",
       "    \n",
       "  var docs_json = {\"e5224eb3-963b-4017-99e4-b32a6787ec77\":{\"roots\":{\"references\":[{\"attributes\":{\"align\":null,\"below\":[{\"id\":\"5147\",\"type\":\"LinearAxis\"}],\"center\":[{\"id\":\"5151\",\"type\":\"Grid\"},{\"id\":\"5156\",\"type\":\"Grid\"},{\"id\":\"5187\",\"type\":\"Legend\"}],\"left\":[{\"id\":\"5152\",\"type\":\"LinearAxis\"}],\"margin\":null,\"min_border_bottom\":10,\"min_border_left\":10,\"min_border_right\":10,\"min_border_top\":10,\"plot_height\":300,\"plot_width\":700,\"renderers\":[{\"id\":\"5179\",\"type\":\"GlyphRenderer\"},{\"id\":\"5195\",\"type\":\"GlyphRenderer\"},{\"id\":\"5212\",\"type\":\"GlyphRenderer\"},{\"id\":\"5231\",\"type\":\"GlyphRenderer\"},{\"id\":\"5252\",\"type\":\"GlyphRenderer\"},{\"id\":\"5275\",\"type\":\"GlyphRenderer\"},{\"id\":\"5300\",\"type\":\"GlyphRenderer\"}],\"right\":[{\"id\":\"5187\",\"type\":\"Legend\"}],\"sizing_mode\":\"fixed\",\"title\":{\"id\":\"5139\",\"type\":\"Title\"},\"toolbar\":{\"id\":\"5162\",\"type\":\"Toolbar\"},\"x_range\":{\"id\":\"5129\",\"type\":\"Range1d\"},\"x_scale\":{\"id\":\"5143\",\"type\":\"LinearScale\"},\"y_range\":{\"id\":\"5130\",\"type\":\"Range1d\"},\"y_scale\":{\"id\":\"5145\",\"type\":\"LinearScale\"}},\"id\":\"5138\",\"subtype\":\"Figure\",\"type\":\"Plot\"},{\"attributes\":{\"data_source\":{\"id\":\"5225\",\"type\":\"ColumnDataSource\"},\"glyph\":{\"id\":\"5228\",\"type\":\"Scatter\"},\"hover_glyph\":null,\"muted_glyph\":{\"id\":\"5230\",\"type\":\"Scatter\"},\"nonselection_glyph\":{\"id\":\"5229\",\"type\":\"Scatter\"},\"selection_glyph\":null,\"view\":{\"id\":\"5232\",\"type\":\"CDSView\"}},\"id\":\"5231\",\"type\":\"GlyphRenderer\"},{\"attributes\":{},\"id\":\"5171\",\"type\":\"BasicTickFormatter\"},{\"attributes\":{},\"id\":\"5338\",\"type\":\"UnionRenderers\"},{\"attributes\":{\"axis_label\":\"pc1\",\"bounds\":\"auto\",\"formatter\":{\"id\":\"5169\",\"type\":\"BasicTickFormatter\"},\"major_label_orientation\":\"horizontal\",\"ticker\":{\"id\":\"5148\",\"type\":\"BasicTicker\"}},\"id\":\"5147\",\"type\":\"LinearAxis\"},{\"attributes\":{},\"id\":\"5145\",\"type\":\"LinearScale\"},{\"attributes\":{\"label\":{\"value\":\"6\"},\"renderers\":[{\"id\":\"5300\",\"type\":\"GlyphRenderer\"}]},\"id\":\"5320\",\"type\":\"LegendItem\"},{\"attributes\":{\"text\":\"\",\"text_color\":{\"value\":\"black\"},\"text_font_size\":{\"value\":\"12pt\"}},\"id\":\"5139\",\"type\":\"Title\"},{\"attributes\":{\"data_source\":{\"id\":\"5294\",\"type\":\"ColumnDataSource\"},\"glyph\":{\"id\":\"5297\",\"type\":\"Scatter\"},\"hover_glyph\":null,\"muted_glyph\":{\"id\":\"5299\",\"type\":\"Scatter\"},\"nonselection_glyph\":{\"id\":\"5298\",\"type\":\"Scatter\"},\"selection_glyph\":null,\"view\":{\"id\":\"5301\",\"type\":\"CDSView\"}},\"id\":\"5300\",\"type\":\"GlyphRenderer\"},{\"attributes\":{\"fill_alpha\":{\"value\":0.1},\"fill_color\":{\"value\":\"#e377c2\"},\"line_alpha\":{\"value\":0.1},\"line_color\":{\"value\":\"#e377c2\"},\"size\":{\"units\":\"screen\",\"value\":5.477225575051661},\"x\":{\"field\":\"pc1\"},\"y\":{\"field\":\"pc2\"}},\"id\":\"5298\",\"type\":\"Scatter\"},{\"attributes\":{\"source\":{\"id\":\"5294\",\"type\":\"ColumnDataSource\"}},\"id\":\"5301\",\"type\":\"CDSView\"},{\"attributes\":{},\"id\":\"5143\",\"type\":\"LinearScale\"},{\"attributes\":{},\"id\":\"5317\",\"type\":\"UnionRenderers\"},{\"attributes\":{\"fill_alpha\":{\"value\":0.2},\"fill_color\":{\"value\":\"#e377c2\"},\"line_alpha\":{\"value\":0.2},\"line_color\":{\"value\":\"#e377c2\"},\"size\":{\"units\":\"screen\",\"value\":5.477225575051661},\"x\":{\"field\":\"pc1\"},\"y\":{\"field\":\"pc2\"}},\"id\":\"5299\",\"type\":\"Scatter\"},{\"attributes\":{\"label\":{\"value\":\"5\"},\"renderers\":[{\"id\":\"5275\",\"type\":\"GlyphRenderer\"}]},\"id\":\"5293\",\"type\":\"LegendItem\"},{\"attributes\":{\"fill_alpha\":{\"value\":0.2},\"fill_color\":{\"value\":\"#d62728\"},\"line_alpha\":{\"value\":0.2},\"line_color\":{\"value\":\"#d62728\"},\"size\":{\"units\":\"screen\",\"value\":5.477225575051661},\"x\":{\"field\":\"pc1\"},\"y\":{\"field\":\"pc2\"}},\"id\":\"5230\",\"type\":\"Scatter\"},{\"attributes\":{\"fill_color\":{\"value\":\"#e377c2\"},\"line_color\":{\"value\":\"#e377c2\"},\"size\":{\"units\":\"screen\",\"value\":5.477225575051661},\"x\":{\"field\":\"pc1\"},\"y\":{\"field\":\"pc2\"}},\"id\":\"5297\",\"type\":\"Scatter\"},{\"attributes\":{\"click_policy\":\"mute\",\"items\":[{\"id\":\"5188\",\"type\":\"LegendItem\"},{\"id\":\"5205\",\"type\":\"LegendItem\"},{\"id\":\"5224\",\"type\":\"LegendItem\"},{\"id\":\"5245\",\"type\":\"LegendItem\"},{\"id\":\"5268\",\"type\":\"LegendItem\"},{\"id\":\"5293\",\"type\":\"LegendItem\"},{\"id\":\"5320\",\"type\":\"LegendItem\"}],\"location\":[0,0]},\"id\":\"5187\",\"type\":\"Legend\"},{\"attributes\":{},\"id\":\"5295\",\"type\":\"Selection\"},{\"attributes\":{\"fill_alpha\":{\"value\":0.1},\"fill_color\":{\"value\":\"#d62728\"},\"line_alpha\":{\"value\":0.1},\"line_color\":{\"value\":\"#d62728\"},\"size\":{\"units\":\"screen\",\"value\":5.477225575051661},\"x\":{\"field\":\"pc1\"},\"y\":{\"field\":\"pc2\"}},\"id\":\"5229\",\"type\":\"Scatter\"},{\"attributes\":{},\"id\":\"5169\",\"type\":\"BasicTickFormatter\"},{\"attributes\":{},\"id\":\"5242\",\"type\":\"UnionRenderers\"},{\"attributes\":{\"fill_color\":{\"value\":\"#d62728\"},\"line_color\":{\"value\":\"#d62728\"},\"size\":{\"units\":\"screen\",\"value\":5.477225575051661},\"x\":{\"field\":\"pc1\"},\"y\":{\"field\":\"pc2\"}},\"id\":\"5228\",\"type\":\"Scatter\"},{\"attributes\":{},\"id\":\"5290\",\"type\":\"UnionRenderers\"},{\"attributes\":{\"callback\":null,\"data\":{\"pc1\":{\"__ndarray__\":\"MDHN3VVV/j8PpM1xwa/9Py5t4apNXLg/UGOIV/Cv1792vAlHxZPfv7QBFRY4fcu/YOkyTCRv8z8J0peQMaXmP2nRqHGoiPY/VfttTFuq2r9R5+UxlpPhP0s+TybcxfU/3bBI1D9w4L9dCxFjQNLov18ikF9RobK/6lD/49gbA0BsjV+sMHbbv/32ZYeAuu2/vNQCNsq24z9VMi5zY1TyP/FtGC7Puuy/1uRojglP6b/rnrNF9Jbjv+Epq9JIusi/ztlLoS5hzb8XOD/1tBfdvxpMlpUs2bM/OEbdCDbl8T+6i6BkuRzVv17SAT1joNG/VMTitsJ7778bkLBtObfXP9CNZrVDNO2/oepxVOa7479IkFfKFK3lv8HRHIdRBtq/D421G/S48b+h5+6TALr0P66PGxOauti/u+36sDSm8T+iXTgdOxrBv9XtQhbjktQ/uqazaL4Q4r86iQvyxhPrv9Ivrn+AW/C/k7u8YPga6r/NNy6qgZ7ov99RZlhLeOC/XeQhYLRO47+cBomUbV/Uv9Z7lUwBYtU//He3Aj+q478h9iMRsVrtvzGuAFLqHuO/HTXvBopq57/5DHo5KLzNv7/53fcxbfK/r3KWsOJ87z9K+Ecr2D3LP/U0TrdF1uq/7616UG6bhb8tvhta/Rv0Pw1j6ILn9tK/0MB4CZFj+L/Oq0KkpuTOv9WEJx78QeM/9O1OrdGh7r96okSVWVHBv/GiE2xyhri//URAHHII1r+N6cm77ueyP0I3w9JeuOK/WCGDF+ja8b83WJSXgWnbvwjCj5Tv9ea/koU1QdlC9L/40brfuN/qvw+3r4+sb+2/du9dXRe65r8MYHog2w3pv4X+/RBWteq/PlSj71Ia8L8l+T1IoOLoP/uuzjFyLaQ/82jbQ4oW5L8hEEGE2KPrv4oiD6xgyeC/Rbl+1Fa807/WwC6CvdLxvzx3ZP0Fe/K/C0auwAmc5b9WDAK8HqrgPwu6fvgyKvU/5nbtraTB5r931GnVepPwv6Q9GhB3Yty/JkXGk9lQ4r+Wp9zm7A7lv8mP7R8zVO2/HXspwpHY6b9keQ/uLpOyP3vojL3fP+q/o9/HJG4F8b/gFkc5A2vgv5sCs3CSW/C/iBzBFf2u8L8rYM9RZ8DAvwz/i0mQMfa/bMfMQT9Y7L+I0NLqkVHxvwKPBKEB+9i/GIKH8lpa8L9LPNuwo4Smv/T8+ZCpdfy/WbX2+45G1b89I0LNg/Tuv/uiE6rtnPC/BSAMT7j93r+p5CR3/hPiv0DiiF1UWM6/7q6llOEo8L8Pm2MfdzPlv7x63P/sBe+/u0s+HCFK8b+N+B65xLLvv6kUe6U57tq/ABu2niZ/9L/s1gm3knLvvw2jXh/XFfK/\",\"dtype\":\"float64\",\"shape\":[129]},\"pc2\":{\"__ndarray__\":\"VMoHFLUe9T8qOzjBWUIEQPK+7ZfXv92/Y8GKEWVSyr8/B6GEYyPVvyqAhTCl+rO/lzohohPT+z8knL+1Ban9PyXrG2n5m/g/KoXGjaW1279M85dKbhTcP/Zj/4zX1/U/Lwf54dnJAkDuJaPWDtX0v1/IFay2k34/U/VxDQEI5z8B6N3Qd5jQP1sbdwkeYOq/xHf89WGM5D9sFEFfpqa/P9gTCDvDz4a/LLhghNm4+j/2nGMUpxf8P9FuPFfvv/4/aLQG+fiS7b93ujKtPaDSP6bEsUnId9G/J5EXxX6B8D+wT7f52JLjP1Us4Cr/cOm/YD2w5KdD9r/e8kwenBzrP0fSNfTq+Po/tceMRfBf9z/2u/xfSMvzv3291zMeNNE/0nwccmhJ5z+my085+Zvjv86bseLRRvo/QFIWCwiVpb8ekRxiauPmv65eHxdWJum/HvmARc+3p7+xiaJsdRvnv3LjnPFnSgNAKTZgN2Um5r+dHFzmq23zPwgBJXtuiN+/toN40wuVBkDjiIHWh6ncvzn441T/+MY/tsrIAPb29j9DltvF9HD0PwIwzM7GqtU/bNetphhY+z9mZY93QrPwvwuu4ARz5Nq/gTwi8PfuAEDCPuxQweq3PynSEFq5HvM/Ya6LQ2k59b+f+Of/zJugP1dsR1uwGuu/Nq69yTKL/z98lrzrQdHsPxSAIsgtdvM/DiWRhSlb6D8cg6nE/2cCwKzvdKe1GNk/irL9FMtm/z94DQqCnDYBwE3eMS0psO4/lN/xU0lv+T9TMwiaMq34v25MOw4WiQdAacp6PUhr97/xVp6GZCEBwPPF6LEr1fO/QDJJjys6978T6gk+T532P2smMk7Y1wDAB3bS5GsL2b9neUR44znqvxNLnFU6T+U/H5IxC7eiDEAxrJ5EYKrpv4QtwvVMcADAg9ymlhZe7L/2k3fwHzL5vx81J6cofbo/hvzqUjGA+794rMW2OnPtv3i3fdHfY9E/IUwtom8G1L9i1lMPQtL0P0JxcvvfIvO/32BejWH67r9ByXTSPgLnv1pBfW910gLACI3cNwY09D/6NPl7mKnov/JPwDco8+2/+IzsUQiW0b8Uv/pDXyr4v6znPBBL+gDAKEnus0yz9r9TGOZdapXvv+be0TVNdf6/Ix7hYmlk9L+0R4J1C1Xvv/bb7B79Bfe/CoJ02HWn/L8z7+qN8yXqv93qzNpZD/e/uLKFOYO4AEC4hqJmGQfbvwryh3SytfY/sMahyMfnBsAKAMU2Kl/4vwC5u/yyQwFAxou5pGl8578yOZkkWBv2v/l2Nw/CKQDAf+MsHJyHAsAwEPEUGhQBwCdHnK0Fcvi/e1BHEBBi4T+432f3GggAwLx2PnpkAgHA\",\"dtype\":\"float64\",\"shape\":[129]},\"predictions\":[5,5,5,5,5,5,5,5,5,5,5,5,5,5,5,5,5,5,5,5,5,5,5,5,5,5,5,5,5,5,5,5,5,5,5,5,5,5,5,5,5,5,5,5,5,5,5,5,5,5,5,5,5,5,5,5,5,5,5,5,5,5,5,5,5,5,5,5,5,5,5,5,5,5,5,5,5,5,5,5,5,5,5,5,5,5,5,5,5,5,5,5,5,5,5,5,5,5,5,5,5,5,5,5,5,5,5,5,5,5,5,5,5,5,5,5,5,5,5,5,5,5,5,5,5,5,5,5,5]},\"selected\":{\"id\":\"5270\",\"type\":\"Selection\"},\"selection_policy\":{\"id\":\"5317\",\"type\":\"UnionRenderers\"}},\"id\":\"5269\",\"type\":\"ColumnDataSource\"},{\"attributes\":{\"data_source\":{\"id\":\"5269\",\"type\":\"ColumnDataSource\"},\"glyph\":{\"id\":\"5272\",\"type\":\"Scatter\"},\"hover_glyph\":null,\"muted_glyph\":{\"id\":\"5274\",\"type\":\"Scatter\"},\"nonselection_glyph\":{\"id\":\"5273\",\"type\":\"Scatter\"},\"selection_glyph\":null,\"view\":{\"id\":\"5276\",\"type\":\"CDSView\"}},\"id\":\"5275\",\"type\":\"GlyphRenderer\"},{\"attributes\":{\"source\":{\"id\":\"5269\",\"type\":\"ColumnDataSource\"}},\"id\":\"5276\",\"type\":\"CDSView\"},{\"attributes\":{\"callback\":null,\"data\":{\"pc1\":{\"__ndarray__\":\"atwsppKTCkAArGQlILAKQOzaZPqqjCFAgtirJQBj7z86piE0wzDdPw==\",\"dtype\":\"float64\",\"shape\":[5]},\"pc2\":{\"__ndarray__\":\"QA/A+k+QBsDHVpOcoxf8P8ozs33FxOy/z2I9o67E+r8VfPXoGavpvw==\",\"dtype\":\"float64\",\"shape\":[5]},\"predictions\":[6,6,6,6,6]},\"selected\":{\"id\":\"5295\",\"type\":\"Selection\"},\"selection_policy\":{\"id\":\"5338\",\"type\":\"UnionRenderers\"}},\"id\":\"5294\",\"type\":\"ColumnDataSource\"},{\"attributes\":{\"dimension\":1,\"grid_line_color\":null,\"ticker\":{\"id\":\"5153\",\"type\":\"BasicTicker\"}},\"id\":\"5156\",\"type\":\"Grid\"},{\"attributes\":{\"source\":{\"id\":\"5225\",\"type\":\"ColumnDataSource\"}},\"id\":\"5232\",\"type\":\"CDSView\"},{\"attributes\":{\"fill_alpha\":{\"value\":0.2},\"fill_color\":{\"value\":\"#8c564b\"},\"line_alpha\":{\"value\":0.2},\"line_color\":{\"value\":\"#8c564b\"},\"size\":{\"units\":\"screen\",\"value\":5.477225575051661},\"x\":{\"field\":\"pc1\"},\"y\":{\"field\":\"pc2\"}},\"id\":\"5274\",\"type\":\"Scatter\"},{\"attributes\":{\"axis_label\":\"pc2\",\"bounds\":\"auto\",\"formatter\":{\"id\":\"5171\",\"type\":\"BasicTickFormatter\"},\"major_label_orientation\":\"horizontal\",\"ticker\":{\"id\":\"5153\",\"type\":\"BasicTicker\"}},\"id\":\"5152\",\"type\":\"LinearAxis\"},{\"attributes\":{},\"id\":\"5153\",\"type\":\"BasicTicker\"},{\"attributes\":{},\"id\":\"5148\",\"type\":\"BasicTicker\"},{\"attributes\":{\"grid_line_color\":null,\"ticker\":{\"id\":\"5148\",\"type\":\"BasicTicker\"}},\"id\":\"5151\",\"type\":\"Grid\"},{\"attributes\":{\"fill_color\":{\"value\":\"#8c564b\"},\"line_color\":{\"value\":\"#8c564b\"},\"size\":{\"units\":\"screen\",\"value\":5.477225575051661},\"x\":{\"field\":\"pc1\"},\"y\":{\"field\":\"pc2\"}},\"id\":\"5272\",\"type\":\"Scatter\"},{\"attributes\":{},\"id\":\"5270\",\"type\":\"Selection\"},{\"attributes\":{},\"id\":\"5157\",\"type\":\"SaveTool\"},{\"attributes\":{},\"id\":\"5158\",\"type\":\"PanTool\"},{\"attributes\":{\"label\":{\"value\":\"2\"},\"renderers\":[{\"id\":\"5212\",\"type\":\"GlyphRenderer\"}]},\"id\":\"5224\",\"type\":\"LegendItem\"},{\"attributes\":{\"callback\":null,\"renderers\":[{\"id\":\"5179\",\"type\":\"GlyphRenderer\"},{\"id\":\"5195\",\"type\":\"GlyphRenderer\"},{\"id\":\"5212\",\"type\":\"GlyphRenderer\"},{\"id\":\"5231\",\"type\":\"GlyphRenderer\"},{\"id\":\"5252\",\"type\":\"GlyphRenderer\"},{\"id\":\"5275\",\"type\":\"GlyphRenderer\"},{\"id\":\"5300\",\"type\":\"GlyphRenderer\"}],\"tags\":[\"hv_created\"],\"tooltips\":[[\"predictions\",\"@{predictions}\"],[\"pc1\",\"@{pc1}\"],[\"pc2\",\"@{pc2}\"]]},\"id\":\"5131\",\"type\":\"HoverTool\"},{\"attributes\":{},\"id\":\"5159\",\"type\":\"WheelZoomTool\"},{\"attributes\":{},\"id\":\"5221\",\"type\":\"UnionRenderers\"},{\"attributes\":{\"overlay\":{\"id\":\"5186\",\"type\":\"BoxAnnotation\"}},\"id\":\"5160\",\"type\":\"BoxZoomTool\"},{\"attributes\":{\"source\":{\"id\":\"5206\",\"type\":\"ColumnDataSource\"}},\"id\":\"5213\",\"type\":\"CDSView\"},{\"attributes\":{},\"id\":\"5161\",\"type\":\"ResetTool\"},{\"attributes\":{\"active_drag\":\"auto\",\"active_inspect\":\"auto\",\"active_multi\":null,\"active_scroll\":\"auto\",\"active_tap\":\"auto\",\"tools\":[{\"id\":\"5131\",\"type\":\"HoverTool\"},{\"id\":\"5157\",\"type\":\"SaveTool\"},{\"id\":\"5158\",\"type\":\"PanTool\"},{\"id\":\"5159\",\"type\":\"WheelZoomTool\"},{\"id\":\"5160\",\"type\":\"BoxZoomTool\"},{\"id\":\"5161\",\"type\":\"ResetTool\"}]},\"id\":\"5162\",\"type\":\"Toolbar\"},{\"attributes\":{\"callback\":null,\"data\":{\"pc1\":{\"__ndarray__\":\"Ee1uertnFUD6grNG7GQcQOUcOdbZVgBA\",\"dtype\":\"float64\",\"shape\":[3]},\"pc2\":{\"__ndarray__\":\"+0qt75xA9L8CxAHeigr3vwj3jG62xQ3A\",\"dtype\":\"float64\",\"shape\":[3]},\"predictions\":[3,3,3]},\"selected\":{\"id\":\"5226\",\"type\":\"Selection\"},\"selection_policy\":{\"id\":\"5265\",\"type\":\"UnionRenderers\"}},\"id\":\"5225\",\"type\":\"ColumnDataSource\"},{\"attributes\":{\"callback\":null,\"data\":{\"pc1\":{\"__ndarray__\":\"SktcWGIP7T9BlK8lkaQHQMcgzSj1WxFAqCNics3lAUCiY+SyyBwPQFdaoI73LPk/6C/60GZB4T8Z30HZBS7xP5S6o0iIK9c/Okw/6F6M9D9uAfGaKA3ivwn3rY7bfwxAhDWqdCGgI0CON1aX+5YNQLa/J5S5iLU/JozOdYGuk7/Y9ZbYa/wAQOcstrAY+uM/IAm8jHN10b9MSR6wunPlPx/ZgezwVec/QQhMnX33gL8FVS2zmibmPw==\",\"dtype\":\"float64\",\"shape\":[23]},\"pc2\":{\"__ndarray__\":\"a9d3z7h477+HlmW7h6jzP9Anz4kf8vG/fEi+AAog/b8kNiRwNnS0vwskgwiLRABA3Fgs+Vpo5b+bwOppU8DOvy9CtaOkCfm/zFDejsRf97/hAhMKTd0CwIgj3yX4g/q/TQ6HWC+H8r/Wa9aVqJnuv6Z97FWZlwPAVYd5JEL+8r+bMnFPl5r5v/ro9pMyNwjA7W3cys4y77+ut63g7dcGwEj8n90Z6QXAHh8/ffndBcDL3jt0eLYEwA==\",\"dtype\":\"float64\",\"shape\":[23]},\"predictions\":[2,2,2,2,2,2,2,2,2,2,2,2,2,2,2,2,2,2,2,2,2,2,2]},\"selected\":{\"id\":\"5207\",\"type\":\"Selection\"},\"selection_policy\":{\"id\":\"5242\",\"type\":\"UnionRenderers\"}},\"id\":\"5206\",\"type\":\"ColumnDataSource\"},{\"attributes\":{},\"id\":\"5265\",\"type\":\"UnionRenderers\"},{\"attributes\":{\"source\":{\"id\":\"5246\",\"type\":\"ColumnDataSource\"}},\"id\":\"5253\",\"type\":\"CDSView\"},{\"attributes\":{\"fill_alpha\":{\"value\":0.1},\"fill_color\":{\"value\":\"#8c564b\"},\"line_alpha\":{\"value\":0.1},\"line_color\":{\"value\":\"#8c564b\"},\"size\":{\"units\":\"screen\",\"value\":5.477225575051661},\"x\":{\"field\":\"pc1\"},\"y\":{\"field\":\"pc2\"}},\"id\":\"5273\",\"type\":\"Scatter\"},{\"attributes\":{\"fill_alpha\":{\"value\":0.2},\"fill_color\":{\"value\":\"#2ca02c\"},\"line_alpha\":{\"value\":0.2},\"line_color\":{\"value\":\"#2ca02c\"},\"size\":{\"units\":\"screen\",\"value\":5.477225575051661},\"x\":{\"field\":\"pc1\"},\"y\":{\"field\":\"pc2\"}},\"id\":\"5211\",\"type\":\"Scatter\"},{\"attributes\":{\"fill_alpha\":{\"value\":0.2},\"fill_color\":{\"value\":\"#ff7f0e\"},\"line_alpha\":{\"value\":0.2},\"line_color\":{\"value\":\"#ff7f0e\"},\"size\":{\"units\":\"screen\",\"value\":5.477225575051661},\"x\":{\"field\":\"pc1\"},\"y\":{\"field\":\"pc2\"}},\"id\":\"5194\",\"type\":\"Scatter\"},{\"attributes\":{\"bottom_units\":\"screen\",\"fill_alpha\":{\"value\":0.5},\"fill_color\":{\"value\":\"lightgrey\"},\"left_units\":\"screen\",\"level\":\"overlay\",\"line_alpha\":{\"value\":1.0},\"line_color\":{\"value\":\"black\"},\"line_dash\":[4,4],\"line_width\":{\"value\":2},\"render_mode\":\"css\",\"right_units\":\"screen\",\"top_units\":\"screen\"},\"id\":\"5186\",\"type\":\"BoxAnnotation\"},{\"attributes\":{\"fill_alpha\":{\"value\":0.2},\"fill_color\":{\"value\":\"#9467bd\"},\"line_alpha\":{\"value\":0.2},\"line_color\":{\"value\":\"#9467bd\"},\"size\":{\"units\":\"screen\",\"value\":5.477225575051661},\"x\":{\"field\":\"pc1\"},\"y\":{\"field\":\"pc2\"}},\"id\":\"5251\",\"type\":\"Scatter\"},{\"attributes\":{\"data_source\":{\"id\":\"5206\",\"type\":\"ColumnDataSource\"},\"glyph\":{\"id\":\"5209\",\"type\":\"Scatter\"},\"hover_glyph\":null,\"muted_glyph\":{\"id\":\"5211\",\"type\":\"Scatter\"},\"nonselection_glyph\":{\"id\":\"5210\",\"type\":\"Scatter\"},\"selection_glyph\":null,\"view\":{\"id\":\"5213\",\"type\":\"CDSView\"}},\"id\":\"5212\",\"type\":\"GlyphRenderer\"},{\"attributes\":{\"label\":{\"value\":\"4\"},\"renderers\":[{\"id\":\"5252\",\"type\":\"GlyphRenderer\"}]},\"id\":\"5268\",\"type\":\"LegendItem\"},{\"attributes\":{\"fill_alpha\":{\"value\":0.1},\"fill_color\":{\"value\":\"#ff7f0e\"},\"line_alpha\":{\"value\":0.1},\"line_color\":{\"value\":\"#ff7f0e\"},\"size\":{\"units\":\"screen\",\"value\":5.477225575051661},\"x\":{\"field\":\"pc1\"},\"y\":{\"field\":\"pc2\"}},\"id\":\"5193\",\"type\":\"Scatter\"},{\"attributes\":{\"data_source\":{\"id\":\"5246\",\"type\":\"ColumnDataSource\"},\"glyph\":{\"id\":\"5249\",\"type\":\"Scatter\"},\"hover_glyph\":null,\"muted_glyph\":{\"id\":\"5251\",\"type\":\"Scatter\"},\"nonselection_glyph\":{\"id\":\"5250\",\"type\":\"Scatter\"},\"selection_glyph\":null,\"view\":{\"id\":\"5253\",\"type\":\"CDSView\"}},\"id\":\"5252\",\"type\":\"GlyphRenderer\"},{\"attributes\":{\"fill_color\":{\"value\":\"#ff7f0e\"},\"line_color\":{\"value\":\"#ff7f0e\"},\"size\":{\"units\":\"screen\",\"value\":5.477225575051661},\"x\":{\"field\":\"pc1\"},\"y\":{\"field\":\"pc2\"}},\"id\":\"5192\",\"type\":\"Scatter\"},{\"attributes\":{\"fill_alpha\":{\"value\":0.1},\"fill_color\":{\"value\":\"#2ca02c\"},\"line_alpha\":{\"value\":0.1},\"line_color\":{\"value\":\"#2ca02c\"},\"size\":{\"units\":\"screen\",\"value\":5.477225575051661},\"x\":{\"field\":\"pc1\"},\"y\":{\"field\":\"pc2\"}},\"id\":\"5210\",\"type\":\"Scatter\"},{\"attributes\":{\"fill_alpha\":{\"value\":0.1},\"fill_color\":{\"value\":\"#9467bd\"},\"line_alpha\":{\"value\":0.1},\"line_color\":{\"value\":\"#9467bd\"},\"size\":{\"units\":\"screen\",\"value\":5.477225575051661},\"x\":{\"field\":\"pc1\"},\"y\":{\"field\":\"pc2\"}},\"id\":\"5250\",\"type\":\"Scatter\"},{\"attributes\":{\"label\":{\"value\":\"3\"},\"renderers\":[{\"id\":\"5231\",\"type\":\"GlyphRenderer\"}]},\"id\":\"5245\",\"type\":\"LegendItem\"},{\"attributes\":{\"callback\":null,\"data\":{\"pc1\":{\"__ndarray__\":\"z9nvYgeyGEBl67zHvwbsPz71vg4MU/k/yesLbHHqAEAyXItHAgn9P0mgExa8RAVAS+vTJJQo1j8PiOPfVC+hP2r9AMDHgu2/+rswnYSk5T/6m6uwh+TyPw1XhhKvmf8/gz3Ii8/55D/VZMcWGeb2P5IxLbNfoCZA6ie0MmdoAkChPMRC7brWvyEcIFglSQNA9p/7NKsp1D8V09JtP/jdP27tlnors92/RAGC9Z237D/nEmpJA3TUPzNARkitS/a/BvPRD05woz8nstgS/z3DP7nLzGnveQJA/ZBHnfuf0z9QAB+KU4m6P6icKuQrHPW/2pMQutia7T+3g0PNHp/yP8XEUgRX+cS/OkAleLhsyj/fxhd+5/PsvxZ5fey76e2/pLT0N9ZVpL9rxZRivo9pP6aKCfkccdG/yxpAKUJd5b+VRygiat7iv9EiJlRVLw1AzWNIH59h4L+P0S3ZKaPbP4vvPjRrT/U/PUvuS9Nh8T+vHMWp18TFP+ed7oskIOE/Pi+kFo/h2D/X6ar06krvv08HQr/ISNk/Q5C3LU2T+T9AyXo+rUebP5ymJNWHPM2/EkmVWnlzz7/dSjgC9MLLv8xv27+i3dC/kI1G4r9v0L+TraGKG+/zvw==\",\"dtype\":\"float64\",\"shape\":[59]},\"pc2\":{\"__ndarray__\":\"hLFA4ocdCkAi4RgmuommP8EZbw6bL/c/8x82J9Nyxz92rrJHBMrvP6Gp7MDtNfU/1gFLJGjQ6r8c1XIf26XkP5Y2MEAghu2/LqrNhc7x1r8cnjJi2v3Gv2Oi3I1yEfY/aubHZM6G9r/32DKK4UDtv+2179uDldQ/m9RoVcSg7T/h+gYgWzX/Pw9V76KrdMm/Qr+0myPFwb9FMxq3NKTkvzB9Kw38ZAHAG2iaQ1OSu7/bVa43xHnIP3Hx+FsWP/i/ErU2eaEG6r8izq9I3Z7gv9tKwCi5kNo/bgUXAtht8b+2QoG6eszqv55HLYv+g4S/QF2ojkYE8L/sc6jiC0bjP8EWBaW9c+Q/HsjNxjsO+D+AK7kfZfHhv59iIRIreOU/vV0GOJ4w579ygxN597zsv6e0pcanxPS/TWKjywEN+7/XPtcCIzbXv4LN3+FV1Om/K4xD2nw66D9NZWyuPYr2v++2a0tSg/i/blaSVEDy9b/nLclJUrXvv38nV38cj8e/b6NTulbuBUAW5b5V48+gP5Kidt2/OP2/CyUmavxM4r93Ov6JC//0vwGMpK2dEQbA7AbvlCHGAcBYqDRbzwQAwAzsiNR5Vf2/hc/i49MT/r//ADDZTWLFvw==\",\"dtype\":\"float64\",\"shape\":[59]},\"predictions\":[4,4,4,4,4,4,4,4,4,4,4,4,4,4,4,4,4,4,4,4,4,4,4,4,4,4,4,4,4,4,4,4,4,4,4,4,4,4,4,4,4,4,4,4,4,4,4,4,4,4,4,4,4,4,4,4,4,4,4]},\"selected\":{\"id\":\"5247\",\"type\":\"Selection\"},\"selection_policy\":{\"id\":\"5290\",\"type\":\"UnionRenderers\"}},\"id\":\"5246\",\"type\":\"ColumnDataSource\"},{\"attributes\":{\"callback\":null,\"data\":{\"pc1\":{\"__ndarray__\":\"Rq2YZ76uMEA=\",\"dtype\":\"float64\",\"shape\":[1]},\"pc2\":{\"__ndarray__\":\"xhvGJNkDFsA=\",\"dtype\":\"float64\",\"shape\":[1]},\"predictions\":[1]},\"selected\":{\"id\":\"5190\",\"type\":\"Selection\"},\"selection_policy\":{\"id\":\"5221\",\"type\":\"UnionRenderers\"}},\"id\":\"5189\",\"type\":\"ColumnDataSource\"},{\"attributes\":{\"fill_color\":{\"value\":\"#2ca02c\"},\"line_color\":{\"value\":\"#2ca02c\"},\"size\":{\"units\":\"screen\",\"value\":5.477225575051661},\"x\":{\"field\":\"pc1\"},\"y\":{\"field\":\"pc2\"}},\"id\":\"5209\",\"type\":\"Scatter\"},{\"attributes\":{\"fill_color\":{\"value\":\"#9467bd\"},\"line_color\":{\"value\":\"#9467bd\"},\"size\":{\"units\":\"screen\",\"value\":5.477225575051661},\"x\":{\"field\":\"pc1\"},\"y\":{\"field\":\"pc2\"}},\"id\":\"5249\",\"type\":\"Scatter\"},{\"attributes\":{},\"id\":\"5247\",\"type\":\"Selection\"},{\"attributes\":{\"callback\":null,\"data\":{\"pc1\":{\"__ndarray__\":\"cH20kt458T8TTKEDXpoHQMHLzlwj/94/Ezt1BFn/qL89tsmm8mHzv/F4axWQU9S/D2+5+fWN6T+cFipkO6nvvzP9lHBmpOQ/dtmQ/NtX279SgCemPuvvP9TXzcLw6eW/wuSHaiK06T/k5u7o83Tjv/zsJQ/yxco/WpcqnduxxT+oHzrkDkfgv155cBL9pOa/KFNR2RlbBUB7hnB3doPmv5bJ39b4M/e/MltcHVIb7r8+4O+1H8DOv5fUVV645t8/nDkbJzkJ1D8jVODWb6Ttv7tnL8C7Z/S//L5lTz5ltD/061woz2jQP3QaeiTtbPw/F9rLCry71D/U47gnn+nUv3igNrsvVNG/fM0RmCci8D/yMh/Bo8cAQMpugPTxnPa/SaWE+khHyz9hHjAZiH/jP0QPiPaeAtg/R4DH2TjC0b9A5tF8LJ3uv2ILQcnIFNg/M+ljQMMW2T94QIaH7i70v1XaFVuXdua/2J9pLc8goj+XB4F35Dn7v+XVHJEerva/X3HTEULb2L8Yj3lNGofSvwbwCew8Leq/CTlM6+da8L8QOgtNA2zPv/BnS/8Evbq/VrN+td9N0j9PfL0Uz4vxv669+l8jRPG/npf1KYUn57++CVQ+zlD1v2/Rp6ukVvg/JIEW157+97/RIb0X5X7FvzTfh3rChfi/XrdhDB9J+L9yAZQhwD/cv8cQ2wsydey/n4SjtGmK9b9oiasZJ53uP00fGjufw+K/MBFEHuth8D9FzJmYD6nnv4STTr0mhuY/3AzBCrsqxL8Cp/61Pw/zv5VY9gM8buG/0x7FgW4I9T8cNtoQM1bWv0S18Lf5nNG/EohnYFc+9L/1AB6IClzZP6kyixMZIvG/v927uuxx4b+3YH+qpBj6vx5IvG4mNe2//NbKI4vQ8L/SBTAQ8XLav6BT8oYz4Oo/3F9O047Dy7/mqvJAcfPxv1Evxyg1X+i/nBxcYlzsqz8ZkONmo1P2vyRNEIz0DtU/fTC8eu5Vzj+JpyJj7Xbyv3O2kUWUZOU/s165SNpY+D8rfggFW3rgv4v/v+v5E/K/+TLZXPhD5b8erDmVX87rv7Ds8d/n4NQ/pZ3id3/g/b+6HbWaX1nPv4sExvE/Ueu/wpOwNX++6b+V1I9E7gziv8K5yqqQrvW/G7Pu1osr6r/XPpv+8BkBwG9oxTdANNa/NpkNPbYm879JVGRPp0T0v1V9aDxmMua/QchtC2BW5b/kIfP/Y0DGv/c3i08VFv2/Bi0UzfiQ+787NyLwwOgAwHDIk1Oqrfq/MI40iuEY5b+sLunuxu7jv3245PoE/uC/bSqVLEoq+L+v46uNrn/qv6fHgbIMyf2/bWoV4YMH7L++ZVvWzdfov1aS+zOpGu+/FPvYGUR41b8zInHLr/b3vzWndexXj+i/0K50ZLWt/r/n8+pXAfzyv0OQ2mnWNfm/g6z3/2cPA8AY8yyLy9riv9Yzd/jz0O+/ChAzLrRDpz9I0Yn2eMfxv2ho/RN0g/K/1oTL42Lk9L+uMsHyhZzGv5R5OelqBeu/u/zM7X7h4r+rPPb9swLaPxbPp46Xxfu/W0giIZtc8b/Hma3fo+/3v4V6HOTDbf2/GCsrNjzL4L8BhLCgfRj2vyA4qX7TNuu/cKRa5enl5L/x/54lKvLsvx9gZ8GmmPu/SEq3WbQg57+o5zPnODDAP0y8pg78Lfk/nLzK3Rac+b8NahKKYXT4v7U7sL/l38W/24E2MuuC+b8=\",\"dtype\":\"float64\",\"shape\":[163]},\"pc2\":{\"__ndarray__\":\"Q7jWOHKW/z+AxwDik7kTQPA8HB/gi/o/XE5xr5wN9D9l8qyuj7rNvyX8QxsZUdQ/CxHtGW0q/z8AAL3TjRC+P7aLM1tfoPI/+YjI0N2l8z++DyrDtlPCPzop1+1SdNk/FMYMS47vAUCZeiTxk8Lgv/y/UQ3PwO4/ntMgQ9uj7j9zT9kVbineP/PomFWosPI/XIx1GH3gAkCnKbsYau/oP27bPWZk2fM/Wef94jMs8z9K67uFEfXzP652Gcm4OfE/XvRSEEn7EUBuA+iX/xvfv5T8i4O7uN8/XCuzW1AU4z9vVXfNWvkCQEqenuCVaP0/GEjChlGJ+j/kmF++KF/RP3HOv1E1VA1AVS7CX5fzCEBErGOW0ucBQBFt1zKoEu4/Gz0J1s0J4T+YvHUoWai4vz7t8RZHcAlA7wfvhzNh+j9+D7egoJTyv6cu51gPtP0/zSib8CY0+T8uXP2d91rSv6lFAVMqnee/tV5wM7wm1r9FuLLOCx3sv5E2HOS37dE/YHmPq9HgnT+dPs2Ni/3uPx5pStrMfbC/Kx9LerXZ5T/n4YPNkbzXP0LGeHQSL/I/9kmIswEl+T+I2eqF/RMAwMLHlYkZIdk/TCL6Gfdm3r8t44H++tD6v4+vbFryBhhAHCCAHDzu+r/3QXbzwjHtP+EBcCkgzdW/DvjNHMLA079iouBv6zLiPxCJJ6OcagJAGvEUx1lX3j82Fg16o8v4P2yC9S8e0Lw//f0BZpozAED4f6F3b8fhv+tiaLS/eQJAeBgAOABwC0D67J0juTzmP10cX0DdVuG/xYt3mPUrAkD9ufOveZHgv42lm0xacsI/B/2pLdVg8r+CJVGjP1nwP5vlTO7ZBMu/UnBUkzs1C0D03c+Kcjn2v0ERFX2d+u8/AbseIBXn8b8Qg+9swAgAQFUTBCMHSvc/8Eo3/pUL0T9Ei8X8TIa+P79nPgbF79O/+yrA5KPCAUBv2epQl9bDv1qFo4L3Vms/l1XaaiwE8z99Ri2leZXdv7ndMbpgx9M/48+Qo0SpAkBjxfiYqFX0PzDVylAWCOs/XHbAmFnN3b+9ufbAEZDfPxkt5XkOYvA/KD4Ba9TRA0DbHxciOTLwP66hFs1L1uu/o2rAZTuU8L8gLQFDcnvUPyIqgOksuuI/qcBtDnT63T8V2+uK6N7zvxsmEVvmTu6/SD6yBLjn2D+jDWwktYIAQJsM4QtYZ9k/w6C9GeXn4D99uJwCGTPwP2o5Q+ECk+q/nF7PZJLU97+l6ENx4IT0v9qY2mVEkQpA7tWNeL8F5j+6hQETSmveP/Ql2tFis/Y/BhoMMspHzT+hsgTk974HQPfxrm2f8LM/j84rvQw91j/jfON1hz22PzM7rep/KPG/EpMu8ZQb1L+hIlmQcZfWP2wRQz7ZXOm/SH+ckCs3AsDczYoVPwrDPwnnddekO/S/FQyTU4xL4j+OhwOtEjrgv0drAMySKQBACnEh3WWf9D9gU/efbw3rv+ssj9EP4vm/89c1gydy+L9j9oflo+O8Pw2GOhc1/QDAvxAL8JWzAMDKWog7g0/5P77j/L/4JvW/vICKzyqh/L+nOlVfF1jZv7iY4J8mV+y/Q4t+OUG02b+qoigh21XqvyOj11gK+bu/h+4qldnh4r88Hq7zGgvHP2gL9+b9nPy/QSqFgpD82r+jPk9+XFbuv/lK0HISbQFAFzG6PQTb+7+r79SVljv8vyzx95cGwdS/zfz23rN7+r8=\",\"dtype\":\"float64\",\"shape\":[163]},\"predictions\":[0,0,0,0,0,0,0,0,0,0,0,0,0,0,0,0,0,0,0,0,0,0,0,0,0,0,0,0,0,0,0,0,0,0,0,0,0,0,0,0,0,0,0,0,0,0,0,0,0,0,0,0,0,0,0,0,0,0,0,0,0,0,0,0,0,0,0,0,0,0,0,0,0,0,0,0,0,0,0,0,0,0,0,0,0,0,0,0,0,0,0,0,0,0,0,0,0,0,0,0,0,0,0,0,0,0,0,0,0,0,0,0,0,0,0,0,0,0,0,0,0,0,0,0,0,0,0,0,0,0,0,0,0,0,0,0,0,0,0,0,0,0,0,0,0,0,0,0,0,0,0,0,0,0,0,0,0,0,0,0,0,0,0]},\"selected\":{\"id\":\"5174\",\"type\":\"Selection\"},\"selection_policy\":{\"id\":\"5202\",\"type\":\"UnionRenderers\"}},\"id\":\"5173\",\"type\":\"ColumnDataSource\"},{\"attributes\":{\"fill_color\":{\"value\":\"#1f77b4\"},\"line_color\":{\"value\":\"#1f77b4\"},\"size\":{\"units\":\"screen\",\"value\":5.477225575051661},\"x\":{\"field\":\"pc1\"},\"y\":{\"field\":\"pc2\"}},\"id\":\"5176\",\"type\":\"Scatter\"},{\"attributes\":{},\"id\":\"5174\",\"type\":\"Selection\"},{\"attributes\":{\"fill_alpha\":{\"value\":0.2},\"fill_color\":{\"value\":\"#1f77b4\"},\"line_alpha\":{\"value\":0.2},\"line_color\":{\"value\":\"#1f77b4\"},\"size\":{\"units\":\"screen\",\"value\":5.477225575051661},\"x\":{\"field\":\"pc1\"},\"y\":{\"field\":\"pc2\"}},\"id\":\"5178\",\"type\":\"Scatter\"},{\"attributes\":{\"fill_alpha\":{\"value\":0.1},\"fill_color\":{\"value\":\"#1f77b4\"},\"line_alpha\":{\"value\":0.1},\"line_color\":{\"value\":\"#1f77b4\"},\"size\":{\"units\":\"screen\",\"value\":5.477225575051661},\"x\":{\"field\":\"pc1\"},\"y\":{\"field\":\"pc2\"}},\"id\":\"5177\",\"type\":\"Scatter\"},{\"attributes\":{\"callback\":null,\"end\":6.0067838791691335,\"reset_end\":6.0067838791691335,\"reset_start\":-5.503758024779875,\"start\":-5.503758024779875,\"tags\":[[[\"pc2\",\"pc2\",null]]]},\"id\":\"5130\",\"type\":\"Range1d\"},{\"attributes\":{},\"id\":\"5207\",\"type\":\"Selection\"},{\"attributes\":{},\"id\":\"5226\",\"type\":\"Selection\"},{\"attributes\":{\"source\":{\"id\":\"5173\",\"type\":\"ColumnDataSource\"}},\"id\":\"5180\",\"type\":\"CDSView\"},{\"attributes\":{\"data_source\":{\"id\":\"5173\",\"type\":\"ColumnDataSource\"},\"glyph\":{\"id\":\"5176\",\"type\":\"Scatter\"},\"hover_glyph\":null,\"muted_glyph\":{\"id\":\"5178\",\"type\":\"Scatter\"},\"nonselection_glyph\":{\"id\":\"5177\",\"type\":\"Scatter\"},\"selection_glyph\":null,\"view\":{\"id\":\"5180\",\"type\":\"CDSView\"}},\"id\":\"5179\",\"type\":\"GlyphRenderer\"},{\"attributes\":{\"callback\":null,\"end\":16.682592844748136,\"reset_end\":16.682592844748136,\"reset_start\":-2.3825225827654903,\"start\":-2.3825225827654903,\"tags\":[[[\"pc1\",\"pc1\",null]]]},\"id\":\"5129\",\"type\":\"Range1d\"},{\"attributes\":{\"label\":{\"value\":\"1\"},\"renderers\":[{\"id\":\"5195\",\"type\":\"GlyphRenderer\"}]},\"id\":\"5205\",\"type\":\"LegendItem\"},{\"attributes\":{\"source\":{\"id\":\"5189\",\"type\":\"ColumnDataSource\"}},\"id\":\"5196\",\"type\":\"CDSView\"},{\"attributes\":{\"label\":{\"value\":\"0\"},\"renderers\":[{\"id\":\"5179\",\"type\":\"GlyphRenderer\"}]},\"id\":\"5188\",\"type\":\"LegendItem\"},{\"attributes\":{\"data_source\":{\"id\":\"5189\",\"type\":\"ColumnDataSource\"},\"glyph\":{\"id\":\"5192\",\"type\":\"Scatter\"},\"hover_glyph\":null,\"muted_glyph\":{\"id\":\"5194\",\"type\":\"Scatter\"},\"nonselection_glyph\":{\"id\":\"5193\",\"type\":\"Scatter\"},\"selection_glyph\":null,\"view\":{\"id\":\"5196\",\"type\":\"CDSView\"}},\"id\":\"5195\",\"type\":\"GlyphRenderer\"},{\"attributes\":{},\"id\":\"5202\",\"type\":\"UnionRenderers\"},{\"attributes\":{},\"id\":\"5190\",\"type\":\"Selection\"}],\"root_ids\":[\"5138\"]},\"title\":\"Bokeh Application\",\"version\":\"1.3.4\"}};\n",
       "  var render_items = [{\"docid\":\"e5224eb3-963b-4017-99e4-b32a6787ec77\",\"roots\":{\"5138\":\"596090ee-7894-44df-b25b-a10993d50489\"}}];\n",
       "  root.Bokeh.embed.embed_items_notebook(docs_json, render_items);\n",
       "\n",
       "  }\n",
       "  if (root.Bokeh !== undefined) {\n",
       "    embed_document(root);\n",
       "  } else {\n",
       "    var attempts = 0;\n",
       "    var timer = setInterval(function(root) {\n",
       "      if (root.Bokeh !== undefined) {\n",
       "        embed_document(root);\n",
       "        clearInterval(timer);\n",
       "      }\n",
       "      attempts++;\n",
       "      if (attempts > 100) {\n",
       "        console.log(\"Bokeh: ERROR: Unable to run BokehJS code because BokehJS library is missing\");\n",
       "        clearInterval(timer);\n",
       "      }\n",
       "    }, 10, root)\n",
       "  }\n",
       "})(window);</script>"
      ],
      "text/plain": [
       ":NdOverlay   [predictions]\n",
       "   :Scatter   [pc1]   (pc2)"
      ]
     },
     "execution_count": 159,
     "metadata": {
      "application/vnd.holoviews_exec.v0+json": {
       "id": "5138"
      }
     },
     "output_type": "execute_result"
    }
   ],
   "source": [
    "sp500_pca = pd.DataFrame(\n",
    "    data=sp500_pca, columns=[\"pc1\", \"pc2\", 'pc3', 'pc4', 'pc5', 'pc6']\n",
    ")\n",
    "\n",
    "sp500_pca_pred = pd.concat([sp500_pca, predictions], axis=1)\n",
    "sp500_pca_pred.hvplot.scatter(x='pc1', y='pc2', by='predictions')"
   ]
  },
  {
   "cell_type": "code",
   "execution_count": 160,
   "metadata": {},
   "outputs": [
    {
     "data": {
      "application/vnd.plotly.v1+json": {
       "config": {
        "plotlyServerURL": "https://plot.ly"
       },
       "data": [
        {
         "hoverlabel": {
          "namelength": 0
         },
         "hovertemplate": "pc1=%{x}<br>pc2=%{y}<br>pc3=%{z}<br>predictions=%{marker.color}",
         "legendgroup": "",
         "marker": {
          "color": [
           5,
           5,
           5,
           0,
           0,
           0,
           5,
           0,
           0,
           4,
           5,
           0,
           5,
           4,
           0,
           4,
           5,
           0,
           5,
           4,
           0,
           4,
           0,
           0,
           0,
           0,
           5,
           4,
           4,
           0,
           0,
           0,
           0,
           5,
           5,
           4,
           0,
           5,
           2,
           2,
           5,
           0,
           2,
           0,
           2,
           4,
           4,
           4,
           5,
           2,
           4,
           2,
           6,
           0,
           5,
           5,
           2,
           2,
           4,
           0,
           5,
           0,
           0,
           5,
           0,
           5,
           0,
           4,
           5,
           5,
           0,
           0,
           0,
           4,
           0,
           5,
           5,
           5,
           5,
           0,
           5,
           0,
           5,
           4,
           0,
           0,
           4,
           4,
           5,
           4,
           0,
           5,
           0,
           0,
           5,
           4,
           5,
           0,
           0,
           2,
           0,
           4,
           0,
           0,
           5,
           4,
           0,
           5,
           4,
           0,
           3,
           0,
           0,
           5,
           5,
           6,
           0,
           5,
           0,
           6,
           5,
           0,
           0,
           0,
           0,
           0,
           0,
           2,
           5,
           5,
           4,
           0,
           4,
           5,
           0,
           0,
           0,
           0,
           0,
           0,
           5,
           5,
           0,
           0,
           2,
           5,
           0,
           5,
           0,
           5,
           1,
           5,
           0,
           5,
           0,
           0,
           4,
           5,
           5,
           5,
           4,
           4,
           5,
           0,
           0,
           0,
           0,
           0,
           5,
           4,
           0,
           0,
           0,
           5,
           4,
           4,
           5,
           5,
           5,
           0,
           5,
           5,
           5,
           4,
           5,
           4,
           5,
           5,
           5,
           0,
           0,
           0,
           0,
           4,
           0,
           5,
           5,
           0,
           0,
           0,
           5,
           5,
           5,
           4,
           4,
           0,
           0,
           2,
           5,
           4,
           4,
           0,
           4,
           0,
           0,
           5,
           4,
           0,
           0,
           0,
           0,
           5,
           2,
           5,
           0,
           5,
           5,
           4,
           5,
           0,
           0,
           5,
           0,
           0,
           0,
           5,
           5,
           2,
           0,
           0,
           0,
           4,
           5,
           5,
           0,
           0,
           5,
           5,
           0,
           4,
           4,
           5,
           0,
           5,
           0,
           0,
           5,
           0,
           5,
           5,
           5,
           0,
           2,
           0,
           5,
           4,
           0,
           0,
           0,
           5,
           0,
           5,
           5,
           4,
           0,
           0,
           4,
           3,
           0,
           5,
           6,
           5,
           5,
           2,
           4,
           5,
           0,
           2,
           4,
           5,
           0,
           5,
           0,
           5,
           0,
           0,
           2,
           0,
           0,
           0,
           5,
           5,
           5,
           0,
           4,
           0,
           0,
           2,
           0,
           5,
           0,
           2,
           5,
           4,
           0,
           4,
           0,
           0,
           0,
           5,
           4,
           0,
           0,
           5,
           5,
           5,
           5,
           5,
           5,
           5,
           5,
           0,
           0,
           0,
           5,
           5,
           0,
           5,
           5,
           4,
           6,
           5,
           0,
           5,
           0,
           5,
           0,
           4,
           0,
           5,
           5,
           0,
           5,
           0,
           0,
           0,
           0,
           0,
           0,
           0,
           5,
           5,
           0,
           0,
           5,
           4,
           5,
           0,
           0,
           0,
           5,
           4,
           0,
           2,
           4,
           0,
           2,
           2,
           3,
           0,
           5,
           0,
           4
          ],
          "coloraxis": "coloraxis",
          "symbol": "circle"
         },
         "mode": "markers",
         "name": "",
         "scene": "scene",
         "showlegend": false,
         "type": "scatter3d",
         "x": [
          1.895833841716989,
          1.8554090924683384,
          0.09515843793763132,
          1.0766282778421008,
          2.9503746303175915,
          0.48432239592801457,
          -0.3701134543239748,
          -0.04882314853113292,
          -1.2114130511430539,
          6.173856302155811,
          -0.4933942025881558,
          -0.3176002701928971,
          -0.21475888326859904,
          0.8758238698131718,
          0.7985792043141106,
          1.5827751708996654,
          1.214634225513315,
          -0.9894082027755817,
          0.7076652359087926,
          2.11447414790516,
          0.6450683783404315,
          1.814699439497201,
          -0.4272375074828213,
          0.9974663968278128,
          -0.6848071865813332,
          0.8032390671425207,
          1.4083637656995853,
          2.658561871026937,
          0.34622672649827696,
          -0.6080264615513582,
          0.20916581859260208,
          0.1694902913488317,
          -0.5086740930137141,
          -0.41664774383382525,
          0.5492659544536115,
          0.03356423600213542,
          -0.7076402053969948,
          1.360805654188783,
          0.908127949313305,
          2.9553549713332647,
          -0.5137023111506341,
          2.669482896608674,
          4.339802396316549,
          -0.7035477001956701,
          2.2372082649421436,
          -0.9222143888545535,
          0.6763327665447598,
          1.1807934666810511,
          -0.775665467729009,
          3.889054677576909,
          1.9750204776405014,
          1.5734782763808164,
          3.3220570547523964,
          -1.4501884835741286,
          -0.0727740152652898,
          2.3885972797671586,
          0.5392335969531787,
          1.073736046468133,
          0.6554944734688636,
          -0.940835053773162,
          -0.4290887530643974,
          -0.24023815520900088,
          0.498457042812626,
          -0.9290163654802367,
          0.3130629426858833,
          0.6160632185843933,
          -0.9263228604128283,
          1.4311762704658595,
          1.1456026553379577,
          -0.8978038692761726,
          -1.2753255374177417,
          0.0796698516694469,
          0.25639704648682415,
          11.313230132357408,
          1.7765933442002764,
          -0.7908981114807385,
          -0.61217702497103,
          -0.19318495070031275,
          -0.2295282638148834,
          0.3239584069664558,
          -0.4545719523420088,
          -0.3267591369545333,
          0.0775325646593931,
          2.3009780846814367,
          -0.2707633331542705,
          1.0083385410515282,
          -0.35515910644694243,
          2.410715759735027,
          1.118459734560373,
          0.3150432603274561,
          2.097480305447214,
          -0.3298781855284535,
          -1.4133166838500295,
          0.2131129477723255,
          -0.2754142852566356,
          0.46827684140161924,
          -0.983857495497555,
          0.6093178264572537,
          0.37515997004833346,
          0.36203200429637516,
          -0.2774793745757091,
          -0.46406065913807637,
          -0.9566862523926787,
          0.3762685742732882,
          0.37055812560925155,
          0.8974141879153099,
          0.39201432502854344,
          -0.9126299422245499,
          0.3195808617531796,
          -1.2614579481051162,
          5.351301110287083,
          -0.7019764689455977,
          0.035406564992456147,
          -0.616686978274931,
          -0.6773780776970932,
          3.3359988137576693,
          -1.7016338985563146,
          -0.406635648675799,
          -1.4175096195661976,
          8.774741959391996,
          -1.107654674757956,
          -0.3883824514466791,
          -0.2894960171308738,
          -0.8180222139485529,
          -1.0221938315694976,
          -0.24548379194170922,
          -0.1044467089917871,
          1.284270198074195,
          1.2954107073441963,
          -0.3863892733190778,
          -1.3934758017749231,
          0.2860030434047095,
          0.03796619361034996,
          1.1030775941170379,
          -1.0966330347216802,
          -1.0791352986524134,
          -0.723574239684911,
          -1.3322279391000929,
          1.5211531358046064,
          -1.4996632005568893,
          -0.13361300398603954,
          0.3214652745625391,
          -0.16793502482529601,
          -1.5326561724049954,
          -0.5641062761497275,
          -0.5645439190822892,
          -1.5178518756542512,
          -0.8461642005388861,
          -0.44139102248302386,
          -1.0223393428341194,
          16.682592844748136,
          -0.8157922639273799,
          -0.8893060905034184,
          -0.7693489383543636,
          -1.3462922149849772,
          0.9566836835258927,
          0.15032947941053118,
          -0.514684364944113,
          -0.603357494124008,
          -0.31832446580311013,
          2.309538675844547,
          0.3066395793851056,
          0.33410675505541343,
          -0.5863796381317826,
          1.0239058668385717,
          -0.7393873196109629,
          0.7038758942986623,
          -0.1575540354261652,
          -0.6145319989261675,
          0.10365793344590313,
          -1.1912228688401574,
          -0.5447063519848309,
          1.3145585126057326,
          -0.9173207602286234,
          -1.3193777954818788,
          0.9251521715237871,
          -0.5975238420118726,
          -0.7317552695691664,
          -0.2323045998237843,
          -0.3490111984800437,
          -1.1516589815433773,
          0.9839948128679533,
          0.21282484162651577,
          1.1638477342714688,
          -0.8386562900720081,
          -0.16385925017451633,
          -0.010550367194205072,
          1.2568334121568896,
          -0.29631984504662584,
          -0.2752060219089183,
          -1.265220047549978,
          0.39624274532981413,
          -1.0708246959140217,
          0.20644288889389079,
          -0.5451568267007402,
          -1.5243082399356815,
          -0.2413528730442906,
          -1.6310164127408322,
          -0.9127380526354079,
          -1.0509139440668482,
          0.6018047894432593,
          -0.957253302090463,
          -0.13529510296327257,
          -0.904773470187333,
          -0.9347819918582754,
          -0.41326548176593036,
          0.8398683200526769,
          3.562430491146078,
          -0.09580149782744819,
          -0.03971738274626915,
          0.0031203001459735777,
          -0.21690545385058513,
          -0.27252888031049805,
          -1.121934179022611,
          -0.7616220280119511,
          -0.3442654872788607,
          -0.6676340871498153,
          0.054537665373623784,
          -1.3954195040796604,
          0.3290377967652651,
          0.23699742310452968,
          0.07385150990186258,
          9.812755246903869,
          -0.5850061527687347,
          -1.1540349838710162,
          -1.1159439962812794,
          -0.42831458857233734,
          -0.5896502177367774,
          -0.7175214673607693,
          0.6685277327321287,
          1.5216925469193654,
          -1.2663204714993737,
          -0.5149359796814158,
          -1.129877015016947,
          -0.6645471394964196,
          -0.8398098344537734,
          -0.9198820883154627,
          3.6987220595537513,
          -0.868942061858778,
          0.326227158256823,
          -1.867309063245423,
          3.648111970342463,
          -0.7102162192891075,
          -0.7829414018951879,
          -0.24491496137691887,
          -0.8536681863917165,
          -0.834635766208479,
          -1.0064267502650774,
          -0.8045040176990528,
          -0.5119166956893594,
          0.4318337078941789,
          0.7776643191316778,
          -0.5640784587000264,
          0.039409226016998,
          -1.3551184341009592,
          -0.8178157041453206,
          -0.6277514767964746,
          -2.1376666918875844,
          -0.8637507041062272,
          -0.5245822296647742,
          -0.3083703112742067,
          -0.34693913885497,
          0.0841175066668701,
          -1.196951139916178,
          -1.1139502606638891,
          1.3318893471577862,
          -1.266761121868756,
          -0.6936522655341074,
          -0.6667938445300551,
          -1.1550350092069968,
          -0.17384004590554902,
          -0.6752976191802998,
          0.5207666084319367,
          1.0863831487701667,
          -1.8178914172344756,
          -1.7228935252085775,
          0.1700696543650557,
          7.098557572084923,
          -2.1136492500726525,
          1.322802515681931,
          0.9808350311057128,
          -0.7111380955718374,
          -1.0360058151684635,
          -0.019220373931272537,
          0.5351736767815368,
          -0.4435098321200377,
          -1.667398764108409,
          2.1232525750226436,
          0.38876702509945804,
          -0.5723693739147719,
          -0.6592872332880173,
          -0.658071947958194,
          -0.6228975931384944,
          -0.9165282844155566,
          -0.5310082340490819,
          -1.5103246442328342,
          0.6242793513678436,
          -0.8280861632366533,
          -1.861584374707016,
          -0.8759173771062031,
          -0.8076866905429118,
          0.07255833923361404,
          -0.8202971174389541,
          -0.7763432680759974,
          -0.9778952387489949,
          -0.9720045104300634,
          -0.33546545528581473,
          -0.2727936624870768,
          -1.497726244635612,
          -1.0638257443187988,
          -0.7674979799605582,
          0.670377105694834,
          -0.5130630606369913,
          0.3950673930886425,
          -1.9174093174032585,
          1.5984622751066275,
          -1.1865247186935848,
          -1.5756439337647101,
          -2.3825225827654903,
          -1.0223564531626497,
          0.02664061254353922,
          -0.5892083853028423,
          -0.9942569592327526,
          -1.0427218293932885,
          -0.13087169165260212,
          -1.3871004937099682,
          -0.8857723508028648,
          -1.0824145481865646,
          -0.3903202125968478,
          -1.0220593904306323,
          -0.04398070844546761,
          0.045438414229948945,
          -1.1111993437198908,
          -1.1570931225637882,
          -1.7787261641640812,
          -0.33243155103521854,
          -1.3057583711854952,
          -0.9673480042411949,
          -1.0383125918980898,
          -0.228409747194111,
          0.4561012276741142,
          -0.48423583716839885,
          -0.17665171006446684,
          -0.5649406744988897,
          -0.8444113307157743,
          -0.23707060401081215,
          -0.5900263447328123,
          -0.24571148798947512,
          0.4064149837585755,
          -1.0099807554751652,
          -0.6625323880260526,
          -1.735740239379941,
          -0.969473361710548,
          -1.0851088804525009,
          -1.4960058915545333,
          -1.8392981443973053,
          -0.5248089845639212,
          -1.3809791829046392,
          -0.8504426454399017,
          -0.6530656318256103,
          -1.0805979827170933,
          -0.9905723205227034,
          -0.9045611128603906,
          -1.7247684054218622,
          -0.4207901111624986,
          -0.2168869982566183,
          -1.281042690244874,
          -0.7227422477975063,
          0.1264716271323867,
          1.57372670863312,
          -0.982735974785752,
          -0.2635275720219823,
          -1.600607744574325,
          0.7292408580094935,
          -0.2568206510279305,
          -1.5284133332667154,
          -0.00828455101282455,
          0.6922124385406795,
          2.0424076782397713,
          -0.17089530811105438,
          -1.130332109964175,
          -1.5944625817720552,
          -1.245875875024329
         ],
         "y": [
          1.31999690842044,
          2.532397756126916,
          -0.4648341163328801,
          1.974230024362911,
          4.931228190705838,
          1.6591492858167918,
          -0.20563948971313115,
          1.2533232548929822,
          -0.23225589779930825,
          3.264419334029471,
          -0.33028495742847847,
          0.3174498335137648,
          -0.07804329332930196,
          0.04401952471784144,
          1.9478579533325184,
          1.4491224826648337,
          1.7390323956675837,
          0.11744009417907364,
          1.8537652110624174,
          0.18319167532558786,
          1.164153438811565,
          0.9934102440215173,
          1.227994742927477,
          0.14317974595553368,
          0.3977248499546878,
          2.241970621421169,
          1.5380796533415346,
          1.3256661926376199,
          -0.8379402836654275,
          -0.5237521848501557,
          0.9610362301009441,
          0.9575020133112166,
          0.4712786877982957,
          -0.43296183438549696,
          0.43874699863936395,
          0.6452460874776622,
          1.1681292861599644,
          1.3651957996100896,
          -0.9834865619766168,
          1.2286450691403006,
          2.348560109531625,
          2.359613600814141,
          -1.121612108533089,
          0.779225395491541,
          -1.8203220395121482,
          -0.9226228002241494,
          -0.3585087114976514,
          -0.17962198061762613,
          -1.3020161041516718,
          -0.07989826429203412,
          1.3792596379736544,
          2.033468309881305,
          -2.8204650487768106,
          1.240574263936391,
          0.007465089381513661,
          0.7197270643807009,
          -0.6689886919655481,
          -0.24024431869247995,
          -1.4079116760971382,
          1.1982916705005293,
          0.2593059100832989,
          1.2473311637865714,
          1.0765922408531128,
          -0.8242330727451689,
          4.495395903647561,
          0.6421365551393525,
          -0.4860838874301895,
          -0.9141700457755907,
          0.12363662553350857,
          -0.011138463248252892,
          0.49565017553681767,
          0.5962297240269936,
          2.371755223469044,
          0.3216256759468184,
          1.8380335592463717,
          1.6701293154724324,
          1.7557745739412076,
          1.9218591125162912,
          -0.9241909850876597,
          1.6585250152606985,
          0.29103032983667937,
          0.27143305388598393,
          -0.27293593594283505,
          0.9258748691705877,
          3.6661173235568687,
          3.118941066850122,
          1.9505263567986548,
          -0.19887299972348457,
          1.031615037814001,
          -0.13882870772203587,
          2.2381946324508437,
          0.6116757275835791,
          0.9397774689672663,
          0.5324467831032139,
          -0.7950435483375126,
          -0.6450446678369209,
          -1.3915175374166537,
          -0.09631879079619166,
          3.1798230927066973,
          -1.564854278072868,
          1.6487307844076857,
          -2.1743088749787134,
          -1.1612859991009539,
          1.8564599488044367,
          0.8472424117859096,
          -0.10770149612872652,
          1.5752324484515612,
          1.6857709445440763,
          0.19121601790236195,
          -0.2868022005909009,
          -1.2657746660594842,
          -0.7379352208319477,
          -0.3461142065366219,
          1.4609225003045883,
          -1.2371295690061266,
          1.755771266577925,
          -0.8785456692764987,
          0.2688060289646826,
          0.28013417507541144,
          -0.899019952304678,
          0.7277109364257746,
          0.02917792901632177,
          0.9684503335538072,
          -0.06441955880510306,
          0.6828257931274256,
          0.370884371469883,
          1.1364922094038694,
          -1.460880811767356,
          -0.6127897376412548,
          1.6422900061822818,
          -1.5154021828339774,
          1.5715348256095445,
          -0.8133094184355818,
          -0.04215264449445444,
          -2.0097609007163477,
          0.39264524875681783,
          -0.47503449951958454,
          -1.6760206166929479,
          6.0067838791691335,
          -1.683162795381583,
          -0.7152606884233454,
          -0.7859297229396895,
          0.9123244052044005,
          -0.34064487501748714,
          -2.3580570971538326,
          -0.04632423137126039,
          -0.3086400300306885,
          -0.7221018907333044,
          0.568715780745219,
          2.4113310695651586,
          -5.503758024779875,
          -0.692186935573493,
          2.3020565744819876,
          1.2142752645902768,
          0.4740814632566682,
          1.549716450464428,
          -0.5193926257765649,
          -0.4927021219809977,
          2.8227764626649003,
          -0.4478473276887042,
          0.41508320788959246,
          -1.089317329562927,
          0.1794737972740579,
          0.11255062743067307,
          2.025196835456653,
          -0.5555951439418996,
          2.3094476789814187,
          3.429687917235295,
          1.4352932005537418,
          -0.8374608652757931,
          0.6949124999659084,
          -0.5418535477882745,
          2.2714645301325356,
          1.2775771836108027,
          -0.010017384168950202,
          -1.0010438511433932,
          0.3385483760364424,
          1.70900788411151,
          -1.043764559776116,
          -0.5177582203448875,
          -0.42019343830426753,
          2.1166838417480567,
          0.09342582917838185,
          0.6023005892671995,
          1.1950009840194389,
          0.6391285155338765,
          -1.3265164030553012,
          0.032438665617506184,
          -0.8470079214852245,
          0.14411476841568707,
          -1.1486408027411146,
          1.0217892055100894,
          -0.21108554969559354,
          1.503474976136665,
          3.400992537512175,
          1.971483982134385,
          0.9005441288215503,
          -1.3890252516119945,
          0.999342674542767,
          -1.1189166311921215,
          1.2163522546543435,
          0.7611281975488582,
          -2.300780807898617,
          -0.5607171649547666,
          0.670918975268325,
          2.00427327257092,
          1.4555732124146818,
          -1.6572190741883066,
          0.3921331534690988,
          -0.7246848196254444,
          -0.8980672230501183,
          0.26633214784412385,
          -1.2980115661296538,
          0.11923676654036536,
          -0.31150937661879746,
          1.9625960178338198,
          -1.690675540410797,
          2.2200391646523463,
          -0.15498630000156363,
          0.0033373674569793623,
          1.1885189222278763,
          -2.151665702754766,
          -1.1580041368587388,
          0.9590040095053581,
          -0.46224824076225685,
          1.589669540318913,
          -1.542284585654859,
          -0.36267924573347216,
          2.9419365989538653,
          0.30904405768475446,
          2.332650449616254,
          -1.4636919404553288,
          1.2709127402743767,
          0.844737203404895,
          -0.4656585685459953,
          -2.1413050190993705,
          -1.2395436238842847,
          -0.9562571455493252,
          0.49316829532736134,
          1.023939586785508,
          2.4774559364084503,
          -0.8071698581319853,
          -1.4517016980272643,
          1.4134056495082674,
          1.0122615176824101,
          -0.8699091916687871,
          -2.105393038659533,
          -0.3913221106139137,
          -1.0361894583390174,
          0.7571396124807327,
          -1.4087502301611778,
          -0.8195664738630456,
          0.3200345663396593,
          0.6659213707046966,
          0.5852264938888008,
          0.4684114590554694,
          3.579450690698891,
          -1.2419209887136209,
          -0.8020478573065529,
          -2.0548342895396576,
          -0.8864853804033291,
          -0.9471313265468696,
          -2.4490229332729596,
          0.3891429944860403,
          -1.5747374909635687,
          -1.5320609041331712,
          2.0638220639682046,
          0.3969326129919836,
          0.5283074858425824,
          0.10347227173698002,
          1.0124750234640765,
          -1.7187970389348108,
          -0.9203160829323584,
          -1.3716433814601277,
          -0.830445709196096,
          -1.4893974244968495,
          -0.9908839646463407,
          -1.440073840345804,
          -1.2824406074928814,
          0.27172084291566234,
          -1.6730181099466568,
          -0.31289282643882826,
          1.3013325308542325,
          -1.187074797133808,
          -0.18405491082949862,
          -1.1960143873357798,
          3.320931239827684,
          -1.600241957016954,
          2.741376357724611,
          -0.968064094649005,
          0.688201652009125,
          -0.719024096534021,
          0.4752984223942708,
          -2.3527630529498937,
          1.418795413718155,
          0.2287533516284414,
          -3.026951938603017,
          2.968246251481404,
          0.07789036205117116,
          0.3474761817335343,
          1.262701242646303,
          -0.7707025929791194,
          -0.9359322632685674,
          0.08687636020794147,
          0.03283605977726205,
          -1.0723876158769599,
          -0.31418345978663453,
          -0.9749521219377449,
          0.35299338432791144,
          -0.27478225708382764,
          -0.7925840583853137,
          -2.855434184361875,
          -1.510344758553349,
          -1.8263548518099566,
          -2.2769385621794846,
          -0.5718977044317922,
          0.148750195997862,
          -1.2645615021160117,
          0.571722186309105,
          -2.1222134846293184,
          -1.3122668638567612,
          -0.507088983457139,
          2.0202995240810284,
          -1.4187743214175246,
          -0.98698919620143,
          -1.9036380865417697,
          -1.274514566657566,
          -0.9791314406486351,
          -1.438962097932515,
          -1.790883870628138,
          -0.8171327373342819,
          1.2889155042567517,
          -0.8453901409471705,
          -1.6176908670338956,
          -1.4412478014843864,
          2.09009404124512,
          -1.5278697133448957,
          -0.4223083021443972,
          1.4193596412652618,
          -2.7586015287247396,
          -0.8021363782862659,
          -2.863174025952354,
          0.11284851411616041,
          -1.5232336177286947,
          -2.1236364187941548,
          2.1580562348163994,
          -2.0876883271576783,
          -2.2217437396474136,
          1.581912262486798,
          -0.7339370934754406,
          -1.3816758565549887,
          -1.322014570190944,
          -2.020389670257711,
          -1.7893474680968628,
          -0.3960016661630256,
          -0.8856385347942455,
          -0.4016268788783927,
          -0.8229804656630979,
          -0.10926880520822783,
          -0.5900695718223269,
          -2.3162157250594073,
          -2.1348153720919285,
          0.18002640627331512,
          -1.7883280775137909,
          -1.527837446370947,
          -2.002348625702364,
          0.543220550340734,
          -0.42166531320677697,
          -0.9480421511634244,
          2.178257843953699,
          -2.003957684380989,
          -1.8333681394713066,
          -1.7409708415244205,
          -2.7388188662003223,
          -1.8798407460971884,
          -1.764547906189345,
          -2.733386019219224,
          -2.5890969353457414,
          -3.721539367367658,
          -0.3242813571994414,
          -2.12616820815205,
          -1.6552008351862242,
          -0.16706250290736332
         ],
         "z": [
          -1.1233742251675143,
          -1.6489440409328204,
          0.15756004866520606,
          -2.9309561603375287,
          -2.9531237989828516,
          -0.4324234074603706,
          1.238395013465284,
          0.7665289819449828,
          -0.4076373116351479,
          -2.3169795143804133,
          0.46176796372903534,
          -0.619036098431207,
          0.24212254501897748,
          0.7192612457964138,
          -1.7824218349388514,
          0.7689702853940539,
          -0.21801440212393108,
          -0.6677151116903858,
          -0.8225546553951198,
          0.9927436674424664,
          -1.5984925576357114,
          -0.5176395881825887,
          0.09598984718525196,
          -0.1656090270093475,
          -0.01836545832097187,
          -1.104003388786627,
          -0.38837364691946136,
          -1.1214840857377404,
          0.11795249997815287,
          0.3134377854984253,
          -2.8625963399268937,
          -1.5673451238273959,
          -0.37426635928444074,
          0.011963158602658511,
          -0.5264596478903063,
          0.7532857051794959,
          -0.2751935745894124,
          -0.9794521311425685,
          0.5386053401888027,
          1.2919943611239784,
          2.28212618540617,
          -2.6362045807658436,
          1.187529139604659,
          0.16560183587316465,
          0.7116138952882125,
          1.2169191185664394,
          -0.006422943931959007,
          -0.534804557353328,
          0.4098431899842536,
          -0.8555988574816681,
          -0.048746375548858245,
          2.5359736738969167,
          1.225300239534584,
          1.1549953675900113,
          -0.3483663545559145,
          -1.756045824081499,
          -0.5080868357530792,
          -0.5876693357200378,
          -0.7709758586073234,
          0.8812171313901207,
          0.2080355196757887,
          -2.5730982190676945,
          -0.6589933039359667,
          0.5010515025082192,
          -0.5968871741423439,
          0.2357161560206277,
          0.5279004062067931,
          0.37001632668537565,
          0.19423561603936149,
          0.43857454838633475,
          0.3739070540754416,
          -1.3129509659914738,
          -2.5170962292096175,
          -0.37338269014545306,
          -2.161288307602981,
          2.8291313281539936,
          2.4865231229831424,
          2.2024924261663545,
          0.9538493672241786,
          -2.4446698617589404,
          0.6572292100702666,
          -0.399652707136467,
          0.9231066095494155,
          -0.049765896409765635,
          -0.1279808200480912,
          -2.4164094880839553,
          2.7215770730201188,
          -0.548986843873193,
          -1.384467049090579,
          0.7585019119313738,
          -3.5033426215685592,
          0.6368628802812422,
          0.18374751534256306,
          -3.8848204238173594,
          -0.20906976551130638,
          0.872314142206758,
          0.09224568815165674,
          -2.3133322988963902,
          -0.8647024913169382,
          0.5566859759545638,
          -0.5651247033918557,
          0.18201812317379748,
          -0.4286737506100589,
          -1.1437916634173093,
          -1.427084604027226,
          0.6399458298965006,
          -1.4986072277750273,
          2.7285071895919115,
          1.2970234385836488,
          0.1160951627058614,
          1.5978293248576045,
          0.030851210597017967,
          -1.1803991780933947,
          2.5787179196710026,
          -0.33162033721282763,
          1.963362377756119,
          0.3785736042901714,
          0.12677316566894253,
          -0.3590579669906889,
          0.2959582120713444,
          2.3580606493998926,
          -1.8003836016536834,
          -1.3557760275696467,
          -0.010421985075547783,
          0.20281854544985267,
          0.0014117341488702538,
          -1.1742252302158351,
          2.055382426844795,
          -0.6618668920877532,
          1.8256569621671637,
          0.6670620157404465,
          -2.4633615555091186,
          1.2012293782753187,
          -2.4536997650690013,
          -0.8158345901108255,
          -0.26515529526564413,
          -0.8768510910821733,
          -0.6062350115510733,
          -0.6407985708942657,
          -1.0367005991386022,
          -0.20619788500286804,
          -0.5671127952046991,
          -0.46337773206472577,
          0.2951705488610277,
          1.8334625006042733,
          0.9525765770369317,
          0.10311656367328673,
          0.5292759952926901,
          -1.1171552726870086,
          2.6184372894867485,
          5.822206877497965,
          0.9690667336817697,
          1.5099474944303817,
          2.7850884410489356,
          -0.20571790881008967,
          -3.093837988865035,
          0.8346046617926332,
          -0.06073656796825048,
          1.7571105173014994,
          0.2147577371885874,
          1.5236285480683305,
          -0.4964053504087555,
          -0.46187609134157614,
          -0.9918203529582561,
          -1.1965113769722726,
          -1.0162861878803484,
          -1.6948144298152064,
          0.738160299624075,
          1.7194032260510337,
          0.2723005927073195,
          0.8256867797670527,
          -1.1166443536723798,
          -3.9644482065678406,
          2.6088423657885116,
          2.389310532932474,
          -0.15105371738988768,
          1.3463022151168966,
          2.6528120916440576,
          -0.6681107101822599,
          -1.2864571677388779,
          0.9135623494401297,
          -0.9537059632521628,
          -0.02418548725873458,
          -2.2105798848153815,
          2.3265195856588696,
          2.7210711909011853,
          -0.9734433155894264,
          -1.5943392084697119,
          -1.111433560541632,
          -1.2198579738668769,
          0.30363789897010096,
          -3.435344571335655,
          0.3980530036825278,
          1.1534196053498698,
          1.973905423200527,
          3.3334797871332937,
          -0.6608806125826616,
          0.32666117337691036,
          0.5231927710022838,
          -0.5673914461869862,
          0.5985622974681063,
          2.7089737504806055,
          -1.3298548069928966,
          0.8894948694043217,
          3.0178840307183177,
          -0.24896072902614722,
          -1.545318332464348,
          0.22569973424945516,
          1.560769919513142,
          1.1088798706064222,
          1.9899110636797666,
          -1.024753222978443,
          0.38186493967574486,
          -0.28577951329716206,
          -1.6566351962037762,
          2.267048927964851,
          1.8836883184539868,
          -2.4368011553730002,
          0.3564637672403288,
          -3.422576742450462,
          0.13998492418224498,
          -0.24224932652762332,
          1.1264475715228828,
          1.3259391971644574,
          -0.5009732353248213,
          2.7392977542900248,
          -1.7224165391782957,
          2.0041797450056635,
          2.2345563276416005,
          -2.0803676372168756,
          -1.9740006699142592,
          -0.6077647012241417,
          -1.3280050437777842,
          -1.096420354945663,
          -0.3875375713682256,
          -0.7872097759892209,
          -0.4551188308176247,
          1.9283536312517275,
          0.2713067516065948,
          -1.0843625503240002,
          3.248735101253164,
          -0.8562832616976668,
          -0.12914644649034998,
          2.3017002971684484,
          -1.6695919636271963,
          0.1164687873507575,
          0.5809065674512605,
          1.0710500822715565,
          -1.4653305615074328,
          3.311642103872256,
          0.9038204999930172,
          -0.46398497582175696,
          0.11557244539216129,
          1.1753528926962207,
          -0.23276845324631337,
          0.29441998044603,
          2.7118691591302295,
          -0.3876118192310046,
          0.45994481453304603,
          -1.0987002151328098,
          -0.3245484232020201,
          -1.0443832513446847,
          1.146392692294391,
          0.357363310360683,
          0.2402343247550814,
          -0.6908416987825513,
          2.282391322345488,
          -2.2544446250847847,
          -0.20422015108596336,
          0.8335080147531652,
          -0.8916903166203916,
          0.4550278789842236,
          -0.24686105546592707,
          -0.4279685324857131,
          0.7953346750267292,
          -1.3298062047528603,
          1.5208753666518062,
          1.5202077346423346,
          -0.14351838559318036,
          0.4565707048855847,
          3.000720996048803,
          0.3481978489307915,
          2.62802965651822,
          1.4465517969230715,
          0.8833606181969793,
          0.2944086257289826,
          3.9874866147988373,
          -0.606766928463537,
          1.8706105347337532,
          0.4315069852097104,
          0.270433836384471,
          -0.1685047205460926,
          -2.3187292113431726,
          -1.0375053496427125,
          0.40683740478602587,
          0.27386908133794274,
          0.1636492868521482,
          1.1622830538564937,
          0.900113079253387,
          0.0037948133276628267,
          2.3292956306149226,
          -0.7378219873365662,
          -0.011316591031590705,
          -0.5661692230169634,
          2.4490306880705286,
          -1.532728729198675,
          -1.1425664035089442,
          1.8653122854923956,
          0.1775383595346456,
          1.1656928685357637,
          0.1533729639997537,
          -2.31800116664004,
          -1.0951626192781119,
          0.07033524029001273,
          -1.584678754062396,
          -0.08056533913601034,
          -0.7778197980273506,
          0.3883886514230491,
          1.6453779161778315,
          -0.2607295864790671,
          0.34128152535001505,
          0.3281212106340966,
          1.2626721127657994,
          0.5184111097387492,
          -1.2119496984609428,
          -0.8490383132007652,
          -0.5461862798529044,
          -0.19604798830037176,
          -0.36774462875928976,
          -0.923811508307033,
          0.5530226769580051,
          -2.539031179581459,
          0.013297082849137826,
          -2.3220235021403814,
          0.36449453214976657,
          1.5265040104435954,
          -0.8406141830273298,
          0.38138175668185526,
          2.5055293139271058,
          -0.4435092199776737,
          3.0045156021796653,
          -0.5527812004971764,
          -1.4110393286402447,
          -0.7663262868178969,
          -1.873873982771044,
          0.4738383048325358,
          -2.5959650869081536,
          -0.03179271588442675,
          -2.5862035766117026,
          0.43761594232806406,
          -0.03977433728959528,
          0.36060997315526816,
          -1.3997220016266774,
          -1.0743710441235574,
          0.049515467358428204,
          1.313671252140954,
          -1.6712453790910875,
          -1.901355454032153,
          -3.247157090026166,
          -0.5945108778527539,
          -1.0431896268749346,
          0.12783216865764332,
          -0.27037324696917875,
          -0.7506694766067773,
          -0.17450519924723024,
          0.23457859586156993,
          0.9432176112497372,
          -1.436350231115293,
          -1.8915873825638962,
          -1.692218434949381,
          -1.2927254800187227,
          1.030081693681948,
          -1.3274429928828706,
          1.8960054435248443,
          0.10668518653908042,
          -0.5140344541059851,
          0.31794530932234605,
          0.16918259032655183,
          1.725412194999756,
          -2.0629568497837094,
          0.6572647056620844,
          -1.9180387603319786,
          1.9946820069102678
         ]
        }
       ],
       "layout": {
        "autosize": true,
        "coloraxis": {
         "colorbar": {
          "title": {
           "text": "predictions"
          }
         },
         "colorscale": [
          [
           0,
           "#0d0887"
          ],
          [
           0.1111111111111111,
           "#46039f"
          ],
          [
           0.2222222222222222,
           "#7201a8"
          ],
          [
           0.3333333333333333,
           "#9c179e"
          ],
          [
           0.4444444444444444,
           "#bd3786"
          ],
          [
           0.5555555555555556,
           "#d8576b"
          ],
          [
           0.6666666666666666,
           "#ed7953"
          ],
          [
           0.7777777777777778,
           "#fb9f3a"
          ],
          [
           0.8888888888888888,
           "#fdca26"
          ],
          [
           1,
           "#f0f921"
          ]
         ]
        },
        "legend": {
         "tracegroupgap": 0
        },
        "margin": {
         "t": 60
        },
        "scene": {
         "aspectmode": "auto",
         "aspectratio": {
          "x": 1.477688664263219,
          "y": 0.8921528618938158,
          "z": 0.7585387738019089
         },
         "camera": {
          "center": {
           "x": 0,
           "y": 0,
           "z": 0
          },
          "eye": {
           "x": -0.13573160600541267,
           "y": 2.139699100924466,
           "z": 0.022793665426437824
          },
          "projection": {
           "type": "perspective"
          },
          "up": {
           "x": 0.010622460459541279,
           "y": 0.0008774292692293914,
           "z": 0.9999431951124339
          }
         },
         "domain": {
          "x": [
           0,
           0.98
          ],
          "y": [
           0,
           1
          ]
         },
         "xaxis": {
          "title": {
           "text": "pc1"
          },
          "type": "linear"
         },
         "yaxis": {
          "title": {
           "text": "pc2"
          },
          "type": "linear"
         },
         "zaxis": {
          "title": {
           "text": "pc3"
          },
          "type": "linear"
         }
        },
        "template": {
         "data": {
          "bar": [
           {
            "error_x": {
             "color": "#2a3f5f"
            },
            "error_y": {
             "color": "#2a3f5f"
            },
            "marker": {
             "line": {
              "color": "#E5ECF6",
              "width": 0.5
             }
            },
            "type": "bar"
           }
          ],
          "barpolar": [
           {
            "marker": {
             "line": {
              "color": "#E5ECF6",
              "width": 0.5
             }
            },
            "type": "barpolar"
           }
          ],
          "carpet": [
           {
            "aaxis": {
             "endlinecolor": "#2a3f5f",
             "gridcolor": "white",
             "linecolor": "white",
             "minorgridcolor": "white",
             "startlinecolor": "#2a3f5f"
            },
            "baxis": {
             "endlinecolor": "#2a3f5f",
             "gridcolor": "white",
             "linecolor": "white",
             "minorgridcolor": "white",
             "startlinecolor": "#2a3f5f"
            },
            "type": "carpet"
           }
          ],
          "choropleth": [
           {
            "colorbar": {
             "outlinewidth": 0,
             "ticks": ""
            },
            "type": "choropleth"
           }
          ],
          "contour": [
           {
            "colorbar": {
             "outlinewidth": 0,
             "ticks": ""
            },
            "colorscale": [
             [
              0,
              "#0d0887"
             ],
             [
              0.1111111111111111,
              "#46039f"
             ],
             [
              0.2222222222222222,
              "#7201a8"
             ],
             [
              0.3333333333333333,
              "#9c179e"
             ],
             [
              0.4444444444444444,
              "#bd3786"
             ],
             [
              0.5555555555555556,
              "#d8576b"
             ],
             [
              0.6666666666666666,
              "#ed7953"
             ],
             [
              0.7777777777777778,
              "#fb9f3a"
             ],
             [
              0.8888888888888888,
              "#fdca26"
             ],
             [
              1,
              "#f0f921"
             ]
            ],
            "type": "contour"
           }
          ],
          "contourcarpet": [
           {
            "colorbar": {
             "outlinewidth": 0,
             "ticks": ""
            },
            "type": "contourcarpet"
           }
          ],
          "heatmap": [
           {
            "colorbar": {
             "outlinewidth": 0,
             "ticks": ""
            },
            "colorscale": [
             [
              0,
              "#0d0887"
             ],
             [
              0.1111111111111111,
              "#46039f"
             ],
             [
              0.2222222222222222,
              "#7201a8"
             ],
             [
              0.3333333333333333,
              "#9c179e"
             ],
             [
              0.4444444444444444,
              "#bd3786"
             ],
             [
              0.5555555555555556,
              "#d8576b"
             ],
             [
              0.6666666666666666,
              "#ed7953"
             ],
             [
              0.7777777777777778,
              "#fb9f3a"
             ],
             [
              0.8888888888888888,
              "#fdca26"
             ],
             [
              1,
              "#f0f921"
             ]
            ],
            "type": "heatmap"
           }
          ],
          "heatmapgl": [
           {
            "colorbar": {
             "outlinewidth": 0,
             "ticks": ""
            },
            "colorscale": [
             [
              0,
              "#0d0887"
             ],
             [
              0.1111111111111111,
              "#46039f"
             ],
             [
              0.2222222222222222,
              "#7201a8"
             ],
             [
              0.3333333333333333,
              "#9c179e"
             ],
             [
              0.4444444444444444,
              "#bd3786"
             ],
             [
              0.5555555555555556,
              "#d8576b"
             ],
             [
              0.6666666666666666,
              "#ed7953"
             ],
             [
              0.7777777777777778,
              "#fb9f3a"
             ],
             [
              0.8888888888888888,
              "#fdca26"
             ],
             [
              1,
              "#f0f921"
             ]
            ],
            "type": "heatmapgl"
           }
          ],
          "histogram": [
           {
            "marker": {
             "colorbar": {
              "outlinewidth": 0,
              "ticks": ""
             }
            },
            "type": "histogram"
           }
          ],
          "histogram2d": [
           {
            "colorbar": {
             "outlinewidth": 0,
             "ticks": ""
            },
            "colorscale": [
             [
              0,
              "#0d0887"
             ],
             [
              0.1111111111111111,
              "#46039f"
             ],
             [
              0.2222222222222222,
              "#7201a8"
             ],
             [
              0.3333333333333333,
              "#9c179e"
             ],
             [
              0.4444444444444444,
              "#bd3786"
             ],
             [
              0.5555555555555556,
              "#d8576b"
             ],
             [
              0.6666666666666666,
              "#ed7953"
             ],
             [
              0.7777777777777778,
              "#fb9f3a"
             ],
             [
              0.8888888888888888,
              "#fdca26"
             ],
             [
              1,
              "#f0f921"
             ]
            ],
            "type": "histogram2d"
           }
          ],
          "histogram2dcontour": [
           {
            "colorbar": {
             "outlinewidth": 0,
             "ticks": ""
            },
            "colorscale": [
             [
              0,
              "#0d0887"
             ],
             [
              0.1111111111111111,
              "#46039f"
             ],
             [
              0.2222222222222222,
              "#7201a8"
             ],
             [
              0.3333333333333333,
              "#9c179e"
             ],
             [
              0.4444444444444444,
              "#bd3786"
             ],
             [
              0.5555555555555556,
              "#d8576b"
             ],
             [
              0.6666666666666666,
              "#ed7953"
             ],
             [
              0.7777777777777778,
              "#fb9f3a"
             ],
             [
              0.8888888888888888,
              "#fdca26"
             ],
             [
              1,
              "#f0f921"
             ]
            ],
            "type": "histogram2dcontour"
           }
          ],
          "mesh3d": [
           {
            "colorbar": {
             "outlinewidth": 0,
             "ticks": ""
            },
            "type": "mesh3d"
           }
          ],
          "parcoords": [
           {
            "line": {
             "colorbar": {
              "outlinewidth": 0,
              "ticks": ""
             }
            },
            "type": "parcoords"
           }
          ],
          "scatter": [
           {
            "marker": {
             "colorbar": {
              "outlinewidth": 0,
              "ticks": ""
             }
            },
            "type": "scatter"
           }
          ],
          "scatter3d": [
           {
            "line": {
             "colorbar": {
              "outlinewidth": 0,
              "ticks": ""
             }
            },
            "marker": {
             "colorbar": {
              "outlinewidth": 0,
              "ticks": ""
             }
            },
            "type": "scatter3d"
           }
          ],
          "scattercarpet": [
           {
            "marker": {
             "colorbar": {
              "outlinewidth": 0,
              "ticks": ""
             }
            },
            "type": "scattercarpet"
           }
          ],
          "scattergeo": [
           {
            "marker": {
             "colorbar": {
              "outlinewidth": 0,
              "ticks": ""
             }
            },
            "type": "scattergeo"
           }
          ],
          "scattergl": [
           {
            "marker": {
             "colorbar": {
              "outlinewidth": 0,
              "ticks": ""
             }
            },
            "type": "scattergl"
           }
          ],
          "scattermapbox": [
           {
            "marker": {
             "colorbar": {
              "outlinewidth": 0,
              "ticks": ""
             }
            },
            "type": "scattermapbox"
           }
          ],
          "scatterpolar": [
           {
            "marker": {
             "colorbar": {
              "outlinewidth": 0,
              "ticks": ""
             }
            },
            "type": "scatterpolar"
           }
          ],
          "scatterpolargl": [
           {
            "marker": {
             "colorbar": {
              "outlinewidth": 0,
              "ticks": ""
             }
            },
            "type": "scatterpolargl"
           }
          ],
          "scatterternary": [
           {
            "marker": {
             "colorbar": {
              "outlinewidth": 0,
              "ticks": ""
             }
            },
            "type": "scatterternary"
           }
          ],
          "surface": [
           {
            "colorbar": {
             "outlinewidth": 0,
             "ticks": ""
            },
            "colorscale": [
             [
              0,
              "#0d0887"
             ],
             [
              0.1111111111111111,
              "#46039f"
             ],
             [
              0.2222222222222222,
              "#7201a8"
             ],
             [
              0.3333333333333333,
              "#9c179e"
             ],
             [
              0.4444444444444444,
              "#bd3786"
             ],
             [
              0.5555555555555556,
              "#d8576b"
             ],
             [
              0.6666666666666666,
              "#ed7953"
             ],
             [
              0.7777777777777778,
              "#fb9f3a"
             ],
             [
              0.8888888888888888,
              "#fdca26"
             ],
             [
              1,
              "#f0f921"
             ]
            ],
            "type": "surface"
           }
          ],
          "table": [
           {
            "cells": {
             "fill": {
              "color": "#EBF0F8"
             },
             "line": {
              "color": "white"
             }
            },
            "header": {
             "fill": {
              "color": "#C8D4E3"
             },
             "line": {
              "color": "white"
             }
            },
            "type": "table"
           }
          ]
         },
         "layout": {
          "annotationdefaults": {
           "arrowcolor": "#2a3f5f",
           "arrowhead": 0,
           "arrowwidth": 1
          },
          "colorscale": {
           "diverging": [
            [
             0,
             "#8e0152"
            ],
            [
             0.1,
             "#c51b7d"
            ],
            [
             0.2,
             "#de77ae"
            ],
            [
             0.3,
             "#f1b6da"
            ],
            [
             0.4,
             "#fde0ef"
            ],
            [
             0.5,
             "#f7f7f7"
            ],
            [
             0.6,
             "#e6f5d0"
            ],
            [
             0.7,
             "#b8e186"
            ],
            [
             0.8,
             "#7fbc41"
            ],
            [
             0.9,
             "#4d9221"
            ],
            [
             1,
             "#276419"
            ]
           ],
           "sequential": [
            [
             0,
             "#0d0887"
            ],
            [
             0.1111111111111111,
             "#46039f"
            ],
            [
             0.2222222222222222,
             "#7201a8"
            ],
            [
             0.3333333333333333,
             "#9c179e"
            ],
            [
             0.4444444444444444,
             "#bd3786"
            ],
            [
             0.5555555555555556,
             "#d8576b"
            ],
            [
             0.6666666666666666,
             "#ed7953"
            ],
            [
             0.7777777777777778,
             "#fb9f3a"
            ],
            [
             0.8888888888888888,
             "#fdca26"
            ],
            [
             1,
             "#f0f921"
            ]
           ],
           "sequentialminus": [
            [
             0,
             "#0d0887"
            ],
            [
             0.1111111111111111,
             "#46039f"
            ],
            [
             0.2222222222222222,
             "#7201a8"
            ],
            [
             0.3333333333333333,
             "#9c179e"
            ],
            [
             0.4444444444444444,
             "#bd3786"
            ],
            [
             0.5555555555555556,
             "#d8576b"
            ],
            [
             0.6666666666666666,
             "#ed7953"
            ],
            [
             0.7777777777777778,
             "#fb9f3a"
            ],
            [
             0.8888888888888888,
             "#fdca26"
            ],
            [
             1,
             "#f0f921"
            ]
           ]
          },
          "colorway": [
           "#636efa",
           "#EF553B",
           "#00cc96",
           "#ab63fa",
           "#FFA15A",
           "#19d3f3",
           "#FF6692",
           "#B6E880",
           "#FF97FF",
           "#FECB52"
          ],
          "font": {
           "color": "#2a3f5f"
          },
          "geo": {
           "bgcolor": "white",
           "lakecolor": "white",
           "landcolor": "#E5ECF6",
           "showlakes": true,
           "showland": true,
           "subunitcolor": "white"
          },
          "hoverlabel": {
           "align": "left"
          },
          "hovermode": "closest",
          "mapbox": {
           "style": "light"
          },
          "paper_bgcolor": "white",
          "plot_bgcolor": "#E5ECF6",
          "polar": {
           "angularaxis": {
            "gridcolor": "white",
            "linecolor": "white",
            "ticks": ""
           },
           "bgcolor": "#E5ECF6",
           "radialaxis": {
            "gridcolor": "white",
            "linecolor": "white",
            "ticks": ""
           }
          },
          "scene": {
           "xaxis": {
            "backgroundcolor": "#E5ECF6",
            "gridcolor": "white",
            "gridwidth": 2,
            "linecolor": "white",
            "showbackground": true,
            "ticks": "",
            "zerolinecolor": "white"
           },
           "yaxis": {
            "backgroundcolor": "#E5ECF6",
            "gridcolor": "white",
            "gridwidth": 2,
            "linecolor": "white",
            "showbackground": true,
            "ticks": "",
            "zerolinecolor": "white"
           },
           "zaxis": {
            "backgroundcolor": "#E5ECF6",
            "gridcolor": "white",
            "gridwidth": 2,
            "linecolor": "white",
            "showbackground": true,
            "ticks": "",
            "zerolinecolor": "white"
           }
          },
          "shapedefaults": {
           "line": {
            "color": "#2a3f5f"
           }
          },
          "ternary": {
           "aaxis": {
            "gridcolor": "white",
            "linecolor": "white",
            "ticks": ""
           },
           "baxis": {
            "gridcolor": "white",
            "linecolor": "white",
            "ticks": ""
           },
           "bgcolor": "#E5ECF6",
           "caxis": {
            "gridcolor": "white",
            "linecolor": "white",
            "ticks": ""
           }
          },
          "title": {
           "x": 0.05
          },
          "xaxis": {
           "automargin": true,
           "gridcolor": "white",
           "linecolor": "white",
           "ticks": "",
           "zerolinecolor": "white",
           "zerolinewidth": 2
          },
          "yaxis": {
           "automargin": true,
           "gridcolor": "white",
           "linecolor": "white",
           "ticks": "",
           "zerolinecolor": "white",
           "zerolinewidth": 2
          }
         }
        }
       }
      },
      "image/png": "[encoded data removed]",
      "text/html": [
       "<div>\n",
       "        \n",
       "        \n",
       "            <div id=\"4e391ae0-0da2-4cf1-90a6-893f5e1cf6e4\" class=\"plotly-graph-div\" style=\"height:600px; width:100%;\"></div>\n",
       "            <script type=\"text/javascript\">\n",
       "                require([\"plotly\"], function(Plotly) {\n",
       "                    window.PLOTLYENV=window.PLOTLYENV || {};\n",
       "                    \n",
       "                if (document.getElementById(\"4e391ae0-0da2-4cf1-90a6-893f5e1cf6e4\")) {\n",
       "                    Plotly.newPlot(\n",
       "                        '4e391ae0-0da2-4cf1-90a6-893f5e1cf6e4',\n",
       "                        [{\"hoverlabel\": {\"namelength\": 0}, \"hovertemplate\": \"pc1=%{x}<br>pc2=%{y}<br>pc3=%{z}<br>predictions=%{marker.color}\", \"legendgroup\": \"\", \"marker\": {\"color\": [5, 5, 5, 0, 0, 0, 5, 0, 0, 4, 5, 0, 5, 4, 0, 4, 5, 0, 5, 4, 0, 4, 0, 0, 0, 0, 5, 4, 4, 0, 0, 0, 0, 5, 5, 4, 0, 5, 2, 2, 5, 0, 2, 0, 2, 4, 4, 4, 5, 2, 4, 2, 6, 0, 5, 5, 2, 2, 4, 0, 5, 0, 0, 5, 0, 5, 0, 4, 5, 5, 0, 0, 0, 4, 0, 5, 5, 5, 5, 0, 5, 0, 5, 4, 0, 0, 4, 4, 5, 4, 0, 5, 0, 0, 5, 4, 5, 0, 0, 2, 0, 4, 0, 0, 5, 4, 0, 5, 4, 0, 3, 0, 0, 5, 5, 6, 0, 5, 0, 6, 5, 0, 0, 0, 0, 0, 0, 2, 5, 5, 4, 0, 4, 5, 0, 0, 0, 0, 0, 0, 5, 5, 0, 0, 2, 5, 0, 5, 0, 5, 1, 5, 0, 5, 0, 0, 4, 5, 5, 5, 4, 4, 5, 0, 0, 0, 0, 0, 5, 4, 0, 0, 0, 5, 4, 4, 5, 5, 5, 0, 5, 5, 5, 4, 5, 4, 5, 5, 5, 0, 0, 0, 0, 4, 0, 5, 5, 0, 0, 0, 5, 5, 5, 4, 4, 0, 0, 2, 5, 4, 4, 0, 4, 0, 0, 5, 4, 0, 0, 0, 0, 5, 2, 5, 0, 5, 5, 4, 5, 0, 0, 5, 0, 0, 0, 5, 5, 2, 0, 0, 0, 4, 5, 5, 0, 0, 5, 5, 0, 4, 4, 5, 0, 5, 0, 0, 5, 0, 5, 5, 5, 0, 2, 0, 5, 4, 0, 0, 0, 5, 0, 5, 5, 4, 0, 0, 4, 3, 0, 5, 6, 5, 5, 2, 4, 5, 0, 2, 4, 5, 0, 5, 0, 5, 0, 0, 2, 0, 0, 0, 5, 5, 5, 0, 4, 0, 0, 2, 0, 5, 0, 2, 5, 4, 0, 4, 0, 0, 0, 5, 4, 0, 0, 5, 5, 5, 5, 5, 5, 5, 5, 0, 0, 0, 5, 5, 0, 5, 5, 4, 6, 5, 0, 5, 0, 5, 0, 4, 0, 5, 5, 0, 5, 0, 0, 0, 0, 0, 0, 0, 5, 5, 0, 0, 5, 4, 5, 0, 0, 0, 5, 4, 0, 2, 4, 0, 2, 2, 3, 0, 5, 0, 4], \"coloraxis\": \"coloraxis\", \"symbol\": \"circle\"}, \"mode\": \"markers\", \"name\": \"\", \"scene\": \"scene\", \"showlegend\": false, \"type\": \"scatter3d\", \"x\": [1.895833841716989, 1.8554090924683384, 0.09515843793763132, 1.0766282778421008, 2.9503746303175915, 0.48432239592801457, -0.3701134543239748, -0.04882314853113292, -1.2114130511430539, 6.173856302155811, -0.4933942025881558, -0.3176002701928971, -0.21475888326859904, 0.8758238698131718, 0.7985792043141106, 1.5827751708996654, 1.214634225513315, -0.9894082027755817, 0.7076652359087926, 2.11447414790516, 0.6450683783404315, 1.814699439497201, -0.4272375074828213, 0.9974663968278128, -0.6848071865813332, 0.8032390671425207, 1.4083637656995853, 2.658561871026937, 0.34622672649827696, -0.6080264615513582, 0.20916581859260208, 0.1694902913488317, -0.5086740930137141, -0.41664774383382525, 0.5492659544536115, 0.03356423600213542, -0.7076402053969948, 1.360805654188783, 0.908127949313305, 2.9553549713332647, -0.5137023111506341, 2.669482896608674, 4.339802396316549, -0.7035477001956701, 2.2372082649421436, -0.9222143888545535, 0.6763327665447598, 1.1807934666810511, -0.775665467729009, 3.889054677576909, 1.9750204776405014, 1.5734782763808164, 3.3220570547523964, -1.4501884835741286, -0.0727740152652898, 2.3885972797671586, 0.5392335969531787, 1.073736046468133, 0.6554944734688636, -0.940835053773162, -0.4290887530643974, -0.24023815520900088, 0.498457042812626, -0.9290163654802367, 0.3130629426858833, 0.6160632185843933, -0.9263228604128283, 1.4311762704658595, 1.1456026553379577, -0.8978038692761726, -1.2753255374177417, 0.0796698516694469, 0.25639704648682415, 11.313230132357408, 1.7765933442002764, -0.7908981114807385, -0.61217702497103, -0.19318495070031275, -0.2295282638148834, 0.3239584069664558, -0.4545719523420088, -0.3267591369545333, 0.0775325646593931, 2.3009780846814367, -0.2707633331542705, 1.0083385410515282, -0.35515910644694243, 2.410715759735027, 1.118459734560373, 0.3150432603274561, 2.097480305447214, -0.3298781855284535, -1.4133166838500295, 0.2131129477723255, -0.2754142852566356, 0.46827684140161924, -0.983857495497555, 0.6093178264572537, 0.37515997004833346, 0.36203200429637516, -0.2774793745757091, -0.46406065913807637, -0.9566862523926787, 0.3762685742732882, 0.37055812560925155, 0.8974141879153099, 0.39201432502854344, -0.9126299422245499, 0.3195808617531796, -1.2614579481051162, 5.351301110287083, -0.7019764689455977, 0.035406564992456147, -0.616686978274931, -0.6773780776970932, 3.3359988137576693, -1.7016338985563146, -0.406635648675799, -1.4175096195661976, 8.774741959391996, -1.107654674757956, -0.3883824514466791, -0.2894960171308738, -0.8180222139485529, -1.0221938315694976, -0.24548379194170922, -0.1044467089917871, 1.284270198074195, 1.2954107073441963, -0.3863892733190778, -1.3934758017749231, 0.2860030434047095, 0.03796619361034996, 1.1030775941170379, -1.0966330347216802, -1.0791352986524134, -0.723574239684911, -1.3322279391000929, 1.5211531358046064, -1.4996632005568893, -0.13361300398603954, 0.3214652745625391, -0.16793502482529601, -1.5326561724049954, -0.5641062761497275, -0.5645439190822892, -1.5178518756542512, -0.8461642005388861, -0.44139102248302386, -1.0223393428341194, 16.682592844748136, -0.8157922639273799, -0.8893060905034184, -0.7693489383543636, -1.3462922149849772, 0.9566836835258927, 0.15032947941053118, -0.514684364944113, -0.603357494124008, -0.31832446580311013, 2.309538675844547, 0.3066395793851056, 0.33410675505541343, -0.5863796381317826, 1.0239058668385717, -0.7393873196109629, 0.7038758942986623, -0.1575540354261652, -0.6145319989261675, 0.10365793344590313, -1.1912228688401574, -0.5447063519848309, 1.3145585126057326, -0.9173207602286234, -1.3193777954818788, 0.9251521715237871, -0.5975238420118726, -0.7317552695691664, -0.2323045998237843, -0.3490111984800437, -1.1516589815433773, 0.9839948128679533, 0.21282484162651577, 1.1638477342714688, -0.8386562900720081, -0.16385925017451633, -0.010550367194205072, 1.2568334121568896, -0.29631984504662584, -0.2752060219089183, -1.265220047549978, 0.39624274532981413, -1.0708246959140217, 0.20644288889389079, -0.5451568267007402, -1.5243082399356815, -0.2413528730442906, -1.6310164127408322, -0.9127380526354079, -1.0509139440668482, 0.6018047894432593, -0.957253302090463, -0.13529510296327257, -0.904773470187333, -0.9347819918582754, -0.41326548176593036, 0.8398683200526769, 3.562430491146078, -0.09580149782744819, -0.03971738274626915, 0.0031203001459735777, -0.21690545385058513, -0.27252888031049805, -1.121934179022611, -0.7616220280119511, -0.3442654872788607, -0.6676340871498153, 0.054537665373623784, -1.3954195040796604, 0.3290377967652651, 0.23699742310452968, 0.07385150990186258, 9.812755246903869, -0.5850061527687347, -1.1540349838710162, -1.1159439962812794, -0.42831458857233734, -0.5896502177367774, -0.7175214673607693, 0.6685277327321287, 1.5216925469193654, -1.2663204714993737, -0.5149359796814158, -1.129877015016947, -0.6645471394964196, -0.8398098344537734, -0.9198820883154627, 3.6987220595537513, -0.868942061858778, 0.326227158256823, -1.867309063245423, 3.648111970342463, -0.7102162192891075, -0.7829414018951879, -0.24491496137691887, -0.8536681863917165, -0.834635766208479, -1.0064267502650774, -0.8045040176990528, -0.5119166956893594, 0.4318337078941789, 0.7776643191316778, -0.5640784587000264, 0.039409226016998, -1.3551184341009592, -0.8178157041453206, -0.6277514767964746, -2.1376666918875844, -0.8637507041062272, -0.5245822296647742, -0.3083703112742067, -0.34693913885497, 0.0841175066668701, -1.196951139916178, -1.1139502606638891, 1.3318893471577862, -1.266761121868756, -0.6936522655341074, -0.6667938445300551, -1.1550350092069968, -0.17384004590554902, -0.6752976191802998, 0.5207666084319367, 1.0863831487701667, -1.8178914172344756, -1.7228935252085775, 0.1700696543650557, 7.098557572084923, -2.1136492500726525, 1.322802515681931, 0.9808350311057128, -0.7111380955718374, -1.0360058151684635, -0.019220373931272537, 0.5351736767815368, -0.4435098321200377, -1.667398764108409, 2.1232525750226436, 0.38876702509945804, -0.5723693739147719, -0.6592872332880173, -0.658071947958194, -0.6228975931384944, -0.9165282844155566, -0.5310082340490819, -1.5103246442328342, 0.6242793513678436, -0.8280861632366533, -1.861584374707016, -0.8759173771062031, -0.8076866905429118, 0.07255833923361404, -0.8202971174389541, -0.7763432680759974, -0.9778952387489949, -0.9720045104300634, -0.33546545528581473, -0.2727936624870768, -1.497726244635612, -1.0638257443187988, -0.7674979799605582, 0.670377105694834, -0.5130630606369913, 0.3950673930886425, -1.9174093174032585, 1.5984622751066275, -1.1865247186935848, -1.5756439337647101, -2.3825225827654903, -1.0223564531626497, 0.02664061254353922, -0.5892083853028423, -0.9942569592327526, -1.0427218293932885, -0.13087169165260212, -1.3871004937099682, -0.8857723508028648, -1.0824145481865646, -0.3903202125968478, -1.0220593904306323, -0.04398070844546761, 0.045438414229948945, -1.1111993437198908, -1.1570931225637882, -1.7787261641640812, -0.33243155103521854, -1.3057583711854952, -0.9673480042411949, -1.0383125918980898, -0.228409747194111, 0.4561012276741142, -0.48423583716839885, -0.17665171006446684, -0.5649406744988897, -0.8444113307157743, -0.23707060401081215, -0.5900263447328123, -0.24571148798947512, 0.4064149837585755, -1.0099807554751652, -0.6625323880260526, -1.735740239379941, -0.969473361710548, -1.0851088804525009, -1.4960058915545333, -1.8392981443973053, -0.5248089845639212, -1.3809791829046392, -0.8504426454399017, -0.6530656318256103, -1.0805979827170933, -0.9905723205227034, -0.9045611128603906, -1.7247684054218622, -0.4207901111624986, -0.2168869982566183, -1.281042690244874, -0.7227422477975063, 0.1264716271323867, 1.57372670863312, -0.982735974785752, -0.2635275720219823, -1.600607744574325, 0.7292408580094935, -0.2568206510279305, -1.5284133332667154, -0.00828455101282455, 0.6922124385406795, 2.0424076782397713, -0.17089530811105438, -1.130332109964175, -1.5944625817720552, -1.245875875024329], \"y\": [1.31999690842044, 2.532397756126916, -0.4648341163328801, 1.974230024362911, 4.931228190705838, 1.6591492858167918, -0.20563948971313115, 1.2533232548929822, -0.23225589779930825, 3.264419334029471, -0.33028495742847847, 0.3174498335137648, -0.07804329332930196, 0.04401952471784144, 1.9478579533325184, 1.4491224826648337, 1.7390323956675837, 0.11744009417907364, 1.8537652110624174, 0.18319167532558786, 1.164153438811565, 0.9934102440215173, 1.227994742927477, 0.14317974595553368, 0.3977248499546878, 2.241970621421169, 1.5380796533415346, 1.3256661926376199, -0.8379402836654275, -0.5237521848501557, 0.9610362301009441, 0.9575020133112166, 0.4712786877982957, -0.43296183438549696, 0.43874699863936395, 0.6452460874776622, 1.1681292861599644, 1.3651957996100896, -0.9834865619766168, 1.2286450691403006, 2.348560109531625, 2.359613600814141, -1.121612108533089, 0.779225395491541, -1.8203220395121482, -0.9226228002241494, -0.3585087114976514, -0.17962198061762613, -1.3020161041516718, -0.07989826429203412, 1.3792596379736544, 2.033468309881305, -2.8204650487768106, 1.240574263936391, 0.007465089381513661, 0.7197270643807009, -0.6689886919655481, -0.24024431869247995, -1.4079116760971382, 1.1982916705005293, 0.2593059100832989, 1.2473311637865714, 1.0765922408531128, -0.8242330727451689, 4.495395903647561, 0.6421365551393525, -0.4860838874301895, -0.9141700457755907, 0.12363662553350857, -0.011138463248252892, 0.49565017553681767, 0.5962297240269936, 2.371755223469044, 0.3216256759468184, 1.8380335592463717, 1.6701293154724324, 1.7557745739412076, 1.9218591125162912, -0.9241909850876597, 1.6585250152606985, 0.29103032983667937, 0.27143305388598393, -0.27293593594283505, 0.9258748691705877, 3.6661173235568687, 3.118941066850122, 1.9505263567986548, -0.19887299972348457, 1.031615037814001, -0.13882870772203587, 2.2381946324508437, 0.6116757275835791, 0.9397774689672663, 0.5324467831032139, -0.7950435483375126, -0.6450446678369209, -1.3915175374166537, -0.09631879079619166, 3.1798230927066973, -1.564854278072868, 1.6487307844076857, -2.1743088749787134, -1.1612859991009539, 1.8564599488044367, 0.8472424117859096, -0.10770149612872652, 1.5752324484515612, 1.6857709445440763, 0.19121601790236195, -0.2868022005909009, -1.2657746660594842, -0.7379352208319477, -0.3461142065366219, 1.4609225003045883, -1.2371295690061266, 1.755771266577925, -0.8785456692764987, 0.2688060289646826, 0.28013417507541144, -0.899019952304678, 0.7277109364257746, 0.02917792901632177, 0.9684503335538072, -0.06441955880510306, 0.6828257931274256, 0.370884371469883, 1.1364922094038694, -1.460880811767356, -0.6127897376412548, 1.6422900061822818, -1.5154021828339774, 1.5715348256095445, -0.8133094184355818, -0.04215264449445444, -2.0097609007163477, 0.39264524875681783, -0.47503449951958454, -1.6760206166929479, 6.0067838791691335, -1.683162795381583, -0.7152606884233454, -0.7859297229396895, 0.9123244052044005, -0.34064487501748714, -2.3580570971538326, -0.04632423137126039, -0.3086400300306885, -0.7221018907333044, 0.568715780745219, 2.4113310695651586, -5.503758024779875, -0.692186935573493, 2.3020565744819876, 1.2142752645902768, 0.4740814632566682, 1.549716450464428, -0.5193926257765649, -0.4927021219809977, 2.8227764626649003, -0.4478473276887042, 0.41508320788959246, -1.089317329562927, 0.1794737972740579, 0.11255062743067307, 2.025196835456653, -0.5555951439418996, 2.3094476789814187, 3.429687917235295, 1.4352932005537418, -0.8374608652757931, 0.6949124999659084, -0.5418535477882745, 2.2714645301325356, 1.2775771836108027, -0.010017384168950202, -1.0010438511433932, 0.3385483760364424, 1.70900788411151, -1.043764559776116, -0.5177582203448875, -0.42019343830426753, 2.1166838417480567, 0.09342582917838185, 0.6023005892671995, 1.1950009840194389, 0.6391285155338765, -1.3265164030553012, 0.032438665617506184, -0.8470079214852245, 0.14411476841568707, -1.1486408027411146, 1.0217892055100894, -0.21108554969559354, 1.503474976136665, 3.400992537512175, 1.971483982134385, 0.9005441288215503, -1.3890252516119945, 0.999342674542767, -1.1189166311921215, 1.2163522546543435, 0.7611281975488582, -2.300780807898617, -0.5607171649547666, 0.670918975268325, 2.00427327257092, 1.4555732124146818, -1.6572190741883066, 0.3921331534690988, -0.7246848196254444, -0.8980672230501183, 0.26633214784412385, -1.2980115661296538, 0.11923676654036536, -0.31150937661879746, 1.9625960178338198, -1.690675540410797, 2.2200391646523463, -0.15498630000156363, 0.0033373674569793623, 1.1885189222278763, -2.151665702754766, -1.1580041368587388, 0.9590040095053581, -0.46224824076225685, 1.589669540318913, -1.542284585654859, -0.36267924573347216, 2.9419365989538653, 0.30904405768475446, 2.332650449616254, -1.4636919404553288, 1.2709127402743767, 0.844737203404895, -0.4656585685459953, -2.1413050190993705, -1.2395436238842847, -0.9562571455493252, 0.49316829532736134, 1.023939586785508, 2.4774559364084503, -0.8071698581319853, -1.4517016980272643, 1.4134056495082674, 1.0122615176824101, -0.8699091916687871, -2.105393038659533, -0.3913221106139137, -1.0361894583390174, 0.7571396124807327, -1.4087502301611778, -0.8195664738630456, 0.3200345663396593, 0.6659213707046966, 0.5852264938888008, 0.4684114590554694, 3.579450690698891, -1.2419209887136209, -0.8020478573065529, -2.0548342895396576, -0.8864853804033291, -0.9471313265468696, -2.4490229332729596, 0.3891429944860403, -1.5747374909635687, -1.5320609041331712, 2.0638220639682046, 0.3969326129919836, 0.5283074858425824, 0.10347227173698002, 1.0124750234640765, -1.7187970389348108, -0.9203160829323584, -1.3716433814601277, -0.830445709196096, -1.4893974244968495, -0.9908839646463407, -1.440073840345804, -1.2824406074928814, 0.27172084291566234, -1.6730181099466568, -0.31289282643882826, 1.3013325308542325, -1.187074797133808, -0.18405491082949862, -1.1960143873357798, 3.320931239827684, -1.600241957016954, 2.741376357724611, -0.968064094649005, 0.688201652009125, -0.719024096534021, 0.4752984223942708, -2.3527630529498937, 1.418795413718155, 0.2287533516284414, -3.026951938603017, 2.968246251481404, 0.07789036205117116, 0.3474761817335343, 1.262701242646303, -0.7707025929791194, -0.9359322632685674, 0.08687636020794147, 0.03283605977726205, -1.0723876158769599, -0.31418345978663453, -0.9749521219377449, 0.35299338432791144, -0.27478225708382764, -0.7925840583853137, -2.855434184361875, -1.510344758553349, -1.8263548518099566, -2.2769385621794846, -0.5718977044317922, 0.148750195997862, -1.2645615021160117, 0.571722186309105, -2.1222134846293184, -1.3122668638567612, -0.507088983457139, 2.0202995240810284, -1.4187743214175246, -0.98698919620143, -1.9036380865417697, -1.274514566657566, -0.9791314406486351, -1.438962097932515, -1.790883870628138, -0.8171327373342819, 1.2889155042567517, -0.8453901409471705, -1.6176908670338956, -1.4412478014843864, 2.09009404124512, -1.5278697133448957, -0.4223083021443972, 1.4193596412652618, -2.7586015287247396, -0.8021363782862659, -2.863174025952354, 0.11284851411616041, -1.5232336177286947, -2.1236364187941548, 2.1580562348163994, -2.0876883271576783, -2.2217437396474136, 1.581912262486798, -0.7339370934754406, -1.3816758565549887, -1.322014570190944, -2.020389670257711, -1.7893474680968628, -0.3960016661630256, -0.8856385347942455, -0.4016268788783927, -0.8229804656630979, -0.10926880520822783, -0.5900695718223269, -2.3162157250594073, -2.1348153720919285, 0.18002640627331512, -1.7883280775137909, -1.527837446370947, -2.002348625702364, 0.543220550340734, -0.42166531320677697, -0.9480421511634244, 2.178257843953699, -2.003957684380989, -1.8333681394713066, -1.7409708415244205, -2.7388188662003223, -1.8798407460971884, -1.764547906189345, -2.733386019219224, -2.5890969353457414, -3.721539367367658, -0.3242813571994414, -2.12616820815205, -1.6552008351862242, -0.16706250290736332], \"z\": [-1.1233742251675143, -1.6489440409328204, 0.15756004866520606, -2.9309561603375287, -2.9531237989828516, -0.4324234074603706, 1.238395013465284, 0.7665289819449828, -0.4076373116351479, -2.3169795143804133, 0.46176796372903534, -0.619036098431207, 0.24212254501897748, 0.7192612457964138, -1.7824218349388514, 0.7689702853940539, -0.21801440212393108, -0.6677151116903858, -0.8225546553951198, 0.9927436674424664, -1.5984925576357114, -0.5176395881825887, 0.09598984718525196, -0.1656090270093475, -0.01836545832097187, -1.104003388786627, -0.38837364691946136, -1.1214840857377404, 0.11795249997815287, 0.3134377854984253, -2.8625963399268937, -1.5673451238273959, -0.37426635928444074, 0.011963158602658511, -0.5264596478903063, 0.7532857051794959, -0.2751935745894124, -0.9794521311425685, 0.5386053401888027, 1.2919943611239784, 2.28212618540617, -2.6362045807658436, 1.187529139604659, 0.16560183587316465, 0.7116138952882125, 1.2169191185664394, -0.006422943931959007, -0.534804557353328, 0.4098431899842536, -0.8555988574816681, -0.048746375548858245, 2.5359736738969167, 1.225300239534584, 1.1549953675900113, -0.3483663545559145, -1.756045824081499, -0.5080868357530792, -0.5876693357200378, -0.7709758586073234, 0.8812171313901207, 0.2080355196757887, -2.5730982190676945, -0.6589933039359667, 0.5010515025082192, -0.5968871741423439, 0.2357161560206277, 0.5279004062067931, 0.37001632668537565, 0.19423561603936149, 0.43857454838633475, 0.3739070540754416, -1.3129509659914738, -2.5170962292096175, -0.37338269014545306, -2.161288307602981, 2.8291313281539936, 2.4865231229831424, 2.2024924261663545, 0.9538493672241786, -2.4446698617589404, 0.6572292100702666, -0.399652707136467, 0.9231066095494155, -0.049765896409765635, -0.1279808200480912, -2.4164094880839553, 2.7215770730201188, -0.548986843873193, -1.384467049090579, 0.7585019119313738, -3.5033426215685592, 0.6368628802812422, 0.18374751534256306, -3.8848204238173594, -0.20906976551130638, 0.872314142206758, 0.09224568815165674, -2.3133322988963902, -0.8647024913169382, 0.5566859759545638, -0.5651247033918557, 0.18201812317379748, -0.4286737506100589, -1.1437916634173093, -1.427084604027226, 0.6399458298965006, -1.4986072277750273, 2.7285071895919115, 1.2970234385836488, 0.1160951627058614, 1.5978293248576045, 0.030851210597017967, -1.1803991780933947, 2.5787179196710026, -0.33162033721282763, 1.963362377756119, 0.3785736042901714, 0.12677316566894253, -0.3590579669906889, 0.2959582120713444, 2.3580606493998926, -1.8003836016536834, -1.3557760275696467, -0.010421985075547783, 0.20281854544985267, 0.0014117341488702538, -1.1742252302158351, 2.055382426844795, -0.6618668920877532, 1.8256569621671637, 0.6670620157404465, -2.4633615555091186, 1.2012293782753187, -2.4536997650690013, -0.8158345901108255, -0.26515529526564413, -0.8768510910821733, -0.6062350115510733, -0.6407985708942657, -1.0367005991386022, -0.20619788500286804, -0.5671127952046991, -0.46337773206472577, 0.2951705488610277, 1.8334625006042733, 0.9525765770369317, 0.10311656367328673, 0.5292759952926901, -1.1171552726870086, 2.6184372894867485, 5.822206877497965, 0.9690667336817697, 1.5099474944303817, 2.7850884410489356, -0.20571790881008967, -3.093837988865035, 0.8346046617926332, -0.06073656796825048, 1.7571105173014994, 0.2147577371885874, 1.5236285480683305, -0.4964053504087555, -0.46187609134157614, -0.9918203529582561, -1.1965113769722726, -1.0162861878803484, -1.6948144298152064, 0.738160299624075, 1.7194032260510337, 0.2723005927073195, 0.8256867797670527, -1.1166443536723798, -3.9644482065678406, 2.6088423657885116, 2.389310532932474, -0.15105371738988768, 1.3463022151168966, 2.6528120916440576, -0.6681107101822599, -1.2864571677388779, 0.9135623494401297, -0.9537059632521628, -0.02418548725873458, -2.2105798848153815, 2.3265195856588696, 2.7210711909011853, -0.9734433155894264, -1.5943392084697119, -1.111433560541632, -1.2198579738668769, 0.30363789897010096, -3.435344571335655, 0.3980530036825278, 1.1534196053498698, 1.973905423200527, 3.3334797871332937, -0.6608806125826616, 0.32666117337691036, 0.5231927710022838, -0.5673914461869862, 0.5985622974681063, 2.7089737504806055, -1.3298548069928966, 0.8894948694043217, 3.0178840307183177, -0.24896072902614722, -1.545318332464348, 0.22569973424945516, 1.560769919513142, 1.1088798706064222, 1.9899110636797666, -1.024753222978443, 0.38186493967574486, -0.28577951329716206, -1.6566351962037762, 2.267048927964851, 1.8836883184539868, -2.4368011553730002, 0.3564637672403288, -3.422576742450462, 0.13998492418224498, -0.24224932652762332, 1.1264475715228828, 1.3259391971644574, -0.5009732353248213, 2.7392977542900248, -1.7224165391782957, 2.0041797450056635, 2.2345563276416005, -2.0803676372168756, -1.9740006699142592, -0.6077647012241417, -1.3280050437777842, -1.096420354945663, -0.3875375713682256, -0.7872097759892209, -0.4551188308176247, 1.9283536312517275, 0.2713067516065948, -1.0843625503240002, 3.248735101253164, -0.8562832616976668, -0.12914644649034998, 2.3017002971684484, -1.6695919636271963, 0.1164687873507575, 0.5809065674512605, 1.0710500822715565, -1.4653305615074328, 3.311642103872256, 0.9038204999930172, -0.46398497582175696, 0.11557244539216129, 1.1753528926962207, -0.23276845324631337, 0.29441998044603, 2.7118691591302295, -0.3876118192310046, 0.45994481453304603, -1.0987002151328098, -0.3245484232020201, -1.0443832513446847, 1.146392692294391, 0.357363310360683, 0.2402343247550814, -0.6908416987825513, 2.282391322345488, -2.2544446250847847, -0.20422015108596336, 0.8335080147531652, -0.8916903166203916, 0.4550278789842236, -0.24686105546592707, -0.4279685324857131, 0.7953346750267292, -1.3298062047528603, 1.5208753666518062, 1.5202077346423346, -0.14351838559318036, 0.4565707048855847, 3.000720996048803, 0.3481978489307915, 2.62802965651822, 1.4465517969230715, 0.8833606181969793, 0.2944086257289826, 3.9874866147988373, -0.606766928463537, 1.8706105347337532, 0.4315069852097104, 0.270433836384471, -0.1685047205460926, -2.3187292113431726, -1.0375053496427125, 0.40683740478602587, 0.27386908133794274, 0.1636492868521482, 1.1622830538564937, 0.900113079253387, 0.0037948133276628267, 2.3292956306149226, -0.7378219873365662, -0.011316591031590705, -0.5661692230169634, 2.4490306880705286, -1.532728729198675, -1.1425664035089442, 1.8653122854923956, 0.1775383595346456, 1.1656928685357637, 0.1533729639997537, -2.31800116664004, -1.0951626192781119, 0.07033524029001273, -1.584678754062396, -0.08056533913601034, -0.7778197980273506, 0.3883886514230491, 1.6453779161778315, -0.2607295864790671, 0.34128152535001505, 0.3281212106340966, 1.2626721127657994, 0.5184111097387492, -1.2119496984609428, -0.8490383132007652, -0.5461862798529044, -0.19604798830037176, -0.36774462875928976, -0.923811508307033, 0.5530226769580051, -2.539031179581459, 0.013297082849137826, -2.3220235021403814, 0.36449453214976657, 1.5265040104435954, -0.8406141830273298, 0.38138175668185526, 2.5055293139271058, -0.4435092199776737, 3.0045156021796653, -0.5527812004971764, -1.4110393286402447, -0.7663262868178969, -1.873873982771044, 0.4738383048325358, -2.5959650869081536, -0.03179271588442675, -2.5862035766117026, 0.43761594232806406, -0.03977433728959528, 0.36060997315526816, -1.3997220016266774, -1.0743710441235574, 0.049515467358428204, 1.313671252140954, -1.6712453790910875, -1.901355454032153, -3.247157090026166, -0.5945108778527539, -1.0431896268749346, 0.12783216865764332, -0.27037324696917875, -0.7506694766067773, -0.17450519924723024, 0.23457859586156993, 0.9432176112497372, -1.436350231115293, -1.8915873825638962, -1.692218434949381, -1.2927254800187227, 1.030081693681948, -1.3274429928828706, 1.8960054435248443, 0.10668518653908042, -0.5140344541059851, 0.31794530932234605, 0.16918259032655183, 1.725412194999756, -2.0629568497837094, 0.6572647056620844, -1.9180387603319786, 1.9946820069102678]}],\n",
       "                        {\"coloraxis\": {\"colorbar\": {\"title\": {\"text\": \"predictions\"}}, \"colorscale\": [[0.0, \"#0d0887\"], [0.1111111111111111, \"#46039f\"], [0.2222222222222222, \"#7201a8\"], [0.3333333333333333, \"#9c179e\"], [0.4444444444444444, \"#bd3786\"], [0.5555555555555556, \"#d8576b\"], [0.6666666666666666, \"#ed7953\"], [0.7777777777777778, \"#fb9f3a\"], [0.8888888888888888, \"#fdca26\"], [1.0, \"#f0f921\"]]}, \"height\": 600, \"legend\": {\"tracegroupgap\": 0}, \"margin\": {\"t\": 60}, \"scene\": {\"domain\": {\"x\": [0.0, 0.98], \"y\": [0.0, 1.0]}, \"xaxis\": {\"title\": {\"text\": \"pc1\"}}, \"yaxis\": {\"title\": {\"text\": \"pc2\"}}, \"zaxis\": {\"title\": {\"text\": \"pc3\"}}}, \"template\": {\"data\": {\"bar\": [{\"error_x\": {\"color\": \"#2a3f5f\"}, \"error_y\": {\"color\": \"#2a3f5f\"}, \"marker\": {\"line\": {\"color\": \"#E5ECF6\", \"width\": 0.5}}, \"type\": \"bar\"}], \"barpolar\": [{\"marker\": {\"line\": {\"color\": \"#E5ECF6\", \"width\": 0.5}}, \"type\": \"barpolar\"}], \"carpet\": [{\"aaxis\": {\"endlinecolor\": \"#2a3f5f\", \"gridcolor\": \"white\", \"linecolor\": \"white\", \"minorgridcolor\": \"white\", \"startlinecolor\": \"#2a3f5f\"}, \"baxis\": {\"endlinecolor\": \"#2a3f5f\", \"gridcolor\": \"white\", \"linecolor\": \"white\", \"minorgridcolor\": \"white\", \"startlinecolor\": \"#2a3f5f\"}, \"type\": \"carpet\"}], \"choropleth\": [{\"colorbar\": {\"outlinewidth\": 0, \"ticks\": \"\"}, \"type\": \"choropleth\"}], \"contour\": [{\"colorbar\": {\"outlinewidth\": 0, \"ticks\": \"\"}, \"colorscale\": [[0.0, \"#0d0887\"], [0.1111111111111111, \"#46039f\"], [0.2222222222222222, \"#7201a8\"], [0.3333333333333333, \"#9c179e\"], [0.4444444444444444, \"#bd3786\"], [0.5555555555555556, \"#d8576b\"], [0.6666666666666666, \"#ed7953\"], [0.7777777777777778, \"#fb9f3a\"], [0.8888888888888888, \"#fdca26\"], [1.0, \"#f0f921\"]], \"type\": \"contour\"}], \"contourcarpet\": [{\"colorbar\": {\"outlinewidth\": 0, \"ticks\": \"\"}, \"type\": \"contourcarpet\"}], \"heatmap\": [{\"colorbar\": {\"outlinewidth\": 0, \"ticks\": \"\"}, \"colorscale\": [[0.0, \"#0d0887\"], [0.1111111111111111, \"#46039f\"], [0.2222222222222222, \"#7201a8\"], [0.3333333333333333, \"#9c179e\"], [0.4444444444444444, \"#bd3786\"], [0.5555555555555556, \"#d8576b\"], [0.6666666666666666, \"#ed7953\"], [0.7777777777777778, \"#fb9f3a\"], [0.8888888888888888, \"#fdca26\"], [1.0, \"#f0f921\"]], \"type\": \"heatmap\"}], \"heatmapgl\": [{\"colorbar\": {\"outlinewidth\": 0, \"ticks\": \"\"}, \"colorscale\": [[0.0, \"#0d0887\"], [0.1111111111111111, \"#46039f\"], [0.2222222222222222, \"#7201a8\"], [0.3333333333333333, \"#9c179e\"], [0.4444444444444444, \"#bd3786\"], [0.5555555555555556, \"#d8576b\"], [0.6666666666666666, \"#ed7953\"], [0.7777777777777778, \"#fb9f3a\"], [0.8888888888888888, \"#fdca26\"], [1.0, \"#f0f921\"]], \"type\": \"heatmapgl\"}], \"histogram\": [{\"marker\": {\"colorbar\": {\"outlinewidth\": 0, \"ticks\": \"\"}}, \"type\": \"histogram\"}], \"histogram2d\": [{\"colorbar\": {\"outlinewidth\": 0, \"ticks\": \"\"}, \"colorscale\": [[0.0, \"#0d0887\"], [0.1111111111111111, \"#46039f\"], [0.2222222222222222, \"#7201a8\"], [0.3333333333333333, \"#9c179e\"], [0.4444444444444444, \"#bd3786\"], [0.5555555555555556, \"#d8576b\"], [0.6666666666666666, \"#ed7953\"], [0.7777777777777778, \"#fb9f3a\"], [0.8888888888888888, \"#fdca26\"], [1.0, \"#f0f921\"]], \"type\": \"histogram2d\"}], \"histogram2dcontour\": [{\"colorbar\": {\"outlinewidth\": 0, \"ticks\": \"\"}, \"colorscale\": [[0.0, \"#0d0887\"], [0.1111111111111111, \"#46039f\"], [0.2222222222222222, \"#7201a8\"], [0.3333333333333333, \"#9c179e\"], [0.4444444444444444, \"#bd3786\"], [0.5555555555555556, \"#d8576b\"], [0.6666666666666666, \"#ed7953\"], [0.7777777777777778, \"#fb9f3a\"], [0.8888888888888888, \"#fdca26\"], [1.0, \"#f0f921\"]], \"type\": \"histogram2dcontour\"}], \"mesh3d\": [{\"colorbar\": {\"outlinewidth\": 0, \"ticks\": \"\"}, \"type\": \"mesh3d\"}], \"parcoords\": [{\"line\": {\"colorbar\": {\"outlinewidth\": 0, \"ticks\": \"\"}}, \"type\": \"parcoords\"}], \"scatter\": [{\"marker\": {\"colorbar\": {\"outlinewidth\": 0, \"ticks\": \"\"}}, \"type\": \"scatter\"}], \"scatter3d\": [{\"line\": {\"colorbar\": {\"outlinewidth\": 0, \"ticks\": \"\"}}, \"marker\": {\"colorbar\": {\"outlinewidth\": 0, \"ticks\": \"\"}}, \"type\": \"scatter3d\"}], \"scattercarpet\": [{\"marker\": {\"colorbar\": {\"outlinewidth\": 0, \"ticks\": \"\"}}, \"type\": \"scattercarpet\"}], \"scattergeo\": [{\"marker\": {\"colorbar\": {\"outlinewidth\": 0, \"ticks\": \"\"}}, \"type\": \"scattergeo\"}], \"scattergl\": [{\"marker\": {\"colorbar\": {\"outlinewidth\": 0, \"ticks\": \"\"}}, \"type\": \"scattergl\"}], \"scattermapbox\": [{\"marker\": {\"colorbar\": {\"outlinewidth\": 0, \"ticks\": \"\"}}, \"type\": \"scattermapbox\"}], \"scatterpolar\": [{\"marker\": {\"colorbar\": {\"outlinewidth\": 0, \"ticks\": \"\"}}, \"type\": \"scatterpolar\"}], \"scatterpolargl\": [{\"marker\": {\"colorbar\": {\"outlinewidth\": 0, \"ticks\": \"\"}}, \"type\": \"scatterpolargl\"}], \"scatterternary\": [{\"marker\": {\"colorbar\": {\"outlinewidth\": 0, \"ticks\": \"\"}}, \"type\": \"scatterternary\"}], \"surface\": [{\"colorbar\": {\"outlinewidth\": 0, \"ticks\": \"\"}, \"colorscale\": [[0.0, \"#0d0887\"], [0.1111111111111111, \"#46039f\"], [0.2222222222222222, \"#7201a8\"], [0.3333333333333333, \"#9c179e\"], [0.4444444444444444, \"#bd3786\"], [0.5555555555555556, \"#d8576b\"], [0.6666666666666666, \"#ed7953\"], [0.7777777777777778, \"#fb9f3a\"], [0.8888888888888888, \"#fdca26\"], [1.0, \"#f0f921\"]], \"type\": \"surface\"}], \"table\": [{\"cells\": {\"fill\": {\"color\": \"#EBF0F8\"}, \"line\": {\"color\": \"white\"}}, \"header\": {\"fill\": {\"color\": \"#C8D4E3\"}, \"line\": {\"color\": \"white\"}}, \"type\": \"table\"}]}, \"layout\": {\"annotationdefaults\": {\"arrowcolor\": \"#2a3f5f\", \"arrowhead\": 0, \"arrowwidth\": 1}, \"colorscale\": {\"diverging\": [[0, \"#8e0152\"], [0.1, \"#c51b7d\"], [0.2, \"#de77ae\"], [0.3, \"#f1b6da\"], [0.4, \"#fde0ef\"], [0.5, \"#f7f7f7\"], [0.6, \"#e6f5d0\"], [0.7, \"#b8e186\"], [0.8, \"#7fbc41\"], [0.9, \"#4d9221\"], [1, \"#276419\"]], \"sequential\": [[0.0, \"#0d0887\"], [0.1111111111111111, \"#46039f\"], [0.2222222222222222, \"#7201a8\"], [0.3333333333333333, \"#9c179e\"], [0.4444444444444444, \"#bd3786\"], [0.5555555555555556, \"#d8576b\"], [0.6666666666666666, \"#ed7953\"], [0.7777777777777778, \"#fb9f3a\"], [0.8888888888888888, \"#fdca26\"], [1.0, \"#f0f921\"]], \"sequentialminus\": [[0.0, \"#0d0887\"], [0.1111111111111111, \"#46039f\"], [0.2222222222222222, \"#7201a8\"], [0.3333333333333333, \"#9c179e\"], [0.4444444444444444, \"#bd3786\"], [0.5555555555555556, \"#d8576b\"], [0.6666666666666666, \"#ed7953\"], [0.7777777777777778, \"#fb9f3a\"], [0.8888888888888888, \"#fdca26\"], [1.0, \"#f0f921\"]]}, \"colorway\": [\"#636efa\", \"#EF553B\", \"#00cc96\", \"#ab63fa\", \"#FFA15A\", \"#19d3f3\", \"#FF6692\", \"#B6E880\", \"#FF97FF\", \"#FECB52\"], \"font\": {\"color\": \"#2a3f5f\"}, \"geo\": {\"bgcolor\": \"white\", \"lakecolor\": \"white\", \"landcolor\": \"#E5ECF6\", \"showlakes\": true, \"showland\": true, \"subunitcolor\": \"white\"}, \"hoverlabel\": {\"align\": \"left\"}, \"hovermode\": \"closest\", \"mapbox\": {\"style\": \"light\"}, \"paper_bgcolor\": \"white\", \"plot_bgcolor\": \"#E5ECF6\", \"polar\": {\"angularaxis\": {\"gridcolor\": \"white\", \"linecolor\": \"white\", \"ticks\": \"\"}, \"bgcolor\": \"#E5ECF6\", \"radialaxis\": {\"gridcolor\": \"white\", \"linecolor\": \"white\", \"ticks\": \"\"}}, \"scene\": {\"xaxis\": {\"backgroundcolor\": \"#E5ECF6\", \"gridcolor\": \"white\", \"gridwidth\": 2, \"linecolor\": \"white\", \"showbackground\": true, \"ticks\": \"\", \"zerolinecolor\": \"white\"}, \"yaxis\": {\"backgroundcolor\": \"#E5ECF6\", \"gridcolor\": \"white\", \"gridwidth\": 2, \"linecolor\": \"white\", \"showbackground\": true, \"ticks\": \"\", \"zerolinecolor\": \"white\"}, \"zaxis\": {\"backgroundcolor\": \"#E5ECF6\", \"gridcolor\": \"white\", \"gridwidth\": 2, \"linecolor\": \"white\", \"showbackground\": true, \"ticks\": \"\", \"zerolinecolor\": \"white\"}}, \"shapedefaults\": {\"line\": {\"color\": \"#2a3f5f\"}}, \"ternary\": {\"aaxis\": {\"gridcolor\": \"white\", \"linecolor\": \"white\", \"ticks\": \"\"}, \"baxis\": {\"gridcolor\": \"white\", \"linecolor\": \"white\", \"ticks\": \"\"}, \"bgcolor\": \"#E5ECF6\", \"caxis\": {\"gridcolor\": \"white\", \"linecolor\": \"white\", \"ticks\": \"\"}}, \"title\": {\"x\": 0.05}, \"xaxis\": {\"automargin\": true, \"gridcolor\": \"white\", \"linecolor\": \"white\", \"ticks\": \"\", \"zerolinecolor\": \"white\", \"zerolinewidth\": 2}, \"yaxis\": {\"automargin\": true, \"gridcolor\": \"white\", \"linecolor\": \"white\", \"ticks\": \"\", \"zerolinecolor\": \"white\", \"zerolinewidth\": 2}}}},\n",
       "                        {\"responsive\": true}\n",
       "                    ).then(function(){\n",
       "                            \n",
       "var gd = document.getElementById('4e391ae0-0da2-4cf1-90a6-893f5e1cf6e4');\n",
       "var x = new MutationObserver(function (mutations, observer) {{\n",
       "        var display = window.getComputedStyle(gd).display;\n",
       "        if (!display || display === 'none') {{\n",
       "            console.log([gd, 'removed!']);\n",
       "            Plotly.purge(gd);\n",
       "            observer.disconnect();\n",
       "        }}\n",
       "}});\n",
       "\n",
       "// Listen for the removal of the full notebook cells\n",
       "var notebookContainer = gd.closest('#notebook-container');\n",
       "if (notebookContainer) {{\n",
       "    x.observe(notebookContainer, {childList: true});\n",
       "}}\n",
       "\n",
       "// Listen for the clearing of the current output cell\n",
       "var outputEl = gd.closest('.output');\n",
       "if (outputEl) {{\n",
       "    x.observe(outputEl, {childList: true});\n",
       "}}\n",
       "\n",
       "                        })\n",
       "                };\n",
       "                });\n",
       "            </script>\n",
       "        </div>"
      ]
     },
     "metadata": {},
     "output_type": "display_data"
    }
   ],
   "source": [
    "fig = px.scatter_3d(sp500_pca_pred, x='pc1', y='pc2', z='pc3', color='predictions')\n",
    "fig.show()"
   ]
  },
  {
   "cell_type": "code",
   "execution_count": 101,
   "metadata": {},
   "outputs": [],
   "source": [
    "# sp500_no_na.loc[sp500_pca_pred.pc1<5,:]\n",
    "sp500_no_na = sp500_no_na.reset_index(drop=True)\n",
    "sp500_no_na = sp500_no_na.loc[sp500_pca_pred.pc1<5,:]"
   ]
  },
  {
   "cell_type": "code",
   "execution_count": 102,
   "metadata": {},
   "outputs": [
    {
     "data": {
      "application/vnd.holoviews_exec.v0+json": "",
      "text/html": [
       "<div id='4544' style='display: table; margin: 0 auto;'>\n",
       "\n",
       "\n",
       "\n",
       "\n",
       "\n",
       "  <div class=\"bk-root\" id=\"b2c2cbf3-8f46-4876-9842-6c99c481c24a\" data-root-id=\"4544\"></div>\n",
       "</div>\n",
       "<script type=\"application/javascript\">(function(root) {\n",
       "  function embed_document(root) {\n",
       "    \n",
       "  var docs_json = {\"a24d2ee8-9017-4bf6-97d4-10c535f74540\":{\"roots\":{\"references\":[{\"attributes\":{\"align\":null,\"below\":[{\"id\":\"4553\",\"type\":\"LinearAxis\"}],\"center\":[{\"id\":\"4557\",\"type\":\"Grid\"},{\"id\":\"4562\",\"type\":\"Grid\"}],\"left\":[{\"id\":\"4558\",\"type\":\"LinearAxis\"}],\"margin\":null,\"min_border_bottom\":10,\"min_border_left\":10,\"min_border_right\":10,\"min_border_top\":10,\"plot_height\":300,\"plot_width\":700,\"renderers\":[{\"id\":\"4581\",\"type\":\"GlyphRenderer\"}],\"sizing_mode\":\"fixed\",\"title\":{\"id\":\"4545\",\"type\":\"Title\"},\"toolbar\":{\"id\":\"4568\",\"type\":\"Toolbar\"},\"x_range\":{\"id\":\"4541\",\"type\":\"Range1d\"},\"x_scale\":{\"id\":\"4549\",\"type\":\"LinearScale\"},\"y_range\":{\"id\":\"4542\",\"type\":\"Range1d\"},\"y_scale\":{\"id\":\"4551\",\"type\":\"LinearScale\"}},\"id\":\"4544\",\"subtype\":\"Figure\",\"type\":\"Plot\"},{\"attributes\":{},\"id\":\"4565\",\"type\":\"WheelZoomTool\"},{\"attributes\":{\"ticks\":[1,2,3,4,5,6,7,8,9,10]},\"id\":\"4583\",\"type\":\"FixedTicker\"},{\"attributes\":{\"overlay\":{\"id\":\"4596\",\"type\":\"BoxAnnotation\"}},\"id\":\"4566\",\"type\":\"BoxZoomTool\"},{\"attributes\":{},\"id\":\"4567\",\"type\":\"ResetTool\"},{\"attributes\":{},\"id\":\"4594\",\"type\":\"UnionRenderers\"},{\"attributes\":{\"active_drag\":\"auto\",\"active_inspect\":\"auto\",\"active_multi\":null,\"active_scroll\":\"auto\",\"active_tap\":\"auto\",\"tools\":[{\"id\":\"4543\",\"type\":\"HoverTool\"},{\"id\":\"4563\",\"type\":\"SaveTool\"},{\"id\":\"4564\",\"type\":\"PanTool\"},{\"id\":\"4565\",\"type\":\"WheelZoomTool\"},{\"id\":\"4566\",\"type\":\"BoxZoomTool\"},{\"id\":\"4567\",\"type\":\"ResetTool\"}]},\"id\":\"4568\",\"type\":\"Toolbar\"},{\"attributes\":{\"callback\":null,\"data\":{\"inertia\":{\"__ndarray__\":\"3PGtyfL9YEFVgMlZFDxQQVu28wVsWkVBqRsZqrf6PUG42ESfi083QSphzN1RFzNBttvo6G6eL0HUTsHxrTosQZByC/o2wClBrI1GRdnUJkE=\",\"dtype\":\"float64\",\"shape\":[10]},\"k\":[1,2,3,4,5,6,7,8,9,10]},\"selected\":{\"id\":\"4576\",\"type\":\"Selection\"},\"selection_policy\":{\"id\":\"4594\",\"type\":\"UnionRenderers\"}},\"id\":\"4575\",\"type\":\"ColumnDataSource\"},{\"attributes\":{\"callback\":null,\"renderers\":[{\"id\":\"4581\",\"type\":\"GlyphRenderer\"}],\"tags\":[\"hv_created\"],\"tooltips\":[[\"k\",\"@{k}\"],[\"inertia\",\"@{inertia}\"]]},\"id\":\"4543\",\"type\":\"HoverTool\"},{\"attributes\":{\"callback\":null,\"end\":10.0,\"reset_end\":10.0,\"reset_start\":1.0,\"start\":1.0,\"tags\":[[[\"k\",\"k\",null]]]},\"id\":\"4541\",\"type\":\"Range1d\"},{\"attributes\":{\"text\":\"Elbow Curve\",\"text_color\":{\"value\":\"black\"},\"text_font_size\":{\"value\":\"12pt\"}},\"id\":\"4545\",\"type\":\"Title\"},{\"attributes\":{\"callback\":null,\"end\":8908694.302483492,\"reset_end\":8908694.302483492,\"reset_start\":748140.6353039048,\"start\":748140.6353039048,\"tags\":[[[\"inertia\",\"inertia\",null]]]},\"id\":\"4542\",\"type\":\"Range1d\"},{\"attributes\":{\"bottom_units\":\"screen\",\"fill_alpha\":{\"value\":0.5},\"fill_color\":{\"value\":\"lightgrey\"},\"left_units\":\"screen\",\"level\":\"overlay\",\"line_alpha\":{\"value\":1.0},\"line_color\":{\"value\":\"black\"},\"line_dash\":[4,4],\"line_width\":{\"value\":2},\"render_mode\":\"css\",\"right_units\":\"screen\",\"top_units\":\"screen\"},\"id\":\"4596\",\"type\":\"BoxAnnotation\"},{\"attributes\":{},\"id\":\"4551\",\"type\":\"LinearScale\"},{\"attributes\":{\"line_alpha\":0.1,\"line_color\":\"#1f77b4\",\"line_width\":2,\"x\":{\"field\":\"k\"},\"y\":{\"field\":\"inertia\"}},\"id\":\"4579\",\"type\":\"Line\"},{\"attributes\":{},\"id\":\"4584\",\"type\":\"BasicTickFormatter\"},{\"attributes\":{\"data_source\":{\"id\":\"4575\",\"type\":\"ColumnDataSource\"},\"glyph\":{\"id\":\"4578\",\"type\":\"Line\"},\"hover_glyph\":null,\"muted_glyph\":{\"id\":\"4580\",\"type\":\"Line\"},\"nonselection_glyph\":{\"id\":\"4579\",\"type\":\"Line\"},\"selection_glyph\":null,\"view\":{\"id\":\"4582\",\"type\":\"CDSView\"}},\"id\":\"4581\",\"type\":\"GlyphRenderer\"},{\"attributes\":{},\"id\":\"4549\",\"type\":\"LinearScale\"},{\"attributes\":{\"axis_label\":\"k\",\"bounds\":\"auto\",\"formatter\":{\"id\":\"4584\",\"type\":\"BasicTickFormatter\"},\"major_label_orientation\":\"horizontal\",\"ticker\":{\"id\":\"4583\",\"type\":\"FixedTicker\"}},\"id\":\"4553\",\"type\":\"LinearAxis\"},{\"attributes\":{},\"id\":\"4554\",\"type\":\"BasicTicker\"},{\"attributes\":{\"grid_line_color\":null,\"ticker\":{\"id\":\"4554\",\"type\":\"BasicTicker\"}},\"id\":\"4557\",\"type\":\"Grid\"},{\"attributes\":{\"line_alpha\":0.2,\"line_color\":\"#1f77b4\",\"line_width\":2,\"x\":{\"field\":\"k\"},\"y\":{\"field\":\"inertia\"}},\"id\":\"4580\",\"type\":\"Line\"},{\"attributes\":{\"axis_label\":\"inertia\",\"bounds\":\"auto\",\"formatter\":{\"id\":\"4588\",\"type\":\"BasicTickFormatter\"},\"major_label_orientation\":\"horizontal\",\"ticker\":{\"id\":\"4559\",\"type\":\"BasicTicker\"}},\"id\":\"4558\",\"type\":\"LinearAxis\"},{\"attributes\":{},\"id\":\"4559\",\"type\":\"BasicTicker\"},{\"attributes\":{},\"id\":\"4588\",\"type\":\"BasicTickFormatter\"},{\"attributes\":{\"dimension\":1,\"grid_line_color\":null,\"ticker\":{\"id\":\"4559\",\"type\":\"BasicTicker\"}},\"id\":\"4562\",\"type\":\"Grid\"},{\"attributes\":{\"source\":{\"id\":\"4575\",\"type\":\"ColumnDataSource\"}},\"id\":\"4582\",\"type\":\"CDSView\"},{\"attributes\":{},\"id\":\"4576\",\"type\":\"Selection\"},{\"attributes\":{\"line_color\":\"#1f77b4\",\"line_width\":2,\"x\":{\"field\":\"k\"},\"y\":{\"field\":\"inertia\"}},\"id\":\"4578\",\"type\":\"Line\"},{\"attributes\":{},\"id\":\"4563\",\"type\":\"SaveTool\"},{\"attributes\":{},\"id\":\"4564\",\"type\":\"PanTool\"}],\"root_ids\":[\"4544\"]},\"title\":\"Bokeh Application\",\"version\":\"1.3.4\"}};\n",
       "  var render_items = [{\"docid\":\"a24d2ee8-9017-4bf6-97d4-10c535f74540\",\"roots\":{\"4544\":\"b2c2cbf3-8f46-4876-9842-6c99c481c24a\"}}];\n",
       "  root.Bokeh.embed.embed_items_notebook(docs_json, render_items);\n",
       "\n",
       "  }\n",
       "  if (root.Bokeh !== undefined) {\n",
       "    embed_document(root);\n",
       "  } else {\n",
       "    var attempts = 0;\n",
       "    var timer = setInterval(function(root) {\n",
       "      if (root.Bokeh !== undefined) {\n",
       "        embed_document(root);\n",
       "        clearInterval(timer);\n",
       "      }\n",
       "      attempts++;\n",
       "      if (attempts > 100) {\n",
       "        console.log(\"Bokeh: ERROR: Unable to run BokehJS code because BokehJS library is missing\");\n",
       "        clearInterval(timer);\n",
       "      }\n",
       "    }, 10, root)\n",
       "  }\n",
       "})(window);</script>"
      ],
      "text/plain": [
       ":Curve   [k]   (inertia)"
      ]
     },
     "execution_count": 102,
     "metadata": {
      "application/vnd.holoviews_exec.v0+json": {
       "id": "4544"
      }
     },
     "output_type": "execute_result"
    }
   ],
   "source": [
    "sp500_kmeans = sp500_no_na.iloc[:,1:]\n",
    "#sp500_scaled = StandardScaler().fit_transform(sp500_kmeans)\n",
    "inertia = []\n",
    "k = list(range(1, 11))\n",
    "for i in k:\n",
    "    km = KMeans(n_clusters=i)\n",
    "    km.fit(sp500_kmeans)\n",
    "    inertia.append(km.inertia_)\n",
    "\n",
    "elbow_data = {\"k\": k, \"inertia\": inertia}\n",
    "df_elbow = pd.DataFrame(elbow_data)\n",
    "df_elbow.hvplot.line(x=\"k\", y=\"inertia\", xticks=k, title=\"Elbow Curve\")"
   ]
  },
  {
   "cell_type": "code",
   "execution_count": 103,
   "metadata": {},
   "outputs": [],
   "source": [
    "model = KMeans(n_clusters=5)\n",
    "model.fit(sp500_kmeans)\n",
    "predictions = model.predict(sp500_kmeans)\n",
    "predictions = pd.DataFrame(predictions)\n",
    "predictions.rename(columns={0:'predictions'}, inplace=True)"
   ]
  },
  {
   "cell_type": "code",
   "execution_count": 104,
   "metadata": {},
   "outputs": [
    {
     "data": {
      "text/plain": [
       "array([0.2461939 , 0.21102844, 0.18047768, 0.15503655, 0.08400396,\n",
       "       0.0419904 ])"
      ]
     },
     "execution_count": 104,
     "metadata": {},
     "output_type": "execute_result"
    }
   ],
   "source": [
    "sp500_scaled = StandardScaler().fit_transform(sp500_kmeans)\n",
    "pca = PCA(n_components=6)\n",
    "sp500_pca = pca.fit_transform(sp500_scaled)\n",
    "pca.explained_variance_ratio_"
   ]
  },
  {
   "cell_type": "code",
   "execution_count": 105,
   "metadata": {},
   "outputs": [
    {
     "data": {
      "application/vnd.holoviews_exec.v0+json": "",
      "text/html": [
       "<div id='4653' style='display: table; margin: 0 auto;'>\n",
       "\n",
       "\n",
       "\n",
       "\n",
       "\n",
       "  <div class=\"bk-root\" id=\"3be31ea4-73ef-4ce4-92ee-79d951f38592\" data-root-id=\"4653\"></div>\n",
       "</div>\n",
       "<script type=\"application/javascript\">(function(root) {\n",
       "  function embed_document(root) {\n",
       "    \n",
       "  var docs_json = {\"2294d2eb-aefc-4028-b260-dba188d5dfe6\":{\"roots\":{\"references\":[{\"attributes\":{\"align\":null,\"below\":[{\"id\":\"4662\",\"type\":\"LinearAxis\"}],\"center\":[{\"id\":\"4666\",\"type\":\"Grid\"},{\"id\":\"4671\",\"type\":\"Grid\"},{\"id\":\"4702\",\"type\":\"Legend\"}],\"left\":[{\"id\":\"4667\",\"type\":\"LinearAxis\"}],\"margin\":null,\"min_border_bottom\":10,\"min_border_left\":10,\"min_border_right\":10,\"min_border_top\":10,\"plot_height\":300,\"plot_width\":700,\"renderers\":[{\"id\":\"4694\",\"type\":\"GlyphRenderer\"},{\"id\":\"4710\",\"type\":\"GlyphRenderer\"},{\"id\":\"4727\",\"type\":\"GlyphRenderer\"},{\"id\":\"4746\",\"type\":\"GlyphRenderer\"},{\"id\":\"4767\",\"type\":\"GlyphRenderer\"}],\"right\":[{\"id\":\"4702\",\"type\":\"Legend\"}],\"sizing_mode\":\"fixed\",\"title\":{\"id\":\"4654\",\"type\":\"Title\"},\"toolbar\":{\"id\":\"4677\",\"type\":\"Toolbar\"},\"x_range\":{\"id\":\"4646\",\"type\":\"Range1d\"},\"x_scale\":{\"id\":\"4658\",\"type\":\"LinearScale\"},\"y_range\":{\"id\":\"4647\",\"type\":\"Range1d\"},\"y_scale\":{\"id\":\"4660\",\"type\":\"LinearScale\"}},\"id\":\"4653\",\"subtype\":\"Figure\",\"type\":\"Plot\"},{\"attributes\":{\"source\":{\"id\":\"4721\",\"type\":\"ColumnDataSource\"}},\"id\":\"4728\",\"type\":\"CDSView\"},{\"attributes\":{\"callback\":null,\"data\":{\"pc1\":{\"__ndarray__\":\"t8vAPjYrDkA=\",\"dtype\":\"float64\",\"shape\":[1]},\"pc2\":{\"__ndarray__\":\"+a47ounJGEA=\",\"dtype\":\"float64\",\"shape\":[1]},\"predictions\":[4]},\"selected\":{\"id\":\"4762\",\"type\":\"Selection\"},\"selection_policy\":{\"id\":\"4797\",\"type\":\"UnionRenderers\"}},\"id\":\"4761\",\"type\":\"ColumnDataSource\"},{\"attributes\":{},\"id\":\"4672\",\"type\":\"SaveTool\"},{\"attributes\":{\"data_source\":{\"id\":\"4688\",\"type\":\"ColumnDataSource\"},\"glyph\":{\"id\":\"4691\",\"type\":\"Scatter\"},\"hover_glyph\":null,\"muted_glyph\":{\"id\":\"4693\",\"type\":\"Scatter\"},\"nonselection_glyph\":{\"id\":\"4692\",\"type\":\"Scatter\"},\"selection_glyph\":null,\"view\":{\"id\":\"4695\",\"type\":\"CDSView\"}},\"id\":\"4694\",\"type\":\"GlyphRenderer\"},{\"attributes\":{\"source\":{\"id\":\"4761\",\"type\":\"ColumnDataSource\"}},\"id\":\"4768\",\"type\":\"CDSView\"},{\"attributes\":{},\"id\":\"4717\",\"type\":\"UnionRenderers\"},{\"attributes\":{\"label\":{\"value\":\"1\"},\"renderers\":[{\"id\":\"4710\",\"type\":\"GlyphRenderer\"}]},\"id\":\"4720\",\"type\":\"LegendItem\"},{\"attributes\":{},\"id\":\"4674\",\"type\":\"WheelZoomTool\"},{\"attributes\":{\"callback\":null,\"data\":{\"pc1\":{\"__ndarray__\":\"lG3nBngkGUCHKGdlSxUUQBo5JbD/ox5AJXI4YqAZHED/uWF1+UD/P38/xg4ojfk/rYBDg4fQ8j92eP6DpvP9Pw==\",\"dtype\":\"float64\",\"shape\":[8]},\"pc2\":{\"__ndarray__\":\"oVgAHMZVEUC6N9A8gKf4P+ncn61T3ABAlOXtLICVA0AK4llYC4cPQDu7DID+YQhA6eQ+iSQyDEAJ7V+B22YNQA==\",\"dtype\":\"float64\",\"shape\":[8]},\"predictions\":[1,1,1,1,1,1,1,1]},\"selected\":{\"id\":\"4705\",\"type\":\"Selection\"},\"selection_policy\":{\"id\":\"4736\",\"type\":\"UnionRenderers\"}},\"id\":\"4704\",\"type\":\"ColumnDataSource\"},{\"attributes\":{\"label\":{\"value\":\"3\"},\"renderers\":[{\"id\":\"4746\",\"type\":\"GlyphRenderer\"}]},\"id\":\"4760\",\"type\":\"LegendItem\"},{\"attributes\":{\"source\":{\"id\":\"4740\",\"type\":\"ColumnDataSource\"}},\"id\":\"4747\",\"type\":\"CDSView\"},{\"attributes\":{\"data_source\":{\"id\":\"4761\",\"type\":\"ColumnDataSource\"},\"glyph\":{\"id\":\"4764\",\"type\":\"Scatter\"},\"hover_glyph\":null,\"muted_glyph\":{\"id\":\"4766\",\"type\":\"Scatter\"},\"nonselection_glyph\":{\"id\":\"4765\",\"type\":\"Scatter\"},\"selection_glyph\":null,\"view\":{\"id\":\"4768\",\"type\":\"CDSView\"}},\"id\":\"4767\",\"type\":\"GlyphRenderer\"},{\"attributes\":{\"fill_color\":{\"value\":\"#d62728\"},\"line_color\":{\"value\":\"#d62728\"},\"size\":{\"units\":\"screen\",\"value\":5.477225575051661},\"x\":{\"field\":\"pc1\"},\"y\":{\"field\":\"pc2\"}},\"id\":\"4743\",\"type\":\"Scatter\"},{\"attributes\":{},\"id\":\"4762\",\"type\":\"Selection\"},{\"attributes\":{\"source\":{\"id\":\"4704\",\"type\":\"ColumnDataSource\"}},\"id\":\"4711\",\"type\":\"CDSView\"},{\"attributes\":{\"fill_alpha\":{\"value\":0.1},\"fill_color\":{\"value\":\"#d62728\"},\"line_alpha\":{\"value\":0.1},\"line_color\":{\"value\":\"#d62728\"},\"size\":{\"units\":\"screen\",\"value\":5.477225575051661},\"x\":{\"field\":\"pc1\"},\"y\":{\"field\":\"pc2\"}},\"id\":\"4744\",\"type\":\"Scatter\"},{\"attributes\":{\"label\":{\"value\":\"2\"},\"renderers\":[{\"id\":\"4727\",\"type\":\"GlyphRenderer\"}]},\"id\":\"4739\",\"type\":\"LegendItem\"},{\"attributes\":{\"data_source\":{\"id\":\"4704\",\"type\":\"ColumnDataSource\"},\"glyph\":{\"id\":\"4707\",\"type\":\"Scatter\"},\"hover_glyph\":null,\"muted_glyph\":{\"id\":\"4709\",\"type\":\"Scatter\"},\"nonselection_glyph\":{\"id\":\"4708\",\"type\":\"Scatter\"},\"selection_glyph\":null,\"view\":{\"id\":\"4711\",\"type\":\"CDSView\"}},\"id\":\"4710\",\"type\":\"GlyphRenderer\"},{\"attributes\":{},\"id\":\"4686\",\"type\":\"BasicTickFormatter\"},{\"attributes\":{},\"id\":\"4780\",\"type\":\"UnionRenderers\"},{\"attributes\":{},\"id\":\"4673\",\"type\":\"PanTool\"},{\"attributes\":{\"fill_alpha\":{\"value\":0.2},\"fill_color\":{\"value\":\"#d62728\"},\"line_alpha\":{\"value\":0.2},\"line_color\":{\"value\":\"#d62728\"},\"size\":{\"units\":\"screen\",\"value\":5.477225575051661},\"x\":{\"field\":\"pc1\"},\"y\":{\"field\":\"pc2\"}},\"id\":\"4745\",\"type\":\"Scatter\"},{\"attributes\":{\"fill_alpha\":{\"value\":0.1},\"fill_color\":{\"value\":\"#ff7f0e\"},\"line_alpha\":{\"value\":0.1},\"line_color\":{\"value\":\"#ff7f0e\"},\"size\":{\"units\":\"screen\",\"value\":5.477225575051661},\"x\":{\"field\":\"pc1\"},\"y\":{\"field\":\"pc2\"}},\"id\":\"4708\",\"type\":\"Scatter\"},{\"attributes\":{\"active_drag\":\"auto\",\"active_inspect\":\"auto\",\"active_multi\":null,\"active_scroll\":\"auto\",\"active_tap\":\"auto\",\"tools\":[{\"id\":\"4648\",\"type\":\"HoverTool\"},{\"id\":\"4672\",\"type\":\"SaveTool\"},{\"id\":\"4673\",\"type\":\"PanTool\"},{\"id\":\"4674\",\"type\":\"WheelZoomTool\"},{\"id\":\"4675\",\"type\":\"BoxZoomTool\"},{\"id\":\"4676\",\"type\":\"ResetTool\"}]},\"id\":\"4677\",\"type\":\"Toolbar\"},{\"attributes\":{\"fill_alpha\":{\"value\":0.2},\"fill_color\":{\"value\":\"#2ca02c\"},\"line_alpha\":{\"value\":0.2},\"line_color\":{\"value\":\"#2ca02c\"},\"size\":{\"units\":\"screen\",\"value\":5.477225575051661},\"x\":{\"field\":\"pc1\"},\"y\":{\"field\":\"pc2\"}},\"id\":\"4726\",\"type\":\"Scatter\"},{\"attributes\":{\"fill_alpha\":{\"value\":0.2},\"fill_color\":{\"value\":\"#ff7f0e\"},\"line_alpha\":{\"value\":0.2},\"line_color\":{\"value\":\"#ff7f0e\"},\"size\":{\"units\":\"screen\",\"value\":5.477225575051661},\"x\":{\"field\":\"pc1\"},\"y\":{\"field\":\"pc2\"}},\"id\":\"4709\",\"type\":\"Scatter\"},{\"attributes\":{\"fill_color\":{\"value\":\"#2ca02c\"},\"line_color\":{\"value\":\"#2ca02c\"},\"size\":{\"units\":\"screen\",\"value\":5.477225575051661},\"x\":{\"field\":\"pc1\"},\"y\":{\"field\":\"pc2\"}},\"id\":\"4724\",\"type\":\"Scatter\"},{\"attributes\":{\"fill_alpha\":{\"value\":0.2},\"fill_color\":{\"value\":\"#1f77b4\"},\"line_alpha\":{\"value\":0.2},\"line_color\":{\"value\":\"#1f77b4\"},\"size\":{\"units\":\"screen\",\"value\":5.477225575051661},\"x\":{\"field\":\"pc1\"},\"y\":{\"field\":\"pc2\"}},\"id\":\"4693\",\"type\":\"Scatter\"},{\"attributes\":{\"data_source\":{\"id\":\"4740\",\"type\":\"ColumnDataSource\"},\"glyph\":{\"id\":\"4743\",\"type\":\"Scatter\"},\"hover_glyph\":null,\"muted_glyph\":{\"id\":\"4745\",\"type\":\"Scatter\"},\"nonselection_glyph\":{\"id\":\"4744\",\"type\":\"Scatter\"},\"selection_glyph\":null,\"view\":{\"id\":\"4747\",\"type\":\"CDSView\"}},\"id\":\"4746\",\"type\":\"GlyphRenderer\"},{\"attributes\":{\"fill_color\":{\"value\":\"#ff7f0e\"},\"line_color\":{\"value\":\"#ff7f0e\"},\"size\":{\"units\":\"screen\",\"value\":5.477225575051661},\"x\":{\"field\":\"pc1\"},\"y\":{\"field\":\"pc2\"}},\"id\":\"4707\",\"type\":\"Scatter\"},{\"attributes\":{\"fill_alpha\":{\"value\":0.1},\"fill_color\":{\"value\":\"#2ca02c\"},\"line_alpha\":{\"value\":0.1},\"line_color\":{\"value\":\"#2ca02c\"},\"size\":{\"units\":\"screen\",\"value\":5.477225575051661},\"x\":{\"field\":\"pc1\"},\"y\":{\"field\":\"pc2\"}},\"id\":\"4725\",\"type\":\"Scatter\"},{\"attributes\":{},\"id\":\"4757\",\"type\":\"UnionRenderers\"},{\"attributes\":{\"callback\":null,\"data\":{\"pc1\":{\"__ndarray__\":\"giFFINB1CkA6MmnMInQCQDWOa3dvuQxANDMhRe+i9z9dByFYFDoTQJgbxf9h1CBAVMXXOpivEUCXITs8CJ3pP5GSTXWWLBpA8U7SpbWL/z9eJVuwfiMCQIlvK2XIiNk/ZP8Fo1Uv7z9G/sgrJmHzP4pcKYq+5A1APFD1UGqDEEC07kDIZuT0Px9Sox3Bcek/XVbO43FGBUCQaFJz5a3nvylNmSRIZQ5AviIBT4j5+D+KihSkWOzDv7N2xx9u5dM/TDyVibWDCkDEnXtKzzUdQIlTxFhT0eK/qpzb6MME4T+gT/qpVygIQIEVIAUBC/A/aNLfdcM3E0DQE2c1d96+P6FR3czCQ/o/PCRW9QOR2z/5eI6oIPHgP0IVzUUJmPs/\",\"dtype\":\"float64\",\"shape\":[36]},\"pc2\":{\"__ndarray__\":\"MflH8fW78D/ThI5Ja4K3v9lZBvBUE+6/a8qFq31YAUCSPbV29OXpP76AzRxMlQNAp0H/zX1NB0CAEoDN6wjvPxNX/gsOZ9Q/3L+eCcFe5r/OYXyJmQfyPy+O0NAyyPE/zo+qR3kd7j/UPJfCc8P0PyDOgp+YgdS/2C/d3upL0z+9FRgI0rz6P78labRaWwNAxQwjgLmxBkBEhN6YLJIMQHYB9lvJe+g/kxtpngru6z93QgVKJwf+P+kqvmuziwBA989+zcaNBUAxXQImAMXMP1JeFKi5BABAb0FZB1ztB0Acc2v05TzxP2Oeymv38wFAH/RPdtrJ9D8by9qkP50EQOvMnh0TfPM/5Wq5PH2uAEABAb1+A7kDQLR6OXPD2QBA\",\"dtype\":\"float64\",\"shape\":[36]},\"predictions\":[3,3,3,3,3,3,3,3,3,3,3,3,3,3,3,3,3,3,3,3,3,3,3,3,3,3,3,3,3,3,3,3,3,3,3,3]},\"selected\":{\"id\":\"4741\",\"type\":\"Selection\"},\"selection_policy\":{\"id\":\"4780\",\"type\":\"UnionRenderers\"}},\"id\":\"4740\",\"type\":\"ColumnDataSource\"},{\"attributes\":{\"label\":{\"value\":\"4\"},\"renderers\":[{\"id\":\"4767\",\"type\":\"GlyphRenderer\"}]},\"id\":\"4783\",\"type\":\"LegendItem\"},{\"attributes\":{\"callback\":null,\"end\":6.19718030442504,\"reset_end\":6.19718030442504,\"reset_start\":-5.088976950117465,\"start\":-5.088976950117465,\"tags\":[[[\"pc2\",\"pc2\",null]]]},\"id\":\"4647\",\"type\":\"Range1d\"},{\"attributes\":{},\"id\":\"4668\",\"type\":\"BasicTicker\"},{\"attributes\":{\"overlay\":{\"id\":\"4701\",\"type\":\"BoxAnnotation\"}},\"id\":\"4675\",\"type\":\"BoxZoomTool\"},{\"attributes\":{},\"id\":\"4676\",\"type\":\"ResetTool\"},{\"attributes\":{},\"id\":\"4741\",\"type\":\"Selection\"},{\"attributes\":{},\"id\":\"4663\",\"type\":\"BasicTicker\"},{\"attributes\":{\"label\":{\"value\":\"0\"},\"renderers\":[{\"id\":\"4694\",\"type\":\"GlyphRenderer\"}]},\"id\":\"4703\",\"type\":\"LegendItem\"},{\"attributes\":{},\"id\":\"4797\",\"type\":\"UnionRenderers\"},{\"attributes\":{\"dimension\":1,\"grid_line_color\":null,\"ticker\":{\"id\":\"4668\",\"type\":\"BasicTicker\"}},\"id\":\"4671\",\"type\":\"Grid\"},{\"attributes\":{},\"id\":\"4684\",\"type\":\"BasicTickFormatter\"},{\"attributes\":{\"callback\":null,\"renderers\":[{\"id\":\"4694\",\"type\":\"GlyphRenderer\"},{\"id\":\"4710\",\"type\":\"GlyphRenderer\"},{\"id\":\"4727\",\"type\":\"GlyphRenderer\"},{\"id\":\"4746\",\"type\":\"GlyphRenderer\"},{\"id\":\"4767\",\"type\":\"GlyphRenderer\"}],\"tags\":[\"hv_created\"],\"tooltips\":[[\"predictions\",\"@{predictions}\"],[\"pc1\",\"@{pc1}\"],[\"pc2\",\"@{pc2}\"]]},\"id\":\"4648\",\"type\":\"HoverTool\"},{\"attributes\":{},\"id\":\"4705\",\"type\":\"Selection\"},{\"attributes\":{\"axis_label\":\"pc2\",\"bounds\":\"auto\",\"formatter\":{\"id\":\"4686\",\"type\":\"BasicTickFormatter\"},\"major_label_orientation\":\"horizontal\",\"ticker\":{\"id\":\"4668\",\"type\":\"BasicTicker\"}},\"id\":\"4667\",\"type\":\"LinearAxis\"},{\"attributes\":{\"bottom_units\":\"screen\",\"fill_alpha\":{\"value\":0.5},\"fill_color\":{\"value\":\"lightgrey\"},\"left_units\":\"screen\",\"level\":\"overlay\",\"line_alpha\":{\"value\":1.0},\"line_color\":{\"value\":\"black\"},\"line_dash\":[4,4],\"line_width\":{\"value\":2},\"render_mode\":\"css\",\"right_units\":\"screen\",\"top_units\":\"screen\"},\"id\":\"4701\",\"type\":\"BoxAnnotation\"},{\"attributes\":{\"click_policy\":\"mute\",\"items\":[{\"id\":\"4703\",\"type\":\"LegendItem\"},{\"id\":\"4720\",\"type\":\"LegendItem\"},{\"id\":\"4739\",\"type\":\"LegendItem\"},{\"id\":\"4760\",\"type\":\"LegendItem\"},{\"id\":\"4783\",\"type\":\"LegendItem\"}],\"location\":[0,0]},\"id\":\"4702\",\"type\":\"Legend\"},{\"attributes\":{\"data_source\":{\"id\":\"4721\",\"type\":\"ColumnDataSource\"},\"glyph\":{\"id\":\"4724\",\"type\":\"Scatter\"},\"hover_glyph\":null,\"muted_glyph\":{\"id\":\"4726\",\"type\":\"Scatter\"},\"nonselection_glyph\":{\"id\":\"4725\",\"type\":\"Scatter\"},\"selection_glyph\":null,\"view\":{\"id\":\"4728\",\"type\":\"CDSView\"}},\"id\":\"4727\",\"type\":\"GlyphRenderer\"},{\"attributes\":{\"grid_line_color\":null,\"ticker\":{\"id\":\"4663\",\"type\":\"BasicTicker\"}},\"id\":\"4666\",\"type\":\"Grid\"},{\"attributes\":{\"callback\":null,\"end\":8.414810173808107,\"reset_end\":8.414810173808107,\"reset_start\":-2.947478398876118,\"start\":-2.947478398876118,\"tags\":[[[\"pc1\",\"pc1\",null]]]},\"id\":\"4646\",\"type\":\"Range1d\"},{\"attributes\":{\"source\":{\"id\":\"4688\",\"type\":\"ColumnDataSource\"}},\"id\":\"4695\",\"type\":\"CDSView\"},{\"attributes\":{\"fill_alpha\":{\"value\":0.1},\"fill_color\":{\"value\":\"#1f77b4\"},\"line_alpha\":{\"value\":0.1},\"line_color\":{\"value\":\"#1f77b4\"},\"size\":{\"units\":\"screen\",\"value\":5.477225575051661},\"x\":{\"field\":\"pc1\"},\"y\":{\"field\":\"pc2\"}},\"id\":\"4692\",\"type\":\"Scatter\"},{\"attributes\":{\"fill_color\":{\"value\":\"#9467bd\"},\"line_color\":{\"value\":\"#9467bd\"},\"size\":{\"units\":\"screen\",\"value\":5.477225575051661},\"x\":{\"field\":\"pc1\"},\"y\":{\"field\":\"pc2\"}},\"id\":\"4764\",\"type\":\"Scatter\"},{\"attributes\":{},\"id\":\"4736\",\"type\":\"UnionRenderers\"},{\"attributes\":{\"text\":\"\",\"text_color\":{\"value\":\"black\"},\"text_font_size\":{\"value\":\"12pt\"}},\"id\":\"4654\",\"type\":\"Title\"},{\"attributes\":{\"fill_alpha\":{\"value\":0.2},\"fill_color\":{\"value\":\"#9467bd\"},\"line_alpha\":{\"value\":0.2},\"line_color\":{\"value\":\"#9467bd\"},\"size\":{\"units\":\"screen\",\"value\":5.477225575051661},\"x\":{\"field\":\"pc1\"},\"y\":{\"field\":\"pc2\"}},\"id\":\"4766\",\"type\":\"Scatter\"},{\"attributes\":{\"fill_color\":{\"value\":\"#1f77b4\"},\"line_color\":{\"value\":\"#1f77b4\"},\"size\":{\"units\":\"screen\",\"value\":5.477225575051661},\"x\":{\"field\":\"pc1\"},\"y\":{\"field\":\"pc2\"}},\"id\":\"4691\",\"type\":\"Scatter\"},{\"attributes\":{\"axis_label\":\"pc1\",\"bounds\":\"auto\",\"formatter\":{\"id\":\"4684\",\"type\":\"BasicTickFormatter\"},\"major_label_orientation\":\"horizontal\",\"ticker\":{\"id\":\"4663\",\"type\":\"BasicTicker\"}},\"id\":\"4662\",\"type\":\"LinearAxis\"},{\"attributes\":{},\"id\":\"4658\",\"type\":\"LinearScale\"},{\"attributes\":{\"callback\":null,\"data\":{\"pc1\":{\"__ndarray__\":\"fAhW28d6A0BDlP1wKB/GP/e0s1Eg1Om/D93FUASl87/7npOd9MrjP/XNfVwHdf0//CGAo4uu8z94Vexl0q7Uv/PyZc7rIPc/7wvjo0Ze7j+SUcStqTHkv7aYYQ9oTeg/eLPqVo8cxL/g4I2eaUP4P4YB7sxYJPK/giZRzaQy+L9xV9sgcLj9P266xO/LyvC/MoV3gxVK0L9LZkpl7zAKQFpyVCNeXvU/OuCP2Qr8AkA8BhCXEWz+P0wMoL8XnPa/pq6MzWdj47/iQXuivNjyv47izYX1GOK/HYmPbFi8yr8sWfEUf8vjv2ZdkRavwdM/dhMf5loe6b/KDZxG/FP0P28a4Lowl9s/XosLw+4avr+5mcwiLmXgvzjutmSvm/Y/gqVZMWfM+T+79If2o9X1v+wkwGdlDOE/NpQAgxlC8L9E/Frwkw3sv0d0aR2EROy/BJVNtkiB+L/KobI0Hp4BQBC/17Mzs+W/tB8xGmlO+r/+TZntLVPBP82WZ2Lxg7Q/ecdYVdEQ7r/zQ+eYlK/zv4mBwRJ60/G/705NiVq3zj9Z2WVtebiAv8piybN/Hew/8HH9PXxj6D9T3V+n+kvuv4+xJzc6RM8/MX+enEbPBECmnJ2a80j1v6zbCF3hVPu/e2RKi2rB6L9LDz72ppTxv7M5xrJ6U5Y/TVRoqCiV+79VhQk4Z8jyP90SxXIaUuU/H+jXjYn+9D9o06yXqw7zv31/bYfPRdk/L/8MaPYQAkBGmpGYcfW3P8djw3jyogHAGiZL+sGU7z9j/Z5A5Jrzv5GYpRfkI9k/Orgxhxr67b/EQjIBxUvzv0WRrDpEv76/SvFkIkWY3D/pwLugzVWPvzDov+spzuO/aFrek/uc5b/RvWC3gqXpPxcUsseTDee/GyxGzz8u2T80yVXDwfj5v8kCPhPYXZ+/08asfo4O2r+nmkipP8vnv+ueZfvJltu/5JV1Pawk8b9gZgSoCjDVv9W8Z1wr3/G/oUyHaux/8T+3AMDEeXf8P0Z7VSFLge2/l5bwFLv43r94yIUj+wC0Pz84IpXbu98/Zapa5KJJ4L91oVl8d2jyPy3X2lr05v0/wTTH/G2F4D9jXYuC/TAJQBCLxtvRM/a/TAfQudVS9z/IWVqAmZbev3jkQjWZB9Q/5wP0tBRa3L9gdO+J6Erkv8UX+V5DDN6/R0C0f+MH8L86bdXZfivkP/romxEQpfC/z54BXDTL27/YBgdRZhvyP/LXJYD9VgpA8bcEDf6277+lMpmIXeDrP6p9abATCuW/7hc3bHg00j+6mh6MhugAwG4KBnw53t2/aV/9AQAD9b+oJg5RP627PwAOyczfacK/l+/SeACd37/U2aepZKXCP8v+pWJ9heK/EbPmcAN/479S9rrIYzntv+DAgtigPNC/mETGUdRL0j/kGk9XbdSAv0LQnyAEx3q/6rhM0i+H8L90TJLxKaP0vw==\",\"dtype\":\"float64\",\"shape\":[137]},\"pc2\":{\"__ndarray__\":\"G0pbCBUw6L/pH1FDHLXwP8zCZTuSH/U/r7DI3ewF7D8Y5NkyQCruP3P4mE7P6Ku/HWkotiB68L8BG61bNUbkP0M38apxoO2/2wN5uUj97j+uMIFHbYfpP5Lgi7bL882/V7/liQVE4z8kGIT/pr7xv7gwrVkmY8s/v1wlN8hH+z//fQikuaLVP5IHgBPgBfs/7Rfg+L7vwT8IAOH2JjH4v0f/+rOsdKU/Qfl86vKY8T+XIO4tpjO1P39HtMVkafA/bCf87l6D8z/8AIlpUJLoPxBOTneaWeA/1MvcTXSO9T92JhBTRPDZPxfCUPlTsfI/sCnhlUg06T/LAuwdLUH0v4ND/+gEI+w/+jFM7Fk76D8rsqbGONYAQOxUYHtnpdo/RYqWTJKo6z/il/hg1/DoP7EFhj1CBPE/Jmt95v8K8D/WupY2e/LwP7hO/VqgzoC/PWc8zkVx9T8pVwPvhpDDvzobN/sJZNc/ZrLutcwW/z/FyR4VrnL2P20vY3Q5t+M/LbuII6H/4T9pd35caybvP+uttbicIfQ/RoiIDUhD8D9D+TMcUSvnP+ieS3ii8+w/qxeWkWMx1L/A8SGGEcjTP9fGZ2w3SfA/4TiFwgXN8r/4Gs4C0qTvP80KgWysX/o/dIMPLe8b5j8hwabDosrlP3OWi+XppuA/S1aEmfh+6z+VSeI32QgAwGh3QNcxSbK/RETqPkEw97+olQcE5gLsP2u4A+RpU+Q/fK0TFf626r/k+tFdtOG0P2euBAD27uY/BSNwMRRe3r//O19Y8YH3PzH+0qI4cOo/yjKSTPFT9D/HUVxosy79P8MvHH1f6OE/GxIAbB6S8T83+R2QuKv3PwjjxZ5eUNA/sq9t3aMOBUB10aTJgoT1P6P8M2J4ydk/c9KHalS6yb+kkflv83XlP8qDcExbJ8Q/T6F3kBbZ/T8v0P+gV9vxPxqmRDMOm/Q/3wt3XnAU4z8w7Fedk4cAQCgVoQg2Q+w/BSbUZex/+T8aKyYZQG/QPwAUUu7S7+o/nyapq5KP5z+wpO3bkq7dP4KDJ73e9cw/sY8Dqv8B9j+VTFhZ3b7EPzIiXdlcaOo/577qm8eg+j8zjL8Hhx/AP75bDv4dXOo/JdAvSdtD6D+I/hcmuFfuP5Ou+2Vr5+W/6wx+3Iby5D+hZny0FpzzP8wDXPNrFfA/IunBTDCZ5T+MuvvBjMbQP+8Nahgp9vw/Jl2nNttQyz/T4GJHSQH0P5MAr2c1bt0/LgzbhxpT8j8V2ZgqmLb1P3qyRUA3j+U/koyJN9Ef6D8GG3a04+jxP8MclI10C+K/KuaHbywK4T+zcbNguLX6P13Jdx9oA+I/kzjskWJ29L/GLB0FFt73P6Kp3U73XeM/wzibR3fi4z9pa44vjlX1P3cr/N0s7uU/HHAY64Sa9j+rz9foRuL8P/uuI9PORfM/NzSLOGeo+T+TdSaU9TP2Pw==\",\"dtype\":\"float64\",\"shape\":[137]},\"predictions\":[0,0,0,0,0,0,0,0,0,0,0,0,0,0,0,0,0,0,0,0,0,0,0,0,0,0,0,0,0,0,0,0,0,0,0,0,0,0,0,0,0,0,0,0,0,0,0,0,0,0,0,0,0,0,0,0,0,0,0,0,0,0,0,0,0,0,0,0,0,0,0,0,0,0,0,0,0,0,0,0,0,0,0,0,0,0,0,0,0,0,0,0,0,0,0,0,0,0,0,0,0,0,0,0,0,0,0,0,0,0,0,0,0,0,0,0,0,0,0,0,0,0,0,0,0,0,0,0,0,0,0,0,0,0,0,0,0]},\"selected\":{\"id\":\"4689\",\"type\":\"Selection\"},\"selection_policy\":{\"id\":\"4717\",\"type\":\"UnionRenderers\"}},\"id\":\"4688\",\"type\":\"ColumnDataSource\"},{\"attributes\":{},\"id\":\"4660\",\"type\":\"LinearScale\"},{\"attributes\":{\"fill_alpha\":{\"value\":0.1},\"fill_color\":{\"value\":\"#9467bd\"},\"line_alpha\":{\"value\":0.1},\"line_color\":{\"value\":\"#9467bd\"},\"size\":{\"units\":\"screen\",\"value\":5.477225575051661},\"x\":{\"field\":\"pc1\"},\"y\":{\"field\":\"pc2\"}},\"id\":\"4765\",\"type\":\"Scatter\"},{\"attributes\":{},\"id\":\"4689\",\"type\":\"Selection\"},{\"attributes\":{\"callback\":null,\"data\":{\"pc1\":{\"__ndarray__\":\"HoXghSu+/z+PZhvdojbbv60h/bMEt+Q/EB+QA81pCUDXvnp0H73FPyTsyp6H4eW/sr6tHtFq/r8By/zQyW/tvzeLFK5TLdm/W8vgkgyC4j9BDdgPy1L6v5kwSVJ1V9U/X7QWyxfz5D/uSDthMxHwv+ncPH+oLvs/Dwn45fY/8b8wrrXbUJTyP+SOCw7zHeO/YvYnmaJZ4j+1l+6Pv5zhP+/Lu+Sx1uq/XPEpNOv97L8xfDXgUkAMQJfktVMAdPa/4uRSr4FN878M7HTEvqQBwMqqanapsfi/i+rtE0va6r/dkElEDhvkv54e34tHy+I/TZeGjQct8788BHU0z0Tjv8HNKFeuQvO/Mwgiwgon9b++/aWPGmj+vxLnm3Om976/BPTB5wUN0D+otVQl728HQLOCzsDJ8LA/o5xFFcO+0b99F9kBt5Hsv2DTytNk1vc/R3VuoOgGA0Ag+SFJ/JfTvydukLG3BwDA8hOJNaBy0T8OQhqnEMzyvz8h6kWWRPI//UI3/hjuzL8FwN2gJ4rbv0dg2moeXfG/tWTHlsKg5T8fYFIYVNrTP/par9Bu9uQ/eOpRzr5C+b+65grTar/kv2Mhk2gnUNU/MhwY+aCUAcBRS7KkKE/svyDEVFvmROK/V/pg8+vS278FrxDfVJXtv0D/CwTi+va/hjb9nUf30L+Hup3aD9Tfvx0ZN/k0RdI/gEJPGN4G/j9+WLsE07Dyv5r67jXOH/i/TkUx4vPY6L9xFo40Rr73v5spGOykQ/U/0F9fb32z+7+LGkpWASfnPyCoptg0yNK/mC/kdbiA/r/AFWLw7oD+v6m5cSHJsNq/isHN0rUA+r+9Pndxe/7wvx5oZoRaj/a/P/yfme3y+79Ms4mBAv/zPzjLK3enqdq/0PhYrFwq8r/RVLQViBXiv3jknWx0/Po/M/D9RAFX8L+PmGo4ACfmP50NyKyRWeW/zQyc72im+b/S2qImOljYv0tH0uQW9/c/ybig7sfqkb+7IAYy3A/YvxWcPwizpLi/UuxvVo/U9b9IwQaP/mLaPw5NZnhXtPW/jBPDQbpz87/6QK50lbHXv0lCxQYBYf+/jI0+lcdT87+RUBVNMarwv6d+pbKOf+u/6eZapg049j9zl6boDMG1v+4SH/RSWPO/BSngWq7b7r+XfFp9Qd/GP+7KEdk+cvu/4DnVVwMV9z8lOfna4WfgP1ZjjMVe1PO/PFufwX/r87/sfnxB7Tz1P9DP0ccKegFAxCQ0TcjW9L91upfWB6fWv0G5p4ooUfK/m+mMWI/66b9wD4PcpLawvyUDUra0peK/SfKuom1O7r8g0bH1qL/wPxRtI6qYYAXA5xAGoUOT1b/xnyJAmTHxv7H2FpWf+8Y/lx6Ko1XL4b+UG0mv/Ejov55nUD+fJro/FnZDREwp+7/HC6NI21Dsv7nMeJT34du/Jdt8avXq8b+WD75yt1oCwFhNOnZ2//a/0XJ8CulMx79xnyRMnq73v7umEEZnp/K/nf2F9ieL+j9tklI/1m78v27oGJZWb+6/oNoOKWsv57+w9hrFQsP0vwlFp0vTUdC/+s8PH0yWAcBlVS+lZeH8vxJV4ucgHvu/6n7Xkr7s9T8zdYm7HuYDwN6g6gBvBei/5NgxuIPqBkCWVEVPErcCwPi7BtmCxPA/rAGVEJrj5b+3N/uPO2Xav+8lpbfyC+e/yFjHN2nR579D8FSN13PXv2AlFOTPs/q/ieGk6I4h9L+XFW5hyAICwOW13TYdAfq/RWps0xmC6796lU4KN97xv8oDUUvxFei/SRWNqi5u4b+BqGr6fHnsv1AdsvW8F8c/e72tejiVyD/3HqE3gkD7v8LV2v88gfa/WU3KJJVD27/TVyX00AjKvzW1JckVCP+/bpC0R/wp7j+PBh5fsxT2vzBKOyUV7/6/CLcGjm+UB8AVXAE2HSjlv+qxFRj7c/a/efa000828b+S8t8GyLvbP8sZmRIfafO/RkX9QdYZ8L8aOTvLjf/nv9QCv363auQ/9NOActwwor+pMTTg1VftvySPniYJ9fG/HudIRMo+9r9BdTyYUJ7pvz+J9cezqrY/C29FYN8l47/+GsNDMpnQvx+uw6Had+0/BzU8Blqi7b+YZZp8YSP+v1+aqrbIZ+2/UHLq9TTB+L+Z/z+3SdMAwLheHqj3prC/m28vub1k97+WRwlSMiPiv3jB0FXt+dW/E6zXCJr87r/GfTmKECrovwh3DjnwRfu/yCaCD8+r97/kbhQ9sdHdv+0xMiUbw/A/exiX/E3v/T8Kk0wgVMPgv7b9jfVjK/i/LPl9lmub9b9T61ye7myUv6L58+ZCPfi/\",\"dtype\":\"float64\",\"shape\":[219]},\"pc2\":{\"__ndarray__\":\"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\",\"dtype\":\"float64\",\"shape\":[219]},\"predictions\":[2,2,2,2,2,2,2,2,2,2,2,2,2,2,2,2,2,2,2,2,2,2,2,2,2,2,2,2,2,2,2,2,2,2,2,2,2,2,2,2,2,2,2,2,2,2,2,2,2,2,2,2,2,2,2,2,2,2,2,2,2,2,2,2,2,2,2,2,2,2,2,2,2,2,2,2,2,2,2,2,2,2,2,2,2,2,2,2,2,2,2,2,2,2,2,2,2,2,2,2,2,2,2,2,2,2,2,2,2,2,2,2,2,2,2,2,2,2,2,2,2,2,2,2,2,2,2,2,2,2,2,2,2,2,2,2,2,2,2,2,2,2,2,2,2,2,2,2,2,2,2,2,2,2,2,2,2,2,2,2,2,2,2,2,2,2,2,2,2,2,2,2,2,2,2,2,2,2,2,2,2,2,2,2,2,2,2,2,2,2,2,2,2,2,2,2,2,2,2,2,2,2,2,2,2,2,2,2,2,2,2,2,2,2,2,2,2,2,2]},\"selected\":{\"id\":\"4722\",\"type\":\"Selection\"},\"selection_policy\":{\"id\":\"4757\",\"type\":\"UnionRenderers\"}},\"id\":\"4721\",\"type\":\"ColumnDataSource\"},{\"attributes\":{},\"id\":\"4722\",\"type\":\"Selection\"}],\"root_ids\":[\"4653\"]},\"title\":\"Bokeh Application\",\"version\":\"1.3.4\"}};\n",
       "  var render_items = [{\"docid\":\"2294d2eb-aefc-4028-b260-dba188d5dfe6\",\"roots\":{\"4653\":\"3be31ea4-73ef-4ce4-92ee-79d951f38592\"}}];\n",
       "  root.Bokeh.embed.embed_items_notebook(docs_json, render_items);\n",
       "\n",
       "  }\n",
       "  if (root.Bokeh !== undefined) {\n",
       "    embed_document(root);\n",
       "  } else {\n",
       "    var attempts = 0;\n",
       "    var timer = setInterval(function(root) {\n",
       "      if (root.Bokeh !== undefined) {\n",
       "        embed_document(root);\n",
       "        clearInterval(timer);\n",
       "      }\n",
       "      attempts++;\n",
       "      if (attempts > 100) {\n",
       "        console.log(\"Bokeh: ERROR: Unable to run BokehJS code because BokehJS library is missing\");\n",
       "        clearInterval(timer);\n",
       "      }\n",
       "    }, 10, root)\n",
       "  }\n",
       "})(window);</script>"
      ],
      "text/plain": [
       ":NdOverlay   [predictions]\n",
       "   :Scatter   [pc1]   (pc2)"
      ]
     },
     "execution_count": 105,
     "metadata": {
      "application/vnd.holoviews_exec.v0+json": {
       "id": "4653"
      }
     },
     "output_type": "execute_result"
    }
   ],
   "source": [
    "sp500_pca = pd.DataFrame(\n",
    "    data=sp500_pca, columns=[\"pc1\", \"pc2\", 'pc3', 'pc4', 'pc5', 'pc6']\n",
    ")\n",
    "\n",
    "sp500_pca_pred = pd.concat([sp500_pca, predictions], axis=1)\n",
    "sp500_pca_pred.hvplot.scatter(x='pc1', y='pc2', by='predictions')"
   ]
  },
  {
   "cell_type": "code",
   "execution_count": 85,
   "metadata": {},
   "outputs": [
    {
     "data": {
      "application/vnd.plotly.v1+json": {
       "config": {
        "plotlyServerURL": "https://plot.ly"
       },
       "data": [
        {
         "hoverlabel": {
          "namelength": 0
         },
         "hovertemplate": "pc1=%{x}<br>pc2=%{y}<br>pc3=%{z}<br>predictions=%{marker.color}",
         "legendgroup": "",
         "marker": {
          "color": [
           0,
           0,
           0,
           0,
           0,
           0,
           0,
           0,
           0,
           0,
           0,
           0,
           0,
           0,
           0,
           0,
           0,
           0,
           0,
           2,
           0,
           0,
           0,
           0,
           0,
           0,
           0,
           0,
           0,
           0,
           0,
           0,
           0,
           0,
           0,
           0,
           0,
           0,
           0,
           0,
           0,
           0,
           0,
           0,
           0,
           0,
           0,
           0,
           0,
           0,
           0,
           0,
           0,
           0,
           0,
           0,
           0,
           0,
           0,
           0,
           0,
           0,
           0,
           0,
           0,
           0,
           0,
           0,
           0,
           0,
           0,
           0,
           0,
           0,
           0,
           0,
           0,
           0,
           0,
           0,
           0,
           0,
           0,
           0,
           0,
           0,
           0,
           0,
           0,
           0,
           0,
           0,
           0,
           0,
           0,
           0,
           0,
           0,
           0,
           0,
           0,
           0,
           0,
           0,
           0,
           0,
           0,
           0,
           0,
           0,
           0,
           0,
           0,
           0,
           0,
           0,
           0,
           0,
           0,
           0,
           0,
           0,
           0,
           0,
           0,
           0,
           0,
           0,
           0,
           0,
           0,
           0,
           0,
           0,
           0,
           0,
           1,
           0,
           0,
           0,
           0,
           0,
           0,
           0,
           0,
           0,
           0,
           0,
           0,
           0,
           0,
           0,
           0,
           0,
           0,
           0,
           0,
           0,
           0,
           0,
           0,
           0,
           0,
           0,
           0,
           0,
           0,
           0,
           0,
           0,
           0,
           0,
           0,
           0,
           0,
           0,
           0,
           0,
           0,
           0,
           0,
           0,
           0,
           0,
           0,
           0,
           0,
           0,
           0,
           0,
           0,
           0,
           0,
           0,
           0,
           0,
           0,
           0,
           0,
           0,
           0,
           0,
           0,
           0,
           0,
           0,
           0,
           0,
           0,
           0,
           0,
           0,
           0,
           0,
           0,
           0,
           0,
           0,
           0,
           0,
           0,
           0,
           0,
           0,
           0,
           0,
           0,
           0,
           0,
           0,
           0,
           0,
           0,
           0,
           0,
           0,
           0,
           0,
           0,
           0,
           0,
           0,
           0,
           0,
           0,
           0,
           0,
           0,
           0,
           0,
           0,
           0,
           0,
           0,
           0,
           0,
           0,
           0,
           0,
           0,
           0,
           0,
           0,
           0,
           0,
           0,
           0,
           0,
           0,
           0,
           0,
           0,
           0,
           0,
           0,
           0,
           0,
           0,
           0,
           0,
           0,
           0,
           0,
           0,
           0,
           0,
           0,
           0,
           0,
           0,
           0,
           0,
           0,
           0,
           0,
           0,
           0,
           0,
           0,
           0,
           0,
           0,
           0,
           0,
           0,
           0,
           0,
           0,
           0,
           0,
           0,
           0,
           0,
           0,
           0,
           0,
           0,
           0,
           0,
           0,
           0,
           0,
           0,
           0,
           0,
           0,
           0,
           0,
           0,
           0,
           0,
           0,
           0,
           0,
           0,
           0,
           0,
           0,
           0,
           0,
           0,
           0,
           0,
           0,
           0,
           0,
           0,
           0,
           0,
           0,
           0,
           0,
           0,
           0,
           0,
           0,
           0,
           0,
           0,
           0,
           0,
           0,
           0,
           0,
           0,
           0,
           0,
           0,
           0,
           0,
           0,
           0,
           0,
           0,
           0,
           0,
           0,
           0,
           0,
           0,
           0,
           1,
           0,
           0,
           0,
           0,
           0,
           0,
           0,
           0,
           0,
           0,
           0,
           0,
           0,
           0,
           0,
           0,
           0,
           3,
           0,
           0,
           0,
           0,
           0,
           0,
           0,
           0,
           0,
           0,
           0,
           0,
           0,
           0,
           0,
           0,
           0,
           0,
           0,
           0,
           0,
           0,
           0,
           0,
           0,
           0,
           0,
           0,
           0,
           0,
           0,
           0,
           0,
           0,
           0,
           0,
           0,
           0,
           0,
           0,
           0,
           0,
           0,
           0,
           0,
           0,
           0,
           0,
           0,
           0,
           0,
           0,
           0,
           0,
           0,
           0,
           0,
           0,
           0,
           0,
           0,
           0,
           0,
           0,
           0,
           0,
           0,
           0,
           0,
           0,
           0,
           0,
           0,
           0,
           0,
           0,
           0,
           0,
           0,
           0,
           0,
           0,
           0,
           0,
           0,
           0,
           0,
           0,
           0,
           0,
           0,
           0,
           0,
           0,
           0,
           0,
           0
          ],
          "coloraxis": "coloraxis",
          "symbol": "circle"
         },
         "mode": "markers",
         "name": "",
         "scene": "scene",
         "showlegend": false,
         "type": "scatter3d",
         "x": [
          0.8930917513750674,
          1.3981163374368477,
          0.14468861870271202,
          -1.748602449071187,
          1.1554049324542561,
          -0.8594836652275094,
          0.6661024838560686,
          3.652420554919646,
          0.9294093912708454,
          -0.2093931942699937,
          0.5742486300498665,
          0.15404175162703848,
          -1.2887836861460973,
          4.734416952637843,
          -0.37241505327230207,
          -0.27480514648925297,
          -0.37402407408362554,
          1.0007960708959383,
          1.1065228193030718,
          4.12974119451658,
          1.8101646599357122,
          0.34292284291877717,
          1.729889380149396,
          -0.8075560384279257,
          1.1964978139686613,
          -0.2643453933038289,
          -1.158688774604981,
          1.297013905352797,
          0.5336487283749977,
          1.1684072662956078,
          -0.2513414961817773,
          0.1824238555294326,
          0.6744913712659191,
          -0.8948211341179761,
          0.6960063341226366,
          3.1091755967706214,
          1.8205675870406588,
          -2.790795072045814,
          1.9433747150429335,
          -1.515084942861997,
          -0.8059774382780637,
          -1.1255724402559253,
          2.5817457584374606,
          0.18666960046053596,
          1.490345410148421,
          -0.6670710874988073,
          -0.7293532934891009,
          0.265719392714785,
          -0.11576097152502653,
          -0.7730289895753232,
          1.3508701583796796,
          -0.34845258626614684,
          2.5797251833532826,
          0.8728596749998816,
          2.6697448495258604,
          -0.4737393948173995,
          0.9937562347310583,
          -0.39584926868571935,
          2.016289108669791,
          -0.3837668936684562,
          -1.8476745540623174,
          0.05178985257728186,
          0.3570806696057528,
          -1.2119862573614761,
          -1.6001656741176187,
          1.6063121860074179,
          2.6988199219870053,
          1.7573096839161646,
          0.9514585179573484,
          0.2924058080078944,
          -0.8654839087804314,
          -0.25157007242290175,
          1.9868973329862185,
          -0.3046623370500772,
          0.23904300271196482,
          -0.80410368157103,
          -0.3923807278798691,
          0.05346079147458943,
          -0.13080077495289075,
          0.7452293304900408,
          -0.8907083936981136,
          2.640514289765941,
          0.34171604185699433,
          -0.6715487818437539,
          0.8345040565237842,
          0.9919288534650512,
          -1.040549468278701,
          -0.40019049654250455,
          0.4501816433136613,
          0.4427822100012611,
          0.6156300796592695,
          6.11334082860116,
          1.7244215909249856,
          0.5447139229098106,
          0.008951391627780483,
          1.009867414174836,
          1.2574833598963855,
          -0.11919642127808802,
          0.5462715873458782,
          -0.5572496602138453,
          -4.172106339468538,
          -0.07524681699267266,
          2.2312452919605588,
          0.058141330317821704,
          1.7166411968111155,
          0.7453750313139478,
          0.8873201076634234,
          0.4615487815590457,
          1.2356875712194224,
          1.1322817440350232,
          0.37543148626592854,
          2.5408738599730105,
          0.03497729515375955,
          -1.2304488713488968,
          -0.2697984091223273,
          -0.6742376208762093,
          -0.47742670298440393,
          -1.09435134904989,
          -0.21598710690126358,
          1.9359757192242335,
          -0.8312361569938919,
          -1.5695368006761734,
          0.5267911803222245,
          -2.9441655441003185,
          -1.2339305197878292,
          -1.0376568666468609,
          0.8262060722393365,
          0.5322658133567973,
          -0.19965075682974934,
          0.20892516882699855,
          0.5662671493352419,
          0.28060209286721455,
          -0.32276219458093586,
          0.6003251921711512,
          -0.15433109191636152,
          -0.7541810891538325,
          2.3118201472609794,
          2.07365736284384,
          -0.6670362886144382,
          0.09527610637698539,
          -0.3377113452498483,
          0.8169786746145549,
          -1.0584558327791005,
          2.662742599111812,
          -1.55044378100226,
          0.21628664827988378,
          -4.534850196493934,
          3.438833457000018,
          0.12853867477584466,
          -0.23862967063600846,
          -0.18965477129770464,
          -0.2474765805517136,
          -0.16838424895144127,
          0.11070431127150657,
          0.8176014508839723,
          0.5137867600431028,
          0.9878083863411569,
          0.8776019416325852,
          -2.769079487279779,
          0.8500290462100699,
          -0.9568457520924832,
          -3.217943242236075,
          0.2903463999269525,
          0.1846165014460779,
          -1.75166170310154,
          -0.2525246848757503,
          -0.8274824334589749,
          -1.7312473788155043,
          -2.062891389281663,
          4.365822750410812,
          -2.0585273929085828,
          -0.27856442229430506,
          0.15627775626098678,
          0.19470288727386664,
          -0.8657087955529972,
          -1.1504240133297974,
          -0.12604036224326134,
          -0.9106073499997313,
          -0.5291087453066395,
          0.16159570767864126,
          0.5362554793949311,
          5.215428974657729,
          -0.13767357630732083,
          1.1432477130542886,
          0.6420569197186173,
          -1.0690933977111132,
          1.5175364810517187,
          0.47538296409198133,
          -0.5025748320555955,
          0.8264913127413115,
          -0.48571054346787723,
          2.4721447209650274,
          -0.40718658601389784,
          0.3209952982210737,
          -0.37346760372653587,
          -1.1509788266759506,
          0.7949164101835788,
          1.687058532410486,
          -0.701101690293971,
          -0.4259026838600455,
          1.7153861182037666,
          1.476824929502824,
          5.00110324996112,
          1.260715142571344,
          0.8403099061249398,
          -0.09713052921539769,
          2.166160791264369,
          -0.8300428259013036,
          -0.6316407731224511,
          2.0855460945932536,
          0.7155952205045667,
          -1.878958377659576,
          0.3475038788516904,
          0.2357278867910428,
          0.9846560671386719,
          -0.6199729380551277,
          -0.8249932559441011,
          2.0835960543805325,
          1.3547049447139279,
          -0.48067937966014596,
          -1.6838533761836723,
          1.5686847711018042,
          -0.6341632312948089,
          0.30274484345578956,
          0.8213234473966555,
          0.5850497469636097,
          0.7648576705208335,
          -0.8564812324361996,
          0.44542381225115707,
          -1.5913062576048536,
          0.11755804792758023,
          -0.4318289336243531,
          -0.38777049531814956,
          -1.0792436393658205,
          0.4738603414364837,
          -0.6001297348504614,
          1.3581568487126359,
          1.4096858652379332,
          -0.7207995339790485,
          -0.010624663680249587,
          -1.397228073514236,
          1.8548962339660033,
          0.7791063569083615,
          -1.4320497618353116,
          1.1526548999828523,
          0.38598273667659605,
          -1.394836618333489,
          -1.645604352955477,
          0.2806574125123601,
          0.7120574733262267,
          1.1998053730503797,
          -0.08570500888692324,
          1.2682374985084255,
          0.898758142600567,
          -0.45034832885798237,
          0.2769363367354654,
          2.355618406567229,
          -0.013993098970014516,
          -0.48589655073829524,
          -0.8130548165589779,
          -0.45015957772549836,
          1.269261154584768,
          7.7856883623536755,
          -0.5177834491440731,
          -2.068859284362409,
          0.5168886023034203,
          1.1404604767147937,
          -0.4732618302986901,
          -0.17553844855269002,
          0.17480733244177157,
          -0.8280813407160071,
          1.0205578459823224,
          -0.7235555232526716,
          3.723485015064845,
          -0.12515991546049116,
          0.5374400781368824,
          -0.09996144495758676,
          -1.0997773788966216,
          0.41148029575034356,
          -1.500711188289094,
          -0.35676563384607546,
          0.8414675976762499,
          0.770261271320156,
          2.404153104812806,
          -1.6406553495814906,
          -0.07743095193529012,
          -0.7244664340450523,
          0.13744225150719114,
          -0.18077207056733652,
          -1.6084173443374759,
          0.16360550732498308,
          -0.44326555171697146,
          -1.4152945932997254,
          2.2502535437911755,
          -0.23913850168235043,
          -2.9527636532417927,
          0.584192467936619,
          0.17995691446878656,
          0.5294696972419535,
          -1.2371573126121238,
          1.5758826871794054,
          -1.2232338783715186,
          0.8796401397091651,
          0.8133098443852245,
          -0.19015485957827774,
          -1.5083893216470836,
          -0.3806549007712773,
          -0.5687708934023274,
          -1.074197783557186,
          0.755639006220931,
          0.2599716861783811,
          0.44768049829127887,
          1.2937505862985839,
          0.27748778203419855,
          1.3332032343980325,
          -0.17517041282939186,
          -0.1537025019313401,
          -0.25968722352451135,
          1.098721096469137,
          0.08940888898171837,
          -3.494045478267489,
          -1.700966323632469,
          -0.5120437907889342,
          -1.954622916235183,
          -1.1477435189277838,
          -0.8579295520757663,
          0.06600698746084069,
          -0.5467211284203588,
          -1.0243408724118046,
          -1.4937161729561752,
          -0.49293125560106676,
          -0.754999007616408,
          -1.0544792460670653,
          0.4329017637315584,
          -1.1969370591789377,
          1.0020921054138836,
          -0.42777288049626055,
          -2.1517162065018267,
          0.20322998147443647,
          -0.3190194656033603,
          -0.053066139616404745,
          -0.5363074194106138,
          -0.12000076702462202,
          0.6807140716528632,
          -0.7052397471994368,
          0.6482842609913524,
          0.28339816502040205,
          -1.2428992079166723,
          -2.0054532295726766,
          -1.8153022017044438,
          0.5252409309435978,
          -3.3299400233182426,
          3.8577374636953956,
          1.1645952638284656,
          -1.9616208161968178,
          0.8495393192001532,
          0.5017944547468596,
          -0.027346351723427382,
          0.7611979981983641,
          -1.2011252975930753,
          4.0810753783618745,
          0.6187896534264933,
          -0.13395594468148556,
          -0.6761111959611213,
          -0.6535022583645623,
          0.018588745405194732,
          2.163364195623931,
          1.5952349884906014,
          -0.3651426378230801,
          0.1550742876162009,
          -0.7020282266684619,
          0.06979742163220273,
          -2.088309363187901,
          1.2114058115027349,
          1.0412851731990456,
          -0.7195726099905132,
          -1.6679516772965994,
          0.6346679337152631,
          -1.2326675591652405,
          -0.36821311042422517,
          -1.109019113205997,
          1.487398028366034,
          -0.30276835798294244,
          0.7997796678829637,
          -0.2768893335605116,
          1.204570270629539,
          -0.48732958960212236,
          -0.2992871096491135,
          0.08879067822259065,
          -1.1771814000336764,
          0.010196493831428035,
          3.0316495027633565,
          -0.3710594079647338,
          0.307369231420942,
          -0.8467458077280035,
          4.498029089420109,
          -0.029899687877231226,
          0.23664002703873638,
          -0.5551849559779303,
          1.628695026424122,
          -1.5642911792734917,
          -0.7767240876844762,
          0.5251882982275279,
          -0.04225147738157621,
          -2.6521069574177014,
          0.859009092921395,
          0.9913609191521385,
          0.8929309858539142,
          -0.35899321977843796,
          -1.3546045421259958,
          -0.9510339667317051,
          -1.2968805247001414,
          -0.5160797909174535,
          0.5039475810015602,
          0.5792701028826912,
          -0.6902145512023068,
          -0.47385913410624736,
          -1.9710760979750435,
          -1.1366140906542317,
          -1.3502655455781263,
          -2.922134397256592,
          -0.830049059184306,
          -1.4849631470490474,
          0.9085056661704152,
          0.33689565532457977,
          0.7415055177565019,
          -0.5658782056664349,
          0.034517544520584316,
          -1.7968639568314757,
          -3.0222890840388272,
          1.0812013788287738,
          -1.0963646913665033,
          -0.6223652009161585,
          0.9885347043451621,
          0.6149988925572291,
          -2.28864146569184,
          -1.55963689245591,
          0.2314352457656032,
          -1.50480768962282,
          0.4045776251987034,
          -4.845841713342705,
          -2.5259912537458864,
          -0.9903633141664658,
          -1.310322296470663,
          1.2823873670166488,
          -1.5041729171516334,
          -0.6609988725289057,
          1.1104373179382627,
          -3.13951051978556,
          0.3383353894135874,
          -0.3510687119039846,
          0.8828524241393847,
          -0.3027698135530533,
          -1.9828196133761504,
          -1.754742986648646,
          -1.0744336791993605,
          -1.6706982489915518,
          -0.8500682196501275,
          -0.9677911047405833,
          0.4101854743312563,
          -2.0805793343532724,
          -0.3309272989149484,
          -1.122503998117379,
          -1.119988723900338,
          -0.42255158825331707,
          -1.4316162768934206,
          -3.1968135010874734,
          -0.8605193301609166,
          0.4188451648451197,
          -2.256864054178579,
          -0.21623781815554555,
          -1.295134757115616,
          -2.190999711112522,
          -0.16735644375408074,
          -0.5009003486598117,
          -0.6084234186914583,
          -0.5667428280209307,
          0.060839513747074296,
          3.3089382387570763,
          -1.7685570833450202,
          0.17940121077705623,
          -1.6968713015468289,
          0.29145109860301327,
          -0.10201859943269986,
          -0.12567942262861306,
          -1.5352118185419454,
          -0.8466056906277546,
          -0.23488329210562917,
          0.0806380417328897,
          -0.8946671858925185,
          0.3177951078911824,
          1.8877715717731467,
          -0.7077886437399742,
          -2.2772433138626975,
          -2.9065776539309067,
          -1.6445523715780845,
          -0.4443894331157483
         ],
         "y": [
          -1.0812320767829444,
          -1.0428773237751716,
          -0.5006107207204236,
          0.6796140079064493,
          -1.1546665317915281,
          0.003560089042262603,
          -1.1810620152099858,
          -1.473088713118192,
          0.2648042302379424,
          1.4345189245746117,
          1.7684693128250522,
          -1.933626310922223,
          0.11652665159554527,
          -1.9714655763430837,
          0.7254889547155297,
          0.24482013471019884,
          0.33953488729601666,
          0.6736944828416327,
          -1.0994153092347594,
          -2.260791600724203,
          0.9790518744516947,
          -0.8128138458693625,
          0.22621421657839497,
          -0.050153565354655795,
          -0.34049454111263333,
          -0.25594730759285655,
          1.2761415004450356,
          0.7810976475111405,
          -1.2644682263238454,
          -1.0712152923653107,
          -2.1955097810412814,
          0.7455274709225596,
          0.49342146319550334,
          0.48525994453043736,
          0.01473226438588162,
          0.3982394894871201,
          -0.22149639754817535,
          1.4877612698177034,
          -1.3677481544043861,
          0.554121771469259,
          0.858773334284479,
          -1.833840241813982,
          -0.8799299923266656,
          -0.5221919691771488,
          -1.0138725776208495,
          0.11273804506991829,
          -0.24390282918993286,
          -0.5405691292431378,
          0.6547302895024755,
          0.4889678003694454,
          -0.9356968741150881,
          -0.7251380743888063,
          0.6336755461354923,
          2.5348309182587303,
          -1.857922311843891,
          0.8477961934958778,
          -0.12003643410135603,
          0.7585062244514551,
          1.044779927158,
          -0.8235773172789379,
          1.6621787567664055,
          -0.6213309895436032,
          -0.9615002295342239,
          -0.12952055718869146,
          0.39956378873980447,
          -1.7224357721380068,
          0.1656338987828124,
          2.0524371726529287,
          -0.9761511478428813,
          -0.6972383873518715,
          1.9793066340743386,
          -0.4121568653536086,
          -1.3905413327434306,
          -1.4461951732236522,
          -1.6017673179029497,
          -1.7549217948435762,
          1.3964880374135065,
          0.6362533586886459,
          -1.7106231327438262,
          -0.14689091424118422,
          0.2839271870826808,
          1.2295229557010485,
          0.11015906307342352,
          0.5397893665870911,
          0.19005189612518564,
          0.48450281096585035,
          0.7293124898452333,
          0.9600227352785786,
          -0.7309430909662608,
          -0.7158374440264995,
          -1.0403272878959173,
          -2.015723257209576,
          -0.9585984272810859,
          2.799739662415211,
          0.7548010118983313,
          2.287960701600709,
          1.9791826995367656,
          0.9577867685546757,
          -1.7490147201597293,
          0.962143229921133,
          -0.02485734385494894,
          -0.053636665270576055,
          -0.11755114306402421,
          0.5132344376385272,
          -0.15637352575953864,
          1.1599747565314904,
          -0.5555954714187954,
          2.916335260758592,
          -1.157476782357246,
          -1.4052090878219725,
          0.5850924103671318,
          -2.526523908769783,
          0.7338504685766967,
          1.020902889561666,
          -3.314995844525549,
          -0.5899306515783663,
          0.06493152707489257,
          0.07371863220730764,
          -2.2326742910669903,
          0.29085569211729034,
          -0.7204722661338747,
          -0.3746787206766311,
          0.14991606205331223,
          -0.4842560304549898,
          -0.577282010638417,
          -0.3327839491983672,
          0.31221578351434576,
          -1.2253516632017871,
          -1.3030029885303211,
          -0.42474587924159657,
          0.2651734159072993,
          -0.392268428006199,
          3.2352057071695803,
          0.9494777488963517,
          -1.6800395970582358,
          0.028144354107325794,
          0.16305961737405034,
          -0.6688522872903088,
          0.08875974436290394,
          -0.8536285338046874,
          -1.1388848360335706,
          2.3032571519107217,
          -0.9176150445536723,
          0.6877986501360865,
          0.4907080822583921,
          0.2954135064539691,
          1.4961349259739876,
          -1.7990281788269502,
          1.9774665541683758,
          -1.170512696142737,
          -0.8578727761104352,
          0.42350708726492253,
          0.7189656345188589,
          0.3130388889566383,
          0.13717980723484058,
          1.2139327811197953,
          -0.3301211056818216,
          1.6403117029537346,
          0.39662512567842506,
          -1.231504427554052,
          0.25403401510209317,
          4.741672494943548,
          1.1333197273272888,
          -2.478556219710261,
          -1.0403591416673383,
          0.2580871865521902,
          -0.826651020470745,
          -0.5947840935926715,
          0.3604175487540119,
          1.1310595246294637,
          -1.268420431060052,
          -0.6125810865218769,
          -0.2551995125705114,
          -0.07055866654518661,
          0.6710843997020577,
          0.7236448570124234,
          1.420234865654237,
          0.5029664227515838,
          0.36867700078102317,
          -0.4821501140735135,
          3.317953147038807,
          -0.9270405229486021,
          1.116966019088368,
          2.229045425172129,
          2.4525380745313274,
          0.4471081482793094,
          -1.3636936118016802,
          0.6391646931261298,
          -0.14905153290823303,
          2.5659423244964947,
          -0.1980316159908195,
          1.4099672324187724,
          -1.3227085036769815,
          -0.4643834268273042,
          -0.7340440085481412,
          0.05856816715416825,
          -0.13251161134810593,
          -0.40094942715494586,
          -1.2591025957615536,
          -0.5290270026883769,
          0.007423233085055748,
          1.6574468906424333,
          0.7126426596960261,
          -0.29138726998979925,
          1.5621476286738154,
          -0.08936919228906555,
          0.4388206815118422,
          1.5499121884117584,
          -1.0383583979916151,
          -2.3841646091874416,
          2.3968188340445993,
          2.950004158307556,
          -0.5639310511380512,
          1.3504067764730165,
          2.580040780415179,
          -1.0932768439805676,
          -1.4436758936008165,
          0.6249471731594961,
          0.5076929132353915,
          -1.106182335403017,
          1.5281206021126728,
          -0.5796765228458443,
          5.940397119243116,
          0.065408926923926,
          -2.496693640056175,
          2.099622079194873,
          1.8745294335466378,
          -1.5721511370250982,
          -1.7906808949637976,
          0.27553192156808054,
          2.1942845520982224,
          -0.977173844345206,
          -0.7739729517055801,
          0.20281060132603793,
          -2.652348593642209,
          0.6324473948877094,
          0.7010284119527099,
          2.982190953566555,
          4.263818363539708,
          -0.27084675580631135,
          0.48403287577777077,
          -1.84904496800752,
          1.894632763103431,
          -0.6970191486793503,
          0.888625393477254,
          2.270795652312432,
          -1.6252822430263045,
          0.7419403178931187,
          2.460098867056735,
          1.3980718807485457,
          -0.8997964664961726,
          -1.3154912274885404,
          -1.4886281463921704,
          1.8849608553213288,
          1.44720115120859,
          1.5794166926886817,
          -0.8445489042444309,
          -0.6621449050713759,
          -0.40086800099257625,
          0.4813734597210413,
          -0.9611752196136464,
          2.221682410206096,
          -1.4148417059023426,
          1.2102697353780163,
          0.5018848918752342,
          -0.9307158469713268,
          -1.0385107401004483,
          0.7364679798244578,
          1.7451594301488613,
          -0.6420072406474603,
          -2.245970188702568,
          0.9784170643768594,
          -0.5960433812902991,
          -0.5285548192036471,
          1.2955753612499343,
          -1.6255652523549864,
          -1.6486794551631587,
          -0.5125959726943896,
          2.9899217685785193,
          -2.1420414343990215,
          1.4177801817280467,
          3.135945688879767,
          -1.3216178444967293,
          -0.690548073043454,
          -1.0994713883352114,
          0.13049130509378268,
          -0.069141400367868,
          0.2685251451227438,
          -0.16159141863295484,
          -1.2197825683715608,
          -1.4262876603837862,
          -0.4897170308506099,
          -0.9966108637467406,
          0.8428803685693105,
          0.5024821773244655,
          -1.396983280596999,
          -0.26109771261337894,
          0.8072158865285449,
          -0.23233728305479615,
          4.818605935270938,
          -1.5937475798234257,
          -0.9970640406645931,
          2.145222567013115,
          -0.14478248552719677,
          0.3370506637983491,
          -0.2086729430029977,
          0.4999882647917109,
          1.1442703091569328,
          -1.6186831124222287,
          2.619612168996999,
          0.5040393814561461,
          -0.7068929182875825,
          -0.7942972714099199,
          0.47808061558384557,
          1.7460240434440395,
          0.6582987174415346,
          0.4485655806374119,
          0.4100467277712088,
          3.8348317467242015,
          -1.820121523996956,
          -0.17578970830642346,
          0.6698157472475674,
          0.2653537035983411,
          -0.011471799984730139,
          -1.3738139476853923,
          0.09360858441812721,
          -1.7722655473108029,
          -0.5997309841506224,
          0.6722968038629084,
          -0.7243545529420239,
          -0.6363833816301946,
          0.07306377273689696,
          0.8021303441111909,
          -1.5496801832327611,
          0.26698551731346565,
          -1.5215887097232292,
          -1.7097241597533022,
          -0.2223293860754576,
          3.029575980659509,
          -1.4870345519120807,
          0.39384826465045153,
          0.8833554077566854,
          -0.8295667558974248,
          -0.40902387529352024,
          0.26106836230698255,
          -0.025467620713952505,
          -0.7901664307831626,
          0.9597412153516739,
          -1.2495074346598547,
          -0.4292628746932794,
          1.229096535602142,
          -0.696486094199359,
          -1.4702115425020341,
          -2.337231742107573,
          0.37107329962278823,
          0.1644942067646561,
          1.6980389388747645,
          0.4051651229329425,
          2.472156565764612,
          0.6520225091427378,
          1.2415725036359004,
          0.5247409802824319,
          0.09372202068805592,
          5.796422836043358,
          0.6565778893803726,
          -1.9870147978210726,
          2.111259785871024,
          0.4824523201011948,
          0.7129054883865861,
          0.6197055087942352,
          -0.29201729748070043,
          -1.4168450650881392,
          -1.7795433752123597,
          1.4674617075926628,
          -0.9269813476878039,
          1.774360989461639,
          -1.0295690525524206,
          2.2445738734036134,
          1.7342246058750577,
          1.0884330051686038,
          -0.4867253669260349,
          -2.071404563873189,
          -0.04934791400822647,
          2.1207523170565614,
          -1.3549552396401823,
          2.042908068887685,
          -0.11182296303512851,
          0.18951582237016937,
          1.6924996706299755,
          -1.503483415543273,
          -0.5433102206604205,
          -0.24327265149949892,
          0.5004272721264933,
          -0.635786724150533,
          0.8504456116215839,
          0.7034987757213822,
          -3.755247839070377,
          1.4725115077112265,
          0.17429117502883024,
          -3.393800547065267,
          -3.7654244147116254,
          -1.1721515049612756,
          0.3486710481981743,
          -0.2783664486439262,
          -1.7663609832877596,
          -0.6076318195675696,
          0.0288793766035862,
          1.0784230967744886,
          -0.17297609608783185,
          0.6844367548886601,
          2.8354770202494257,
          -0.42512732375106443,
          -0.4342442567229694,
          0.7513920526718113,
          1.8466533768409181,
          0.5806461099198341,
          -1.621372349311269,
          -1.5582730572924184,
          -1.1677722730529103,
          -0.166476255340028,
          0.44832022129195925,
          -0.8096955704184193,
          -1.3977769822230492,
          -2.0107093474578286,
          0.3875779334986168,
          -1.9135557279419635,
          0.23360502566316108,
          2.762665904396421,
          -2.2789223440201716,
          0.8128530977193577,
          1.8414313050849878,
          -0.5355065967639793,
          0.139494463262564,
          2.412718897536936,
          0.7383652349883942,
          -1.8393369263618127,
          -1.6611271899851625,
          1.4240817784966804,
          -1.2553914338087238,
          -1.0142703121346246,
          0.4721447848282136,
          1.3749913471760142,
          -1.2030356175828638,
          -1.7553828255288628,
          0.7131836741933781,
          -2.8179382761988774,
          -0.549305341946568,
          -0.9791961403635423,
          -0.22898407999439735,
          -1.6251471300537204,
          0.23266814447861522,
          -0.6188725407059411,
          0.0022910416595501174,
          1.0767226169138788,
          -2.1204295567447695,
          -1.0211263807407018,
          1.026731348702651,
          0.1705162768617717,
          1.3857138069557688,
          1.5557478583553392,
          -0.011171456667330512,
          -1.2143829766985375,
          -1.5657082111997507,
          -2.5017477737285745,
          -0.5542553093309428,
          -1.2346123788412406,
          -1.0556958673540093,
          -0.1687012529514353,
          -1.1221878699760168,
          -0.9953744552601905,
          0.09466314510401613,
          0.35469361787415105,
          -0.8538444022044772,
          -0.32517260684783017,
          -0.16198289495538648,
          1.0102097918883903,
          -1.5437840313069826,
          -1.5096109220218972,
          -0.6536067183892288,
          -1.7239806303488778,
          0.48796792751340634,
          -1.4258424420567748,
          0.11170773477274165,
          0.49235892342684684,
          -0.30221571708038636,
          -0.7826877287506516,
          -0.8090441878220611,
          -0.8245435075337156,
          -0.2675217000866563,
          -1.5307668704683004,
          -1.7645199645215706,
          0.4966062373356978,
          0.2649622104964481,
          -0.7025832852763914,
          -0.774558507613635,
          -1.0648931715599508,
          1.5140654910817979
         ],
         "z": [
          0.43354424473347686,
          0.6989076606090538,
          0.17652282531287478,
          2.869018402448533,
          0.6716549120559692,
          -0.6326327400198102,
          -0.6012401867960198,
          1.0953870002255532,
          -0.47931820651422835,
          -1.1157805305340138,
          0.3530863423492219,
          -0.2579968388628768,
          -0.8715618381843977,
          2.8826898325199255,
          -1.1503566776272471,
          -0.41502611945931556,
          -0.6945830739771549,
          -1.2402057228270933,
          -0.39671201430221736,
          2.2030721969004383,
          -0.4311977116386074,
          -0.8729162389428563,
          -0.4473881219187245,
          -1.0417685860144195,
          -0.7694305463487431,
          -0.6576395168140249,
          1.262887965075688,
          -0.6765600601562278,
          -0.10915797628098316,
          0.07401418605348806,
          -0.26490768248608687,
          -0.4285626217832736,
          0.4862106786673432,
          0.6692246169464733,
          1.9204180438625353,
          -0.17232008649354694,
          -0.6500821259196133,
          3.0498811144165203,
          0.3026638084409261,
          3.7464710715311136,
          -0.0866264127967942,
          3.0604950537940754,
          0.21938581842098256,
          0.1880606282177731,
          0.7379556479644489,
          0.4465286363156654,
          -0.3904362217264699,
          -0.16951573436761952,
          0.5491142579269769,
          0.92366680239053,
          -0.014423209283224443,
          -0.3804635393545522,
          -0.01026489081343837,
          -0.9157065681321837,
          0.9451410553412105,
          -0.3394502779241413,
          0.03736021092713877,
          0.14275812604698815,
          0.3354161865115908,
          0.2827007344801442,
          2.2521267119030144,
          -0.517570853492305,
          0.19707665361886811,
          -0.6976551161454768,
          -0.2563546773279121,
          0.80695157213638,
          0.21707518364290676,
          0.6326855649244763,
          -0.6802384835870062,
          0.902043403199707,
          0.6539906891800288,
          0.03243571607199613,
          0.47735824548596156,
          -0.45273529842047605,
          -0.4265458265722038,
          0.10498010450888738,
          0.31457542039144687,
          -0.9001916947113984,
          -0.06249325444363753,
          -0.0784396127865132,
          -1.0977582244221025,
          -0.8196433883458822,
          0.10643912220775857,
          -1.0899014389421304,
          -0.1419509666421632,
          0.4462660201230762,
          0.8536692433423806,
          -1.3890600110321754,
          -0.9317138585051402,
          1.9330834445186984,
          -0.6341254400379985,
          4.291041178131457,
          1.7096296867861758,
          -0.694427189861519,
          -1.0791108803143725,
          -2.0030819469985754,
          -1.8969346723582337,
          -1.0307726350474624,
          -0.11109843792592573,
          1.0309992526136114,
          -0.6589806087640742,
          -0.6360764412649749,
          0.2751138448117732,
          -0.755924972235096,
          1.1224372674228396,
          0.9494964652824535,
          1.9266509827470142,
          0.7984375093140169,
          0.6479124103874369,
          -0.012553337855206095,
          -0.11683812062503812,
          0.26074408011053324,
          -0.09749835951967273,
          1.2844704527054969,
          0.40341576828018516,
          -0.4645606973734253,
          0.722847922323835,
          -1.0011329436746121,
          0.7348437497739169,
          -0.7015975314431968,
          -0.3002520438009384,
          0.12252810538255984,
          -0.24543699768393298,
          -0.05834476433909723,
          -1.094783233528188,
          -1.0404805840868123,
          1.665226198904138,
          -0.12074202083852757,
          0.745917944929727,
          -0.33552602023245115,
          0.11948236877324912,
          1.869839747979532,
          1.7438165577166262,
          -0.591937608854233,
          -0.5504150054675566,
          -1.2810095033135749,
          0.0797863186518755,
          1.4956194747733957,
          -0.7291839343587158,
          -0.7759434317362695,
          0.09443030467755553,
          -1.6896691325784718,
          -1.0032580977869898,
          -0.3808437872560394,
          -0.8114062045556464,
          -0.9031496492213886,
          9.887671017840972,
          2.7240371233593064,
          -1.8473620327896898,
          -0.44715502110719463,
          0.5136023518367223,
          -1.325418225537618,
          -0.9320037261132238,
          -0.24148495047343563,
          -0.4324068340905866,
          -0.5653693504898318,
          0.26024799781539,
          -1.5101219296563815,
          2.409828278349459,
          0.0442561773845631,
          -0.2111575962698323,
          10.333444427570853,
          -0.8245236955924883,
          1.0023852387806051,
          -0.46803791393025546,
          -1.4305110340995202,
          -0.39511211158830317,
          -0.5383104861808272,
          -1.205203825572095,
          -1.0150374492869068,
          -0.7006297508506024,
          -0.9655991255599615,
          -0.09396776450966787,
          0.18154032711187681,
          -1.5024720750042067,
          -1.076482808334507,
          0.2766494800439804,
          -1.3584532174891295,
          -0.8805547896353652,
          -0.6255421740960104,
          -0.18084924520421725,
          3.594736970802295,
          -1.4156017535908967,
          -2.0771376355927695,
          -1.5812158055856136,
          0.1267024295179386,
          0.766863647422675,
          -1.0858645228814126,
          -0.3260296690894954,
          0.3100081787250226,
          -0.184294399606693,
          -0.6493842188046276,
          -0.332389895468986,
          0.18459557197665027,
          -0.46005588377379797,
          -0.24308135813179638,
          0.8800322420836367,
          0.18680137559372414,
          0.006222431026252038,
          -0.9727689008177136,
          -0.6403383823131109,
          -0.15152307616822366,
          1.1688179443856177,
          0.5475661752701134,
          -1.5878998664600785,
          -0.270157376545215,
          0.410420696391053,
          1.3092011776339822,
          -0.5472246793413749,
          0.31663687804333257,
          -1.862551580873608,
          3.506211968679004,
          -0.2361403797010943,
          -0.9063020332809808,
          -1.6201543251906105,
          -0.47550798327628946,
          -0.3654326514447377,
          -0.48898543409491935,
          -0.14953101408510658,
          -0.5249017375137311,
          3.151850212455295,
          0.33777853017433357,
          6.403769018047349,
          0.20963136073244235,
          -0.030453167341300654,
          -1.4013552116571517,
          -1.5079810149835389,
          0.19654692489866699,
          0.8349292298749975,
          -0.2947012542078458,
          -1.8142438968082006,
          -0.44521266936365395,
          0.3907108781307841,
          -0.9462770983538329,
          0.4995108544415558,
          -0.5559010569751736,
          -1.3771447546246243,
          0.2569509142855108,
          2.5490494274042543,
          0.3052175655249714,
          -1.0218851189008715,
          -0.6474984042186938,
          -1.404672195909608,
          0.2514015932338017,
          0.7436503407855993,
          -1.7227063091089088,
          0.6015119276603929,
          2.034340420029461,
          -1.4618923627668396,
          -0.2170016244353398,
          0.4069287451564514,
          -0.324190295284922,
          1.8103323796615354,
          -0.765070836657272,
          1.8437945253159107,
          -0.8314221063164404,
          1.5401320342474132,
          0.14579531240403973,
          -1.0546640220430197,
          0.5080769219399072,
          -0.11806219978935892,
          -1.0207109184027465,
          3.2760816081157036,
          -1.5136480417055762,
          0.9543890898361881,
          1.6368427560162493,
          -0.823745926971428,
          -1.634766417264819,
          -1.439712762196265,
          -0.6289356663606354,
          2.9275900009242157,
          0.7346638002230227,
          -0.46190446071621954,
          3.6458003446738756,
          0.5267448340662428,
          -0.6104097653033499,
          -0.11969820774912575,
          -0.34942793279404905,
          -0.5622927685394087,
          -0.026667850494609173,
          -0.26668808930340365,
          0.6744807161259986,
          0.6727291309214556,
          0.7359547550187389,
          -0.3802572519335547,
          1.258290849882095,
          0.5359454827658002,
          -1.279103486440062,
          0.47005828003295785,
          -0.09404010064885207,
          -0.5164494828115457,
          0.4716464551653914,
          -0.1535837800553657,
          -0.04019245349473858,
          -0.2161619167483986,
          0.21539921541072693,
          -0.5650251556732483,
          0.5133666612398023,
          1.2486188005620658,
          4.211515169589558,
          2.0774636349995683,
          -0.49670168976553064,
          -1.649248317840643,
          -0.41754353099916963,
          -1.5001794382190505,
          -0.5254352790640828,
          1.2483755012577369,
          -0.5017752002042486,
          -0.36501469203042747,
          -1.4783581701698252,
          -1.160950857673909,
          0.0007084915209189525,
          0.033135493788223384,
          -0.5237667343740988,
          -0.9559281276307501,
          -1.2642918069526925,
          -0.3301423962303768,
          0.6385462155072118,
          0.6005966578836193,
          -0.43832340998715535,
          2.915052585314262,
          0.7021448209511904,
          -0.7530290530911754,
          0.6490136256845157,
          -0.2979983974943253,
          -0.479235821741868,
          -0.405720944708559,
          0.017424654043548145,
          -0.7544781541778217,
          0.04849805249806505,
          0.3219794087574954,
          -0.6051532702087878,
          1.2716333577990648,
          -0.4949612956469277,
          -0.2831526291065666,
          0.5837849122371139,
          0.22609820493301416,
          -0.7079042496442818,
          0.4647055934381648,
          -0.34313977679771274,
          0.08702132674370135,
          -0.16711475201034878,
          -0.28393228421531225,
          -0.2721660430177225,
          -0.7892527370109454,
          -0.2555284785592346,
          -0.8668496223310729,
          -0.8825622919232451,
          -0.6451945597726608,
          0.5608961624967683,
          -0.9754152001242163,
          -0.17816841044270346,
          2.820355263927372,
          0.7256251392799807,
          -0.11379793596115709,
          0.18626444761769298,
          -0.8267850588189362,
          -0.8842936569487604,
          -1.710536983251369,
          1.8625536715981095,
          2.0231854187013516,
          0.09126395906639709,
          -0.8323711041868681,
          4.2239763475483985,
          -0.18935617306768743,
          0.7789305568555492,
          -0.5726855446355262,
          -0.7904846848100514,
          0.20416543716134114,
          -0.22160898810838364,
          0.0008338010714556651,
          -0.6304895362012232,
          0.7944894712590715,
          -0.9168599684383257,
          -0.7767397194990733,
          0.22021683932235603,
          1.3984019432311543,
          0.589249523918354,
          0.7476374202047937,
          -1.3892015877296366,
          -0.2021043315023391,
          1.2059800944765326,
          -0.7753128749859404,
          -1.507406138622511,
          -0.023381809967737015,
          -1.6088197491354088,
          -0.757399273763508,
          0.31928742823699413,
          -1.6866992951426862,
          -0.4206059033600286,
          -0.20885204678247046,
          -0.8846944098918408,
          -0.7340878228204027,
          0.2680551833596643,
          0.3267145496928787,
          1.6707172194961295,
          0.622102705949886,
          -1.5819060789581638,
          -0.2658625213118678,
          2.438103592360628,
          0.993227112188914,
          -0.37282007515369914,
          0.41555147200185827,
          -0.11652833342904402,
          -0.21535329826371283,
          0.5705685511549881,
          -0.8084087961060696,
          0.912609896259148,
          -1.0149857111427798,
          0.23594650055253097,
          -0.6554753889747783,
          -0.24250958513488322,
          0.6614041422170535,
          -1.5627475993991295,
          -0.26208577298287683,
          -0.7676902219843493,
          -0.03409983303852896,
          -0.27296389900190776,
          -0.37710269305949706,
          0.8357200135467333,
          0.6813130466757454,
          -0.18615516856952782,
          -0.336927890451009,
          -0.4471936931404229,
          -0.8590638394038345,
          -0.4594616213156456,
          -0.96186613967127,
          -2.0227097881653275,
          0.09212569305999266,
          4.339094286398405,
          -0.05378440356732967,
          -0.8100904580179324,
          -0.45772936466458386,
          -2.011239734505142,
          -0.7735765417981223,
          0.04139247398587251,
          0.32834972615658636,
          -0.7238533503332418,
          -0.5194318225552264,
          -0.482580611390613,
          -0.9298213194357048,
          -0.6218332324467302,
          0.10815606605496621,
          -0.23415402941484748,
          -0.6123639586178412,
          0.16558044028230384,
          -0.6778095576558032,
          1.3108518800119684,
          0.7778090491388382,
          -0.4975609167982213,
          -1.2197583786577038,
          -0.2250792833804561,
          -0.7431213267463702,
          1.7050563244907355,
          0.02909691173564733,
          -0.7104304847308496,
          -0.0642927591171738,
          -0.7286071738345898,
          -1.14468646319735,
          -1.2165148528048155,
          -0.47132661644176166,
          -0.0022131186087689693,
          -0.6311864576696684,
          1.0654249124622102,
          -0.18433587700207005,
          -0.47887816806952055,
          0.047844952453754704,
          -1.1046005687273495,
          -0.6725696558194361,
          -0.17369804525970325,
          -0.17438222628079633,
          -0.7594934805007693,
          0.4258242069594456,
          -0.8330202168457472,
          -0.1825614877320979,
          0.35806404936249614,
          -0.37078403723160247,
          0.10360588159184646,
          -0.9231622203567647,
          0.5764699900899992,
          -1.5553449442720126,
          -0.8901060829577186,
          -0.6434221950937099,
          -1.1952274542636494,
          -0.7067348798829108,
          -0.5427604244529157,
          -0.4533818156811409,
          -0.5891786432822487,
          -0.6952111520082742,
          -0.39444611576306127,
          -0.4478143940008704,
          -0.9806761881078023,
          -1.6388373140836991,
          -0.16730148913142306,
          -0.0393730644087238,
          0.41553366064230196,
          -0.1269605983781601
         ]
        }
       ],
       "layout": {
        "autosize": true,
        "coloraxis": {
         "colorbar": {
          "title": {
           "text": "predictions"
          }
         },
         "colorscale": [
          [
           0,
           "#0d0887"
          ],
          [
           0.1111111111111111,
           "#46039f"
          ],
          [
           0.2222222222222222,
           "#7201a8"
          ],
          [
           0.3333333333333333,
           "#9c179e"
          ],
          [
           0.4444444444444444,
           "#bd3786"
          ],
          [
           0.5555555555555556,
           "#d8576b"
          ],
          [
           0.6666666666666666,
           "#ed7953"
          ],
          [
           0.7777777777777778,
           "#fb9f3a"
          ],
          [
           0.8888888888888888,
           "#fdca26"
          ],
          [
           1,
           "#f0f921"
          ]
         ]
        },
        "legend": {
         "tracegroupgap": 0
        },
        "margin": {
         "t": 60
        },
        "scene": {
         "aspectmode": "auto",
         "aspectratio": {
          "x": 1.0982363723412407,
          "y": 0.8438634249504647,
          "z": 1.0790262574694995
         },
         "camera": {
          "center": {
           "x": 0,
           "y": 0,
           "z": 0
          },
          "eye": {
           "x": 0.5448040879307081,
           "y": 0.7437373525412025,
           "z": 1.7061945135677175
          },
          "projection": {
           "type": "perspective"
          },
          "up": {
           "x": 0,
           "y": 0,
           "z": 1
          }
         },
         "domain": {
          "x": [
           0,
           0.98
          ],
          "y": [
           0,
           1
          ]
         },
         "xaxis": {
          "title": {
           "text": "pc1"
          },
          "type": "linear"
         },
         "yaxis": {
          "title": {
           "text": "pc2"
          },
          "type": "linear"
         },
         "zaxis": {
          "title": {
           "text": "pc3"
          },
          "type": "linear"
         }
        },
        "template": {
         "data": {
          "bar": [
           {
            "error_x": {
             "color": "#2a3f5f"
            },
            "error_y": {
             "color": "#2a3f5f"
            },
            "marker": {
             "line": {
              "color": "#E5ECF6",
              "width": 0.5
             }
            },
            "type": "bar"
           }
          ],
          "barpolar": [
           {
            "marker": {
             "line": {
              "color": "#E5ECF6",
              "width": 0.5
             }
            },
            "type": "barpolar"
           }
          ],
          "carpet": [
           {
            "aaxis": {
             "endlinecolor": "#2a3f5f",
             "gridcolor": "white",
             "linecolor": "white",
             "minorgridcolor": "white",
             "startlinecolor": "#2a3f5f"
            },
            "baxis": {
             "endlinecolor": "#2a3f5f",
             "gridcolor": "white",
             "linecolor": "white",
             "minorgridcolor": "white",
             "startlinecolor": "#2a3f5f"
            },
            "type": "carpet"
           }
          ],
          "choropleth": [
           {
            "colorbar": {
             "outlinewidth": 0,
             "ticks": ""
            },
            "type": "choropleth"
           }
          ],
          "contour": [
           {
            "colorbar": {
             "outlinewidth": 0,
             "ticks": ""
            },
            "colorscale": [
             [
              0,
              "#0d0887"
             ],
             [
              0.1111111111111111,
              "#46039f"
             ],
             [
              0.2222222222222222,
              "#7201a8"
             ],
             [
              0.3333333333333333,
              "#9c179e"
             ],
             [
              0.4444444444444444,
              "#bd3786"
             ],
             [
              0.5555555555555556,
              "#d8576b"
             ],
             [
              0.6666666666666666,
              "#ed7953"
             ],
             [
              0.7777777777777778,
              "#fb9f3a"
             ],
             [
              0.8888888888888888,
              "#fdca26"
             ],
             [
              1,
              "#f0f921"
             ]
            ],
            "type": "contour"
           }
          ],
          "contourcarpet": [
           {
            "colorbar": {
             "outlinewidth": 0,
             "ticks": ""
            },
            "type": "contourcarpet"
           }
          ],
          "heatmap": [
           {
            "colorbar": {
             "outlinewidth": 0,
             "ticks": ""
            },
            "colorscale": [
             [
              0,
              "#0d0887"
             ],
             [
              0.1111111111111111,
              "#46039f"
             ],
             [
              0.2222222222222222,
              "#7201a8"
             ],
             [
              0.3333333333333333,
              "#9c179e"
             ],
             [
              0.4444444444444444,
              "#bd3786"
             ],
             [
              0.5555555555555556,
              "#d8576b"
             ],
             [
              0.6666666666666666,
              "#ed7953"
             ],
             [
              0.7777777777777778,
              "#fb9f3a"
             ],
             [
              0.8888888888888888,
              "#fdca26"
             ],
             [
              1,
              "#f0f921"
             ]
            ],
            "type": "heatmap"
           }
          ],
          "heatmapgl": [
           {
            "colorbar": {
             "outlinewidth": 0,
             "ticks": ""
            },
            "colorscale": [
             [
              0,
              "#0d0887"
             ],
             [
              0.1111111111111111,
              "#46039f"
             ],
             [
              0.2222222222222222,
              "#7201a8"
             ],
             [
              0.3333333333333333,
              "#9c179e"
             ],
             [
              0.4444444444444444,
              "#bd3786"
             ],
             [
              0.5555555555555556,
              "#d8576b"
             ],
             [
              0.6666666666666666,
              "#ed7953"
             ],
             [
              0.7777777777777778,
              "#fb9f3a"
             ],
             [
              0.8888888888888888,
              "#fdca26"
             ],
             [
              1,
              "#f0f921"
             ]
            ],
            "type": "heatmapgl"
           }
          ],
          "histogram": [
           {
            "marker": {
             "colorbar": {
              "outlinewidth": 0,
              "ticks": ""
             }
            },
            "type": "histogram"
           }
          ],
          "histogram2d": [
           {
            "colorbar": {
             "outlinewidth": 0,
             "ticks": ""
            },
            "colorscale": [
             [
              0,
              "#0d0887"
             ],
             [
              0.1111111111111111,
              "#46039f"
             ],
             [
              0.2222222222222222,
              "#7201a8"
             ],
             [
              0.3333333333333333,
              "#9c179e"
             ],
             [
              0.4444444444444444,
              "#bd3786"
             ],
             [
              0.5555555555555556,
              "#d8576b"
             ],
             [
              0.6666666666666666,
              "#ed7953"
             ],
             [
              0.7777777777777778,
              "#fb9f3a"
             ],
             [
              0.8888888888888888,
              "#fdca26"
             ],
             [
              1,
              "#f0f921"
             ]
            ],
            "type": "histogram2d"
           }
          ],
          "histogram2dcontour": [
           {
            "colorbar": {
             "outlinewidth": 0,
             "ticks": ""
            },
            "colorscale": [
             [
              0,
              "#0d0887"
             ],
             [
              0.1111111111111111,
              "#46039f"
             ],
             [
              0.2222222222222222,
              "#7201a8"
             ],
             [
              0.3333333333333333,
              "#9c179e"
             ],
             [
              0.4444444444444444,
              "#bd3786"
             ],
             [
              0.5555555555555556,
              "#d8576b"
             ],
             [
              0.6666666666666666,
              "#ed7953"
             ],
             [
              0.7777777777777778,
              "#fb9f3a"
             ],
             [
              0.8888888888888888,
              "#fdca26"
             ],
             [
              1,
              "#f0f921"
             ]
            ],
            "type": "histogram2dcontour"
           }
          ],
          "mesh3d": [
           {
            "colorbar": {
             "outlinewidth": 0,
             "ticks": ""
            },
            "type": "mesh3d"
           }
          ],
          "parcoords": [
           {
            "line": {
             "colorbar": {
              "outlinewidth": 0,
              "ticks": ""
             }
            },
            "type": "parcoords"
           }
          ],
          "scatter": [
           {
            "marker": {
             "colorbar": {
              "outlinewidth": 0,
              "ticks": ""
             }
            },
            "type": "scatter"
           }
          ],
          "scatter3d": [
           {
            "line": {
             "colorbar": {
              "outlinewidth": 0,
              "ticks": ""
             }
            },
            "marker": {
             "colorbar": {
              "outlinewidth": 0,
              "ticks": ""
             }
            },
            "type": "scatter3d"
           }
          ],
          "scattercarpet": [
           {
            "marker": {
             "colorbar": {
              "outlinewidth": 0,
              "ticks": ""
             }
            },
            "type": "scattercarpet"
           }
          ],
          "scattergeo": [
           {
            "marker": {
             "colorbar": {
              "outlinewidth": 0,
              "ticks": ""
             }
            },
            "type": "scattergeo"
           }
          ],
          "scattergl": [
           {
            "marker": {
             "colorbar": {
              "outlinewidth": 0,
              "ticks": ""
             }
            },
            "type": "scattergl"
           }
          ],
          "scattermapbox": [
           {
            "marker": {
             "colorbar": {
              "outlinewidth": 0,
              "ticks": ""
             }
            },
            "type": "scattermapbox"
           }
          ],
          "scatterpolar": [
           {
            "marker": {
             "colorbar": {
              "outlinewidth": 0,
              "ticks": ""
             }
            },
            "type": "scatterpolar"
           }
          ],
          "scatterpolargl": [
           {
            "marker": {
             "colorbar": {
              "outlinewidth": 0,
              "ticks": ""
             }
            },
            "type": "scatterpolargl"
           }
          ],
          "scatterternary": [
           {
            "marker": {
             "colorbar": {
              "outlinewidth": 0,
              "ticks": ""
             }
            },
            "type": "scatterternary"
           }
          ],
          "surface": [
           {
            "colorbar": {
             "outlinewidth": 0,
             "ticks": ""
            },
            "colorscale": [
             [
              0,
              "#0d0887"
             ],
             [
              0.1111111111111111,
              "#46039f"
             ],
             [
              0.2222222222222222,
              "#7201a8"
             ],
             [
              0.3333333333333333,
              "#9c179e"
             ],
             [
              0.4444444444444444,
              "#bd3786"
             ],
             [
              0.5555555555555556,
              "#d8576b"
             ],
             [
              0.6666666666666666,
              "#ed7953"
             ],
             [
              0.7777777777777778,
              "#fb9f3a"
             ],
             [
              0.8888888888888888,
              "#fdca26"
             ],
             [
              1,
              "#f0f921"
             ]
            ],
            "type": "surface"
           }
          ],
          "table": [
           {
            "cells": {
             "fill": {
              "color": "#EBF0F8"
             },
             "line": {
              "color": "white"
             }
            },
            "header": {
             "fill": {
              "color": "#C8D4E3"
             },
             "line": {
              "color": "white"
             }
            },
            "type": "table"
           }
          ]
         },
         "layout": {
          "annotationdefaults": {
           "arrowcolor": "#2a3f5f",
           "arrowhead": 0,
           "arrowwidth": 1
          },
          "colorscale": {
           "diverging": [
            [
             0,
             "#8e0152"
            ],
            [
             0.1,
             "#c51b7d"
            ],
            [
             0.2,
             "#de77ae"
            ],
            [
             0.3,
             "#f1b6da"
            ],
            [
             0.4,
             "#fde0ef"
            ],
            [
             0.5,
             "#f7f7f7"
            ],
            [
             0.6,
             "#e6f5d0"
            ],
            [
             0.7,
             "#b8e186"
            ],
            [
             0.8,
             "#7fbc41"
            ],
            [
             0.9,
             "#4d9221"
            ],
            [
             1,
             "#276419"
            ]
           ],
           "sequential": [
            [
             0,
             "#0d0887"
            ],
            [
             0.1111111111111111,
             "#46039f"
            ],
            [
             0.2222222222222222,
             "#7201a8"
            ],
            [
             0.3333333333333333,
             "#9c179e"
            ],
            [
             0.4444444444444444,
             "#bd3786"
            ],
            [
             0.5555555555555556,
             "#d8576b"
            ],
            [
             0.6666666666666666,
             "#ed7953"
            ],
            [
             0.7777777777777778,
             "#fb9f3a"
            ],
            [
             0.8888888888888888,
             "#fdca26"
            ],
            [
             1,
             "#f0f921"
            ]
           ],
           "sequentialminus": [
            [
             0,
             "#0d0887"
            ],
            [
             0.1111111111111111,
             "#46039f"
            ],
            [
             0.2222222222222222,
             "#7201a8"
            ],
            [
             0.3333333333333333,
             "#9c179e"
            ],
            [
             0.4444444444444444,
             "#bd3786"
            ],
            [
             0.5555555555555556,
             "#d8576b"
            ],
            [
             0.6666666666666666,
             "#ed7953"
            ],
            [
             0.7777777777777778,
             "#fb9f3a"
            ],
            [
             0.8888888888888888,
             "#fdca26"
            ],
            [
             1,
             "#f0f921"
            ]
           ]
          },
          "colorway": [
           "#636efa",
           "#EF553B",
           "#00cc96",
           "#ab63fa",
           "#FFA15A",
           "#19d3f3",
           "#FF6692",
           "#B6E880",
           "#FF97FF",
           "#FECB52"
          ],
          "font": {
           "color": "#2a3f5f"
          },
          "geo": {
           "bgcolor": "white",
           "lakecolor": "white",
           "landcolor": "#E5ECF6",
           "showlakes": true,
           "showland": true,
           "subunitcolor": "white"
          },
          "hoverlabel": {
           "align": "left"
          },
          "hovermode": "closest",
          "mapbox": {
           "style": "light"
          },
          "paper_bgcolor": "white",
          "plot_bgcolor": "#E5ECF6",
          "polar": {
           "angularaxis": {
            "gridcolor": "white",
            "linecolor": "white",
            "ticks": ""
           },
           "bgcolor": "#E5ECF6",
           "radialaxis": {
            "gridcolor": "white",
            "linecolor": "white",
            "ticks": ""
           }
          },
          "scene": {
           "xaxis": {
            "backgroundcolor": "#E5ECF6",
            "gridcolor": "white",
            "gridwidth": 2,
            "linecolor": "white",
            "showbackground": true,
            "ticks": "",
            "zerolinecolor": "white"
           },
           "yaxis": {
            "backgroundcolor": "#E5ECF6",
            "gridcolor": "white",
            "gridwidth": 2,
            "linecolor": "white",
            "showbackground": true,
            "ticks": "",
            "zerolinecolor": "white"
           },
           "zaxis": {
            "backgroundcolor": "#E5ECF6",
            "gridcolor": "white",
            "gridwidth": 2,
            "linecolor": "white",
            "showbackground": true,
            "ticks": "",
            "zerolinecolor": "white"
           }
          },
          "shapedefaults": {
           "line": {
            "color": "#2a3f5f"
           }
          },
          "ternary": {
           "aaxis": {
            "gridcolor": "white",
            "linecolor": "white",
            "ticks": ""
           },
           "baxis": {
            "gridcolor": "white",
            "linecolor": "white",
            "ticks": ""
           },
           "bgcolor": "#E5ECF6",
           "caxis": {
            "gridcolor": "white",
            "linecolor": "white",
            "ticks": ""
           }
          },
          "title": {
           "x": 0.05
          },
          "xaxis": {
           "automargin": true,
           "gridcolor": "white",
           "linecolor": "white",
           "ticks": "",
           "zerolinecolor": "white",
           "zerolinewidth": 2
          },
          "yaxis": {
           "automargin": true,
           "gridcolor": "white",
           "linecolor": "white",
           "ticks": "",
           "zerolinecolor": "white",
           "zerolinewidth": 2
          }
         }
        }
       }
      },
      "image/png": "[encoded data removed]",
      "text/html": [
       "<div>\n",
       "        \n",
       "        \n",
       "            <div id=\"dadac95a-34fe-4f32-bf65-5b402c0a9a6a\" class=\"plotly-graph-div\" style=\"height:600px; width:100%;\"></div>\n",
       "            <script type=\"text/javascript\">\n",
       "                require([\"plotly\"], function(Plotly) {\n",
       "                    window.PLOTLYENV=window.PLOTLYENV || {};\n",
       "                    \n",
       "                if (document.getElementById(\"dadac95a-34fe-4f32-bf65-5b402c0a9a6a\")) {\n",
       "                    Plotly.newPlot(\n",
       "                        'dadac95a-34fe-4f32-bf65-5b402c0a9a6a',\n",
       "                        [{\"hoverlabel\": {\"namelength\": 0}, \"hovertemplate\": \"pc1=%{x}<br>pc2=%{y}<br>pc3=%{z}<br>predictions=%{marker.color}\", \"legendgroup\": \"\", \"marker\": {\"color\": [0, 0, 0, 0, 0, 0, 0, 0, 0, 0, 0, 0, 0, 0, 0, 0, 0, 0, 0, 2, 0, 0, 0, 0, 0, 0, 0, 0, 0, 0, 0, 0, 0, 0, 0, 0, 0, 0, 0, 0, 0, 0, 0, 0, 0, 0, 0, 0, 0, 0, 0, 0, 0, 0, 0, 0, 0, 0, 0, 0, 0, 0, 0, 0, 0, 0, 0, 0, 0, 0, 0, 0, 0, 0, 0, 0, 0, 0, 0, 0, 0, 0, 0, 0, 0, 0, 0, 0, 0, 0, 0, 0, 0, 0, 0, 0, 0, 0, 0, 0, 0, 0, 0, 0, 0, 0, 0, 0, 0, 0, 0, 0, 0, 0, 0, 0, 0, 0, 0, 0, 0, 0, 0, 0, 0, 0, 0, 0, 0, 0, 0, 0, 0, 0, 0, 0, 1, 0, 0, 0, 0, 0, 0, 0, 0, 0, 0, 0, 0, 0, 0, 0, 0, 0, 0, 0, 0, 0, 0, 0, 0, 0, 0, 0, 0, 0, 0, 0, 0, 0, 0, 0, 0, 0, 0, 0, 0, 0, 0, 0, 0, 0, 0, 0, 0, 0, 0, 0, 0, 0, 0, 0, 0, 0, 0, 0, 0, 0, 0, 0, 0, 0, 0, 0, 0, 0, 0, 0, 0, 0, 0, 0, 0, 0, 0, 0, 0, 0, 0, 0, 0, 0, 0, 0, 0, 0, 0, 0, 0, 0, 0, 0, 0, 0, 0, 0, 0, 0, 0, 0, 0, 0, 0, 0, 0, 0, 0, 0, 0, 0, 0, 0, 0, 0, 0, 0, 0, 0, 0, 0, 0, 0, 0, 0, 0, 0, 0, 0, 0, 0, 0, 0, 0, 0, 0, 0, 0, 0, 0, 0, 0, 0, 0, 0, 0, 0, 0, 0, 0, 0, 0, 0, 0, 0, 0, 0, 0, 0, 0, 0, 0, 0, 0, 0, 0, 0, 0, 0, 0, 0, 0, 0, 0, 0, 0, 0, 0, 0, 0, 0, 0, 0, 0, 0, 0, 0, 0, 0, 0, 0, 0, 0, 0, 0, 0, 0, 0, 0, 0, 0, 0, 0, 0, 0, 0, 0, 0, 0, 0, 0, 0, 0, 0, 0, 0, 0, 0, 0, 0, 0, 0, 0, 0, 0, 0, 0, 0, 0, 0, 0, 0, 0, 0, 0, 0, 0, 0, 0, 0, 0, 0, 1, 0, 0, 0, 0, 0, 0, 0, 0, 0, 0, 0, 0, 0, 0, 0, 0, 0, 3, 0, 0, 0, 0, 0, 0, 0, 0, 0, 0, 0, 0, 0, 0, 0, 0, 0, 0, 0, 0, 0, 0, 0, 0, 0, 0, 0, 0, 0, 0, 0, 0, 0, 0, 0, 0, 0, 0, 0, 0, 0, 0, 0, 0, 0, 0, 0, 0, 0, 0, 0, 0, 0, 0, 0, 0, 0, 0, 0, 0, 0, 0, 0, 0, 0, 0, 0, 0, 0, 0, 0, 0, 0, 0, 0, 0, 0, 0, 0, 0, 0, 0, 0, 0, 0, 0, 0, 0, 0, 0, 0, 0, 0, 0, 0, 0, 0], \"coloraxis\": \"coloraxis\", \"symbol\": \"circle\"}, \"mode\": \"markers\", \"name\": \"\", \"scene\": \"scene\", \"showlegend\": false, \"type\": \"scatter3d\", \"x\": [0.8930917513750674, 1.3981163374368477, 0.14468861870271202, -1.748602449071187, 1.1554049324542561, -0.8594836652275094, 0.6661024838560686, 3.652420554919646, 0.9294093912708454, -0.2093931942699937, 0.5742486300498665, 0.15404175162703848, -1.2887836861460973, 4.734416952637843, -0.37241505327230207, -0.27480514648925297, -0.37402407408362554, 1.0007960708959383, 1.1065228193030718, 4.12974119451658, 1.8101646599357122, 0.34292284291877717, 1.729889380149396, -0.8075560384279257, 1.1964978139686613, -0.2643453933038289, -1.158688774604981, 1.297013905352797, 0.5336487283749977, 1.1684072662956078, -0.2513414961817773, 0.1824238555294326, 0.6744913712659191, -0.8948211341179761, 0.6960063341226366, 3.1091755967706214, 1.8205675870406588, -2.790795072045814, 1.9433747150429335, -1.515084942861997, -0.8059774382780637, -1.1255724402559253, 2.5817457584374606, 0.18666960046053596, 1.490345410148421, -0.6670710874988073, -0.7293532934891009, 0.265719392714785, -0.11576097152502653, -0.7730289895753232, 1.3508701583796796, -0.34845258626614684, 2.5797251833532826, 0.8728596749998816, 2.6697448495258604, -0.4737393948173995, 0.9937562347310583, -0.39584926868571935, 2.016289108669791, -0.3837668936684562, -1.8476745540623174, 0.05178985257728186, 0.3570806696057528, -1.2119862573614761, -1.6001656741176187, 1.6063121860074179, 2.6988199219870053, 1.7573096839161646, 0.9514585179573484, 0.2924058080078944, -0.8654839087804314, -0.25157007242290175, 1.9868973329862185, -0.3046623370500772, 0.23904300271196482, -0.80410368157103, -0.3923807278798691, 0.05346079147458943, -0.13080077495289075, 0.7452293304900408, -0.8907083936981136, 2.640514289765941, 0.34171604185699433, -0.6715487818437539, 0.8345040565237842, 0.9919288534650512, -1.040549468278701, -0.40019049654250455, 0.4501816433136613, 0.4427822100012611, 0.6156300796592695, 6.11334082860116, 1.7244215909249856, 0.5447139229098106, 0.008951391627780483, 1.009867414174836, 1.2574833598963855, -0.11919642127808802, 0.5462715873458782, -0.5572496602138453, -4.172106339468538, -0.07524681699267266, 2.2312452919605588, 0.058141330317821704, 1.7166411968111155, 0.7453750313139478, 0.8873201076634234, 0.4615487815590457, 1.2356875712194224, 1.1322817440350232, 0.37543148626592854, 2.5408738599730105, 0.03497729515375955, -1.2304488713488968, -0.2697984091223273, -0.6742376208762093, -0.47742670298440393, -1.09435134904989, -0.21598710690126358, 1.9359757192242335, -0.8312361569938919, -1.5695368006761734, 0.5267911803222245, -2.9441655441003185, -1.2339305197878292, -1.0376568666468609, 0.8262060722393365, 0.5322658133567973, -0.19965075682974934, 0.20892516882699855, 0.5662671493352419, 0.28060209286721455, -0.32276219458093586, 0.6003251921711512, -0.15433109191636152, -0.7541810891538325, 2.3118201472609794, 2.07365736284384, -0.6670362886144382, 0.09527610637698539, -0.3377113452498483, 0.8169786746145549, -1.0584558327791005, 2.662742599111812, -1.55044378100226, 0.21628664827988378, -4.534850196493934, 3.438833457000018, 0.12853867477584466, -0.23862967063600846, -0.18965477129770464, -0.2474765805517136, -0.16838424895144127, 0.11070431127150657, 0.8176014508839723, 0.5137867600431028, 0.9878083863411569, 0.8776019416325852, -2.769079487279779, 0.8500290462100699, -0.9568457520924832, -3.217943242236075, 0.2903463999269525, 0.1846165014460779, -1.75166170310154, -0.2525246848757503, -0.8274824334589749, -1.7312473788155043, -2.062891389281663, 4.365822750410812, -2.0585273929085828, -0.27856442229430506, 0.15627775626098678, 0.19470288727386664, -0.8657087955529972, -1.1504240133297974, -0.12604036224326134, -0.9106073499997313, -0.5291087453066395, 0.16159570767864126, 0.5362554793949311, 5.215428974657729, -0.13767357630732083, 1.1432477130542886, 0.6420569197186173, -1.0690933977111132, 1.5175364810517187, 0.47538296409198133, -0.5025748320555955, 0.8264913127413115, -0.48571054346787723, 2.4721447209650274, -0.40718658601389784, 0.3209952982210737, -0.37346760372653587, -1.1509788266759506, 0.7949164101835788, 1.687058532410486, -0.701101690293971, -0.4259026838600455, 1.7153861182037666, 1.476824929502824, 5.00110324996112, 1.260715142571344, 0.8403099061249398, -0.09713052921539769, 2.166160791264369, -0.8300428259013036, -0.6316407731224511, 2.0855460945932536, 0.7155952205045667, -1.878958377659576, 0.3475038788516904, 0.2357278867910428, 0.9846560671386719, -0.6199729380551277, -0.8249932559441011, 2.0835960543805325, 1.3547049447139279, -0.48067937966014596, -1.6838533761836723, 1.5686847711018042, -0.6341632312948089, 0.30274484345578956, 0.8213234473966555, 0.5850497469636097, 0.7648576705208335, -0.8564812324361996, 0.44542381225115707, -1.5913062576048536, 0.11755804792758023, -0.4318289336243531, -0.38777049531814956, -1.0792436393658205, 0.4738603414364837, -0.6001297348504614, 1.3581568487126359, 1.4096858652379332, -0.7207995339790485, -0.010624663680249587, -1.397228073514236, 1.8548962339660033, 0.7791063569083615, -1.4320497618353116, 1.1526548999828523, 0.38598273667659605, -1.394836618333489, -1.645604352955477, 0.2806574125123601, 0.7120574733262267, 1.1998053730503797, -0.08570500888692324, 1.2682374985084255, 0.898758142600567, -0.45034832885798237, 0.2769363367354654, 2.355618406567229, -0.013993098970014516, -0.48589655073829524, -0.8130548165589779, -0.45015957772549836, 1.269261154584768, 7.7856883623536755, -0.5177834491440731, -2.068859284362409, 0.5168886023034203, 1.1404604767147937, -0.4732618302986901, -0.17553844855269002, 0.17480733244177157, -0.8280813407160071, 1.0205578459823224, -0.7235555232526716, 3.723485015064845, -0.12515991546049116, 0.5374400781368824, -0.09996144495758676, -1.0997773788966216, 0.41148029575034356, -1.500711188289094, -0.35676563384607546, 0.8414675976762499, 0.770261271320156, 2.404153104812806, -1.6406553495814906, -0.07743095193529012, -0.7244664340450523, 0.13744225150719114, -0.18077207056733652, -1.6084173443374759, 0.16360550732498308, -0.44326555171697146, -1.4152945932997254, 2.2502535437911755, -0.23913850168235043, -2.9527636532417927, 0.584192467936619, 0.17995691446878656, 0.5294696972419535, -1.2371573126121238, 1.5758826871794054, -1.2232338783715186, 0.8796401397091651, 0.8133098443852245, -0.19015485957827774, -1.5083893216470836, -0.3806549007712773, -0.5687708934023274, -1.074197783557186, 0.755639006220931, 0.2599716861783811, 0.44768049829127887, 1.2937505862985839, 0.27748778203419855, 1.3332032343980325, -0.17517041282939186, -0.1537025019313401, -0.25968722352451135, 1.098721096469137, 0.08940888898171837, -3.494045478267489, -1.700966323632469, -0.5120437907889342, -1.954622916235183, -1.1477435189277838, -0.8579295520757663, 0.06600698746084069, -0.5467211284203588, -1.0243408724118046, -1.4937161729561752, -0.49293125560106676, -0.754999007616408, -1.0544792460670653, 0.4329017637315584, -1.1969370591789377, 1.0020921054138836, -0.42777288049626055, -2.1517162065018267, 0.20322998147443647, -0.3190194656033603, -0.053066139616404745, -0.5363074194106138, -0.12000076702462202, 0.6807140716528632, -0.7052397471994368, 0.6482842609913524, 0.28339816502040205, -1.2428992079166723, -2.0054532295726766, -1.8153022017044438, 0.5252409309435978, -3.3299400233182426, 3.8577374636953956, 1.1645952638284656, -1.9616208161968178, 0.8495393192001532, 0.5017944547468596, -0.027346351723427382, 0.7611979981983641, -1.2011252975930753, 4.0810753783618745, 0.6187896534264933, -0.13395594468148556, -0.6761111959611213, -0.6535022583645623, 0.018588745405194732, 2.163364195623931, 1.5952349884906014, -0.3651426378230801, 0.1550742876162009, -0.7020282266684619, 0.06979742163220273, -2.088309363187901, 1.2114058115027349, 1.0412851731990456, -0.7195726099905132, -1.6679516772965994, 0.6346679337152631, -1.2326675591652405, -0.36821311042422517, -1.109019113205997, 1.487398028366034, -0.30276835798294244, 0.7997796678829637, -0.2768893335605116, 1.204570270629539, -0.48732958960212236, -0.2992871096491135, 0.08879067822259065, -1.1771814000336764, 0.010196493831428035, 3.0316495027633565, -0.3710594079647338, 0.307369231420942, -0.8467458077280035, 4.498029089420109, -0.029899687877231226, 0.23664002703873638, -0.5551849559779303, 1.628695026424122, -1.5642911792734917, -0.7767240876844762, 0.5251882982275279, -0.04225147738157621, -2.6521069574177014, 0.859009092921395, 0.9913609191521385, 0.8929309858539142, -0.35899321977843796, -1.3546045421259958, -0.9510339667317051, -1.2968805247001414, -0.5160797909174535, 0.5039475810015602, 0.5792701028826912, -0.6902145512023068, -0.47385913410624736, -1.9710760979750435, -1.1366140906542317, -1.3502655455781263, -2.922134397256592, -0.830049059184306, -1.4849631470490474, 0.9085056661704152, 0.33689565532457977, 0.7415055177565019, -0.5658782056664349, 0.034517544520584316, -1.7968639568314757, -3.0222890840388272, 1.0812013788287738, -1.0963646913665033, -0.6223652009161585, 0.9885347043451621, 0.6149988925572291, -2.28864146569184, -1.55963689245591, 0.2314352457656032, -1.50480768962282, 0.4045776251987034, -4.845841713342705, -2.5259912537458864, -0.9903633141664658, -1.310322296470663, 1.2823873670166488, -1.5041729171516334, -0.6609988725289057, 1.1104373179382627, -3.13951051978556, 0.3383353894135874, -0.3510687119039846, 0.8828524241393847, -0.3027698135530533, -1.9828196133761504, -1.754742986648646, -1.0744336791993605, -1.6706982489915518, -0.8500682196501275, -0.9677911047405833, 0.4101854743312563, -2.0805793343532724, -0.3309272989149484, -1.122503998117379, -1.119988723900338, -0.42255158825331707, -1.4316162768934206, -3.1968135010874734, -0.8605193301609166, 0.4188451648451197, -2.256864054178579, -0.21623781815554555, -1.295134757115616, -2.190999711112522, -0.16735644375408074, -0.5009003486598117, -0.6084234186914583, -0.5667428280209307, 0.060839513747074296, 3.3089382387570763, -1.7685570833450202, 0.17940121077705623, -1.6968713015468289, 0.29145109860301327, -0.10201859943269986, -0.12567942262861306, -1.5352118185419454, -0.8466056906277546, -0.23488329210562917, 0.0806380417328897, -0.8946671858925185, 0.3177951078911824, 1.8877715717731467, -0.7077886437399742, -2.2772433138626975, -2.9065776539309067, -1.6445523715780845, -0.4443894331157483], \"y\": [-1.0812320767829444, -1.0428773237751716, -0.5006107207204236, 0.6796140079064493, -1.1546665317915281, 0.003560089042262603, -1.1810620152099858, -1.473088713118192, 0.2648042302379424, 1.4345189245746117, 1.7684693128250522, -1.933626310922223, 0.11652665159554527, -1.9714655763430837, 0.7254889547155297, 0.24482013471019884, 0.33953488729601666, 0.6736944828416327, -1.0994153092347594, -2.260791600724203, 0.9790518744516947, -0.8128138458693625, 0.22621421657839497, -0.050153565354655795, -0.34049454111263333, -0.25594730759285655, 1.2761415004450356, 0.7810976475111405, -1.2644682263238454, -1.0712152923653107, -2.1955097810412814, 0.7455274709225596, 0.49342146319550334, 0.48525994453043736, 0.01473226438588162, 0.3982394894871201, -0.22149639754817535, 1.4877612698177034, -1.3677481544043861, 0.554121771469259, 0.858773334284479, -1.833840241813982, -0.8799299923266656, -0.5221919691771488, -1.0138725776208495, 0.11273804506991829, -0.24390282918993286, -0.5405691292431378, 0.6547302895024755, 0.4889678003694454, -0.9356968741150881, -0.7251380743888063, 0.6336755461354923, 2.5348309182587303, -1.857922311843891, 0.8477961934958778, -0.12003643410135603, 0.7585062244514551, 1.044779927158, -0.8235773172789379, 1.6621787567664055, -0.6213309895436032, -0.9615002295342239, -0.12952055718869146, 0.39956378873980447, -1.7224357721380068, 0.1656338987828124, 2.0524371726529287, -0.9761511478428813, -0.6972383873518715, 1.9793066340743386, -0.4121568653536086, -1.3905413327434306, -1.4461951732236522, -1.6017673179029497, -1.7549217948435762, 1.3964880374135065, 0.6362533586886459, -1.7106231327438262, -0.14689091424118422, 0.2839271870826808, 1.2295229557010485, 0.11015906307342352, 0.5397893665870911, 0.19005189612518564, 0.48450281096585035, 0.7293124898452333, 0.9600227352785786, -0.7309430909662608, -0.7158374440264995, -1.0403272878959173, -2.015723257209576, -0.9585984272810859, 2.799739662415211, 0.7548010118983313, 2.287960701600709, 1.9791826995367656, 0.9577867685546757, -1.7490147201597293, 0.962143229921133, -0.02485734385494894, -0.053636665270576055, -0.11755114306402421, 0.5132344376385272, -0.15637352575953864, 1.1599747565314904, -0.5555954714187954, 2.916335260758592, -1.157476782357246, -1.4052090878219725, 0.5850924103671318, -2.526523908769783, 0.7338504685766967, 1.020902889561666, -3.314995844525549, -0.5899306515783663, 0.06493152707489257, 0.07371863220730764, -2.2326742910669903, 0.29085569211729034, -0.7204722661338747, -0.3746787206766311, 0.14991606205331223, -0.4842560304549898, -0.577282010638417, -0.3327839491983672, 0.31221578351434576, -1.2253516632017871, -1.3030029885303211, -0.42474587924159657, 0.2651734159072993, -0.392268428006199, 3.2352057071695803, 0.9494777488963517, -1.6800395970582358, 0.028144354107325794, 0.16305961737405034, -0.6688522872903088, 0.08875974436290394, -0.8536285338046874, -1.1388848360335706, 2.3032571519107217, -0.9176150445536723, 0.6877986501360865, 0.4907080822583921, 0.2954135064539691, 1.4961349259739876, -1.7990281788269502, 1.9774665541683758, -1.170512696142737, -0.8578727761104352, 0.42350708726492253, 0.7189656345188589, 0.3130388889566383, 0.13717980723484058, 1.2139327811197953, -0.3301211056818216, 1.6403117029537346, 0.39662512567842506, -1.231504427554052, 0.25403401510209317, 4.741672494943548, 1.1333197273272888, -2.478556219710261, -1.0403591416673383, 0.2580871865521902, -0.826651020470745, -0.5947840935926715, 0.3604175487540119, 1.1310595246294637, -1.268420431060052, -0.6125810865218769, -0.2551995125705114, -0.07055866654518661, 0.6710843997020577, 0.7236448570124234, 1.420234865654237, 0.5029664227515838, 0.36867700078102317, -0.4821501140735135, 3.317953147038807, -0.9270405229486021, 1.116966019088368, 2.229045425172129, 2.4525380745313274, 0.4471081482793094, -1.3636936118016802, 0.6391646931261298, -0.14905153290823303, 2.5659423244964947, -0.1980316159908195, 1.4099672324187724, -1.3227085036769815, -0.4643834268273042, -0.7340440085481412, 0.05856816715416825, -0.13251161134810593, -0.40094942715494586, -1.2591025957615536, -0.5290270026883769, 0.007423233085055748, 1.6574468906424333, 0.7126426596960261, -0.29138726998979925, 1.5621476286738154, -0.08936919228906555, 0.4388206815118422, 1.5499121884117584, -1.0383583979916151, -2.3841646091874416, 2.3968188340445993, 2.950004158307556, -0.5639310511380512, 1.3504067764730165, 2.580040780415179, -1.0932768439805676, -1.4436758936008165, 0.6249471731594961, 0.5076929132353915, -1.106182335403017, 1.5281206021126728, -0.5796765228458443, 5.940397119243116, 0.065408926923926, -2.496693640056175, 2.099622079194873, 1.8745294335466378, -1.5721511370250982, -1.7906808949637976, 0.27553192156808054, 2.1942845520982224, -0.977173844345206, -0.7739729517055801, 0.20281060132603793, -2.652348593642209, 0.6324473948877094, 0.7010284119527099, 2.982190953566555, 4.263818363539708, -0.27084675580631135, 0.48403287577777077, -1.84904496800752, 1.894632763103431, -0.6970191486793503, 0.888625393477254, 2.270795652312432, -1.6252822430263045, 0.7419403178931187, 2.460098867056735, 1.3980718807485457, -0.8997964664961726, -1.3154912274885404, -1.4886281463921704, 1.8849608553213288, 1.44720115120859, 1.5794166926886817, -0.8445489042444309, -0.6621449050713759, -0.40086800099257625, 0.4813734597210413, -0.9611752196136464, 2.221682410206096, -1.4148417059023426, 1.2102697353780163, 0.5018848918752342, -0.9307158469713268, -1.0385107401004483, 0.7364679798244578, 1.7451594301488613, -0.6420072406474603, -2.245970188702568, 0.9784170643768594, -0.5960433812902991, -0.5285548192036471, 1.2955753612499343, -1.6255652523549864, -1.6486794551631587, -0.5125959726943896, 2.9899217685785193, -2.1420414343990215, 1.4177801817280467, 3.135945688879767, -1.3216178444967293, -0.690548073043454, -1.0994713883352114, 0.13049130509378268, -0.069141400367868, 0.2685251451227438, -0.16159141863295484, -1.2197825683715608, -1.4262876603837862, -0.4897170308506099, -0.9966108637467406, 0.8428803685693105, 0.5024821773244655, -1.396983280596999, -0.26109771261337894, 0.8072158865285449, -0.23233728305479615, 4.818605935270938, -1.5937475798234257, -0.9970640406645931, 2.145222567013115, -0.14478248552719677, 0.3370506637983491, -0.2086729430029977, 0.4999882647917109, 1.1442703091569328, -1.6186831124222287, 2.619612168996999, 0.5040393814561461, -0.7068929182875825, -0.7942972714099199, 0.47808061558384557, 1.7460240434440395, 0.6582987174415346, 0.4485655806374119, 0.4100467277712088, 3.8348317467242015, -1.820121523996956, -0.17578970830642346, 0.6698157472475674, 0.2653537035983411, -0.011471799984730139, -1.3738139476853923, 0.09360858441812721, -1.7722655473108029, -0.5997309841506224, 0.6722968038629084, -0.7243545529420239, -0.6363833816301946, 0.07306377273689696, 0.8021303441111909, -1.5496801832327611, 0.26698551731346565, -1.5215887097232292, -1.7097241597533022, -0.2223293860754576, 3.029575980659509, -1.4870345519120807, 0.39384826465045153, 0.8833554077566854, -0.8295667558974248, -0.40902387529352024, 0.26106836230698255, -0.025467620713952505, -0.7901664307831626, 0.9597412153516739, -1.2495074346598547, -0.4292628746932794, 1.229096535602142, -0.696486094199359, -1.4702115425020341, -2.337231742107573, 0.37107329962278823, 0.1644942067646561, 1.6980389388747645, 0.4051651229329425, 2.472156565764612, 0.6520225091427378, 1.2415725036359004, 0.5247409802824319, 0.09372202068805592, 5.796422836043358, 0.6565778893803726, -1.9870147978210726, 2.111259785871024, 0.4824523201011948, 0.7129054883865861, 0.6197055087942352, -0.29201729748070043, -1.4168450650881392, -1.7795433752123597, 1.4674617075926628, -0.9269813476878039, 1.774360989461639, -1.0295690525524206, 2.2445738734036134, 1.7342246058750577, 1.0884330051686038, -0.4867253669260349, -2.071404563873189, -0.04934791400822647, 2.1207523170565614, -1.3549552396401823, 2.042908068887685, -0.11182296303512851, 0.18951582237016937, 1.6924996706299755, -1.503483415543273, -0.5433102206604205, -0.24327265149949892, 0.5004272721264933, -0.635786724150533, 0.8504456116215839, 0.7034987757213822, -3.755247839070377, 1.4725115077112265, 0.17429117502883024, -3.393800547065267, -3.7654244147116254, -1.1721515049612756, 0.3486710481981743, -0.2783664486439262, -1.7663609832877596, -0.6076318195675696, 0.0288793766035862, 1.0784230967744886, -0.17297609608783185, 0.6844367548886601, 2.8354770202494257, -0.42512732375106443, -0.4342442567229694, 0.7513920526718113, 1.8466533768409181, 0.5806461099198341, -1.621372349311269, -1.5582730572924184, -1.1677722730529103, -0.166476255340028, 0.44832022129195925, -0.8096955704184193, -1.3977769822230492, -2.0107093474578286, 0.3875779334986168, -1.9135557279419635, 0.23360502566316108, 2.762665904396421, -2.2789223440201716, 0.8128530977193577, 1.8414313050849878, -0.5355065967639793, 0.139494463262564, 2.412718897536936, 0.7383652349883942, -1.8393369263618127, -1.6611271899851625, 1.4240817784966804, -1.2553914338087238, -1.0142703121346246, 0.4721447848282136, 1.3749913471760142, -1.2030356175828638, -1.7553828255288628, 0.7131836741933781, -2.8179382761988774, -0.549305341946568, -0.9791961403635423, -0.22898407999439735, -1.6251471300537204, 0.23266814447861522, -0.6188725407059411, 0.0022910416595501174, 1.0767226169138788, -2.1204295567447695, -1.0211263807407018, 1.026731348702651, 0.1705162768617717, 1.3857138069557688, 1.5557478583553392, -0.011171456667330512, -1.2143829766985375, -1.5657082111997507, -2.5017477737285745, -0.5542553093309428, -1.2346123788412406, -1.0556958673540093, -0.1687012529514353, -1.1221878699760168, -0.9953744552601905, 0.09466314510401613, 0.35469361787415105, -0.8538444022044772, -0.32517260684783017, -0.16198289495538648, 1.0102097918883903, -1.5437840313069826, -1.5096109220218972, -0.6536067183892288, -1.7239806303488778, 0.48796792751340634, -1.4258424420567748, 0.11170773477274165, 0.49235892342684684, -0.30221571708038636, -0.7826877287506516, -0.8090441878220611, -0.8245435075337156, -0.2675217000866563, -1.5307668704683004, -1.7645199645215706, 0.4966062373356978, 0.2649622104964481, -0.7025832852763914, -0.774558507613635, -1.0648931715599508, 1.5140654910817979], \"z\": [0.43354424473347686, 0.6989076606090538, 0.17652282531287478, 2.869018402448533, 0.6716549120559692, -0.6326327400198102, -0.6012401867960198, 1.0953870002255532, -0.47931820651422835, -1.1157805305340138, 0.3530863423492219, -0.2579968388628768, -0.8715618381843977, 2.8826898325199255, -1.1503566776272471, -0.41502611945931556, -0.6945830739771549, -1.2402057228270933, -0.39671201430221736, 2.2030721969004383, -0.4311977116386074, -0.8729162389428563, -0.4473881219187245, -1.0417685860144195, -0.7694305463487431, -0.6576395168140249, 1.262887965075688, -0.6765600601562278, -0.10915797628098316, 0.07401418605348806, -0.26490768248608687, -0.4285626217832736, 0.4862106786673432, 0.6692246169464733, 1.9204180438625353, -0.17232008649354694, -0.6500821259196133, 3.0498811144165203, 0.3026638084409261, 3.7464710715311136, -0.0866264127967942, 3.0604950537940754, 0.21938581842098256, 0.1880606282177731, 0.7379556479644489, 0.4465286363156654, -0.3904362217264699, -0.16951573436761952, 0.5491142579269769, 0.92366680239053, -0.014423209283224443, -0.3804635393545522, -0.01026489081343837, -0.9157065681321837, 0.9451410553412105, -0.3394502779241413, 0.03736021092713877, 0.14275812604698815, 0.3354161865115908, 0.2827007344801442, 2.2521267119030144, -0.517570853492305, 0.19707665361886811, -0.6976551161454768, -0.2563546773279121, 0.80695157213638, 0.21707518364290676, 0.6326855649244763, -0.6802384835870062, 0.902043403199707, 0.6539906891800288, 0.03243571607199613, 0.47735824548596156, -0.45273529842047605, -0.4265458265722038, 0.10498010450888738, 0.31457542039144687, -0.9001916947113984, -0.06249325444363753, -0.0784396127865132, -1.0977582244221025, -0.8196433883458822, 0.10643912220775857, -1.0899014389421304, -0.1419509666421632, 0.4462660201230762, 0.8536692433423806, -1.3890600110321754, -0.9317138585051402, 1.9330834445186984, -0.6341254400379985, 4.291041178131457, 1.7096296867861758, -0.694427189861519, -1.0791108803143725, -2.0030819469985754, -1.8969346723582337, -1.0307726350474624, -0.11109843792592573, 1.0309992526136114, -0.6589806087640742, -0.6360764412649749, 0.2751138448117732, -0.755924972235096, 1.1224372674228396, 0.9494964652824535, 1.9266509827470142, 0.7984375093140169, 0.6479124103874369, -0.012553337855206095, -0.11683812062503812, 0.26074408011053324, -0.09749835951967273, 1.2844704527054969, 0.40341576828018516, -0.4645606973734253, 0.722847922323835, -1.0011329436746121, 0.7348437497739169, -0.7015975314431968, -0.3002520438009384, 0.12252810538255984, -0.24543699768393298, -0.05834476433909723, -1.094783233528188, -1.0404805840868123, 1.665226198904138, -0.12074202083852757, 0.745917944929727, -0.33552602023245115, 0.11948236877324912, 1.869839747979532, 1.7438165577166262, -0.591937608854233, -0.5504150054675566, -1.2810095033135749, 0.0797863186518755, 1.4956194747733957, -0.7291839343587158, -0.7759434317362695, 0.09443030467755553, -1.6896691325784718, -1.0032580977869898, -0.3808437872560394, -0.8114062045556464, -0.9031496492213886, 9.887671017840972, 2.7240371233593064, -1.8473620327896898, -0.44715502110719463, 0.5136023518367223, -1.325418225537618, -0.9320037261132238, -0.24148495047343563, -0.4324068340905866, -0.5653693504898318, 0.26024799781539, -1.5101219296563815, 2.409828278349459, 0.0442561773845631, -0.2111575962698323, 10.333444427570853, -0.8245236955924883, 1.0023852387806051, -0.46803791393025546, -1.4305110340995202, -0.39511211158830317, -0.5383104861808272, -1.205203825572095, -1.0150374492869068, -0.7006297508506024, -0.9655991255599615, -0.09396776450966787, 0.18154032711187681, -1.5024720750042067, -1.076482808334507, 0.2766494800439804, -1.3584532174891295, -0.8805547896353652, -0.6255421740960104, -0.18084924520421725, 3.594736970802295, -1.4156017535908967, -2.0771376355927695, -1.5812158055856136, 0.1267024295179386, 0.766863647422675, -1.0858645228814126, -0.3260296690894954, 0.3100081787250226, -0.184294399606693, -0.6493842188046276, -0.332389895468986, 0.18459557197665027, -0.46005588377379797, -0.24308135813179638, 0.8800322420836367, 0.18680137559372414, 0.006222431026252038, -0.9727689008177136, -0.6403383823131109, -0.15152307616822366, 1.1688179443856177, 0.5475661752701134, -1.5878998664600785, -0.270157376545215, 0.410420696391053, 1.3092011776339822, -0.5472246793413749, 0.31663687804333257, -1.862551580873608, 3.506211968679004, -0.2361403797010943, -0.9063020332809808, -1.6201543251906105, -0.47550798327628946, -0.3654326514447377, -0.48898543409491935, -0.14953101408510658, -0.5249017375137311, 3.151850212455295, 0.33777853017433357, 6.403769018047349, 0.20963136073244235, -0.030453167341300654, -1.4013552116571517, -1.5079810149835389, 0.19654692489866699, 0.8349292298749975, -0.2947012542078458, -1.8142438968082006, -0.44521266936365395, 0.3907108781307841, -0.9462770983538329, 0.4995108544415558, -0.5559010569751736, -1.3771447546246243, 0.2569509142855108, 2.5490494274042543, 0.3052175655249714, -1.0218851189008715, -0.6474984042186938, -1.404672195909608, 0.2514015932338017, 0.7436503407855993, -1.7227063091089088, 0.6015119276603929, 2.034340420029461, -1.4618923627668396, -0.2170016244353398, 0.4069287451564514, -0.324190295284922, 1.8103323796615354, -0.765070836657272, 1.8437945253159107, -0.8314221063164404, 1.5401320342474132, 0.14579531240403973, -1.0546640220430197, 0.5080769219399072, -0.11806219978935892, -1.0207109184027465, 3.2760816081157036, -1.5136480417055762, 0.9543890898361881, 1.6368427560162493, -0.823745926971428, -1.634766417264819, -1.439712762196265, -0.6289356663606354, 2.9275900009242157, 0.7346638002230227, -0.46190446071621954, 3.6458003446738756, 0.5267448340662428, -0.6104097653033499, -0.11969820774912575, -0.34942793279404905, -0.5622927685394087, -0.026667850494609173, -0.26668808930340365, 0.6744807161259986, 0.6727291309214556, 0.7359547550187389, -0.3802572519335547, 1.258290849882095, 0.5359454827658002, -1.279103486440062, 0.47005828003295785, -0.09404010064885207, -0.5164494828115457, 0.4716464551653914, -0.1535837800553657, -0.04019245349473858, -0.2161619167483986, 0.21539921541072693, -0.5650251556732483, 0.5133666612398023, 1.2486188005620658, 4.211515169589558, 2.0774636349995683, -0.49670168976553064, -1.649248317840643, -0.41754353099916963, -1.5001794382190505, -0.5254352790640828, 1.2483755012577369, -0.5017752002042486, -0.36501469203042747, -1.4783581701698252, -1.160950857673909, 0.0007084915209189525, 0.033135493788223384, -0.5237667343740988, -0.9559281276307501, -1.2642918069526925, -0.3301423962303768, 0.6385462155072118, 0.6005966578836193, -0.43832340998715535, 2.915052585314262, 0.7021448209511904, -0.7530290530911754, 0.6490136256845157, -0.2979983974943253, -0.479235821741868, -0.405720944708559, 0.017424654043548145, -0.7544781541778217, 0.04849805249806505, 0.3219794087574954, -0.6051532702087878, 1.2716333577990648, -0.4949612956469277, -0.2831526291065666, 0.5837849122371139, 0.22609820493301416, -0.7079042496442818, 0.4647055934381648, -0.34313977679771274, 0.08702132674370135, -0.16711475201034878, -0.28393228421531225, -0.2721660430177225, -0.7892527370109454, -0.2555284785592346, -0.8668496223310729, -0.8825622919232451, -0.6451945597726608, 0.5608961624967683, -0.9754152001242163, -0.17816841044270346, 2.820355263927372, 0.7256251392799807, -0.11379793596115709, 0.18626444761769298, -0.8267850588189362, -0.8842936569487604, -1.710536983251369, 1.8625536715981095, 2.0231854187013516, 0.09126395906639709, -0.8323711041868681, 4.2239763475483985, -0.18935617306768743, 0.7789305568555492, -0.5726855446355262, -0.7904846848100514, 0.20416543716134114, -0.22160898810838364, 0.0008338010714556651, -0.6304895362012232, 0.7944894712590715, -0.9168599684383257, -0.7767397194990733, 0.22021683932235603, 1.3984019432311543, 0.589249523918354, 0.7476374202047937, -1.3892015877296366, -0.2021043315023391, 1.2059800944765326, -0.7753128749859404, -1.507406138622511, -0.023381809967737015, -1.6088197491354088, -0.757399273763508, 0.31928742823699413, -1.6866992951426862, -0.4206059033600286, -0.20885204678247046, -0.8846944098918408, -0.7340878228204027, 0.2680551833596643, 0.3267145496928787, 1.6707172194961295, 0.622102705949886, -1.5819060789581638, -0.2658625213118678, 2.438103592360628, 0.993227112188914, -0.37282007515369914, 0.41555147200185827, -0.11652833342904402, -0.21535329826371283, 0.5705685511549881, -0.8084087961060696, 0.912609896259148, -1.0149857111427798, 0.23594650055253097, -0.6554753889747783, -0.24250958513488322, 0.6614041422170535, -1.5627475993991295, -0.26208577298287683, -0.7676902219843493, -0.03409983303852896, -0.27296389900190776, -0.37710269305949706, 0.8357200135467333, 0.6813130466757454, -0.18615516856952782, -0.336927890451009, -0.4471936931404229, -0.8590638394038345, -0.4594616213156456, -0.96186613967127, -2.0227097881653275, 0.09212569305999266, 4.339094286398405, -0.05378440356732967, -0.8100904580179324, -0.45772936466458386, -2.011239734505142, -0.7735765417981223, 0.04139247398587251, 0.32834972615658636, -0.7238533503332418, -0.5194318225552264, -0.482580611390613, -0.9298213194357048, -0.6218332324467302, 0.10815606605496621, -0.23415402941484748, -0.6123639586178412, 0.16558044028230384, -0.6778095576558032, 1.3108518800119684, 0.7778090491388382, -0.4975609167982213, -1.2197583786577038, -0.2250792833804561, -0.7431213267463702, 1.7050563244907355, 0.02909691173564733, -0.7104304847308496, -0.0642927591171738, -0.7286071738345898, -1.14468646319735, -1.2165148528048155, -0.47132661644176166, -0.0022131186087689693, -0.6311864576696684, 1.0654249124622102, -0.18433587700207005, -0.47887816806952055, 0.047844952453754704, -1.1046005687273495, -0.6725696558194361, -0.17369804525970325, -0.17438222628079633, -0.7594934805007693, 0.4258242069594456, -0.8330202168457472, -0.1825614877320979, 0.35806404936249614, -0.37078403723160247, 0.10360588159184646, -0.9231622203567647, 0.5764699900899992, -1.5553449442720126, -0.8901060829577186, -0.6434221950937099, -1.1952274542636494, -0.7067348798829108, -0.5427604244529157, -0.4533818156811409, -0.5891786432822487, -0.6952111520082742, -0.39444611576306127, -0.4478143940008704, -0.9806761881078023, -1.6388373140836991, -0.16730148913142306, -0.0393730644087238, 0.41553366064230196, -0.1269605983781601]}],\n",
       "                        {\"coloraxis\": {\"colorbar\": {\"title\": {\"text\": \"predictions\"}}, \"colorscale\": [[0.0, \"#0d0887\"], [0.1111111111111111, \"#46039f\"], [0.2222222222222222, \"#7201a8\"], [0.3333333333333333, \"#9c179e\"], [0.4444444444444444, \"#bd3786\"], [0.5555555555555556, \"#d8576b\"], [0.6666666666666666, \"#ed7953\"], [0.7777777777777778, \"#fb9f3a\"], [0.8888888888888888, \"#fdca26\"], [1.0, \"#f0f921\"]]}, \"height\": 600, \"legend\": {\"tracegroupgap\": 0}, \"margin\": {\"t\": 60}, \"scene\": {\"domain\": {\"x\": [0.0, 0.98], \"y\": [0.0, 1.0]}, \"xaxis\": {\"title\": {\"text\": \"pc1\"}}, \"yaxis\": {\"title\": {\"text\": \"pc2\"}}, \"zaxis\": {\"title\": {\"text\": \"pc3\"}}}, \"template\": {\"data\": {\"bar\": [{\"error_x\": {\"color\": \"#2a3f5f\"}, \"error_y\": {\"color\": \"#2a3f5f\"}, \"marker\": {\"line\": {\"color\": \"#E5ECF6\", \"width\": 0.5}}, \"type\": \"bar\"}], \"barpolar\": [{\"marker\": {\"line\": {\"color\": \"#E5ECF6\", \"width\": 0.5}}, \"type\": \"barpolar\"}], \"carpet\": [{\"aaxis\": {\"endlinecolor\": \"#2a3f5f\", \"gridcolor\": \"white\", \"linecolor\": \"white\", \"minorgridcolor\": \"white\", \"startlinecolor\": \"#2a3f5f\"}, \"baxis\": {\"endlinecolor\": \"#2a3f5f\", \"gridcolor\": \"white\", \"linecolor\": \"white\", \"minorgridcolor\": \"white\", \"startlinecolor\": \"#2a3f5f\"}, \"type\": \"carpet\"}], \"choropleth\": [{\"colorbar\": {\"outlinewidth\": 0, \"ticks\": \"\"}, \"type\": \"choropleth\"}], \"contour\": [{\"colorbar\": {\"outlinewidth\": 0, \"ticks\": \"\"}, \"colorscale\": [[0.0, \"#0d0887\"], [0.1111111111111111, \"#46039f\"], [0.2222222222222222, \"#7201a8\"], [0.3333333333333333, \"#9c179e\"], [0.4444444444444444, \"#bd3786\"], [0.5555555555555556, \"#d8576b\"], [0.6666666666666666, \"#ed7953\"], [0.7777777777777778, \"#fb9f3a\"], [0.8888888888888888, \"#fdca26\"], [1.0, \"#f0f921\"]], \"type\": \"contour\"}], \"contourcarpet\": [{\"colorbar\": {\"outlinewidth\": 0, \"ticks\": \"\"}, \"type\": \"contourcarpet\"}], \"heatmap\": [{\"colorbar\": {\"outlinewidth\": 0, \"ticks\": \"\"}, \"colorscale\": [[0.0, \"#0d0887\"], [0.1111111111111111, \"#46039f\"], [0.2222222222222222, \"#7201a8\"], [0.3333333333333333, \"#9c179e\"], [0.4444444444444444, \"#bd3786\"], [0.5555555555555556, \"#d8576b\"], [0.6666666666666666, \"#ed7953\"], [0.7777777777777778, \"#fb9f3a\"], [0.8888888888888888, \"#fdca26\"], [1.0, \"#f0f921\"]], \"type\": \"heatmap\"}], \"heatmapgl\": [{\"colorbar\": {\"outlinewidth\": 0, \"ticks\": \"\"}, \"colorscale\": [[0.0, \"#0d0887\"], [0.1111111111111111, \"#46039f\"], [0.2222222222222222, \"#7201a8\"], [0.3333333333333333, \"#9c179e\"], [0.4444444444444444, \"#bd3786\"], [0.5555555555555556, \"#d8576b\"], [0.6666666666666666, \"#ed7953\"], [0.7777777777777778, \"#fb9f3a\"], [0.8888888888888888, \"#fdca26\"], [1.0, \"#f0f921\"]], \"type\": \"heatmapgl\"}], \"histogram\": [{\"marker\": {\"colorbar\": {\"outlinewidth\": 0, \"ticks\": \"\"}}, \"type\": \"histogram\"}], \"histogram2d\": [{\"colorbar\": {\"outlinewidth\": 0, \"ticks\": \"\"}, \"colorscale\": [[0.0, \"#0d0887\"], [0.1111111111111111, \"#46039f\"], [0.2222222222222222, \"#7201a8\"], [0.3333333333333333, \"#9c179e\"], [0.4444444444444444, \"#bd3786\"], [0.5555555555555556, \"#d8576b\"], [0.6666666666666666, \"#ed7953\"], [0.7777777777777778, \"#fb9f3a\"], [0.8888888888888888, \"#fdca26\"], [1.0, \"#f0f921\"]], \"type\": \"histogram2d\"}], \"histogram2dcontour\": [{\"colorbar\": {\"outlinewidth\": 0, \"ticks\": \"\"}, \"colorscale\": [[0.0, \"#0d0887\"], [0.1111111111111111, \"#46039f\"], [0.2222222222222222, \"#7201a8\"], [0.3333333333333333, \"#9c179e\"], [0.4444444444444444, \"#bd3786\"], [0.5555555555555556, \"#d8576b\"], [0.6666666666666666, \"#ed7953\"], [0.7777777777777778, \"#fb9f3a\"], [0.8888888888888888, \"#fdca26\"], [1.0, \"#f0f921\"]], \"type\": \"histogram2dcontour\"}], \"mesh3d\": [{\"colorbar\": {\"outlinewidth\": 0, \"ticks\": \"\"}, \"type\": \"mesh3d\"}], \"parcoords\": [{\"line\": {\"colorbar\": {\"outlinewidth\": 0, \"ticks\": \"\"}}, \"type\": \"parcoords\"}], \"scatter\": [{\"marker\": {\"colorbar\": {\"outlinewidth\": 0, \"ticks\": \"\"}}, \"type\": \"scatter\"}], \"scatter3d\": [{\"line\": {\"colorbar\": {\"outlinewidth\": 0, \"ticks\": \"\"}}, \"marker\": {\"colorbar\": {\"outlinewidth\": 0, \"ticks\": \"\"}}, \"type\": \"scatter3d\"}], \"scattercarpet\": [{\"marker\": {\"colorbar\": {\"outlinewidth\": 0, \"ticks\": \"\"}}, \"type\": \"scattercarpet\"}], \"scattergeo\": [{\"marker\": {\"colorbar\": {\"outlinewidth\": 0, \"ticks\": \"\"}}, \"type\": \"scattergeo\"}], \"scattergl\": [{\"marker\": {\"colorbar\": {\"outlinewidth\": 0, \"ticks\": \"\"}}, \"type\": \"scattergl\"}], \"scattermapbox\": [{\"marker\": {\"colorbar\": {\"outlinewidth\": 0, \"ticks\": \"\"}}, \"type\": \"scattermapbox\"}], \"scatterpolar\": [{\"marker\": {\"colorbar\": {\"outlinewidth\": 0, \"ticks\": \"\"}}, \"type\": \"scatterpolar\"}], \"scatterpolargl\": [{\"marker\": {\"colorbar\": {\"outlinewidth\": 0, \"ticks\": \"\"}}, \"type\": \"scatterpolargl\"}], \"scatterternary\": [{\"marker\": {\"colorbar\": {\"outlinewidth\": 0, \"ticks\": \"\"}}, \"type\": \"scatterternary\"}], \"surface\": [{\"colorbar\": {\"outlinewidth\": 0, \"ticks\": \"\"}, \"colorscale\": [[0.0, \"#0d0887\"], [0.1111111111111111, \"#46039f\"], [0.2222222222222222, \"#7201a8\"], [0.3333333333333333, \"#9c179e\"], [0.4444444444444444, \"#bd3786\"], [0.5555555555555556, \"#d8576b\"], [0.6666666666666666, \"#ed7953\"], [0.7777777777777778, \"#fb9f3a\"], [0.8888888888888888, \"#fdca26\"], [1.0, \"#f0f921\"]], \"type\": \"surface\"}], \"table\": [{\"cells\": {\"fill\": {\"color\": \"#EBF0F8\"}, \"line\": {\"color\": \"white\"}}, \"header\": {\"fill\": {\"color\": \"#C8D4E3\"}, \"line\": {\"color\": \"white\"}}, \"type\": \"table\"}]}, \"layout\": {\"annotationdefaults\": {\"arrowcolor\": \"#2a3f5f\", \"arrowhead\": 0, \"arrowwidth\": 1}, \"colorscale\": {\"diverging\": [[0, \"#8e0152\"], [0.1, \"#c51b7d\"], [0.2, \"#de77ae\"], [0.3, \"#f1b6da\"], [0.4, \"#fde0ef\"], [0.5, \"#f7f7f7\"], [0.6, \"#e6f5d0\"], [0.7, \"#b8e186\"], [0.8, \"#7fbc41\"], [0.9, \"#4d9221\"], [1, \"#276419\"]], \"sequential\": [[0.0, \"#0d0887\"], [0.1111111111111111, \"#46039f\"], [0.2222222222222222, \"#7201a8\"], [0.3333333333333333, \"#9c179e\"], [0.4444444444444444, \"#bd3786\"], [0.5555555555555556, \"#d8576b\"], [0.6666666666666666, \"#ed7953\"], [0.7777777777777778, \"#fb9f3a\"], [0.8888888888888888, \"#fdca26\"], [1.0, \"#f0f921\"]], \"sequentialminus\": [[0.0, \"#0d0887\"], [0.1111111111111111, \"#46039f\"], [0.2222222222222222, \"#7201a8\"], [0.3333333333333333, \"#9c179e\"], [0.4444444444444444, \"#bd3786\"], [0.5555555555555556, \"#d8576b\"], [0.6666666666666666, \"#ed7953\"], [0.7777777777777778, \"#fb9f3a\"], [0.8888888888888888, \"#fdca26\"], [1.0, \"#f0f921\"]]}, \"colorway\": [\"#636efa\", \"#EF553B\", \"#00cc96\", \"#ab63fa\", \"#FFA15A\", \"#19d3f3\", \"#FF6692\", \"#B6E880\", \"#FF97FF\", \"#FECB52\"], \"font\": {\"color\": \"#2a3f5f\"}, \"geo\": {\"bgcolor\": \"white\", \"lakecolor\": \"white\", \"landcolor\": \"#E5ECF6\", \"showlakes\": true, \"showland\": true, \"subunitcolor\": \"white\"}, \"hoverlabel\": {\"align\": \"left\"}, \"hovermode\": \"closest\", \"mapbox\": {\"style\": \"light\"}, \"paper_bgcolor\": \"white\", \"plot_bgcolor\": \"#E5ECF6\", \"polar\": {\"angularaxis\": {\"gridcolor\": \"white\", \"linecolor\": \"white\", \"ticks\": \"\"}, \"bgcolor\": \"#E5ECF6\", \"radialaxis\": {\"gridcolor\": \"white\", \"linecolor\": \"white\", \"ticks\": \"\"}}, \"scene\": {\"xaxis\": {\"backgroundcolor\": \"#E5ECF6\", \"gridcolor\": \"white\", \"gridwidth\": 2, \"linecolor\": \"white\", \"showbackground\": true, \"ticks\": \"\", \"zerolinecolor\": \"white\"}, \"yaxis\": {\"backgroundcolor\": \"#E5ECF6\", \"gridcolor\": \"white\", \"gridwidth\": 2, \"linecolor\": \"white\", \"showbackground\": true, \"ticks\": \"\", \"zerolinecolor\": \"white\"}, \"zaxis\": {\"backgroundcolor\": \"#E5ECF6\", \"gridcolor\": \"white\", \"gridwidth\": 2, \"linecolor\": \"white\", \"showbackground\": true, \"ticks\": \"\", \"zerolinecolor\": \"white\"}}, \"shapedefaults\": {\"line\": {\"color\": \"#2a3f5f\"}}, \"ternary\": {\"aaxis\": {\"gridcolor\": \"white\", \"linecolor\": \"white\", \"ticks\": \"\"}, \"baxis\": {\"gridcolor\": \"white\", \"linecolor\": \"white\", \"ticks\": \"\"}, \"bgcolor\": \"#E5ECF6\", \"caxis\": {\"gridcolor\": \"white\", \"linecolor\": \"white\", \"ticks\": \"\"}}, \"title\": {\"x\": 0.05}, \"xaxis\": {\"automargin\": true, \"gridcolor\": \"white\", \"linecolor\": \"white\", \"ticks\": \"\", \"zerolinecolor\": \"white\", \"zerolinewidth\": 2}, \"yaxis\": {\"automargin\": true, \"gridcolor\": \"white\", \"linecolor\": \"white\", \"ticks\": \"\", \"zerolinecolor\": \"white\", \"zerolinewidth\": 2}}}},\n",
       "                        {\"responsive\": true}\n",
       "                    ).then(function(){\n",
       "                            \n",
       "var gd = document.getElementById('dadac95a-34fe-4f32-bf65-5b402c0a9a6a');\n",
       "var x = new MutationObserver(function (mutations, observer) {{\n",
       "        var display = window.getComputedStyle(gd).display;\n",
       "        if (!display || display === 'none') {{\n",
       "            console.log([gd, 'removed!']);\n",
       "            Plotly.purge(gd);\n",
       "            observer.disconnect();\n",
       "        }}\n",
       "}});\n",
       "\n",
       "// Listen for the removal of the full notebook cells\n",
       "var notebookContainer = gd.closest('#notebook-container');\n",
       "if (notebookContainer) {{\n",
       "    x.observe(notebookContainer, {childList: true});\n",
       "}}\n",
       "\n",
       "// Listen for the clearing of the current output cell\n",
       "var outputEl = gd.closest('.output');\n",
       "if (outputEl) {{\n",
       "    x.observe(outputEl, {childList: true});\n",
       "}}\n",
       "\n",
       "                        })\n",
       "                };\n",
       "                });\n",
       "            </script>\n",
       "        </div>"
      ]
     },
     "metadata": {},
     "output_type": "display_data"
    }
   ],
   "source": []
  },
  {
   "cell_type": "code",
   "execution_count": null,
   "metadata": {},
   "outputs": [],
   "source": []
  }
 ],
 "metadata": {
  "kernelspec": {
   "display_name": "Python 3",
   "language": "python",
   "name": "python3"
  },
  "language_info": {
   "codemirror_mode": {
    "name": "ipython",
    "version": 3
   },
   "file_extension": ".py",
   "mimetype": "text/x-python",
   "name": "python",
   "nbconvert_exporter": "python",
   "pygments_lexer": "ipython3",
   "version": "3.7.3"
  }
 },
 "nbformat": 4,
 "nbformat_minor": 4
}
