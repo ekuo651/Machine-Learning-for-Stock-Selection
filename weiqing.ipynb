{
 "cells": [
  {
   "cell_type": "code",
   "execution_count": 13,
   "metadata": {},
   "outputs": [],
   "source": [
    "#from datetime import datetime, timedelta\n",
    "from iexfinance.stocks import get_historical_data\n",
    "from iexfinance.refdata import get_symbols\n",
    "import os\n",
    "import pandas as pd\n",
    "import numpy as np\n",
    "from sklearn.linear_model import LinearRegression\n",
    "from sklearn.cluster import KMeans\n",
    "import hvplot.pandas\n",
    "from sklearn.preprocessing import StandardScaler\n",
    "from sklearn.decomposition import PCA\n",
    "import plotly.express as px"
   ]
  },
  {
   "cell_type": "code",
   "execution_count": 12,
   "metadata": {},
   "outputs": [],
   "source": [
    "token = os.getenv(\"IEX_TOKEN\")\n",
    "tickers = pd.DataFrame(get_symbols())\n",
    "random = tickers.sample(1000)\n",
    "symbols = random.symbol.to_frame()\n",
    "symbols.to_csv(\"Data/symbols1000.csv\", index=False)"
   ]
  },
  {
   "cell_type": "code",
   "execution_count": null,
   "metadata": {},
   "outputs": [],
   "source": [
    "index_funds = pd.read_csv(\"Data/index_funds.csv\", index_col=\"PX_LAST\", parse_dates=True, infer_datetime_format=True)"
   ]
  },
  {
   "cell_type": "code",
   "execution_count": null,
   "metadata": {},
   "outputs": [],
   "source": [
    "new_index_funds = index_funds.loc['2018-11-01':'2019-12-01']"
   ]
  },
  {
   "cell_type": "code",
   "execution_count": null,
   "metadata": {},
   "outputs": [],
   "source": [
    "aapl = pd.read_csv(\"Data/aapl.csv\", index_col=\"date\", parse_dates=True, infer_datetime_format=True)\n",
    "aapl = aapl['close'].to_frame()"
   ]
  },
  {
   "cell_type": "code",
   "execution_count": 78,
   "metadata": {},
   "outputs": [
    {
     "data": {
      "text/plain": [
       "Index(['Companies', 'Ticker', 'PE_Calc', 'PBV_Calc', 'IQ_MarketCap',\n",
       "       'IQ_TOTAL_DEBT_CAPITAL', 'IQ_NI_NORM_MARGIN', 'Return on Equity_Calc',\n",
       "       'IQ_RETURN_ASSETS', 'IQ_BETA_2YR'],\n",
       "      dtype='object')"
      ]
     },
     "execution_count": 78,
     "metadata": {},
     "output_type": "execute_result"
    }
   ],
   "source": [
    "sp500_fundamentals = pd.read_csv(\"Data/company_fundamentals.csv\")\n",
    "sp500_fundamentals.columns"
   ]
  },
  {
   "cell_type": "code",
   "execution_count": 76,
   "metadata": {},
   "outputs": [],
   "source": [
    "#import clustering data\n",
    "sp500_fundamentals = pd.read_csv(\"Data/Fundamentals_Clustering_12-6-2019.csv\")\n",
    "#sp500_fundamentals = pd.read_csv(\"Data/company_fundamentals.csv\")\n",
    "sp500_fundamentals = sp500_fundamentals.dropna()\n",
    "sp500_fundamentals['Ticker'] = sp500_fundamentals.Ticker.apply(lambda x: x[x.find(\":\")+1:])\n",
    "sp500_fundamentals = sp500_fundamentals[sp500_fundamentals.IQ_PE_EXCL!='(Invalid Identifier)']"
   ]
  },
  {
   "cell_type": "code",
   "execution_count": 77,
   "metadata": {},
   "outputs": [],
   "source": [
    "#keep nessessary columns\n",
    "colnames_keep = sp500_fundamentals.columns[1:]\n",
    "#colnames_keep =['Ticker', 'PE_Calc', 'Return on Equity_Calc', 'IQ_BETA_2YR']\n",
    "sp500_fundamentals = sp500_fundamentals[colnames_keep]"
   ]
  },
  {
   "cell_type": "code",
   "execution_count": 78,
   "metadata": {},
   "outputs": [],
   "source": [
    "#replace 0 and NM values with NA\n",
    "sp500_fundamentals = sp500_fundamentals.replace(\"0\", np.nan)\n",
    "sp500_fundamentals = sp500_fundamentals.replace(\"NM\", np.nan)\n",
    "#sp500_fundamentals = sp500_fundamentals.replace(\"#DIV/0!\", np.nan)\n"
   ]
  },
  {
   "cell_type": "code",
   "execution_count": null,
   "metadata": {},
   "outputs": [],
   "source": [
    "#import industry data\n",
    "sp500_industry = pd.read_csv(\"Data/industry.csv\")\n",
    "sp500_industry['Ticker'] = sp500_industry.Ticker.apply(lambda x: x[x.find(\":\")+1:])"
   ]
  },
  {
   "cell_type": "code",
   "execution_count": null,
   "metadata": {},
   "outputs": [],
   "source": [
    "#merge industry data and fundamental data\n",
    "sp500 = pd.merge(sp500_fundamentals, sp500_industry, on=\"Ticker\")\n",
    "sp500 = pd.get_dummies(sp500, columns=['Industry'])\n",
    "sp500_fundamentals.shape"
   ]
  },
  {
   "cell_type": "code",
   "execution_count": 70,
   "metadata": {},
   "outputs": [],
   "source": [
    "#fill NAs\n",
    "def deal_with_na (df, method):\n",
    "    if method == \"ml\":\n",
    "        #drop first column\n",
    "        first_colname = df.columns[0]\n",
    "        df = df.drop(columns=first_colname)\n",
    "        df = df.astype('float')\n",
    "        #drop rows with more than 2 NAs\n",
    "        df = df.dropna(thresh=df.shape[1]-1)\n",
    "        tickers = df.iloc[:,0].to_frame()\n",
    "        data_without_null = df.dropna() \n",
    "        for i in range(0, df.shape[1]):\n",
    "            print(df.columns[i])\n",
    "            colname = df.columns[i]\n",
    "            X_train = data_without_null.drop(columns=[colname])\n",
    "            y_train = data_without_null[colname]\n",
    "            X_test = df[df[colname].isnull()].drop(columns=[colname])\n",
    "            if X_test.shape[0] != 0:\n",
    "                linreg = LinearRegression()\n",
    "                linreg.fit(X_train, y_train)\n",
    "                predicted = linreg.predict(X_test)\n",
    "                df[colname][df[colname].isnull()] = predicted\n",
    "        output = pd.concat([tickers, df], axis=1)\n",
    "        return output\n",
    "    if method == \"ts\":\n",
    "        #drop first column\n",
    "        first_colname = df.columns[0]\n",
    "        df = df.drop(columns=first_colname)\n",
    "        df = df.astype('float')\n",
    "        tickers = df.iloc[:,0].to_frame()\n",
    "        for i in range(0, df.shape[1]):\n",
    "            colname = df.columns[i]\n",
    "            colmean = df[colname].median()\n",
    "            df[colname]=df[colname].fillna(colmean)\n",
    "        output = pd.concat([tickers, df], axis=1)\n",
    "        return output\n",
    "        "
   ]
  },
  {
   "cell_type": "code",
   "execution_count": 80,
   "metadata": {},
   "outputs": [],
   "source": [
    "#sp500_no_na = deal_with_na(sp500_fundamentals, 'ml')\n",
    "sp500_no_na = deal_with_na(sp500_fundamentals, 'ts')\n",
    "#sp500_no_na = sp500_fundamentals.dropna()\n"
   ]
  },
  {
   "cell_type": "code",
   "execution_count": 81,
   "metadata": {},
   "outputs": [
    {
     "data": {
      "application/vnd.holoviews_exec.v0+json": "",
      "text/html": [
       "<div id='3257' style='display: table; margin: 0 auto;'>\n",
       "\n",
       "\n",
       "\n",
       "\n",
       "\n",
       "  <div class=\"bk-root\" id=\"fa5ef35c-6131-4b67-aabb-681f6a1ab862\" data-root-id=\"3257\"></div>\n",
       "</div>\n",
       "<script type=\"application/javascript\">(function(root) {\n",
       "  function embed_document(root) {\n",
       "    \n",
       "  var docs_json = {\"4e383e6a-2bc3-4e0f-b116-67de99ead997\":{\"roots\":{\"references\":[{\"attributes\":{\"align\":null,\"below\":[{\"id\":\"3266\",\"type\":\"LinearAxis\"}],\"center\":[{\"id\":\"3270\",\"type\":\"Grid\"},{\"id\":\"3275\",\"type\":\"Grid\"}],\"left\":[{\"id\":\"3271\",\"type\":\"LinearAxis\"}],\"margin\":null,\"min_border_bottom\":10,\"min_border_left\":10,\"min_border_right\":10,\"min_border_top\":10,\"plot_height\":300,\"plot_width\":700,\"renderers\":[{\"id\":\"3294\",\"type\":\"GlyphRenderer\"}],\"sizing_mode\":\"fixed\",\"title\":{\"id\":\"3258\",\"type\":\"Title\"},\"toolbar\":{\"id\":\"3281\",\"type\":\"Toolbar\"},\"x_range\":{\"id\":\"3254\",\"type\":\"Range1d\"},\"x_scale\":{\"id\":\"3262\",\"type\":\"LinearScale\"},\"y_range\":{\"id\":\"3255\",\"type\":\"Range1d\"},\"y_scale\":{\"id\":\"3264\",\"type\":\"LinearScale\"}},\"id\":\"3257\",\"subtype\":\"Figure\",\"type\":\"Plot\"},{\"attributes\":{\"dimension\":1,\"grid_line_color\":null,\"ticker\":{\"id\":\"3272\",\"type\":\"BasicTicker\"}},\"id\":\"3275\",\"type\":\"Grid\"},{\"attributes\":{},\"id\":\"3277\",\"type\":\"PanTool\"},{\"attributes\":{},\"id\":\"3276\",\"type\":\"SaveTool\"},{\"attributes\":{},\"id\":\"3280\",\"type\":\"ResetTool\"},{\"attributes\":{\"line_alpha\":0.2,\"line_color\":\"#1f77b4\",\"line_width\":2,\"x\":{\"field\":\"k\"},\"y\":{\"field\":\"inertia\"}},\"id\":\"3293\",\"type\":\"Line\"},{\"attributes\":{},\"id\":\"3267\",\"type\":\"BasicTicker\"},{\"attributes\":{\"data_source\":{\"id\":\"3288\",\"type\":\"ColumnDataSource\"},\"glyph\":{\"id\":\"3291\",\"type\":\"Line\"},\"hover_glyph\":null,\"muted_glyph\":{\"id\":\"3293\",\"type\":\"Line\"},\"nonselection_glyph\":{\"id\":\"3292\",\"type\":\"Line\"},\"selection_glyph\":null,\"view\":{\"id\":\"3295\",\"type\":\"CDSView\"}},\"id\":\"3294\",\"type\":\"GlyphRenderer\"},{\"attributes\":{},\"id\":\"3262\",\"type\":\"LinearScale\"},{\"attributes\":{\"active_drag\":\"auto\",\"active_inspect\":\"auto\",\"active_multi\":null,\"active_scroll\":\"auto\",\"active_tap\":\"auto\",\"tools\":[{\"id\":\"3256\",\"type\":\"HoverTool\"},{\"id\":\"3276\",\"type\":\"SaveTool\"},{\"id\":\"3277\",\"type\":\"PanTool\"},{\"id\":\"3278\",\"type\":\"WheelZoomTool\"},{\"id\":\"3279\",\"type\":\"BoxZoomTool\"},{\"id\":\"3280\",\"type\":\"ResetTool\"}]},\"id\":\"3281\",\"type\":\"Toolbar\"},{\"attributes\":{},\"id\":\"3297\",\"type\":\"BasicTickFormatter\"},{\"attributes\":{\"overlay\":{\"id\":\"3309\",\"type\":\"BoxAnnotation\"}},\"id\":\"3279\",\"type\":\"BoxZoomTool\"},{\"attributes\":{},\"id\":\"3301\",\"type\":\"BasicTickFormatter\"},{\"attributes\":{\"callback\":null,\"data\":{\"inertia\":{\"__ndarray__\":\"SD/pJ8rZyUEAELAGQBqqQckFNosgmJ9BmzBbufjCj0HWb7toilt7QVYvOPyskXFBKdLxEtbBZEFW9bMe+J1eQVG4r9EjqFRBwZxM43LCUEE=\",\"dtype\":\"float64\",\"shape\":[10]},\"k\":[1,2,3,4,5,6,7,8,9,10]},\"selected\":{\"id\":\"3289\",\"type\":\"Selection\"},\"selection_policy\":{\"id\":\"3307\",\"type\":\"UnionRenderers\"}},\"id\":\"3288\",\"type\":\"ColumnDataSource\"},{\"attributes\":{\"source\":{\"id\":\"3288\",\"type\":\"ColumnDataSource\"}},\"id\":\"3295\",\"type\":\"CDSView\"},{\"attributes\":{},\"id\":\"3264\",\"type\":\"LinearScale\"},{\"attributes\":{\"axis_label\":\"k\",\"bounds\":\"auto\",\"formatter\":{\"id\":\"3297\",\"type\":\"BasicTickFormatter\"},\"major_label_orientation\":\"horizontal\",\"ticker\":{\"id\":\"3296\",\"type\":\"FixedTicker\"}},\"id\":\"3266\",\"type\":\"LinearAxis\"},{\"attributes\":{},\"id\":\"3289\",\"type\":\"Selection\"},{\"attributes\":{},\"id\":\"3307\",\"type\":\"UnionRenderers\"},{\"attributes\":{},\"id\":\"3278\",\"type\":\"WheelZoomTool\"},{\"attributes\":{\"line_alpha\":0.1,\"line_color\":\"#1f77b4\",\"line_width\":2,\"x\":{\"field\":\"k\"},\"y\":{\"field\":\"inertia\"}},\"id\":\"3292\",\"type\":\"Line\"},{\"attributes\":{\"callback\":null,\"end\":10.0,\"reset_end\":10.0,\"reset_start\":1.0,\"start\":1.0,\"tags\":[[[\"k\",\"k\",null]]]},\"id\":\"3254\",\"type\":\"Range1d\"},{\"attributes\":{\"grid_line_color\":null,\"ticker\":{\"id\":\"3267\",\"type\":\"BasicTicker\"}},\"id\":\"3270\",\"type\":\"Grid\"},{\"attributes\":{\"ticks\":[1,2,3,4,5,6,7,8,9,10]},\"id\":\"3296\",\"type\":\"FixedTicker\"},{\"attributes\":{\"axis_label\":\"inertia\",\"bounds\":\"auto\",\"formatter\":{\"id\":\"3301\",\"type\":\"BasicTickFormatter\"},\"major_label_orientation\":\"horizontal\",\"ticker\":{\"id\":\"3272\",\"type\":\"BasicTicker\"}},\"id\":\"3271\",\"type\":\"LinearAxis\"},{\"attributes\":{\"line_color\":\"#1f77b4\",\"line_width\":2,\"x\":{\"field\":\"k\"},\"y\":{\"field\":\"inertia\"}},\"id\":\"3291\",\"type\":\"Line\"},{\"attributes\":{\"bottom_units\":\"screen\",\"fill_alpha\":{\"value\":0.5},\"fill_color\":{\"value\":\"lightgrey\"},\"left_units\":\"screen\",\"level\":\"overlay\",\"line_alpha\":{\"value\":1.0},\"line_color\":{\"value\":\"black\"},\"line_dash\":[4,4],\"line_width\":{\"value\":2},\"render_mode\":\"css\",\"right_units\":\"screen\",\"top_units\":\"screen\"},\"id\":\"3309\",\"type\":\"BoxAnnotation\"},{\"attributes\":{},\"id\":\"3272\",\"type\":\"BasicTicker\"},{\"attributes\":{\"callback\":null,\"end\":867406927.8222437,\"reset_end\":867406927.8222437,\"reset_start\":4393419.551551045,\"start\":4393419.551551045,\"tags\":[[[\"inertia\",\"inertia\",null]]]},\"id\":\"3255\",\"type\":\"Range1d\"},{\"attributes\":{\"text\":\"Elbow Curve\",\"text_color\":{\"value\":\"black\"},\"text_font_size\":{\"value\":\"12pt\"}},\"id\":\"3258\",\"type\":\"Title\"},{\"attributes\":{\"callback\":null,\"renderers\":[{\"id\":\"3294\",\"type\":\"GlyphRenderer\"}],\"tags\":[\"hv_created\"],\"tooltips\":[[\"k\",\"@{k}\"],[\"inertia\",\"@{inertia}\"]]},\"id\":\"3256\",\"type\":\"HoverTool\"}],\"root_ids\":[\"3257\"]},\"title\":\"Bokeh Application\",\"version\":\"1.3.4\"}};\n",
       "  var render_items = [{\"docid\":\"4e383e6a-2bc3-4e0f-b116-67de99ead997\",\"roots\":{\"3257\":\"fa5ef35c-6131-4b67-aabb-681f6a1ab862\"}}];\n",
       "  root.Bokeh.embed.embed_items_notebook(docs_json, render_items);\n",
       "\n",
       "  }\n",
       "  if (root.Bokeh !== undefined) {\n",
       "    embed_document(root);\n",
       "  } else {\n",
       "    var attempts = 0;\n",
       "    var timer = setInterval(function(root) {\n",
       "      if (root.Bokeh !== undefined) {\n",
       "        embed_document(root);\n",
       "        clearInterval(timer);\n",
       "      }\n",
       "      attempts++;\n",
       "      if (attempts > 100) {\n",
       "        console.log(\"Bokeh: ERROR: Unable to run BokehJS code because BokehJS library is missing\");\n",
       "        clearInterval(timer);\n",
       "      }\n",
       "    }, 10, root)\n",
       "  }\n",
       "})(window);</script>"
      ],
      "text/plain": [
       ":Curve   [k]   (inertia)"
      ]
     },
     "execution_count": 81,
     "metadata": {
      "application/vnd.holoviews_exec.v0+json": {
       "id": "3257"
      }
     },
     "output_type": "execute_result"
    }
   ],
   "source": [
    "sp500_kmeans = sp500_no_na.iloc[:,1:]\n",
    "#sp500_scaled = StandardScaler().fit_transform(sp500_kmeans)\n",
    "inertia = []\n",
    "k = list(range(1, 11))\n",
    "for i in k:\n",
    "    km = KMeans(n_clusters=i)\n",
    "    km.fit(sp500_kmeans)\n",
    "    inertia.append(km.inertia_)\n",
    "\n",
    "elbow_data = {\"k\": k, \"inertia\": inertia}\n",
    "df_elbow = pd.DataFrame(elbow_data)\n",
    "df_elbow.hvplot.line(x=\"k\", y=\"inertia\", xticks=k, title=\"Elbow Curve\")"
   ]
  },
  {
   "cell_type": "code",
   "execution_count": 82,
   "metadata": {},
   "outputs": [],
   "source": [
    "model = KMeans(n_clusters=4)\n",
    "model.fit(sp500_kmeans)\n",
    "predictions = model.predict(sp500_kmeans)\n",
    "predictions = pd.DataFrame(predictions)\n",
    "predictions.rename(columns={0:'predictions'}, inplace=True)"
   ]
  },
  {
   "cell_type": "code",
   "execution_count": 83,
   "metadata": {},
   "outputs": [
    {
     "data": {
      "text/plain": [
       "array([0.19057097, 0.17163719, 0.14925247, 0.13156401, 0.094048  ,\n",
       "       0.07695619])"
      ]
     },
     "execution_count": 83,
     "metadata": {},
     "output_type": "execute_result"
    }
   ],
   "source": [
    "sp500_scaled = StandardScaler().fit_transform(sp500_kmeans)\n",
    "pca = PCA(n_components=6)\n",
    "sp500_pca = pca.fit_transform(sp500_scaled)\n",
    "pca.explained_variance_ratio_"
   ]
  },
  {
   "cell_type": "code",
   "execution_count": null,
   "metadata": {},
   "outputs": [],
   "source": [
    "sp500_pca = pd.DataFrame(\n",
    "    data=sp500_pca, columns=[\"pc1\", \"pc2\", 'pc3']\n",
    ")\n",
    "sp500_pca.hvplot.scatter(x='pc1', y='pc2')"
   ]
  },
  {
   "cell_type": "code",
   "execution_count": 84,
   "metadata": {},
   "outputs": [
    {
     "data": {
      "application/vnd.holoviews_exec.v0+json": "",
      "text/html": [
       "<div id='3365' style='display: table; margin: 0 auto;'>\n",
       "\n",
       "\n",
       "\n",
       "\n",
       "\n",
       "  <div class=\"bk-root\" id=\"62844e50-7768-4f5e-847d-ca22ea06177e\" data-root-id=\"3365\"></div>\n",
       "</div>\n",
       "<script type=\"application/javascript\">(function(root) {\n",
       "  function embed_document(root) {\n",
       "    \n",
       "  var docs_json = {\"b0ee634d-e382-4f9b-8766-3f96d96a6432\":{\"roots\":{\"references\":[{\"attributes\":{\"align\":null,\"below\":[{\"id\":\"3374\",\"type\":\"LinearAxis\"}],\"center\":[{\"id\":\"3378\",\"type\":\"Grid\"},{\"id\":\"3383\",\"type\":\"Grid\"},{\"id\":\"3414\",\"type\":\"Legend\"}],\"left\":[{\"id\":\"3379\",\"type\":\"LinearAxis\"}],\"margin\":null,\"min_border_bottom\":10,\"min_border_left\":10,\"min_border_right\":10,\"min_border_top\":10,\"plot_height\":300,\"plot_width\":700,\"renderers\":[{\"id\":\"3406\",\"type\":\"GlyphRenderer\"},{\"id\":\"3422\",\"type\":\"GlyphRenderer\"},{\"id\":\"3439\",\"type\":\"GlyphRenderer\"},{\"id\":\"3458\",\"type\":\"GlyphRenderer\"}],\"right\":[{\"id\":\"3414\",\"type\":\"Legend\"}],\"sizing_mode\":\"fixed\",\"title\":{\"id\":\"3366\",\"type\":\"Title\"},\"toolbar\":{\"id\":\"3389\",\"type\":\"Toolbar\"},\"x_range\":{\"id\":\"3359\",\"type\":\"Range1d\"},\"x_scale\":{\"id\":\"3370\",\"type\":\"LinearScale\"},\"y_range\":{\"id\":\"3360\",\"type\":\"Range1d\"},\"y_scale\":{\"id\":\"3372\",\"type\":\"LinearScale\"}},\"id\":\"3365\",\"subtype\":\"Figure\",\"type\":\"Plot\"},{\"attributes\":{\"label\":{\"value\":\"0\"},\"renderers\":[{\"id\":\"3406\",\"type\":\"GlyphRenderer\"}]},\"id\":\"3415\",\"type\":\"LegendItem\"},{\"attributes\":{\"source\":{\"id\":\"3433\",\"type\":\"ColumnDataSource\"}},\"id\":\"3440\",\"type\":\"CDSView\"},{\"attributes\":{},\"id\":\"3386\",\"type\":\"WheelZoomTool\"},{\"attributes\":{\"fill_alpha\":{\"value\":0.1},\"fill_color\":{\"value\":\"#1f77b4\"},\"line_alpha\":{\"value\":0.1},\"line_color\":{\"value\":\"#1f77b4\"},\"size\":{\"units\":\"screen\",\"value\":5.477225575051661},\"x\":{\"field\":\"pc1\"},\"y\":{\"field\":\"pc2\"}},\"id\":\"3404\",\"type\":\"Scatter\"},{\"attributes\":{\"fill_alpha\":{\"value\":0.1},\"fill_color\":{\"value\":\"#ff7f0e\"},\"line_alpha\":{\"value\":0.1},\"line_color\":{\"value\":\"#ff7f0e\"},\"size\":{\"units\":\"screen\",\"value\":5.477225575051661},\"x\":{\"field\":\"pc1\"},\"y\":{\"field\":\"pc2\"}},\"id\":\"3420\",\"type\":\"Scatter\"},{\"attributes\":{},\"id\":\"3380\",\"type\":\"BasicTicker\"},{\"attributes\":{\"overlay\":{\"id\":\"3413\",\"type\":\"BoxAnnotation\"}},\"id\":\"3387\",\"type\":\"BoxZoomTool\"},{\"attributes\":{\"data_source\":{\"id\":\"3400\",\"type\":\"ColumnDataSource\"},\"glyph\":{\"id\":\"3403\",\"type\":\"Scatter\"},\"hover_glyph\":null,\"muted_glyph\":{\"id\":\"3405\",\"type\":\"Scatter\"},\"nonselection_glyph\":{\"id\":\"3404\",\"type\":\"Scatter\"},\"selection_glyph\":null,\"view\":{\"id\":\"3407\",\"type\":\"CDSView\"}},\"id\":\"3406\",\"type\":\"GlyphRenderer\"},{\"attributes\":{},\"id\":\"3375\",\"type\":\"BasicTicker\"},{\"attributes\":{},\"id\":\"3434\",\"type\":\"Selection\"},{\"attributes\":{},\"id\":\"3388\",\"type\":\"ResetTool\"},{\"attributes\":{},\"id\":\"3484\",\"type\":\"UnionRenderers\"},{\"attributes\":{\"bottom_units\":\"screen\",\"fill_alpha\":{\"value\":0.5},\"fill_color\":{\"value\":\"lightgrey\"},\"left_units\":\"screen\",\"level\":\"overlay\",\"line_alpha\":{\"value\":1.0},\"line_color\":{\"value\":\"black\"},\"line_dash\":[4,4],\"line_width\":{\"value\":2},\"render_mode\":\"css\",\"right_units\":\"screen\",\"top_units\":\"screen\"},\"id\":\"3413\",\"type\":\"BoxAnnotation\"},{\"attributes\":{\"text\":\"\",\"text_color\":{\"value\":\"black\"},\"text_font_size\":{\"value\":\"12pt\"}},\"id\":\"3366\",\"type\":\"Title\"},{\"attributes\":{\"active_drag\":\"auto\",\"active_inspect\":\"auto\",\"active_multi\":null,\"active_scroll\":\"auto\",\"active_tap\":\"auto\",\"tools\":[{\"id\":\"3361\",\"type\":\"HoverTool\"},{\"id\":\"3384\",\"type\":\"SaveTool\"},{\"id\":\"3385\",\"type\":\"PanTool\"},{\"id\":\"3386\",\"type\":\"WheelZoomTool\"},{\"id\":\"3387\",\"type\":\"BoxZoomTool\"},{\"id\":\"3388\",\"type\":\"ResetTool\"}]},\"id\":\"3389\",\"type\":\"Toolbar\"},{\"attributes\":{},\"id\":\"3370\",\"type\":\"LinearScale\"},{\"attributes\":{},\"id\":\"3417\",\"type\":\"Selection\"},{\"attributes\":{\"callback\":null,\"data\":{\"pc1\":{\"__ndarray__\":\"HJIt4NqEEEA=\",\"dtype\":\"float64\",\"shape\":[1]},\"pc2\":{\"__ndarray__\":\"nnQh6BkWAsA=\",\"dtype\":\"float64\",\"shape\":[1]},\"predictions\":[2]},\"selected\":{\"id\":\"3434\",\"type\":\"Selection\"},\"selection_policy\":{\"id\":\"3469\",\"type\":\"UnionRenderers\"}},\"id\":\"3433\",\"type\":\"ColumnDataSource\"},{\"attributes\":{\"click_policy\":\"mute\",\"items\":[{\"id\":\"3415\",\"type\":\"LegendItem\"},{\"id\":\"3432\",\"type\":\"LegendItem\"},{\"id\":\"3451\",\"type\":\"LegendItem\"},{\"id\":\"3472\",\"type\":\"LegendItem\"}],\"location\":[0,0]},\"id\":\"3414\",\"type\":\"Legend\"},{\"attributes\":{\"data_source\":{\"id\":\"3433\",\"type\":\"ColumnDataSource\"},\"glyph\":{\"id\":\"3436\",\"type\":\"Scatter\"},\"hover_glyph\":null,\"muted_glyph\":{\"id\":\"3438\",\"type\":\"Scatter\"},\"nonselection_glyph\":{\"id\":\"3437\",\"type\":\"Scatter\"},\"selection_glyph\":null,\"view\":{\"id\":\"3440\",\"type\":\"CDSView\"}},\"id\":\"3439\",\"type\":\"GlyphRenderer\"},{\"attributes\":{\"callback\":null,\"data\":{\"pc1\":{\"__ndarray__\":\"LMK1j5t+AkDReP/fYcz3Pw==\",\"dtype\":\"float64\",\"shape\":[2]},\"pc2\":{\"__ndarray__\":\"prz1NSPfxD/D9lSOPJIAwA==\",\"dtype\":\"float64\",\"shape\":[2]},\"predictions\":[1,1]},\"selected\":{\"id\":\"3417\",\"type\":\"Selection\"},\"selection_policy\":{\"id\":\"3448\",\"type\":\"UnionRenderers\"}},\"id\":\"3416\",\"type\":\"ColumnDataSource\"},{\"attributes\":{\"label\":{\"value\":\"2\"},\"renderers\":[{\"id\":\"3439\",\"type\":\"GlyphRenderer\"}]},\"id\":\"3451\",\"type\":\"LegendItem\"},{\"attributes\":{\"fill_alpha\":{\"value\":0.1},\"fill_color\":{\"value\":\"#2ca02c\"},\"line_alpha\":{\"value\":0.1},\"line_color\":{\"value\":\"#2ca02c\"},\"size\":{\"units\":\"screen\",\"value\":5.477225575051661},\"x\":{\"field\":\"pc1\"},\"y\":{\"field\":\"pc2\"}},\"id\":\"3437\",\"type\":\"Scatter\"},{\"attributes\":{\"callback\":null,\"renderers\":[{\"id\":\"3406\",\"type\":\"GlyphRenderer\"},{\"id\":\"3422\",\"type\":\"GlyphRenderer\"},{\"id\":\"3439\",\"type\":\"GlyphRenderer\"},{\"id\":\"3458\",\"type\":\"GlyphRenderer\"}],\"tags\":[\"hv_created\"],\"tooltips\":[[\"predictions\",\"@{predictions}\"],[\"pc1\",\"@{pc1}\"],[\"pc2\",\"@{pc2}\"]]},\"id\":\"3361\",\"type\":\"HoverTool\"},{\"attributes\":{},\"id\":\"3453\",\"type\":\"Selection\"},{\"attributes\":{},\"id\":\"3448\",\"type\":\"UnionRenderers\"},{\"attributes\":{\"dimension\":1,\"grid_line_color\":null,\"ticker\":{\"id\":\"3380\",\"type\":\"BasicTicker\"}},\"id\":\"3383\",\"type\":\"Grid\"},{\"attributes\":{\"callback\":null,\"data\":{\"pc1\":{\"__ndarray__\":\"MGQahCIP+j8=\",\"dtype\":\"float64\",\"shape\":[1]},\"pc2\":{\"__ndarray__\":\"fVa25oAmC8A=\",\"dtype\":\"float64\",\"shape\":[1]},\"predictions\":[3]},\"selected\":{\"id\":\"3453\",\"type\":\"Selection\"},\"selection_policy\":{\"id\":\"3484\",\"type\":\"UnionRenderers\"}},\"id\":\"3452\",\"type\":\"ColumnDataSource\"},{\"attributes\":{},\"id\":\"3396\",\"type\":\"BasicTickFormatter\"},{\"attributes\":{\"axis_label\":\"pc2\",\"bounds\":\"auto\",\"formatter\":{\"id\":\"3398\",\"type\":\"BasicTickFormatter\"},\"major_label_orientation\":\"horizontal\",\"ticker\":{\"id\":\"3380\",\"type\":\"BasicTicker\"}},\"id\":\"3379\",\"type\":\"LinearAxis\"},{\"attributes\":{\"grid_line_color\":null,\"ticker\":{\"id\":\"3375\",\"type\":\"BasicTicker\"}},\"id\":\"3378\",\"type\":\"Grid\"},{\"attributes\":{\"label\":{\"value\":\"1\"},\"renderers\":[{\"id\":\"3422\",\"type\":\"GlyphRenderer\"}]},\"id\":\"3432\",\"type\":\"LegendItem\"},{\"attributes\":{\"fill_color\":{\"value\":\"#2ca02c\"},\"line_color\":{\"value\":\"#2ca02c\"},\"size\":{\"units\":\"screen\",\"value\":5.477225575051661},\"x\":{\"field\":\"pc1\"},\"y\":{\"field\":\"pc2\"}},\"id\":\"3436\",\"type\":\"Scatter\"},{\"attributes\":{\"source\":{\"id\":\"3416\",\"type\":\"ColumnDataSource\"}},\"id\":\"3423\",\"type\":\"CDSView\"},{\"attributes\":{\"fill_color\":{\"value\":\"#d62728\"},\"line_color\":{\"value\":\"#d62728\"},\"size\":{\"units\":\"screen\",\"value\":5.477225575051661},\"x\":{\"field\":\"pc1\"},\"y\":{\"field\":\"pc2\"}},\"id\":\"3455\",\"type\":\"Scatter\"},{\"attributes\":{\"data_source\":{\"id\":\"3452\",\"type\":\"ColumnDataSource\"},\"glyph\":{\"id\":\"3455\",\"type\":\"Scatter\"},\"hover_glyph\":null,\"muted_glyph\":{\"id\":\"3457\",\"type\":\"Scatter\"},\"nonselection_glyph\":{\"id\":\"3456\",\"type\":\"Scatter\"},\"selection_glyph\":null,\"view\":{\"id\":\"3459\",\"type\":\"CDSView\"}},\"id\":\"3458\",\"type\":\"GlyphRenderer\"},{\"attributes\":{},\"id\":\"3384\",\"type\":\"SaveTool\"},{\"attributes\":{},\"id\":\"3429\",\"type\":\"UnionRenderers\"},{\"attributes\":{\"fill_alpha\":{\"value\":0.1},\"fill_color\":{\"value\":\"#d62728\"},\"line_alpha\":{\"value\":0.1},\"line_color\":{\"value\":\"#d62728\"},\"size\":{\"units\":\"screen\",\"value\":5.477225575051661},\"x\":{\"field\":\"pc1\"},\"y\":{\"field\":\"pc2\"}},\"id\":\"3456\",\"type\":\"Scatter\"},{\"attributes\":{\"fill_alpha\":{\"value\":0.2},\"fill_color\":{\"value\":\"#d62728\"},\"line_alpha\":{\"value\":0.2},\"line_color\":{\"value\":\"#d62728\"},\"size\":{\"units\":\"screen\",\"value\":5.477225575051661},\"x\":{\"field\":\"pc1\"},\"y\":{\"field\":\"pc2\"}},\"id\":\"3457\",\"type\":\"Scatter\"},{\"attributes\":{\"source\":{\"id\":\"3400\",\"type\":\"ColumnDataSource\"}},\"id\":\"3407\",\"type\":\"CDSView\"},{\"attributes\":{},\"id\":\"3469\",\"type\":\"UnionRenderers\"},{\"attributes\":{\"callback\":null,\"end\":5.940397119243116,\"reset_end\":5.940397119243116,\"reset_start\":-3.7654244147116254,\"start\":-3.7654244147116254,\"tags\":[[[\"pc2\",\"pc2\",null]]]},\"id\":\"3360\",\"type\":\"Range1d\"},{\"attributes\":{\"source\":{\"id\":\"3452\",\"type\":\"ColumnDataSource\"}},\"id\":\"3459\",\"type\":\"CDSView\"},{\"attributes\":{\"fill_color\":{\"value\":\"#ff7f0e\"},\"line_color\":{\"value\":\"#ff7f0e\"},\"size\":{\"units\":\"screen\",\"value\":5.477225575051661},\"x\":{\"field\":\"pc1\"},\"y\":{\"field\":\"pc2\"}},\"id\":\"3419\",\"type\":\"Scatter\"},{\"attributes\":{\"label\":{\"value\":\"3\"},\"renderers\":[{\"id\":\"3458\",\"type\":\"GlyphRenderer\"}]},\"id\":\"3472\",\"type\":\"LegendItem\"},{\"attributes\":{\"fill_color\":{\"value\":\"#1f77b4\"},\"line_color\":{\"value\":\"#1f77b4\"},\"size\":{\"units\":\"screen\",\"value\":5.477225575051661},\"x\":{\"field\":\"pc1\"},\"y\":{\"field\":\"pc2\"}},\"id\":\"3403\",\"type\":\"Scatter\"},{\"attributes\":{\"fill_alpha\":{\"value\":0.2},\"fill_color\":{\"value\":\"#2ca02c\"},\"line_alpha\":{\"value\":0.2},\"line_color\":{\"value\":\"#2ca02c\"},\"size\":{\"units\":\"screen\",\"value\":5.477225575051661},\"x\":{\"field\":\"pc1\"},\"y\":{\"field\":\"pc2\"}},\"id\":\"3438\",\"type\":\"Scatter\"},{\"attributes\":{\"fill_alpha\":{\"value\":0.2},\"fill_color\":{\"value\":\"#ff7f0e\"},\"line_alpha\":{\"value\":0.2},\"line_color\":{\"value\":\"#ff7f0e\"},\"size\":{\"units\":\"screen\",\"value\":5.477225575051661},\"x\":{\"field\":\"pc1\"},\"y\":{\"field\":\"pc2\"}},\"id\":\"3421\",\"type\":\"Scatter\"},{\"attributes\":{\"callback\":null,\"data\":{\"pc1\":{\"__ndarray__\":\"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\",\"dtype\":\"float64\",\"shape\":[493]},\"pc2\":{\"__ndarray__\":\"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\",\"dtype\":\"float64\",\"shape\":[493]},\"predictions\":[0,0,0,0,0,0,0,0,0,0,0,0,0,0,0,0,0,0,0,0,0,0,0,0,0,0,0,0,0,0,0,0,0,0,0,0,0,0,0,0,0,0,0,0,0,0,0,0,0,0,0,0,0,0,0,0,0,0,0,0,0,0,0,0,0,0,0,0,0,0,0,0,0,0,0,0,0,0,0,0,0,0,0,0,0,0,0,0,0,0,0,0,0,0,0,0,0,0,0,0,0,0,0,0,0,0,0,0,0,0,0,0,0,0,0,0,0,0,0,0,0,0,0,0,0,0,0,0,0,0,0,0,0,0,0,0,0,0,0,0,0,0,0,0,0,0,0,0,0,0,0,0,0,0,0,0,0,0,0,0,0,0,0,0,0,0,0,0,0,0,0,0,0,0,0,0,0,0,0,0,0,0,0,0,0,0,0,0,0,0,0,0,0,0,0,0,0,0,0,0,0,0,0,0,0,0,0,0,0,0,0,0,0,0,0,0,0,0,0,0,0,0,0,0,0,0,0,0,0,0,0,0,0,0,0,0,0,0,0,0,0,0,0,0,0,0,0,0,0,0,0,0,0,0,0,0,0,0,0,0,0,0,0,0,0,0,0,0,0,0,0,0,0,0,0,0,0,0,0,0,0,0,0,0,0,0,0,0,0,0,0,0,0,0,0,0,0,0,0,0,0,0,0,0,0,0,0,0,0,0,0,0,0,0,0,0,0,0,0,0,0,0,0,0,0,0,0,0,0,0,0,0,0,0,0,0,0,0,0,0,0,0,0,0,0,0,0,0,0,0,0,0,0,0,0,0,0,0,0,0,0,0,0,0,0,0,0,0,0,0,0,0,0,0,0,0,0,0,0,0,0,0,0,0,0,0,0,0,0,0,0,0,0,0,0,0,0,0,0,0,0,0,0,0,0,0,0,0,0,0,0,0,0,0,0,0,0,0,0,0,0,0,0,0,0,0,0,0,0,0,0,0,0,0,0,0,0,0,0,0,0,0,0,0,0,0,0,0,0,0,0,0,0,0,0,0,0,0,0,0,0,0,0,0,0,0,0,0,0,0,0,0,0,0,0,0,0,0,0,0,0,0,0,0,0,0,0,0,0,0,0,0,0]},\"selected\":{\"id\":\"3401\",\"type\":\"Selection\"},\"selection_policy\":{\"id\":\"3429\",\"type\":\"UnionRenderers\"}},\"id\":\"3400\",\"type\":\"ColumnDataSource\"},{\"attributes\":{},\"id\":\"3398\",\"type\":\"BasicTickFormatter\"},{\"attributes\":{\"data_source\":{\"id\":\"3416\",\"type\":\"ColumnDataSource\"},\"glyph\":{\"id\":\"3419\",\"type\":\"Scatter\"},\"hover_glyph\":null,\"muted_glyph\":{\"id\":\"3421\",\"type\":\"Scatter\"},\"nonselection_glyph\":{\"id\":\"3420\",\"type\":\"Scatter\"},\"selection_glyph\":null,\"view\":{\"id\":\"3423\",\"type\":\"CDSView\"}},\"id\":\"3422\",\"type\":\"GlyphRenderer\"},{\"attributes\":{\"fill_alpha\":{\"value\":0.2},\"fill_color\":{\"value\":\"#1f77b4\"},\"line_alpha\":{\"value\":0.2},\"line_color\":{\"value\":\"#1f77b4\"},\"size\":{\"units\":\"screen\",\"value\":5.477225575051661},\"x\":{\"field\":\"pc1\"},\"y\":{\"field\":\"pc2\"}},\"id\":\"3405\",\"type\":\"Scatter\"},{\"attributes\":{},\"id\":\"3385\",\"type\":\"PanTool\"},{\"attributes\":{},\"id\":\"3401\",\"type\":\"Selection\"},{\"attributes\":{\"callback\":null,\"end\":7.7856883623536755,\"reset_end\":7.7856883623536755,\"reset_start\":-4.845841713342705,\"start\":-4.845841713342705,\"tags\":[[[\"pc1\",\"pc1\",null]]]},\"id\":\"3359\",\"type\":\"Range1d\"},{\"attributes\":{\"axis_label\":\"pc1\",\"bounds\":\"auto\",\"formatter\":{\"id\":\"3396\",\"type\":\"BasicTickFormatter\"},\"major_label_orientation\":\"horizontal\",\"ticker\":{\"id\":\"3375\",\"type\":\"BasicTicker\"}},\"id\":\"3374\",\"type\":\"LinearAxis\"},{\"attributes\":{},\"id\":\"3372\",\"type\":\"LinearScale\"}],\"root_ids\":[\"3365\"]},\"title\":\"Bokeh Application\",\"version\":\"1.3.4\"}};\n",
       "  var render_items = [{\"docid\":\"b0ee634d-e382-4f9b-8766-3f96d96a6432\",\"roots\":{\"3365\":\"62844e50-7768-4f5e-847d-ca22ea06177e\"}}];\n",
       "  root.Bokeh.embed.embed_items_notebook(docs_json, render_items);\n",
       "\n",
       "  }\n",
       "  if (root.Bokeh !== undefined) {\n",
       "    embed_document(root);\n",
       "  } else {\n",
       "    var attempts = 0;\n",
       "    var timer = setInterval(function(root) {\n",
       "      if (root.Bokeh !== undefined) {\n",
       "        embed_document(root);\n",
       "        clearInterval(timer);\n",
       "      }\n",
       "      attempts++;\n",
       "      if (attempts > 100) {\n",
       "        console.log(\"Bokeh: ERROR: Unable to run BokehJS code because BokehJS library is missing\");\n",
       "        clearInterval(timer);\n",
       "      }\n",
       "    }, 10, root)\n",
       "  }\n",
       "})(window);</script>"
      ],
      "text/plain": [
       ":NdOverlay   [predictions]\n",
       "   :Scatter   [pc1]   (pc2)"
      ]
     },
     "execution_count": 84,
     "metadata": {
      "application/vnd.holoviews_exec.v0+json": {
       "id": "3365"
      }
     },
     "output_type": "execute_result"
    }
   ],
   "source": [
    "sp500_pca = pd.DataFrame(\n",
    "    data=sp500_pca, columns=[\"pc1\", \"pc2\", 'pc3', 'pc4', 'pc5', 'pc6']\n",
    ")\n",
    "\n",
    "sp500_pca_pred = pd.concat([sp500_pca, predictions], axis=1)\n",
    "sp500_pca_pred.hvplot.scatter(x='pc1', y='pc2', by='predictions')"
   ]
  },
  {
   "cell_type": "code",
   "execution_count": 61,
   "metadata": {},
   "outputs": [],
   "source": [
    "# sp500_no_na.loc[sp500_pca_pred.pc1<5,:]\n",
    "sp500_no_na = sp500_no_na.reset_index(drop=True)\n",
    "sp500_no_na = sp500_no_na.loc[sp500_pca_pred.pc1<5,:]"
   ]
  },
  {
   "cell_type": "code",
   "execution_count": 62,
   "metadata": {},
   "outputs": [
    {
     "data": {
      "application/vnd.holoviews_exec.v0+json": "",
      "text/html": [
       "<div id='2345' style='display: table; margin: 0 auto;'>\n",
       "\n",
       "\n",
       "\n",
       "\n",
       "\n",
       "  <div class=\"bk-root\" id=\"88085675-1474-4c10-8696-f7e1f5284ba4\" data-root-id=\"2345\"></div>\n",
       "</div>\n",
       "<script type=\"application/javascript\">(function(root) {\n",
       "  function embed_document(root) {\n",
       "    \n",
       "  var docs_json = {\"a2b54bbd-ded3-4d5f-8f2b-4be4e073c3e2\":{\"roots\":{\"references\":[{\"attributes\":{\"align\":null,\"below\":[{\"id\":\"2354\",\"type\":\"LinearAxis\"}],\"center\":[{\"id\":\"2358\",\"type\":\"Grid\"},{\"id\":\"2363\",\"type\":\"Grid\"}],\"left\":[{\"id\":\"2359\",\"type\":\"LinearAxis\"}],\"margin\":null,\"min_border_bottom\":10,\"min_border_left\":10,\"min_border_right\":10,\"min_border_top\":10,\"plot_height\":300,\"plot_width\":700,\"renderers\":[{\"id\":\"2382\",\"type\":\"GlyphRenderer\"}],\"sizing_mode\":\"fixed\",\"title\":{\"id\":\"2346\",\"type\":\"Title\"},\"toolbar\":{\"id\":\"2369\",\"type\":\"Toolbar\"},\"x_range\":{\"id\":\"2342\",\"type\":\"Range1d\"},\"x_scale\":{\"id\":\"2350\",\"type\":\"LinearScale\"},\"y_range\":{\"id\":\"2343\",\"type\":\"Range1d\"},\"y_scale\":{\"id\":\"2352\",\"type\":\"LinearScale\"}},\"id\":\"2345\",\"subtype\":\"Figure\",\"type\":\"Plot\"},{\"attributes\":{\"overlay\":{\"id\":\"2397\",\"type\":\"BoxAnnotation\"}},\"id\":\"2367\",\"type\":\"BoxZoomTool\"},{\"attributes\":{},\"id\":\"2368\",\"type\":\"ResetTool\"},{\"attributes\":{\"active_drag\":\"auto\",\"active_inspect\":\"auto\",\"active_multi\":null,\"active_scroll\":\"auto\",\"active_tap\":\"auto\",\"tools\":[{\"id\":\"2344\",\"type\":\"HoverTool\"},{\"id\":\"2364\",\"type\":\"SaveTool\"},{\"id\":\"2365\",\"type\":\"PanTool\"},{\"id\":\"2366\",\"type\":\"WheelZoomTool\"},{\"id\":\"2367\",\"type\":\"BoxZoomTool\"},{\"id\":\"2368\",\"type\":\"ResetTool\"}]},\"id\":\"2369\",\"type\":\"Toolbar\"},{\"attributes\":{},\"id\":\"2355\",\"type\":\"BasicTicker\"},{\"attributes\":{\"line_alpha\":0.2,\"line_color\":\"#1f77b4\",\"line_width\":2,\"x\":{\"field\":\"k\"},\"y\":{\"field\":\"inertia\"}},\"id\":\"2381\",\"type\":\"Line\"},{\"attributes\":{\"axis_label\":\"k\",\"bounds\":\"auto\",\"formatter\":{\"id\":\"2385\",\"type\":\"BasicTickFormatter\"},\"major_label_orientation\":\"horizontal\",\"ticker\":{\"id\":\"2384\",\"type\":\"FixedTicker\"}},\"id\":\"2354\",\"type\":\"LinearAxis\"},{\"attributes\":{},\"id\":\"2385\",\"type\":\"BasicTickFormatter\"},{\"attributes\":{\"line_color\":\"#1f77b4\",\"line_width\":2,\"x\":{\"field\":\"k\"},\"y\":{\"field\":\"inertia\"}},\"id\":\"2379\",\"type\":\"Line\"},{\"attributes\":{},\"id\":\"2350\",\"type\":\"LinearScale\"},{\"attributes\":{\"grid_line_color\":null,\"ticker\":{\"id\":\"2355\",\"type\":\"BasicTicker\"}},\"id\":\"2358\",\"type\":\"Grid\"},{\"attributes\":{\"line_alpha\":0.1,\"line_color\":\"#1f77b4\",\"line_width\":2,\"x\":{\"field\":\"k\"},\"y\":{\"field\":\"inertia\"}},\"id\":\"2380\",\"type\":\"Line\"},{\"attributes\":{},\"id\":\"2352\",\"type\":\"LinearScale\"},{\"attributes\":{\"callback\":null,\"end\":10.0,\"reset_end\":10.0,\"reset_start\":1.0,\"start\":1.0,\"tags\":[[[\"k\",\"k\",null]]]},\"id\":\"2342\",\"type\":\"Range1d\"},{\"attributes\":{\"callback\":null,\"renderers\":[{\"id\":\"2382\",\"type\":\"GlyphRenderer\"}],\"tags\":[\"hv_created\"],\"tooltips\":[[\"k\",\"@{k}\"],[\"inertia\",\"@{inertia}\"]]},\"id\":\"2344\",\"type\":\"HoverTool\"},{\"attributes\":{},\"id\":\"2377\",\"type\":\"Selection\"},{\"attributes\":{\"callback\":null,\"end\":8908694.302483492,\"reset_end\":8908694.302483492,\"reset_start\":744977.6731282606,\"start\":744977.6731282606,\"tags\":[[[\"inertia\",\"inertia\",null]]]},\"id\":\"2343\",\"type\":\"Range1d\"},{\"attributes\":{\"dimension\":1,\"grid_line_color\":null,\"ticker\":{\"id\":\"2360\",\"type\":\"BasicTicker\"}},\"id\":\"2363\",\"type\":\"Grid\"},{\"attributes\":{\"source\":{\"id\":\"2376\",\"type\":\"ColumnDataSource\"}},\"id\":\"2383\",\"type\":\"CDSView\"},{\"attributes\":{},\"id\":\"2360\",\"type\":\"BasicTicker\"},{\"attributes\":{\"text\":\"Elbow Curve\",\"text_color\":{\"value\":\"black\"},\"text_font_size\":{\"value\":\"12pt\"}},\"id\":\"2346\",\"type\":\"Title\"},{\"attributes\":{},\"id\":\"2389\",\"type\":\"BasicTickFormatter\"},{\"attributes\":{\"bottom_units\":\"screen\",\"fill_alpha\":{\"value\":0.5},\"fill_color\":{\"value\":\"lightgrey\"},\"left_units\":\"screen\",\"level\":\"overlay\",\"line_alpha\":{\"value\":1.0},\"line_color\":{\"value\":\"black\"},\"line_dash\":[4,4],\"line_width\":{\"value\":2},\"render_mode\":\"css\",\"right_units\":\"screen\",\"top_units\":\"screen\"},\"id\":\"2397\",\"type\":\"BoxAnnotation\"},{\"attributes\":{\"axis_label\":\"inertia\",\"bounds\":\"auto\",\"formatter\":{\"id\":\"2389\",\"type\":\"BasicTickFormatter\"},\"major_label_orientation\":\"horizontal\",\"ticker\":{\"id\":\"2360\",\"type\":\"BasicTicker\"}},\"id\":\"2359\",\"type\":\"LinearAxis\"},{\"attributes\":{\"callback\":null,\"data\":{\"inertia\":{\"__ndarray__\":\"3PGtyfL9YEFVgMlZFDxQQVu28wVsWkVB0bg5zOj6PUG42ESfi083QSphzN1RFzNBttvo6G6eL0Gwdzawik4sQW9ZthpBXClBc0SkWCO8JkE=\",\"dtype\":\"float64\",\"shape\":[10]},\"k\":[1,2,3,4,5,6,7,8,9,10]},\"selected\":{\"id\":\"2377\",\"type\":\"Selection\"},\"selection_policy\":{\"id\":\"2395\",\"type\":\"UnionRenderers\"}},\"id\":\"2376\",\"type\":\"ColumnDataSource\"},{\"attributes\":{\"data_source\":{\"id\":\"2376\",\"type\":\"ColumnDataSource\"},\"glyph\":{\"id\":\"2379\",\"type\":\"Line\"},\"hover_glyph\":null,\"muted_glyph\":{\"id\":\"2381\",\"type\":\"Line\"},\"nonselection_glyph\":{\"id\":\"2380\",\"type\":\"Line\"},\"selection_glyph\":null,\"view\":{\"id\":\"2383\",\"type\":\"CDSView\"}},\"id\":\"2382\",\"type\":\"GlyphRenderer\"},{\"attributes\":{\"ticks\":[1,2,3,4,5,6,7,8,9,10]},\"id\":\"2384\",\"type\":\"FixedTicker\"},{\"attributes\":{},\"id\":\"2364\",\"type\":\"SaveTool\"},{\"attributes\":{},\"id\":\"2395\",\"type\":\"UnionRenderers\"},{\"attributes\":{},\"id\":\"2365\",\"type\":\"PanTool\"},{\"attributes\":{},\"id\":\"2366\",\"type\":\"WheelZoomTool\"}],\"root_ids\":[\"2345\"]},\"title\":\"Bokeh Application\",\"version\":\"1.3.4\"}};\n",
       "  var render_items = [{\"docid\":\"a2b54bbd-ded3-4d5f-8f2b-4be4e073c3e2\",\"roots\":{\"2345\":\"88085675-1474-4c10-8696-f7e1f5284ba4\"}}];\n",
       "  root.Bokeh.embed.embed_items_notebook(docs_json, render_items);\n",
       "\n",
       "  }\n",
       "  if (root.Bokeh !== undefined) {\n",
       "    embed_document(root);\n",
       "  } else {\n",
       "    var attempts = 0;\n",
       "    var timer = setInterval(function(root) {\n",
       "      if (root.Bokeh !== undefined) {\n",
       "        embed_document(root);\n",
       "        clearInterval(timer);\n",
       "      }\n",
       "      attempts++;\n",
       "      if (attempts > 100) {\n",
       "        console.log(\"Bokeh: ERROR: Unable to run BokehJS code because BokehJS library is missing\");\n",
       "        clearInterval(timer);\n",
       "      }\n",
       "    }, 10, root)\n",
       "  }\n",
       "})(window);</script>"
      ],
      "text/plain": [
       ":Curve   [k]   (inertia)"
      ]
     },
     "execution_count": 62,
     "metadata": {
      "application/vnd.holoviews_exec.v0+json": {
       "id": "2345"
      }
     },
     "output_type": "execute_result"
    }
   ],
   "source": [
    "sp500_kmeans = sp500_no_na.iloc[:,1:]\n",
    "#sp500_scaled = StandardScaler().fit_transform(sp500_kmeans)\n",
    "inertia = []\n",
    "k = list(range(1, 11))\n",
    "for i in k:\n",
    "    km = KMeans(n_clusters=i)\n",
    "    km.fit(sp500_kmeans)\n",
    "    inertia.append(km.inertia_)\n",
    "\n",
    "elbow_data = {\"k\": k, \"inertia\": inertia}\n",
    "df_elbow = pd.DataFrame(elbow_data)\n",
    "df_elbow.hvplot.line(x=\"k\", y=\"inertia\", xticks=k, title=\"Elbow Curve\")"
   ]
  },
  {
   "cell_type": "code",
   "execution_count": 63,
   "metadata": {},
   "outputs": [],
   "source": [
    "model = KMeans(n_clusters=5)\n",
    "model.fit(sp500_kmeans)\n",
    "predictions = model.predict(sp500_kmeans)\n",
    "predictions = pd.DataFrame(predictions)\n",
    "predictions.rename(columns={0:'predictions'}, inplace=True)"
   ]
  },
  {
   "cell_type": "code",
   "execution_count": 64,
   "metadata": {},
   "outputs": [
    {
     "data": {
      "text/plain": [
       "array([0.2461939 , 0.21102844, 0.18047768, 0.15503655, 0.08400396,\n",
       "       0.0419904 ])"
      ]
     },
     "execution_count": 64,
     "metadata": {},
     "output_type": "execute_result"
    }
   ],
   "source": [
    "sp500_scaled = StandardScaler().fit_transform(sp500_kmeans)\n",
    "pca = PCA(n_components=6)\n",
    "sp500_pca = pca.fit_transform(sp500_scaled)\n",
    "pca.explained_variance_ratio_"
   ]
  },
  {
   "cell_type": "code",
   "execution_count": 65,
   "metadata": {},
   "outputs": [
    {
     "data": {
      "application/vnd.holoviews_exec.v0+json": "",
      "text/html": [
       "<div id='2454' style='display: table; margin: 0 auto;'>\n",
       "\n",
       "\n",
       "\n",
       "\n",
       "\n",
       "  <div class=\"bk-root\" id=\"74b930fe-deab-4f90-9cdd-4cdef0ca0936\" data-root-id=\"2454\"></div>\n",
       "</div>\n",
       "<script type=\"application/javascript\">(function(root) {\n",
       "  function embed_document(root) {\n",
       "    \n",
       "  var docs_json = {\"86ff5a97-596d-4a24-a71e-318b5b1e566b\":{\"roots\":{\"references\":[{\"attributes\":{\"align\":null,\"below\":[{\"id\":\"2463\",\"type\":\"LinearAxis\"}],\"center\":[{\"id\":\"2467\",\"type\":\"Grid\"},{\"id\":\"2472\",\"type\":\"Grid\"},{\"id\":\"2503\",\"type\":\"Legend\"}],\"left\":[{\"id\":\"2468\",\"type\":\"LinearAxis\"}],\"margin\":null,\"min_border_bottom\":10,\"min_border_left\":10,\"min_border_right\":10,\"min_border_top\":10,\"plot_height\":300,\"plot_width\":700,\"renderers\":[{\"id\":\"2495\",\"type\":\"GlyphRenderer\"},{\"id\":\"2511\",\"type\":\"GlyphRenderer\"},{\"id\":\"2528\",\"type\":\"GlyphRenderer\"},{\"id\":\"2547\",\"type\":\"GlyphRenderer\"},{\"id\":\"2568\",\"type\":\"GlyphRenderer\"}],\"right\":[{\"id\":\"2503\",\"type\":\"Legend\"}],\"sizing_mode\":\"fixed\",\"title\":{\"id\":\"2455\",\"type\":\"Title\"},\"toolbar\":{\"id\":\"2478\",\"type\":\"Toolbar\"},\"x_range\":{\"id\":\"2447\",\"type\":\"Range1d\"},\"x_scale\":{\"id\":\"2459\",\"type\":\"LinearScale\"},\"y_range\":{\"id\":\"2448\",\"type\":\"Range1d\"},\"y_scale\":{\"id\":\"2461\",\"type\":\"LinearScale\"}},\"id\":\"2454\",\"subtype\":\"Figure\",\"type\":\"Plot\"},{\"attributes\":{\"fill_alpha\":{\"value\":0.1},\"fill_color\":{\"value\":\"#d62728\"},\"line_alpha\":{\"value\":0.1},\"line_color\":{\"value\":\"#d62728\"},\"size\":{\"units\":\"screen\",\"value\":5.477225575051661},\"x\":{\"field\":\"pc1\"},\"y\":{\"field\":\"pc2\"}},\"id\":\"2545\",\"type\":\"Scatter\"},{\"attributes\":{\"axis_label\":\"pc2\",\"bounds\":\"auto\",\"formatter\":{\"id\":\"2487\",\"type\":\"BasicTickFormatter\"},\"major_label_orientation\":\"horizontal\",\"ticker\":{\"id\":\"2469\",\"type\":\"BasicTicker\"}},\"id\":\"2468\",\"type\":\"LinearAxis\"},{\"attributes\":{\"callback\":null,\"data\":{\"pc1\":{\"__ndarray__\":\"giFFINB1CkA6MmnMInQCQDWOa3dvuQxANDMhRe+i9z9dByFYFDoTQJgbxf9h1CBAVMXXOpivEUCXITs8CJ3pP5GSTXWWLBpA8U7SpbWL/z9eJVuwfiMCQIlvK2XIiNk/ZP8Fo1Uv7z9G/sgrJmHzP4pcKYq+5A1APFD1UGqDEEC07kDIZuT0Px9Sox3Bcek/XVbO43FGBUCQaFJz5a3nvylNmSRIZQ5AviIBT4j5+D+KihSkWOzDv7N2xx9u5dM/TDyVibWDCkDEnXtKzzUdQIlTxFhT0eK/qpzb6MME4T+gT/qpVygIQIEVIAUBC/A/aNLfdcM3E0DQE2c1d96+P6FR3czCQ/o/PCRW9QOR2z/5eI6oIPHgP0IVzUUJmPs/\",\"dtype\":\"float64\",\"shape\":[36]},\"pc2\":{\"__ndarray__\":\"MflH8fW78D/ThI5Ja4K3v9lZBvBUE+6/a8qFq31YAUCSPbV29OXpP76AzRxMlQNAp0H/zX1NB0CAEoDN6wjvPxNX/gsOZ9Q/3L+eCcFe5r/OYXyJmQfyPy+O0NAyyPE/zo+qR3kd7j/UPJfCc8P0PyDOgp+YgdS/2C/d3upL0z+9FRgI0rz6P78labRaWwNAxQwjgLmxBkBEhN6YLJIMQHYB9lvJe+g/kxtpngru6z93QgVKJwf+P+kqvmuziwBA989+zcaNBUAxXQImAMXMP1JeFKi5BABAb0FZB1ztB0Acc2v05TzxP2Oeymv38wFAH/RPdtrJ9D8by9qkP50EQOvMnh0TfPM/5Wq5PH2uAEABAb1+A7kDQLR6OXPD2QBA\",\"dtype\":\"float64\",\"shape\":[36]},\"predictions\":[1,1,1,1,1,1,1,1,1,1,1,1,1,1,1,1,1,1,1,1,1,1,1,1,1,1,1,1,1,1,1,1,1,1,1,1]},\"selected\":{\"id\":\"2506\",\"type\":\"Selection\"},\"selection_policy\":{\"id\":\"2537\",\"type\":\"UnionRenderers\"}},\"id\":\"2505\",\"type\":\"ColumnDataSource\"},{\"attributes\":{},\"id\":\"2523\",\"type\":\"Selection\"},{\"attributes\":{\"fill_alpha\":{\"value\":0.2},\"fill_color\":{\"value\":\"#ff7f0e\"},\"line_alpha\":{\"value\":0.2},\"line_color\":{\"value\":\"#ff7f0e\"},\"size\":{\"units\":\"screen\",\"value\":5.477225575051661},\"x\":{\"field\":\"pc1\"},\"y\":{\"field\":\"pc2\"}},\"id\":\"2510\",\"type\":\"Scatter\"},{\"attributes\":{\"source\":{\"id\":\"2505\",\"type\":\"ColumnDataSource\"}},\"id\":\"2512\",\"type\":\"CDSView\"},{\"attributes\":{\"fill_alpha\":{\"value\":0.1},\"fill_color\":{\"value\":\"#ff7f0e\"},\"line_alpha\":{\"value\":0.1},\"line_color\":{\"value\":\"#ff7f0e\"},\"size\":{\"units\":\"screen\",\"value\":5.477225575051661},\"x\":{\"field\":\"pc1\"},\"y\":{\"field\":\"pc2\"}},\"id\":\"2509\",\"type\":\"Scatter\"},{\"attributes\":{},\"id\":\"2490\",\"type\":\"Selection\"},{\"attributes\":{},\"id\":\"2563\",\"type\":\"Selection\"},{\"attributes\":{\"data_source\":{\"id\":\"2505\",\"type\":\"ColumnDataSource\"},\"glyph\":{\"id\":\"2508\",\"type\":\"Scatter\"},\"hover_glyph\":null,\"muted_glyph\":{\"id\":\"2510\",\"type\":\"Scatter\"},\"nonselection_glyph\":{\"id\":\"2509\",\"type\":\"Scatter\"},\"selection_glyph\":null,\"view\":{\"id\":\"2512\",\"type\":\"CDSView\"}},\"id\":\"2511\",\"type\":\"GlyphRenderer\"},{\"attributes\":{\"callback\":null,\"end\":6.19718030442504,\"reset_end\":6.19718030442504,\"reset_start\":-5.088976950117465,\"start\":-5.088976950117465,\"tags\":[[[\"pc2\",\"pc2\",null]]]},\"id\":\"2448\",\"type\":\"Range1d\"},{\"attributes\":{\"dimension\":1,\"grid_line_color\":null,\"ticker\":{\"id\":\"2469\",\"type\":\"BasicTicker\"}},\"id\":\"2472\",\"type\":\"Grid\"},{\"attributes\":{\"fill_alpha\":{\"value\":0.2},\"fill_color\":{\"value\":\"#1f77b4\"},\"line_alpha\":{\"value\":0.2},\"line_color\":{\"value\":\"#1f77b4\"},\"size\":{\"units\":\"screen\",\"value\":5.477225575051661},\"x\":{\"field\":\"pc1\"},\"y\":{\"field\":\"pc2\"}},\"id\":\"2494\",\"type\":\"Scatter\"},{\"attributes\":{\"fill_color\":{\"value\":\"#1f77b4\"},\"line_color\":{\"value\":\"#1f77b4\"},\"size\":{\"units\":\"screen\",\"value\":5.477225575051661},\"x\":{\"field\":\"pc1\"},\"y\":{\"field\":\"pc2\"}},\"id\":\"2492\",\"type\":\"Scatter\"},{\"attributes\":{\"fill_alpha\":{\"value\":0.1},\"fill_color\":{\"value\":\"#2ca02c\"},\"line_alpha\":{\"value\":0.1},\"line_color\":{\"value\":\"#2ca02c\"},\"size\":{\"units\":\"screen\",\"value\":5.477225575051661},\"x\":{\"field\":\"pc1\"},\"y\":{\"field\":\"pc2\"}},\"id\":\"2526\",\"type\":\"Scatter\"},{\"attributes\":{\"fill_color\":{\"value\":\"#ff7f0e\"},\"line_color\":{\"value\":\"#ff7f0e\"},\"size\":{\"units\":\"screen\",\"value\":5.477225575051661},\"x\":{\"field\":\"pc1\"},\"y\":{\"field\":\"pc2\"}},\"id\":\"2508\",\"type\":\"Scatter\"},{\"attributes\":{\"label\":{\"value\":\"2\"},\"renderers\":[{\"id\":\"2528\",\"type\":\"GlyphRenderer\"}]},\"id\":\"2540\",\"type\":\"LegendItem\"},{\"attributes\":{},\"id\":\"2518\",\"type\":\"UnionRenderers\"},{\"attributes\":{\"data_source\":{\"id\":\"2522\",\"type\":\"ColumnDataSource\"},\"glyph\":{\"id\":\"2525\",\"type\":\"Scatter\"},\"hover_glyph\":null,\"muted_glyph\":{\"id\":\"2527\",\"type\":\"Scatter\"},\"nonselection_glyph\":{\"id\":\"2526\",\"type\":\"Scatter\"},\"selection_glyph\":null,\"view\":{\"id\":\"2529\",\"type\":\"CDSView\"}},\"id\":\"2528\",\"type\":\"GlyphRenderer\"},{\"attributes\":{\"callback\":null,\"data\":{\"pc1\":{\"__ndarray__\":\"fAhW28d6A0BDlP1wKB/GP/e0s1Eg1Om/D93FUASl87/7npOd9MrjP/XNfVwHdf0//CGAo4uu8z94Vexl0q7Uv/PyZc7rIPc/7wvjo0Ze7j+SUcStqTHkv7aYYQ9oTeg/eLPqVo8cxL/g4I2eaUP4P4YB7sxYJPK/giZRzaQy+L9xV9sgcLj9P266xO/LyvC/MoV3gxVK0L9LZkpl7zAKQFpyVCNeXvU/OuCP2Qr8AkA8BhCXEWz+P0wMoL8XnPa/pq6MzWdj47/iQXuivNjyv47izYX1GOK/HYmPbFi8yr8sWfEUf8vjv2ZdkRavwdM/dhMf5loe6b/KDZxG/FP0P28a4Lowl9s/XosLw+4avr+5mcwiLmXgvzjutmSvm/Y/gqVZMWfM+T+79If2o9X1v+wkwGdlDOE/NpQAgxlC8L9E/Frwkw3sv0d0aR2EROy/BJVNtkiB+L/KobI0Hp4BQBC/17Mzs+W/tB8xGmlO+r/+TZntLVPBP82WZ2Lxg7Q/ecdYVdEQ7r/zQ+eYlK/zv4mBwRJ60/G/705NiVq3zj9Z2WVtebiAv8piybN/Hew/8HH9PXxj6D9T3V+n+kvuv4+xJzc6RM8/MX+enEbPBECmnJ2a80j1v6zbCF3hVPu/e2RKi2rB6L9LDz72ppTxv7M5xrJ6U5Y/TVRoqCiV+79VhQk4Z8jyP90SxXIaUuU/H+jXjYn+9D9o06yXqw7zv31/bYfPRdk/L/8MaPYQAkBGmpGYcfW3P8djw3jyogHAGiZL+sGU7z9j/Z5A5Jrzv5GYpRfkI9k/Orgxhxr67b/EQjIBxUvzv0WRrDpEv76/SvFkIkWY3D/pwLugzVWPvzDov+spzuO/aFrek/uc5b/RvWC3gqXpPxcUsseTDee/GyxGzz8u2T80yVXDwfj5v8kCPhPYXZ+/08asfo4O2r+nmkipP8vnv+ueZfvJltu/5JV1Pawk8b9gZgSoCjDVv9W8Z1wr3/G/oUyHaux/8T+3AMDEeXf8P0Z7VSFLge2/l5bwFLv43r94yIUj+wC0Pz84IpXbu98/Zapa5KJJ4L91oVl8d2jyPy3X2lr05v0/wTTH/G2F4D9jXYuC/TAJQBCLxtvRM/a/TAfQudVS9z/IWVqAmZbev3jkQjWZB9Q/5wP0tBRa3L9gdO+J6Erkv8UX+V5DDN6/R0C0f+MH8L86bdXZfivkP/romxEQpfC/z54BXDTL27/YBgdRZhvyP/LXJYD9VgpA8bcEDf6277+lMpmIXeDrP6p9abATCuW/7hc3bHg00j+6mh6MhugAwG4KBnw53t2/aV/9AQAD9b+oJg5RP627PwAOyczfacK/l+/SeACd37/U2aepZKXCP8v+pWJ9heK/EbPmcAN/479S9rrIYzntv+DAgtigPNC/mETGUdRL0j/kGk9XbdSAv0LQnyAEx3q/6rhM0i+H8L90TJLxKaP0vw==\",\"dtype\":\"float64\",\"shape\":[137]},\"pc2\":{\"__ndarray__\":\"G0pbCBUw6L/pH1FDHLXwP8zCZTuSH/U/r7DI3ewF7D8Y5NkyQCruP3P4mE7P6Ku/HWkotiB68L8BG61bNUbkP0M38apxoO2/2wN5uUj97j+uMIFHbYfpP5Lgi7bL882/V7/liQVE4z8kGIT/pr7xv7gwrVkmY8s/v1wlN8hH+z//fQikuaLVP5IHgBPgBfs/7Rfg+L7vwT8IAOH2JjH4v0f/+rOsdKU/Qfl86vKY8T+XIO4tpjO1P39HtMVkafA/bCf87l6D8z/8AIlpUJLoPxBOTneaWeA/1MvcTXSO9T92JhBTRPDZPxfCUPlTsfI/sCnhlUg06T/LAuwdLUH0v4ND/+gEI+w/+jFM7Fk76D8rsqbGONYAQOxUYHtnpdo/RYqWTJKo6z/il/hg1/DoP7EFhj1CBPE/Jmt95v8K8D/WupY2e/LwP7hO/VqgzoC/PWc8zkVx9T8pVwPvhpDDvzobN/sJZNc/ZrLutcwW/z/FyR4VrnL2P20vY3Q5t+M/LbuII6H/4T9pd35caybvP+uttbicIfQ/RoiIDUhD8D9D+TMcUSvnP+ieS3ii8+w/qxeWkWMx1L/A8SGGEcjTP9fGZ2w3SfA/4TiFwgXN8r/4Gs4C0qTvP80KgWysX/o/dIMPLe8b5j8hwabDosrlP3OWi+XppuA/S1aEmfh+6z+VSeI32QgAwGh3QNcxSbK/RETqPkEw97+olQcE5gLsP2u4A+RpU+Q/fK0TFf626r/k+tFdtOG0P2euBAD27uY/BSNwMRRe3r//O19Y8YH3PzH+0qI4cOo/yjKSTPFT9D/HUVxosy79P8MvHH1f6OE/GxIAbB6S8T83+R2QuKv3PwjjxZ5eUNA/sq9t3aMOBUB10aTJgoT1P6P8M2J4ydk/c9KHalS6yb+kkflv83XlP8qDcExbJ8Q/T6F3kBbZ/T8v0P+gV9vxPxqmRDMOm/Q/3wt3XnAU4z8w7Fedk4cAQCgVoQg2Q+w/BSbUZex/+T8aKyYZQG/QPwAUUu7S7+o/nyapq5KP5z+wpO3bkq7dP4KDJ73e9cw/sY8Dqv8B9j+VTFhZ3b7EPzIiXdlcaOo/577qm8eg+j8zjL8Hhx/AP75bDv4dXOo/JdAvSdtD6D+I/hcmuFfuP5Ou+2Vr5+W/6wx+3Iby5D+hZny0FpzzP8wDXPNrFfA/IunBTDCZ5T+MuvvBjMbQP+8Nahgp9vw/Jl2nNttQyz/T4GJHSQH0P5MAr2c1bt0/LgzbhxpT8j8V2ZgqmLb1P3qyRUA3j+U/koyJN9Ef6D8GG3a04+jxP8MclI10C+K/KuaHbywK4T+zcbNguLX6P13Jdx9oA+I/kzjskWJ29L/GLB0FFt73P6Kp3U73XeM/wzibR3fi4z9pa44vjlX1P3cr/N0s7uU/HHAY64Sa9j+rz9foRuL8P/uuI9PORfM/NzSLOGeo+T+TdSaU9TP2Pw==\",\"dtype\":\"float64\",\"shape\":[137]},\"predictions\":[3,3,3,3,3,3,3,3,3,3,3,3,3,3,3,3,3,3,3,3,3,3,3,3,3,3,3,3,3,3,3,3,3,3,3,3,3,3,3,3,3,3,3,3,3,3,3,3,3,3,3,3,3,3,3,3,3,3,3,3,3,3,3,3,3,3,3,3,3,3,3,3,3,3,3,3,3,3,3,3,3,3,3,3,3,3,3,3,3,3,3,3,3,3,3,3,3,3,3,3,3,3,3,3,3,3,3,3,3,3,3,3,3,3,3,3,3,3,3,3,3,3,3,3,3,3,3,3,3,3,3,3,3,3,3,3,3]},\"selected\":{\"id\":\"2542\",\"type\":\"Selection\"},\"selection_policy\":{\"id\":\"2581\",\"type\":\"UnionRenderers\"}},\"id\":\"2541\",\"type\":\"ColumnDataSource\"},{\"attributes\":{\"fill_color\":{\"value\":\"#9467bd\"},\"line_color\":{\"value\":\"#9467bd\"},\"size\":{\"units\":\"screen\",\"value\":5.477225575051661},\"x\":{\"field\":\"pc1\"},\"y\":{\"field\":\"pc2\"}},\"id\":\"2565\",\"type\":\"Scatter\"},{\"attributes\":{},\"id\":\"2473\",\"type\":\"SaveTool\"},{\"attributes\":{\"source\":{\"id\":\"2522\",\"type\":\"ColumnDataSource\"}},\"id\":\"2529\",\"type\":\"CDSView\"},{\"attributes\":{\"label\":{\"value\":\"0\"},\"renderers\":[{\"id\":\"2495\",\"type\":\"GlyphRenderer\"}]},\"id\":\"2504\",\"type\":\"LegendItem\"},{\"attributes\":{\"fill_alpha\":{\"value\":0.1},\"fill_color\":{\"value\":\"#1f77b4\"},\"line_alpha\":{\"value\":0.1},\"line_color\":{\"value\":\"#1f77b4\"},\"size\":{\"units\":\"screen\",\"value\":5.477225575051661},\"x\":{\"field\":\"pc1\"},\"y\":{\"field\":\"pc2\"}},\"id\":\"2493\",\"type\":\"Scatter\"},{\"attributes\":{},\"id\":\"2506\",\"type\":\"Selection\"},{\"attributes\":{\"fill_alpha\":{\"value\":0.2},\"fill_color\":{\"value\":\"#9467bd\"},\"line_alpha\":{\"value\":0.2},\"line_color\":{\"value\":\"#9467bd\"},\"size\":{\"units\":\"screen\",\"value\":5.477225575051661},\"x\":{\"field\":\"pc1\"},\"y\":{\"field\":\"pc2\"}},\"id\":\"2567\",\"type\":\"Scatter\"},{\"attributes\":{\"fill_alpha\":{\"value\":0.1},\"fill_color\":{\"value\":\"#9467bd\"},\"line_alpha\":{\"value\":0.1},\"line_color\":{\"value\":\"#9467bd\"},\"size\":{\"units\":\"screen\",\"value\":5.477225575051661},\"x\":{\"field\":\"pc1\"},\"y\":{\"field\":\"pc2\"}},\"id\":\"2566\",\"type\":\"Scatter\"},{\"attributes\":{},\"id\":\"2474\",\"type\":\"PanTool\"},{\"attributes\":{\"axis_label\":\"pc1\",\"bounds\":\"auto\",\"formatter\":{\"id\":\"2485\",\"type\":\"BasicTickFormatter\"},\"major_label_orientation\":\"horizontal\",\"ticker\":{\"id\":\"2464\",\"type\":\"BasicTicker\"}},\"id\":\"2463\",\"type\":\"LinearAxis\"},{\"attributes\":{\"source\":{\"id\":\"2562\",\"type\":\"ColumnDataSource\"}},\"id\":\"2569\",\"type\":\"CDSView\"},{\"attributes\":{},\"id\":\"2475\",\"type\":\"WheelZoomTool\"},{\"attributes\":{\"data_source\":{\"id\":\"2541\",\"type\":\"ColumnDataSource\"},\"glyph\":{\"id\":\"2544\",\"type\":\"Scatter\"},\"hover_glyph\":null,\"muted_glyph\":{\"id\":\"2546\",\"type\":\"Scatter\"},\"nonselection_glyph\":{\"id\":\"2545\",\"type\":\"Scatter\"},\"selection_glyph\":null,\"view\":{\"id\":\"2548\",\"type\":\"CDSView\"}},\"id\":\"2547\",\"type\":\"GlyphRenderer\"},{\"attributes\":{\"click_policy\":\"mute\",\"items\":[{\"id\":\"2504\",\"type\":\"LegendItem\"},{\"id\":\"2521\",\"type\":\"LegendItem\"},{\"id\":\"2540\",\"type\":\"LegendItem\"},{\"id\":\"2561\",\"type\":\"LegendItem\"},{\"id\":\"2584\",\"type\":\"LegendItem\"}],\"location\":[0,0]},\"id\":\"2503\",\"type\":\"Legend\"},{\"attributes\":{\"label\":{\"value\":\"3\"},\"renderers\":[{\"id\":\"2547\",\"type\":\"GlyphRenderer\"}]},\"id\":\"2561\",\"type\":\"LegendItem\"},{\"attributes\":{\"data_source\":{\"id\":\"2562\",\"type\":\"ColumnDataSource\"},\"glyph\":{\"id\":\"2565\",\"type\":\"Scatter\"},\"hover_glyph\":null,\"muted_glyph\":{\"id\":\"2567\",\"type\":\"Scatter\"},\"nonselection_glyph\":{\"id\":\"2566\",\"type\":\"Scatter\"},\"selection_glyph\":null,\"view\":{\"id\":\"2569\",\"type\":\"CDSView\"}},\"id\":\"2568\",\"type\":\"GlyphRenderer\"},{\"attributes\":{\"callback\":null,\"end\":8.414810173808107,\"reset_end\":8.414810173808107,\"reset_start\":-2.947478398876118,\"start\":-2.947478398876118,\"tags\":[[[\"pc1\",\"pc1\",null]]]},\"id\":\"2447\",\"type\":\"Range1d\"},{\"attributes\":{},\"id\":\"2558\",\"type\":\"UnionRenderers\"},{\"attributes\":{},\"id\":\"2598\",\"type\":\"UnionRenderers\"},{\"attributes\":{\"fill_alpha\":{\"value\":0.2},\"fill_color\":{\"value\":\"#d62728\"},\"line_alpha\":{\"value\":0.2},\"line_color\":{\"value\":\"#d62728\"},\"size\":{\"units\":\"screen\",\"value\":5.477225575051661},\"x\":{\"field\":\"pc1\"},\"y\":{\"field\":\"pc2\"}},\"id\":\"2546\",\"type\":\"Scatter\"},{\"attributes\":{\"callback\":null,\"data\":{\"pc1\":{\"__ndarray__\":\"lG3nBngkGUCHKGdlSxUUQBo5JbD/ox5AJXI4YqAZHED/uWF1+UD/P38/xg4ojfk/rYBDg4fQ8j92eP6DpvP9Pw==\",\"dtype\":\"float64\",\"shape\":[8]},\"pc2\":{\"__ndarray__\":\"oVgAHMZVEUC6N9A8gKf4P+ncn61T3ABAlOXtLICVA0AK4llYC4cPQDu7DID+YQhA6eQ+iSQyDEAJ7V+B22YNQA==\",\"dtype\":\"float64\",\"shape\":[8]},\"predictions\":[4,4,4,4,4,4,4,4]},\"selected\":{\"id\":\"2563\",\"type\":\"Selection\"},\"selection_policy\":{\"id\":\"2598\",\"type\":\"UnionRenderers\"}},\"id\":\"2562\",\"type\":\"ColumnDataSource\"},{\"attributes\":{\"label\":{\"value\":\"1\"},\"renderers\":[{\"id\":\"2511\",\"type\":\"GlyphRenderer\"}]},\"id\":\"2521\",\"type\":\"LegendItem\"},{\"attributes\":{\"data_source\":{\"id\":\"2489\",\"type\":\"ColumnDataSource\"},\"glyph\":{\"id\":\"2492\",\"type\":\"Scatter\"},\"hover_glyph\":null,\"muted_glyph\":{\"id\":\"2494\",\"type\":\"Scatter\"},\"nonselection_glyph\":{\"id\":\"2493\",\"type\":\"Scatter\"},\"selection_glyph\":null,\"view\":{\"id\":\"2496\",\"type\":\"CDSView\"}},\"id\":\"2495\",\"type\":\"GlyphRenderer\"},{\"attributes\":{},\"id\":\"2477\",\"type\":\"ResetTool\"},{\"attributes\":{},\"id\":\"2461\",\"type\":\"LinearScale\"},{\"attributes\":{},\"id\":\"2537\",\"type\":\"UnionRenderers\"},{\"attributes\":{\"bottom_units\":\"screen\",\"fill_alpha\":{\"value\":0.5},\"fill_color\":{\"value\":\"lightgrey\"},\"left_units\":\"screen\",\"level\":\"overlay\",\"line_alpha\":{\"value\":1.0},\"line_color\":{\"value\":\"black\"},\"line_dash\":[4,4],\"line_width\":{\"value\":2},\"render_mode\":\"css\",\"right_units\":\"screen\",\"top_units\":\"screen\"},\"id\":\"2502\",\"type\":\"BoxAnnotation\"},{\"attributes\":{\"text\":\"\",\"text_color\":{\"value\":\"black\"},\"text_font_size\":{\"value\":\"12pt\"}},\"id\":\"2455\",\"type\":\"Title\"},{\"attributes\":{},\"id\":\"2581\",\"type\":\"UnionRenderers\"},{\"attributes\":{\"fill_alpha\":{\"value\":0.2},\"fill_color\":{\"value\":\"#2ca02c\"},\"line_alpha\":{\"value\":0.2},\"line_color\":{\"value\":\"#2ca02c\"},\"size\":{\"units\":\"screen\",\"value\":5.477225575051661},\"x\":{\"field\":\"pc1\"},\"y\":{\"field\":\"pc2\"}},\"id\":\"2527\",\"type\":\"Scatter\"},{\"attributes\":{\"callback\":null,\"data\":{\"pc1\":{\"__ndarray__\":\"t8vAPjYrDkA=\",\"dtype\":\"float64\",\"shape\":[1]},\"pc2\":{\"__ndarray__\":\"+a47ounJGEA=\",\"dtype\":\"float64\",\"shape\":[1]},\"predictions\":[2]},\"selected\":{\"id\":\"2523\",\"type\":\"Selection\"},\"selection_policy\":{\"id\":\"2558\",\"type\":\"UnionRenderers\"}},\"id\":\"2522\",\"type\":\"ColumnDataSource\"},{\"attributes\":{\"source\":{\"id\":\"2541\",\"type\":\"ColumnDataSource\"}},\"id\":\"2548\",\"type\":\"CDSView\"},{\"attributes\":{\"active_drag\":\"auto\",\"active_inspect\":\"auto\",\"active_multi\":null,\"active_scroll\":\"auto\",\"active_tap\":\"auto\",\"tools\":[{\"id\":\"2449\",\"type\":\"HoverTool\"},{\"id\":\"2473\",\"type\":\"SaveTool\"},{\"id\":\"2474\",\"type\":\"PanTool\"},{\"id\":\"2475\",\"type\":\"WheelZoomTool\"},{\"id\":\"2476\",\"type\":\"BoxZoomTool\"},{\"id\":\"2477\",\"type\":\"ResetTool\"}]},\"id\":\"2478\",\"type\":\"Toolbar\"},{\"attributes\":{},\"id\":\"2469\",\"type\":\"BasicTicker\"},{\"attributes\":{\"source\":{\"id\":\"2489\",\"type\":\"ColumnDataSource\"}},\"id\":\"2496\",\"type\":\"CDSView\"},{\"attributes\":{},\"id\":\"2459\",\"type\":\"LinearScale\"},{\"attributes\":{},\"id\":\"2485\",\"type\":\"BasicTickFormatter\"},{\"attributes\":{\"label\":{\"value\":\"4\"},\"renderers\":[{\"id\":\"2568\",\"type\":\"GlyphRenderer\"}]},\"id\":\"2584\",\"type\":\"LegendItem\"},{\"attributes\":{\"overlay\":{\"id\":\"2502\",\"type\":\"BoxAnnotation\"}},\"id\":\"2476\",\"type\":\"BoxZoomTool\"},{\"attributes\":{},\"id\":\"2542\",\"type\":\"Selection\"},{\"attributes\":{\"callback\":null,\"renderers\":[{\"id\":\"2495\",\"type\":\"GlyphRenderer\"},{\"id\":\"2511\",\"type\":\"GlyphRenderer\"},{\"id\":\"2528\",\"type\":\"GlyphRenderer\"},{\"id\":\"2547\",\"type\":\"GlyphRenderer\"},{\"id\":\"2568\",\"type\":\"GlyphRenderer\"}],\"tags\":[\"hv_created\"],\"tooltips\":[[\"predictions\",\"@{predictions}\"],[\"pc1\",\"@{pc1}\"],[\"pc2\",\"@{pc2}\"]]},\"id\":\"2449\",\"type\":\"HoverTool\"},{\"attributes\":{},\"id\":\"2464\",\"type\":\"BasicTicker\"},{\"attributes\":{},\"id\":\"2487\",\"type\":\"BasicTickFormatter\"},{\"attributes\":{\"fill_color\":{\"value\":\"#d62728\"},\"line_color\":{\"value\":\"#d62728\"},\"size\":{\"units\":\"screen\",\"value\":5.477225575051661},\"x\":{\"field\":\"pc1\"},\"y\":{\"field\":\"pc2\"}},\"id\":\"2544\",\"type\":\"Scatter\"},{\"attributes\":{\"fill_color\":{\"value\":\"#2ca02c\"},\"line_color\":{\"value\":\"#2ca02c\"},\"size\":{\"units\":\"screen\",\"value\":5.477225575051661},\"x\":{\"field\":\"pc1\"},\"y\":{\"field\":\"pc2\"}},\"id\":\"2525\",\"type\":\"Scatter\"},{\"attributes\":{\"grid_line_color\":null,\"ticker\":{\"id\":\"2464\",\"type\":\"BasicTicker\"}},\"id\":\"2467\",\"type\":\"Grid\"},{\"attributes\":{\"callback\":null,\"data\":{\"pc1\":{\"__ndarray__\":\"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\",\"dtype\":\"float64\",\"shape\":[219]},\"pc2\":{\"__ndarray__\":\"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\",\"dtype\":\"float64\",\"shape\":[219]},\"predictions\":[0,0,0,0,0,0,0,0,0,0,0,0,0,0,0,0,0,0,0,0,0,0,0,0,0,0,0,0,0,0,0,0,0,0,0,0,0,0,0,0,0,0,0,0,0,0,0,0,0,0,0,0,0,0,0,0,0,0,0,0,0,0,0,0,0,0,0,0,0,0,0,0,0,0,0,0,0,0,0,0,0,0,0,0,0,0,0,0,0,0,0,0,0,0,0,0,0,0,0,0,0,0,0,0,0,0,0,0,0,0,0,0,0,0,0,0,0,0,0,0,0,0,0,0,0,0,0,0,0,0,0,0,0,0,0,0,0,0,0,0,0,0,0,0,0,0,0,0,0,0,0,0,0,0,0,0,0,0,0,0,0,0,0,0,0,0,0,0,0,0,0,0,0,0,0,0,0,0,0,0,0,0,0,0,0,0,0,0,0,0,0,0,0,0,0,0,0,0,0,0,0,0,0,0,0,0,0,0,0,0,0,0,0,0,0,0,0,0,0]},\"selected\":{\"id\":\"2490\",\"type\":\"Selection\"},\"selection_policy\":{\"id\":\"2518\",\"type\":\"UnionRenderers\"}},\"id\":\"2489\",\"type\":\"ColumnDataSource\"}],\"root_ids\":[\"2454\"]},\"title\":\"Bokeh Application\",\"version\":\"1.3.4\"}};\n",
       "  var render_items = [{\"docid\":\"86ff5a97-596d-4a24-a71e-318b5b1e566b\",\"roots\":{\"2454\":\"74b930fe-deab-4f90-9cdd-4cdef0ca0936\"}}];\n",
       "  root.Bokeh.embed.embed_items_notebook(docs_json, render_items);\n",
       "\n",
       "  }\n",
       "  if (root.Bokeh !== undefined) {\n",
       "    embed_document(root);\n",
       "  } else {\n",
       "    var attempts = 0;\n",
       "    var timer = setInterval(function(root) {\n",
       "      if (root.Bokeh !== undefined) {\n",
       "        embed_document(root);\n",
       "        clearInterval(timer);\n",
       "      }\n",
       "      attempts++;\n",
       "      if (attempts > 100) {\n",
       "        console.log(\"Bokeh: ERROR: Unable to run BokehJS code because BokehJS library is missing\");\n",
       "        clearInterval(timer);\n",
       "      }\n",
       "    }, 10, root)\n",
       "  }\n",
       "})(window);</script>"
      ],
      "text/plain": [
       ":NdOverlay   [predictions]\n",
       "   :Scatter   [pc1]   (pc2)"
      ]
     },
     "execution_count": 65,
     "metadata": {
      "application/vnd.holoviews_exec.v0+json": {
       "id": "2454"
      }
     },
     "output_type": "execute_result"
    }
   ],
   "source": [
    "sp500_pca = pd.DataFrame(\n",
    "    data=sp500_pca, columns=[\"pc1\", \"pc2\", 'pc3', 'pc4', 'pc5', 'pc6']\n",
    ")\n",
    "\n",
    "sp500_pca_pred = pd.concat([sp500_pca, predictions], axis=1)\n",
    "sp500_pca_pred.hvplot.scatter(x='pc1', y='pc2', by='predictions')"
   ]
  },
  {
   "cell_type": "code",
   "execution_count": 85,
   "metadata": {},
   "outputs": [
    {
     "data": {
      "application/vnd.plotly.v1+json": {
       "config": {
        "plotlyServerURL": "https://plot.ly"
       },
       "data": [
        {
         "hoverlabel": {
          "namelength": 0
         },
         "hovertemplate": "pc1=%{x}<br>pc2=%{y}<br>pc3=%{z}<br>predictions=%{marker.color}",
         "legendgroup": "",
         "marker": {
          "color": [
           0,
           0,
           0,
           0,
           0,
           0,
           0,
           0,
           0,
           0,
           0,
           0,
           0,
           0,
           0,
           0,
           0,
           0,
           0,
           2,
           0,
           0,
           0,
           0,
           0,
           0,
           0,
           0,
           0,
           0,
           0,
           0,
           0,
           0,
           0,
           0,
           0,
           0,
           0,
           0,
           0,
           0,
           0,
           0,
           0,
           0,
           0,
           0,
           0,
           0,
           0,
           0,
           0,
           0,
           0,
           0,
           0,
           0,
           0,
           0,
           0,
           0,
           0,
           0,
           0,
           0,
           0,
           0,
           0,
           0,
           0,
           0,
           0,
           0,
           0,
           0,
           0,
           0,
           0,
           0,
           0,
           0,
           0,
           0,
           0,
           0,
           0,
           0,
           0,
           0,
           0,
           0,
           0,
           0,
           0,
           0,
           0,
           0,
           0,
           0,
           0,
           0,
           0,
           0,
           0,
           0,
           0,
           0,
           0,
           0,
           0,
           0,
           0,
           0,
           0,
           0,
           0,
           0,
           0,
           0,
           0,
           0,
           0,
           0,
           0,
           0,
           0,
           0,
           0,
           0,
           0,
           0,
           0,
           0,
           0,
           0,
           1,
           0,
           0,
           0,
           0,
           0,
           0,
           0,
           0,
           0,
           0,
           0,
           0,
           0,
           0,
           0,
           0,
           0,
           0,
           0,
           0,
           0,
           0,
           0,
           0,
           0,
           0,
           0,
           0,
           0,
           0,
           0,
           0,
           0,
           0,
           0,
           0,
           0,
           0,
           0,
           0,
           0,
           0,
           0,
           0,
           0,
           0,
           0,
           0,
           0,
           0,
           0,
           0,
           0,
           0,
           0,
           0,
           0,
           0,
           0,
           0,
           0,
           0,
           0,
           0,
           0,
           0,
           0,
           0,
           0,
           0,
           0,
           0,
           0,
           0,
           0,
           0,
           0,
           0,
           0,
           0,
           0,
           0,
           0,
           0,
           0,
           0,
           0,
           0,
           0,
           0,
           0,
           0,
           0,
           0,
           0,
           0,
           0,
           0,
           0,
           0,
           0,
           0,
           0,
           0,
           0,
           0,
           0,
           0,
           0,
           0,
           0,
           0,
           0,
           0,
           0,
           0,
           0,
           0,
           0,
           0,
           0,
           0,
           0,
           0,
           0,
           0,
           0,
           0,
           0,
           0,
           0,
           0,
           0,
           0,
           0,
           0,
           0,
           0,
           0,
           0,
           0,
           0,
           0,
           0,
           0,
           0,
           0,
           0,
           0,
           0,
           0,
           0,
           0,
           0,
           0,
           0,
           0,
           0,
           0,
           0,
           0,
           0,
           0,
           0,
           0,
           0,
           0,
           0,
           0,
           0,
           0,
           0,
           0,
           0,
           0,
           0,
           0,
           0,
           0,
           0,
           0,
           0,
           0,
           0,
           0,
           0,
           0,
           0,
           0,
           0,
           0,
           0,
           0,
           0,
           0,
           0,
           0,
           0,
           0,
           0,
           0,
           0,
           0,
           0,
           0,
           0,
           0,
           0,
           0,
           0,
           0,
           0,
           0,
           0,
           0,
           0,
           0,
           0,
           0,
           0,
           0,
           0,
           0,
           0,
           0,
           0,
           0,
           0,
           0,
           0,
           0,
           0,
           0,
           0,
           0,
           0,
           0,
           0,
           0,
           0,
           0,
           0,
           0,
           0,
           1,
           0,
           0,
           0,
           0,
           0,
           0,
           0,
           0,
           0,
           0,
           0,
           0,
           0,
           0,
           0,
           0,
           0,
           3,
           0,
           0,
           0,
           0,
           0,
           0,
           0,
           0,
           0,
           0,
           0,
           0,
           0,
           0,
           0,
           0,
           0,
           0,
           0,
           0,
           0,
           0,
           0,
           0,
           0,
           0,
           0,
           0,
           0,
           0,
           0,
           0,
           0,
           0,
           0,
           0,
           0,
           0,
           0,
           0,
           0,
           0,
           0,
           0,
           0,
           0,
           0,
           0,
           0,
           0,
           0,
           0,
           0,
           0,
           0,
           0,
           0,
           0,
           0,
           0,
           0,
           0,
           0,
           0,
           0,
           0,
           0,
           0,
           0,
           0,
           0,
           0,
           0,
           0,
           0,
           0,
           0,
           0,
           0,
           0,
           0,
           0,
           0,
           0,
           0,
           0,
           0,
           0,
           0,
           0,
           0,
           0,
           0,
           0,
           0,
           0,
           0
          ],
          "coloraxis": "coloraxis",
          "symbol": "circle"
         },
         "mode": "markers",
         "name": "",
         "scene": "scene",
         "showlegend": false,
         "type": "scatter3d",
         "x": [
          0.8930917513750674,
          1.3981163374368477,
          0.14468861870271202,
          -1.748602449071187,
          1.1554049324542561,
          -0.8594836652275094,
          0.6661024838560686,
          3.652420554919646,
          0.9294093912708454,
          -0.2093931942699937,
          0.5742486300498665,
          0.15404175162703848,
          -1.2887836861460973,
          4.734416952637843,
          -0.37241505327230207,
          -0.27480514648925297,
          -0.37402407408362554,
          1.0007960708959383,
          1.1065228193030718,
          4.12974119451658,
          1.8101646599357122,
          0.34292284291877717,
          1.729889380149396,
          -0.8075560384279257,
          1.1964978139686613,
          -0.2643453933038289,
          -1.158688774604981,
          1.297013905352797,
          0.5336487283749977,
          1.1684072662956078,
          -0.2513414961817773,
          0.1824238555294326,
          0.6744913712659191,
          -0.8948211341179761,
          0.6960063341226366,
          3.1091755967706214,
          1.8205675870406588,
          -2.790795072045814,
          1.9433747150429335,
          -1.515084942861997,
          -0.8059774382780637,
          -1.1255724402559253,
          2.5817457584374606,
          0.18666960046053596,
          1.490345410148421,
          -0.6670710874988073,
          -0.7293532934891009,
          0.265719392714785,
          -0.11576097152502653,
          -0.7730289895753232,
          1.3508701583796796,
          -0.34845258626614684,
          2.5797251833532826,
          0.8728596749998816,
          2.6697448495258604,
          -0.4737393948173995,
          0.9937562347310583,
          -0.39584926868571935,
          2.016289108669791,
          -0.3837668936684562,
          -1.8476745540623174,
          0.05178985257728186,
          0.3570806696057528,
          -1.2119862573614761,
          -1.6001656741176187,
          1.6063121860074179,
          2.6988199219870053,
          1.7573096839161646,
          0.9514585179573484,
          0.2924058080078944,
          -0.8654839087804314,
          -0.25157007242290175,
          1.9868973329862185,
          -0.3046623370500772,
          0.23904300271196482,
          -0.80410368157103,
          -0.3923807278798691,
          0.05346079147458943,
          -0.13080077495289075,
          0.7452293304900408,
          -0.8907083936981136,
          2.640514289765941,
          0.34171604185699433,
          -0.6715487818437539,
          0.8345040565237842,
          0.9919288534650512,
          -1.040549468278701,
          -0.40019049654250455,
          0.4501816433136613,
          0.4427822100012611,
          0.6156300796592695,
          6.11334082860116,
          1.7244215909249856,
          0.5447139229098106,
          0.008951391627780483,
          1.009867414174836,
          1.2574833598963855,
          -0.11919642127808802,
          0.5462715873458782,
          -0.5572496602138453,
          -4.172106339468538,
          -0.07524681699267266,
          2.2312452919605588,
          0.058141330317821704,
          1.7166411968111155,
          0.7453750313139478,
          0.8873201076634234,
          0.4615487815590457,
          1.2356875712194224,
          1.1322817440350232,
          0.37543148626592854,
          2.5408738599730105,
          0.03497729515375955,
          -1.2304488713488968,
          -0.2697984091223273,
          -0.6742376208762093,
          -0.47742670298440393,
          -1.09435134904989,
          -0.21598710690126358,
          1.9359757192242335,
          -0.8312361569938919,
          -1.5695368006761734,
          0.5267911803222245,
          -2.9441655441003185,
          -1.2339305197878292,
          -1.0376568666468609,
          0.8262060722393365,
          0.5322658133567973,
          -0.19965075682974934,
          0.20892516882699855,
          0.5662671493352419,
          0.28060209286721455,
          -0.32276219458093586,
          0.6003251921711512,
          -0.15433109191636152,
          -0.7541810891538325,
          2.3118201472609794,
          2.07365736284384,
          -0.6670362886144382,
          0.09527610637698539,
          -0.3377113452498483,
          0.8169786746145549,
          -1.0584558327791005,
          2.662742599111812,
          -1.55044378100226,
          0.21628664827988378,
          -4.534850196493934,
          3.438833457000018,
          0.12853867477584466,
          -0.23862967063600846,
          -0.18965477129770464,
          -0.2474765805517136,
          -0.16838424895144127,
          0.11070431127150657,
          0.8176014508839723,
          0.5137867600431028,
          0.9878083863411569,
          0.8776019416325852,
          -2.769079487279779,
          0.8500290462100699,
          -0.9568457520924832,
          -3.217943242236075,
          0.2903463999269525,
          0.1846165014460779,
          -1.75166170310154,
          -0.2525246848757503,
          -0.8274824334589749,
          -1.7312473788155043,
          -2.062891389281663,
          4.365822750410812,
          -2.0585273929085828,
          -0.27856442229430506,
          0.15627775626098678,
          0.19470288727386664,
          -0.8657087955529972,
          -1.1504240133297974,
          -0.12604036224326134,
          -0.9106073499997313,
          -0.5291087453066395,
          0.16159570767864126,
          0.5362554793949311,
          5.215428974657729,
          -0.13767357630732083,
          1.1432477130542886,
          0.6420569197186173,
          -1.0690933977111132,
          1.5175364810517187,
          0.47538296409198133,
          -0.5025748320555955,
          0.8264913127413115,
          -0.48571054346787723,
          2.4721447209650274,
          -0.40718658601389784,
          0.3209952982210737,
          -0.37346760372653587,
          -1.1509788266759506,
          0.7949164101835788,
          1.687058532410486,
          -0.701101690293971,
          -0.4259026838600455,
          1.7153861182037666,
          1.476824929502824,
          5.00110324996112,
          1.260715142571344,
          0.8403099061249398,
          -0.09713052921539769,
          2.166160791264369,
          -0.8300428259013036,
          -0.6316407731224511,
          2.0855460945932536,
          0.7155952205045667,
          -1.878958377659576,
          0.3475038788516904,
          0.2357278867910428,
          0.9846560671386719,
          -0.6199729380551277,
          -0.8249932559441011,
          2.0835960543805325,
          1.3547049447139279,
          -0.48067937966014596,
          -1.6838533761836723,
          1.5686847711018042,
          -0.6341632312948089,
          0.30274484345578956,
          0.8213234473966555,
          0.5850497469636097,
          0.7648576705208335,
          -0.8564812324361996,
          0.44542381225115707,
          -1.5913062576048536,
          0.11755804792758023,
          -0.4318289336243531,
          -0.38777049531814956,
          -1.0792436393658205,
          0.4738603414364837,
          -0.6001297348504614,
          1.3581568487126359,
          1.4096858652379332,
          -0.7207995339790485,
          -0.010624663680249587,
          -1.397228073514236,
          1.8548962339660033,
          0.7791063569083615,
          -1.4320497618353116,
          1.1526548999828523,
          0.38598273667659605,
          -1.394836618333489,
          -1.645604352955477,
          0.2806574125123601,
          0.7120574733262267,
          1.1998053730503797,
          -0.08570500888692324,
          1.2682374985084255,
          0.898758142600567,
          -0.45034832885798237,
          0.2769363367354654,
          2.355618406567229,
          -0.013993098970014516,
          -0.48589655073829524,
          -0.8130548165589779,
          -0.45015957772549836,
          1.269261154584768,
          7.7856883623536755,
          -0.5177834491440731,
          -2.068859284362409,
          0.5168886023034203,
          1.1404604767147937,
          -0.4732618302986901,
          -0.17553844855269002,
          0.17480733244177157,
          -0.8280813407160071,
          1.0205578459823224,
          -0.7235555232526716,
          3.723485015064845,
          -0.12515991546049116,
          0.5374400781368824,
          -0.09996144495758676,
          -1.0997773788966216,
          0.41148029575034356,
          -1.500711188289094,
          -0.35676563384607546,
          0.8414675976762499,
          0.770261271320156,
          2.404153104812806,
          -1.6406553495814906,
          -0.07743095193529012,
          -0.7244664340450523,
          0.13744225150719114,
          -0.18077207056733652,
          -1.6084173443374759,
          0.16360550732498308,
          -0.44326555171697146,
          -1.4152945932997254,
          2.2502535437911755,
          -0.23913850168235043,
          -2.9527636532417927,
          0.584192467936619,
          0.17995691446878656,
          0.5294696972419535,
          -1.2371573126121238,
          1.5758826871794054,
          -1.2232338783715186,
          0.8796401397091651,
          0.8133098443852245,
          -0.19015485957827774,
          -1.5083893216470836,
          -0.3806549007712773,
          -0.5687708934023274,
          -1.074197783557186,
          0.755639006220931,
          0.2599716861783811,
          0.44768049829127887,
          1.2937505862985839,
          0.27748778203419855,
          1.3332032343980325,
          -0.17517041282939186,
          -0.1537025019313401,
          -0.25968722352451135,
          1.098721096469137,
          0.08940888898171837,
          -3.494045478267489,
          -1.700966323632469,
          -0.5120437907889342,
          -1.954622916235183,
          -1.1477435189277838,
          -0.8579295520757663,
          0.06600698746084069,
          -0.5467211284203588,
          -1.0243408724118046,
          -1.4937161729561752,
          -0.49293125560106676,
          -0.754999007616408,
          -1.0544792460670653,
          0.4329017637315584,
          -1.1969370591789377,
          1.0020921054138836,
          -0.42777288049626055,
          -2.1517162065018267,
          0.20322998147443647,
          -0.3190194656033603,
          -0.053066139616404745,
          -0.5363074194106138,
          -0.12000076702462202,
          0.6807140716528632,
          -0.7052397471994368,
          0.6482842609913524,
          0.28339816502040205,
          -1.2428992079166723,
          -2.0054532295726766,
          -1.8153022017044438,
          0.5252409309435978,
          -3.3299400233182426,
          3.8577374636953956,
          1.1645952638284656,
          -1.9616208161968178,
          0.8495393192001532,
          0.5017944547468596,
          -0.027346351723427382,
          0.7611979981983641,
          -1.2011252975930753,
          4.0810753783618745,
          0.6187896534264933,
          -0.13395594468148556,
          -0.6761111959611213,
          -0.6535022583645623,
          0.018588745405194732,
          2.163364195623931,
          1.5952349884906014,
          -0.3651426378230801,
          0.1550742876162009,
          -0.7020282266684619,
          0.06979742163220273,
          -2.088309363187901,
          1.2114058115027349,
          1.0412851731990456,
          -0.7195726099905132,
          -1.6679516772965994,
          0.6346679337152631,
          -1.2326675591652405,
          -0.36821311042422517,
          -1.109019113205997,
          1.487398028366034,
          -0.30276835798294244,
          0.7997796678829637,
          -0.2768893335605116,
          1.204570270629539,
          -0.48732958960212236,
          -0.2992871096491135,
          0.08879067822259065,
          -1.1771814000336764,
          0.010196493831428035,
          3.0316495027633565,
          -0.3710594079647338,
          0.307369231420942,
          -0.8467458077280035,
          4.498029089420109,
          -0.029899687877231226,
          0.23664002703873638,
          -0.5551849559779303,
          1.628695026424122,
          -1.5642911792734917,
          -0.7767240876844762,
          0.5251882982275279,
          -0.04225147738157621,
          -2.6521069574177014,
          0.859009092921395,
          0.9913609191521385,
          0.8929309858539142,
          -0.35899321977843796,
          -1.3546045421259958,
          -0.9510339667317051,
          -1.2968805247001414,
          -0.5160797909174535,
          0.5039475810015602,
          0.5792701028826912,
          -0.6902145512023068,
          -0.47385913410624736,
          -1.9710760979750435,
          -1.1366140906542317,
          -1.3502655455781263,
          -2.922134397256592,
          -0.830049059184306,
          -1.4849631470490474,
          0.9085056661704152,
          0.33689565532457977,
          0.7415055177565019,
          -0.5658782056664349,
          0.034517544520584316,
          -1.7968639568314757,
          -3.0222890840388272,
          1.0812013788287738,
          -1.0963646913665033,
          -0.6223652009161585,
          0.9885347043451621,
          0.6149988925572291,
          -2.28864146569184,
          -1.55963689245591,
          0.2314352457656032,
          -1.50480768962282,
          0.4045776251987034,
          -4.845841713342705,
          -2.5259912537458864,
          -0.9903633141664658,
          -1.310322296470663,
          1.2823873670166488,
          -1.5041729171516334,
          -0.6609988725289057,
          1.1104373179382627,
          -3.13951051978556,
          0.3383353894135874,
          -0.3510687119039846,
          0.8828524241393847,
          -0.3027698135530533,
          -1.9828196133761504,
          -1.754742986648646,
          -1.0744336791993605,
          -1.6706982489915518,
          -0.8500682196501275,
          -0.9677911047405833,
          0.4101854743312563,
          -2.0805793343532724,
          -0.3309272989149484,
          -1.122503998117379,
          -1.119988723900338,
          -0.42255158825331707,
          -1.4316162768934206,
          -3.1968135010874734,
          -0.8605193301609166,
          0.4188451648451197,
          -2.256864054178579,
          -0.21623781815554555,
          -1.295134757115616,
          -2.190999711112522,
          -0.16735644375408074,
          -0.5009003486598117,
          -0.6084234186914583,
          -0.5667428280209307,
          0.060839513747074296,
          3.3089382387570763,
          -1.7685570833450202,
          0.17940121077705623,
          -1.6968713015468289,
          0.29145109860301327,
          -0.10201859943269986,
          -0.12567942262861306,
          -1.5352118185419454,
          -0.8466056906277546,
          -0.23488329210562917,
          0.0806380417328897,
          -0.8946671858925185,
          0.3177951078911824,
          1.8877715717731467,
          -0.7077886437399742,
          -2.2772433138626975,
          -2.9065776539309067,
          -1.6445523715780845,
          -0.4443894331157483
         ],
         "y": [
          -1.0812320767829444,
          -1.0428773237751716,
          -0.5006107207204236,
          0.6796140079064493,
          -1.1546665317915281,
          0.003560089042262603,
          -1.1810620152099858,
          -1.473088713118192,
          0.2648042302379424,
          1.4345189245746117,
          1.7684693128250522,
          -1.933626310922223,
          0.11652665159554527,
          -1.9714655763430837,
          0.7254889547155297,
          0.24482013471019884,
          0.33953488729601666,
          0.6736944828416327,
          -1.0994153092347594,
          -2.260791600724203,
          0.9790518744516947,
          -0.8128138458693625,
          0.22621421657839497,
          -0.050153565354655795,
          -0.34049454111263333,
          -0.25594730759285655,
          1.2761415004450356,
          0.7810976475111405,
          -1.2644682263238454,
          -1.0712152923653107,
          -2.1955097810412814,
          0.7455274709225596,
          0.49342146319550334,
          0.48525994453043736,
          0.01473226438588162,
          0.3982394894871201,
          -0.22149639754817535,
          1.4877612698177034,
          -1.3677481544043861,
          0.554121771469259,
          0.858773334284479,
          -1.833840241813982,
          -0.8799299923266656,
          -0.5221919691771488,
          -1.0138725776208495,
          0.11273804506991829,
          -0.24390282918993286,
          -0.5405691292431378,
          0.6547302895024755,
          0.4889678003694454,
          -0.9356968741150881,
          -0.7251380743888063,
          0.6336755461354923,
          2.5348309182587303,
          -1.857922311843891,
          0.8477961934958778,
          -0.12003643410135603,
          0.7585062244514551,
          1.044779927158,
          -0.8235773172789379,
          1.6621787567664055,
          -0.6213309895436032,
          -0.9615002295342239,
          -0.12952055718869146,
          0.39956378873980447,
          -1.7224357721380068,
          0.1656338987828124,
          2.0524371726529287,
          -0.9761511478428813,
          -0.6972383873518715,
          1.9793066340743386,
          -0.4121568653536086,
          -1.3905413327434306,
          -1.4461951732236522,
          -1.6017673179029497,
          -1.7549217948435762,
          1.3964880374135065,
          0.6362533586886459,
          -1.7106231327438262,
          -0.14689091424118422,
          0.2839271870826808,
          1.2295229557010485,
          0.11015906307342352,
          0.5397893665870911,
          0.19005189612518564,
          0.48450281096585035,
          0.7293124898452333,
          0.9600227352785786,
          -0.7309430909662608,
          -0.7158374440264995,
          -1.0403272878959173,
          -2.015723257209576,
          -0.9585984272810859,
          2.799739662415211,
          0.7548010118983313,
          2.287960701600709,
          1.9791826995367656,
          0.9577867685546757,
          -1.7490147201597293,
          0.962143229921133,
          -0.02485734385494894,
          -0.053636665270576055,
          -0.11755114306402421,
          0.5132344376385272,
          -0.15637352575953864,
          1.1599747565314904,
          -0.5555954714187954,
          2.916335260758592,
          -1.157476782357246,
          -1.4052090878219725,
          0.5850924103671318,
          -2.526523908769783,
          0.7338504685766967,
          1.020902889561666,
          -3.314995844525549,
          -0.5899306515783663,
          0.06493152707489257,
          0.07371863220730764,
          -2.2326742910669903,
          0.29085569211729034,
          -0.7204722661338747,
          -0.3746787206766311,
          0.14991606205331223,
          -0.4842560304549898,
          -0.577282010638417,
          -0.3327839491983672,
          0.31221578351434576,
          -1.2253516632017871,
          -1.3030029885303211,
          -0.42474587924159657,
          0.2651734159072993,
          -0.392268428006199,
          3.2352057071695803,
          0.9494777488963517,
          -1.6800395970582358,
          0.028144354107325794,
          0.16305961737405034,
          -0.6688522872903088,
          0.08875974436290394,
          -0.8536285338046874,
          -1.1388848360335706,
          2.3032571519107217,
          -0.9176150445536723,
          0.6877986501360865,
          0.4907080822583921,
          0.2954135064539691,
          1.4961349259739876,
          -1.7990281788269502,
          1.9774665541683758,
          -1.170512696142737,
          -0.8578727761104352,
          0.42350708726492253,
          0.7189656345188589,
          0.3130388889566383,
          0.13717980723484058,
          1.2139327811197953,
          -0.3301211056818216,
          1.6403117029537346,
          0.39662512567842506,
          -1.231504427554052,
          0.25403401510209317,
          4.741672494943548,
          1.1333197273272888,
          -2.478556219710261,
          -1.0403591416673383,
          0.2580871865521902,
          -0.826651020470745,
          -0.5947840935926715,
          0.3604175487540119,
          1.1310595246294637,
          -1.268420431060052,
          -0.6125810865218769,
          -0.2551995125705114,
          -0.07055866654518661,
          0.6710843997020577,
          0.7236448570124234,
          1.420234865654237,
          0.5029664227515838,
          0.36867700078102317,
          -0.4821501140735135,
          3.317953147038807,
          -0.9270405229486021,
          1.116966019088368,
          2.229045425172129,
          2.4525380745313274,
          0.4471081482793094,
          -1.3636936118016802,
          0.6391646931261298,
          -0.14905153290823303,
          2.5659423244964947,
          -0.1980316159908195,
          1.4099672324187724,
          -1.3227085036769815,
          -0.4643834268273042,
          -0.7340440085481412,
          0.05856816715416825,
          -0.13251161134810593,
          -0.40094942715494586,
          -1.2591025957615536,
          -0.5290270026883769,
          0.007423233085055748,
          1.6574468906424333,
          0.7126426596960261,
          -0.29138726998979925,
          1.5621476286738154,
          -0.08936919228906555,
          0.4388206815118422,
          1.5499121884117584,
          -1.0383583979916151,
          -2.3841646091874416,
          2.3968188340445993,
          2.950004158307556,
          -0.5639310511380512,
          1.3504067764730165,
          2.580040780415179,
          -1.0932768439805676,
          -1.4436758936008165,
          0.6249471731594961,
          0.5076929132353915,
          -1.106182335403017,
          1.5281206021126728,
          -0.5796765228458443,
          5.940397119243116,
          0.065408926923926,
          -2.496693640056175,
          2.099622079194873,
          1.8745294335466378,
          -1.5721511370250982,
          -1.7906808949637976,
          0.27553192156808054,
          2.1942845520982224,
          -0.977173844345206,
          -0.7739729517055801,
          0.20281060132603793,
          -2.652348593642209,
          0.6324473948877094,
          0.7010284119527099,
          2.982190953566555,
          4.263818363539708,
          -0.27084675580631135,
          0.48403287577777077,
          -1.84904496800752,
          1.894632763103431,
          -0.6970191486793503,
          0.888625393477254,
          2.270795652312432,
          -1.6252822430263045,
          0.7419403178931187,
          2.460098867056735,
          1.3980718807485457,
          -0.8997964664961726,
          -1.3154912274885404,
          -1.4886281463921704,
          1.8849608553213288,
          1.44720115120859,
          1.5794166926886817,
          -0.8445489042444309,
          -0.6621449050713759,
          -0.40086800099257625,
          0.4813734597210413,
          -0.9611752196136464,
          2.221682410206096,
          -1.4148417059023426,
          1.2102697353780163,
          0.5018848918752342,
          -0.9307158469713268,
          -1.0385107401004483,
          0.7364679798244578,
          1.7451594301488613,
          -0.6420072406474603,
          -2.245970188702568,
          0.9784170643768594,
          -0.5960433812902991,
          -0.5285548192036471,
          1.2955753612499343,
          -1.6255652523549864,
          -1.6486794551631587,
          -0.5125959726943896,
          2.9899217685785193,
          -2.1420414343990215,
          1.4177801817280467,
          3.135945688879767,
          -1.3216178444967293,
          -0.690548073043454,
          -1.0994713883352114,
          0.13049130509378268,
          -0.069141400367868,
          0.2685251451227438,
          -0.16159141863295484,
          -1.2197825683715608,
          -1.4262876603837862,
          -0.4897170308506099,
          -0.9966108637467406,
          0.8428803685693105,
          0.5024821773244655,
          -1.396983280596999,
          -0.26109771261337894,
          0.8072158865285449,
          -0.23233728305479615,
          4.818605935270938,
          -1.5937475798234257,
          -0.9970640406645931,
          2.145222567013115,
          -0.14478248552719677,
          0.3370506637983491,
          -0.2086729430029977,
          0.4999882647917109,
          1.1442703091569328,
          -1.6186831124222287,
          2.619612168996999,
          0.5040393814561461,
          -0.7068929182875825,
          -0.7942972714099199,
          0.47808061558384557,
          1.7460240434440395,
          0.6582987174415346,
          0.4485655806374119,
          0.4100467277712088,
          3.8348317467242015,
          -1.820121523996956,
          -0.17578970830642346,
          0.6698157472475674,
          0.2653537035983411,
          -0.011471799984730139,
          -1.3738139476853923,
          0.09360858441812721,
          -1.7722655473108029,
          -0.5997309841506224,
          0.6722968038629084,
          -0.7243545529420239,
          -0.6363833816301946,
          0.07306377273689696,
          0.8021303441111909,
          -1.5496801832327611,
          0.26698551731346565,
          -1.5215887097232292,
          -1.7097241597533022,
          -0.2223293860754576,
          3.029575980659509,
          -1.4870345519120807,
          0.39384826465045153,
          0.8833554077566854,
          -0.8295667558974248,
          -0.40902387529352024,
          0.26106836230698255,
          -0.025467620713952505,
          -0.7901664307831626,
          0.9597412153516739,
          -1.2495074346598547,
          -0.4292628746932794,
          1.229096535602142,
          -0.696486094199359,
          -1.4702115425020341,
          -2.337231742107573,
          0.37107329962278823,
          0.1644942067646561,
          1.6980389388747645,
          0.4051651229329425,
          2.472156565764612,
          0.6520225091427378,
          1.2415725036359004,
          0.5247409802824319,
          0.09372202068805592,
          5.796422836043358,
          0.6565778893803726,
          -1.9870147978210726,
          2.111259785871024,
          0.4824523201011948,
          0.7129054883865861,
          0.6197055087942352,
          -0.29201729748070043,
          -1.4168450650881392,
          -1.7795433752123597,
          1.4674617075926628,
          -0.9269813476878039,
          1.774360989461639,
          -1.0295690525524206,
          2.2445738734036134,
          1.7342246058750577,
          1.0884330051686038,
          -0.4867253669260349,
          -2.071404563873189,
          -0.04934791400822647,
          2.1207523170565614,
          -1.3549552396401823,
          2.042908068887685,
          -0.11182296303512851,
          0.18951582237016937,
          1.6924996706299755,
          -1.503483415543273,
          -0.5433102206604205,
          -0.24327265149949892,
          0.5004272721264933,
          -0.635786724150533,
          0.8504456116215839,
          0.7034987757213822,
          -3.755247839070377,
          1.4725115077112265,
          0.17429117502883024,
          -3.393800547065267,
          -3.7654244147116254,
          -1.1721515049612756,
          0.3486710481981743,
          -0.2783664486439262,
          -1.7663609832877596,
          -0.6076318195675696,
          0.0288793766035862,
          1.0784230967744886,
          -0.17297609608783185,
          0.6844367548886601,
          2.8354770202494257,
          -0.42512732375106443,
          -0.4342442567229694,
          0.7513920526718113,
          1.8466533768409181,
          0.5806461099198341,
          -1.621372349311269,
          -1.5582730572924184,
          -1.1677722730529103,
          -0.166476255340028,
          0.44832022129195925,
          -0.8096955704184193,
          -1.3977769822230492,
          -2.0107093474578286,
          0.3875779334986168,
          -1.9135557279419635,
          0.23360502566316108,
          2.762665904396421,
          -2.2789223440201716,
          0.8128530977193577,
          1.8414313050849878,
          -0.5355065967639793,
          0.139494463262564,
          2.412718897536936,
          0.7383652349883942,
          -1.8393369263618127,
          -1.6611271899851625,
          1.4240817784966804,
          -1.2553914338087238,
          -1.0142703121346246,
          0.4721447848282136,
          1.3749913471760142,
          -1.2030356175828638,
          -1.7553828255288628,
          0.7131836741933781,
          -2.8179382761988774,
          -0.549305341946568,
          -0.9791961403635423,
          -0.22898407999439735,
          -1.6251471300537204,
          0.23266814447861522,
          -0.6188725407059411,
          0.0022910416595501174,
          1.0767226169138788,
          -2.1204295567447695,
          -1.0211263807407018,
          1.026731348702651,
          0.1705162768617717,
          1.3857138069557688,
          1.5557478583553392,
          -0.011171456667330512,
          -1.2143829766985375,
          -1.5657082111997507,
          -2.5017477737285745,
          -0.5542553093309428,
          -1.2346123788412406,
          -1.0556958673540093,
          -0.1687012529514353,
          -1.1221878699760168,
          -0.9953744552601905,
          0.09466314510401613,
          0.35469361787415105,
          -0.8538444022044772,
          -0.32517260684783017,
          -0.16198289495538648,
          1.0102097918883903,
          -1.5437840313069826,
          -1.5096109220218972,
          -0.6536067183892288,
          -1.7239806303488778,
          0.48796792751340634,
          -1.4258424420567748,
          0.11170773477274165,
          0.49235892342684684,
          -0.30221571708038636,
          -0.7826877287506516,
          -0.8090441878220611,
          -0.8245435075337156,
          -0.2675217000866563,
          -1.5307668704683004,
          -1.7645199645215706,
          0.4966062373356978,
          0.2649622104964481,
          -0.7025832852763914,
          -0.774558507613635,
          -1.0648931715599508,
          1.5140654910817979
         ],
         "z": [
          0.43354424473347686,
          0.6989076606090538,
          0.17652282531287478,
          2.869018402448533,
          0.6716549120559692,
          -0.6326327400198102,
          -0.6012401867960198,
          1.0953870002255532,
          -0.47931820651422835,
          -1.1157805305340138,
          0.3530863423492219,
          -0.2579968388628768,
          -0.8715618381843977,
          2.8826898325199255,
          -1.1503566776272471,
          -0.41502611945931556,
          -0.6945830739771549,
          -1.2402057228270933,
          -0.39671201430221736,
          2.2030721969004383,
          -0.4311977116386074,
          -0.8729162389428563,
          -0.4473881219187245,
          -1.0417685860144195,
          -0.7694305463487431,
          -0.6576395168140249,
          1.262887965075688,
          -0.6765600601562278,
          -0.10915797628098316,
          0.07401418605348806,
          -0.26490768248608687,
          -0.4285626217832736,
          0.4862106786673432,
          0.6692246169464733,
          1.9204180438625353,
          -0.17232008649354694,
          -0.6500821259196133,
          3.0498811144165203,
          0.3026638084409261,
          3.7464710715311136,
          -0.0866264127967942,
          3.0604950537940754,
          0.21938581842098256,
          0.1880606282177731,
          0.7379556479644489,
          0.4465286363156654,
          -0.3904362217264699,
          -0.16951573436761952,
          0.5491142579269769,
          0.92366680239053,
          -0.014423209283224443,
          -0.3804635393545522,
          -0.01026489081343837,
          -0.9157065681321837,
          0.9451410553412105,
          -0.3394502779241413,
          0.03736021092713877,
          0.14275812604698815,
          0.3354161865115908,
          0.2827007344801442,
          2.2521267119030144,
          -0.517570853492305,
          0.19707665361886811,
          -0.6976551161454768,
          -0.2563546773279121,
          0.80695157213638,
          0.21707518364290676,
          0.6326855649244763,
          -0.6802384835870062,
          0.902043403199707,
          0.6539906891800288,
          0.03243571607199613,
          0.47735824548596156,
          -0.45273529842047605,
          -0.4265458265722038,
          0.10498010450888738,
          0.31457542039144687,
          -0.9001916947113984,
          -0.06249325444363753,
          -0.0784396127865132,
          -1.0977582244221025,
          -0.8196433883458822,
          0.10643912220775857,
          -1.0899014389421304,
          -0.1419509666421632,
          0.4462660201230762,
          0.8536692433423806,
          -1.3890600110321754,
          -0.9317138585051402,
          1.9330834445186984,
          -0.6341254400379985,
          4.291041178131457,
          1.7096296867861758,
          -0.694427189861519,
          -1.0791108803143725,
          -2.0030819469985754,
          -1.8969346723582337,
          -1.0307726350474624,
          -0.11109843792592573,
          1.0309992526136114,
          -0.6589806087640742,
          -0.6360764412649749,
          0.2751138448117732,
          -0.755924972235096,
          1.1224372674228396,
          0.9494964652824535,
          1.9266509827470142,
          0.7984375093140169,
          0.6479124103874369,
          -0.012553337855206095,
          -0.11683812062503812,
          0.26074408011053324,
          -0.09749835951967273,
          1.2844704527054969,
          0.40341576828018516,
          -0.4645606973734253,
          0.722847922323835,
          -1.0011329436746121,
          0.7348437497739169,
          -0.7015975314431968,
          -0.3002520438009384,
          0.12252810538255984,
          -0.24543699768393298,
          -0.05834476433909723,
          -1.094783233528188,
          -1.0404805840868123,
          1.665226198904138,
          -0.12074202083852757,
          0.745917944929727,
          -0.33552602023245115,
          0.11948236877324912,
          1.869839747979532,
          1.7438165577166262,
          -0.591937608854233,
          -0.5504150054675566,
          -1.2810095033135749,
          0.0797863186518755,
          1.4956194747733957,
          -0.7291839343587158,
          -0.7759434317362695,
          0.09443030467755553,
          -1.6896691325784718,
          -1.0032580977869898,
          -0.3808437872560394,
          -0.8114062045556464,
          -0.9031496492213886,
          9.887671017840972,
          2.7240371233593064,
          -1.8473620327896898,
          -0.44715502110719463,
          0.5136023518367223,
          -1.325418225537618,
          -0.9320037261132238,
          -0.24148495047343563,
          -0.4324068340905866,
          -0.5653693504898318,
          0.26024799781539,
          -1.5101219296563815,
          2.409828278349459,
          0.0442561773845631,
          -0.2111575962698323,
          10.333444427570853,
          -0.8245236955924883,
          1.0023852387806051,
          -0.46803791393025546,
          -1.4305110340995202,
          -0.39511211158830317,
          -0.5383104861808272,
          -1.205203825572095,
          -1.0150374492869068,
          -0.7006297508506024,
          -0.9655991255599615,
          -0.09396776450966787,
          0.18154032711187681,
          -1.5024720750042067,
          -1.076482808334507,
          0.2766494800439804,
          -1.3584532174891295,
          -0.8805547896353652,
          -0.6255421740960104,
          -0.18084924520421725,
          3.594736970802295,
          -1.4156017535908967,
          -2.0771376355927695,
          -1.5812158055856136,
          0.1267024295179386,
          0.766863647422675,
          -1.0858645228814126,
          -0.3260296690894954,
          0.3100081787250226,
          -0.184294399606693,
          -0.6493842188046276,
          -0.332389895468986,
          0.18459557197665027,
          -0.46005588377379797,
          -0.24308135813179638,
          0.8800322420836367,
          0.18680137559372414,
          0.006222431026252038,
          -0.9727689008177136,
          -0.6403383823131109,
          -0.15152307616822366,
          1.1688179443856177,
          0.5475661752701134,
          -1.5878998664600785,
          -0.270157376545215,
          0.410420696391053,
          1.3092011776339822,
          -0.5472246793413749,
          0.31663687804333257,
          -1.862551580873608,
          3.506211968679004,
          -0.2361403797010943,
          -0.9063020332809808,
          -1.6201543251906105,
          -0.47550798327628946,
          -0.3654326514447377,
          -0.48898543409491935,
          -0.14953101408510658,
          -0.5249017375137311,
          3.151850212455295,
          0.33777853017433357,
          6.403769018047349,
          0.20963136073244235,
          -0.030453167341300654,
          -1.4013552116571517,
          -1.5079810149835389,
          0.19654692489866699,
          0.8349292298749975,
          -0.2947012542078458,
          -1.8142438968082006,
          -0.44521266936365395,
          0.3907108781307841,
          -0.9462770983538329,
          0.4995108544415558,
          -0.5559010569751736,
          -1.3771447546246243,
          0.2569509142855108,
          2.5490494274042543,
          0.3052175655249714,
          -1.0218851189008715,
          -0.6474984042186938,
          -1.404672195909608,
          0.2514015932338017,
          0.7436503407855993,
          -1.7227063091089088,
          0.6015119276603929,
          2.034340420029461,
          -1.4618923627668396,
          -0.2170016244353398,
          0.4069287451564514,
          -0.324190295284922,
          1.8103323796615354,
          -0.765070836657272,
          1.8437945253159107,
          -0.8314221063164404,
          1.5401320342474132,
          0.14579531240403973,
          -1.0546640220430197,
          0.5080769219399072,
          -0.11806219978935892,
          -1.0207109184027465,
          3.2760816081157036,
          -1.5136480417055762,
          0.9543890898361881,
          1.6368427560162493,
          -0.823745926971428,
          -1.634766417264819,
          -1.439712762196265,
          -0.6289356663606354,
          2.9275900009242157,
          0.7346638002230227,
          -0.46190446071621954,
          3.6458003446738756,
          0.5267448340662428,
          -0.6104097653033499,
          -0.11969820774912575,
          -0.34942793279404905,
          -0.5622927685394087,
          -0.026667850494609173,
          -0.26668808930340365,
          0.6744807161259986,
          0.6727291309214556,
          0.7359547550187389,
          -0.3802572519335547,
          1.258290849882095,
          0.5359454827658002,
          -1.279103486440062,
          0.47005828003295785,
          -0.09404010064885207,
          -0.5164494828115457,
          0.4716464551653914,
          -0.1535837800553657,
          -0.04019245349473858,
          -0.2161619167483986,
          0.21539921541072693,
          -0.5650251556732483,
          0.5133666612398023,
          1.2486188005620658,
          4.211515169589558,
          2.0774636349995683,
          -0.49670168976553064,
          -1.649248317840643,
          -0.41754353099916963,
          -1.5001794382190505,
          -0.5254352790640828,
          1.2483755012577369,
          -0.5017752002042486,
          -0.36501469203042747,
          -1.4783581701698252,
          -1.160950857673909,
          0.0007084915209189525,
          0.033135493788223384,
          -0.5237667343740988,
          -0.9559281276307501,
          -1.2642918069526925,
          -0.3301423962303768,
          0.6385462155072118,
          0.6005966578836193,
          -0.43832340998715535,
          2.915052585314262,
          0.7021448209511904,
          -0.7530290530911754,
          0.6490136256845157,
          -0.2979983974943253,
          -0.479235821741868,
          -0.405720944708559,
          0.017424654043548145,
          -0.7544781541778217,
          0.04849805249806505,
          0.3219794087574954,
          -0.6051532702087878,
          1.2716333577990648,
          -0.4949612956469277,
          -0.2831526291065666,
          0.5837849122371139,
          0.22609820493301416,
          -0.7079042496442818,
          0.4647055934381648,
          -0.34313977679771274,
          0.08702132674370135,
          -0.16711475201034878,
          -0.28393228421531225,
          -0.2721660430177225,
          -0.7892527370109454,
          -0.2555284785592346,
          -0.8668496223310729,
          -0.8825622919232451,
          -0.6451945597726608,
          0.5608961624967683,
          -0.9754152001242163,
          -0.17816841044270346,
          2.820355263927372,
          0.7256251392799807,
          -0.11379793596115709,
          0.18626444761769298,
          -0.8267850588189362,
          -0.8842936569487604,
          -1.710536983251369,
          1.8625536715981095,
          2.0231854187013516,
          0.09126395906639709,
          -0.8323711041868681,
          4.2239763475483985,
          -0.18935617306768743,
          0.7789305568555492,
          -0.5726855446355262,
          -0.7904846848100514,
          0.20416543716134114,
          -0.22160898810838364,
          0.0008338010714556651,
          -0.6304895362012232,
          0.7944894712590715,
          -0.9168599684383257,
          -0.7767397194990733,
          0.22021683932235603,
          1.3984019432311543,
          0.589249523918354,
          0.7476374202047937,
          -1.3892015877296366,
          -0.2021043315023391,
          1.2059800944765326,
          -0.7753128749859404,
          -1.507406138622511,
          -0.023381809967737015,
          -1.6088197491354088,
          -0.757399273763508,
          0.31928742823699413,
          -1.6866992951426862,
          -0.4206059033600286,
          -0.20885204678247046,
          -0.8846944098918408,
          -0.7340878228204027,
          0.2680551833596643,
          0.3267145496928787,
          1.6707172194961295,
          0.622102705949886,
          -1.5819060789581638,
          -0.2658625213118678,
          2.438103592360628,
          0.993227112188914,
          -0.37282007515369914,
          0.41555147200185827,
          -0.11652833342904402,
          -0.21535329826371283,
          0.5705685511549881,
          -0.8084087961060696,
          0.912609896259148,
          -1.0149857111427798,
          0.23594650055253097,
          -0.6554753889747783,
          -0.24250958513488322,
          0.6614041422170535,
          -1.5627475993991295,
          -0.26208577298287683,
          -0.7676902219843493,
          -0.03409983303852896,
          -0.27296389900190776,
          -0.37710269305949706,
          0.8357200135467333,
          0.6813130466757454,
          -0.18615516856952782,
          -0.336927890451009,
          -0.4471936931404229,
          -0.8590638394038345,
          -0.4594616213156456,
          -0.96186613967127,
          -2.0227097881653275,
          0.09212569305999266,
          4.339094286398405,
          -0.05378440356732967,
          -0.8100904580179324,
          -0.45772936466458386,
          -2.011239734505142,
          -0.7735765417981223,
          0.04139247398587251,
          0.32834972615658636,
          -0.7238533503332418,
          -0.5194318225552264,
          -0.482580611390613,
          -0.9298213194357048,
          -0.6218332324467302,
          0.10815606605496621,
          -0.23415402941484748,
          -0.6123639586178412,
          0.16558044028230384,
          -0.6778095576558032,
          1.3108518800119684,
          0.7778090491388382,
          -0.4975609167982213,
          -1.2197583786577038,
          -0.2250792833804561,
          -0.7431213267463702,
          1.7050563244907355,
          0.02909691173564733,
          -0.7104304847308496,
          -0.0642927591171738,
          -0.7286071738345898,
          -1.14468646319735,
          -1.2165148528048155,
          -0.47132661644176166,
          -0.0022131186087689693,
          -0.6311864576696684,
          1.0654249124622102,
          -0.18433587700207005,
          -0.47887816806952055,
          0.047844952453754704,
          -1.1046005687273495,
          -0.6725696558194361,
          -0.17369804525970325,
          -0.17438222628079633,
          -0.7594934805007693,
          0.4258242069594456,
          -0.8330202168457472,
          -0.1825614877320979,
          0.35806404936249614,
          -0.37078403723160247,
          0.10360588159184646,
          -0.9231622203567647,
          0.5764699900899992,
          -1.5553449442720126,
          -0.8901060829577186,
          -0.6434221950937099,
          -1.1952274542636494,
          -0.7067348798829108,
          -0.5427604244529157,
          -0.4533818156811409,
          -0.5891786432822487,
          -0.6952111520082742,
          -0.39444611576306127,
          -0.4478143940008704,
          -0.9806761881078023,
          -1.6388373140836991,
          -0.16730148913142306,
          -0.0393730644087238,
          0.41553366064230196,
          -0.1269605983781601
         ]
        }
       ],
       "layout": {
        "autosize": true,
        "coloraxis": {
         "colorbar": {
          "title": {
           "text": "predictions"
          }
         },
         "colorscale": [
          [
           0,
           "#0d0887"
          ],
          [
           0.1111111111111111,
           "#46039f"
          ],
          [
           0.2222222222222222,
           "#7201a8"
          ],
          [
           0.3333333333333333,
           "#9c179e"
          ],
          [
           0.4444444444444444,
           "#bd3786"
          ],
          [
           0.5555555555555556,
           "#d8576b"
          ],
          [
           0.6666666666666666,
           "#ed7953"
          ],
          [
           0.7777777777777778,
           "#fb9f3a"
          ],
          [
           0.8888888888888888,
           "#fdca26"
          ],
          [
           1,
           "#f0f921"
          ]
         ]
        },
        "legend": {
         "tracegroupgap": 0
        },
        "margin": {
         "t": 60
        },
        "scene": {
         "aspectmode": "auto",
         "aspectratio": {
          "x": 1.0982363723412407,
          "y": 0.8438634249504647,
          "z": 1.0790262574694995
         },
         "camera": {
          "center": {
           "x": 0,
           "y": 0,
           "z": 0
          },
          "eye": {
           "x": 0.6082135221579074,
           "y": 0.8303005149385281,
           "z": 1.9047775109857552
          },
          "projection": {
           "type": "perspective"
          },
          "up": {
           "x": 0,
           "y": 0,
           "z": 1
          }
         },
         "domain": {
          "x": [
           0,
           0.98
          ],
          "y": [
           0,
           1
          ]
         },
         "xaxis": {
          "title": {
           "text": "pc1"
          },
          "type": "linear"
         },
         "yaxis": {
          "title": {
           "text": "pc2"
          },
          "type": "linear"
         },
         "zaxis": {
          "title": {
           "text": "pc3"
          },
          "type": "linear"
         }
        },
        "template": {
         "data": {
          "bar": [
           {
            "error_x": {
             "color": "#2a3f5f"
            },
            "error_y": {
             "color": "#2a3f5f"
            },
            "marker": {
             "line": {
              "color": "#E5ECF6",
              "width": 0.5
             }
            },
            "type": "bar"
           }
          ],
          "barpolar": [
           {
            "marker": {
             "line": {
              "color": "#E5ECF6",
              "width": 0.5
             }
            },
            "type": "barpolar"
           }
          ],
          "carpet": [
           {
            "aaxis": {
             "endlinecolor": "#2a3f5f",
             "gridcolor": "white",
             "linecolor": "white",
             "minorgridcolor": "white",
             "startlinecolor": "#2a3f5f"
            },
            "baxis": {
             "endlinecolor": "#2a3f5f",
             "gridcolor": "white",
             "linecolor": "white",
             "minorgridcolor": "white",
             "startlinecolor": "#2a3f5f"
            },
            "type": "carpet"
           }
          ],
          "choropleth": [
           {
            "colorbar": {
             "outlinewidth": 0,
             "ticks": ""
            },
            "type": "choropleth"
           }
          ],
          "contour": [
           {
            "colorbar": {
             "outlinewidth": 0,
             "ticks": ""
            },
            "colorscale": [
             [
              0,
              "#0d0887"
             ],
             [
              0.1111111111111111,
              "#46039f"
             ],
             [
              0.2222222222222222,
              "#7201a8"
             ],
             [
              0.3333333333333333,
              "#9c179e"
             ],
             [
              0.4444444444444444,
              "#bd3786"
             ],
             [
              0.5555555555555556,
              "#d8576b"
             ],
             [
              0.6666666666666666,
              "#ed7953"
             ],
             [
              0.7777777777777778,
              "#fb9f3a"
             ],
             [
              0.8888888888888888,
              "#fdca26"
             ],
             [
              1,
              "#f0f921"
             ]
            ],
            "type": "contour"
           }
          ],
          "contourcarpet": [
           {
            "colorbar": {
             "outlinewidth": 0,
             "ticks": ""
            },
            "type": "contourcarpet"
           }
          ],
          "heatmap": [
           {
            "colorbar": {
             "outlinewidth": 0,
             "ticks": ""
            },
            "colorscale": [
             [
              0,
              "#0d0887"
             ],
             [
              0.1111111111111111,
              "#46039f"
             ],
             [
              0.2222222222222222,
              "#7201a8"
             ],
             [
              0.3333333333333333,
              "#9c179e"
             ],
             [
              0.4444444444444444,
              "#bd3786"
             ],
             [
              0.5555555555555556,
              "#d8576b"
             ],
             [
              0.6666666666666666,
              "#ed7953"
             ],
             [
              0.7777777777777778,
              "#fb9f3a"
             ],
             [
              0.8888888888888888,
              "#fdca26"
             ],
             [
              1,
              "#f0f921"
             ]
            ],
            "type": "heatmap"
           }
          ],
          "heatmapgl": [
           {
            "colorbar": {
             "outlinewidth": 0,
             "ticks": ""
            },
            "colorscale": [
             [
              0,
              "#0d0887"
             ],
             [
              0.1111111111111111,
              "#46039f"
             ],
             [
              0.2222222222222222,
              "#7201a8"
             ],
             [
              0.3333333333333333,
              "#9c179e"
             ],
             [
              0.4444444444444444,
              "#bd3786"
             ],
             [
              0.5555555555555556,
              "#d8576b"
             ],
             [
              0.6666666666666666,
              "#ed7953"
             ],
             [
              0.7777777777777778,
              "#fb9f3a"
             ],
             [
              0.8888888888888888,
              "#fdca26"
             ],
             [
              1,
              "#f0f921"
             ]
            ],
            "type": "heatmapgl"
           }
          ],
          "histogram": [
           {
            "marker": {
             "colorbar": {
              "outlinewidth": 0,
              "ticks": ""
             }
            },
            "type": "histogram"
           }
          ],
          "histogram2d": [
           {
            "colorbar": {
             "outlinewidth": 0,
             "ticks": ""
            },
            "colorscale": [
             [
              0,
              "#0d0887"
             ],
             [
              0.1111111111111111,
              "#46039f"
             ],
             [
              0.2222222222222222,
              "#7201a8"
             ],
             [
              0.3333333333333333,
              "#9c179e"
             ],
             [
              0.4444444444444444,
              "#bd3786"
             ],
             [
              0.5555555555555556,
              "#d8576b"
             ],
             [
              0.6666666666666666,
              "#ed7953"
             ],
             [
              0.7777777777777778,
              "#fb9f3a"
             ],
             [
              0.8888888888888888,
              "#fdca26"
             ],
             [
              1,
              "#f0f921"
             ]
            ],
            "type": "histogram2d"
           }
          ],
          "histogram2dcontour": [
           {
            "colorbar": {
             "outlinewidth": 0,
             "ticks": ""
            },
            "colorscale": [
             [
              0,
              "#0d0887"
             ],
             [
              0.1111111111111111,
              "#46039f"
             ],
             [
              0.2222222222222222,
              "#7201a8"
             ],
             [
              0.3333333333333333,
              "#9c179e"
             ],
             [
              0.4444444444444444,
              "#bd3786"
             ],
             [
              0.5555555555555556,
              "#d8576b"
             ],
             [
              0.6666666666666666,
              "#ed7953"
             ],
             [
              0.7777777777777778,
              "#fb9f3a"
             ],
             [
              0.8888888888888888,
              "#fdca26"
             ],
             [
              1,
              "#f0f921"
             ]
            ],
            "type": "histogram2dcontour"
           }
          ],
          "mesh3d": [
           {
            "colorbar": {
             "outlinewidth": 0,
             "ticks": ""
            },
            "type": "mesh3d"
           }
          ],
          "parcoords": [
           {
            "line": {
             "colorbar": {
              "outlinewidth": 0,
              "ticks": ""
             }
            },
            "type": "parcoords"
           }
          ],
          "scatter": [
           {
            "marker": {
             "colorbar": {
              "outlinewidth": 0,
              "ticks": ""
             }
            },
            "type": "scatter"
           }
          ],
          "scatter3d": [
           {
            "line": {
             "colorbar": {
              "outlinewidth": 0,
              "ticks": ""
             }
            },
            "marker": {
             "colorbar": {
              "outlinewidth": 0,
              "ticks": ""
             }
            },
            "type": "scatter3d"
           }
          ],
          "scattercarpet": [
           {
            "marker": {
             "colorbar": {
              "outlinewidth": 0,
              "ticks": ""
             }
            },
            "type": "scattercarpet"
           }
          ],
          "scattergeo": [
           {
            "marker": {
             "colorbar": {
              "outlinewidth": 0,
              "ticks": ""
             }
            },
            "type": "scattergeo"
           }
          ],
          "scattergl": [
           {
            "marker": {
             "colorbar": {
              "outlinewidth": 0,
              "ticks": ""
             }
            },
            "type": "scattergl"
           }
          ],
          "scattermapbox": [
           {
            "marker": {
             "colorbar": {
              "outlinewidth": 0,
              "ticks": ""
             }
            },
            "type": "scattermapbox"
           }
          ],
          "scatterpolar": [
           {
            "marker": {
             "colorbar": {
              "outlinewidth": 0,
              "ticks": ""
             }
            },
            "type": "scatterpolar"
           }
          ],
          "scatterpolargl": [
           {
            "marker": {
             "colorbar": {
              "outlinewidth": 0,
              "ticks": ""
             }
            },
            "type": "scatterpolargl"
           }
          ],
          "scatterternary": [
           {
            "marker": {
             "colorbar": {
              "outlinewidth": 0,
              "ticks": ""
             }
            },
            "type": "scatterternary"
           }
          ],
          "surface": [
           {
            "colorbar": {
             "outlinewidth": 0,
             "ticks": ""
            },
            "colorscale": [
             [
              0,
              "#0d0887"
             ],
             [
              0.1111111111111111,
              "#46039f"
             ],
             [
              0.2222222222222222,
              "#7201a8"
             ],
             [
              0.3333333333333333,
              "#9c179e"
             ],
             [
              0.4444444444444444,
              "#bd3786"
             ],
             [
              0.5555555555555556,
              "#d8576b"
             ],
             [
              0.6666666666666666,
              "#ed7953"
             ],
             [
              0.7777777777777778,
              "#fb9f3a"
             ],
             [
              0.8888888888888888,
              "#fdca26"
             ],
             [
              1,
              "#f0f921"
             ]
            ],
            "type": "surface"
           }
          ],
          "table": [
           {
            "cells": {
             "fill": {
              "color": "#EBF0F8"
             },
             "line": {
              "color": "white"
             }
            },
            "header": {
             "fill": {
              "color": "#C8D4E3"
             },
             "line": {
              "color": "white"
             }
            },
            "type": "table"
           }
          ]
         },
         "layout": {
          "annotationdefaults": {
           "arrowcolor": "#2a3f5f",
           "arrowhead": 0,
           "arrowwidth": 1
          },
          "colorscale": {
           "diverging": [
            [
             0,
             "#8e0152"
            ],
            [
             0.1,
             "#c51b7d"
            ],
            [
             0.2,
             "#de77ae"
            ],
            [
             0.3,
             "#f1b6da"
            ],
            [
             0.4,
             "#fde0ef"
            ],
            [
             0.5,
             "#f7f7f7"
            ],
            [
             0.6,
             "#e6f5d0"
            ],
            [
             0.7,
             "#b8e186"
            ],
            [
             0.8,
             "#7fbc41"
            ],
            [
             0.9,
             "#4d9221"
            ],
            [
             1,
             "#276419"
            ]
           ],
           "sequential": [
            [
             0,
             "#0d0887"
            ],
            [
             0.1111111111111111,
             "#46039f"
            ],
            [
             0.2222222222222222,
             "#7201a8"
            ],
            [
             0.3333333333333333,
             "#9c179e"
            ],
            [
             0.4444444444444444,
             "#bd3786"
            ],
            [
             0.5555555555555556,
             "#d8576b"
            ],
            [
             0.6666666666666666,
             "#ed7953"
            ],
            [
             0.7777777777777778,
             "#fb9f3a"
            ],
            [
             0.8888888888888888,
             "#fdca26"
            ],
            [
             1,
             "#f0f921"
            ]
           ],
           "sequentialminus": [
            [
             0,
             "#0d0887"
            ],
            [
             0.1111111111111111,
             "#46039f"
            ],
            [
             0.2222222222222222,
             "#7201a8"
            ],
            [
             0.3333333333333333,
             "#9c179e"
            ],
            [
             0.4444444444444444,
             "#bd3786"
            ],
            [
             0.5555555555555556,
             "#d8576b"
            ],
            [
             0.6666666666666666,
             "#ed7953"
            ],
            [
             0.7777777777777778,
             "#fb9f3a"
            ],
            [
             0.8888888888888888,
             "#fdca26"
            ],
            [
             1,
             "#f0f921"
            ]
           ]
          },
          "colorway": [
           "#636efa",
           "#EF553B",
           "#00cc96",
           "#ab63fa",
           "#FFA15A",
           "#19d3f3",
           "#FF6692",
           "#B6E880",
           "#FF97FF",
           "#FECB52"
          ],
          "font": {
           "color": "#2a3f5f"
          },
          "geo": {
           "bgcolor": "white",
           "lakecolor": "white",
           "landcolor": "#E5ECF6",
           "showlakes": true,
           "showland": true,
           "subunitcolor": "white"
          },
          "hoverlabel": {
           "align": "left"
          },
          "hovermode": "closest",
          "mapbox": {
           "style": "light"
          },
          "paper_bgcolor": "white",
          "plot_bgcolor": "#E5ECF6",
          "polar": {
           "angularaxis": {
            "gridcolor": "white",
            "linecolor": "white",
            "ticks": ""
           },
           "bgcolor": "#E5ECF6",
           "radialaxis": {
            "gridcolor": "white",
            "linecolor": "white",
            "ticks": ""
           }
          },
          "scene": {
           "xaxis": {
            "backgroundcolor": "#E5ECF6",
            "gridcolor": "white",
            "gridwidth": 2,
            "linecolor": "white",
            "showbackground": true,
            "ticks": "",
            "zerolinecolor": "white"
           },
           "yaxis": {
            "backgroundcolor": "#E5ECF6",
            "gridcolor": "white",
            "gridwidth": 2,
            "linecolor": "white",
            "showbackground": true,
            "ticks": "",
            "zerolinecolor": "white"
           },
           "zaxis": {
            "backgroundcolor": "#E5ECF6",
            "gridcolor": "white",
            "gridwidth": 2,
            "linecolor": "white",
            "showbackground": true,
            "ticks": "",
            "zerolinecolor": "white"
           }
          },
          "shapedefaults": {
           "line": {
            "color": "#2a3f5f"
           }
          },
          "ternary": {
           "aaxis": {
            "gridcolor": "white",
            "linecolor": "white",
            "ticks": ""
           },
           "baxis": {
            "gridcolor": "white",
            "linecolor": "white",
            "ticks": ""
           },
           "bgcolor": "#E5ECF6",
           "caxis": {
            "gridcolor": "white",
            "linecolor": "white",
            "ticks": ""
           }
          },
          "title": {
           "x": 0.05
          },
          "xaxis": {
           "automargin": true,
           "gridcolor": "white",
           "linecolor": "white",
           "ticks": "",
           "zerolinecolor": "white",
           "zerolinewidth": 2
          },
          "yaxis": {
           "automargin": true,
           "gridcolor": "white",
           "linecolor": "white",
           "ticks": "",
           "zerolinecolor": "white",
           "zerolinewidth": 2
          }
         }
        }
       }
      },
      "image/png": "[encoded data removed]",
      "text/html": [
       "<div>\n",
       "        \n",
       "        \n",
       "            <div id=\"dadac95a-34fe-4f32-bf65-5b402c0a9a6a\" class=\"plotly-graph-div\" style=\"height:600px; width:100%;\"></div>\n",
       "            <script type=\"text/javascript\">\n",
       "                require([\"plotly\"], function(Plotly) {\n",
       "                    window.PLOTLYENV=window.PLOTLYENV || {};\n",
       "                    \n",
       "                if (document.getElementById(\"dadac95a-34fe-4f32-bf65-5b402c0a9a6a\")) {\n",
       "                    Plotly.newPlot(\n",
       "                        'dadac95a-34fe-4f32-bf65-5b402c0a9a6a',\n",
       "                        [{\"hoverlabel\": {\"namelength\": 0}, \"hovertemplate\": \"pc1=%{x}<br>pc2=%{y}<br>pc3=%{z}<br>predictions=%{marker.color}\", \"legendgroup\": \"\", \"marker\": {\"color\": [0, 0, 0, 0, 0, 0, 0, 0, 0, 0, 0, 0, 0, 0, 0, 0, 0, 0, 0, 2, 0, 0, 0, 0, 0, 0, 0, 0, 0, 0, 0, 0, 0, 0, 0, 0, 0, 0, 0, 0, 0, 0, 0, 0, 0, 0, 0, 0, 0, 0, 0, 0, 0, 0, 0, 0, 0, 0, 0, 0, 0, 0, 0, 0, 0, 0, 0, 0, 0, 0, 0, 0, 0, 0, 0, 0, 0, 0, 0, 0, 0, 0, 0, 0, 0, 0, 0, 0, 0, 0, 0, 0, 0, 0, 0, 0, 0, 0, 0, 0, 0, 0, 0, 0, 0, 0, 0, 0, 0, 0, 0, 0, 0, 0, 0, 0, 0, 0, 0, 0, 0, 0, 0, 0, 0, 0, 0, 0, 0, 0, 0, 0, 0, 0, 0, 0, 1, 0, 0, 0, 0, 0, 0, 0, 0, 0, 0, 0, 0, 0, 0, 0, 0, 0, 0, 0, 0, 0, 0, 0, 0, 0, 0, 0, 0, 0, 0, 0, 0, 0, 0, 0, 0, 0, 0, 0, 0, 0, 0, 0, 0, 0, 0, 0, 0, 0, 0, 0, 0, 0, 0, 0, 0, 0, 0, 0, 0, 0, 0, 0, 0, 0, 0, 0, 0, 0, 0, 0, 0, 0, 0, 0, 0, 0, 0, 0, 0, 0, 0, 0, 0, 0, 0, 0, 0, 0, 0, 0, 0, 0, 0, 0, 0, 0, 0, 0, 0, 0, 0, 0, 0, 0, 0, 0, 0, 0, 0, 0, 0, 0, 0, 0, 0, 0, 0, 0, 0, 0, 0, 0, 0, 0, 0, 0, 0, 0, 0, 0, 0, 0, 0, 0, 0, 0, 0, 0, 0, 0, 0, 0, 0, 0, 0, 0, 0, 0, 0, 0, 0, 0, 0, 0, 0, 0, 0, 0, 0, 0, 0, 0, 0, 0, 0, 0, 0, 0, 0, 0, 0, 0, 0, 0, 0, 0, 0, 0, 0, 0, 0, 0, 0, 0, 0, 0, 0, 0, 0, 0, 0, 0, 0, 0, 0, 0, 0, 0, 0, 0, 0, 0, 0, 0, 0, 0, 0, 0, 0, 0, 0, 0, 0, 0, 0, 0, 0, 0, 0, 0, 0, 0, 0, 0, 0, 0, 0, 0, 0, 0, 0, 0, 0, 0, 0, 0, 0, 0, 0, 0, 0, 0, 0, 1, 0, 0, 0, 0, 0, 0, 0, 0, 0, 0, 0, 0, 0, 0, 0, 0, 0, 3, 0, 0, 0, 0, 0, 0, 0, 0, 0, 0, 0, 0, 0, 0, 0, 0, 0, 0, 0, 0, 0, 0, 0, 0, 0, 0, 0, 0, 0, 0, 0, 0, 0, 0, 0, 0, 0, 0, 0, 0, 0, 0, 0, 0, 0, 0, 0, 0, 0, 0, 0, 0, 0, 0, 0, 0, 0, 0, 0, 0, 0, 0, 0, 0, 0, 0, 0, 0, 0, 0, 0, 0, 0, 0, 0, 0, 0, 0, 0, 0, 0, 0, 0, 0, 0, 0, 0, 0, 0, 0, 0, 0, 0, 0, 0, 0, 0], \"coloraxis\": \"coloraxis\", \"symbol\": \"circle\"}, \"mode\": \"markers\", \"name\": \"\", \"scene\": \"scene\", \"showlegend\": false, \"type\": \"scatter3d\", \"x\": [0.8930917513750674, 1.3981163374368477, 0.14468861870271202, -1.748602449071187, 1.1554049324542561, -0.8594836652275094, 0.6661024838560686, 3.652420554919646, 0.9294093912708454, -0.2093931942699937, 0.5742486300498665, 0.15404175162703848, -1.2887836861460973, 4.734416952637843, -0.37241505327230207, -0.27480514648925297, -0.37402407408362554, 1.0007960708959383, 1.1065228193030718, 4.12974119451658, 1.8101646599357122, 0.34292284291877717, 1.729889380149396, -0.8075560384279257, 1.1964978139686613, -0.2643453933038289, -1.158688774604981, 1.297013905352797, 0.5336487283749977, 1.1684072662956078, -0.2513414961817773, 0.1824238555294326, 0.6744913712659191, -0.8948211341179761, 0.6960063341226366, 3.1091755967706214, 1.8205675870406588, -2.790795072045814, 1.9433747150429335, -1.515084942861997, -0.8059774382780637, -1.1255724402559253, 2.5817457584374606, 0.18666960046053596, 1.490345410148421, -0.6670710874988073, -0.7293532934891009, 0.265719392714785, -0.11576097152502653, -0.7730289895753232, 1.3508701583796796, -0.34845258626614684, 2.5797251833532826, 0.8728596749998816, 2.6697448495258604, -0.4737393948173995, 0.9937562347310583, -0.39584926868571935, 2.016289108669791, -0.3837668936684562, -1.8476745540623174, 0.05178985257728186, 0.3570806696057528, -1.2119862573614761, -1.6001656741176187, 1.6063121860074179, 2.6988199219870053, 1.7573096839161646, 0.9514585179573484, 0.2924058080078944, -0.8654839087804314, -0.25157007242290175, 1.9868973329862185, -0.3046623370500772, 0.23904300271196482, -0.80410368157103, -0.3923807278798691, 0.05346079147458943, -0.13080077495289075, 0.7452293304900408, -0.8907083936981136, 2.640514289765941, 0.34171604185699433, -0.6715487818437539, 0.8345040565237842, 0.9919288534650512, -1.040549468278701, -0.40019049654250455, 0.4501816433136613, 0.4427822100012611, 0.6156300796592695, 6.11334082860116, 1.7244215909249856, 0.5447139229098106, 0.008951391627780483, 1.009867414174836, 1.2574833598963855, -0.11919642127808802, 0.5462715873458782, -0.5572496602138453, -4.172106339468538, -0.07524681699267266, 2.2312452919605588, 0.058141330317821704, 1.7166411968111155, 0.7453750313139478, 0.8873201076634234, 0.4615487815590457, 1.2356875712194224, 1.1322817440350232, 0.37543148626592854, 2.5408738599730105, 0.03497729515375955, -1.2304488713488968, -0.2697984091223273, -0.6742376208762093, -0.47742670298440393, -1.09435134904989, -0.21598710690126358, 1.9359757192242335, -0.8312361569938919, -1.5695368006761734, 0.5267911803222245, -2.9441655441003185, -1.2339305197878292, -1.0376568666468609, 0.8262060722393365, 0.5322658133567973, -0.19965075682974934, 0.20892516882699855, 0.5662671493352419, 0.28060209286721455, -0.32276219458093586, 0.6003251921711512, -0.15433109191636152, -0.7541810891538325, 2.3118201472609794, 2.07365736284384, -0.6670362886144382, 0.09527610637698539, -0.3377113452498483, 0.8169786746145549, -1.0584558327791005, 2.662742599111812, -1.55044378100226, 0.21628664827988378, -4.534850196493934, 3.438833457000018, 0.12853867477584466, -0.23862967063600846, -0.18965477129770464, -0.2474765805517136, -0.16838424895144127, 0.11070431127150657, 0.8176014508839723, 0.5137867600431028, 0.9878083863411569, 0.8776019416325852, -2.769079487279779, 0.8500290462100699, -0.9568457520924832, -3.217943242236075, 0.2903463999269525, 0.1846165014460779, -1.75166170310154, -0.2525246848757503, -0.8274824334589749, -1.7312473788155043, -2.062891389281663, 4.365822750410812, -2.0585273929085828, -0.27856442229430506, 0.15627775626098678, 0.19470288727386664, -0.8657087955529972, -1.1504240133297974, -0.12604036224326134, -0.9106073499997313, -0.5291087453066395, 0.16159570767864126, 0.5362554793949311, 5.215428974657729, -0.13767357630732083, 1.1432477130542886, 0.6420569197186173, -1.0690933977111132, 1.5175364810517187, 0.47538296409198133, -0.5025748320555955, 0.8264913127413115, -0.48571054346787723, 2.4721447209650274, -0.40718658601389784, 0.3209952982210737, -0.37346760372653587, -1.1509788266759506, 0.7949164101835788, 1.687058532410486, -0.701101690293971, -0.4259026838600455, 1.7153861182037666, 1.476824929502824, 5.00110324996112, 1.260715142571344, 0.8403099061249398, -0.09713052921539769, 2.166160791264369, -0.8300428259013036, -0.6316407731224511, 2.0855460945932536, 0.7155952205045667, -1.878958377659576, 0.3475038788516904, 0.2357278867910428, 0.9846560671386719, -0.6199729380551277, -0.8249932559441011, 2.0835960543805325, 1.3547049447139279, -0.48067937966014596, -1.6838533761836723, 1.5686847711018042, -0.6341632312948089, 0.30274484345578956, 0.8213234473966555, 0.5850497469636097, 0.7648576705208335, -0.8564812324361996, 0.44542381225115707, -1.5913062576048536, 0.11755804792758023, -0.4318289336243531, -0.38777049531814956, -1.0792436393658205, 0.4738603414364837, -0.6001297348504614, 1.3581568487126359, 1.4096858652379332, -0.7207995339790485, -0.010624663680249587, -1.397228073514236, 1.8548962339660033, 0.7791063569083615, -1.4320497618353116, 1.1526548999828523, 0.38598273667659605, -1.394836618333489, -1.645604352955477, 0.2806574125123601, 0.7120574733262267, 1.1998053730503797, -0.08570500888692324, 1.2682374985084255, 0.898758142600567, -0.45034832885798237, 0.2769363367354654, 2.355618406567229, -0.013993098970014516, -0.48589655073829524, -0.8130548165589779, -0.45015957772549836, 1.269261154584768, 7.7856883623536755, -0.5177834491440731, -2.068859284362409, 0.5168886023034203, 1.1404604767147937, -0.4732618302986901, -0.17553844855269002, 0.17480733244177157, -0.8280813407160071, 1.0205578459823224, -0.7235555232526716, 3.723485015064845, -0.12515991546049116, 0.5374400781368824, -0.09996144495758676, -1.0997773788966216, 0.41148029575034356, -1.500711188289094, -0.35676563384607546, 0.8414675976762499, 0.770261271320156, 2.404153104812806, -1.6406553495814906, -0.07743095193529012, -0.7244664340450523, 0.13744225150719114, -0.18077207056733652, -1.6084173443374759, 0.16360550732498308, -0.44326555171697146, -1.4152945932997254, 2.2502535437911755, -0.23913850168235043, -2.9527636532417927, 0.584192467936619, 0.17995691446878656, 0.5294696972419535, -1.2371573126121238, 1.5758826871794054, -1.2232338783715186, 0.8796401397091651, 0.8133098443852245, -0.19015485957827774, -1.5083893216470836, -0.3806549007712773, -0.5687708934023274, -1.074197783557186, 0.755639006220931, 0.2599716861783811, 0.44768049829127887, 1.2937505862985839, 0.27748778203419855, 1.3332032343980325, -0.17517041282939186, -0.1537025019313401, -0.25968722352451135, 1.098721096469137, 0.08940888898171837, -3.494045478267489, -1.700966323632469, -0.5120437907889342, -1.954622916235183, -1.1477435189277838, -0.8579295520757663, 0.06600698746084069, -0.5467211284203588, -1.0243408724118046, -1.4937161729561752, -0.49293125560106676, -0.754999007616408, -1.0544792460670653, 0.4329017637315584, -1.1969370591789377, 1.0020921054138836, -0.42777288049626055, -2.1517162065018267, 0.20322998147443647, -0.3190194656033603, -0.053066139616404745, -0.5363074194106138, -0.12000076702462202, 0.6807140716528632, -0.7052397471994368, 0.6482842609913524, 0.28339816502040205, -1.2428992079166723, -2.0054532295726766, -1.8153022017044438, 0.5252409309435978, -3.3299400233182426, 3.8577374636953956, 1.1645952638284656, -1.9616208161968178, 0.8495393192001532, 0.5017944547468596, -0.027346351723427382, 0.7611979981983641, -1.2011252975930753, 4.0810753783618745, 0.6187896534264933, -0.13395594468148556, -0.6761111959611213, -0.6535022583645623, 0.018588745405194732, 2.163364195623931, 1.5952349884906014, -0.3651426378230801, 0.1550742876162009, -0.7020282266684619, 0.06979742163220273, -2.088309363187901, 1.2114058115027349, 1.0412851731990456, -0.7195726099905132, -1.6679516772965994, 0.6346679337152631, -1.2326675591652405, -0.36821311042422517, -1.109019113205997, 1.487398028366034, -0.30276835798294244, 0.7997796678829637, -0.2768893335605116, 1.204570270629539, -0.48732958960212236, -0.2992871096491135, 0.08879067822259065, -1.1771814000336764, 0.010196493831428035, 3.0316495027633565, -0.3710594079647338, 0.307369231420942, -0.8467458077280035, 4.498029089420109, -0.029899687877231226, 0.23664002703873638, -0.5551849559779303, 1.628695026424122, -1.5642911792734917, -0.7767240876844762, 0.5251882982275279, -0.04225147738157621, -2.6521069574177014, 0.859009092921395, 0.9913609191521385, 0.8929309858539142, -0.35899321977843796, -1.3546045421259958, -0.9510339667317051, -1.2968805247001414, -0.5160797909174535, 0.5039475810015602, 0.5792701028826912, -0.6902145512023068, -0.47385913410624736, -1.9710760979750435, -1.1366140906542317, -1.3502655455781263, -2.922134397256592, -0.830049059184306, -1.4849631470490474, 0.9085056661704152, 0.33689565532457977, 0.7415055177565019, -0.5658782056664349, 0.034517544520584316, -1.7968639568314757, -3.0222890840388272, 1.0812013788287738, -1.0963646913665033, -0.6223652009161585, 0.9885347043451621, 0.6149988925572291, -2.28864146569184, -1.55963689245591, 0.2314352457656032, -1.50480768962282, 0.4045776251987034, -4.845841713342705, -2.5259912537458864, -0.9903633141664658, -1.310322296470663, 1.2823873670166488, -1.5041729171516334, -0.6609988725289057, 1.1104373179382627, -3.13951051978556, 0.3383353894135874, -0.3510687119039846, 0.8828524241393847, -0.3027698135530533, -1.9828196133761504, -1.754742986648646, -1.0744336791993605, -1.6706982489915518, -0.8500682196501275, -0.9677911047405833, 0.4101854743312563, -2.0805793343532724, -0.3309272989149484, -1.122503998117379, -1.119988723900338, -0.42255158825331707, -1.4316162768934206, -3.1968135010874734, -0.8605193301609166, 0.4188451648451197, -2.256864054178579, -0.21623781815554555, -1.295134757115616, -2.190999711112522, -0.16735644375408074, -0.5009003486598117, -0.6084234186914583, -0.5667428280209307, 0.060839513747074296, 3.3089382387570763, -1.7685570833450202, 0.17940121077705623, -1.6968713015468289, 0.29145109860301327, -0.10201859943269986, -0.12567942262861306, -1.5352118185419454, -0.8466056906277546, -0.23488329210562917, 0.0806380417328897, -0.8946671858925185, 0.3177951078911824, 1.8877715717731467, -0.7077886437399742, -2.2772433138626975, -2.9065776539309067, -1.6445523715780845, -0.4443894331157483], \"y\": [-1.0812320767829444, -1.0428773237751716, -0.5006107207204236, 0.6796140079064493, -1.1546665317915281, 0.003560089042262603, -1.1810620152099858, -1.473088713118192, 0.2648042302379424, 1.4345189245746117, 1.7684693128250522, -1.933626310922223, 0.11652665159554527, -1.9714655763430837, 0.7254889547155297, 0.24482013471019884, 0.33953488729601666, 0.6736944828416327, -1.0994153092347594, -2.260791600724203, 0.9790518744516947, -0.8128138458693625, 0.22621421657839497, -0.050153565354655795, -0.34049454111263333, -0.25594730759285655, 1.2761415004450356, 0.7810976475111405, -1.2644682263238454, -1.0712152923653107, -2.1955097810412814, 0.7455274709225596, 0.49342146319550334, 0.48525994453043736, 0.01473226438588162, 0.3982394894871201, -0.22149639754817535, 1.4877612698177034, -1.3677481544043861, 0.554121771469259, 0.858773334284479, -1.833840241813982, -0.8799299923266656, -0.5221919691771488, -1.0138725776208495, 0.11273804506991829, -0.24390282918993286, -0.5405691292431378, 0.6547302895024755, 0.4889678003694454, -0.9356968741150881, -0.7251380743888063, 0.6336755461354923, 2.5348309182587303, -1.857922311843891, 0.8477961934958778, -0.12003643410135603, 0.7585062244514551, 1.044779927158, -0.8235773172789379, 1.6621787567664055, -0.6213309895436032, -0.9615002295342239, -0.12952055718869146, 0.39956378873980447, -1.7224357721380068, 0.1656338987828124, 2.0524371726529287, -0.9761511478428813, -0.6972383873518715, 1.9793066340743386, -0.4121568653536086, -1.3905413327434306, -1.4461951732236522, -1.6017673179029497, -1.7549217948435762, 1.3964880374135065, 0.6362533586886459, -1.7106231327438262, -0.14689091424118422, 0.2839271870826808, 1.2295229557010485, 0.11015906307342352, 0.5397893665870911, 0.19005189612518564, 0.48450281096585035, 0.7293124898452333, 0.9600227352785786, -0.7309430909662608, -0.7158374440264995, -1.0403272878959173, -2.015723257209576, -0.9585984272810859, 2.799739662415211, 0.7548010118983313, 2.287960701600709, 1.9791826995367656, 0.9577867685546757, -1.7490147201597293, 0.962143229921133, -0.02485734385494894, -0.053636665270576055, -0.11755114306402421, 0.5132344376385272, -0.15637352575953864, 1.1599747565314904, -0.5555954714187954, 2.916335260758592, -1.157476782357246, -1.4052090878219725, 0.5850924103671318, -2.526523908769783, 0.7338504685766967, 1.020902889561666, -3.314995844525549, -0.5899306515783663, 0.06493152707489257, 0.07371863220730764, -2.2326742910669903, 0.29085569211729034, -0.7204722661338747, -0.3746787206766311, 0.14991606205331223, -0.4842560304549898, -0.577282010638417, -0.3327839491983672, 0.31221578351434576, -1.2253516632017871, -1.3030029885303211, -0.42474587924159657, 0.2651734159072993, -0.392268428006199, 3.2352057071695803, 0.9494777488963517, -1.6800395970582358, 0.028144354107325794, 0.16305961737405034, -0.6688522872903088, 0.08875974436290394, -0.8536285338046874, -1.1388848360335706, 2.3032571519107217, -0.9176150445536723, 0.6877986501360865, 0.4907080822583921, 0.2954135064539691, 1.4961349259739876, -1.7990281788269502, 1.9774665541683758, -1.170512696142737, -0.8578727761104352, 0.42350708726492253, 0.7189656345188589, 0.3130388889566383, 0.13717980723484058, 1.2139327811197953, -0.3301211056818216, 1.6403117029537346, 0.39662512567842506, -1.231504427554052, 0.25403401510209317, 4.741672494943548, 1.1333197273272888, -2.478556219710261, -1.0403591416673383, 0.2580871865521902, -0.826651020470745, -0.5947840935926715, 0.3604175487540119, 1.1310595246294637, -1.268420431060052, -0.6125810865218769, -0.2551995125705114, -0.07055866654518661, 0.6710843997020577, 0.7236448570124234, 1.420234865654237, 0.5029664227515838, 0.36867700078102317, -0.4821501140735135, 3.317953147038807, -0.9270405229486021, 1.116966019088368, 2.229045425172129, 2.4525380745313274, 0.4471081482793094, -1.3636936118016802, 0.6391646931261298, -0.14905153290823303, 2.5659423244964947, -0.1980316159908195, 1.4099672324187724, -1.3227085036769815, -0.4643834268273042, -0.7340440085481412, 0.05856816715416825, -0.13251161134810593, -0.40094942715494586, -1.2591025957615536, -0.5290270026883769, 0.007423233085055748, 1.6574468906424333, 0.7126426596960261, -0.29138726998979925, 1.5621476286738154, -0.08936919228906555, 0.4388206815118422, 1.5499121884117584, -1.0383583979916151, -2.3841646091874416, 2.3968188340445993, 2.950004158307556, -0.5639310511380512, 1.3504067764730165, 2.580040780415179, -1.0932768439805676, -1.4436758936008165, 0.6249471731594961, 0.5076929132353915, -1.106182335403017, 1.5281206021126728, -0.5796765228458443, 5.940397119243116, 0.065408926923926, -2.496693640056175, 2.099622079194873, 1.8745294335466378, -1.5721511370250982, -1.7906808949637976, 0.27553192156808054, 2.1942845520982224, -0.977173844345206, -0.7739729517055801, 0.20281060132603793, -2.652348593642209, 0.6324473948877094, 0.7010284119527099, 2.982190953566555, 4.263818363539708, -0.27084675580631135, 0.48403287577777077, -1.84904496800752, 1.894632763103431, -0.6970191486793503, 0.888625393477254, 2.270795652312432, -1.6252822430263045, 0.7419403178931187, 2.460098867056735, 1.3980718807485457, -0.8997964664961726, -1.3154912274885404, -1.4886281463921704, 1.8849608553213288, 1.44720115120859, 1.5794166926886817, -0.8445489042444309, -0.6621449050713759, -0.40086800099257625, 0.4813734597210413, -0.9611752196136464, 2.221682410206096, -1.4148417059023426, 1.2102697353780163, 0.5018848918752342, -0.9307158469713268, -1.0385107401004483, 0.7364679798244578, 1.7451594301488613, -0.6420072406474603, -2.245970188702568, 0.9784170643768594, -0.5960433812902991, -0.5285548192036471, 1.2955753612499343, -1.6255652523549864, -1.6486794551631587, -0.5125959726943896, 2.9899217685785193, -2.1420414343990215, 1.4177801817280467, 3.135945688879767, -1.3216178444967293, -0.690548073043454, -1.0994713883352114, 0.13049130509378268, -0.069141400367868, 0.2685251451227438, -0.16159141863295484, -1.2197825683715608, -1.4262876603837862, -0.4897170308506099, -0.9966108637467406, 0.8428803685693105, 0.5024821773244655, -1.396983280596999, -0.26109771261337894, 0.8072158865285449, -0.23233728305479615, 4.818605935270938, -1.5937475798234257, -0.9970640406645931, 2.145222567013115, -0.14478248552719677, 0.3370506637983491, -0.2086729430029977, 0.4999882647917109, 1.1442703091569328, -1.6186831124222287, 2.619612168996999, 0.5040393814561461, -0.7068929182875825, -0.7942972714099199, 0.47808061558384557, 1.7460240434440395, 0.6582987174415346, 0.4485655806374119, 0.4100467277712088, 3.8348317467242015, -1.820121523996956, -0.17578970830642346, 0.6698157472475674, 0.2653537035983411, -0.011471799984730139, -1.3738139476853923, 0.09360858441812721, -1.7722655473108029, -0.5997309841506224, 0.6722968038629084, -0.7243545529420239, -0.6363833816301946, 0.07306377273689696, 0.8021303441111909, -1.5496801832327611, 0.26698551731346565, -1.5215887097232292, -1.7097241597533022, -0.2223293860754576, 3.029575980659509, -1.4870345519120807, 0.39384826465045153, 0.8833554077566854, -0.8295667558974248, -0.40902387529352024, 0.26106836230698255, -0.025467620713952505, -0.7901664307831626, 0.9597412153516739, -1.2495074346598547, -0.4292628746932794, 1.229096535602142, -0.696486094199359, -1.4702115425020341, -2.337231742107573, 0.37107329962278823, 0.1644942067646561, 1.6980389388747645, 0.4051651229329425, 2.472156565764612, 0.6520225091427378, 1.2415725036359004, 0.5247409802824319, 0.09372202068805592, 5.796422836043358, 0.6565778893803726, -1.9870147978210726, 2.111259785871024, 0.4824523201011948, 0.7129054883865861, 0.6197055087942352, -0.29201729748070043, -1.4168450650881392, -1.7795433752123597, 1.4674617075926628, -0.9269813476878039, 1.774360989461639, -1.0295690525524206, 2.2445738734036134, 1.7342246058750577, 1.0884330051686038, -0.4867253669260349, -2.071404563873189, -0.04934791400822647, 2.1207523170565614, -1.3549552396401823, 2.042908068887685, -0.11182296303512851, 0.18951582237016937, 1.6924996706299755, -1.503483415543273, -0.5433102206604205, -0.24327265149949892, 0.5004272721264933, -0.635786724150533, 0.8504456116215839, 0.7034987757213822, -3.755247839070377, 1.4725115077112265, 0.17429117502883024, -3.393800547065267, -3.7654244147116254, -1.1721515049612756, 0.3486710481981743, -0.2783664486439262, -1.7663609832877596, -0.6076318195675696, 0.0288793766035862, 1.0784230967744886, -0.17297609608783185, 0.6844367548886601, 2.8354770202494257, -0.42512732375106443, -0.4342442567229694, 0.7513920526718113, 1.8466533768409181, 0.5806461099198341, -1.621372349311269, -1.5582730572924184, -1.1677722730529103, -0.166476255340028, 0.44832022129195925, -0.8096955704184193, -1.3977769822230492, -2.0107093474578286, 0.3875779334986168, -1.9135557279419635, 0.23360502566316108, 2.762665904396421, -2.2789223440201716, 0.8128530977193577, 1.8414313050849878, -0.5355065967639793, 0.139494463262564, 2.412718897536936, 0.7383652349883942, -1.8393369263618127, -1.6611271899851625, 1.4240817784966804, -1.2553914338087238, -1.0142703121346246, 0.4721447848282136, 1.3749913471760142, -1.2030356175828638, -1.7553828255288628, 0.7131836741933781, -2.8179382761988774, -0.549305341946568, -0.9791961403635423, -0.22898407999439735, -1.6251471300537204, 0.23266814447861522, -0.6188725407059411, 0.0022910416595501174, 1.0767226169138788, -2.1204295567447695, -1.0211263807407018, 1.026731348702651, 0.1705162768617717, 1.3857138069557688, 1.5557478583553392, -0.011171456667330512, -1.2143829766985375, -1.5657082111997507, -2.5017477737285745, -0.5542553093309428, -1.2346123788412406, -1.0556958673540093, -0.1687012529514353, -1.1221878699760168, -0.9953744552601905, 0.09466314510401613, 0.35469361787415105, -0.8538444022044772, -0.32517260684783017, -0.16198289495538648, 1.0102097918883903, -1.5437840313069826, -1.5096109220218972, -0.6536067183892288, -1.7239806303488778, 0.48796792751340634, -1.4258424420567748, 0.11170773477274165, 0.49235892342684684, -0.30221571708038636, -0.7826877287506516, -0.8090441878220611, -0.8245435075337156, -0.2675217000866563, -1.5307668704683004, -1.7645199645215706, 0.4966062373356978, 0.2649622104964481, -0.7025832852763914, -0.774558507613635, -1.0648931715599508, 1.5140654910817979], \"z\": [0.43354424473347686, 0.6989076606090538, 0.17652282531287478, 2.869018402448533, 0.6716549120559692, -0.6326327400198102, -0.6012401867960198, 1.0953870002255532, -0.47931820651422835, -1.1157805305340138, 0.3530863423492219, -0.2579968388628768, -0.8715618381843977, 2.8826898325199255, -1.1503566776272471, -0.41502611945931556, -0.6945830739771549, -1.2402057228270933, -0.39671201430221736, 2.2030721969004383, -0.4311977116386074, -0.8729162389428563, -0.4473881219187245, -1.0417685860144195, -0.7694305463487431, -0.6576395168140249, 1.262887965075688, -0.6765600601562278, -0.10915797628098316, 0.07401418605348806, -0.26490768248608687, -0.4285626217832736, 0.4862106786673432, 0.6692246169464733, 1.9204180438625353, -0.17232008649354694, -0.6500821259196133, 3.0498811144165203, 0.3026638084409261, 3.7464710715311136, -0.0866264127967942, 3.0604950537940754, 0.21938581842098256, 0.1880606282177731, 0.7379556479644489, 0.4465286363156654, -0.3904362217264699, -0.16951573436761952, 0.5491142579269769, 0.92366680239053, -0.014423209283224443, -0.3804635393545522, -0.01026489081343837, -0.9157065681321837, 0.9451410553412105, -0.3394502779241413, 0.03736021092713877, 0.14275812604698815, 0.3354161865115908, 0.2827007344801442, 2.2521267119030144, -0.517570853492305, 0.19707665361886811, -0.6976551161454768, -0.2563546773279121, 0.80695157213638, 0.21707518364290676, 0.6326855649244763, -0.6802384835870062, 0.902043403199707, 0.6539906891800288, 0.03243571607199613, 0.47735824548596156, -0.45273529842047605, -0.4265458265722038, 0.10498010450888738, 0.31457542039144687, -0.9001916947113984, -0.06249325444363753, -0.0784396127865132, -1.0977582244221025, -0.8196433883458822, 0.10643912220775857, -1.0899014389421304, -0.1419509666421632, 0.4462660201230762, 0.8536692433423806, -1.3890600110321754, -0.9317138585051402, 1.9330834445186984, -0.6341254400379985, 4.291041178131457, 1.7096296867861758, -0.694427189861519, -1.0791108803143725, -2.0030819469985754, -1.8969346723582337, -1.0307726350474624, -0.11109843792592573, 1.0309992526136114, -0.6589806087640742, -0.6360764412649749, 0.2751138448117732, -0.755924972235096, 1.1224372674228396, 0.9494964652824535, 1.9266509827470142, 0.7984375093140169, 0.6479124103874369, -0.012553337855206095, -0.11683812062503812, 0.26074408011053324, -0.09749835951967273, 1.2844704527054969, 0.40341576828018516, -0.4645606973734253, 0.722847922323835, -1.0011329436746121, 0.7348437497739169, -0.7015975314431968, -0.3002520438009384, 0.12252810538255984, -0.24543699768393298, -0.05834476433909723, -1.094783233528188, -1.0404805840868123, 1.665226198904138, -0.12074202083852757, 0.745917944929727, -0.33552602023245115, 0.11948236877324912, 1.869839747979532, 1.7438165577166262, -0.591937608854233, -0.5504150054675566, -1.2810095033135749, 0.0797863186518755, 1.4956194747733957, -0.7291839343587158, -0.7759434317362695, 0.09443030467755553, -1.6896691325784718, -1.0032580977869898, -0.3808437872560394, -0.8114062045556464, -0.9031496492213886, 9.887671017840972, 2.7240371233593064, -1.8473620327896898, -0.44715502110719463, 0.5136023518367223, -1.325418225537618, -0.9320037261132238, -0.24148495047343563, -0.4324068340905866, -0.5653693504898318, 0.26024799781539, -1.5101219296563815, 2.409828278349459, 0.0442561773845631, -0.2111575962698323, 10.333444427570853, -0.8245236955924883, 1.0023852387806051, -0.46803791393025546, -1.4305110340995202, -0.39511211158830317, -0.5383104861808272, -1.205203825572095, -1.0150374492869068, -0.7006297508506024, -0.9655991255599615, -0.09396776450966787, 0.18154032711187681, -1.5024720750042067, -1.076482808334507, 0.2766494800439804, -1.3584532174891295, -0.8805547896353652, -0.6255421740960104, -0.18084924520421725, 3.594736970802295, -1.4156017535908967, -2.0771376355927695, -1.5812158055856136, 0.1267024295179386, 0.766863647422675, -1.0858645228814126, -0.3260296690894954, 0.3100081787250226, -0.184294399606693, -0.6493842188046276, -0.332389895468986, 0.18459557197665027, -0.46005588377379797, -0.24308135813179638, 0.8800322420836367, 0.18680137559372414, 0.006222431026252038, -0.9727689008177136, -0.6403383823131109, -0.15152307616822366, 1.1688179443856177, 0.5475661752701134, -1.5878998664600785, -0.270157376545215, 0.410420696391053, 1.3092011776339822, -0.5472246793413749, 0.31663687804333257, -1.862551580873608, 3.506211968679004, -0.2361403797010943, -0.9063020332809808, -1.6201543251906105, -0.47550798327628946, -0.3654326514447377, -0.48898543409491935, -0.14953101408510658, -0.5249017375137311, 3.151850212455295, 0.33777853017433357, 6.403769018047349, 0.20963136073244235, -0.030453167341300654, -1.4013552116571517, -1.5079810149835389, 0.19654692489866699, 0.8349292298749975, -0.2947012542078458, -1.8142438968082006, -0.44521266936365395, 0.3907108781307841, -0.9462770983538329, 0.4995108544415558, -0.5559010569751736, -1.3771447546246243, 0.2569509142855108, 2.5490494274042543, 0.3052175655249714, -1.0218851189008715, -0.6474984042186938, -1.404672195909608, 0.2514015932338017, 0.7436503407855993, -1.7227063091089088, 0.6015119276603929, 2.034340420029461, -1.4618923627668396, -0.2170016244353398, 0.4069287451564514, -0.324190295284922, 1.8103323796615354, -0.765070836657272, 1.8437945253159107, -0.8314221063164404, 1.5401320342474132, 0.14579531240403973, -1.0546640220430197, 0.5080769219399072, -0.11806219978935892, -1.0207109184027465, 3.2760816081157036, -1.5136480417055762, 0.9543890898361881, 1.6368427560162493, -0.823745926971428, -1.634766417264819, -1.439712762196265, -0.6289356663606354, 2.9275900009242157, 0.7346638002230227, -0.46190446071621954, 3.6458003446738756, 0.5267448340662428, -0.6104097653033499, -0.11969820774912575, -0.34942793279404905, -0.5622927685394087, -0.026667850494609173, -0.26668808930340365, 0.6744807161259986, 0.6727291309214556, 0.7359547550187389, -0.3802572519335547, 1.258290849882095, 0.5359454827658002, -1.279103486440062, 0.47005828003295785, -0.09404010064885207, -0.5164494828115457, 0.4716464551653914, -0.1535837800553657, -0.04019245349473858, -0.2161619167483986, 0.21539921541072693, -0.5650251556732483, 0.5133666612398023, 1.2486188005620658, 4.211515169589558, 2.0774636349995683, -0.49670168976553064, -1.649248317840643, -0.41754353099916963, -1.5001794382190505, -0.5254352790640828, 1.2483755012577369, -0.5017752002042486, -0.36501469203042747, -1.4783581701698252, -1.160950857673909, 0.0007084915209189525, 0.033135493788223384, -0.5237667343740988, -0.9559281276307501, -1.2642918069526925, -0.3301423962303768, 0.6385462155072118, 0.6005966578836193, -0.43832340998715535, 2.915052585314262, 0.7021448209511904, -0.7530290530911754, 0.6490136256845157, -0.2979983974943253, -0.479235821741868, -0.405720944708559, 0.017424654043548145, -0.7544781541778217, 0.04849805249806505, 0.3219794087574954, -0.6051532702087878, 1.2716333577990648, -0.4949612956469277, -0.2831526291065666, 0.5837849122371139, 0.22609820493301416, -0.7079042496442818, 0.4647055934381648, -0.34313977679771274, 0.08702132674370135, -0.16711475201034878, -0.28393228421531225, -0.2721660430177225, -0.7892527370109454, -0.2555284785592346, -0.8668496223310729, -0.8825622919232451, -0.6451945597726608, 0.5608961624967683, -0.9754152001242163, -0.17816841044270346, 2.820355263927372, 0.7256251392799807, -0.11379793596115709, 0.18626444761769298, -0.8267850588189362, -0.8842936569487604, -1.710536983251369, 1.8625536715981095, 2.0231854187013516, 0.09126395906639709, -0.8323711041868681, 4.2239763475483985, -0.18935617306768743, 0.7789305568555492, -0.5726855446355262, -0.7904846848100514, 0.20416543716134114, -0.22160898810838364, 0.0008338010714556651, -0.6304895362012232, 0.7944894712590715, -0.9168599684383257, -0.7767397194990733, 0.22021683932235603, 1.3984019432311543, 0.589249523918354, 0.7476374202047937, -1.3892015877296366, -0.2021043315023391, 1.2059800944765326, -0.7753128749859404, -1.507406138622511, -0.023381809967737015, -1.6088197491354088, -0.757399273763508, 0.31928742823699413, -1.6866992951426862, -0.4206059033600286, -0.20885204678247046, -0.8846944098918408, -0.7340878228204027, 0.2680551833596643, 0.3267145496928787, 1.6707172194961295, 0.622102705949886, -1.5819060789581638, -0.2658625213118678, 2.438103592360628, 0.993227112188914, -0.37282007515369914, 0.41555147200185827, -0.11652833342904402, -0.21535329826371283, 0.5705685511549881, -0.8084087961060696, 0.912609896259148, -1.0149857111427798, 0.23594650055253097, -0.6554753889747783, -0.24250958513488322, 0.6614041422170535, -1.5627475993991295, -0.26208577298287683, -0.7676902219843493, -0.03409983303852896, -0.27296389900190776, -0.37710269305949706, 0.8357200135467333, 0.6813130466757454, -0.18615516856952782, -0.336927890451009, -0.4471936931404229, -0.8590638394038345, -0.4594616213156456, -0.96186613967127, -2.0227097881653275, 0.09212569305999266, 4.339094286398405, -0.05378440356732967, -0.8100904580179324, -0.45772936466458386, -2.011239734505142, -0.7735765417981223, 0.04139247398587251, 0.32834972615658636, -0.7238533503332418, -0.5194318225552264, -0.482580611390613, -0.9298213194357048, -0.6218332324467302, 0.10815606605496621, -0.23415402941484748, -0.6123639586178412, 0.16558044028230384, -0.6778095576558032, 1.3108518800119684, 0.7778090491388382, -0.4975609167982213, -1.2197583786577038, -0.2250792833804561, -0.7431213267463702, 1.7050563244907355, 0.02909691173564733, -0.7104304847308496, -0.0642927591171738, -0.7286071738345898, -1.14468646319735, -1.2165148528048155, -0.47132661644176166, -0.0022131186087689693, -0.6311864576696684, 1.0654249124622102, -0.18433587700207005, -0.47887816806952055, 0.047844952453754704, -1.1046005687273495, -0.6725696558194361, -0.17369804525970325, -0.17438222628079633, -0.7594934805007693, 0.4258242069594456, -0.8330202168457472, -0.1825614877320979, 0.35806404936249614, -0.37078403723160247, 0.10360588159184646, -0.9231622203567647, 0.5764699900899992, -1.5553449442720126, -0.8901060829577186, -0.6434221950937099, -1.1952274542636494, -0.7067348798829108, -0.5427604244529157, -0.4533818156811409, -0.5891786432822487, -0.6952111520082742, -0.39444611576306127, -0.4478143940008704, -0.9806761881078023, -1.6388373140836991, -0.16730148913142306, -0.0393730644087238, 0.41553366064230196, -0.1269605983781601]}],\n",
       "                        {\"coloraxis\": {\"colorbar\": {\"title\": {\"text\": \"predictions\"}}, \"colorscale\": [[0.0, \"#0d0887\"], [0.1111111111111111, \"#46039f\"], [0.2222222222222222, \"#7201a8\"], [0.3333333333333333, \"#9c179e\"], [0.4444444444444444, \"#bd3786\"], [0.5555555555555556, \"#d8576b\"], [0.6666666666666666, \"#ed7953\"], [0.7777777777777778, \"#fb9f3a\"], [0.8888888888888888, \"#fdca26\"], [1.0, \"#f0f921\"]]}, \"height\": 600, \"legend\": {\"tracegroupgap\": 0}, \"margin\": {\"t\": 60}, \"scene\": {\"domain\": {\"x\": [0.0, 0.98], \"y\": [0.0, 1.0]}, \"xaxis\": {\"title\": {\"text\": \"pc1\"}}, \"yaxis\": {\"title\": {\"text\": \"pc2\"}}, \"zaxis\": {\"title\": {\"text\": \"pc3\"}}}, \"template\": {\"data\": {\"bar\": [{\"error_x\": {\"color\": \"#2a3f5f\"}, \"error_y\": {\"color\": \"#2a3f5f\"}, \"marker\": {\"line\": {\"color\": \"#E5ECF6\", \"width\": 0.5}}, \"type\": \"bar\"}], \"barpolar\": [{\"marker\": {\"line\": {\"color\": \"#E5ECF6\", \"width\": 0.5}}, \"type\": \"barpolar\"}], \"carpet\": [{\"aaxis\": {\"endlinecolor\": \"#2a3f5f\", \"gridcolor\": \"white\", \"linecolor\": \"white\", \"minorgridcolor\": \"white\", \"startlinecolor\": \"#2a3f5f\"}, \"baxis\": {\"endlinecolor\": \"#2a3f5f\", \"gridcolor\": \"white\", \"linecolor\": \"white\", \"minorgridcolor\": \"white\", \"startlinecolor\": \"#2a3f5f\"}, \"type\": \"carpet\"}], \"choropleth\": [{\"colorbar\": {\"outlinewidth\": 0, \"ticks\": \"\"}, \"type\": \"choropleth\"}], \"contour\": [{\"colorbar\": {\"outlinewidth\": 0, \"ticks\": \"\"}, \"colorscale\": [[0.0, \"#0d0887\"], [0.1111111111111111, \"#46039f\"], [0.2222222222222222, \"#7201a8\"], [0.3333333333333333, \"#9c179e\"], [0.4444444444444444, \"#bd3786\"], [0.5555555555555556, \"#d8576b\"], [0.6666666666666666, \"#ed7953\"], [0.7777777777777778, \"#fb9f3a\"], [0.8888888888888888, \"#fdca26\"], [1.0, \"#f0f921\"]], \"type\": \"contour\"}], \"contourcarpet\": [{\"colorbar\": {\"outlinewidth\": 0, \"ticks\": \"\"}, \"type\": \"contourcarpet\"}], \"heatmap\": [{\"colorbar\": {\"outlinewidth\": 0, \"ticks\": \"\"}, \"colorscale\": [[0.0, \"#0d0887\"], [0.1111111111111111, \"#46039f\"], [0.2222222222222222, \"#7201a8\"], [0.3333333333333333, \"#9c179e\"], [0.4444444444444444, \"#bd3786\"], [0.5555555555555556, \"#d8576b\"], [0.6666666666666666, \"#ed7953\"], [0.7777777777777778, \"#fb9f3a\"], [0.8888888888888888, \"#fdca26\"], [1.0, \"#f0f921\"]], \"type\": \"heatmap\"}], \"heatmapgl\": [{\"colorbar\": {\"outlinewidth\": 0, \"ticks\": \"\"}, \"colorscale\": [[0.0, \"#0d0887\"], [0.1111111111111111, \"#46039f\"], [0.2222222222222222, \"#7201a8\"], [0.3333333333333333, \"#9c179e\"], [0.4444444444444444, \"#bd3786\"], [0.5555555555555556, \"#d8576b\"], [0.6666666666666666, \"#ed7953\"], [0.7777777777777778, \"#fb9f3a\"], [0.8888888888888888, \"#fdca26\"], [1.0, \"#f0f921\"]], \"type\": \"heatmapgl\"}], \"histogram\": [{\"marker\": {\"colorbar\": {\"outlinewidth\": 0, \"ticks\": \"\"}}, \"type\": \"histogram\"}], \"histogram2d\": [{\"colorbar\": {\"outlinewidth\": 0, \"ticks\": \"\"}, \"colorscale\": [[0.0, \"#0d0887\"], [0.1111111111111111, \"#46039f\"], [0.2222222222222222, \"#7201a8\"], [0.3333333333333333, \"#9c179e\"], [0.4444444444444444, \"#bd3786\"], [0.5555555555555556, \"#d8576b\"], [0.6666666666666666, \"#ed7953\"], [0.7777777777777778, \"#fb9f3a\"], [0.8888888888888888, \"#fdca26\"], [1.0, \"#f0f921\"]], \"type\": \"histogram2d\"}], \"histogram2dcontour\": [{\"colorbar\": {\"outlinewidth\": 0, \"ticks\": \"\"}, \"colorscale\": [[0.0, \"#0d0887\"], [0.1111111111111111, \"#46039f\"], [0.2222222222222222, \"#7201a8\"], [0.3333333333333333, \"#9c179e\"], [0.4444444444444444, \"#bd3786\"], [0.5555555555555556, \"#d8576b\"], [0.6666666666666666, \"#ed7953\"], [0.7777777777777778, \"#fb9f3a\"], [0.8888888888888888, \"#fdca26\"], [1.0, \"#f0f921\"]], \"type\": \"histogram2dcontour\"}], \"mesh3d\": [{\"colorbar\": {\"outlinewidth\": 0, \"ticks\": \"\"}, \"type\": \"mesh3d\"}], \"parcoords\": [{\"line\": {\"colorbar\": {\"outlinewidth\": 0, \"ticks\": \"\"}}, \"type\": \"parcoords\"}], \"scatter\": [{\"marker\": {\"colorbar\": {\"outlinewidth\": 0, \"ticks\": \"\"}}, \"type\": \"scatter\"}], \"scatter3d\": [{\"line\": {\"colorbar\": {\"outlinewidth\": 0, \"ticks\": \"\"}}, \"marker\": {\"colorbar\": {\"outlinewidth\": 0, \"ticks\": \"\"}}, \"type\": \"scatter3d\"}], \"scattercarpet\": [{\"marker\": {\"colorbar\": {\"outlinewidth\": 0, \"ticks\": \"\"}}, \"type\": \"scattercarpet\"}], \"scattergeo\": [{\"marker\": {\"colorbar\": {\"outlinewidth\": 0, \"ticks\": \"\"}}, \"type\": \"scattergeo\"}], \"scattergl\": [{\"marker\": {\"colorbar\": {\"outlinewidth\": 0, \"ticks\": \"\"}}, \"type\": \"scattergl\"}], \"scattermapbox\": [{\"marker\": {\"colorbar\": {\"outlinewidth\": 0, \"ticks\": \"\"}}, \"type\": \"scattermapbox\"}], \"scatterpolar\": [{\"marker\": {\"colorbar\": {\"outlinewidth\": 0, \"ticks\": \"\"}}, \"type\": \"scatterpolar\"}], \"scatterpolargl\": [{\"marker\": {\"colorbar\": {\"outlinewidth\": 0, \"ticks\": \"\"}}, \"type\": \"scatterpolargl\"}], \"scatterternary\": [{\"marker\": {\"colorbar\": {\"outlinewidth\": 0, \"ticks\": \"\"}}, \"type\": \"scatterternary\"}], \"surface\": [{\"colorbar\": {\"outlinewidth\": 0, \"ticks\": \"\"}, \"colorscale\": [[0.0, \"#0d0887\"], [0.1111111111111111, \"#46039f\"], [0.2222222222222222, \"#7201a8\"], [0.3333333333333333, \"#9c179e\"], [0.4444444444444444, \"#bd3786\"], [0.5555555555555556, \"#d8576b\"], [0.6666666666666666, \"#ed7953\"], [0.7777777777777778, \"#fb9f3a\"], [0.8888888888888888, \"#fdca26\"], [1.0, \"#f0f921\"]], \"type\": \"surface\"}], \"table\": [{\"cells\": {\"fill\": {\"color\": \"#EBF0F8\"}, \"line\": {\"color\": \"white\"}}, \"header\": {\"fill\": {\"color\": \"#C8D4E3\"}, \"line\": {\"color\": \"white\"}}, \"type\": \"table\"}]}, \"layout\": {\"annotationdefaults\": {\"arrowcolor\": \"#2a3f5f\", \"arrowhead\": 0, \"arrowwidth\": 1}, \"colorscale\": {\"diverging\": [[0, \"#8e0152\"], [0.1, \"#c51b7d\"], [0.2, \"#de77ae\"], [0.3, \"#f1b6da\"], [0.4, \"#fde0ef\"], [0.5, \"#f7f7f7\"], [0.6, \"#e6f5d0\"], [0.7, \"#b8e186\"], [0.8, \"#7fbc41\"], [0.9, \"#4d9221\"], [1, \"#276419\"]], \"sequential\": [[0.0, \"#0d0887\"], [0.1111111111111111, \"#46039f\"], [0.2222222222222222, \"#7201a8\"], [0.3333333333333333, \"#9c179e\"], [0.4444444444444444, \"#bd3786\"], [0.5555555555555556, \"#d8576b\"], [0.6666666666666666, \"#ed7953\"], [0.7777777777777778, \"#fb9f3a\"], [0.8888888888888888, \"#fdca26\"], [1.0, \"#f0f921\"]], \"sequentialminus\": [[0.0, \"#0d0887\"], [0.1111111111111111, \"#46039f\"], [0.2222222222222222, \"#7201a8\"], [0.3333333333333333, \"#9c179e\"], [0.4444444444444444, \"#bd3786\"], [0.5555555555555556, \"#d8576b\"], [0.6666666666666666, \"#ed7953\"], [0.7777777777777778, \"#fb9f3a\"], [0.8888888888888888, \"#fdca26\"], [1.0, \"#f0f921\"]]}, \"colorway\": [\"#636efa\", \"#EF553B\", \"#00cc96\", \"#ab63fa\", \"#FFA15A\", \"#19d3f3\", \"#FF6692\", \"#B6E880\", \"#FF97FF\", \"#FECB52\"], \"font\": {\"color\": \"#2a3f5f\"}, \"geo\": {\"bgcolor\": \"white\", \"lakecolor\": \"white\", \"landcolor\": \"#E5ECF6\", \"showlakes\": true, \"showland\": true, \"subunitcolor\": \"white\"}, \"hoverlabel\": {\"align\": \"left\"}, \"hovermode\": \"closest\", \"mapbox\": {\"style\": \"light\"}, \"paper_bgcolor\": \"white\", \"plot_bgcolor\": \"#E5ECF6\", \"polar\": {\"angularaxis\": {\"gridcolor\": \"white\", \"linecolor\": \"white\", \"ticks\": \"\"}, \"bgcolor\": \"#E5ECF6\", \"radialaxis\": {\"gridcolor\": \"white\", \"linecolor\": \"white\", \"ticks\": \"\"}}, \"scene\": {\"xaxis\": {\"backgroundcolor\": \"#E5ECF6\", \"gridcolor\": \"white\", \"gridwidth\": 2, \"linecolor\": \"white\", \"showbackground\": true, \"ticks\": \"\", \"zerolinecolor\": \"white\"}, \"yaxis\": {\"backgroundcolor\": \"#E5ECF6\", \"gridcolor\": \"white\", \"gridwidth\": 2, \"linecolor\": \"white\", \"showbackground\": true, \"ticks\": \"\", \"zerolinecolor\": \"white\"}, \"zaxis\": {\"backgroundcolor\": \"#E5ECF6\", \"gridcolor\": \"white\", \"gridwidth\": 2, \"linecolor\": \"white\", \"showbackground\": true, \"ticks\": \"\", \"zerolinecolor\": \"white\"}}, \"shapedefaults\": {\"line\": {\"color\": \"#2a3f5f\"}}, \"ternary\": {\"aaxis\": {\"gridcolor\": \"white\", \"linecolor\": \"white\", \"ticks\": \"\"}, \"baxis\": {\"gridcolor\": \"white\", \"linecolor\": \"white\", \"ticks\": \"\"}, \"bgcolor\": \"#E5ECF6\", \"caxis\": {\"gridcolor\": \"white\", \"linecolor\": \"white\", \"ticks\": \"\"}}, \"title\": {\"x\": 0.05}, \"xaxis\": {\"automargin\": true, \"gridcolor\": \"white\", \"linecolor\": \"white\", \"ticks\": \"\", \"zerolinecolor\": \"white\", \"zerolinewidth\": 2}, \"yaxis\": {\"automargin\": true, \"gridcolor\": \"white\", \"linecolor\": \"white\", \"ticks\": \"\", \"zerolinecolor\": \"white\", \"zerolinewidth\": 2}}}},\n",
       "                        {\"responsive\": true}\n",
       "                    ).then(function(){\n",
       "                            \n",
       "var gd = document.getElementById('dadac95a-34fe-4f32-bf65-5b402c0a9a6a');\n",
       "var x = new MutationObserver(function (mutations, observer) {{\n",
       "        var display = window.getComputedStyle(gd).display;\n",
       "        if (!display || display === 'none') {{\n",
       "            console.log([gd, 'removed!']);\n",
       "            Plotly.purge(gd);\n",
       "            observer.disconnect();\n",
       "        }}\n",
       "}});\n",
       "\n",
       "// Listen for the removal of the full notebook cells\n",
       "var notebookContainer = gd.closest('#notebook-container');\n",
       "if (notebookContainer) {{\n",
       "    x.observe(notebookContainer, {childList: true});\n",
       "}}\n",
       "\n",
       "// Listen for the clearing of the current output cell\n",
       "var outputEl = gd.closest('.output');\n",
       "if (outputEl) {{\n",
       "    x.observe(outputEl, {childList: true});\n",
       "}}\n",
       "\n",
       "                        })\n",
       "                };\n",
       "                });\n",
       "            </script>\n",
       "        </div>"
      ]
     },
     "metadata": {},
     "output_type": "display_data"
    }
   ],
   "source": [
    "fig = px.scatter_3d(sp500_pca_pred, x='pc1', y='pc2', z='pc3', color='predictions')\n",
    "fig.show()"
   ]
  },
  {
   "cell_type": "code",
   "execution_count": null,
   "metadata": {},
   "outputs": [],
   "source": []
  }
 ],
 "metadata": {
  "kernelspec": {
   "display_name": "Python 3",
   "language": "python",
   "name": "python3"
  },
  "language_info": {
   "codemirror_mode": {
    "name": "ipython",
    "version": 3
   },
   "file_extension": ".py",
   "mimetype": "text/x-python",
   "name": "python",
   "nbconvert_exporter": "python",
   "pygments_lexer": "ipython3",
   "version": "3.7.3"
  }
 },
 "nbformat": 4,
 "nbformat_minor": 4
}
