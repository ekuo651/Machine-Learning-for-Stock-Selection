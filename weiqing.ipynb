{
 "cells": [
  {
   "cell_type": "code",
   "execution_count": 34,
   "metadata": {},
   "outputs": [],
   "source": [
    "#from datetime import datetime, timedelta\n",
    "#from iexfinance.stocks import get_historical_data\n",
    "#from iexfinance.refdata import get_symbols\n",
    "import os\n",
    "import pandas as pd\n",
    "import numpy as np\n",
    "from sklearn.linear_model import LinearRegression\n",
    "from sklearn.cluster import KMeans\n",
    "import hvplot.pandas\n",
    "from sklearn.preprocessing import StandardScaler\n",
    "from sklearn.decomposition import PCA\n",
    "import plotly.express as px"
   ]
  },
  {
   "cell_type": "code",
   "execution_count": null,
   "metadata": {},
   "outputs": [],
   "source": [
    "index_funds = pd.read_csv(\"Data/index_funds.csv\", index_col=\"PX_LAST\", parse_dates=True, infer_datetime_format=True)"
   ]
  },
  {
   "cell_type": "code",
   "execution_count": null,
   "metadata": {},
   "outputs": [],
   "source": [
    "new_index_funds = index_funds.loc['2018-11-01':'2019-12-01']"
   ]
  },
  {
   "cell_type": "code",
   "execution_count": null,
   "metadata": {},
   "outputs": [],
   "source": [
    "aapl = pd.read_csv(\"Data/aapl.csv\", index_col=\"date\", parse_dates=True, infer_datetime_format=True)\n",
    "aapl = aapl['close'].to_frame()"
   ]
  },
  {
   "cell_type": "code",
   "execution_count": 78,
   "metadata": {},
   "outputs": [
    {
     "data": {
      "text/plain": [
       "Index(['Companies', 'Ticker', 'PE_Calc', 'PBV_Calc', 'IQ_MarketCap',\n",
       "       'IQ_TOTAL_DEBT_CAPITAL', 'IQ_NI_NORM_MARGIN', 'Return on Equity_Calc',\n",
       "       'IQ_RETURN_ASSETS', 'IQ_BETA_2YR'],\n",
       "      dtype='object')"
      ]
     },
     "execution_count": 78,
     "metadata": {},
     "output_type": "execute_result"
    }
   ],
   "source": [
    "sp500_fundamentals = pd.read_csv(\"Data/company_fundamentals.csv\")\n",
    "sp500_fundamentals.columns"
   ]
  },
  {
   "cell_type": "code",
   "execution_count": 90,
   "metadata": {},
   "outputs": [],
   "source": [
    "#import clustering data\n",
    "#sp500_fundamentals = pd.read_csv(\"Data/Fundamentals_Clustering_12-6-2019.csv\")\n",
    "sp500_fundamentals = pd.read_csv(\"Data/company_fundamentals.csv\")\n",
    "sp500_fundamentals = sp500_fundamentals.dropna()\n",
    "sp500_fundamentals['Ticker'] = sp500_fundamentals.Ticker.apply(lambda x: x[x.find(\":\")+1:])\n",
    "#sp500_fundamentals = sp500_fundamentals[sp500_fundamentals.IQ_PE_EXCL!='(Invalid Identifier)']"
   ]
  },
  {
   "cell_type": "code",
   "execution_count": 91,
   "metadata": {},
   "outputs": [],
   "source": [
    "#keep nessessary columns\n",
    "#colnames_keep = sp500_fundamentals.columns\n",
    "colnames_keep =['Ticker', 'PE_Calc', 'Return on Equity_Calc', 'IQ_BETA_2YR']\n",
    "sp500_fundamentals = sp500_fundamentals[colnames_keep]"
   ]
  },
  {
   "cell_type": "code",
   "execution_count": 92,
   "metadata": {},
   "outputs": [],
   "source": [
    "#replace 0 and NM values with NA\n",
    "sp500_fundamentals = sp500_fundamentals.replace(\"0\", np.nan)\n",
    "sp500_fundamentals = sp500_fundamentals.replace(\"NM\", np.nan)"
   ]
  },
  {
   "cell_type": "code",
   "execution_count": null,
   "metadata": {},
   "outputs": [],
   "source": [
    "#import industry data\n",
    "sp500_industry = pd.read_csv(\"Data/industry.csv\")\n",
    "sp500_industry['Ticker'] = sp500_industry.Ticker.apply(lambda x: x[x.find(\":\")+1:])"
   ]
  },
  {
   "cell_type": "code",
   "execution_count": null,
   "metadata": {},
   "outputs": [],
   "source": [
    "#merge industry data and fundamental data\n",
    "sp500 = pd.merge(sp500_fundamentals, sp500_industry, on=\"Ticker\")\n",
    "sp500 = pd.get_dummies(sp500, columns=['Industry'])\n",
    "sp500_fundamentals.shape"
   ]
  },
  {
   "cell_type": "code",
   "execution_count": 93,
   "metadata": {},
   "outputs": [],
   "source": [
    "#fill NAs\n",
    "def deal_with_na (df, method):\n",
    "    if method == \"ml\":\n",
    "        #drop first column\n",
    "        first_colname = df.columns[0]\n",
    "        df = df.drop(columns=first_colname)\n",
    "        df = df.astype('float')\n",
    "        #drop rows with more than 2 NAs\n",
    "        df = df.dropna(thresh=df.shape[1]-1)\n",
    "        tickers = df.iloc[:,0].to_frame()\n",
    "        data_without_null = df.dropna() \n",
    "        for i in range(0, df.shape[1]):\n",
    "            print(df.columns[i])\n",
    "            colname = df.columns[i]\n",
    "            X_train = data_without_null.drop(columns=[colname])\n",
    "            y_train = data_without_null[colname]\n",
    "            X_test = df[df[colname].isnull()].drop(columns=[colname])\n",
    "            if X_test.shape[0] != 0:\n",
    "                linreg = LinearRegression()\n",
    "                linreg.fit(X_train, y_train)\n",
    "                predicted = linreg.predict(X_test)\n",
    "                df[colname][df[colname].isnull()] = predicted\n",
    "        output = pd.concat([tickers, df], axis=1)\n",
    "        return output\n",
    "    if method == \"ts\":\n",
    "        #drop first column\n",
    "        first_colname = df.columns[0]\n",
    "        df = df.drop(columns=first_colname)\n",
    "        df = df.astype('float')\n",
    "        tickers = df.iloc[:,0].to_frame()\n",
    "        for i in range(0, df.shape[1]):\n",
    "            colname = df.columns[i]\n",
    "            colmean = df[colname].median()\n",
    "            df[colname]=df[colname].fillna(colmean)\n",
    "        output = pd.concat([tickers, df], axis=1)\n",
    "        return output\n",
    "        "
   ]
  },
  {
   "cell_type": "code",
   "execution_count": 94,
   "metadata": {},
   "outputs": [],
   "source": [
    "#sp500_no_na = deal_with_na(sp500_fundamentals, 'ml')\n",
    "sp500_no_na = deal_with_na(sp500_fundamentals, 'ts')\n",
    "#sp500_no_na = sp500_fundamentals.dropna()"
   ]
  },
  {
   "cell_type": "code",
   "execution_count": 95,
   "metadata": {},
   "outputs": [
    {
     "data": {
      "application/vnd.holoviews_exec.v0+json": "",
      "text/html": [
       "<div id='3029' style='display: table; margin: 0 auto;'>\n",
       "\n",
       "\n",
       "\n",
       "\n",
       "\n",
       "  <div class=\"bk-root\" id=\"c3bf7d22-9b30-4a09-bbeb-c9ee666a395d\" data-root-id=\"3029\"></div>\n",
       "</div>\n",
       "<script type=\"application/javascript\">(function(root) {\n",
       "  function embed_document(root) {\n",
       "    \n",
       "  var docs_json = {\"be37f323-aa50-40d3-b213-24001e605d0c\":{\"roots\":{\"references\":[{\"attributes\":{\"align\":null,\"below\":[{\"id\":\"3038\",\"type\":\"LinearAxis\"}],\"center\":[{\"id\":\"3042\",\"type\":\"Grid\"},{\"id\":\"3047\",\"type\":\"Grid\"}],\"left\":[{\"id\":\"3043\",\"type\":\"LinearAxis\"}],\"margin\":null,\"min_border_bottom\":10,\"min_border_left\":10,\"min_border_right\":10,\"min_border_top\":10,\"plot_height\":300,\"plot_width\":700,\"renderers\":[{\"id\":\"3066\",\"type\":\"GlyphRenderer\"}],\"sizing_mode\":\"fixed\",\"title\":{\"id\":\"3030\",\"type\":\"Title\"},\"toolbar\":{\"id\":\"3053\",\"type\":\"Toolbar\"},\"x_range\":{\"id\":\"3026\",\"type\":\"Range1d\"},\"x_scale\":{\"id\":\"3034\",\"type\":\"LinearScale\"},\"y_range\":{\"id\":\"3027\",\"type\":\"Range1d\"},\"y_scale\":{\"id\":\"3036\",\"type\":\"LinearScale\"}},\"id\":\"3029\",\"subtype\":\"Figure\",\"type\":\"Plot\"},{\"attributes\":{},\"id\":\"3070\",\"type\":\"BasicTickFormatter\"},{\"attributes\":{\"line_alpha\":0.1,\"line_color\":\"#1f77b4\",\"line_width\":2,\"x\":{\"field\":\"k\"},\"y\":{\"field\":\"inertia\"}},\"id\":\"3064\",\"type\":\"Line\"},{\"attributes\":{\"callback\":null,\"data\":{\"inertia\":{\"__ndarray__\":\"AAAAAABwl0AQIkiJykCQQNrllTK/yIRAAOlV+MKmdUAaI5GBfidwQOL2tB0r82lAH75AWBunZUBYus2gsKphQJ26jPFs4F5AETNiqg49WkA=\",\"dtype\":\"float64\",\"shape\":[10]},\"k\":[1,2,3,4,5,6,7,8,9,10]},\"selected\":{\"id\":\"3061\",\"type\":\"Selection\"},\"selection_policy\":{\"id\":\"3080\",\"type\":\"UnionRenderers\"}},\"id\":\"3060\",\"type\":\"ColumnDataSource\"},{\"attributes\":{\"callback\":null,\"renderers\":[{\"id\":\"3066\",\"type\":\"GlyphRenderer\"}],\"tags\":[\"hv_created\"],\"tooltips\":[[\"k\",\"@{k}\"],[\"inertia\",\"@{inertia}\"]]},\"id\":\"3028\",\"type\":\"HoverTool\"},{\"attributes\":{},\"id\":\"3050\",\"type\":\"WheelZoomTool\"},{\"attributes\":{\"line_color\":\"#1f77b4\",\"line_width\":2,\"x\":{\"field\":\"k\"},\"y\":{\"field\":\"inertia\"}},\"id\":\"3063\",\"type\":\"Line\"},{\"attributes\":{\"dimension\":1,\"grid_line_color\":null,\"ticker\":{\"id\":\"3044\",\"type\":\"BasicTicker\"}},\"id\":\"3047\",\"type\":\"Grid\"},{\"attributes\":{\"source\":{\"id\":\"3060\",\"type\":\"ColumnDataSource\"}},\"id\":\"3067\",\"type\":\"CDSView\"},{\"attributes\":{\"line_alpha\":0.2,\"line_color\":\"#1f77b4\",\"line_width\":2,\"x\":{\"field\":\"k\"},\"y\":{\"field\":\"inertia\"}},\"id\":\"3065\",\"type\":\"Line\"},{\"attributes\":{},\"id\":\"3044\",\"type\":\"BasicTicker\"},{\"attributes\":{\"active_drag\":\"auto\",\"active_inspect\":\"auto\",\"active_multi\":null,\"active_scroll\":\"auto\",\"active_tap\":\"auto\",\"tools\":[{\"id\":\"3028\",\"type\":\"HoverTool\"},{\"id\":\"3048\",\"type\":\"SaveTool\"},{\"id\":\"3049\",\"type\":\"PanTool\"},{\"id\":\"3050\",\"type\":\"WheelZoomTool\"},{\"id\":\"3051\",\"type\":\"BoxZoomTool\"},{\"id\":\"3052\",\"type\":\"ResetTool\"}]},\"id\":\"3053\",\"type\":\"Toolbar\"},{\"attributes\":{\"overlay\":{\"id\":\"3081\",\"type\":\"BoxAnnotation\"}},\"id\":\"3051\",\"type\":\"BoxZoomTool\"},{\"attributes\":{},\"id\":\"3061\",\"type\":\"Selection\"},{\"attributes\":{\"data_source\":{\"id\":\"3060\",\"type\":\"ColumnDataSource\"},\"glyph\":{\"id\":\"3063\",\"type\":\"Line\"},\"hover_glyph\":null,\"muted_glyph\":{\"id\":\"3065\",\"type\":\"Line\"},\"nonselection_glyph\":{\"id\":\"3064\",\"type\":\"Line\"},\"selection_glyph\":null,\"view\":{\"id\":\"3067\",\"type\":\"CDSView\"}},\"id\":\"3066\",\"type\":\"GlyphRenderer\"},{\"attributes\":{\"axis_label\":\"inertia\",\"bounds\":\"auto\",\"formatter\":{\"id\":\"3074\",\"type\":\"BasicTickFormatter\"},\"major_label_orientation\":\"horizontal\",\"ticker\":{\"id\":\"3044\",\"type\":\"BasicTicker\"}},\"id\":\"3043\",\"type\":\"LinearAxis\"},{\"attributes\":{},\"id\":\"3049\",\"type\":\"PanTool\"},{\"attributes\":{},\"id\":\"3080\",\"type\":\"UnionRenderers\"},{\"attributes\":{},\"id\":\"3036\",\"type\":\"LinearScale\"},{\"attributes\":{\"grid_line_color\":null,\"ticker\":{\"id\":\"3039\",\"type\":\"BasicTicker\"}},\"id\":\"3042\",\"type\":\"Grid\"},{\"attributes\":{\"axis_label\":\"k\",\"bounds\":\"auto\",\"formatter\":{\"id\":\"3070\",\"type\":\"BasicTickFormatter\"},\"major_label_orientation\":\"horizontal\",\"ticker\":{\"id\":\"3068\",\"type\":\"FixedTicker\"}},\"id\":\"3038\",\"type\":\"LinearAxis\"},{\"attributes\":{},\"id\":\"3052\",\"type\":\"ResetTool\"},{\"attributes\":{\"bottom_units\":\"screen\",\"fill_alpha\":{\"value\":0.5},\"fill_color\":{\"value\":\"lightgrey\"},\"left_units\":\"screen\",\"level\":\"overlay\",\"line_alpha\":{\"value\":1.0},\"line_color\":{\"value\":\"black\"},\"line_dash\":[4,4],\"line_width\":{\"value\":2},\"render_mode\":\"css\",\"right_units\":\"screen\",\"top_units\":\"screen\"},\"id\":\"3081\",\"type\":\"BoxAnnotation\"},{\"attributes\":{},\"id\":\"3034\",\"type\":\"LinearScale\"},{\"attributes\":{},\"id\":\"3048\",\"type\":\"SaveTool\"},{\"attributes\":{\"callback\":null,\"end\":1500.0,\"reset_end\":1500.0,\"reset_start\":104.95402011480134,\"start\":104.95402011480134,\"tags\":[[[\"inertia\",\"inertia\",null]]]},\"id\":\"3027\",\"type\":\"Range1d\"},{\"attributes\":{\"ticks\":[1,2,3,4,5,6,7,8,9,10]},\"id\":\"3068\",\"type\":\"FixedTicker\"},{\"attributes\":{},\"id\":\"3074\",\"type\":\"BasicTickFormatter\"},{\"attributes\":{\"text\":\"Elbow Curve\",\"text_color\":{\"value\":\"black\"},\"text_font_size\":{\"value\":\"12pt\"}},\"id\":\"3030\",\"type\":\"Title\"},{\"attributes\":{\"callback\":null,\"end\":10.0,\"reset_end\":10.0,\"reset_start\":1.0,\"start\":1.0,\"tags\":[[[\"k\",\"k\",null]]]},\"id\":\"3026\",\"type\":\"Range1d\"},{\"attributes\":{},\"id\":\"3039\",\"type\":\"BasicTicker\"}],\"root_ids\":[\"3029\"]},\"title\":\"Bokeh Application\",\"version\":\"1.3.4\"}};\n",
       "  var render_items = [{\"docid\":\"be37f323-aa50-40d3-b213-24001e605d0c\",\"roots\":{\"3029\":\"c3bf7d22-9b30-4a09-bbeb-c9ee666a395d\"}}];\n",
       "  root.Bokeh.embed.embed_items_notebook(docs_json, render_items);\n",
       "\n",
       "  }\n",
       "  if (root.Bokeh !== undefined) {\n",
       "    embed_document(root);\n",
       "  } else {\n",
       "    var attempts = 0;\n",
       "    var timer = setInterval(function(root) {\n",
       "      if (root.Bokeh !== undefined) {\n",
       "        embed_document(root);\n",
       "        clearInterval(timer);\n",
       "      }\n",
       "      attempts++;\n",
       "      if (attempts > 100) {\n",
       "        console.log(\"Bokeh: ERROR: Unable to run BokehJS code because BokehJS library is missing\");\n",
       "        clearInterval(timer);\n",
       "      }\n",
       "    }, 10, root)\n",
       "  }\n",
       "})(window);</script>"
      ],
      "text/plain": [
       ":Curve   [k]   (inertia)"
      ]
     },
     "execution_count": 95,
     "metadata": {
      "application/vnd.holoviews_exec.v0+json": {
       "id": "3029"
      }
     },
     "output_type": "execute_result"
    }
   ],
   "source": [
    "sp500_kmeans = sp500_no_na.iloc[:,1:]\n",
    "sp500_scaled = StandardScaler().fit_transform(sp500_kmeans)\n",
    "inertia = []\n",
    "k = list(range(1, 11))\n",
    "for i in k:\n",
    "    km = KMeans(n_clusters=i)\n",
    "    km.fit(sp500_scaled)\n",
    "    inertia.append(km.inertia_)\n",
    "\n",
    "elbow_data = {\"k\": k, \"inertia\": inertia}\n",
    "df_elbow = pd.DataFrame(elbow_data)\n",
    "df_elbow.hvplot.line(x=\"k\", y=\"inertia\", xticks=k, title=\"Elbow Curve\")"
   ]
  },
  {
   "cell_type": "code",
   "execution_count": null,
   "metadata": {},
   "outputs": [],
   "source": []
  },
  {
   "cell_type": "code",
   "execution_count": 96,
   "metadata": {},
   "outputs": [
    {
     "data": {
      "text/plain": [
       "array([0.34200573, 0.33057065, 0.32742363])"
      ]
     },
     "execution_count": 96,
     "metadata": {},
     "output_type": "execute_result"
    }
   ],
   "source": [
    "sp500_scaled = StandardScaler().fit_transform(sp500_kmeans)\n",
    "pca = PCA(n_components=3)\n",
    "sp500_pca = pca.fit_transform(sp500_scaled)\n",
    "pca.explained_variance_ratio_"
   ]
  },
  {
   "cell_type": "code",
   "execution_count": 97,
   "metadata": {},
   "outputs": [
    {
     "data": {
      "application/vnd.holoviews_exec.v0+json": "",
      "text/html": [
       "<div id='3134' style='display: table; margin: 0 auto;'>\n",
       "\n",
       "\n",
       "\n",
       "\n",
       "\n",
       "  <div class=\"bk-root\" id=\"cb676e28-b37f-450d-a4d4-eca74d25c35d\" data-root-id=\"3134\"></div>\n",
       "</div>\n",
       "<script type=\"application/javascript\">(function(root) {\n",
       "  function embed_document(root) {\n",
       "    \n",
       "  var docs_json = {\"0a679592-86a2-4b39-880a-fcf7f62ba679\":{\"roots\":{\"references\":[{\"attributes\":{\"align\":null,\"below\":[{\"id\":\"3143\",\"type\":\"LinearAxis\"}],\"center\":[{\"id\":\"3147\",\"type\":\"Grid\"},{\"id\":\"3152\",\"type\":\"Grid\"}],\"left\":[{\"id\":\"3148\",\"type\":\"LinearAxis\"}],\"margin\":null,\"min_border_bottom\":10,\"min_border_left\":10,\"min_border_right\":10,\"min_border_top\":10,\"plot_height\":300,\"plot_width\":700,\"renderers\":[{\"id\":\"3171\",\"type\":\"GlyphRenderer\"}],\"sizing_mode\":\"fixed\",\"title\":{\"id\":\"3135\",\"type\":\"Title\"},\"toolbar\":{\"id\":\"3158\",\"type\":\"Toolbar\"},\"x_range\":{\"id\":\"3131\",\"type\":\"Range1d\"},\"x_scale\":{\"id\":\"3139\",\"type\":\"LinearScale\"},\"y_range\":{\"id\":\"3132\",\"type\":\"Range1d\"},\"y_scale\":{\"id\":\"3141\",\"type\":\"LinearScale\"}},\"id\":\"3134\",\"subtype\":\"Figure\",\"type\":\"Plot\"},{\"attributes\":{\"fill_alpha\":{\"value\":0.1},\"fill_color\":{\"value\":\"#1f77b4\"},\"line_alpha\":{\"value\":0.1},\"line_color\":{\"value\":\"#1f77b4\"},\"size\":{\"units\":\"screen\",\"value\":5.477225575051661},\"x\":{\"field\":\"pc1\"},\"y\":{\"field\":\"pc2\"}},\"id\":\"3169\",\"type\":\"Scatter\"},{\"attributes\":{\"fill_alpha\":{\"value\":0.2},\"fill_color\":{\"value\":\"#1f77b4\"},\"line_alpha\":{\"value\":0.2},\"line_color\":{\"value\":\"#1f77b4\"},\"size\":{\"units\":\"screen\",\"value\":5.477225575051661},\"x\":{\"field\":\"pc1\"},\"y\":{\"field\":\"pc2\"}},\"id\":\"3170\",\"type\":\"Scatter\"},{\"attributes\":{\"callback\":null,\"renderers\":[{\"id\":\"3171\",\"type\":\"GlyphRenderer\"}],\"tags\":[\"hv_created\"],\"tooltips\":[[\"pc1\",\"@{pc1}\"],[\"pc2\",\"@{pc2}\"]]},\"id\":\"3133\",\"type\":\"HoverTool\"},{\"attributes\":{},\"id\":\"3153\",\"type\":\"SaveTool\"},{\"attributes\":{},\"id\":\"3141\",\"type\":\"LinearScale\"},{\"attributes\":{\"data_source\":{\"id\":\"3165\",\"type\":\"ColumnDataSource\"},\"glyph\":{\"id\":\"3168\",\"type\":\"Scatter\"},\"hover_glyph\":null,\"muted_glyph\":{\"id\":\"3170\",\"type\":\"Scatter\"},\"nonselection_glyph\":{\"id\":\"3169\",\"type\":\"Scatter\"},\"selection_glyph\":null,\"view\":{\"id\":\"3172\",\"type\":\"CDSView\"}},\"id\":\"3171\",\"type\":\"GlyphRenderer\"},{\"attributes\":{\"dimension\":1,\"grid_line_color\":null,\"ticker\":{\"id\":\"3149\",\"type\":\"BasicTicker\"}},\"id\":\"3152\",\"type\":\"Grid\"},{\"attributes\":{\"source\":{\"id\":\"3165\",\"type\":\"ColumnDataSource\"}},\"id\":\"3172\",\"type\":\"CDSView\"},{\"attributes\":{\"fill_color\":{\"value\":\"#1f77b4\"},\"line_color\":{\"value\":\"#1f77b4\"},\"size\":{\"units\":\"screen\",\"value\":5.477225575051661},\"x\":{\"field\":\"pc1\"},\"y\":{\"field\":\"pc2\"}},\"id\":\"3168\",\"type\":\"Scatter\"},{\"attributes\":{\"active_drag\":\"auto\",\"active_inspect\":\"auto\",\"active_multi\":null,\"active_scroll\":\"auto\",\"active_tap\":\"auto\",\"tools\":[{\"id\":\"3133\",\"type\":\"HoverTool\"},{\"id\":\"3153\",\"type\":\"SaveTool\"},{\"id\":\"3154\",\"type\":\"PanTool\"},{\"id\":\"3155\",\"type\":\"WheelZoomTool\"},{\"id\":\"3156\",\"type\":\"BoxZoomTool\"},{\"id\":\"3157\",\"type\":\"ResetTool\"}]},\"id\":\"3158\",\"type\":\"Toolbar\"},{\"attributes\":{},\"id\":\"3157\",\"type\":\"ResetTool\"},{\"attributes\":{\"bottom_units\":\"screen\",\"fill_alpha\":{\"value\":0.5},\"fill_color\":{\"value\":\"lightgrey\"},\"left_units\":\"screen\",\"level\":\"overlay\",\"line_alpha\":{\"value\":1.0},\"line_color\":{\"value\":\"black\"},\"line_dash\":[4,4],\"line_width\":{\"value\":2},\"render_mode\":\"css\",\"right_units\":\"screen\",\"top_units\":\"screen\"},\"id\":\"3184\",\"type\":\"BoxAnnotation\"},{\"attributes\":{\"overlay\":{\"id\":\"3184\",\"type\":\"BoxAnnotation\"}},\"id\":\"3156\",\"type\":\"BoxZoomTool\"},{\"attributes\":{\"callback\":null,\"end\":18.321815803468596,\"reset_end\":18.321815803468596,\"reset_start\":-2.5084417464753654,\"start\":-2.5084417464753654,\"tags\":[[[\"pc2\",\"pc2\",null]]]},\"id\":\"3132\",\"type\":\"Range1d\"},{\"attributes\":{\"callback\":null,\"end\":12.491138594415895,\"reset_end\":12.491138594415895,\"reset_start\":-10.955029592668856,\"start\":-10.955029592668856,\"tags\":[[[\"pc1\",\"pc1\",null]]]},\"id\":\"3131\",\"type\":\"Range1d\"},{\"attributes\":{},\"id\":\"3155\",\"type\":\"WheelZoomTool\"},{\"attributes\":{},\"id\":\"3154\",\"type\":\"PanTool\"},{\"attributes\":{\"grid_line_color\":null,\"ticker\":{\"id\":\"3144\",\"type\":\"BasicTicker\"}},\"id\":\"3147\",\"type\":\"Grid\"},{\"attributes\":{},\"id\":\"3174\",\"type\":\"BasicTickFormatter\"},{\"attributes\":{},\"id\":\"3139\",\"type\":\"LinearScale\"},{\"attributes\":{},\"id\":\"3183\",\"type\":\"UnionRenderers\"},{\"attributes\":{},\"id\":\"3176\",\"type\":\"BasicTickFormatter\"},{\"attributes\":{\"text\":\"\",\"text_color\":{\"value\":\"black\"},\"text_font_size\":{\"value\":\"12pt\"}},\"id\":\"3135\",\"type\":\"Title\"},{\"attributes\":{\"axis_label\":\"pc2\",\"bounds\":\"auto\",\"formatter\":{\"id\":\"3176\",\"type\":\"BasicTickFormatter\"},\"major_label_orientation\":\"horizontal\",\"ticker\":{\"id\":\"3149\",\"type\":\"BasicTicker\"}},\"id\":\"3148\",\"type\":\"LinearAxis\"},{\"attributes\":{\"axis_label\":\"pc1\",\"bounds\":\"auto\",\"formatter\":{\"id\":\"3174\",\"type\":\"BasicTickFormatter\"},\"major_label_orientation\":\"horizontal\",\"ticker\":{\"id\":\"3144\",\"type\":\"BasicTicker\"}},\"id\":\"3143\",\"type\":\"LinearAxis\"},{\"attributes\":{},\"id\":\"3144\",\"type\":\"BasicTicker\"},{\"attributes\":{},\"id\":\"3166\",\"type\":\"Selection\"},{\"attributes\":{\"callback\":null,\"data\":{\"pc1\":{\"__ndarray__\":\"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\",\"dtype\":\"float64\",\"shape\":[500]},\"pc2\":{\"__ndarray__\":\"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\",\"dtype\":\"float64\",\"shape\":[500]}},\"selected\":{\"id\":\"3166\",\"type\":\"Selection\"},\"selection_policy\":{\"id\":\"3183\",\"type\":\"UnionRenderers\"}},\"id\":\"3165\",\"type\":\"ColumnDataSource\"},{\"attributes\":{},\"id\":\"3149\",\"type\":\"BasicTicker\"}],\"root_ids\":[\"3134\"]},\"title\":\"Bokeh Application\",\"version\":\"1.3.4\"}};\n",
       "  var render_items = [{\"docid\":\"0a679592-86a2-4b39-880a-fcf7f62ba679\",\"roots\":{\"3134\":\"cb676e28-b37f-450d-a4d4-eca74d25c35d\"}}];\n",
       "  root.Bokeh.embed.embed_items_notebook(docs_json, render_items);\n",
       "\n",
       "  }\n",
       "  if (root.Bokeh !== undefined) {\n",
       "    embed_document(root);\n",
       "  } else {\n",
       "    var attempts = 0;\n",
       "    var timer = setInterval(function(root) {\n",
       "      if (root.Bokeh !== undefined) {\n",
       "        embed_document(root);\n",
       "        clearInterval(timer);\n",
       "      }\n",
       "      attempts++;\n",
       "      if (attempts > 100) {\n",
       "        console.log(\"Bokeh: ERROR: Unable to run BokehJS code because BokehJS library is missing\");\n",
       "        clearInterval(timer);\n",
       "      }\n",
       "    }, 10, root)\n",
       "  }\n",
       "})(window);</script>"
      ],
      "text/plain": [
       ":Scatter   [pc1]   (pc2)"
      ]
     },
     "execution_count": 97,
     "metadata": {
      "application/vnd.holoviews_exec.v0+json": {
       "id": "3134"
      }
     },
     "output_type": "execute_result"
    }
   ],
   "source": [
    "sp500_pca = pd.DataFrame(\n",
    "    data=sp500_pca, columns=[\"pc1\", \"pc2\", 'pc3']\n",
    ")\n",
    "sp500_pca.hvplot.scatter(x='pc1', y='pc2')"
   ]
  },
  {
   "cell_type": "code",
   "execution_count": 75,
   "metadata": {},
   "outputs": [
    {
     "data": {
      "application/vnd.holoviews_exec.v0+json": "",
      "text/html": [
       "<div id='2599' style='display: table; margin: 0 auto;'>\n",
       "\n",
       "\n",
       "\n",
       "\n",
       "\n",
       "  <div class=\"bk-root\" id=\"72af0a48-6d14-4170-acfa-f2995e37b07d\" data-root-id=\"2599\"></div>\n",
       "</div>\n",
       "<script type=\"application/javascript\">(function(root) {\n",
       "  function embed_document(root) {\n",
       "    \n",
       "  var docs_json = {\"132e9ee4-faa5-44b3-a140-6a8b601f1712\":{\"roots\":{\"references\":[{\"attributes\":{\"align\":null,\"below\":[{\"id\":\"2608\",\"type\":\"LinearAxis\"}],\"center\":[{\"id\":\"2612\",\"type\":\"Grid\"},{\"id\":\"2617\",\"type\":\"Grid\"}],\"left\":[{\"id\":\"2613\",\"type\":\"LinearAxis\"}],\"margin\":null,\"min_border_bottom\":10,\"min_border_left\":10,\"min_border_right\":10,\"min_border_top\":10,\"plot_height\":300,\"plot_width\":700,\"renderers\":[{\"id\":\"2636\",\"type\":\"GlyphRenderer\"}],\"sizing_mode\":\"fixed\",\"title\":{\"id\":\"2600\",\"type\":\"Title\"},\"toolbar\":{\"id\":\"2623\",\"type\":\"Toolbar\"},\"x_range\":{\"id\":\"2596\",\"type\":\"Range1d\"},\"x_scale\":{\"id\":\"2604\",\"type\":\"LinearScale\"},\"y_range\":{\"id\":\"2597\",\"type\":\"Range1d\"},\"y_scale\":{\"id\":\"2606\",\"type\":\"LinearScale\"}},\"id\":\"2599\",\"subtype\":\"Figure\",\"type\":\"Plot\"},{\"attributes\":{},\"id\":\"2619\",\"type\":\"PanTool\"},{\"attributes\":{\"grid_line_color\":null,\"ticker\":{\"id\":\"2609\",\"type\":\"BasicTicker\"}},\"id\":\"2612\",\"type\":\"Grid\"},{\"attributes\":{},\"id\":\"2618\",\"type\":\"SaveTool\"},{\"attributes\":{\"dimension\":1,\"grid_line_color\":null,\"ticker\":{\"id\":\"2614\",\"type\":\"BasicTicker\"}},\"id\":\"2617\",\"type\":\"Grid\"},{\"attributes\":{},\"id\":\"2639\",\"type\":\"BasicTickFormatter\"},{\"attributes\":{},\"id\":\"2609\",\"type\":\"BasicTicker\"},{\"attributes\":{},\"id\":\"2641\",\"type\":\"BasicTickFormatter\"},{\"attributes\":{\"callback\":null,\"end\":9.019757944789088,\"reset_end\":9.019757944789088,\"reset_start\":-3.852396846628862,\"start\":-3.852396846628862,\"tags\":[[[\"pc2\",\"pc2\",null]]]},\"id\":\"2597\",\"type\":\"Range1d\"},{\"attributes\":{\"axis_label\":\"pc2\",\"bounds\":\"auto\",\"formatter\":{\"id\":\"2641\",\"type\":\"BasicTickFormatter\"},\"major_label_orientation\":\"horizontal\",\"ticker\":{\"id\":\"2614\",\"type\":\"BasicTicker\"}},\"id\":\"2613\",\"type\":\"LinearAxis\"},{\"attributes\":{},\"id\":\"2604\",\"type\":\"LinearScale\"},{\"attributes\":{\"fill_color\":{\"value\":\"#1f77b4\"},\"line_color\":{\"value\":\"#1f77b4\"},\"size\":{\"units\":\"screen\",\"value\":5.477225575051661},\"x\":{\"field\":\"pc1\"},\"y\":{\"field\":\"pc2\"}},\"id\":\"2633\",\"type\":\"Scatter\"},{\"attributes\":{},\"id\":\"2620\",\"type\":\"WheelZoomTool\"},{\"attributes\":{\"overlay\":{\"id\":\"2649\",\"type\":\"BoxAnnotation\"}},\"id\":\"2621\",\"type\":\"BoxZoomTool\"},{\"attributes\":{},\"id\":\"2631\",\"type\":\"Selection\"},{\"attributes\":{\"callback\":null,\"end\":23.6934846990643,\"reset_end\":23.6934846990643,\"reset_start\":-3.078493992923446,\"start\":-3.078493992923446,\"tags\":[[[\"pc1\",\"pc1\",null]]]},\"id\":\"2596\",\"type\":\"Range1d\"},{\"attributes\":{},\"id\":\"2622\",\"type\":\"ResetTool\"},{\"attributes\":{\"active_drag\":\"auto\",\"active_inspect\":\"auto\",\"active_multi\":null,\"active_scroll\":\"auto\",\"active_tap\":\"auto\",\"tools\":[{\"id\":\"2598\",\"type\":\"HoverTool\"},{\"id\":\"2618\",\"type\":\"SaveTool\"},{\"id\":\"2619\",\"type\":\"PanTool\"},{\"id\":\"2620\",\"type\":\"WheelZoomTool\"},{\"id\":\"2621\",\"type\":\"BoxZoomTool\"},{\"id\":\"2622\",\"type\":\"ResetTool\"}]},\"id\":\"2623\",\"type\":\"Toolbar\"},{\"attributes\":{\"axis_label\":\"pc1\",\"bounds\":\"auto\",\"formatter\":{\"id\":\"2639\",\"type\":\"BasicTickFormatter\"},\"major_label_orientation\":\"horizontal\",\"ticker\":{\"id\":\"2609\",\"type\":\"BasicTicker\"}},\"id\":\"2608\",\"type\":\"LinearAxis\"},{\"attributes\":{},\"id\":\"2648\",\"type\":\"UnionRenderers\"},{\"attributes\":{\"fill_alpha\":{\"value\":0.1},\"fill_color\":{\"value\":\"#1f77b4\"},\"line_alpha\":{\"value\":0.1},\"line_color\":{\"value\":\"#1f77b4\"},\"size\":{\"units\":\"screen\",\"value\":5.477225575051661},\"x\":{\"field\":\"pc1\"},\"y\":{\"field\":\"pc2\"}},\"id\":\"2634\",\"type\":\"Scatter\"},{\"attributes\":{\"callback\":null,\"renderers\":[{\"id\":\"2636\",\"type\":\"GlyphRenderer\"}],\"tags\":[\"hv_created\"],\"tooltips\":[[\"pc1\",\"@{pc1}\"],[\"pc2\",\"@{pc2}\"]]},\"id\":\"2598\",\"type\":\"HoverTool\"},{\"attributes\":{\"fill_alpha\":{\"value\":0.2},\"fill_color\":{\"value\":\"#1f77b4\"},\"line_alpha\":{\"value\":0.2},\"line_color\":{\"value\":\"#1f77b4\"},\"size\":{\"units\":\"screen\",\"value\":5.477225575051661},\"x\":{\"field\":\"pc1\"},\"y\":{\"field\":\"pc2\"}},\"id\":\"2635\",\"type\":\"Scatter\"},{\"attributes\":{\"text\":\"\",\"text_color\":{\"value\":\"black\"},\"text_font_size\":{\"value\":\"12pt\"}},\"id\":\"2600\",\"type\":\"Title\"},{\"attributes\":{\"data_source\":{\"id\":\"2630\",\"type\":\"ColumnDataSource\"},\"glyph\":{\"id\":\"2633\",\"type\":\"Scatter\"},\"hover_glyph\":null,\"muted_glyph\":{\"id\":\"2635\",\"type\":\"Scatter\"},\"nonselection_glyph\":{\"id\":\"2634\",\"type\":\"Scatter\"},\"selection_glyph\":null,\"view\":{\"id\":\"2637\",\"type\":\"CDSView\"}},\"id\":\"2636\",\"type\":\"GlyphRenderer\"},{\"attributes\":{\"source\":{\"id\":\"2630\",\"type\":\"ColumnDataSource\"}},\"id\":\"2637\",\"type\":\"CDSView\"},{\"attributes\":{},\"id\":\"2614\",\"type\":\"BasicTicker\"},{\"attributes\":{\"callback\":null,\"data\":{\"pc1\":{\"__ndarray__\":\"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\",\"dtype\":\"float64\",\"shape\":[500]},\"pc2\":{\"__ndarray__\":\"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\",\"dtype\":\"float64\",\"shape\":[500]}},\"selected\":{\"id\":\"2631\",\"type\":\"Selection\"},\"selection_policy\":{\"id\":\"2648\",\"type\":\"UnionRenderers\"}},\"id\":\"2630\",\"type\":\"ColumnDataSource\"},{\"attributes\":{},\"id\":\"2606\",\"type\":\"LinearScale\"},{\"attributes\":{\"bottom_units\":\"screen\",\"fill_alpha\":{\"value\":0.5},\"fill_color\":{\"value\":\"lightgrey\"},\"left_units\":\"screen\",\"level\":\"overlay\",\"line_alpha\":{\"value\":1.0},\"line_color\":{\"value\":\"black\"},\"line_dash\":[4,4],\"line_width\":{\"value\":2},\"render_mode\":\"css\",\"right_units\":\"screen\",\"top_units\":\"screen\"},\"id\":\"2649\",\"type\":\"BoxAnnotation\"}],\"root_ids\":[\"2599\"]},\"title\":\"Bokeh Application\",\"version\":\"1.3.4\"}};\n",
       "  var render_items = [{\"docid\":\"132e9ee4-faa5-44b3-a140-6a8b601f1712\",\"roots\":{\"2599\":\"72af0a48-6d14-4170-acfa-f2995e37b07d\"}}];\n",
       "  root.Bokeh.embed.embed_items_notebook(docs_json, render_items);\n",
       "\n",
       "  }\n",
       "  if (root.Bokeh !== undefined) {\n",
       "    embed_document(root);\n",
       "  } else {\n",
       "    var attempts = 0;\n",
       "    var timer = setInterval(function(root) {\n",
       "      if (root.Bokeh !== undefined) {\n",
       "        embed_document(root);\n",
       "        clearInterval(timer);\n",
       "      }\n",
       "      attempts++;\n",
       "      if (attempts > 100) {\n",
       "        console.log(\"Bokeh: ERROR: Unable to run BokehJS code because BokehJS library is missing\");\n",
       "        clearInterval(timer);\n",
       "      }\n",
       "    }, 10, root)\n",
       "  }\n",
       "})(window);</script>"
      ],
      "text/plain": [
       ":Scatter   [pc1]   (pc2)"
      ]
     },
     "execution_count": 75,
     "metadata": {
      "application/vnd.holoviews_exec.v0+json": {
       "id": "2599"
      }
     },
     "output_type": "execute_result"
    }
   ],
   "source": [
    "sp500_pca = pd.DataFrame(\n",
    "    data=sp500_pca, columns=[\"pc1\", \"pc2\", 'pc3', 'pc4', 'pc5', 'pc6']\n",
    ")\n",
    "sp500_pca.hvplot.scatter(x='pc1', y='pc2')"
   ]
  },
  {
   "cell_type": "code",
   "execution_count": 89,
   "metadata": {},
   "outputs": [
    {
     "data": {
      "application/vnd.plotly.v1+json": {
       "config": {
        "plotlyServerURL": "https://plot.ly"
       },
       "data": [
        {
         "hoverlabel": {
          "namelength": 0
         },
         "hovertemplate": "pc1=%{x}<br>pc2=%{y}<br>pc3=%{z}",
         "legendgroup": "",
         "marker": {
          "color": "#636efa",
          "symbol": "circle"
         },
         "mode": "markers",
         "name": "",
         "scene": "scene",
         "showlegend": false,
         "type": "scatter3d",
         "x": [
          0.38031196311741927,
          -0.053090127250622655,
          0.7774598234557548,
          0.8204110289695756,
          1.0596792979361378,
          0.4886910463008741,
          -0.34022105613740655,
          0.9637870621493616,
          -0.4268327848984773,
          2.4713397412589115,
          0.16394184872054848,
          -0.3346190451314777,
          0.20481586452945946,
          -0.23952654072390106,
          -0.1825992828006636,
          -0.50159785022645,
          -0.02476212234780274,
          -0.22244534695772927,
          0.6476834585928498,
          1.254072058023932,
          -0.21343419063682237,
          2.01471853981305,
          0.04754838686122175,
          -1.2688699889232073,
          5.012135550024711,
          -0.3771669855911994,
          5.279028773315399,
          -1.1905756833503447,
          -1.3495558822097609,
          -1.5080845801450895,
          -1.1232588414354785,
          0.42575323011994204,
          -0.25452579637509254,
          -0.5485676306818823,
          -1.0935300338194687,
          0.6758205939170654,
          0.2309680045530758,
          0.022174682871577134,
          0.5985073039817764,
          0.03315303505680215,
          0.3374825107342753,
          0.39480026824192294,
          -0.14639873481675766,
          -0.16713293476852162,
          -0.11639008061362698,
          -2.9369388034231227,
          0.5956050500217573,
          0.8628488985244197,
          0.33971034757509194,
          -0.40682344618051086,
          0.587648562924096,
          0.35910817695607467,
          -0.4686178856649346,
          -0.5586109541331317,
          1.0264508470466964,
          -1.3727671958094818,
          1.8122115189926291,
          0.11635300450981458,
          -0.8234302316904601,
          -0.6690974745504236,
          -0.06441484024361498,
          0.15992893331273395,
          -0.5567260509156708,
          1.7541699936455575,
          -0.22423594394685295,
          0.288131128629552,
          2.761259749936805,
          0.006949517345420783,
          0.49784300253639924,
          0.6084568069200992,
          0.26593950222615664,
          0.12718587553340632,
          -0.2745320824803605,
          0.409682291235391,
          0.10363236772187143,
          0.4746304539158267,
          -0.375791311213931,
          -0.5956435806411269,
          -0.5937386501450095,
          -0.8392434334363081,
          0.018557410438601228,
          -1.0338586796888918,
          0.5610047182161021,
          -0.22946466604978838,
          0.28996059774767863,
          -0.35140027983317645,
          -0.13372004758952633,
          0.8881301611367044,
          -0.7814389001257512,
          0.039837209068894854,
          -0.02230588575266408,
          -0.1867310526296626,
          -0.20010701190437366,
          -1.1572095018937167,
          0.2715722638820755,
          0.11163180383459144,
          -0.15606622121754374,
          0.7736388553448154,
          0.781782209528278,
          0.21174182169043984,
          -0.43487435593420004,
          -1.017583216081742,
          0.0838378378739353,
          0.032687510187513875,
          -0.5286038331752889,
          -0.17402092740838482,
          0.9696010224907388,
          1.094311527002068,
          0.26857335674484467,
          -0.46898012720490784,
          -0.7574203910609623,
          -1.3478338767693896,
          -0.2711166922424566,
          -0.00939663984430103,
          0.6984688271924543,
          -0.036541023685134816,
          -0.2885290684262848,
          0.4013614373541093,
          -0.09162662660051528,
          -1.2789762161376905,
          -0.2815777358447943,
          -0.1896684716789248,
          0.2239956063924142,
          -1.284917640942145,
          0.26586592432666706,
          -0.09320898327619931,
          -0.4364278767604715,
          0.23329187339190957,
          0.19365956561145553,
          0.5579851848666674,
          -0.9159189099805906,
          0.3052155799363936,
          -0.7127412311769397,
          0.6212145581483576,
          0.4759885287745223,
          -0.15618935558621322,
          -0.4839884494165932,
          0.43081397955151185,
          -0.07327482580724153,
          -0.39410610298349585,
          0.45361450166135486,
          0.059496321093267954,
          0.539617791588048,
          -0.6058562071945638,
          -1.0831893598475222,
          -1.1269700498135866,
          -0.17914147925644439,
          -1.594840455462722,
          -1.2598249252596907,
          -1.1973607490748226,
          -0.58805856817546,
          -0.3986801354985895,
          0.3189602928101496,
          0.28825360606525624,
          0.25750550004355965,
          0.06028697017187084,
          -0.2561691896909851,
          -0.23375083756494694,
          -1.132822682451477,
          0.26882384939150555,
          -0.6421827521918031,
          -0.06995650682730148,
          0.2957695636151082,
          -1.2890191936404765,
          0.09555083350930771,
          0.2618627725159894,
          -0.48114339142295287,
          -0.6423468870554716,
          -0.7607761279470704,
          -0.6628941594900395,
          -1.4645989700273425,
          -1.0976398597988,
          -1.0271968004636263,
          -0.014788500675927477,
          -0.07352555256575828,
          -1.1956217741384991,
          1.3429082865706052,
          -0.349479377061524,
          3.2204131452182274,
          0.12610358569770003,
          -0.7746274025704392,
          0.859751188910854,
          0.0625901352393214,
          0.02049440038956472,
          -0.17720460909143027,
          -1.0749243608099532,
          -0.07354116622936528,
          -0.19930706773268145,
          -0.43661513778797423,
          0.7523643107485158,
          0.0737202993432852,
          -0.5143190769006429,
          0.03305182185268299,
          0.0456589918267534,
          0.20982113600342772,
          -1.708959987448298,
          0.0001421948360075982,
          0.895219322599622,
          -0.49703317990248086,
          0.43285976679519556,
          0.21854568384935988,
          0.37969432269724657,
          -0.7141713197250948,
          -0.04151523366787264,
          -0.34382041353501713,
          0.37703738913892326,
          0.4614428300142232,
          -0.3094938940285746,
          -0.9391389945825703,
          0.5008665350835083,
          -0.12672669589145305,
          0.17761284431459226,
          -0.5015996139252308,
          0.17829533728984853,
          -0.8134446237120364,
          0.1442787963455621,
          -0.384629514326618,
          -1.6805306270388471,
          0.2591813727308441,
          0.35663046472361065,
          -0.12098329345165887,
          -0.12967432361541878,
          0.3999225388257986,
          -1.0710025865722264,
          -0.4082492842086787,
          0.49600079820262594,
          -0.08878438805023439,
          -0.018268922467413937,
          0.163601222449616,
          -0.12659022038948917,
          0.012971253295618712,
          -0.04572142823147488,
          0.13522074537481493,
          0.8883575770674865,
          0.2966920370382165,
          -0.24424096428175088,
          1.23352046388214,
          -0.3282339785107213,
          6.409199976821951,
          -0.4586744486973469,
          0.027601791542986236,
          0.4159894295480137,
          0.9717329026298837,
          0.14105335126247684,
          0.6440539904829543,
          0.48791756360541616,
          -0.7570889036822908,
          -0.4114323193966923,
          -0.39043488124197184,
          0.008390812890712557,
          1.3667860683159119,
          0.061133794025017806,
          2.1226992933607947,
          -0.29432746779689367,
          -0.29062764447606226,
          -0.9532546432438789,
          0.16836467650919734,
          0.17495914920343117,
          0.12183918824256597,
          -0.6475317437808241,
          -0.2834180401520302,
          0.29643435872910656,
          -0.3244034090625709,
          -0.13823279813820102,
          -0.5833555433077445,
          -0.49913181890177155,
          0.8988077507278153,
          -1.8403823121195084,
          0.39938819248097696,
          -0.18676121811166357,
          -0.1820554664464526,
          -0.9319835035122066,
          0.5858857622219636,
          0.2660008932245323,
          0.0036315010546678394,
          -0.0854168813944535,
          -0.247629154036219,
          0.27082118476032135,
          0.1568915769751599,
          -0.2571005170955513,
          -0.36902851677435794,
          0.37279860320994473,
          0.16220546764998486,
          -0.709277144541275,
          -0.25594796185283875,
          -0.2339497412652462,
          -0.5704440663732151,
          0.29573702632006355,
          1.5523798708778496,
          0.1688159426084208,
          -0.8216995008536353,
          -0.07975178533957955,
          0.05740758138953474,
          0.3632423049560676,
          0.5206239361229654,
          0.3760811594629185,
          0.3682892661913483,
          0.3843811210252009,
          0.5229910203792938,
          1.0492055273893832,
          6.1496076983000645,
          -0.7649834503675771,
          -0.19989142538052976,
          0.06480747339234885,
          -0.23171676318418338,
          0.1371648914035112,
          0.10335302701152099,
          0.6229385989454463,
          -0.3295819661568276,
          0.27745401629794825,
          0.6632890821452802,
          -0.3947596167635425,
          -0.0057445342852957965,
          0.49906651469958113,
          1.784761374477131,
          -0.1245543772411663,
          -1.23751268036054,
          -0.18124172185604046,
          -0.6440578312034891,
          -0.2828174835647055,
          0.3087634169464725,
          -2.6686406849712254,
          0.4866559610762104,
          -0.6270561326859179,
          0.0868668853239101,
          0.35354277048047816,
          -0.3045365747077439,
          0.10681387583970149,
          -0.10326038986530331,
          -0.720731878654457,
          0.15702052915464307,
          2.0218427777183603,
          -1.081435338945402,
          -0.329821448782721,
          0.1412391258098624,
          -0.6960403098497417,
          -0.22366372785519725,
          0.8532235218639257,
          -1.0019260689412137,
          0.13628468821070747,
          0.013083048631953722,
          0.4865302863589957,
          -0.3052638800079064,
          0.8824416143019101,
          -0.031878877255427346,
          -0.11887453651088993,
          0.1364299585220496,
          0.3917834202345195,
          0.7226374979858639,
          0.8229201743412318,
          0.23221030046549715,
          -0.03949961513687498,
          -1.5368974331989016,
          0.10785371169447683,
          -0.18061584968519895,
          -0.9413849958134868,
          0.39861746868859527,
          -0.030791578940506437,
          0.4547651942594949,
          -1.0246285407835087,
          -1.4123745435493926,
          -1.0471554354023442,
          0.21285452540870187,
          -0.3743702937667268,
          0.10984297639669889,
          0.20088626055002776,
          -0.600710077585135,
          -0.3669495823047057,
          0.32456786342033106,
          -0.05967543744325903,
          -0.8854230416602507,
          -0.7405297264249102,
          0.10792343661198708,
          0.14486449850252286,
          -0.7082401935811491,
          -0.19359753997137547,
          0.024619459133232217,
          0.13504384183103835,
          -0.15592265716643786,
          -0.07847247731680118,
          -0.08273545567152331,
          -0.012233993879019621,
          -0.27346878219145626,
          2.2408472728057043,
          0.015760084574991853,
          0.5581260881414948,
          0.33774404960459,
          -0.5377009690564013,
          -1.068841723395923,
          8.872168921070166,
          -0.8028656482595449,
          -0.22054380398782183,
          -0.3330184184393879,
          -0.2941475456957486,
          -0.05761087385220036,
          0.3267080129593085,
          -0.01354426951682755,
          0.30135597754508703,
          0.22104160302437378,
          0.9795848548740002,
          -0.03712174030582498,
          0.1393933534941408,
          -0.6400221299168196,
          0.4206642469862894,
          -0.3976381266616534,
          -0.37702544556059375,
          -0.3748914813976152,
          0.08331314101028635,
          0.6464582012171746,
          0.09671807972482874,
          0.508047760217621,
          0.16236256182359124,
          -0.7187812308248452,
          -0.5463771436343583,
          0.1122046399064219,
          1.0131263825127896,
          0.5057094554212581,
          -0.9533188877876712,
          0.32531410221509005,
          -0.17880334552782864,
          -0.17636062516026205,
          -0.9029425119867905,
          0.5623831084063018,
          -0.6375556030170328,
          -1.0748447789562834,
          1.585032737982304,
          -0.06957012826535294,
          -1.0896166266459815,
          -0.29007987368751453,
          -0.7654969637419972,
          -0.5983616734719336,
          0.3375509509192462,
          0.22900818528209269,
          0.8187609232108634,
          -0.35827877595004815,
          0.13652057024766373,
          -1.1449611975305036,
          -0.1259542840118166,
          -0.46214789782873633,
          1.0050692821441933,
          -8.793567607815552,
          -0.19171408646057256,
          0.7097502975693074,
          -0.253167505229827,
          -0.08914621874706664,
          -0.1701577097961861,
          0.14540071079806827,
          0.6672608151546361,
          0.021513178293025428,
          -0.33329744350753143,
          -0.622378188257428,
          0.20641416704862714,
          0.003159591550065891,
          -0.7451763168159681,
          1.0310365019536676,
          0.3891432747370149,
          -0.34251005721337185,
          0.630930692796167,
          0.9702344837075185,
          0.3815984071952124,
          1.1760863775374626,
          -0.37518550057465905,
          0.153023738332839,
          -0.362892578422523,
          0.10934161181987669,
          -0.04933878809253343,
          -1.2117090156814374,
          -0.031791498148228015,
          -0.40764057225514017,
          0.441180232311468,
          0.6632511741356659,
          -0.35392366575177187,
          1.9519319139913716,
          -1.6154251433094566,
          -0.28219313197187634,
          -0.7889137367545456,
          -0.0626224012531698,
          0.28441696857332294,
          0.04183006743684974,
          1.0426355848944278,
          -0.5440615145513739,
          -0.1631855805328348,
          -1.3122536781594187,
          -0.4523471977223886,
          0.9513854525392154,
          -0.8813058332002951,
          0.21789464428364666,
          0.5074985303170543,
          0.2566556121895862,
          -0.005728628485802712,
          -0.25280541777659854,
          0.5913640748339078,
          -1.1982208951798472,
          0.6920309003430161,
          -0.13134076847745427,
          0.04207232985670459,
          -0.7271633911345452,
          0.03257813330267126,
          -0.1094925866513529,
          0.18051970371056664
         ],
         "y": [
          0.0613976658760616,
          0.10437367035780958,
          0.13742094688869244,
          0.06931349676278648,
          0.9006697276516088,
          0.0668118336512324,
          -0.2709389300336677,
          0.291592191137738,
          -0.20269242491634903,
          1.6425526285341505,
          0.2620497338492693,
          -0.23751789428338188,
          0.1952206324780327,
          -0.21886247157301503,
          -0.05009396121376878,
          -0.2334230428404193,
          0.11901918427478429,
          -0.22444066535474425,
          0.5496667788002956,
          0.9909305064735641,
          0.02203930182228992,
          1.0539942049363484,
          0.2344534522513425,
          -0.8507948355440127,
          0.40413930786407404,
          -0.3756646265119832,
          0.7860972365593608,
          -0.8370261409073154,
          -0.928567069844622,
          4.518300566935564,
          -0.8648678433606014,
          0.13058824537567348,
          -0.22040487561377423,
          -0.598258174994075,
          -0.7582723446281358,
          0.6126423454489308,
          0.3207684893101662,
          0.08549716454982378,
          0.17050799007733736,
          0.08284853514899633,
          0.22503352565362142,
          0.33674988794533683,
          -0.21790978855769272,
          -0.0940620721163584,
          0.12310576991841456,
          -1.6830068318839642,
          0.2898431019103037,
          0.61877995929851,
          0.3419717812396461,
          -0.2514693624464449,
          0.5520775326332426,
          0.3874519300200448,
          -0.28791390704960745,
          -0.30340880386670177,
          -0.13536888342327139,
          -0.9262029139543542,
          0.9542798657551759,
          0.01654012046612689,
          -0.7503626523747793,
          -0.5093955583231513,
          0.1366661132822595,
          0.2031185460206937,
          -0.3439821694758589,
          0.3284833192047803,
          -0.17211659280703576,
          0.07676522439703225,
          0.15975103414626365,
          0.14874298113559206,
          0.3819792727620138,
          0.31851440440658924,
          0.14964546625858882,
          0.23340138004011168,
          -0.1819561253629667,
          0.194089221130753,
          -0.26582747193451406,
          0.009627891733498296,
          -0.1400463232854883,
          -0.3593805885740827,
          -0.2741757638297193,
          -0.44546384737257344,
          0.09590975595316811,
          -0.6013601946195172,
          0.39929677203566905,
          -0.010985868752651281,
          0.3521574153362697,
          -0.14606254163514026,
          -0.06075679647240955,
          0.5709001217603611,
          -0.47927531206940355,
          0.12551425026277893,
          0.17089174442648805,
          -0.0023071955930556347,
          -0.07895770506537961,
          -0.7511407552135272,
          0.3086958008116302,
          0.12579984664125576,
          -0.008258162102186918,
          0.27781895661462064,
          -0.0876789940735395,
          0.19824133991532944,
          -0.43936589695543843,
          -0.6554790460758986,
          -0.046065499699385774,
          0.17584657768286086,
          -0.31059880019492775,
          -0.0627622178724758,
          0.21088282862579746,
          0.3540809346660184,
          0.28966180163727984,
          -0.16196079240697847,
          -0.7052910090886404,
          -0.9243472713800771,
          -0.1548090800227336,
          -1.4072864947124804,
          -0.0348464681337281,
          0.10513810736770712,
          -0.10380651234959612,
          0.37865022648321567,
          -0.1502295167056045,
          -0.9208454558569643,
          -0.22558426113013988,
          -0.04513310617077562,
          0.2333791715504372,
          -0.9757174855028763,
          -0.13128146867996018,
          0.014766117489951417,
          -0.4418289408098168,
          0.14783534260461398,
          0.23208181847800144,
          0.21773252422850548,
          -0.5904908740636526,
          -0.049058832241183424,
          -0.40883105526214286,
          0.594616732757077,
          0.33548359506065234,
          -0.05208214975489724,
          -0.28850657570858984,
          0.4533589359721138,
          0.04520440284147339,
          -0.33598295658161254,
          0.4261936804980698,
          0.14784885879533283,
          0.501423782964181,
          -0.4270356720362917,
          -0.7219043304077216,
          -0.9471318685638987,
          -0.02551445212704602,
          -1.1756192493023234,
          -0.8846492630076409,
          -0.9885029095754736,
          -0.422254398200407,
          -0.2997979889626927,
          0.3688570863265969,
          0.3472611501334407,
          0.3127518255468211,
          0.05539797445507788,
          -0.09952365975537751,
          -0.221381978905835,
          -0.7887609395836076,
          0.1648691203103487,
          -0.44762001964516185,
          -0.0994730276791096,
          0.22390029847366075,
          -0.9093927609704452,
          0.06859111432141636,
          0.2285232912852061,
          -0.4580057738615437,
          -0.5115950790555305,
          -0.5772914901827544,
          -0.4539456303485547,
          -1.007127168059592,
          -0.7737320192092038,
          -0.7788051972716976,
          0.07961122573956927,
          0.08162800950325969,
          -0.8087433543268727,
          0.05232733493707518,
          -0.11659359191381259,
          0.39292063506391983,
          0.1966351741784161,
          -0.5030659558442672,
          0.5821949000276803,
          -0.16019156305479543,
          0.09824638082008748,
          -0.05611570680038206,
          -0.7363501120423609,
          -0.22574594719960284,
          -0.09069124974200723,
          -0.21026086171869607,
          0.6913730000487903,
          0.19384759073371474,
          -0.36963981017716296,
          0.08427432370854289,
          0.07472704770036281,
          0.29155531267924206,
          -1.1859825916228133,
          0.11495296209030151,
          0.6526257397650764,
          -0.2838871994375856,
          0.3944698562136099,
          0.14561907864031626,
          0.05551902272977706,
          -0.4639112825482691,
          -0.05127230681958037,
          -0.13952695643458665,
          0.11737021093867368,
          0.24733580355810647,
          -0.12131407647869677,
          0.08719026016614129,
          0.4456672593900799,
          0.11174186196418225,
          0.29024373669882986,
          -0.26011831463459695,
          -0.07484881960947537,
          -0.6370503909088191,
          0.2179474086296322,
          -0.1480351398181045,
          -0.7343657572315149,
          0.2761224244895039,
          -1.0941817185432328,
          0.047324166599990516,
          -0.010738091996314557,
          0.012290453968826047,
          -0.7347514031965706,
          -0.21524177648160658,
          0.059166171843065204,
          -0.06572841274059024,
          0.08804769398749937,
          0.2736200744077333,
          0.01769379246032369,
          0.41495833417266875,
          -0.039599127157519086,
          0.16430419560241527,
          0.6019641968365453,
          0.2644859016016227,
          -0.13724303300095203,
          0.16337060084498609,
          -0.2923350669393539,
          0.4902764970487308,
          -0.26113926926170955,
          0.12907821749479084,
          0.24253718795421303,
          0.590948175007903,
          0.23985448402584048,
          0.5930933452773968,
          0.3143193330524932,
          -0.44730980753875893,
          -0.18583579713295642,
          -0.1870717466569091,
          0.10219301836520232,
          -0.19421491535179342,
          0.033158174362845905,
          0.16640111501185614,
          -0.10570711176819594,
          -0.11859192804208113,
          -0.6071463961837978,
          0.20893694562457782,
          0.20573811118013638,
          -2.539980901108028,
          -0.3838254235526349,
          -0.23729374805949663,
          0.3099415085952995,
          -0.10192574941760581,
          -0.10553732767891041,
          -0.4500566231037961,
          -0.2772270494938711,
          0.7120595009355822,
          0.6718703187749107,
          0.28726967852032986,
          0.007650911842275411,
          -0.029558922055849302,
          -0.6002541178206205,
          0.5345635872433675,
          -0.10177778647774713,
          0.11333660362118199,
          -0.05800502875056005,
          -0.11065997846144192,
          0.302093727291126,
          0.20290170983811764,
          -0.10886732974712847,
          -0.12471664641327614,
          0.378947205489657,
          0.13209839065327256,
          -0.4473318159528588,
          0.0015448804182969019,
          -0.20657418562473065,
          -0.34925868318145,
          -0.9349628871807895,
          0.4245443157171367,
          0.23906613265577842,
          -0.5433431429536942,
          -0.6233073878086696,
          0.0835212461555215,
          -0.15347552060571945,
          -0.2589015023715827,
          0.2725156918861967,
          0.5180477868088385,
          0.3230291899374631,
          0.3875481717116546,
          0.743413709819888,
          0.42603549392883583,
          -0.5439177546854914,
          -0.03249944320026829,
          0.15311583512354165,
          -0.31626207661409933,
          0.14335162042843397,
          0.6291148348917908,
          0.3225565822418453,
          -0.4202301085334779,
          -0.2235795588603701,
          0.6050540899377591,
          -0.20197663387164302,
          0.11863404142044656,
          0.650053961027605,
          0.9478588048427249,
          -0.021968631224434643,
          -0.9111260388793014,
          -0.03849496596687244,
          -0.7896934516128064,
          -0.06881626902268562,
          -0.148031759916715,
          -1.6471355813804538,
          0.40181960400439753,
          -0.22507652738500455,
          0.04269279084654614,
          0.3374992486384157,
          -0.26559840418964586,
          0.13813640062229296,
          0.03301108177671863,
          -0.5037968977451838,
          0.22062407879043597,
          1.1094136752768422,
          -0.6601484156968407,
          -0.21503253914189452,
          0.21790682267948508,
          -0.34678720873759067,
          -0.11616073837921304,
          0.15711607372270664,
          0.824908717138826,
          0.17859563340931378,
          0.15533027507916486,
          0.4393190820076327,
          -0.14185971188161095,
          0.31254582577356765,
          0.10662821681169019,
          0.0339769427757574,
          -0.39429865911522144,
          0.376086783642728,
          0.6300808797886895,
          -0.010115834181364166,
          -0.30848883990255654,
          -0.041414970041230265,
          -1.0345283079288676,
          0.1568050066462008,
          -0.07494982310024073,
          -0.6301595298722145,
          0.3913671860256649,
          -0.1623571294522159,
          0.3482334539467269,
          -0.7209755691156092,
          -1.0188099843053895,
          -0.6442619715978566,
          0.28845434450968493,
          -0.20837369131046007,
          0.04527467023798446,
          0.2864876395416049,
          -0.3420741553142639,
          -0.13550529216585014,
          0.36127350081982545,
          -0.09879722729321387,
          -0.6601943856711777,
          -0.48493596570848085,
          0.08692716904181301,
          0.2028228970084641,
          -0.48858433363204745,
          -0.08052753651333673,
          0.20432455640450162,
          0.36212590065305494,
          0.0031662704930085083,
          -0.05836799257573899,
          -0.001220547381326836,
          0.049669474229117286,
          0.5190412183688861,
          1.0434380771423057,
          -0.11275792364680091,
          0.34347203166504187,
          0.3998745529482656,
          -0.5079007766786587,
          -0.8070540408845587,
          4.823979858053994,
          -0.5467728300539392,
          -0.07690957081532045,
          -0.17357014072541943,
          -0.07992977338255837,
          0.030618724202001978,
          0.308300592538809,
          -0.37966780285571494,
          0.27161726652769164,
          0.044332374755487736,
          0.8573777291815459,
          0.07218533245480264,
          0.15678874780202592,
          -0.3767591739780192,
          0.3945654935030503,
          -0.2423432228392898,
          -0.13618220356602495,
          -0.33737080421115506,
          0.10543467593407152,
          0.534430302638427,
          0.13418411335882677,
          0.16482989206131568,
          0.24732849006292154,
          -0.4039570277803794,
          -0.3827506572407103,
          0.06500230471540393,
          -0.013346969235156892,
          0.30623646548822236,
          -0.4015502626294258,
          -0.4237854978788949,
          -0.06173360220659651,
          -0.19784660291167877,
          -0.5004808437593702,
          0.28440049893194824,
          -0.39893959822413505,
          -0.6575392141091537,
          -1.412853085309795,
          0.10596508513144612,
          -0.7026829489710178,
          -0.20866460857808705,
          -0.48972125615154305,
          -0.34019896225732,
          0.3625536479873968,
          0.07078746516370465,
          -0.38281212376853385,
          -0.24231380003697506,
          0.08171012212428981,
          -0.9384453879984809,
          -0.12840875649399883,
          -0.32453536637140956,
          -0.11092059727551347,
          18.69923874819147,
          -0.10477959395746812,
          0.17555676832259703,
          -0.09800058960489395,
          -0.14492598126115638,
          0.02346653856735315,
          0.032174313392489905,
          0.6211927851392683,
          0.020312176271480884,
          -0.24770607166315367,
          -0.4258500772395889,
          -0.030797773193579864,
          -0.11634153972125014,
          -0.41126354509247576,
          0.833746661059715,
          0.024816000415646976,
          -0.14581951867921872,
          0.4036934309609776,
          0.8791831384181722,
          -0.024545238285782988,
          0.05354029023641657,
          -0.1640718147532806,
          0.25224480701566887,
          -0.2195323463591561,
          0.08891542995126742,
          0.07416805636096256,
          -0.8767481462565926,
          -0.06855190297346664,
          -0.24007180666925582,
          -0.41475036200432486,
          0.3685649077793327,
          -0.14257276874199615,
          0.17309052387890145,
          -0.9329620469997876,
          -0.14440232787062623,
          -0.48480229432273997,
          0.11002282599797518,
          0.29705453384814334,
          -0.0017420362049797493,
          -0.3222993394128892,
          -0.40778660134172656,
          0.22503456139019223,
          -0.9437410522839488,
          -0.24254851313658568,
          0.025631801498133752,
          -0.7075638245279432,
          0.26126839915411876,
          0.487588001877143,
          0.1832870215342701,
          0.15651279489830597,
          -0.14390953108823554,
          0.4987960855876355,
          -0.8755622046934765,
          0.6532652098713599,
          -0.015655511241146777,
          0.13122964392051756,
          -0.5559055954908422,
          0.04020733253938323,
          0.04666385501749639,
          0.12408366933147257
         ],
         "z": [
          -0.3954161648517012,
          -0.21089288694597733,
          -0.1752485540557228,
          -0.6538479927127351,
          -0.8275967195819245,
          -0.2761246242128035,
          0.24268155175295097,
          -0.09239595629350353,
          0.1370614059150231,
          0.26760048284158866,
          -0.9129075895868445,
          0.009808642949512208,
          -0.13738032996174757,
          0.18653912804969558,
          0.12235249505451216,
          0.05714142147110102,
          -0.3245644314030875,
          1.6935898843633947,
          -0.7868052019210481,
          -0.7170880245775126,
          0.06131895864533662,
          3.011489641919188,
          -0.48381138727905276,
          0.9296018822115293,
          -2.0731153227681944,
          0.13164341018357406,
          -1.74901557899767,
          0.9871206928066592,
          0.9642986047497828,
          -0.7797900353653835,
          0.8684431893321567,
          -0.44375362799745954,
          0.09597486468572045,
          0.8407331756106124,
          0.885907463071253,
          -0.8792665347920349,
          -0.5070450464200611,
          -0.12343400060436988,
          -0.4530612757954073,
          -0.1345505508819117,
          -0.2333707164639338,
          -0.10093742391398076,
          -0.008778260523263729,
          0.07449390332246157,
          -1.7043272904555051,
          -3.3686901199034587,
          -0.5293516983294544,
          -0.8231284881861445,
          -0.4460734330503028,
          0.1284553159668974,
          -0.7697598222354491,
          -0.5061851771273391,
          0.4500535154015526,
          0.23639133058275832,
          -0.45436911761214854,
          0.9773390472873685,
          1.137868436540329,
          -0.06261623837088433,
          0.5370559607548792,
          0.9251171376541741,
          -0.20505710013514716,
          -0.391144674493134,
          0.44902003511506755,
          -1.1069533692191231,
          0.16107291112833405,
          -0.0718950520096061,
          -1.2521578604469503,
          -0.31359524810142475,
          -0.6920215323976063,
          -0.5937051566387305,
          -0.3042133202527459,
          -0.46959922053207886,
          0.5771518219466998,
          0.006389969052669535,
          -0.07430707826952127,
          -0.03345482845649075,
          0.21685712528664658,
          0.5266116422229378,
          0.1850992553012279,
          0.2856761005138491,
          0.13587931476593698,
          0.661203595865634,
          -0.7619141936199741,
          -0.18865818602805917,
          -0.5595091839230018,
          0.04704541325629905,
          -0.1661469926458869,
          -0.9099133021211763,
          0.5115966571824228,
          -0.2782577724562507,
          -0.12472929712236003,
          -0.12600826393597103,
          -0.11384501410872136,
          0.6748530350237651,
          -0.6013162926296775,
          0.025921989252148364,
          -0.007264366470583994,
          0.16620521042197453,
          -0.46381796775129663,
          0.22246884306049391,
          0.2694216124006704,
          0.7315768384155699,
          -0.25514970197015824,
          -0.4392567656563003,
          0.22274330491873554,
          0.11232625960437947,
          -0.6759821870145541,
          -0.9177168188296596,
          -0.5692893524110815,
          0.3270447171305434,
          0.7282159148341196,
          1.0317257173869119,
          -0.02047732608221418,
          0.32485729910330935,
          -0.4433337270565463,
          -0.3587208510568526,
          -0.08223711481061766,
          -0.5639799667597585,
          -0.14652221219948572,
          0.9293644856299873,
          0.4458226055499558,
          0.1388815014500884,
          -0.39223775000933647,
          1.9638894762041412,
          0.03505770932138788,
          0.13806820593129374,
          0.9435870500112012,
          -0.37039536749406077,
          -0.47273798181307003,
          -0.6013212121385499,
          0.44715310822840615,
          0.00659839312221448,
          0.39945371003828495,
          -0.7888936473959967,
          -0.5754241771223296,
          -0.2170795400570158,
          0.4819560908140875,
          -0.7403475950214582,
          -0.25832536592847555,
          1.3364826921034976,
          -0.7252986649462602,
          -0.4034620924974632,
          -0.7769390809581294,
          0.3857582436666998,
          0.6808888986961036,
          0.93461183596414,
          -0.030831722006075823,
          1.1164960540096571,
          0.9081549120063493,
          0.8868866435812316,
          1.2728488350255773,
          -0.0011255860664116442,
          -0.6750514348912452,
          -0.6116486374987696,
          -0.5403537181495316,
          -0.23894044939433084,
          0.02036591114302381,
          0.2353838820547808,
          0.7403346546221194,
          0.05546821264971822,
          0.5165249056133357,
          0.06758267151712875,
          -0.39168370125746294,
          0.9879259868551881,
          -0.3058358030928134,
          0.26736148278557975,
          1.1439689717085544,
          1.1382668829208964,
          1.4401647743238377,
          1.060418827561944,
          1.0856705726946745,
          0.7891765492781967,
          0.6738786371458141,
          -0.13108114001529547,
          -0.1766205790573636,
          1.0782253276468858,
          -0.6937538221164663,
          0.04526175981987936,
          -1.4258760605760927,
          -0.24182428442373807,
          0.8926200798991155,
          -0.3416084753282348,
          0.35488416256465616,
          -0.37511586933547375,
          -0.03937663792579638,
          0.7061471934143819,
          0.3499634801624732,
          0.13162450169784895,
          0.2728243747449713,
          -0.8334005332691281,
          -0.35107997001033087,
          0.18327767839686168,
          0.38048170113841806,
          -0.0463106040198688,
          -0.4374355727790328,
          1.116245748993385,
          -0.3637810538010319,
          0.103442349826445,
          0.27295678844899274,
          0.03847372179847431,
          -0.3733099284540426,
          -0.15057907573155271,
          0.3421329471111737,
          -0.2721286202366618,
          0.03382408816584958,
          -0.3294365144878374,
          0.010814907182375514,
          -0.02224841185082498,
          0.233771365437902,
          -0.6351200048699917,
          -0.29909792027317483,
          -0.4933356837379414,
          0.3145811326974692,
          -0.31125507417650816,
          1.9247535624378826,
          -0.24069382399834943,
          0.01952544189352867,
          -5.1647264171503116,
          -0.557245365024826,
          0.10413466628209812,
          -0.2879690303023066,
          0.16662582631590797,
          -0.27629319718689815,
          0.7712941672598662,
          0.19284919808741205,
          -0.5769504109706374,
          -0.10808337584096768,
          -0.3169563795905783,
          -0.3947839461590196,
          -0.012635952986649964,
          0.13429086385094297,
          0.3558238604664039,
          -0.23463450403973674,
          -0.2985162551941195,
          0.05183896858538646,
          0.049835488865807756,
          -0.7698873908473784,
          0.22636543483411567,
          -2.72347598213275,
          0.30110130120640566,
          -0.3581547464690128,
          -0.13298548003788474,
          -0.3673519903531179,
          -0.5353221752606176,
          -0.6693984425698561,
          0.5370488080677746,
          0.5605040418060464,
          0.1757754638520115,
          0.36161330729031205,
          -0.17289504065838593,
          -0.49175460016569894,
          0.12564971234858796,
          -1.1272992631606162,
          0.02837537924421129,
          0.041154963229997975,
          0.6429509330467233,
          -0.4562812051139592,
          -0.15352186648617716,
          0.5180108593369182,
          0.4410021075622941,
          0.06814761803952193,
          -0.3532420656843692,
          -0.11698598665473146,
          -0.2742964657199274,
          0.3928471073198184,
          0.16739417810671467,
          -0.8864754552864464,
          0.8122421436647312,
          -0.35867567984979304,
          -0.06319750578394333,
          -0.01627695208795775,
          0.4254967902329126,
          -0.7866791314906943,
          0.14409936457593078,
          -0.24435476255653782,
          2.5146194934834092e-05,
          0.07087295877829476,
          -0.3420091935933981,
          -0.45875571849735886,
          -0.11906180125232864,
          -0.1328094345707566,
          -0.5668192106659034,
          -0.38827662913588057,
          1.0519791670688508,
          0.17322740628506164,
          0.13906111358935572,
          0.4046913043982052,
          -0.15070434048806286,
          -0.6322334738294567,
          -0.2340565318399764,
          0.6594939756412845,
          0.2570644174447089,
          -0.07214227300021758,
          -0.05511133570590594,
          -0.1599263722690933,
          -0.6454744335895464,
          -0.35338458376536463,
          -0.0009686864430904684,
          0.09967914760736002,
          -1.139887168766869,
          -2.4931126394567524,
          1.1848193962652858,
          -0.15418721968747504,
          -0.36795738484297924,
          0.18536833568874317,
          -0.1483105507463528,
          -0.24007362921829167,
          -0.7194489065337686,
          0.20047244293188443,
          0.0676051183112242,
          -0.8829358321672205,
          0.1266828162828184,
          -0.7534908784901675,
          -0.709614560482391,
          -0.5747393710731191,
          0.35098310428684204,
          0.9507378307269398,
          0.04481740526738493,
          0.8790826690035685,
          -0.07297780393012761,
          0.08001357924443651,
          -1.422706460464934,
          0.10084069583149136,
          0.12225624671903595,
          -0.24194384132791263,
          -0.556813125758653,
          0.1455016687174698,
          -0.003947775377663431,
          -0.19087732011213704,
          0.35375154851511637,
          -0.48361641536085276,
          -0.8661377719886372,
          0.6277028628502987,
          -0.004508529089855011,
          -0.30841467816927437,
          0.2441534745667233,
          0.04644412221581468,
          -0.5496118130714297,
          0.2707531083859509,
          -0.42463420115354433,
          -0.34433764486324514,
          -0.6368772104119251,
          0.16027217786927428,
          -0.21799279772252517,
          -0.1727880467109492,
          -0.23548449138310357,
          0.13751761504193194,
          -0.2533779593456577,
          -0.6248131267970024,
          -0.4891139888539726,
          -0.12782733786337283,
          -0.24258381792328687,
          1.063249715500616,
          -0.38083852142009494,
          -0.0092394986587452,
          0.5046509462515887,
          -0.646963156334216,
          0.7785183160417253,
          -0.6766011790370094,
          0.6427433419038064,
          1.1092881214332153,
          0.5068911864133369,
          -0.5332303874147396,
          0.4099818479075534,
          -0.2000295789507275,
          -0.5136733805205722,
          0.24728208994942144,
          -0.002116186597349576,
          -0.6101070165523265,
          -0.06751750677600034,
          1.210910510054762,
          0.8186259161828496,
          -0.21908738274586628,
          -0.4594232943424172,
          0.5158429877406407,
          0.30700924640031546,
          -0.3484090880938217,
          -0.31071634704585555,
          0.23859979544188634,
          0.1154871179507327,
          -0.03951821362688824,
          -0.2248951562735401,
          0.06031877949167252,
          1.5047896126882463,
          1.8449330256915557,
          -0.42599671696900515,
          -0.5315789171190538,
          0.20843031864339606,
          0.7974279059301478,
          16.362249138006057,
          0.6312898683456912,
          0.04033271603171237,
          0.5050064819857417,
          -0.08293112067229043,
          -0.25344949584864,
          -0.4586352989594108,
          0.2234513217405536,
          -0.5297353514354914,
          -0.1377088657511132,
          -1.1723035005495928,
          -0.3620762908511578,
          -0.009302305472798473,
          0.39058255415519566,
          -0.6249124511002472,
          0.7238178053572419,
          -0.03986607463738662,
          0.1940501916271554,
          -0.27627609087657107,
          -0.13979325591980843,
          0.08963803717912534,
          -0.3576280948265032,
          -0.47318774997024105,
          0.31180730111530564,
          0.1975107431376091,
          -0.3365361842266817,
          0.020186008477499934,
          -0.5684351024597347,
          0.5732108423840099,
          0.12346138285111477,
          0.2103614486191282,
          0.23401050829228115,
          0.3074137932424215,
          -0.68466786806391,
          0.22593959917815212,
          0.7405118267756792,
          -0.4823702967358654,
          -0.29415033553085146,
          0.614111066108162,
          -0.04854475105107941,
          0.37211127647606074,
          0.4987850706533028,
          -0.5389116122808516,
          -0.36572917638397895,
          -0.13013168893393523,
          0.038479683666829675,
          -0.016556195738259036,
          0.84793170436768,
          0.022420855620745427,
          0.15729867207346196,
          -0.3155085049351193,
          -0.306769497313007,
          0.010534326097710257,
          -0.22518921101970796,
          0.12778296691502256,
          -0.08944935683097151,
          -0.08322196247020192,
          -0.09138474921888058,
          -0.7159667097656885,
          -0.28341874317600896,
          0.7554065567028123,
          0.29186238132972714,
          -0.2972321156711642,
          2.573631745817796,
          0.39512358783466495,
          -0.502019075984932,
          -0.2984346772575146,
          -0.09871069406779855,
          -0.5877288874476928,
          -1.1839141214016107,
          -0.3035607978089231,
          -0.6098425021966265,
          0.01813962253697991,
          -0.5547711231063334,
          0.17771748306532725,
          -0.2888691092453798,
          -0.02616271146691047,
          1.2796690134160895,
          0.10726176518642365,
          0.45498286242784036,
          -0.14942325058411893,
          0.23226399251554253,
          -0.0866379556538095,
          -0.7842838491482563,
          -1.4800060210398134,
          0.19951347239247555,
          0.4258424823663878,
          -0.20334642000191613,
          -0.42939676607059263,
          -0.23427172917079844,
          -0.29535371107480407,
          0.3799540835730196,
          -0.03300151891547075,
          1.0376752874449326,
          0.1953625400789468,
          -0.6361189001856924,
          1.4502740016473767,
          -0.9512914809455476,
          -0.7529292358585805,
          0.4316072610648338,
          -0.37266721864099955,
          0.1269383687831388,
          -0.1495192885663818,
          0.9406231882478244,
          -0.9492070763957217,
          0.050948483070389405,
          -0.14718802588265859,
          0.5973084005307131,
          -0.017048338443883107,
          -0.27378531475682055,
          -0.0001989872759865771
         ]
        }
       ],
       "layout": {
        "autosize": true,
        "legend": {
         "tracegroupgap": 0
        },
        "margin": {
         "t": 60
        },
        "scene": {
         "aspectmode": "auto",
         "aspectratio": {
          "x": 0.8804688073211725,
          "y": 1.0585729251918539,
          "z": 1.072914817974821
         },
         "camera": {
          "center": {
           "x": 0,
           "y": 0,
           "z": 0
          },
          "eye": {
           "x": 1.5773765059670866,
           "y": 0.6537541805681253,
           "z": 0.4844231658187763
          },
          "projection": {
           "type": "perspective"
          },
          "up": {
           "x": 0,
           "y": 0,
           "z": 1
          }
         },
         "domain": {
          "x": [
           0,
           0.98
          ],
          "y": [
           0,
           1
          ]
         },
         "xaxis": {
          "title": {
           "text": "pc1"
          },
          "type": "linear"
         },
         "yaxis": {
          "title": {
           "text": "pc2"
          },
          "type": "linear"
         },
         "zaxis": {
          "title": {
           "text": "pc3"
          },
          "type": "linear"
         }
        },
        "template": {
         "data": {
          "bar": [
           {
            "error_x": {
             "color": "#2a3f5f"
            },
            "error_y": {
             "color": "#2a3f5f"
            },
            "marker": {
             "line": {
              "color": "#E5ECF6",
              "width": 0.5
             }
            },
            "type": "bar"
           }
          ],
          "barpolar": [
           {
            "marker": {
             "line": {
              "color": "#E5ECF6",
              "width": 0.5
             }
            },
            "type": "barpolar"
           }
          ],
          "carpet": [
           {
            "aaxis": {
             "endlinecolor": "#2a3f5f",
             "gridcolor": "white",
             "linecolor": "white",
             "minorgridcolor": "white",
             "startlinecolor": "#2a3f5f"
            },
            "baxis": {
             "endlinecolor": "#2a3f5f",
             "gridcolor": "white",
             "linecolor": "white",
             "minorgridcolor": "white",
             "startlinecolor": "#2a3f5f"
            },
            "type": "carpet"
           }
          ],
          "choropleth": [
           {
            "colorbar": {
             "outlinewidth": 0,
             "ticks": ""
            },
            "type": "choropleth"
           }
          ],
          "contour": [
           {
            "colorbar": {
             "outlinewidth": 0,
             "ticks": ""
            },
            "colorscale": [
             [
              0,
              "#0d0887"
             ],
             [
              0.1111111111111111,
              "#46039f"
             ],
             [
              0.2222222222222222,
              "#7201a8"
             ],
             [
              0.3333333333333333,
              "#9c179e"
             ],
             [
              0.4444444444444444,
              "#bd3786"
             ],
             [
              0.5555555555555556,
              "#d8576b"
             ],
             [
              0.6666666666666666,
              "#ed7953"
             ],
             [
              0.7777777777777778,
              "#fb9f3a"
             ],
             [
              0.8888888888888888,
              "#fdca26"
             ],
             [
              1,
              "#f0f921"
             ]
            ],
            "type": "contour"
           }
          ],
          "contourcarpet": [
           {
            "colorbar": {
             "outlinewidth": 0,
             "ticks": ""
            },
            "type": "contourcarpet"
           }
          ],
          "heatmap": [
           {
            "colorbar": {
             "outlinewidth": 0,
             "ticks": ""
            },
            "colorscale": [
             [
              0,
              "#0d0887"
             ],
             [
              0.1111111111111111,
              "#46039f"
             ],
             [
              0.2222222222222222,
              "#7201a8"
             ],
             [
              0.3333333333333333,
              "#9c179e"
             ],
             [
              0.4444444444444444,
              "#bd3786"
             ],
             [
              0.5555555555555556,
              "#d8576b"
             ],
             [
              0.6666666666666666,
              "#ed7953"
             ],
             [
              0.7777777777777778,
              "#fb9f3a"
             ],
             [
              0.8888888888888888,
              "#fdca26"
             ],
             [
              1,
              "#f0f921"
             ]
            ],
            "type": "heatmap"
           }
          ],
          "heatmapgl": [
           {
            "colorbar": {
             "outlinewidth": 0,
             "ticks": ""
            },
            "colorscale": [
             [
              0,
              "#0d0887"
             ],
             [
              0.1111111111111111,
              "#46039f"
             ],
             [
              0.2222222222222222,
              "#7201a8"
             ],
             [
              0.3333333333333333,
              "#9c179e"
             ],
             [
              0.4444444444444444,
              "#bd3786"
             ],
             [
              0.5555555555555556,
              "#d8576b"
             ],
             [
              0.6666666666666666,
              "#ed7953"
             ],
             [
              0.7777777777777778,
              "#fb9f3a"
             ],
             [
              0.8888888888888888,
              "#fdca26"
             ],
             [
              1,
              "#f0f921"
             ]
            ],
            "type": "heatmapgl"
           }
          ],
          "histogram": [
           {
            "marker": {
             "colorbar": {
              "outlinewidth": 0,
              "ticks": ""
             }
            },
            "type": "histogram"
           }
          ],
          "histogram2d": [
           {
            "colorbar": {
             "outlinewidth": 0,
             "ticks": ""
            },
            "colorscale": [
             [
              0,
              "#0d0887"
             ],
             [
              0.1111111111111111,
              "#46039f"
             ],
             [
              0.2222222222222222,
              "#7201a8"
             ],
             [
              0.3333333333333333,
              "#9c179e"
             ],
             [
              0.4444444444444444,
              "#bd3786"
             ],
             [
              0.5555555555555556,
              "#d8576b"
             ],
             [
              0.6666666666666666,
              "#ed7953"
             ],
             [
              0.7777777777777778,
              "#fb9f3a"
             ],
             [
              0.8888888888888888,
              "#fdca26"
             ],
             [
              1,
              "#f0f921"
             ]
            ],
            "type": "histogram2d"
           }
          ],
          "histogram2dcontour": [
           {
            "colorbar": {
             "outlinewidth": 0,
             "ticks": ""
            },
            "colorscale": [
             [
              0,
              "#0d0887"
             ],
             [
              0.1111111111111111,
              "#46039f"
             ],
             [
              0.2222222222222222,
              "#7201a8"
             ],
             [
              0.3333333333333333,
              "#9c179e"
             ],
             [
              0.4444444444444444,
              "#bd3786"
             ],
             [
              0.5555555555555556,
              "#d8576b"
             ],
             [
              0.6666666666666666,
              "#ed7953"
             ],
             [
              0.7777777777777778,
              "#fb9f3a"
             ],
             [
              0.8888888888888888,
              "#fdca26"
             ],
             [
              1,
              "#f0f921"
             ]
            ],
            "type": "histogram2dcontour"
           }
          ],
          "mesh3d": [
           {
            "colorbar": {
             "outlinewidth": 0,
             "ticks": ""
            },
            "type": "mesh3d"
           }
          ],
          "parcoords": [
           {
            "line": {
             "colorbar": {
              "outlinewidth": 0,
              "ticks": ""
             }
            },
            "type": "parcoords"
           }
          ],
          "scatter": [
           {
            "marker": {
             "colorbar": {
              "outlinewidth": 0,
              "ticks": ""
             }
            },
            "type": "scatter"
           }
          ],
          "scatter3d": [
           {
            "line": {
             "colorbar": {
              "outlinewidth": 0,
              "ticks": ""
             }
            },
            "marker": {
             "colorbar": {
              "outlinewidth": 0,
              "ticks": ""
             }
            },
            "type": "scatter3d"
           }
          ],
          "scattercarpet": [
           {
            "marker": {
             "colorbar": {
              "outlinewidth": 0,
              "ticks": ""
             }
            },
            "type": "scattercarpet"
           }
          ],
          "scattergeo": [
           {
            "marker": {
             "colorbar": {
              "outlinewidth": 0,
              "ticks": ""
             }
            },
            "type": "scattergeo"
           }
          ],
          "scattergl": [
           {
            "marker": {
             "colorbar": {
              "outlinewidth": 0,
              "ticks": ""
             }
            },
            "type": "scattergl"
           }
          ],
          "scattermapbox": [
           {
            "marker": {
             "colorbar": {
              "outlinewidth": 0,
              "ticks": ""
             }
            },
            "type": "scattermapbox"
           }
          ],
          "scatterpolar": [
           {
            "marker": {
             "colorbar": {
              "outlinewidth": 0,
              "ticks": ""
             }
            },
            "type": "scatterpolar"
           }
          ],
          "scatterpolargl": [
           {
            "marker": {
             "colorbar": {
              "outlinewidth": 0,
              "ticks": ""
             }
            },
            "type": "scatterpolargl"
           }
          ],
          "scatterternary": [
           {
            "marker": {
             "colorbar": {
              "outlinewidth": 0,
              "ticks": ""
             }
            },
            "type": "scatterternary"
           }
          ],
          "surface": [
           {
            "colorbar": {
             "outlinewidth": 0,
             "ticks": ""
            },
            "colorscale": [
             [
              0,
              "#0d0887"
             ],
             [
              0.1111111111111111,
              "#46039f"
             ],
             [
              0.2222222222222222,
              "#7201a8"
             ],
             [
              0.3333333333333333,
              "#9c179e"
             ],
             [
              0.4444444444444444,
              "#bd3786"
             ],
             [
              0.5555555555555556,
              "#d8576b"
             ],
             [
              0.6666666666666666,
              "#ed7953"
             ],
             [
              0.7777777777777778,
              "#fb9f3a"
             ],
             [
              0.8888888888888888,
              "#fdca26"
             ],
             [
              1,
              "#f0f921"
             ]
            ],
            "type": "surface"
           }
          ],
          "table": [
           {
            "cells": {
             "fill": {
              "color": "#EBF0F8"
             },
             "line": {
              "color": "white"
             }
            },
            "header": {
             "fill": {
              "color": "#C8D4E3"
             },
             "line": {
              "color": "white"
             }
            },
            "type": "table"
           }
          ]
         },
         "layout": {
          "annotationdefaults": {
           "arrowcolor": "#2a3f5f",
           "arrowhead": 0,
           "arrowwidth": 1
          },
          "colorscale": {
           "diverging": [
            [
             0,
             "#8e0152"
            ],
            [
             0.1,
             "#c51b7d"
            ],
            [
             0.2,
             "#de77ae"
            ],
            [
             0.3,
             "#f1b6da"
            ],
            [
             0.4,
             "#fde0ef"
            ],
            [
             0.5,
             "#f7f7f7"
            ],
            [
             0.6,
             "#e6f5d0"
            ],
            [
             0.7,
             "#b8e186"
            ],
            [
             0.8,
             "#7fbc41"
            ],
            [
             0.9,
             "#4d9221"
            ],
            [
             1,
             "#276419"
            ]
           ],
           "sequential": [
            [
             0,
             "#0d0887"
            ],
            [
             0.1111111111111111,
             "#46039f"
            ],
            [
             0.2222222222222222,
             "#7201a8"
            ],
            [
             0.3333333333333333,
             "#9c179e"
            ],
            [
             0.4444444444444444,
             "#bd3786"
            ],
            [
             0.5555555555555556,
             "#d8576b"
            ],
            [
             0.6666666666666666,
             "#ed7953"
            ],
            [
             0.7777777777777778,
             "#fb9f3a"
            ],
            [
             0.8888888888888888,
             "#fdca26"
            ],
            [
             1,
             "#f0f921"
            ]
           ],
           "sequentialminus": [
            [
             0,
             "#0d0887"
            ],
            [
             0.1111111111111111,
             "#46039f"
            ],
            [
             0.2222222222222222,
             "#7201a8"
            ],
            [
             0.3333333333333333,
             "#9c179e"
            ],
            [
             0.4444444444444444,
             "#bd3786"
            ],
            [
             0.5555555555555556,
             "#d8576b"
            ],
            [
             0.6666666666666666,
             "#ed7953"
            ],
            [
             0.7777777777777778,
             "#fb9f3a"
            ],
            [
             0.8888888888888888,
             "#fdca26"
            ],
            [
             1,
             "#f0f921"
            ]
           ]
          },
          "colorway": [
           "#636efa",
           "#EF553B",
           "#00cc96",
           "#ab63fa",
           "#FFA15A",
           "#19d3f3",
           "#FF6692",
           "#B6E880",
           "#FF97FF",
           "#FECB52"
          ],
          "font": {
           "color": "#2a3f5f"
          },
          "geo": {
           "bgcolor": "white",
           "lakecolor": "white",
           "landcolor": "#E5ECF6",
           "showlakes": true,
           "showland": true,
           "subunitcolor": "white"
          },
          "hoverlabel": {
           "align": "left"
          },
          "hovermode": "closest",
          "mapbox": {
           "style": "light"
          },
          "paper_bgcolor": "white",
          "plot_bgcolor": "#E5ECF6",
          "polar": {
           "angularaxis": {
            "gridcolor": "white",
            "linecolor": "white",
            "ticks": ""
           },
           "bgcolor": "#E5ECF6",
           "radialaxis": {
            "gridcolor": "white",
            "linecolor": "white",
            "ticks": ""
           }
          },
          "scene": {
           "xaxis": {
            "backgroundcolor": "#E5ECF6",
            "gridcolor": "white",
            "gridwidth": 2,
            "linecolor": "white",
            "showbackground": true,
            "ticks": "",
            "zerolinecolor": "white"
           },
           "yaxis": {
            "backgroundcolor": "#E5ECF6",
            "gridcolor": "white",
            "gridwidth": 2,
            "linecolor": "white",
            "showbackground": true,
            "ticks": "",
            "zerolinecolor": "white"
           },
           "zaxis": {
            "backgroundcolor": "#E5ECF6",
            "gridcolor": "white",
            "gridwidth": 2,
            "linecolor": "white",
            "showbackground": true,
            "ticks": "",
            "zerolinecolor": "white"
           }
          },
          "shapedefaults": {
           "line": {
            "color": "#2a3f5f"
           }
          },
          "ternary": {
           "aaxis": {
            "gridcolor": "white",
            "linecolor": "white",
            "ticks": ""
           },
           "baxis": {
            "gridcolor": "white",
            "linecolor": "white",
            "ticks": ""
           },
           "bgcolor": "#E5ECF6",
           "caxis": {
            "gridcolor": "white",
            "linecolor": "white",
            "ticks": ""
           }
          },
          "title": {
           "x": 0.05
          },
          "xaxis": {
           "automargin": true,
           "gridcolor": "white",
           "linecolor": "white",
           "ticks": "",
           "zerolinecolor": "white",
           "zerolinewidth": 2
          },
          "yaxis": {
           "automargin": true,
           "gridcolor": "white",
           "linecolor": "white",
           "ticks": "",
           "zerolinecolor": "white",
           "zerolinewidth": 2
          }
         }
        }
       }
      },
      "image/png": "[encoded data removed]",
      "text/html": [
       "<div>\n",
       "        \n",
       "        \n",
       "            <div id=\"395e0457-e8eb-4d30-971b-cc3e5365fe1c\" class=\"plotly-graph-div\" style=\"height:600px; width:100%;\"></div>\n",
       "            <script type=\"text/javascript\">\n",
       "                require([\"plotly\"], function(Plotly) {\n",
       "                    window.PLOTLYENV=window.PLOTLYENV || {};\n",
       "                    \n",
       "                if (document.getElementById(\"395e0457-e8eb-4d30-971b-cc3e5365fe1c\")) {\n",
       "                    Plotly.newPlot(\n",
       "                        '395e0457-e8eb-4d30-971b-cc3e5365fe1c',\n",
       "                        [{\"hoverlabel\": {\"namelength\": 0}, \"hovertemplate\": \"pc1=%{x}<br>pc2=%{y}<br>pc3=%{z}\", \"legendgroup\": \"\", \"marker\": {\"color\": \"#636efa\", \"symbol\": \"circle\"}, \"mode\": \"markers\", \"name\": \"\", \"scene\": \"scene\", \"showlegend\": false, \"type\": \"scatter3d\", \"x\": [0.38031196311741927, -0.053090127250622655, 0.7774598234557548, 0.8204110289695756, 1.0596792979361378, 0.4886910463008741, -0.34022105613740655, 0.9637870621493616, -0.4268327848984773, 2.4713397412589115, 0.16394184872054848, -0.3346190451314777, 0.20481586452945946, -0.23952654072390106, -0.1825992828006636, -0.50159785022645, -0.02476212234780274, -0.22244534695772927, 0.6476834585928498, 1.254072058023932, -0.21343419063682237, 2.01471853981305, 0.04754838686122175, -1.2688699889232073, 5.012135550024711, -0.3771669855911994, 5.279028773315399, -1.1905756833503447, -1.3495558822097609, -1.5080845801450895, -1.1232588414354785, 0.42575323011994204, -0.25452579637509254, -0.5485676306818823, -1.0935300338194687, 0.6758205939170654, 0.2309680045530758, 0.022174682871577134, 0.5985073039817764, 0.03315303505680215, 0.3374825107342753, 0.39480026824192294, -0.14639873481675766, -0.16713293476852162, -0.11639008061362698, -2.9369388034231227, 0.5956050500217573, 0.8628488985244197, 0.33971034757509194, -0.40682344618051086, 0.587648562924096, 0.35910817695607467, -0.4686178856649346, -0.5586109541331317, 1.0264508470466964, -1.3727671958094818, 1.8122115189926291, 0.11635300450981458, -0.8234302316904601, -0.6690974745504236, -0.06441484024361498, 0.15992893331273395, -0.5567260509156708, 1.7541699936455575, -0.22423594394685295, 0.288131128629552, 2.761259749936805, 0.006949517345420783, 0.49784300253639924, 0.6084568069200992, 0.26593950222615664, 0.12718587553340632, -0.2745320824803605, 0.409682291235391, 0.10363236772187143, 0.4746304539158267, -0.375791311213931, -0.5956435806411269, -0.5937386501450095, -0.8392434334363081, 0.018557410438601228, -1.0338586796888918, 0.5610047182161021, -0.22946466604978838, 0.28996059774767863, -0.35140027983317645, -0.13372004758952633, 0.8881301611367044, -0.7814389001257512, 0.039837209068894854, -0.02230588575266408, -0.1867310526296626, -0.20010701190437366, -1.1572095018937167, 0.2715722638820755, 0.11163180383459144, -0.15606622121754374, 0.7736388553448154, 0.781782209528278, 0.21174182169043984, -0.43487435593420004, -1.017583216081742, 0.0838378378739353, 0.032687510187513875, -0.5286038331752889, -0.17402092740838482, 0.9696010224907388, 1.094311527002068, 0.26857335674484467, -0.46898012720490784, -0.7574203910609623, -1.3478338767693896, -0.2711166922424566, -0.00939663984430103, 0.6984688271924543, -0.036541023685134816, -0.2885290684262848, 0.4013614373541093, -0.09162662660051528, -1.2789762161376905, -0.2815777358447943, -0.1896684716789248, 0.2239956063924142, -1.284917640942145, 0.26586592432666706, -0.09320898327619931, -0.4364278767604715, 0.23329187339190957, 0.19365956561145553, 0.5579851848666674, -0.9159189099805906, 0.3052155799363936, -0.7127412311769397, 0.6212145581483576, 0.4759885287745223, -0.15618935558621322, -0.4839884494165932, 0.43081397955151185, -0.07327482580724153, -0.39410610298349585, 0.45361450166135486, 0.059496321093267954, 0.539617791588048, -0.6058562071945638, -1.0831893598475222, -1.1269700498135866, -0.17914147925644439, -1.594840455462722, -1.2598249252596907, -1.1973607490748226, -0.58805856817546, -0.3986801354985895, 0.3189602928101496, 0.28825360606525624, 0.25750550004355965, 0.06028697017187084, -0.2561691896909851, -0.23375083756494694, -1.132822682451477, 0.26882384939150555, -0.6421827521918031, -0.06995650682730148, 0.2957695636151082, -1.2890191936404765, 0.09555083350930771, 0.2618627725159894, -0.48114339142295287, -0.6423468870554716, -0.7607761279470704, -0.6628941594900395, -1.4645989700273425, -1.0976398597988, -1.0271968004636263, -0.014788500675927477, -0.07352555256575828, -1.1956217741384991, 1.3429082865706052, -0.349479377061524, 3.2204131452182274, 0.12610358569770003, -0.7746274025704392, 0.859751188910854, 0.0625901352393214, 0.02049440038956472, -0.17720460909143027, -1.0749243608099532, -0.07354116622936528, -0.19930706773268145, -0.43661513778797423, 0.7523643107485158, 0.0737202993432852, -0.5143190769006429, 0.03305182185268299, 0.0456589918267534, 0.20982113600342772, -1.708959987448298, 0.0001421948360075982, 0.895219322599622, -0.49703317990248086, 0.43285976679519556, 0.21854568384935988, 0.37969432269724657, -0.7141713197250948, -0.04151523366787264, -0.34382041353501713, 0.37703738913892326, 0.4614428300142232, -0.3094938940285746, -0.9391389945825703, 0.5008665350835083, -0.12672669589145305, 0.17761284431459226, -0.5015996139252308, 0.17829533728984853, -0.8134446237120364, 0.1442787963455621, -0.384629514326618, -1.6805306270388471, 0.2591813727308441, 0.35663046472361065, -0.12098329345165887, -0.12967432361541878, 0.3999225388257986, -1.0710025865722264, -0.4082492842086787, 0.49600079820262594, -0.08878438805023439, -0.018268922467413937, 0.163601222449616, -0.12659022038948917, 0.012971253295618712, -0.04572142823147488, 0.13522074537481493, 0.8883575770674865, 0.2966920370382165, -0.24424096428175088, 1.23352046388214, -0.3282339785107213, 6.409199976821951, -0.4586744486973469, 0.027601791542986236, 0.4159894295480137, 0.9717329026298837, 0.14105335126247684, 0.6440539904829543, 0.48791756360541616, -0.7570889036822908, -0.4114323193966923, -0.39043488124197184, 0.008390812890712557, 1.3667860683159119, 0.061133794025017806, 2.1226992933607947, -0.29432746779689367, -0.29062764447606226, -0.9532546432438789, 0.16836467650919734, 0.17495914920343117, 0.12183918824256597, -0.6475317437808241, -0.2834180401520302, 0.29643435872910656, -0.3244034090625709, -0.13823279813820102, -0.5833555433077445, -0.49913181890177155, 0.8988077507278153, -1.8403823121195084, 0.39938819248097696, -0.18676121811166357, -0.1820554664464526, -0.9319835035122066, 0.5858857622219636, 0.2660008932245323, 0.0036315010546678394, -0.0854168813944535, -0.247629154036219, 0.27082118476032135, 0.1568915769751599, -0.2571005170955513, -0.36902851677435794, 0.37279860320994473, 0.16220546764998486, -0.709277144541275, -0.25594796185283875, -0.2339497412652462, -0.5704440663732151, 0.29573702632006355, 1.5523798708778496, 0.1688159426084208, -0.8216995008536353, -0.07975178533957955, 0.05740758138953474, 0.3632423049560676, 0.5206239361229654, 0.3760811594629185, 0.3682892661913483, 0.3843811210252009, 0.5229910203792938, 1.0492055273893832, 6.1496076983000645, -0.7649834503675771, -0.19989142538052976, 0.06480747339234885, -0.23171676318418338, 0.1371648914035112, 0.10335302701152099, 0.6229385989454463, -0.3295819661568276, 0.27745401629794825, 0.6632890821452802, -0.3947596167635425, -0.0057445342852957965, 0.49906651469958113, 1.784761374477131, -0.1245543772411663, -1.23751268036054, -0.18124172185604046, -0.6440578312034891, -0.2828174835647055, 0.3087634169464725, -2.6686406849712254, 0.4866559610762104, -0.6270561326859179, 0.0868668853239101, 0.35354277048047816, -0.3045365747077439, 0.10681387583970149, -0.10326038986530331, -0.720731878654457, 0.15702052915464307, 2.0218427777183603, -1.081435338945402, -0.329821448782721, 0.1412391258098624, -0.6960403098497417, -0.22366372785519725, 0.8532235218639257, -1.0019260689412137, 0.13628468821070747, 0.013083048631953722, 0.4865302863589957, -0.3052638800079064, 0.8824416143019101, -0.031878877255427346, -0.11887453651088993, 0.1364299585220496, 0.3917834202345195, 0.7226374979858639, 0.8229201743412318, 0.23221030046549715, -0.03949961513687498, -1.5368974331989016, 0.10785371169447683, -0.18061584968519895, -0.9413849958134868, 0.39861746868859527, -0.030791578940506437, 0.4547651942594949, -1.0246285407835087, -1.4123745435493926, -1.0471554354023442, 0.21285452540870187, -0.3743702937667268, 0.10984297639669889, 0.20088626055002776, -0.600710077585135, -0.3669495823047057, 0.32456786342033106, -0.05967543744325903, -0.8854230416602507, -0.7405297264249102, 0.10792343661198708, 0.14486449850252286, -0.7082401935811491, -0.19359753997137547, 0.024619459133232217, 0.13504384183103835, -0.15592265716643786, -0.07847247731680118, -0.08273545567152331, -0.012233993879019621, -0.27346878219145626, 2.2408472728057043, 0.015760084574991853, 0.5581260881414948, 0.33774404960459, -0.5377009690564013, -1.068841723395923, 8.872168921070166, -0.8028656482595449, -0.22054380398782183, -0.3330184184393879, -0.2941475456957486, -0.05761087385220036, 0.3267080129593085, -0.01354426951682755, 0.30135597754508703, 0.22104160302437378, 0.9795848548740002, -0.03712174030582498, 0.1393933534941408, -0.6400221299168196, 0.4206642469862894, -0.3976381266616534, -0.37702544556059375, -0.3748914813976152, 0.08331314101028635, 0.6464582012171746, 0.09671807972482874, 0.508047760217621, 0.16236256182359124, -0.7187812308248452, -0.5463771436343583, 0.1122046399064219, 1.0131263825127896, 0.5057094554212581, -0.9533188877876712, 0.32531410221509005, -0.17880334552782864, -0.17636062516026205, -0.9029425119867905, 0.5623831084063018, -0.6375556030170328, -1.0748447789562834, 1.585032737982304, -0.06957012826535294, -1.0896166266459815, -0.29007987368751453, -0.7654969637419972, -0.5983616734719336, 0.3375509509192462, 0.22900818528209269, 0.8187609232108634, -0.35827877595004815, 0.13652057024766373, -1.1449611975305036, -0.1259542840118166, -0.46214789782873633, 1.0050692821441933, -8.793567607815552, -0.19171408646057256, 0.7097502975693074, -0.253167505229827, -0.08914621874706664, -0.1701577097961861, 0.14540071079806827, 0.6672608151546361, 0.021513178293025428, -0.33329744350753143, -0.622378188257428, 0.20641416704862714, 0.003159591550065891, -0.7451763168159681, 1.0310365019536676, 0.3891432747370149, -0.34251005721337185, 0.630930692796167, 0.9702344837075185, 0.3815984071952124, 1.1760863775374626, -0.37518550057465905, 0.153023738332839, -0.362892578422523, 0.10934161181987669, -0.04933878809253343, -1.2117090156814374, -0.031791498148228015, -0.40764057225514017, 0.441180232311468, 0.6632511741356659, -0.35392366575177187, 1.9519319139913716, -1.6154251433094566, -0.28219313197187634, -0.7889137367545456, -0.0626224012531698, 0.28441696857332294, 0.04183006743684974, 1.0426355848944278, -0.5440615145513739, -0.1631855805328348, -1.3122536781594187, -0.4523471977223886, 0.9513854525392154, -0.8813058332002951, 0.21789464428364666, 0.5074985303170543, 0.2566556121895862, -0.005728628485802712, -0.25280541777659854, 0.5913640748339078, -1.1982208951798472, 0.6920309003430161, -0.13134076847745427, 0.04207232985670459, -0.7271633911345452, 0.03257813330267126, -0.1094925866513529, 0.18051970371056664], \"y\": [0.0613976658760616, 0.10437367035780958, 0.13742094688869244, 0.06931349676278648, 0.9006697276516088, 0.0668118336512324, -0.2709389300336677, 0.291592191137738, -0.20269242491634903, 1.6425526285341505, 0.2620497338492693, -0.23751789428338188, 0.1952206324780327, -0.21886247157301503, -0.05009396121376878, -0.2334230428404193, 0.11901918427478429, -0.22444066535474425, 0.5496667788002956, 0.9909305064735641, 0.02203930182228992, 1.0539942049363484, 0.2344534522513425, -0.8507948355440127, 0.40413930786407404, -0.3756646265119832, 0.7860972365593608, -0.8370261409073154, -0.928567069844622, 4.518300566935564, -0.8648678433606014, 0.13058824537567348, -0.22040487561377423, -0.598258174994075, -0.7582723446281358, 0.6126423454489308, 0.3207684893101662, 0.08549716454982378, 0.17050799007733736, 0.08284853514899633, 0.22503352565362142, 0.33674988794533683, -0.21790978855769272, -0.0940620721163584, 0.12310576991841456, -1.6830068318839642, 0.2898431019103037, 0.61877995929851, 0.3419717812396461, -0.2514693624464449, 0.5520775326332426, 0.3874519300200448, -0.28791390704960745, -0.30340880386670177, -0.13536888342327139, -0.9262029139543542, 0.9542798657551759, 0.01654012046612689, -0.7503626523747793, -0.5093955583231513, 0.1366661132822595, 0.2031185460206937, -0.3439821694758589, 0.3284833192047803, -0.17211659280703576, 0.07676522439703225, 0.15975103414626365, 0.14874298113559206, 0.3819792727620138, 0.31851440440658924, 0.14964546625858882, 0.23340138004011168, -0.1819561253629667, 0.194089221130753, -0.26582747193451406, 0.009627891733498296, -0.1400463232854883, -0.3593805885740827, -0.2741757638297193, -0.44546384737257344, 0.09590975595316811, -0.6013601946195172, 0.39929677203566905, -0.010985868752651281, 0.3521574153362697, -0.14606254163514026, -0.06075679647240955, 0.5709001217603611, -0.47927531206940355, 0.12551425026277893, 0.17089174442648805, -0.0023071955930556347, -0.07895770506537961, -0.7511407552135272, 0.3086958008116302, 0.12579984664125576, -0.008258162102186918, 0.27781895661462064, -0.0876789940735395, 0.19824133991532944, -0.43936589695543843, -0.6554790460758986, -0.046065499699385774, 0.17584657768286086, -0.31059880019492775, -0.0627622178724758, 0.21088282862579746, 0.3540809346660184, 0.28966180163727984, -0.16196079240697847, -0.7052910090886404, -0.9243472713800771, -0.1548090800227336, -1.4072864947124804, -0.0348464681337281, 0.10513810736770712, -0.10380651234959612, 0.37865022648321567, -0.1502295167056045, -0.9208454558569643, -0.22558426113013988, -0.04513310617077562, 0.2333791715504372, -0.9757174855028763, -0.13128146867996018, 0.014766117489951417, -0.4418289408098168, 0.14783534260461398, 0.23208181847800144, 0.21773252422850548, -0.5904908740636526, -0.049058832241183424, -0.40883105526214286, 0.594616732757077, 0.33548359506065234, -0.05208214975489724, -0.28850657570858984, 0.4533589359721138, 0.04520440284147339, -0.33598295658161254, 0.4261936804980698, 0.14784885879533283, 0.501423782964181, -0.4270356720362917, -0.7219043304077216, -0.9471318685638987, -0.02551445212704602, -1.1756192493023234, -0.8846492630076409, -0.9885029095754736, -0.422254398200407, -0.2997979889626927, 0.3688570863265969, 0.3472611501334407, 0.3127518255468211, 0.05539797445507788, -0.09952365975537751, -0.221381978905835, -0.7887609395836076, 0.1648691203103487, -0.44762001964516185, -0.0994730276791096, 0.22390029847366075, -0.9093927609704452, 0.06859111432141636, 0.2285232912852061, -0.4580057738615437, -0.5115950790555305, -0.5772914901827544, -0.4539456303485547, -1.007127168059592, -0.7737320192092038, -0.7788051972716976, 0.07961122573956927, 0.08162800950325969, -0.8087433543268727, 0.05232733493707518, -0.11659359191381259, 0.39292063506391983, 0.1966351741784161, -0.5030659558442672, 0.5821949000276803, -0.16019156305479543, 0.09824638082008748, -0.05611570680038206, -0.7363501120423609, -0.22574594719960284, -0.09069124974200723, -0.21026086171869607, 0.6913730000487903, 0.19384759073371474, -0.36963981017716296, 0.08427432370854289, 0.07472704770036281, 0.29155531267924206, -1.1859825916228133, 0.11495296209030151, 0.6526257397650764, -0.2838871994375856, 0.3944698562136099, 0.14561907864031626, 0.05551902272977706, -0.4639112825482691, -0.05127230681958037, -0.13952695643458665, 0.11737021093867368, 0.24733580355810647, -0.12131407647869677, 0.08719026016614129, 0.4456672593900799, 0.11174186196418225, 0.29024373669882986, -0.26011831463459695, -0.07484881960947537, -0.6370503909088191, 0.2179474086296322, -0.1480351398181045, -0.7343657572315149, 0.2761224244895039, -1.0941817185432328, 0.047324166599990516, -0.010738091996314557, 0.012290453968826047, -0.7347514031965706, -0.21524177648160658, 0.059166171843065204, -0.06572841274059024, 0.08804769398749937, 0.2736200744077333, 0.01769379246032369, 0.41495833417266875, -0.039599127157519086, 0.16430419560241527, 0.6019641968365453, 0.2644859016016227, -0.13724303300095203, 0.16337060084498609, -0.2923350669393539, 0.4902764970487308, -0.26113926926170955, 0.12907821749479084, 0.24253718795421303, 0.590948175007903, 0.23985448402584048, 0.5930933452773968, 0.3143193330524932, -0.44730980753875893, -0.18583579713295642, -0.1870717466569091, 0.10219301836520232, -0.19421491535179342, 0.033158174362845905, 0.16640111501185614, -0.10570711176819594, -0.11859192804208113, -0.6071463961837978, 0.20893694562457782, 0.20573811118013638, -2.539980901108028, -0.3838254235526349, -0.23729374805949663, 0.3099415085952995, -0.10192574941760581, -0.10553732767891041, -0.4500566231037961, -0.2772270494938711, 0.7120595009355822, 0.6718703187749107, 0.28726967852032986, 0.007650911842275411, -0.029558922055849302, -0.6002541178206205, 0.5345635872433675, -0.10177778647774713, 0.11333660362118199, -0.05800502875056005, -0.11065997846144192, 0.302093727291126, 0.20290170983811764, -0.10886732974712847, -0.12471664641327614, 0.378947205489657, 0.13209839065327256, -0.4473318159528588, 0.0015448804182969019, -0.20657418562473065, -0.34925868318145, -0.9349628871807895, 0.4245443157171367, 0.23906613265577842, -0.5433431429536942, -0.6233073878086696, 0.0835212461555215, -0.15347552060571945, -0.2589015023715827, 0.2725156918861967, 0.5180477868088385, 0.3230291899374631, 0.3875481717116546, 0.743413709819888, 0.42603549392883583, -0.5439177546854914, -0.03249944320026829, 0.15311583512354165, -0.31626207661409933, 0.14335162042843397, 0.6291148348917908, 0.3225565822418453, -0.4202301085334779, -0.2235795588603701, 0.6050540899377591, -0.20197663387164302, 0.11863404142044656, 0.650053961027605, 0.9478588048427249, -0.021968631224434643, -0.9111260388793014, -0.03849496596687244, -0.7896934516128064, -0.06881626902268562, -0.148031759916715, -1.6471355813804538, 0.40181960400439753, -0.22507652738500455, 0.04269279084654614, 0.3374992486384157, -0.26559840418964586, 0.13813640062229296, 0.03301108177671863, -0.5037968977451838, 0.22062407879043597, 1.1094136752768422, -0.6601484156968407, -0.21503253914189452, 0.21790682267948508, -0.34678720873759067, -0.11616073837921304, 0.15711607372270664, 0.824908717138826, 0.17859563340931378, 0.15533027507916486, 0.4393190820076327, -0.14185971188161095, 0.31254582577356765, 0.10662821681169019, 0.0339769427757574, -0.39429865911522144, 0.376086783642728, 0.6300808797886895, -0.010115834181364166, -0.30848883990255654, -0.041414970041230265, -1.0345283079288676, 0.1568050066462008, -0.07494982310024073, -0.6301595298722145, 0.3913671860256649, -0.1623571294522159, 0.3482334539467269, -0.7209755691156092, -1.0188099843053895, -0.6442619715978566, 0.28845434450968493, -0.20837369131046007, 0.04527467023798446, 0.2864876395416049, -0.3420741553142639, -0.13550529216585014, 0.36127350081982545, -0.09879722729321387, -0.6601943856711777, -0.48493596570848085, 0.08692716904181301, 0.2028228970084641, -0.48858433363204745, -0.08052753651333673, 0.20432455640450162, 0.36212590065305494, 0.0031662704930085083, -0.05836799257573899, -0.001220547381326836, 0.049669474229117286, 0.5190412183688861, 1.0434380771423057, -0.11275792364680091, 0.34347203166504187, 0.3998745529482656, -0.5079007766786587, -0.8070540408845587, 4.823979858053994, -0.5467728300539392, -0.07690957081532045, -0.17357014072541943, -0.07992977338255837, 0.030618724202001978, 0.308300592538809, -0.37966780285571494, 0.27161726652769164, 0.044332374755487736, 0.8573777291815459, 0.07218533245480264, 0.15678874780202592, -0.3767591739780192, 0.3945654935030503, -0.2423432228392898, -0.13618220356602495, -0.33737080421115506, 0.10543467593407152, 0.534430302638427, 0.13418411335882677, 0.16482989206131568, 0.24732849006292154, -0.4039570277803794, -0.3827506572407103, 0.06500230471540393, -0.013346969235156892, 0.30623646548822236, -0.4015502626294258, -0.4237854978788949, -0.06173360220659651, -0.19784660291167877, -0.5004808437593702, 0.28440049893194824, -0.39893959822413505, -0.6575392141091537, -1.412853085309795, 0.10596508513144612, -0.7026829489710178, -0.20866460857808705, -0.48972125615154305, -0.34019896225732, 0.3625536479873968, 0.07078746516370465, -0.38281212376853385, -0.24231380003697506, 0.08171012212428981, -0.9384453879984809, -0.12840875649399883, -0.32453536637140956, -0.11092059727551347, 18.69923874819147, -0.10477959395746812, 0.17555676832259703, -0.09800058960489395, -0.14492598126115638, 0.02346653856735315, 0.032174313392489905, 0.6211927851392683, 0.020312176271480884, -0.24770607166315367, -0.4258500772395889, -0.030797773193579864, -0.11634153972125014, -0.41126354509247576, 0.833746661059715, 0.024816000415646976, -0.14581951867921872, 0.4036934309609776, 0.8791831384181722, -0.024545238285782988, 0.05354029023641657, -0.1640718147532806, 0.25224480701566887, -0.2195323463591561, 0.08891542995126742, 0.07416805636096256, -0.8767481462565926, -0.06855190297346664, -0.24007180666925582, -0.41475036200432486, 0.3685649077793327, -0.14257276874199615, 0.17309052387890145, -0.9329620469997876, -0.14440232787062623, -0.48480229432273997, 0.11002282599797518, 0.29705453384814334, -0.0017420362049797493, -0.3222993394128892, -0.40778660134172656, 0.22503456139019223, -0.9437410522839488, -0.24254851313658568, 0.025631801498133752, -0.7075638245279432, 0.26126839915411876, 0.487588001877143, 0.1832870215342701, 0.15651279489830597, -0.14390953108823554, 0.4987960855876355, -0.8755622046934765, 0.6532652098713599, -0.015655511241146777, 0.13122964392051756, -0.5559055954908422, 0.04020733253938323, 0.04666385501749639, 0.12408366933147257], \"z\": [-0.3954161648517012, -0.21089288694597733, -0.1752485540557228, -0.6538479927127351, -0.8275967195819245, -0.2761246242128035, 0.24268155175295097, -0.09239595629350353, 0.1370614059150231, 0.26760048284158866, -0.9129075895868445, 0.009808642949512208, -0.13738032996174757, 0.18653912804969558, 0.12235249505451216, 0.05714142147110102, -0.3245644314030875, 1.6935898843633947, -0.7868052019210481, -0.7170880245775126, 0.06131895864533662, 3.011489641919188, -0.48381138727905276, 0.9296018822115293, -2.0731153227681944, 0.13164341018357406, -1.74901557899767, 0.9871206928066592, 0.9642986047497828, -0.7797900353653835, 0.8684431893321567, -0.44375362799745954, 0.09597486468572045, 0.8407331756106124, 0.885907463071253, -0.8792665347920349, -0.5070450464200611, -0.12343400060436988, -0.4530612757954073, -0.1345505508819117, -0.2333707164639338, -0.10093742391398076, -0.008778260523263729, 0.07449390332246157, -1.7043272904555051, -3.3686901199034587, -0.5293516983294544, -0.8231284881861445, -0.4460734330503028, 0.1284553159668974, -0.7697598222354491, -0.5061851771273391, 0.4500535154015526, 0.23639133058275832, -0.45436911761214854, 0.9773390472873685, 1.137868436540329, -0.06261623837088433, 0.5370559607548792, 0.9251171376541741, -0.20505710013514716, -0.391144674493134, 0.44902003511506755, -1.1069533692191231, 0.16107291112833405, -0.0718950520096061, -1.2521578604469503, -0.31359524810142475, -0.6920215323976063, -0.5937051566387305, -0.3042133202527459, -0.46959922053207886, 0.5771518219466998, 0.006389969052669535, -0.07430707826952127, -0.03345482845649075, 0.21685712528664658, 0.5266116422229378, 0.1850992553012279, 0.2856761005138491, 0.13587931476593698, 0.661203595865634, -0.7619141936199741, -0.18865818602805917, -0.5595091839230018, 0.04704541325629905, -0.1661469926458869, -0.9099133021211763, 0.5115966571824228, -0.2782577724562507, -0.12472929712236003, -0.12600826393597103, -0.11384501410872136, 0.6748530350237651, -0.6013162926296775, 0.025921989252148364, -0.007264366470583994, 0.16620521042197453, -0.46381796775129663, 0.22246884306049391, 0.2694216124006704, 0.7315768384155699, -0.25514970197015824, -0.4392567656563003, 0.22274330491873554, 0.11232625960437947, -0.6759821870145541, -0.9177168188296596, -0.5692893524110815, 0.3270447171305434, 0.7282159148341196, 1.0317257173869119, -0.02047732608221418, 0.32485729910330935, -0.4433337270565463, -0.3587208510568526, -0.08223711481061766, -0.5639799667597585, -0.14652221219948572, 0.9293644856299873, 0.4458226055499558, 0.1388815014500884, -0.39223775000933647, 1.9638894762041412, 0.03505770932138788, 0.13806820593129374, 0.9435870500112012, -0.37039536749406077, -0.47273798181307003, -0.6013212121385499, 0.44715310822840615, 0.00659839312221448, 0.39945371003828495, -0.7888936473959967, -0.5754241771223296, -0.2170795400570158, 0.4819560908140875, -0.7403475950214582, -0.25832536592847555, 1.3364826921034976, -0.7252986649462602, -0.4034620924974632, -0.7769390809581294, 0.3857582436666998, 0.6808888986961036, 0.93461183596414, -0.030831722006075823, 1.1164960540096571, 0.9081549120063493, 0.8868866435812316, 1.2728488350255773, -0.0011255860664116442, -0.6750514348912452, -0.6116486374987696, -0.5403537181495316, -0.23894044939433084, 0.02036591114302381, 0.2353838820547808, 0.7403346546221194, 0.05546821264971822, 0.5165249056133357, 0.06758267151712875, -0.39168370125746294, 0.9879259868551881, -0.3058358030928134, 0.26736148278557975, 1.1439689717085544, 1.1382668829208964, 1.4401647743238377, 1.060418827561944, 1.0856705726946745, 0.7891765492781967, 0.6738786371458141, -0.13108114001529547, -0.1766205790573636, 1.0782253276468858, -0.6937538221164663, 0.04526175981987936, -1.4258760605760927, -0.24182428442373807, 0.8926200798991155, -0.3416084753282348, 0.35488416256465616, -0.37511586933547375, -0.03937663792579638, 0.7061471934143819, 0.3499634801624732, 0.13162450169784895, 0.2728243747449713, -0.8334005332691281, -0.35107997001033087, 0.18327767839686168, 0.38048170113841806, -0.0463106040198688, -0.4374355727790328, 1.116245748993385, -0.3637810538010319, 0.103442349826445, 0.27295678844899274, 0.03847372179847431, -0.3733099284540426, -0.15057907573155271, 0.3421329471111737, -0.2721286202366618, 0.03382408816584958, -0.3294365144878374, 0.010814907182375514, -0.02224841185082498, 0.233771365437902, -0.6351200048699917, -0.29909792027317483, -0.4933356837379414, 0.3145811326974692, -0.31125507417650816, 1.9247535624378826, -0.24069382399834943, 0.01952544189352867, -5.1647264171503116, -0.557245365024826, 0.10413466628209812, -0.2879690303023066, 0.16662582631590797, -0.27629319718689815, 0.7712941672598662, 0.19284919808741205, -0.5769504109706374, -0.10808337584096768, -0.3169563795905783, -0.3947839461590196, -0.012635952986649964, 0.13429086385094297, 0.3558238604664039, -0.23463450403973674, -0.2985162551941195, 0.05183896858538646, 0.049835488865807756, -0.7698873908473784, 0.22636543483411567, -2.72347598213275, 0.30110130120640566, -0.3581547464690128, -0.13298548003788474, -0.3673519903531179, -0.5353221752606176, -0.6693984425698561, 0.5370488080677746, 0.5605040418060464, 0.1757754638520115, 0.36161330729031205, -0.17289504065838593, -0.49175460016569894, 0.12564971234858796, -1.1272992631606162, 0.02837537924421129, 0.041154963229997975, 0.6429509330467233, -0.4562812051139592, -0.15352186648617716, 0.5180108593369182, 0.4410021075622941, 0.06814761803952193, -0.3532420656843692, -0.11698598665473146, -0.2742964657199274, 0.3928471073198184, 0.16739417810671467, -0.8864754552864464, 0.8122421436647312, -0.35867567984979304, -0.06319750578394333, -0.01627695208795775, 0.4254967902329126, -0.7866791314906943, 0.14409936457593078, -0.24435476255653782, 2.5146194934834092e-05, 0.07087295877829476, -0.3420091935933981, -0.45875571849735886, -0.11906180125232864, -0.1328094345707566, -0.5668192106659034, -0.38827662913588057, 1.0519791670688508, 0.17322740628506164, 0.13906111358935572, 0.4046913043982052, -0.15070434048806286, -0.6322334738294567, -0.2340565318399764, 0.6594939756412845, 0.2570644174447089, -0.07214227300021758, -0.05511133570590594, -0.1599263722690933, -0.6454744335895464, -0.35338458376536463, -0.0009686864430904684, 0.09967914760736002, -1.139887168766869, -2.4931126394567524, 1.1848193962652858, -0.15418721968747504, -0.36795738484297924, 0.18536833568874317, -0.1483105507463528, -0.24007362921829167, -0.7194489065337686, 0.20047244293188443, 0.0676051183112242, -0.8829358321672205, 0.1266828162828184, -0.7534908784901675, -0.709614560482391, -0.5747393710731191, 0.35098310428684204, 0.9507378307269398, 0.04481740526738493, 0.8790826690035685, -0.07297780393012761, 0.08001357924443651, -1.422706460464934, 0.10084069583149136, 0.12225624671903595, -0.24194384132791263, -0.556813125758653, 0.1455016687174698, -0.003947775377663431, -0.19087732011213704, 0.35375154851511637, -0.48361641536085276, -0.8661377719886372, 0.6277028628502987, -0.004508529089855011, -0.30841467816927437, 0.2441534745667233, 0.04644412221581468, -0.5496118130714297, 0.2707531083859509, -0.42463420115354433, -0.34433764486324514, -0.6368772104119251, 0.16027217786927428, -0.21799279772252517, -0.1727880467109492, -0.23548449138310357, 0.13751761504193194, -0.2533779593456577, -0.6248131267970024, -0.4891139888539726, -0.12782733786337283, -0.24258381792328687, 1.063249715500616, -0.38083852142009494, -0.0092394986587452, 0.5046509462515887, -0.646963156334216, 0.7785183160417253, -0.6766011790370094, 0.6427433419038064, 1.1092881214332153, 0.5068911864133369, -0.5332303874147396, 0.4099818479075534, -0.2000295789507275, -0.5136733805205722, 0.24728208994942144, -0.002116186597349576, -0.6101070165523265, -0.06751750677600034, 1.210910510054762, 0.8186259161828496, -0.21908738274586628, -0.4594232943424172, 0.5158429877406407, 0.30700924640031546, -0.3484090880938217, -0.31071634704585555, 0.23859979544188634, 0.1154871179507327, -0.03951821362688824, -0.2248951562735401, 0.06031877949167252, 1.5047896126882463, 1.8449330256915557, -0.42599671696900515, -0.5315789171190538, 0.20843031864339606, 0.7974279059301478, 16.362249138006057, 0.6312898683456912, 0.04033271603171237, 0.5050064819857417, -0.08293112067229043, -0.25344949584864, -0.4586352989594108, 0.2234513217405536, -0.5297353514354914, -0.1377088657511132, -1.1723035005495928, -0.3620762908511578, -0.009302305472798473, 0.39058255415519566, -0.6249124511002472, 0.7238178053572419, -0.03986607463738662, 0.1940501916271554, -0.27627609087657107, -0.13979325591980843, 0.08963803717912534, -0.3576280948265032, -0.47318774997024105, 0.31180730111530564, 0.1975107431376091, -0.3365361842266817, 0.020186008477499934, -0.5684351024597347, 0.5732108423840099, 0.12346138285111477, 0.2103614486191282, 0.23401050829228115, 0.3074137932424215, -0.68466786806391, 0.22593959917815212, 0.7405118267756792, -0.4823702967358654, -0.29415033553085146, 0.614111066108162, -0.04854475105107941, 0.37211127647606074, 0.4987850706533028, -0.5389116122808516, -0.36572917638397895, -0.13013168893393523, 0.038479683666829675, -0.016556195738259036, 0.84793170436768, 0.022420855620745427, 0.15729867207346196, -0.3155085049351193, -0.306769497313007, 0.010534326097710257, -0.22518921101970796, 0.12778296691502256, -0.08944935683097151, -0.08322196247020192, -0.09138474921888058, -0.7159667097656885, -0.28341874317600896, 0.7554065567028123, 0.29186238132972714, -0.2972321156711642, 2.573631745817796, 0.39512358783466495, -0.502019075984932, -0.2984346772575146, -0.09871069406779855, -0.5877288874476928, -1.1839141214016107, -0.3035607978089231, -0.6098425021966265, 0.01813962253697991, -0.5547711231063334, 0.17771748306532725, -0.2888691092453798, -0.02616271146691047, 1.2796690134160895, 0.10726176518642365, 0.45498286242784036, -0.14942325058411893, 0.23226399251554253, -0.0866379556538095, -0.7842838491482563, -1.4800060210398134, 0.19951347239247555, 0.4258424823663878, -0.20334642000191613, -0.42939676607059263, -0.23427172917079844, -0.29535371107480407, 0.3799540835730196, -0.03300151891547075, 1.0376752874449326, 0.1953625400789468, -0.6361189001856924, 1.4502740016473767, -0.9512914809455476, -0.7529292358585805, 0.4316072610648338, -0.37266721864099955, 0.1269383687831388, -0.1495192885663818, 0.9406231882478244, -0.9492070763957217, 0.050948483070389405, -0.14718802588265859, 0.5973084005307131, -0.017048338443883107, -0.27378531475682055, -0.0001989872759865771]}],\n",
       "                        {\"height\": 600, \"legend\": {\"tracegroupgap\": 0}, \"margin\": {\"t\": 60}, \"scene\": {\"domain\": {\"x\": [0.0, 0.98], \"y\": [0.0, 1.0]}, \"xaxis\": {\"title\": {\"text\": \"pc1\"}}, \"yaxis\": {\"title\": {\"text\": \"pc2\"}}, \"zaxis\": {\"title\": {\"text\": \"pc3\"}}}, \"template\": {\"data\": {\"bar\": [{\"error_x\": {\"color\": \"#2a3f5f\"}, \"error_y\": {\"color\": \"#2a3f5f\"}, \"marker\": {\"line\": {\"color\": \"#E5ECF6\", \"width\": 0.5}}, \"type\": \"bar\"}], \"barpolar\": [{\"marker\": {\"line\": {\"color\": \"#E5ECF6\", \"width\": 0.5}}, \"type\": \"barpolar\"}], \"carpet\": [{\"aaxis\": {\"endlinecolor\": \"#2a3f5f\", \"gridcolor\": \"white\", \"linecolor\": \"white\", \"minorgridcolor\": \"white\", \"startlinecolor\": \"#2a3f5f\"}, \"baxis\": {\"endlinecolor\": \"#2a3f5f\", \"gridcolor\": \"white\", \"linecolor\": \"white\", \"minorgridcolor\": \"white\", \"startlinecolor\": \"#2a3f5f\"}, \"type\": \"carpet\"}], \"choropleth\": [{\"colorbar\": {\"outlinewidth\": 0, \"ticks\": \"\"}, \"type\": \"choropleth\"}], \"contour\": [{\"colorbar\": {\"outlinewidth\": 0, \"ticks\": \"\"}, \"colorscale\": [[0.0, \"#0d0887\"], [0.1111111111111111, \"#46039f\"], [0.2222222222222222, \"#7201a8\"], [0.3333333333333333, \"#9c179e\"], [0.4444444444444444, \"#bd3786\"], [0.5555555555555556, \"#d8576b\"], [0.6666666666666666, \"#ed7953\"], [0.7777777777777778, \"#fb9f3a\"], [0.8888888888888888, \"#fdca26\"], [1.0, \"#f0f921\"]], \"type\": \"contour\"}], \"contourcarpet\": [{\"colorbar\": {\"outlinewidth\": 0, \"ticks\": \"\"}, \"type\": \"contourcarpet\"}], \"heatmap\": [{\"colorbar\": {\"outlinewidth\": 0, \"ticks\": \"\"}, \"colorscale\": [[0.0, \"#0d0887\"], [0.1111111111111111, \"#46039f\"], [0.2222222222222222, \"#7201a8\"], [0.3333333333333333, \"#9c179e\"], [0.4444444444444444, \"#bd3786\"], [0.5555555555555556, \"#d8576b\"], [0.6666666666666666, \"#ed7953\"], [0.7777777777777778, \"#fb9f3a\"], [0.8888888888888888, \"#fdca26\"], [1.0, \"#f0f921\"]], \"type\": \"heatmap\"}], \"heatmapgl\": [{\"colorbar\": {\"outlinewidth\": 0, \"ticks\": \"\"}, \"colorscale\": [[0.0, \"#0d0887\"], [0.1111111111111111, \"#46039f\"], [0.2222222222222222, \"#7201a8\"], [0.3333333333333333, \"#9c179e\"], [0.4444444444444444, \"#bd3786\"], [0.5555555555555556, \"#d8576b\"], [0.6666666666666666, \"#ed7953\"], [0.7777777777777778, \"#fb9f3a\"], [0.8888888888888888, \"#fdca26\"], [1.0, \"#f0f921\"]], \"type\": \"heatmapgl\"}], \"histogram\": [{\"marker\": {\"colorbar\": {\"outlinewidth\": 0, \"ticks\": \"\"}}, \"type\": \"histogram\"}], \"histogram2d\": [{\"colorbar\": {\"outlinewidth\": 0, \"ticks\": \"\"}, \"colorscale\": [[0.0, \"#0d0887\"], [0.1111111111111111, \"#46039f\"], [0.2222222222222222, \"#7201a8\"], [0.3333333333333333, \"#9c179e\"], [0.4444444444444444, \"#bd3786\"], [0.5555555555555556, \"#d8576b\"], [0.6666666666666666, \"#ed7953\"], [0.7777777777777778, \"#fb9f3a\"], [0.8888888888888888, \"#fdca26\"], [1.0, \"#f0f921\"]], \"type\": \"histogram2d\"}], \"histogram2dcontour\": [{\"colorbar\": {\"outlinewidth\": 0, \"ticks\": \"\"}, \"colorscale\": [[0.0, \"#0d0887\"], [0.1111111111111111, \"#46039f\"], [0.2222222222222222, \"#7201a8\"], [0.3333333333333333, \"#9c179e\"], [0.4444444444444444, \"#bd3786\"], [0.5555555555555556, \"#d8576b\"], [0.6666666666666666, \"#ed7953\"], [0.7777777777777778, \"#fb9f3a\"], [0.8888888888888888, \"#fdca26\"], [1.0, \"#f0f921\"]], \"type\": \"histogram2dcontour\"}], \"mesh3d\": [{\"colorbar\": {\"outlinewidth\": 0, \"ticks\": \"\"}, \"type\": \"mesh3d\"}], \"parcoords\": [{\"line\": {\"colorbar\": {\"outlinewidth\": 0, \"ticks\": \"\"}}, \"type\": \"parcoords\"}], \"scatter\": [{\"marker\": {\"colorbar\": {\"outlinewidth\": 0, \"ticks\": \"\"}}, \"type\": \"scatter\"}], \"scatter3d\": [{\"line\": {\"colorbar\": {\"outlinewidth\": 0, \"ticks\": \"\"}}, \"marker\": {\"colorbar\": {\"outlinewidth\": 0, \"ticks\": \"\"}}, \"type\": \"scatter3d\"}], \"scattercarpet\": [{\"marker\": {\"colorbar\": {\"outlinewidth\": 0, \"ticks\": \"\"}}, \"type\": \"scattercarpet\"}], \"scattergeo\": [{\"marker\": {\"colorbar\": {\"outlinewidth\": 0, \"ticks\": \"\"}}, \"type\": \"scattergeo\"}], \"scattergl\": [{\"marker\": {\"colorbar\": {\"outlinewidth\": 0, \"ticks\": \"\"}}, \"type\": \"scattergl\"}], \"scattermapbox\": [{\"marker\": {\"colorbar\": {\"outlinewidth\": 0, \"ticks\": \"\"}}, \"type\": \"scattermapbox\"}], \"scatterpolar\": [{\"marker\": {\"colorbar\": {\"outlinewidth\": 0, \"ticks\": \"\"}}, \"type\": \"scatterpolar\"}], \"scatterpolargl\": [{\"marker\": {\"colorbar\": {\"outlinewidth\": 0, \"ticks\": \"\"}}, \"type\": \"scatterpolargl\"}], \"scatterternary\": [{\"marker\": {\"colorbar\": {\"outlinewidth\": 0, \"ticks\": \"\"}}, \"type\": \"scatterternary\"}], \"surface\": [{\"colorbar\": {\"outlinewidth\": 0, \"ticks\": \"\"}, \"colorscale\": [[0.0, \"#0d0887\"], [0.1111111111111111, \"#46039f\"], [0.2222222222222222, \"#7201a8\"], [0.3333333333333333, \"#9c179e\"], [0.4444444444444444, \"#bd3786\"], [0.5555555555555556, \"#d8576b\"], [0.6666666666666666, \"#ed7953\"], [0.7777777777777778, \"#fb9f3a\"], [0.8888888888888888, \"#fdca26\"], [1.0, \"#f0f921\"]], \"type\": \"surface\"}], \"table\": [{\"cells\": {\"fill\": {\"color\": \"#EBF0F8\"}, \"line\": {\"color\": \"white\"}}, \"header\": {\"fill\": {\"color\": \"#C8D4E3\"}, \"line\": {\"color\": \"white\"}}, \"type\": \"table\"}]}, \"layout\": {\"annotationdefaults\": {\"arrowcolor\": \"#2a3f5f\", \"arrowhead\": 0, \"arrowwidth\": 1}, \"colorscale\": {\"diverging\": [[0, \"#8e0152\"], [0.1, \"#c51b7d\"], [0.2, \"#de77ae\"], [0.3, \"#f1b6da\"], [0.4, \"#fde0ef\"], [0.5, \"#f7f7f7\"], [0.6, \"#e6f5d0\"], [0.7, \"#b8e186\"], [0.8, \"#7fbc41\"], [0.9, \"#4d9221\"], [1, \"#276419\"]], \"sequential\": [[0.0, \"#0d0887\"], [0.1111111111111111, \"#46039f\"], [0.2222222222222222, \"#7201a8\"], [0.3333333333333333, \"#9c179e\"], [0.4444444444444444, \"#bd3786\"], [0.5555555555555556, \"#d8576b\"], [0.6666666666666666, \"#ed7953\"], [0.7777777777777778, \"#fb9f3a\"], [0.8888888888888888, \"#fdca26\"], [1.0, \"#f0f921\"]], \"sequentialminus\": [[0.0, \"#0d0887\"], [0.1111111111111111, \"#46039f\"], [0.2222222222222222, \"#7201a8\"], [0.3333333333333333, \"#9c179e\"], [0.4444444444444444, \"#bd3786\"], [0.5555555555555556, \"#d8576b\"], [0.6666666666666666, \"#ed7953\"], [0.7777777777777778, \"#fb9f3a\"], [0.8888888888888888, \"#fdca26\"], [1.0, \"#f0f921\"]]}, \"colorway\": [\"#636efa\", \"#EF553B\", \"#00cc96\", \"#ab63fa\", \"#FFA15A\", \"#19d3f3\", \"#FF6692\", \"#B6E880\", \"#FF97FF\", \"#FECB52\"], \"font\": {\"color\": \"#2a3f5f\"}, \"geo\": {\"bgcolor\": \"white\", \"lakecolor\": \"white\", \"landcolor\": \"#E5ECF6\", \"showlakes\": true, \"showland\": true, \"subunitcolor\": \"white\"}, \"hoverlabel\": {\"align\": \"left\"}, \"hovermode\": \"closest\", \"mapbox\": {\"style\": \"light\"}, \"paper_bgcolor\": \"white\", \"plot_bgcolor\": \"#E5ECF6\", \"polar\": {\"angularaxis\": {\"gridcolor\": \"white\", \"linecolor\": \"white\", \"ticks\": \"\"}, \"bgcolor\": \"#E5ECF6\", \"radialaxis\": {\"gridcolor\": \"white\", \"linecolor\": \"white\", \"ticks\": \"\"}}, \"scene\": {\"xaxis\": {\"backgroundcolor\": \"#E5ECF6\", \"gridcolor\": \"white\", \"gridwidth\": 2, \"linecolor\": \"white\", \"showbackground\": true, \"ticks\": \"\", \"zerolinecolor\": \"white\"}, \"yaxis\": {\"backgroundcolor\": \"#E5ECF6\", \"gridcolor\": \"white\", \"gridwidth\": 2, \"linecolor\": \"white\", \"showbackground\": true, \"ticks\": \"\", \"zerolinecolor\": \"white\"}, \"zaxis\": {\"backgroundcolor\": \"#E5ECF6\", \"gridcolor\": \"white\", \"gridwidth\": 2, \"linecolor\": \"white\", \"showbackground\": true, \"ticks\": \"\", \"zerolinecolor\": \"white\"}}, \"shapedefaults\": {\"line\": {\"color\": \"#2a3f5f\"}}, \"ternary\": {\"aaxis\": {\"gridcolor\": \"white\", \"linecolor\": \"white\", \"ticks\": \"\"}, \"baxis\": {\"gridcolor\": \"white\", \"linecolor\": \"white\", \"ticks\": \"\"}, \"bgcolor\": \"#E5ECF6\", \"caxis\": {\"gridcolor\": \"white\", \"linecolor\": \"white\", \"ticks\": \"\"}}, \"title\": {\"x\": 0.05}, \"xaxis\": {\"automargin\": true, \"gridcolor\": \"white\", \"linecolor\": \"white\", \"ticks\": \"\", \"zerolinecolor\": \"white\", \"zerolinewidth\": 2}, \"yaxis\": {\"automargin\": true, \"gridcolor\": \"white\", \"linecolor\": \"white\", \"ticks\": \"\", \"zerolinecolor\": \"white\", \"zerolinewidth\": 2}}}},\n",
       "                        {\"responsive\": true}\n",
       "                    ).then(function(){\n",
       "                            \n",
       "var gd = document.getElementById('395e0457-e8eb-4d30-971b-cc3e5365fe1c');\n",
       "var x = new MutationObserver(function (mutations, observer) {{\n",
       "        var display = window.getComputedStyle(gd).display;\n",
       "        if (!display || display === 'none') {{\n",
       "            console.log([gd, 'removed!']);\n",
       "            Plotly.purge(gd);\n",
       "            observer.disconnect();\n",
       "        }}\n",
       "}});\n",
       "\n",
       "// Listen for the removal of the full notebook cells\n",
       "var notebookContainer = gd.closest('#notebook-container');\n",
       "if (notebookContainer) {{\n",
       "    x.observe(notebookContainer, {childList: true});\n",
       "}}\n",
       "\n",
       "// Listen for the clearing of the current output cell\n",
       "var outputEl = gd.closest('.output');\n",
       "if (outputEl) {{\n",
       "    x.observe(outputEl, {childList: true});\n",
       "}}\n",
       "\n",
       "                        })\n",
       "                };\n",
       "                });\n",
       "            </script>\n",
       "        </div>"
      ]
     },
     "metadata": {},
     "output_type": "display_data"
    }
   ],
   "source": [
    "fig = px.scatter_3d(sp500_pca, x='pc1', y='pc2', z='pc3')\n",
    "fig.show()"
   ]
  },
  {
   "cell_type": "code",
   "execution_count": null,
   "metadata": {},
   "outputs": [],
   "source": []
  }
 ],
 "metadata": {
  "kernelspec": {
   "display_name": "Python 3",
   "language": "python",
   "name": "python3"
  },
  "language_info": {
   "codemirror_mode": {
    "name": "ipython",
    "version": 3
   },
   "file_extension": ".py",
   "mimetype": "text/x-python",
   "name": "python",
   "nbconvert_exporter": "python",
   "pygments_lexer": "ipython3",
   "version": "3.7.3"
  }
 },
 "nbformat": 4,
 "nbformat_minor": 4
}
