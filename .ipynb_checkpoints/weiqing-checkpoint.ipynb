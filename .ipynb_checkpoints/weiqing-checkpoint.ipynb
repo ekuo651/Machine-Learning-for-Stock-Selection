{
 "cells": [
  {
   "cell_type": "code",
   "execution_count": null,
   "metadata": {},
   "outputs": [],
   "source": [
    "#from datetime import datetime, timedelta\n",
    "#from iexfinance.stocks import get_historical_data\n",
    "#from iexfinance.refdata import get_symbols\n",
    "import os\n",
    "import pandas as pd\n",
    "import numpy as np\n",
    "from sklearn.linear_model import LinearRegression"
   ]
  },
  {
   "cell_type": "code",
   "execution_count": null,
   "metadata": {},
   "outputs": [],
   "source": [
    "index_funds = pd.read_csv(\"Data/index_funds.csv\", index_col=\"PX_LAST\", parse_dates=True, infer_datetime_format=True)"
   ]
  },
  {
   "cell_type": "code",
   "execution_count": null,
   "metadata": {},
   "outputs": [],
   "source": [
    "new_index_funds = index_funds.loc['2018-11-01':'2019-12-01']"
   ]
  },
  {
   "cell_type": "code",
   "execution_count": null,
   "metadata": {},
   "outputs": [],
   "source": [
    "aapl = pd.read_csv(\"Data/aapl.csv\", index_col=\"date\", parse_dates=True, infer_datetime_format=True)\n",
    "aapl = aapl['close'].to_frame()"
   ]
  },
  {
   "cell_type": "code",
   "execution_count": null,
   "metadata": {},
   "outputs": [],
   "source": []
  },
  {
   "cell_type": "code",
   "execution_count": null,
   "metadata": {},
   "outputs": [],
   "source": [
    "#import clustering data\n",
    "sp500_fundamentals = pd.read_csv(\"Data/Fundamentals_Clustering_12-6-2019.csv\")\n",
    "sp500_fundamentals = sp500_fundamentals.dropna()\n",
    "sp500_fundamentals['Ticker'] = sp500_fundamentals.Ticker.apply(lambda x: x[x.find(\":\")+1:])\n",
    "sp500_fundamentals = sp500_fundamentals[sp500_fundamentals.IQ_PE_EXCL!='(Invalid Identifier)']"
   ]
  },
  {
   "cell_type": "code",
   "execution_count": null,
   "metadata": {},
   "outputs": [],
   "source": [
    "#keep nessessary columns\n",
    "colnames_keep = sp500_fundamentals.columns[1:]\n",
    "sp500_fundamentals = sp500_fundamentals[colnames_keep]"
   ]
  },
  {
   "cell_type": "code",
   "execution_count": null,
   "metadata": {},
   "outputs": [],
   "source": [
    "#replace 0 and NM values with NA\n",
    "sp500_fundamentals = sp500_fundamentals.replace(\"0\", np.nan)\n",
    "sp500_fundamentals = sp500_fundamentals.replace(\"NM\", np.nan)"
   ]
  },
  {
   "cell_type": "code",
   "execution_count": null,
   "metadata": {},
   "outputs": [],
   "source": [
    "#import industry data\n",
    "sp500_industry = pd.read_csv(\"Data/industry.csv\")\n",
    "sp500_industry['Ticker'] = sp500_industry.Ticker.apply(lambda x: x[x.find(\":\")+1:])"
   ]
  },
  {
   "cell_type": "code",
   "execution_count": null,
   "metadata": {},
   "outputs": [],
   "source": [
    "#merge industry data and fundamental data\n",
    "sp500 = pd.merge(sp500_fundamentals, sp500_industry, on=\"Ticker\")\n",
    "sp500 = pd.get_dummies(sp500, columns=['Industry'])\n",
    "sp500_fundamentals.shape"
   ]
  },
  {
   "cell_type": "code",
   "execution_count": 152,
   "metadata": {},
   "outputs": [],
   "source": [
    "#fill NAs\n",
    "def deal_with_na (df, method):\n",
    "    if method == \"ml\":\n",
    "        #drop first column\n",
    "        first_colname = df.columns[0]\n",
    "        df = df.drop(columns=first_colname)\n",
    "        df = df.astype('float')\n",
    "        #drop rows with more than 2 NAs\n",
    "        df = df.dropna(thresh=df.shape[1]-1)\n",
    "        tickers = df.iloc[:,0].to_frame()\n",
    "        data_without_null = df.dropna() \n",
    "        for i in range(0, df.shape[1]):\n",
    "            print(df.columns[i])\n",
    "            colname = df.columns[i]\n",
    "            X_train = data_without_null.drop(columns=[colname])\n",
    "            y_train = data_without_null[colname]\n",
    "            X_test = df[df[colname].isnull()].drop(columns=[colname])\n",
    "            if X_test.shape[0] != 0:\n",
    "                linreg = LinearRegression()\n",
    "                linreg.fit(X_train, y_train)\n",
    "                predicted = linreg.predict(X_test)\n",
    "                df[colname][df[colname].isnull()] = predicted\n",
    "        output = pd.concat([tickers, df], axis=1)\n",
    "        return output\n",
    "    if method == \"ts\":\n",
    "        #drop first column\n",
    "        first_colname = df.columns[0]\n",
    "        df = df.drop(columns=first_colname)\n",
    "        df = df.astype('float')\n",
    "        tickers = df.iloc[:,0].to_frame()\n",
    "        for i in range(0, df.shape[1]):\n",
    "            colname = df.columns[i]\n",
    "            colmean = df[colname].median()\n",
    "            df[colname]=df[colname].fillna(colmean)\n",
    "        output = pd.concat([tickers, df], axis=1)\n",
    "        return output\n",
    "        "
   ]
  },
  {
   "cell_type": "code",
   "execution_count": 153,
   "metadata": {},
   "outputs": [
    {
     "name": "stdout",
     "output_type": "stream",
     "text": [
      "IQ_PE_EXCL\n",
      "IQ_PE_NORMALIZED\n",
      "IQ_PBV\n",
      "IQ_TOTAL_DEBT_EQUITY\n",
      "IQ_TOTAL_DEBT_CAPITAL\n",
      "IQ_NI_MARGIN\n",
      "IQ_NI_NORM_MARGIN\n",
      "IQ_RETURN_COMMON_EQUITY\n",
      "IQ_RETURN_ASSETS\n",
      "IQ_BETA_2YR\n",
      "IQ_BETA_5YR\n"
     ]
    },
    {
     "data": {
      "text/plain": [
       "(497, 12)"
      ]
     },
     "execution_count": 153,
     "metadata": {},
     "output_type": "execute_result"
    }
   ],
   "source": [
    "sp500_no_na = deal_with_na(sp500_fundamentals, 'ml')\n",
    "#sp500_no_na = deal_with_na(sp500_fundamentals, 'ts')\n",
    "#sp500_no_na = sp500_fundamentals.dropna()"
   ]
  },
  {
   "cell_type": "code",
   "execution_count": 137,
   "metadata": {},
   "outputs": [
    {
     "data": {
      "text/plain": [
       "IQ_PE_EXCL                 22\n",
       "IQ_PE_EXCL                  0\n",
       "IQ_PE_NORMALIZED            0\n",
       "IQ_PBV                      0\n",
       "IQ_TOTAL_DEBT_EQUITY        0\n",
       "IQ_TOTAL_DEBT_CAPITAL       0\n",
       "IQ_NI_MARGIN                0\n",
       "IQ_NI_NORM_MARGIN           0\n",
       "IQ_RETURN_COMMON_EQUITY     0\n",
       "IQ_RETURN_ASSETS            0\n",
       "IQ_BETA_2YR                 0\n",
       "IQ_BETA_5YR                 0\n",
       "dtype: int64"
      ]
     },
     "execution_count": 137,
     "metadata": {},
     "output_type": "execute_result"
    }
   ],
   "source": []
  },
  {
   "cell_type": "code",
   "execution_count": 150,
   "metadata": {},
   "outputs": [
    {
     "name": "stdout",
     "output_type": "stream",
     "text": [
      "(497, 11)\n"
     ]
    }
   ],
   "source": [
    "i=0\n",
    "df = sp500_fundamentals\n",
    "first_colname = df.columns[0]\n",
    "df = df.drop(columns=first_colname)\n",
    "df = df.astype('float')\n",
    "tickers = df.iloc[:,0].to_frame()\n",
    "print(df.shape)\n",
    "colname = df.columns[i]\n",
    "colmean = df[colname].median()\n",
    "df[colname]=df[colname].fillna(colmean)"
   ]
  },
  {
   "cell_type": "code",
   "execution_count": 151,
   "metadata": {},
   "outputs": [
    {
     "data": {
      "text/plain": [
       "0      22.767870\n",
       "1      28.632050\n",
       "2      28.741570\n",
       "3      77.615610\n",
       "4      32.142100\n",
       "         ...    \n",
       "494     4.887440\n",
       "495    22.736135\n",
       "496    22.736135\n",
       "497    34.544200\n",
       "498    47.673520\n",
       "Name: IQ_PE_EXCL, Length: 497, dtype: float64"
      ]
     },
     "execution_count": 151,
     "metadata": {},
     "output_type": "execute_result"
    }
   ],
   "source": [
    "df[colname]"
   ]
  },
  {
   "cell_type": "code",
   "execution_count": null,
   "metadata": {},
   "outputs": [],
   "source": []
  },
  {
   "cell_type": "code",
   "execution_count": null,
   "metadata": {},
   "outputs": [],
   "source": []
  }
 ],
 "metadata": {
  "kernelspec": {
   "display_name": "Python 3",
   "language": "python",
   "name": "python3"
  },
  "language_info": {
   "codemirror_mode": {
    "name": "ipython",
    "version": 3
   },
   "file_extension": ".py",
   "mimetype": "text/x-python",
   "name": "python",
   "nbconvert_exporter": "python",
   "pygments_lexer": "ipython3",
   "version": "3.7.3"
  }
 },
 "nbformat": 4,
 "nbformat_minor": 4
}
