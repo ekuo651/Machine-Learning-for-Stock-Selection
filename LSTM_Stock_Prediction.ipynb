{
 "cells": [
  {
   "cell_type": "markdown",
   "metadata": {},
   "source": [
    "# LSTM Stock Prediction Models"
   ]
  },
  {
   "cell_type": "markdown",
   "metadata": {},
   "source": [
    "### Import Required Libraries"
   ]
  },
  {
   "cell_type": "code",
   "execution_count": 476,
   "metadata": {},
   "outputs": [],
   "source": [
    "import numpy as np\n",
    "import pandas as pd\n",
    "from tensorflow.keras.models import Sequential\n",
    "from tensorflow.keras.layers import LSTM, Dense, Dropout\n",
    "import hvplot.pandas\n",
    "%matplotlib inline"
   ]
  },
  {
   "cell_type": "markdown",
   "metadata": {},
   "source": [
    "### Import Scaler"
   ]
  },
  {
   "cell_type": "code",
   "execution_count": 477,
   "metadata": {},
   "outputs": [],
   "source": [
    "from sklearn.preprocessing import MinMaxScaler\n",
    "scaler = MinMaxScaler()"
   ]
  },
  {
   "cell_type": "markdown",
   "metadata": {},
   "source": [
    "## Functions to Load in DataFrames by List Index or Ticker"
   ]
  },
  {
   "cell_type": "code",
   "execution_count": 488,
   "metadata": {},
   "outputs": [
    {
     "data": {
      "text/plain": [
       "['Daily_Stocks_Metrics/ILMN UW Equity.csv',\n",
       " 'Daily_Stocks_Metrics/EIX UN Equity.csv',\n",
       " 'Daily_Stocks_Metrics/GPS UN Equity.csv',\n",
       " 'Daily_Stocks_Metrics/ES UN Equity.csv']"
      ]
     },
     "execution_count": 488,
     "metadata": {},
     "output_type": "execute_result"
    }
   ],
   "source": [
    "# Read in list of csv's\n",
    "csv_path = 'Daily_Stocks_Metrics/csv_names_list.csv'\n",
    "csv_df = pd.read_csv(csv_path)\n",
    "csv_df.columns = ['csv_names']\n",
    "csv_list = list(csv_df.csv_names.values)\n",
    "csv_list[:4]"
   ]
  },
  {
   "cell_type": "code",
   "execution_count": 489,
   "metadata": {},
   "outputs": [
    {
     "data": {
      "text/html": [
       "<div>\n",
       "<style scoped>\n",
       "    .dataframe tbody tr th:only-of-type {\n",
       "        vertical-align: middle;\n",
       "    }\n",
       "\n",
       "    .dataframe tbody tr th {\n",
       "        vertical-align: top;\n",
       "    }\n",
       "\n",
       "    .dataframe thead th {\n",
       "        text-align: right;\n",
       "    }\n",
       "</style>\n",
       "<table border=\"1\" class=\"dataframe\">\n",
       "  <thead>\n",
       "    <tr style=\"text-align: right;\">\n",
       "      <th></th>\n",
       "      <th>csv_names</th>\n",
       "      <th>tickers</th>\n",
       "    </tr>\n",
       "  </thead>\n",
       "  <tbody>\n",
       "    <tr>\n",
       "      <th>0</th>\n",
       "      <td>Daily_Stocks_Metrics/ILMN UW Equity.csv</td>\n",
       "      <td>ILMN</td>\n",
       "    </tr>\n",
       "    <tr>\n",
       "      <th>1</th>\n",
       "      <td>Daily_Stocks_Metrics/EIX UN Equity.csv</td>\n",
       "      <td>EIX</td>\n",
       "    </tr>\n",
       "    <tr>\n",
       "      <th>2</th>\n",
       "      <td>Daily_Stocks_Metrics/GPS UN Equity.csv</td>\n",
       "      <td>GPS</td>\n",
       "    </tr>\n",
       "    <tr>\n",
       "      <th>3</th>\n",
       "      <td>Daily_Stocks_Metrics/ES UN Equity.csv</td>\n",
       "      <td>ES</td>\n",
       "    </tr>\n",
       "    <tr>\n",
       "      <th>4</th>\n",
       "      <td>Daily_Stocks_Metrics/NLOK UW Equity.csv</td>\n",
       "      <td>NLOK</td>\n",
       "    </tr>\n",
       "  </tbody>\n",
       "</table>\n",
       "</div>"
      ],
      "text/plain": [
       "                                 csv_names tickers\n",
       "0  Daily_Stocks_Metrics/ILMN UW Equity.csv    ILMN\n",
       "1   Daily_Stocks_Metrics/EIX UN Equity.csv     EIX\n",
       "2   Daily_Stocks_Metrics/GPS UN Equity.csv     GPS\n",
       "3    Daily_Stocks_Metrics/ES UN Equity.csv      ES\n",
       "4  Daily_Stocks_Metrics/NLOK UW Equity.csv    NLOK"
      ]
     },
     "execution_count": 489,
     "metadata": {},
     "output_type": "execute_result"
    }
   ],
   "source": [
    "# splice csv name to retrieve tickers\n",
    "csv_df['tickers'] = csv_df.csv_names.str[21:-13]\n",
    "csv_df['tickers'] = csv_df['tickers'].str.replace(' ','')\n",
    "csv_df.head()"
   ]
  },
  {
   "cell_type": "code",
   "execution_count": 490,
   "metadata": {},
   "outputs": [],
   "source": [
    "# turn dataframe into a dictionary for fastest lookup\n",
    "csv_df.index = csv_df.csv_names\n",
    "csv_df.drop(columns=['csv_names'], inplace=True)\n",
    "csv_dict = csv_df.T.to_dict('list')"
   ]
  },
  {
   "cell_type": "code",
   "execution_count": 481,
   "metadata": {},
   "outputs": [],
   "source": [
    "# csv_dict = dict([(key,value[0]) for key,value in csv_dict.items()])"
   ]
  },
  {
   "cell_type": "code",
   "execution_count": 494,
   "metadata": {},
   "outputs": [
    {
     "name": "stdout",
     "output_type": "stream",
     "text": [
      "Testing the dictionary: ['HP']\n",
      "Length of Dictionary: 505\n"
     ]
    }
   ],
   "source": [
    "# test the dictionary\n",
    "print(f'Testing the dictionary: {csv_dict[csv_list[137]]}')\n",
    "print(f'Length of Dictionary: {len(csv_dict)}')"
   ]
  },
  {
   "cell_type": "code",
   "execution_count": 496,
   "metadata": {},
   "outputs": [],
   "source": [
    "# define new dictionary to swap key, value pairs\n",
    "ticker_dict = dict([(value[0],key) for key,value in csv_dict.items()])"
   ]
  },
  {
   "cell_type": "code",
   "execution_count": 497,
   "metadata": {},
   "outputs": [
    {
     "name": "stdout",
     "output_type": "stream",
     "text": [
      "Daily_Stocks_Metrics/AAPL UW Equity.csv\n"
     ]
    }
   ],
   "source": [
    "# test the dictionary\n",
    "print(ticker_dict['AAPL'])"
   ]
  },
  {
   "cell_type": "markdown",
   "metadata": {},
   "source": [
    "### **Function to Load DataFrame by Ticker**"
   ]
  },
  {
   "cell_type": "code",
   "execution_count": 183,
   "metadata": {},
   "outputs": [],
   "source": [
    "# Define Columns to call on Dataframe, this excludes Fundamental Data for the time being\n",
    "cols = ['px', 'Price Momentum 12M', 'Price Momentum 12M-1M',\n",
    "       'Price to 52W High', 'Price to 52W Low', 'Return 1D', 'Return 1M',\n",
    "       'Return 1Q', 'Max Daily Return over 1M', 'Realized Volatility 1M',\n",
    "       'Realized Volatility 3M']"
   ]
  },
  {
   "cell_type": "code",
   "execution_count": 184,
   "metadata": {},
   "outputs": [],
   "source": [
    "# outputs a dataframe based on input ticker, checks to make sure price column not null\n",
    "\n",
    "def load_df_by_ticker(ticker):\n",
    "    stock_df = pd.read_csv(ticker_dict[ticker])\n",
    "    stock_df = stock_df[cols]\n",
    "    if 'px' in stock_df.columns:\n",
    "        print(f'{str(ticker)} DataFrame created')\n",
    "        return stock_df    \n",
    "    else:\n",
    "        print('error')\n",
    "    "
   ]
  },
  {
   "cell_type": "code",
   "execution_count": 499,
   "metadata": {},
   "outputs": [
    {
     "name": "stdout",
     "output_type": "stream",
     "text": [
      "GOOG DataFrame created\n"
     ]
    },
    {
     "data": {
      "text/html": [
       "<div>\n",
       "<style scoped>\n",
       "    .dataframe tbody tr th:only-of-type {\n",
       "        vertical-align: middle;\n",
       "    }\n",
       "\n",
       "    .dataframe tbody tr th {\n",
       "        vertical-align: top;\n",
       "    }\n",
       "\n",
       "    .dataframe thead th {\n",
       "        text-align: right;\n",
       "    }\n",
       "</style>\n",
       "<table border=\"1\" class=\"dataframe\">\n",
       "  <thead>\n",
       "    <tr style=\"text-align: right;\">\n",
       "      <th></th>\n",
       "      <th>px</th>\n",
       "      <th>Price Momentum 12M</th>\n",
       "      <th>Price Momentum 12M-1M</th>\n",
       "      <th>Price to 52W High</th>\n",
       "      <th>Price to 52W Low</th>\n",
       "      <th>Return 1D</th>\n",
       "      <th>Return 1M</th>\n",
       "      <th>Return 1Q</th>\n",
       "      <th>Max Daily Return over 1M</th>\n",
       "      <th>Realized Volatility 1M</th>\n",
       "      <th>Realized Volatility 3M</th>\n",
       "    </tr>\n",
       "  </thead>\n",
       "  <tbody>\n",
       "    <tr>\n",
       "      <th>0</th>\n",
       "      <td>552.991</td>\n",
       "      <td>-0.006452</td>\n",
       "      <td>-0.016305</td>\n",
       "      <td>0.930260</td>\n",
       "      <td>1.125794</td>\n",
       "      <td>0.013136</td>\n",
       "      <td>0.010016</td>\n",
       "      <td>0.098279</td>\n",
       "      <td>0.023172</td>\n",
       "      <td>0.012255</td>\n",
       "      <td>0.013539</td>\n",
       "    </tr>\n",
       "    <tr>\n",
       "      <th>1</th>\n",
       "      <td>549.332</td>\n",
       "      <td>-0.016356</td>\n",
       "      <td>-0.019623</td>\n",
       "      <td>0.924104</td>\n",
       "      <td>1.118345</td>\n",
       "      <td>-0.006617</td>\n",
       "      <td>0.003333</td>\n",
       "      <td>0.077756</td>\n",
       "      <td>0.023172</td>\n",
       "      <td>0.012354</td>\n",
       "      <td>0.013507</td>\n",
       "    </tr>\n",
       "    <tr>\n",
       "      <th>2</th>\n",
       "      <td>557.968</td>\n",
       "      <td>0.004669</td>\n",
       "      <td>-0.025248</td>\n",
       "      <td>0.938632</td>\n",
       "      <td>1.135926</td>\n",
       "      <td>0.015721</td>\n",
       "      <td>0.030692</td>\n",
       "      <td>0.083568</td>\n",
       "      <td>0.023172</td>\n",
       "      <td>0.012502</td>\n",
       "      <td>0.013583</td>\n",
       "    </tr>\n",
       "    <tr>\n",
       "      <th>3</th>\n",
       "      <td>556.462</td>\n",
       "      <td>-0.016879</td>\n",
       "      <td>-0.049105</td>\n",
       "      <td>0.936099</td>\n",
       "      <td>1.132860</td>\n",
       "      <td>-0.002699</td>\n",
       "      <td>0.033889</td>\n",
       "      <td>0.063101</td>\n",
       "      <td>0.023172</td>\n",
       "      <td>0.012430</td>\n",
       "      <td>0.013452</td>\n",
       "    </tr>\n",
       "    <tr>\n",
       "      <th>4</th>\n",
       "      <td>558.825</td>\n",
       "      <td>-0.011711</td>\n",
       "      <td>-0.042557</td>\n",
       "      <td>0.940074</td>\n",
       "      <td>1.137671</td>\n",
       "      <td>0.004246</td>\n",
       "      <td>0.032217</td>\n",
       "      <td>0.056106</td>\n",
       "      <td>0.023172</td>\n",
       "      <td>0.012408</td>\n",
       "      <td>0.013400</td>\n",
       "    </tr>\n",
       "  </tbody>\n",
       "</table>\n",
       "</div>"
      ],
      "text/plain": [
       "        px  Price Momentum 12M  Price Momentum 12M-1M  Price to 52W High  \\\n",
       "0  552.991           -0.006452              -0.016305           0.930260   \n",
       "1  549.332           -0.016356              -0.019623           0.924104   \n",
       "2  557.968            0.004669              -0.025248           0.938632   \n",
       "3  556.462           -0.016879              -0.049105           0.936099   \n",
       "4  558.825           -0.011711              -0.042557           0.940074   \n",
       "\n",
       "   Price to 52W Low  Return 1D  Return 1M  Return 1Q  \\\n",
       "0          1.125794   0.013136   0.010016   0.098279   \n",
       "1          1.118345  -0.006617   0.003333   0.077756   \n",
       "2          1.135926   0.015721   0.030692   0.083568   \n",
       "3          1.132860  -0.002699   0.033889   0.063101   \n",
       "4          1.137671   0.004246   0.032217   0.056106   \n",
       "\n",
       "   Max Daily Return over 1M  Realized Volatility 1M  Realized Volatility 3M  \n",
       "0                  0.023172                0.012255                0.013539  \n",
       "1                  0.023172                0.012354                0.013507  \n",
       "2                  0.023172                0.012502                0.013583  \n",
       "3                  0.023172                0.012430                0.013452  \n",
       "4                  0.023172                0.012408                0.013400  "
      ]
     },
     "execution_count": 499,
     "metadata": {},
     "output_type": "execute_result"
    }
   ],
   "source": [
    "# test the function for Google\n",
    "load_df_by_ticker('GOOG').head()"
   ]
  },
  {
   "cell_type": "markdown",
   "metadata": {},
   "source": [
    "### **Function to Load DataFrame by List Index**"
   ]
  },
  {
   "cell_type": "code",
   "execution_count": 186,
   "metadata": {},
   "outputs": [],
   "source": [
    "# loads dataframe based on index value, input between [0,504]\n",
    "def load_df_by_number(i):\n",
    "    stock_df = pd.read_csv(csv_list[i])\n",
    "    stock_df = stock_df[cols]\n",
    "    if 'px' in stock_df.columns:\n",
    "        print(f'{str(csv_dict[csv_list[i]])} DataFrame created')\n",
    "        return stock_df    \n",
    "    else:\n",
    "        print('error')\n",
    "    "
   ]
  },
  {
   "cell_type": "code",
   "execution_count": 502,
   "metadata": {},
   "outputs": [
    {
     "name": "stdout",
     "output_type": "stream",
     "text": [
      "['NTAP'] DataFrame created\n"
     ]
    },
    {
     "data": {
      "text/html": [
       "<div>\n",
       "<style scoped>\n",
       "    .dataframe tbody tr th:only-of-type {\n",
       "        vertical-align: middle;\n",
       "    }\n",
       "\n",
       "    .dataframe tbody tr th {\n",
       "        vertical-align: top;\n",
       "    }\n",
       "\n",
       "    .dataframe thead th {\n",
       "        text-align: right;\n",
       "    }\n",
       "</style>\n",
       "<table border=\"1\" class=\"dataframe\">\n",
       "  <thead>\n",
       "    <tr style=\"text-align: right;\">\n",
       "      <th></th>\n",
       "      <th>px</th>\n",
       "      <th>Price Momentum 12M</th>\n",
       "      <th>Price Momentum 12M-1M</th>\n",
       "      <th>Price to 52W High</th>\n",
       "      <th>Price to 52W Low</th>\n",
       "      <th>Return 1D</th>\n",
       "      <th>Return 1M</th>\n",
       "      <th>Return 1Q</th>\n",
       "      <th>Max Daily Return over 1M</th>\n",
       "      <th>Realized Volatility 1M</th>\n",
       "      <th>Realized Volatility 3M</th>\n",
       "    </tr>\n",
       "  </thead>\n",
       "  <tbody>\n",
       "    <tr>\n",
       "      <th>0</th>\n",
       "      <td>8.6405</td>\n",
       "      <td>1.156459</td>\n",
       "      <td>1.659878</td>\n",
       "      <td>0.624011</td>\n",
       "      <td>2.280537</td>\n",
       "      <td>-0.067656</td>\n",
       "      <td>-0.189264</td>\n",
       "      <td>-0.264507</td>\n",
       "      <td>0.102303</td>\n",
       "      <td>0.043831</td>\n",
       "      <td>0.048269</td>\n",
       "    </tr>\n",
       "    <tr>\n",
       "      <th>1</th>\n",
       "      <td>9.5945</td>\n",
       "      <td>1.315778</td>\n",
       "      <td>1.835534</td>\n",
       "      <td>0.692909</td>\n",
       "      <td>2.532332</td>\n",
       "      <td>0.110410</td>\n",
       "      <td>-0.183301</td>\n",
       "      <td>-0.187072</td>\n",
       "      <td>0.110410</td>\n",
       "      <td>0.044884</td>\n",
       "      <td>0.050359</td>\n",
       "    </tr>\n",
       "    <tr>\n",
       "      <th>2</th>\n",
       "      <td>9.8126</td>\n",
       "      <td>1.311403</td>\n",
       "      <td>1.593904</td>\n",
       "      <td>0.708660</td>\n",
       "      <td>2.589897</td>\n",
       "      <td>0.022732</td>\n",
       "      <td>-0.108909</td>\n",
       "      <td>-0.164736</td>\n",
       "      <td>0.110410</td>\n",
       "      <td>0.043597</td>\n",
       "      <td>0.050454</td>\n",
       "    </tr>\n",
       "    <tr>\n",
       "      <th>3</th>\n",
       "      <td>10.0307</td>\n",
       "      <td>1.397395</td>\n",
       "      <td>1.501625</td>\n",
       "      <td>0.724411</td>\n",
       "      <td>2.647461</td>\n",
       "      <td>0.022227</td>\n",
       "      <td>-0.041665</td>\n",
       "      <td>-0.058822</td>\n",
       "      <td>0.110410</td>\n",
       "      <td>0.042702</td>\n",
       "      <td>0.049165</td>\n",
       "    </tr>\n",
       "    <tr>\n",
       "      <th>4</th>\n",
       "      <td>10.1669</td>\n",
       "      <td>1.422075</td>\n",
       "      <td>1.415595</td>\n",
       "      <td>0.734247</td>\n",
       "      <td>2.683409</td>\n",
       "      <td>0.013578</td>\n",
       "      <td>0.002683</td>\n",
       "      <td>-0.092460</td>\n",
       "      <td>0.110410</td>\n",
       "      <td>0.042241</td>\n",
       "      <td>0.048764</td>\n",
       "    </tr>\n",
       "  </tbody>\n",
       "</table>\n",
       "</div>"
      ],
      "text/plain": [
       "        px  Price Momentum 12M  Price Momentum 12M-1M  Price to 52W High  \\\n",
       "0   8.6405            1.156459               1.659878           0.624011   \n",
       "1   9.5945            1.315778               1.835534           0.692909   \n",
       "2   9.8126            1.311403               1.593904           0.708660   \n",
       "3  10.0307            1.397395               1.501625           0.724411   \n",
       "4  10.1669            1.422075               1.415595           0.734247   \n",
       "\n",
       "   Price to 52W Low  Return 1D  Return 1M  Return 1Q  \\\n",
       "0          2.280537  -0.067656  -0.189264  -0.264507   \n",
       "1          2.532332   0.110410  -0.183301  -0.187072   \n",
       "2          2.589897   0.022732  -0.108909  -0.164736   \n",
       "3          2.647461   0.022227  -0.041665  -0.058822   \n",
       "4          2.683409   0.013578   0.002683  -0.092460   \n",
       "\n",
       "   Max Daily Return over 1M  Realized Volatility 1M  Realized Volatility 3M  \n",
       "0                  0.102303                0.043831                0.048269  \n",
       "1                  0.110410                0.044884                0.050359  \n",
       "2                  0.110410                0.043597                0.050454  \n",
       "3                  0.110410                0.042702                0.049165  \n",
       "4                  0.110410                0.042241                0.048764  "
      ]
     },
     "execution_count": 502,
     "metadata": {},
     "output_type": "execute_result"
    }
   ],
   "source": [
    "# test the function\n",
    "load_df_by_number(340).head()"
   ]
  },
  {
   "cell_type": "markdown",
   "metadata": {},
   "source": [
    "## **Prepare Data for LSTM**"
   ]
  },
  {
   "cell_type": "code",
   "execution_count": 504,
   "metadata": {},
   "outputs": [],
   "source": [
    "# function to return X_train, X_test, y_train, y_test given a dataframe, lookback size, offset days and training fraction as float\n",
    "\n",
    "## This took extremely long to write ;)\n",
    "\n",
    "def structure_data(df, lookback_size, offset_days, split_float):\n",
    "    '''This function will turn a dataframe for a stock into X_train,X_test,y_train,y_test.'''\n",
    "    split = int(split_float*len(df))\n",
    "    X = []\n",
    "    y = []\n",
    "    scaled_df = pd.DataFrame(scaler.fit_transform(df))\n",
    "    prices = df.px.to_frame()\n",
    "    price_scaler = scaler.fit(prices)\n",
    "    print('Data Scaled')\n",
    "    print(f'{scaled_df.head(1)}')\n",
    "#     prices = df.px.to_frame()\n",
    "#     price_scaler = scaler.fit_transform(prices)\n",
    "    sample_size = int(len(scaled_df) - lookback_size - offset_days)\n",
    "    for i in range(sample_size):\n",
    "        features = scaled_df.iloc[i:i+lookback_size,:].to_numpy()\n",
    "        target = scaled_df.iloc[i+lookback_size+offset_days,0]\n",
    "        X.append(features)\n",
    "        y.append(target)\n",
    "        \n",
    "    X_train = X[:split]\n",
    "    print('X_train created')\n",
    "    X_test = X[split:]\n",
    "    print('X_test created')\n",
    "    y_train = y[:split]\n",
    "    print('y_train created')\n",
    "    y_test = y[split:]\n",
    "    print('y_test created')\n",
    "\n",
    "#    return X_train, X_test, y_train, y_test\n",
    "    return np.array(X_train), np.array(X_test), np.array(y_train).reshape(-1,1), np.array(y_test).reshape(-1,1)"
   ]
  },
  {
   "cell_type": "code",
   "execution_count": 505,
   "metadata": {},
   "outputs": [
    {
     "name": "stdout",
     "output_type": "stream",
     "text": [
      "GOOG DataFrame created\n",
      "Data Scaled\n",
      "          0         1         2        3         4         5         6  \\\n",
      "0  0.043682  0.167213  0.200405  0.69719  0.216504  0.379393  0.389179   \n",
      "\n",
      "          7         8         9        10  \n",
      "0  0.582375  0.124923  0.260026  0.310266  \n",
      "X_train created\n",
      "X_test created\n",
      "y_train created\n",
      "y_test created\n"
     ]
    }
   ],
   "source": [
    "# test the function \n",
    "a, b, c, d = structure_data(load_df_by_ticker('GOOG'), 12, 15, .7)"
   ]
  },
  {
   "cell_type": "code",
   "execution_count": 508,
   "metadata": {},
   "outputs": [
    {
     "name": "stdout",
     "output_type": "stream",
     "text": [
      "(865, 12, 11) (345, 12, 11) (865, 1) (345, 1)\n"
     ]
    }
   ],
   "source": [
    "# see the structure of outputs\n",
    "print(a.shape, b.shape, c.shape, d.shape)"
   ]
  },
  {
   "cell_type": "markdown",
   "metadata": {},
   "source": [
    "## Run LSTM"
   ]
  },
  {
   "cell_type": "code",
   "execution_count": 339,
   "metadata": {},
   "outputs": [],
   "source": [
    "# specify units and dropout\n",
    "number_units = 10\n",
    "drop_out=.3"
   ]
  },
  {
   "cell_type": "code",
   "execution_count": 452,
   "metadata": {},
   "outputs": [
    {
     "name": "stdout",
     "output_type": "stream",
     "text": [
      "Train on 865 samples\n",
      "Epoch 1/100\n",
      "865/865 [==============================] - 12s 14ms/sample - loss: 0.0070\n",
      "Epoch 2/100\n",
      "865/865 [==============================] - 7s 8ms/sample - loss: 0.0157\n",
      "Epoch 3/100\n",
      "865/865 [==============================] - 7s 8ms/sample - loss: 0.0183\n",
      "Epoch 4/100\n",
      "865/865 [==============================] - 7s 9ms/sample - loss: 0.0189\n",
      "Epoch 5/100\n",
      "865/865 [==============================] - 7s 8ms/sample - loss: 0.0141\n",
      "Epoch 6/100\n",
      "865/865 [==============================] - 7s 8ms/sample - loss: 0.0099\n",
      "Epoch 7/100\n",
      "865/865 [==============================] - 7s 8ms/sample - loss: 0.0080\n",
      "Epoch 8/100\n",
      "865/865 [==============================] - 7s 9ms/sample - loss: 0.0075\n",
      "Epoch 9/100\n",
      "865/865 [==============================] - 7s 8ms/sample - loss: 0.0068\n",
      "Epoch 10/100\n",
      "865/865 [==============================] - 6s 7ms/sample - loss: 0.0064 0s\n",
      "Epoch 11/100\n",
      "865/865 [==============================] - 7s 8ms/sample - loss: 0.0059\n",
      "Epoch 12/100\n",
      "865/865 [==============================] - 7s 8ms/sample - loss: 0.0058\n",
      "Epoch 13/100\n",
      "865/865 [==============================] - 6s 7ms/sample - loss: 0.0063\n",
      "Epoch 14/100\n",
      "865/865 [==============================] - 6s 7ms/sample - loss: 0.0070\n",
      "Epoch 15/100\n",
      "865/865 [==============================] - 6s 7ms/sample - loss: 0.0068\n",
      "Epoch 16/100\n",
      "865/865 [==============================] - 6s 7ms/sample - loss: 0.0069\n",
      "Epoch 17/100\n",
      "865/865 [==============================] - 6s 7ms/sample - loss: 0.0077\n",
      "Epoch 18/100\n",
      "865/865 [==============================] - 7s 8ms/sample - loss: 0.0080\n",
      "Epoch 19/100\n",
      "865/865 [==============================] - 7s 8ms/sample - loss: 0.0081 0\n",
      "Epoch 20/100\n",
      "865/865 [==============================] - 8s 9ms/sample - loss: 0.0089\n",
      "Epoch 21/100\n",
      "865/865 [==============================] - 9s 10ms/sample - loss: 0.00774s\n",
      "Epoch 22/100\n",
      "865/865 [==============================] - 8s 9ms/sample - loss: 0.0075\n",
      "Epoch 23/100\n",
      "865/865 [==============================] - 7s 8ms/sample - loss: 0.0080\n",
      "Epoch 24/100\n",
      "865/865 [==============================] - 7s 8ms/sample - loss: 0.0077\n",
      "Epoch 25/100\n",
      "865/865 [==============================] - 6s 7ms/sample - loss: 0.0072\n",
      "Epoch 26/100\n",
      "865/865 [==============================] - 6s 7ms/sample - loss: 0.0069 0s - loss: \n",
      "Epoch 27/100\n",
      "865/865 [==============================] - 7s 8ms/sample - loss: 0.0071\n",
      "Epoch 28/100\n",
      "865/865 [==============================] - 7s 8ms/sample - loss: 0.0068\n",
      "Epoch 29/100\n",
      "865/865 [==============================] - 7s 8ms/sample - loss: 0.0067\n",
      "Epoch 30/100\n",
      "865/865 [==============================] - 7s 8ms/sample - loss: 0.0063\n",
      "Epoch 31/100\n",
      "865/865 [==============================] - 7s 8ms/sample - loss: 0.0061\n",
      "Epoch 32/100\n",
      "865/865 [==============================] - 7s 8ms/sample - loss: 0.0059\n",
      "Epoch 33/100\n",
      "865/865 [==============================] - 7s 8ms/sample - loss: 0.0058 0s  - ETA: 0s - loss: 0.005\n",
      "Epoch 34/100\n",
      "865/865 [==============================] - 7s 8ms/sample - loss: 0.0056\n",
      "Epoch 35/100\n",
      "865/865 [==============================] - 7s 8ms/sample - loss: 0.0051\n",
      "Epoch 36/100\n",
      "865/865 [==============================] - 7s 8ms/sample - loss: 0.0054\n",
      "Epoch 37/100\n",
      "865/865 [==============================] - 7s 8ms/sample - loss: 0.0054\n",
      "Epoch 38/100\n",
      "865/865 [==============================] - 7s 8ms/sample - loss: 0.0054\n",
      "Epoch 39/100\n",
      "865/865 [==============================] - 7s 8ms/sample - loss: 0.0052\n",
      "Epoch 40/100\n",
      "865/865 [==============================] - 7s 8ms/sample - loss: 0.0046\n",
      "Epoch 41/100\n",
      "865/865 [==============================] - 7s 8ms/sample - loss: 0.0049\n",
      "Epoch 42/100\n",
      "865/865 [==============================] - 7s 8ms/sample - loss: 0.0050\n",
      "Epoch 43/100\n",
      "865/865 [==============================] - 7s 8ms/sample - loss: 0.0046 0s - loss: \n",
      "Epoch 44/100\n",
      "865/865 [==============================] - 7s 8ms/sample - loss: 0.0040\n",
      "Epoch 45/100\n",
      "865/865 [==============================] - 7s 8ms/sample - loss: 0.0044\n",
      "Epoch 46/100\n",
      "865/865 [==============================] - 7s 8ms/sample - loss: 0.0041\n",
      "Epoch 47/100\n",
      "865/865 [==============================] - 7s 8ms/sample - loss: 0.0040\n",
      "Epoch 48/100\n",
      "865/865 [==============================] - 7s 8ms/sample - loss: 0.0039\n",
      "Epoch 49/100\n",
      "865/865 [==============================] - 7s 8ms/sample - loss: 0.0039\n",
      "Epoch 50/100\n",
      "865/865 [==============================] - 7s 8ms/sample - loss: 0.0041\n",
      "Epoch 51/100\n",
      "865/865 [==============================] - 7s 8ms/sample - loss: 0.0039\n",
      "Epoch 52/100\n",
      "865/865 [==============================] - 7s 8ms/sample - loss: 0.0036\n",
      "Epoch 53/100\n",
      "865/865 [==============================] - 7s 8ms/sample - loss: 0.0039\n",
      "Epoch 54/100\n",
      "865/865 [==============================] - 7s 8ms/sample - loss: 0.0040\n",
      "Epoch 55/100\n",
      "865/865 [==============================] - 8s 9ms/sample - loss: 0.0034\n",
      "Epoch 56/100\n",
      "865/865 [==============================] - 6s 7ms/sample - loss: 0.0035\n",
      "Epoch 57/100\n",
      "865/865 [==============================] - 7s 8ms/sample - loss: 0.0036\n",
      "Epoch 58/100\n",
      "865/865 [==============================] - 6s 7ms/sample - loss: 0.0036\n",
      "Epoch 59/100\n",
      "865/865 [==============================] - 6s 7ms/sample - loss: 0.0034\n",
      "Epoch 60/100\n",
      "865/865 [==============================] - 5s 6ms/sample - loss: 0.0032\n",
      "Epoch 61/100\n",
      "865/865 [==============================] - 6s 7ms/sample - loss: 0.0032\n",
      "Epoch 62/100\n",
      "865/865 [==============================] - 6s 7ms/sample - loss: 0.0030\n",
      "Epoch 63/100\n",
      "865/865 [==============================] - 6s 7ms/sample - loss: 0.0032\n",
      "Epoch 64/100\n",
      "865/865 [==============================] - 6s 7ms/sample - loss: 0.0035\n",
      "Epoch 65/100\n",
      "865/865 [==============================] - 7s 8ms/sample - loss: 0.0031\n",
      "Epoch 66/100\n",
      "865/865 [==============================] - 7s 8ms/sample - loss: 0.0032\n",
      "Epoch 67/100\n",
      "865/865 [==============================] - 6s 7ms/sample - loss: 0.0029\n",
      "Epoch 68/100\n",
      "865/865 [==============================] - 7s 8ms/sample - loss: 0.0029\n",
      "Epoch 69/100\n",
      "865/865 [==============================] - 6s 7ms/sample - loss: 0.0030\n",
      "Epoch 70/100\n",
      "865/865 [==============================] - 6s 7ms/sample - loss: 0.0032\n",
      "Epoch 71/100\n",
      "865/865 [==============================] - 6s 7ms/sample - loss: 0.0035\n",
      "Epoch 72/100\n",
      "865/865 [==============================] - 6s 7ms/sample - loss: 0.0028\n",
      "Epoch 73/100\n",
      "865/865 [==============================] - 7s 8ms/sample - loss: 0.0026\n",
      "Epoch 74/100\n",
      "865/865 [==============================] - 6s 7ms/sample - loss: 0.0025\n",
      "Epoch 75/100\n",
      "865/865 [==============================] - 6s 7ms/sample - loss: 0.0027\n",
      "Epoch 76/100\n",
      "865/865 [==============================] - 7s 8ms/sample - loss: 0.0029\n",
      "Epoch 77/100\n",
      "865/865 [==============================] - 6s 7ms/sample - loss: 0.0029\n",
      "Epoch 78/100\n",
      "865/865 [==============================] - 6s 7ms/sample - loss: 0.0026 0s - los\n",
      "Epoch 79/100\n",
      "865/865 [==============================] - 6s 7ms/sample - loss: 0.0032\n",
      "Epoch 80/100\n",
      "865/865 [==============================] - 6s 7ms/sample - loss: 0.0028\n",
      "Epoch 81/100\n",
      "865/865 [==============================] - 6s 7ms/sample - loss: 0.0024\n",
      "Epoch 82/100\n",
      "865/865 [==============================] - 6s 7ms/sample - loss: 0.0027\n",
      "Epoch 83/100\n",
      "865/865 [==============================] - 6s 7ms/sample - loss: 0.0028\n",
      "Epoch 84/100\n",
      "865/865 [==============================] - 7s 8ms/sample - loss: 0.0024\n",
      "Epoch 85/100\n",
      "865/865 [==============================] - 6s 7ms/sample - loss: 0.0023\n",
      "Epoch 86/100\n",
      "865/865 [==============================] - 6s 7ms/sample - loss: 0.0025\n",
      "Epoch 87/100\n",
      "865/865 [==============================] - 6s 7ms/sample - loss: 0.0027\n",
      "Epoch 88/100\n",
      "865/865 [==============================] - 6s 7ms/sample - loss: 0.0030\n",
      "Epoch 89/100\n",
      "865/865 [==============================] - 6s 7ms/sample - loss: 0.0026\n",
      "Epoch 90/100\n",
      "865/865 [==============================] - 6s 7ms/sample - loss: 0.0025\n",
      "Epoch 91/100\n",
      "865/865 [==============================] - 6s 7ms/sample - loss: 0.0026\n",
      "Epoch 92/100\n",
      "865/865 [==============================] - 6s 7ms/sample - loss: 0.0032\n",
      "Epoch 93/100\n",
      "865/865 [==============================] - 6s 7ms/sample - loss: 0.0032\n",
      "Epoch 94/100\n",
      "865/865 [==============================] - 6s 7ms/sample - loss: 0.0026\n",
      "Epoch 95/100\n",
      "865/865 [==============================] - 6s 7ms/sample - loss: 0.0025\n",
      "Epoch 96/100\n",
      "865/865 [==============================] - 6s 7ms/sample - loss: 0.0025\n",
      "Epoch 97/100\n",
      "865/865 [==============================] - 6s 7ms/sample - loss: 0.0027 0s - loss\n",
      "Epoch 98/100\n",
      "865/865 [==============================] - 6s 7ms/sample - loss: 0.0026\n",
      "Epoch 99/100\n",
      "865/865 [==============================] - 6s 7ms/sample - loss: 0.0027\n",
      "Epoch 100/100\n",
      "865/865 [==============================] - 6s 7ms/sample - loss: 0.0026\n"
     ]
    },
    {
     "data": {
      "text/plain": [
       "<tensorflow.python.keras.callbacks.History at 0x1b22d74d208>"
      ]
     },
     "execution_count": 452,
     "metadata": {},
     "output_type": "execute_result"
    }
   ],
   "source": [
    "# define rnn model\n",
    "\n",
    "rnn = Sequential()\n",
    "rnn.add(LSTM(units=number_units, return_sequences=True, batch_input_shape=(2,12,11)))\n",
    "rnn.add(Dropout(drop_out))\n",
    "rnn.add(LSTM(units=number_units))\n",
    "rnn.add(Dropout(drop_out))\n",
    "rnn.add(Dense(1))\n",
    "rnn.compile(optimizer='adam',  loss= 'mean_squared_error')\n",
    "        \n",
    "rnn.fit(a, c, epochs=100, shuffle=False, batch_size=2, verbose=1)"
   ]
  },
  {
   "cell_type": "code",
   "execution_count": 453,
   "metadata": {},
   "outputs": [
    {
     "name": "stdout",
     "output_type": "stream",
     "text": [
      "345/1 [==============================================================================================================================================================================================================================================================================================================================================================================================================================================================================================================================================================================================================================================================================================================================================================================================================================================================================================================================================================================================================================================================================================================================================================================================================================================================================================================================================================================================================================================================================================================================================================================================================================================================================================================================================================================================================================================================================================================================================================================================================================================================================================================================================================================================================================================================================================================================================================================================================================================================================================================================================================================================================================================================================================================================================================================================================================================================================================================================================================================================================================================================================================================================================================================================================================================================================================================================================================================================================================================================================================================================================================================================================================================================================================================================================================================================================================================================================================================================================================================================================================================================================================================================================================================================================================================================================================================================================================================================================================================================================================================================================================================================================================================================================================================================================================================================================================================================================================================================================================================================================================================================================================================================================================================================================================================================================================================================================================================================================================================================================================================================================================================================================================================================================================================================================================================================================================================================================================================================================================================================================================================================================================================================================================================================================================================================================================================================================================================================================================================================================================================================================================================================================================================================================================================================================================================================================================================================================================================================================================================================================================================================================================================================================================================================================================================================================================================================================================================================================================================================================================================================================================================================================================================================================================================================================================================================================================================================================================================================================================================================================================================================================================================================================================================================================================================================================================================================================================================================================================================================================================================================================================================================================================================================================================================================================================================================================================================================================================================================================================================================================================================================================================================================================================================================================================================================================================================================================================================================================================================================================================================================================================================================================================================================================================================================================================================================================================================================================================================================================================================================================================================================================================================================================================================================================================================================================================================================================================================================================================================================================================================================================================================================================================================================================================================================================================================] - 2s 7ms/sample - loss: 0.0184\n"
     ]
    },
    {
     "data": {
      "text/plain": [
       "0.013591585360928297"
      ]
     },
     "execution_count": 453,
     "metadata": {},
     "output_type": "execute_result"
    }
   ],
   "source": [
    "rnn.evaluate(b,d)"
   ]
  },
  {
   "cell_type": "markdown",
   "metadata": {},
   "source": [
    "## Inspect 1st run results"
   ]
  },
  {
   "cell_type": "code",
   "execution_count": 509,
   "metadata": {},
   "outputs": [
    {
     "name": "stdout",
     "output_type": "stream",
     "text": [
      "GOOG DataFrame created\n"
     ]
    }
   ],
   "source": [
    "# get scaler to reverse the scaling\n",
    "new_scaler = MinMaxScaler()\n",
    "prices = load_df_by_ticker('GOOG').px.to_frame()\n",
    "new_scaler = new_scaler.fit(prices)"
   ]
  },
  {
   "cell_type": "code",
   "execution_count": null,
   "metadata": {},
   "outputs": [],
   "source": []
  },
  {
   "cell_type": "code",
   "execution_count": 455,
   "metadata": {},
   "outputs": [
    {
     "data": {
      "text/html": [
       "<div>\n",
       "<style scoped>\n",
       "    .dataframe tbody tr th:only-of-type {\n",
       "        vertical-align: middle;\n",
       "    }\n",
       "\n",
       "    .dataframe tbody tr th {\n",
       "        vertical-align: top;\n",
       "    }\n",
       "\n",
       "    .dataframe thead th {\n",
       "        text-align: right;\n",
       "    }\n",
       "</style>\n",
       "<table border=\"1\" class=\"dataframe\">\n",
       "  <thead>\n",
       "    <tr style=\"text-align: right;\">\n",
       "      <th></th>\n",
       "      <th>Real</th>\n",
       "      <th>Predicted</th>\n",
       "      <th>Percentage Error</th>\n",
       "    </tr>\n",
       "  </thead>\n",
       "  <tbody>\n",
       "    <tr>\n",
       "      <th>0</th>\n",
       "      <td>1214.38</td>\n",
       "      <td>1181.262085</td>\n",
       "      <td>-0.027271</td>\n",
       "    </tr>\n",
       "    <tr>\n",
       "      <th>1</th>\n",
       "      <td>1206.49</td>\n",
       "      <td>1171.490723</td>\n",
       "      <td>-0.029009</td>\n",
       "    </tr>\n",
       "    <tr>\n",
       "      <th>2</th>\n",
       "      <td>1200.96</td>\n",
       "      <td>1159.914551</td>\n",
       "      <td>-0.034177</td>\n",
       "    </tr>\n",
       "    <tr>\n",
       "      <th>3</th>\n",
       "      <td>1207.77</td>\n",
       "      <td>1149.477905</td>\n",
       "      <td>-0.048264</td>\n",
       "    </tr>\n",
       "    <tr>\n",
       "      <th>4</th>\n",
       "      <td>1201.62</td>\n",
       "      <td>1143.062500</td>\n",
       "      <td>-0.048732</td>\n",
       "    </tr>\n",
       "  </tbody>\n",
       "</table>\n",
       "</div>"
      ],
      "text/plain": [
       "      Real    Predicted  Percentage Error\n",
       "0  1214.38  1181.262085         -0.027271\n",
       "1  1206.49  1171.490723         -0.029009\n",
       "2  1200.96  1159.914551         -0.034177\n",
       "3  1207.77  1149.477905         -0.048264\n",
       "4  1201.62  1143.062500         -0.048732"
      ]
     },
     "execution_count": 455,
     "metadata": {},
     "output_type": "execute_result"
    }
   ],
   "source": [
    "# write results into a dataframe\n",
    "\n",
    "predicted = rnn.predict(b)\n",
    "predicted_prices = new_scaler.inverse_transform(predicted)\n",
    "real_prices = new_scaler.inverse_transform(d.reshape(-1, 1))\n",
    "\n",
    "stocks = pd.DataFrame({\n",
    "    \"Real\": real_prices.ravel(),\n",
    "    \"Predicted\": predicted_prices.ravel()\n",
    "})\n",
    "stocks.head()\n",
    "\n",
    "\n",
    "\n",
    "stocks['Percentage Error']= stocks.Predicted/stocks.Real-1\n",
    "stocks.head()"
   ]
  },
  {
   "cell_type": "code",
   "execution_count": 466,
   "metadata": {},
   "outputs": [],
   "source": [
    "# calculate some metrics\n",
    "stocks['APE'] = abs(stocks.Predicted/stocks.Real-1) \n",
    "mape = stocks['APE'].mean()\n",
    "max_down = stocks['Percentage Error'].min()\n",
    "max_up = stocks['Percentage Error'].max()"
   ]
  },
  {
   "cell_type": "code",
   "execution_count": 467,
   "metadata": {},
   "outputs": [
    {
     "name": "stdout",
     "output_type": "stream",
     "text": [
      "0.06908084294092466 0.027230136236806188 -0.12136452557763111 0.21792504651136424\n"
     ]
    }
   ],
   "source": [
    "print(mape, mpe, max_down, max_up)"
   ]
  },
  {
   "cell_type": "code",
   "execution_count": 473,
   "metadata": {},
   "outputs": [
    {
     "data": {
      "application/vnd.holoviews_exec.v0+json": "",
      "text/html": [
       "<div id='1829' style='display: table; margin: 0 auto;'>\n",
       "\n",
       "\n",
       "\n",
       "\n",
       "\n",
       "  <div class=\"bk-root\" id=\"69459a84-1198-4822-9ff2-11b63647cbbc\" data-root-id=\"1829\"></div>\n",
       "</div>\n",
       "<script type=\"application/javascript\">(function(root) {\n",
       "  function embed_document(root) {\n",
       "    \n",
       "  var docs_json = {\"d642520c-a52b-489d-abc1-752a333168a6\":{\"roots\":{\"references\":[{\"attributes\":{\"below\":[{\"id\":\"1838\",\"type\":\"LinearAxis\"}],\"center\":[{\"id\":\"1842\",\"type\":\"Grid\"},{\"id\":\"1847\",\"type\":\"Grid\"},{\"id\":\"1878\",\"type\":\"Legend\"}],\"left\":[{\"id\":\"1843\",\"type\":\"LinearAxis\"}],\"margin\":null,\"min_border_bottom\":10,\"min_border_left\":10,\"min_border_right\":10,\"min_border_top\":10,\"plot_height\":300,\"plot_width\":700,\"renderers\":[{\"id\":\"1870\",\"type\":\"GlyphRenderer\"},{\"id\":\"1886\",\"type\":\"GlyphRenderer\"}],\"right\":[{\"id\":\"1878\",\"type\":\"Legend\"}],\"sizing_mode\":\"fixed\",\"title\":{\"id\":\"1830\",\"type\":\"Title\"},\"toolbar\":{\"id\":\"1853\",\"type\":\"Toolbar\"},\"x_range\":{\"id\":\"1825\",\"type\":\"Range1d\"},\"x_scale\":{\"id\":\"1834\",\"type\":\"LinearScale\"},\"y_range\":{\"id\":\"1826\",\"type\":\"Range1d\"},\"y_scale\":{\"id\":\"1836\",\"type\":\"LinearScale\"}},\"id\":\"1829\",\"subtype\":\"Figure\",\"type\":\"Plot\"},{\"attributes\":{\"callback\":null,\"end\":1344.66,\"reset_end\":1344.66,\"reset_start\":976.22,\"start\":976.22,\"tags\":[[[\"value\",\"value\",null]]]},\"id\":\"1826\",\"type\":\"Range1d\"},{\"attributes\":{\"axis_label\":\"\",\"bounds\":\"auto\",\"formatter\":{\"id\":\"1863\",\"type\":\"BasicTickFormatter\"},\"major_label_orientation\":\"horizontal\",\"ticker\":{\"id\":\"1844\",\"type\":\"BasicTicker\"}},\"id\":\"1843\",\"type\":\"LinearAxis\"},{\"attributes\":{},\"id\":\"1852\",\"type\":\"ResetTool\"},{\"attributes\":{\"dimension\":1,\"grid_line_color\":null,\"ticker\":{\"id\":\"1844\",\"type\":\"BasicTicker\"}},\"id\":\"1847\",\"type\":\"Grid\"},{\"attributes\":{\"callback\":null,\"renderers\":[{\"id\":\"1870\",\"type\":\"GlyphRenderer\"},{\"id\":\"1886\",\"type\":\"GlyphRenderer\"}],\"tags\":[\"hv_created\"],\"tooltips\":[[\"Variable\",\"@{Variable}\"],[\"index\",\"@{index}\"],[\"value\",\"@{value}\"]]},\"id\":\"1827\",\"type\":\"HoverTool\"},{\"attributes\":{\"active_drag\":\"auto\",\"active_inspect\":\"auto\",\"active_multi\":null,\"active_scroll\":\"auto\",\"active_tap\":\"auto\",\"tools\":[{\"id\":\"1827\",\"type\":\"HoverTool\"},{\"id\":\"1848\",\"type\":\"SaveTool\"},{\"id\":\"1849\",\"type\":\"PanTool\"},{\"id\":\"1850\",\"type\":\"WheelZoomTool\"},{\"id\":\"1851\",\"type\":\"BoxZoomTool\"},{\"id\":\"1852\",\"type\":\"ResetTool\"}]},\"id\":\"1853\",\"type\":\"Toolbar\"},{\"attributes\":{},\"id\":\"1844\",\"type\":\"BasicTicker\"},{\"attributes\":{},\"id\":\"1861\",\"type\":\"BasicTickFormatter\"},{\"attributes\":{\"label\":{\"value\":\"Predicted\"},\"renderers\":[{\"id\":\"1886\",\"type\":\"GlyphRenderer\"}]},\"id\":\"1896\",\"type\":\"LegendItem\"},{\"attributes\":{},\"id\":\"1848\",\"type\":\"SaveTool\"},{\"attributes\":{},\"id\":\"1881\",\"type\":\"Selection\"},{\"attributes\":{},\"id\":\"1905\",\"type\":\"UnionRenderers\"},{\"attributes\":{},\"id\":\"1863\",\"type\":\"BasicTickFormatter\"},{\"attributes\":{},\"id\":\"1894\",\"type\":\"UnionRenderers\"},{\"attributes\":{\"text\":\"Google Stock Prices December 2018-November 2019\",\"text_color\":{\"value\":\"black\"},\"text_font_size\":{\"value\":\"12pt\"}},\"id\":\"1830\",\"type\":\"Title\"},{\"attributes\":{},\"id\":\"1850\",\"type\":\"WheelZoomTool\"},{\"attributes\":{\"label\":{\"value\":\"Real\"},\"renderers\":[{\"id\":\"1870\",\"type\":\"GlyphRenderer\"}]},\"id\":\"1879\",\"type\":\"LegendItem\"},{\"attributes\":{\"source\":{\"id\":\"1880\",\"type\":\"ColumnDataSource\"}},\"id\":\"1887\",\"type\":\"CDSView\"},{\"attributes\":{},\"id\":\"1849\",\"type\":\"PanTool\"},{\"attributes\":{\"data_source\":{\"id\":\"1880\",\"type\":\"ColumnDataSource\"},\"glyph\":{\"id\":\"1883\",\"type\":\"Line\"},\"hover_glyph\":null,\"muted_glyph\":{\"id\":\"1885\",\"type\":\"Line\"},\"nonselection_glyph\":{\"id\":\"1884\",\"type\":\"Line\"},\"selection_glyph\":null,\"view\":{\"id\":\"1887\",\"type\":\"CDSView\"}},\"id\":\"1886\",\"type\":\"GlyphRenderer\"},{\"attributes\":{\"click_policy\":\"mute\",\"items\":[{\"id\":\"1879\",\"type\":\"LegendItem\"},{\"id\":\"1896\",\"type\":\"LegendItem\"}],\"location\":[0,0]},\"id\":\"1878\",\"type\":\"Legend\"},{\"attributes\":{\"bottom_units\":\"screen\",\"fill_alpha\":{\"value\":0.5},\"fill_color\":{\"value\":\"lightgrey\"},\"left_units\":\"screen\",\"level\":\"overlay\",\"line_alpha\":{\"value\":1.0},\"line_color\":{\"value\":\"black\"},\"line_dash\":[4,4],\"line_width\":{\"value\":2},\"render_mode\":\"css\",\"right_units\":\"screen\",\"top_units\":\"screen\"},\"id\":\"1877\",\"type\":\"BoxAnnotation\"},{\"attributes\":{\"overlay\":{\"id\":\"1877\",\"type\":\"BoxAnnotation\"}},\"id\":\"1851\",\"type\":\"BoxZoomTool\"},{\"attributes\":{\"line_alpha\":0.2,\"line_color\":\"#ff7f0e\",\"line_width\":2,\"x\":{\"field\":\"index\"},\"y\":{\"field\":\"value\"}},\"id\":\"1885\",\"type\":\"Line\"},{\"attributes\":{\"line_alpha\":0.2,\"line_color\":\"#1f77b4\",\"line_width\":2,\"x\":{\"field\":\"index\"},\"y\":{\"field\":\"value\"}},\"id\":\"1869\",\"type\":\"Line\"},{\"attributes\":{\"grid_line_color\":null,\"ticker\":{\"id\":\"1839\",\"type\":\"BasicTicker\"}},\"id\":\"1842\",\"type\":\"Grid\"},{\"attributes\":{\"data_source\":{\"id\":\"1864\",\"type\":\"ColumnDataSource\"},\"glyph\":{\"id\":\"1867\",\"type\":\"Line\"},\"hover_glyph\":null,\"muted_glyph\":{\"id\":\"1869\",\"type\":\"Line\"},\"nonselection_glyph\":{\"id\":\"1868\",\"type\":\"Line\"},\"selection_glyph\":null,\"view\":{\"id\":\"1871\",\"type\":\"CDSView\"}},\"id\":\"1870\",\"type\":\"GlyphRenderer\"},{\"attributes\":{},\"id\":\"1839\",\"type\":\"BasicTicker\"},{\"attributes\":{\"callback\":null,\"data\":{\"Variable\":[\"Real\",\"Real\",\"Real\",\"Real\",\"Real\",\"Real\",\"Real\",\"Real\",\"Real\",\"Real\",\"Real\",\"Real\",\"Real\",\"Real\",\"Real\",\"Real\",\"Real\",\"Real\",\"Real\",\"Real\",\"Real\",\"Real\",\"Real\",\"Real\",\"Real\",\"Real\",\"Real\",\"Real\",\"Real\",\"Real\",\"Real\",\"Real\",\"Real\",\"Real\",\"Real\",\"Real\",\"Real\",\"Real\",\"Real\",\"Real\",\"Real\",\"Real\",\"Real\",\"Real\",\"Real\",\"Real\",\"Real\",\"Real\",\"Real\",\"Real\",\"Real\",\"Real\",\"Real\",\"Real\",\"Real\",\"Real\",\"Real\",\"Real\",\"Real\",\"Real\",\"Real\",\"Real\",\"Real\",\"Real\",\"Real\",\"Real\",\"Real\",\"Real\",\"Real\",\"Real\",\"Real\",\"Real\",\"Real\",\"Real\",\"Real\",\"Real\",\"Real\",\"Real\",\"Real\",\"Real\",\"Real\",\"Real\",\"Real\",\"Real\",\"Real\",\"Real\",\"Real\",\"Real\",\"Real\",\"Real\",\"Real\",\"Real\",\"Real\",\"Real\",\"Real\",\"Real\",\"Real\",\"Real\",\"Real\",\"Real\",\"Real\",\"Real\",\"Real\",\"Real\",\"Real\",\"Real\",\"Real\",\"Real\",\"Real\",\"Real\",\"Real\",\"Real\",\"Real\",\"Real\",\"Real\",\"Real\",\"Real\",\"Real\",\"Real\",\"Real\",\"Real\",\"Real\",\"Real\",\"Real\",\"Real\",\"Real\",\"Real\",\"Real\",\"Real\",\"Real\",\"Real\",\"Real\",\"Real\",\"Real\",\"Real\",\"Real\",\"Real\",\"Real\",\"Real\",\"Real\",\"Real\",\"Real\",\"Real\",\"Real\",\"Real\",\"Real\",\"Real\",\"Real\",\"Real\",\"Real\",\"Real\",\"Real\",\"Real\",\"Real\",\"Real\",\"Real\",\"Real\",\"Real\",\"Real\",\"Real\",\"Real\",\"Real\",\"Real\",\"Real\",\"Real\",\"Real\",\"Real\",\"Real\",\"Real\",\"Real\",\"Real\",\"Real\",\"Real\",\"Real\",\"Real\",\"Real\",\"Real\",\"Real\",\"Real\",\"Real\",\"Real\",\"Real\",\"Real\",\"Real\",\"Real\",\"Real\",\"Real\",\"Real\",\"Real\",\"Real\",\"Real\",\"Real\",\"Real\",\"Real\",\"Real\",\"Real\",\"Real\",\"Real\",\"Real\",\"Real\",\"Real\",\"Real\",\"Real\",\"Real\",\"Real\",\"Real\",\"Real\",\"Real\",\"Real\",\"Real\",\"Real\",\"Real\",\"Real\",\"Real\",\"Real\",\"Real\",\"Real\",\"Real\",\"Real\",\"Real\",\"Real\",\"Real\",\"Real\",\"Real\",\"Real\",\"Real\",\"Real\",\"Real\",\"Real\",\"Real\",\"Real\",\"Real\",\"Real\",\"Real\",\"Real\",\"Real\",\"Real\",\"Real\",\"Real\",\"Real\",\"Real\",\"Real\",\"Real\",\"Real\",\"Real\",\"Real\",\"Real\",\"Real\",\"Real\",\"Real\",\"Real\",\"Real\",\"Real\",\"Real\",\"Real\",\"Real\",\"Real\",\"Real\",\"Real\",\"Real\",\"Real\",\"Real\",\"Real\",\"Real\",\"Real\",\"Real\",\"Real\",\"Real\",\"Real\",\"Real\",\"Real\",\"Real\",\"Real\",\"Real\",\"Real\",\"Real\",\"Real\",\"Real\",\"Real\",\"Real\",\"Real\",\"Real\",\"Real\",\"Real\",\"Real\",\"Real\",\"Real\",\"Real\",\"Real\",\"Real\",\"Real\",\"Real\",\"Real\",\"Real\",\"Real\",\"Real\",\"Real\",\"Real\",\"Real\",\"Real\",\"Real\",\"Real\",\"Real\",\"Real\",\"Real\",\"Real\",\"Real\",\"Real\",\"Real\",\"Real\",\"Real\",\"Real\",\"Real\",\"Real\",\"Real\",\"Real\",\"Real\",\"Real\",\"Real\",\"Real\",\"Real\",\"Real\",\"Real\",\"Real\",\"Real\",\"Real\",\"Real\",\"Real\",\"Real\",\"Real\",\"Real\",\"Real\",\"Real\",\"Real\",\"Real\",\"Real\",\"Real\",\"Real\",\"Real\",\"Real\",\"Real\",\"Real\",\"Real\",\"Real\",\"Real\"],\"index\":[0,1,2,3,4,5,6,7,8,9,10,11,12,13,14,15,16,17,18,19,20,21,22,23,24,25,26,27,28,29,30,31,32,33,34,35,36,37,38,39,40,41,42,43,44,45,46,47,48,49,50,51,52,53,54,55,56,57,58,59,60,61,62,63,64,65,66,67,68,69,70,71,72,73,74,75,76,77,78,79,80,81,82,83,84,85,86,87,88,89,90,91,92,93,94,95,96,97,98,99,100,101,102,103,104,105,106,107,108,109,110,111,112,113,114,115,116,117,118,119,120,121,122,123,124,125,126,127,128,129,130,131,132,133,134,135,136,137,138,139,140,141,142,143,144,145,146,147,148,149,150,151,152,153,154,155,156,157,158,159,160,161,162,163,164,165,166,167,168,169,170,171,172,173,174,175,176,177,178,179,180,181,182,183,184,185,186,187,188,189,190,191,192,193,194,195,196,197,198,199,200,201,202,203,204,205,206,207,208,209,210,211,212,213,214,215,216,217,218,219,220,221,222,223,224,225,226,227,228,229,230,231,232,233,234,235,236,237,238,239,240,241,242,243,244,245,246,247,248,249,250,251,252,253,254,255,256,257,258,259,260,261,262,263,264,265,266,267,268,269,270,271,272,273,274,275,276,277,278,279,280,281,282,283,284,285,286,287,288,289,290,291,292,293,294,295,296,297,298,299,300,301,302,303,304,305,306,307,308,309,310,311,312,313,314,315,316,317,318,319,320,321,322,323,324,325,326,327,328,329,330,331,332,333,334,335,336,337,338,339,340,341,342,343,344],\"value\":{\"__ndarray__\":\"7FG4HoX5kkApXI/C9dmSQKRwPQrXw5JArkfhehTfkkAUrkfhesaSQLgehetR3ZJA7FG4HoXVkkCamZmZmRKTQOF6FK5HZ5NAmpmZmZk8k0AzMzMzM4WTQBSuR+F6XJNA9ihcj8IIk0D2KFyPwgiTQAAAAAAAtJJAUrgeheuJkkD2KFyPwk2SQLgehetRM5JAw/UoXI8ykkA9CtejcGWSQOF6FK5HK5JAuB6F61FdkkCF61G4HlKSQDMzMzMzEJJAexSuR+EkkkCPwvUoXEySQBSuR+F6i5JAj8L1KFw4kkAUrkfhelWSQJqZmZmZgpJAKVyPwvVxkkDD9Shcj6qSQHsUrkfhpZJACtejcD2tkkA9CtejcMCSQM3MzMzMy5JA9ihcj8JAkkBmZmZmZhWSQHsUrkfh85FA4XoUrkfLkUB7FK5H4eSQQOF6FK5H3ZBAuB6F61FYkUAAAAAAABGRQIXrUbgehZFA9ihcj8JukUB7FK5H4f+QQKRwPQrXIZFAcT0K16M0kUD2KFyPwj6RQKRwPQrXapBA4XoUrkcekUB7FK5H4b2QQHE9Ctej4I9ApHA9CtcwkECuR+F6FNOQQAAAAAAAuJBAXI/C9SiHkECPwvUoXECQQArXo3A9f5BAw/UoXI8VkUCamZmZmemQQJqZmZmZqJBA7FG4HoU6kEAzMzMzMzCQQHE9CtejTpBApHA9CteikEApXI/C9ZWQQAAAAAAA4I9A16NwPQoHkEA9CtejcDaQQD0K16NwNpBA16NwPQr/j0AUrkfhemKQQHE9CtejUZBAUrgehev4kEAzMzMzMwGRQB+F61G4GZFAH4XrUbhJkUDhehSuR2uQQOF6FK5Ha5BAUrgeheuykEC4HoXrUTKQQDMzMzMzPpBAAAAAAABvkEAfhetRuJ6QQJqZmZmZl5BAZmZmZmZIkEAK16NwPcSPQKRwPQrXEpBArkfhehT4j0DhehSuR4uPQLkehetRnI5A9ihcj8KBjkD2KFyPwoGOQKRwPQrXPZBA7FG4HoVPkEC4HoXrUTSQQD0K16NwLpBAPQrXo3AukEBmZmZmZleQQBSuR+F6wI9ApHA9Cte6kEDD9Shcj7GQQIXrUbge0ZBAcT0K16PKkEC4HoXrUbmQQPYoXI/ChJBA9ihcj8JSkECamZmZmdSQQHsUrkfh45BAmpmZmZkHkUDXo3A9CimRQNejcD0KKZFArkfhehS6kEDhehSuR86QQJqZmZmZx5BAKVyPwvULkUC4HoXrUbiQQBSuR+F6kpBACtejcD0EkUAUrkfhenGRQAAAAAAAW5FAMzMzMzOzkUApXI/C9eeRQFK4HoXrbJFApHA9CtcqkUAK16NwPRyRQNejcD0KHJFAFK5H4XqFkUBxPQrXo4CRQEjhehSuhpFAmpmZmZlmkUCamZmZmWaRQArXo3A9epFAMzMzMzNnkUB7FK5H4SORQBSuR+F6WZFAmpmZmZlVkUDsUbgehWyRQDMzMzMzcJFASOF6FK5/kUApXI/C9dORQDMzMzMz75FAhetRuB4okkA9CtejcBeSQDMzMzMz3ZFA4XoUrkfZkUDXo3A9Cl+SQM3MzMzMpJJA4XoUrkelkkAzMzMzM4aSQKRwPQrXgZJA16NwPQqBkkBmZmZmZruSQHsUrkfhH5NAXI/C9Sg+k0AAAAAAANaSQAAAAAAApJJAFK5H4XqCkkCuR+F6FFSSQClcj8L1QZJACtejcD1VkkAfhetRuKmSQClcj8L1wZJASOF6FK7XkkAAAAAAAPySQJqZmZmZ3JJAj8L1KFzPkkAAAAAAALWSQHE9CtejyJJAFK5H4XrSkkAUrkfhegeTQGZmZmZmFJNA7FG4HoUsk0CPwvUoXFGTQBSuR+F6UZNAFK5H4XpRk0CPwvUoXIOTQDMzMzMzwpNAAAAAAACgk0DNzMzMzL2TQB+F61G44JNAuB6F61EelEBSuB6F65GSQLgehetRQJJAPQrXo3AqkkCamZmZmYWSQMP1KFyPlZJAZmZmZmZYkkCuR+F6FDmSQOxRuB6FKZJArkfhehQxkkCF61G4HrCRQPYoXI/CgZFApHA9CtcwkkBSuB6F62uSQDMzMzMzKZJAZmZmZmbLkUDsUbgehfaRQEjhehSu/ZFArkfhehTTkUB7FK5H4bWRQHsUrkfhtZFAmpmZmZm4kUCkcD0K13GRQM3MzMzMd5FA7FG4HoU+kUBSuB6F6zCQQDMzMzMzdJBAexSuR+FIkECPwvUoXFGQQFyPwvUoqJBA7FG4HoXhkEB7FK5H4dqQQIXrUbge1JBArkfhehQDkUBmZmZmZvWQQAAAAAAAEpFAZmZmZmY+kUC4HoXrUTmRQEjhehSuXZFA7FG4HoWHkUCuR+F6FG6RQGZmZmZm+ZBAMzMzMzPfkEDXo3A9CtCQQHE9Ctej45BAzczMzMwnkUAAAAAAAF2RQLgehetRhpFAuB6F61GGkUCPwvUoXK6RQGZmZmZmcZFAuB6F61GTkUBSuB6F69GRQKRwPQrX4JFAmpmZmZnjkUCPwvUoXPmRQLgehetRBpJAZmZmZmbpkUC4HoXrUemRQGZmZmZmqJFA4XoUrkfIkUCkcD0K1+iRQArXo3A9x5FAFK5H4XqwkUBxPQrXo4mTQHE9CtejXZNAw/UoXI8kk0AfhetRuAKTQNejcD0K5JJAKVyPwvWnkkDhehSuRwGSQM3MzMzMR5JAKVyPwvVXkkAzMzMzM9OSQNejcD0KkJJApHA9CtdakkCuR+F6FLWSQFyPwvUoMZJA16NwPQo9kkBmZmZmZmaSQM3MzMzMuZJA9ihcj8J6kkAAAAAAAJ2SQIXrUbgelpJAXI/C9Sj9kUDD9Shcj0OSQI/C9ShcP5JArkfhehRMkkBmZmZmZqOSQGZmZmZmkJJAZmZmZmaQkkDD9Shcj0GSQHE9CtejdZJA7FG4HoXtkkAfhetRuNOSQHE9Ctej0ZJAAAAAAADYkkBI4XoUrhCTQAAAAAAASZNACtejcD1ek0AzMzMzMz2TQJqZmZmZNJNAcT0K16NBk0CkcD0K11qTQB+F61G4N5NAhetRuB5Ik0DXo3A9CguTQK5H4XoUepNAw/UoXI9lk0CPwvUoXCSTQAAAAAAADJNAZmZmZmbUkkDsUbgehWKSQLgehetRj5JAAAAAAADkkkAfhetRuN6SQOxRuB6FlJJACtejcD3JkkBI4XoUruKSQM3MzMzM/ZJAw/UoXI8Ek0DXo3A9CmyTQMP1KFyPbpNA4XoUrkeUk0ApXI/C9XWTQJqZmZmZeJNAMzMzMzNrk0DsUbgehayTQClcj8L1s5NA7FG4HoXEk0AAAAAAACiUQBSuR+F6upNAXI/C9Si1k0A9CtejcLCTQClcj8L15pNAFK5H4XotlECF61G4HjCUQDMzMzMzL5RAPQrXo3BzlEAUrkfhen2UQPYoXI/CTJRAMzMzMzNLlEAAAAAAAEiUQKRwPQrXfZRAFK5H4XrblEDNzMzMzKKUQKRwPQrXjZRAMzMzMzNclEBmZmZmZlWUQI/C9ShcPZRA9ihcj8JqlEAzMzMzM4aUQClcj8L1g5RAKVyPwvWDlECkcD0K12OUQEjhehSuJ5RAhetRuB49lEBcj8L1KKKUQOxRuB6FwJRAFK5H4XrylEAK16NwPf6UQHE9CtejApVA\",\"dtype\":\"float64\",\"shape\":[345]}},\"selected\":{\"id\":\"1865\",\"type\":\"Selection\"},\"selection_policy\":{\"id\":\"1894\",\"type\":\"UnionRenderers\"}},\"id\":\"1864\",\"type\":\"ColumnDataSource\"},{\"attributes\":{\"source\":{\"id\":\"1864\",\"type\":\"ColumnDataSource\"}},\"id\":\"1871\",\"type\":\"CDSView\"},{\"attributes\":{\"line_alpha\":0.1,\"line_color\":\"#ff7f0e\",\"line_width\":2,\"x\":{\"field\":\"index\"},\"y\":{\"field\":\"value\"}},\"id\":\"1884\",\"type\":\"Line\"},{\"attributes\":{\"callback\":null,\"data\":{\"Variable\":[\"Predicted\",\"Predicted\",\"Predicted\",\"Predicted\",\"Predicted\",\"Predicted\",\"Predicted\",\"Predicted\",\"Predicted\",\"Predicted\",\"Predicted\",\"Predicted\",\"Predicted\",\"Predicted\",\"Predicted\",\"Predicted\",\"Predicted\",\"Predicted\",\"Predicted\",\"Predicted\",\"Predicted\",\"Predicted\",\"Predicted\",\"Predicted\",\"Predicted\",\"Predicted\",\"Predicted\",\"Predicted\",\"Predicted\",\"Predicted\",\"Predicted\",\"Predicted\",\"Predicted\",\"Predicted\",\"Predicted\",\"Predicted\",\"Predicted\",\"Predicted\",\"Predicted\",\"Predicted\",\"Predicted\",\"Predicted\",\"Predicted\",\"Predicted\",\"Predicted\",\"Predicted\",\"Predicted\",\"Predicted\",\"Predicted\",\"Predicted\",\"Predicted\",\"Predicted\",\"Predicted\",\"Predicted\",\"Predicted\",\"Predicted\",\"Predicted\",\"Predicted\",\"Predicted\",\"Predicted\",\"Predicted\",\"Predicted\",\"Predicted\",\"Predicted\",\"Predicted\",\"Predicted\",\"Predicted\",\"Predicted\",\"Predicted\",\"Predicted\",\"Predicted\",\"Predicted\",\"Predicted\",\"Predicted\",\"Predicted\",\"Predicted\",\"Predicted\",\"Predicted\",\"Predicted\",\"Predicted\",\"Predicted\",\"Predicted\",\"Predicted\",\"Predicted\",\"Predicted\",\"Predicted\",\"Predicted\",\"Predicted\",\"Predicted\",\"Predicted\",\"Predicted\",\"Predicted\",\"Predicted\",\"Predicted\",\"Predicted\",\"Predicted\",\"Predicted\",\"Predicted\",\"Predicted\",\"Predicted\",\"Predicted\",\"Predicted\",\"Predicted\",\"Predicted\",\"Predicted\",\"Predicted\",\"Predicted\",\"Predicted\",\"Predicted\",\"Predicted\",\"Predicted\",\"Predicted\",\"Predicted\",\"Predicted\",\"Predicted\",\"Predicted\",\"Predicted\",\"Predicted\",\"Predicted\",\"Predicted\",\"Predicted\",\"Predicted\",\"Predicted\",\"Predicted\",\"Predicted\",\"Predicted\",\"Predicted\",\"Predicted\",\"Predicted\",\"Predicted\",\"Predicted\",\"Predicted\",\"Predicted\",\"Predicted\",\"Predicted\",\"Predicted\",\"Predicted\",\"Predicted\",\"Predicted\",\"Predicted\",\"Predicted\",\"Predicted\",\"Predicted\",\"Predicted\",\"Predicted\",\"Predicted\",\"Predicted\",\"Predicted\",\"Predicted\",\"Predicted\",\"Predicted\",\"Predicted\",\"Predicted\",\"Predicted\",\"Predicted\",\"Predicted\",\"Predicted\",\"Predicted\",\"Predicted\",\"Predicted\",\"Predicted\",\"Predicted\",\"Predicted\",\"Predicted\",\"Predicted\",\"Predicted\",\"Predicted\",\"Predicted\",\"Predicted\",\"Predicted\",\"Predicted\",\"Predicted\",\"Predicted\",\"Predicted\",\"Predicted\",\"Predicted\",\"Predicted\",\"Predicted\",\"Predicted\",\"Predicted\",\"Predicted\",\"Predicted\",\"Predicted\",\"Predicted\",\"Predicted\",\"Predicted\",\"Predicted\",\"Predicted\",\"Predicted\",\"Predicted\",\"Predicted\",\"Predicted\",\"Predicted\",\"Predicted\",\"Predicted\",\"Predicted\",\"Predicted\",\"Predicted\",\"Predicted\",\"Predicted\",\"Predicted\",\"Predicted\",\"Predicted\",\"Predicted\",\"Predicted\",\"Predicted\",\"Predicted\",\"Predicted\",\"Predicted\",\"Predicted\",\"Predicted\",\"Predicted\",\"Predicted\",\"Predicted\",\"Predicted\",\"Predicted\",\"Predicted\",\"Predicted\",\"Predicted\",\"Predicted\",\"Predicted\",\"Predicted\",\"Predicted\",\"Predicted\",\"Predicted\",\"Predicted\",\"Predicted\",\"Predicted\",\"Predicted\",\"Predicted\",\"Predicted\",\"Predicted\",\"Predicted\",\"Predicted\",\"Predicted\",\"Predicted\",\"Predicted\",\"Predicted\",\"Predicted\",\"Predicted\",\"Predicted\",\"Predicted\",\"Predicted\",\"Predicted\",\"Predicted\",\"Predicted\",\"Predicted\",\"Predicted\",\"Predicted\",\"Predicted\",\"Predicted\",\"Predicted\",\"Predicted\",\"Predicted\",\"Predicted\",\"Predicted\",\"Predicted\",\"Predicted\",\"Predicted\",\"Predicted\",\"Predicted\",\"Predicted\",\"Predicted\",\"Predicted\",\"Predicted\",\"Predicted\",\"Predicted\",\"Predicted\",\"Predicted\",\"Predicted\",\"Predicted\",\"Predicted\",\"Predicted\",\"Predicted\",\"Predicted\",\"Predicted\",\"Predicted\",\"Predicted\",\"Predicted\",\"Predicted\",\"Predicted\",\"Predicted\",\"Predicted\",\"Predicted\",\"Predicted\",\"Predicted\",\"Predicted\",\"Predicted\",\"Predicted\",\"Predicted\",\"Predicted\",\"Predicted\",\"Predicted\",\"Predicted\",\"Predicted\",\"Predicted\",\"Predicted\",\"Predicted\",\"Predicted\",\"Predicted\",\"Predicted\",\"Predicted\",\"Predicted\",\"Predicted\",\"Predicted\",\"Predicted\",\"Predicted\",\"Predicted\",\"Predicted\",\"Predicted\",\"Predicted\",\"Predicted\",\"Predicted\",\"Predicted\",\"Predicted\",\"Predicted\",\"Predicted\",\"Predicted\",\"Predicted\",\"Predicted\",\"Predicted\",\"Predicted\",\"Predicted\",\"Predicted\",\"Predicted\",\"Predicted\",\"Predicted\",\"Predicted\",\"Predicted\",\"Predicted\",\"Predicted\",\"Predicted\",\"Predicted\",\"Predicted\",\"Predicted\",\"Predicted\",\"Predicted\",\"Predicted\",\"Predicted\",\"Predicted\",\"Predicted\",\"Predicted\",\"Predicted\",\"Predicted\",\"Predicted\"],\"index\":[0,1,2,3,4,5,6,7,8,9,10,11,12,13,14,15,16,17,18,19,20,21,22,23,24,25,26,27,28,29,30,31,32,33,34,35,36,37,38,39,40,41,42,43,44,45,46,47,48,49,50,51,52,53,54,55,56,57,58,59,60,61,62,63,64,65,66,67,68,69,70,71,72,73,74,75,76,77,78,79,80,81,82,83,84,85,86,87,88,89,90,91,92,93,94,95,96,97,98,99,100,101,102,103,104,105,106,107,108,109,110,111,112,113,114,115,116,117,118,119,120,121,122,123,124,125,126,127,128,129,130,131,132,133,134,135,136,137,138,139,140,141,142,143,144,145,146,147,148,149,150,151,152,153,154,155,156,157,158,159,160,161,162,163,164,165,166,167,168,169,170,171,172,173,174,175,176,177,178,179,180,181,182,183,184,185,186,187,188,189,190,191,192,193,194,195,196,197,198,199,200,201,202,203,204,205,206,207,208,209,210,211,212,213,214,215,216,217,218,219,220,221,222,223,224,225,226,227,228,229,230,231,232,233,234,235,236,237,238,239,240,241,242,243,244,245,246,247,248,249,250,251,252,253,254,255,256,257,258,259,260,261,262,263,264,265,266,267,268,269,270,271,272,273,274,275,276,277,278,279,280,281,282,283,284,285,286,287,288,289,290,291,292,293,294,295,296,297,298,299,300,301,302,303,304,305,306,307,308,309,310,311,312,313,314,315,316,317,318,319,320,321,322,323,324,325,326,327,328,329,330,331,332,333,334,335,336,337,338,339,340,341,342,343,344],\"value\":{\"__ndarray__\":\"Y6iTRLRvkkRE/ZBES6+PRADijkS/MY5E9Z+NRCUPjUQewoxE/luMRMfxi0R8rYtEepCLRAvdi0RcJoxE4S6MRGyFjER0/4xEF4uNRB01jkRt/o5EoVePROmZj0S9jo9E2w+PRAxjjkQ9nY1ERfiMRN+QjEQHH4xEje6LRBL+i0R5W4xECi2NROgmjkTzGo9EOxWQRKj3kEQ/H5JEPGCTRLmclER7oZVEVZCWRFOXl0REjJhEVU6ZRF/7mURVUZpEzMyaRC3zmkT1D5tE8v2aRP04m0QxTJtET3mbRALCm0SwRJxEcTucRBV0nEQwkpxEHzecRJ72m0QEkJtEkgmbREOpmkTWZppERUeaRPwgmkTQ+5lEtlqZRHV/mESe7JdEwXOXRMTvlkQ1U5ZEfOCVRJiMlUQSHJVEab+URA+dlEQwupREDM2URE/rlERow5REQQyURDWpk0TSO5NEp4iSRCjekUTXf5FEwOCQRPKEkER2JpBEmdmPRPexj0TBHo9E1uCORKP5jkTYgI5Es0uORGz3jUT8rI1EPH6NRHM/jUT1m4xEcyCMRMbCi0RoJotEZVaKRDWOiUQZiYhEh62HRFQlh0TZxoZEZaqGROGYhkTikYZEULOGRAtMh0T3FIhEF/mIREbkiURzjIpEOguLRJzFikQacopEqPCJRAhgiUQXXYlETMiIRPNpiEQov4hENaCJRCaLikR3NotEhxOLRA9Ni0RofYxEKPCMRLZRjUQws41ENx6ORHsPjkSISI5EM6qORFj2jkQdyo5El+COROQMj0QJSo9ESGmPRF1Vj0QqOI9ENiWPRLUuj0SiAY9EYsKOROuXjkQl4I5Eo4KPREU3kERw+ZBE7mORREHUkUQhHZJEvDuSRBsdkkQEJ5JENx+SRDoQkkSfb5JElA+TROd4k0TH6ZNE992URMPalURTmpZESDyXRD7el0QNWZhEw9CYRFqOmURsbJpEZz6bRCganEQjrZxEfw+dRN8jnURXPp1EPmSdRMpNnUT3IJ1EUAmdRD3qnER4n5xEWmmcRAVAnERL+5tEieWbRFHqm0Txo5xELL2cRBEPnUR0W51EeH+dREK5nUR9yZ1EVZudRBNWnURvE51Enq2cRLixnERBpZxEiNOcRNzhnESI7ZxEKiKdRD9ZnUS5mp1EgcSdRDrqnUSHiZ1EZEqdRBetnERP6ptEm4WaRKWVmUS/ophEmb6XRJr+lkSkJJZEWG2VRBmglETMaZREnD6URJwhlESa9JNE1ASURO4NlETlE5REdhKURIkjlEQoSZREqWOURNZXlETVl5NE1gWTRFAnkkSEYJFEjqWQREP4j0TgdY9EpQCPRHu8jkT6dY5EeUCORE8TjkQVGI5E7BiORNcpjkSST45E0hiORPe9jUROq45EBM2PRLhBkUQZwZJEwf+TRFEqlURTcZZEfkWYRGimmkTZdZxEAQ2eRGcOn0QN955EsgafRA/WnkSJ4Z5E7u2eRJBFn0RcTp9EpY+fRIHWn0T2FZ5EMPmdRGfUnEQAEpxEXF+bRIWfmkQ7zJlEsAuZRFhEmES4lZdEMwmXRIFnlkQaQJZEFuOVRMyUlUTlgJVEDmGVRFFTlUQxcJVEt5yVRH9/lUQHe5VEC2SVRM0+lUQRx5REbzyURPHHk0QKUpNEZhGTRBTwkkTKspJEPHKSRPtekkTMWJJEMg+SRLC8kUSTcZFEewSRRP2kkEQTgZBEX5mQRC23kEQxjpFEp5uSRCNClESAXJZEXxaYRHkJmUQ7f5lEnMSZRKLvmUQx9plEkKSZRMpTmUSxA5lEefKYRLGpmETGqZhEi2yYRK5ZmETJSphE\",\"dtype\":\"float32\",\"shape\":[345]}},\"selected\":{\"id\":\"1881\",\"type\":\"Selection\"},\"selection_policy\":{\"id\":\"1905\",\"type\":\"UnionRenderers\"}},\"id\":\"1880\",\"type\":\"ColumnDataSource\"},{\"attributes\":{\"axis_label\":\"\",\"bounds\":\"auto\",\"formatter\":{\"id\":\"1861\",\"type\":\"BasicTickFormatter\"},\"major_label_orientation\":\"horizontal\",\"ticker\":{\"id\":\"1839\",\"type\":\"BasicTicker\"}},\"id\":\"1838\",\"type\":\"LinearAxis\"},{\"attributes\":{\"line_color\":\"#1f77b4\",\"line_width\":2,\"x\":{\"field\":\"index\"},\"y\":{\"field\":\"value\"}},\"id\":\"1867\",\"type\":\"Line\"},{\"attributes\":{\"line_alpha\":0.1,\"line_color\":\"#1f77b4\",\"line_width\":2,\"x\":{\"field\":\"index\"},\"y\":{\"field\":\"value\"}},\"id\":\"1868\",\"type\":\"Line\"},{\"attributes\":{\"line_color\":\"#ff7f0e\",\"line_width\":2,\"x\":{\"field\":\"index\"},\"y\":{\"field\":\"value\"}},\"id\":\"1883\",\"type\":\"Line\"},{\"attributes\":{},\"id\":\"1834\",\"type\":\"LinearScale\"},{\"attributes\":{},\"id\":\"1865\",\"type\":\"Selection\"},{\"attributes\":{},\"id\":\"1836\",\"type\":\"LinearScale\"},{\"attributes\":{\"callback\":null,\"end\":344.0,\"reset_end\":344.0,\"reset_start\":0.0,\"tags\":[[[\"index\",\"index\",null]]]},\"id\":\"1825\",\"type\":\"Range1d\"}],\"root_ids\":[\"1829\"]},\"title\":\"Bokeh Application\",\"version\":\"1.3.4\"}};\n",
       "  var render_items = [{\"docid\":\"d642520c-a52b-489d-abc1-752a333168a6\",\"roots\":{\"1829\":\"69459a84-1198-4822-9ff2-11b63647cbbc\"}}];\n",
       "  root.Bokeh.embed.embed_items_notebook(docs_json, render_items);\n",
       "\n",
       "  }\n",
       "  if (root.Bokeh !== undefined) {\n",
       "    embed_document(root);\n",
       "  } else {\n",
       "    var attempts = 0;\n",
       "    var timer = setInterval(function(root) {\n",
       "      if (root.Bokeh !== undefined) {\n",
       "        embed_document(root);\n",
       "        clearInterval(timer);\n",
       "      }\n",
       "      attempts++;\n",
       "      if (attempts > 100) {\n",
       "        console.log(\"Bokeh: ERROR: Unable to run BokehJS code because BokehJS library is missing\");\n",
       "        clearInterval(timer);\n",
       "      }\n",
       "    }, 10, root)\n",
       "  }\n",
       "})(window);</script>"
      ],
      "text/plain": [
       ":NdOverlay   [Variable]\n",
       "   :Curve   [index]   (value)"
      ]
     },
     "execution_count": 473,
     "metadata": {
      "application/vnd.holoviews_exec.v0+json": {
       "id": "1829"
      }
     },
     "output_type": "execute_result"
    }
   ],
   "source": [
    "stocks.iloc[:,:2].hvplot(title = 'Google Stock Prices December 2018-November 2019')"
   ]
  },
  {
   "cell_type": "code",
   "execution_count": 469,
   "metadata": {},
   "outputs": [
    {
     "data": {
      "application/vnd.holoviews_exec.v0+json": "",
      "text/html": [
       "<div id='1718' style='display: table; margin: 0 auto;'>\n",
       "\n",
       "\n",
       "\n",
       "\n",
       "\n",
       "  <div class=\"bk-root\" id=\"ff3befd4-340d-4bf1-acc3-374d13daae37\" data-root-id=\"1718\"></div>\n",
       "</div>\n",
       "<script type=\"application/javascript\">(function(root) {\n",
       "  function embed_document(root) {\n",
       "    \n",
       "  var docs_json = {\"ff7a4999-45c9-4391-b9fc-98c84b80d3bb\":{\"roots\":{\"references\":[{\"attributes\":{\"below\":[{\"id\":\"1727\",\"type\":\"LinearAxis\"}],\"center\":[{\"id\":\"1731\",\"type\":\"Grid\"},{\"id\":\"1736\",\"type\":\"Grid\"}],\"left\":[{\"id\":\"1732\",\"type\":\"LinearAxis\"}],\"margin\":null,\"min_border_bottom\":10,\"min_border_left\":10,\"min_border_right\":10,\"min_border_top\":10,\"plot_height\":300,\"plot_width\":700,\"renderers\":[{\"id\":\"1755\",\"type\":\"GlyphRenderer\"}],\"sizing_mode\":\"fixed\",\"title\":{\"id\":\"1719\",\"type\":\"Title\"},\"toolbar\":{\"id\":\"1742\",\"type\":\"Toolbar\"},\"x_range\":{\"id\":\"1715\",\"type\":\"Range1d\"},\"x_scale\":{\"id\":\"1723\",\"type\":\"LinearScale\"},\"y_range\":{\"id\":\"1716\",\"type\":\"Range1d\"},\"y_scale\":{\"id\":\"1725\",\"type\":\"LinearScale\"}},\"id\":\"1718\",\"subtype\":\"Figure\",\"type\":\"Plot\"},{\"attributes\":{},\"id\":\"1760\",\"type\":\"BasicTickFormatter\"},{\"attributes\":{\"bottom_units\":\"screen\",\"fill_alpha\":{\"value\":0.5},\"fill_color\":{\"value\":\"lightgrey\"},\"left_units\":\"screen\",\"level\":\"overlay\",\"line_alpha\":{\"value\":1.0},\"line_color\":{\"value\":\"black\"},\"line_dash\":[4,4],\"line_width\":{\"value\":2},\"render_mode\":\"css\",\"right_units\":\"screen\",\"top_units\":\"screen\"},\"id\":\"1766\",\"type\":\"BoxAnnotation\"},{\"attributes\":{},\"id\":\"1750\",\"type\":\"Selection\"},{\"attributes\":{\"callback\":null,\"data\":{\"Percentage Error\":{\"__ndarray__\":\"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\",\"dtype\":\"float64\",\"shape\":[345]},\"Percentage_Error\":{\"__ndarray__\":\"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\",\"dtype\":\"float64\",\"shape\":[345]},\"index\":[0,1,2,3,4,5,6,7,8,9,10,11,12,13,14,15,16,17,18,19,20,21,22,23,24,25,26,27,28,29,30,31,32,33,34,35,36,37,38,39,40,41,42,43,44,45,46,47,48,49,50,51,52,53,54,55,56,57,58,59,60,61,62,63,64,65,66,67,68,69,70,71,72,73,74,75,76,77,78,79,80,81,82,83,84,85,86,87,88,89,90,91,92,93,94,95,96,97,98,99,100,101,102,103,104,105,106,107,108,109,110,111,112,113,114,115,116,117,118,119,120,121,122,123,124,125,126,127,128,129,130,131,132,133,134,135,136,137,138,139,140,141,142,143,144,145,146,147,148,149,150,151,152,153,154,155,156,157,158,159,160,161,162,163,164,165,166,167,168,169,170,171,172,173,174,175,176,177,178,179,180,181,182,183,184,185,186,187,188,189,190,191,192,193,194,195,196,197,198,199,200,201,202,203,204,205,206,207,208,209,210,211,212,213,214,215,216,217,218,219,220,221,222,223,224,225,226,227,228,229,230,231,232,233,234,235,236,237,238,239,240,241,242,243,244,245,246,247,248,249,250,251,252,253,254,255,256,257,258,259,260,261,262,263,264,265,266,267,268,269,270,271,272,273,274,275,276,277,278,279,280,281,282,283,284,285,286,287,288,289,290,291,292,293,294,295,296,297,298,299,300,301,302,303,304,305,306,307,308,309,310,311,312,313,314,315,316,317,318,319,320,321,322,323,324,325,326,327,328,329,330,331,332,333,334,335,336,337,338,339,340,341,342,343,344]},\"selected\":{\"id\":\"1750\",\"type\":\"Selection\"},\"selection_policy\":{\"id\":\"1767\",\"type\":\"UnionRenderers\"}},\"id\":\"1749\",\"type\":\"ColumnDataSource\"},{\"attributes\":{},\"id\":\"1737\",\"type\":\"SaveTool\"},{\"attributes\":{},\"id\":\"1738\",\"type\":\"PanTool\"},{\"attributes\":{\"callback\":null,\"end\":0.21792504651136424,\"reset_end\":0.21792504651136424,\"reset_start\":-0.12136452557763111,\"start\":-0.12136452557763111,\"tags\":[[[\"Percentage Error\",\"Percentage Error\",null]]]},\"id\":\"1716\",\"type\":\"Range1d\"},{\"attributes\":{\"callback\":null,\"end\":344.0,\"reset_end\":344.0,\"reset_start\":0.0,\"tags\":[[[\"index\",\"index\",null]]]},\"id\":\"1715\",\"type\":\"Range1d\"},{\"attributes\":{\"overlay\":{\"id\":\"1766\",\"type\":\"BoxAnnotation\"}},\"id\":\"1740\",\"type\":\"BoxZoomTool\"},{\"attributes\":{},\"id\":\"1741\",\"type\":\"ResetTool\"},{\"attributes\":{\"active_drag\":\"auto\",\"active_inspect\":\"auto\",\"active_multi\":null,\"active_scroll\":\"auto\",\"active_tap\":\"auto\",\"tools\":[{\"id\":\"1717\",\"type\":\"HoverTool\"},{\"id\":\"1737\",\"type\":\"SaveTool\"},{\"id\":\"1738\",\"type\":\"PanTool\"},{\"id\":\"1739\",\"type\":\"WheelZoomTool\"},{\"id\":\"1740\",\"type\":\"BoxZoomTool\"},{\"id\":\"1741\",\"type\":\"ResetTool\"}]},\"id\":\"1742\",\"type\":\"Toolbar\"},{\"attributes\":{\"text\":\"Percentage Error\",\"text_color\":{\"value\":\"black\"},\"text_font_size\":{\"value\":\"12pt\"}},\"id\":\"1719\",\"type\":\"Title\"},{\"attributes\":{},\"id\":\"1758\",\"type\":\"BasicTickFormatter\"},{\"attributes\":{\"line_color\":\"#1f77b4\",\"line_width\":2,\"x\":{\"field\":\"index\"},\"y\":{\"field\":\"Percentage Error\"}},\"id\":\"1752\",\"type\":\"Line\"},{\"attributes\":{\"line_alpha\":0.1,\"line_color\":\"#1f77b4\",\"line_width\":2,\"x\":{\"field\":\"index\"},\"y\":{\"field\":\"Percentage Error\"}},\"id\":\"1753\",\"type\":\"Line\"},{\"attributes\":{},\"id\":\"1723\",\"type\":\"LinearScale\"},{\"attributes\":{\"line_alpha\":0.2,\"line_color\":\"#1f77b4\",\"line_width\":2,\"x\":{\"field\":\"index\"},\"y\":{\"field\":\"Percentage Error\"}},\"id\":\"1754\",\"type\":\"Line\"},{\"attributes\":{\"axis_label\":\"\",\"bounds\":\"auto\",\"formatter\":{\"id\":\"1758\",\"type\":\"BasicTickFormatter\"},\"major_label_orientation\":\"horizontal\",\"ticker\":{\"id\":\"1728\",\"type\":\"BasicTicker\"}},\"id\":\"1727\",\"type\":\"LinearAxis\"},{\"attributes\":{\"data_source\":{\"id\":\"1749\",\"type\":\"ColumnDataSource\"},\"glyph\":{\"id\":\"1752\",\"type\":\"Line\"},\"hover_glyph\":null,\"muted_glyph\":{\"id\":\"1754\",\"type\":\"Line\"},\"nonselection_glyph\":{\"id\":\"1753\",\"type\":\"Line\"},\"selection_glyph\":null,\"view\":{\"id\":\"1756\",\"type\":\"CDSView\"}},\"id\":\"1755\",\"type\":\"GlyphRenderer\"},{\"attributes\":{\"callback\":null,\"renderers\":[{\"id\":\"1755\",\"type\":\"GlyphRenderer\"}],\"tags\":[\"hv_created\"],\"tooltips\":[[\"index\",\"@{index}\"],[\"Percentage Error\",\"@{Percentage_Error}\"]]},\"id\":\"1717\",\"type\":\"HoverTool\"},{\"attributes\":{},\"id\":\"1725\",\"type\":\"LinearScale\"},{\"attributes\":{\"source\":{\"id\":\"1749\",\"type\":\"ColumnDataSource\"}},\"id\":\"1756\",\"type\":\"CDSView\"},{\"attributes\":{},\"id\":\"1728\",\"type\":\"BasicTicker\"},{\"attributes\":{\"grid_line_color\":null,\"ticker\":{\"id\":\"1728\",\"type\":\"BasicTicker\"}},\"id\":\"1731\",\"type\":\"Grid\"},{\"attributes\":{},\"id\":\"1767\",\"type\":\"UnionRenderers\"},{\"attributes\":{\"axis_label\":\"\",\"bounds\":\"auto\",\"formatter\":{\"id\":\"1760\",\"type\":\"BasicTickFormatter\"},\"major_label_orientation\":\"horizontal\",\"ticker\":{\"id\":\"1733\",\"type\":\"BasicTicker\"}},\"id\":\"1732\",\"type\":\"LinearAxis\"},{\"attributes\":{},\"id\":\"1733\",\"type\":\"BasicTicker\"},{\"attributes\":{},\"id\":\"1739\",\"type\":\"WheelZoomTool\"},{\"attributes\":{\"dimension\":1,\"grid_line_color\":null,\"ticker\":{\"id\":\"1733\",\"type\":\"BasicTicker\"}},\"id\":\"1736\",\"type\":\"Grid\"}],\"root_ids\":[\"1718\"]},\"title\":\"Bokeh Application\",\"version\":\"1.3.4\"}};\n",
       "  var render_items = [{\"docid\":\"ff7a4999-45c9-4391-b9fc-98c84b80d3bb\",\"roots\":{\"1718\":\"ff3befd4-340d-4bf1-acc3-374d13daae37\"}}];\n",
       "  root.Bokeh.embed.embed_items_notebook(docs_json, render_items);\n",
       "\n",
       "  }\n",
       "  if (root.Bokeh !== undefined) {\n",
       "    embed_document(root);\n",
       "  } else {\n",
       "    var attempts = 0;\n",
       "    var timer = setInterval(function(root) {\n",
       "      if (root.Bokeh !== undefined) {\n",
       "        embed_document(root);\n",
       "        clearInterval(timer);\n",
       "      }\n",
       "      attempts++;\n",
       "      if (attempts > 100) {\n",
       "        console.log(\"Bokeh: ERROR: Unable to run BokehJS code because BokehJS library is missing\");\n",
       "        clearInterval(timer);\n",
       "      }\n",
       "    }, 10, root)\n",
       "  }\n",
       "})(window);</script>"
      ],
      "text/plain": [
       ":Curve   [index]   (Percentage Error)"
      ]
     },
     "execution_count": 469,
     "metadata": {
      "application/vnd.holoviews_exec.v0+json": {
       "id": "1718"
      }
     },
     "output_type": "execute_result"
    }
   ],
   "source": [
    "# see percentage error as a funciton of time\n",
    "stocks.iloc[:,2].hvplot()"
   ]
  },
  {
   "cell_type": "code",
   "execution_count": 3,
   "metadata": {},
   "outputs": [],
   "source": [
    "# LSTM for hyperparameter tuning, did not produce significant results in the allotted time\n",
    "\n",
    "# def run_2_LSTM(number_units, dropout, X_train, y_train, optimizer, loss, epoch, X_test, y_test):\n",
    "#     rnn = Sequential()\n",
    "#     rnn.add(LSTM(units=number_units, return_sequences=True, input_shape=(X_array.shape[1],1)))\n",
    "#     rnn.add(Dropout(drop_out))\n",
    "#     rnn.add(LSTM(units=number_units, return_sequences=True))\n",
    "#     rnn.add(Dropout(drop_out))\n",
    "# #     rnn.add(LSTM(units=number_units, return_sequences=True))\n",
    "# #     rnn.add(Dropout(drop_out))\n",
    "#     rnn.add(Dense(1))\n",
    "#     rnn.compile(optimizer=optimizer, loss=loss)\n",
    "#     rnn.fit(X_train, y_train, epochs=epoch, shuffle=False, batch_size=1, verbose=0)\n",
    "#     loss = rnn.evaluate(x=X_test,y=y_test)\n",
    "#     return loss"
   ]
  },
  {
   "cell_type": "markdown",
   "metadata": {},
   "source": [
    "### Predicting the S&P Index"
   ]
  },
  {
   "cell_type": "code",
   "execution_count": 384,
   "metadata": {},
   "outputs": [
    {
     "data": {
      "text/html": [
       "<div>\n",
       "<style scoped>\n",
       "    .dataframe tbody tr th:only-of-type {\n",
       "        vertical-align: middle;\n",
       "    }\n",
       "\n",
       "    .dataframe tbody tr th {\n",
       "        vertical-align: top;\n",
       "    }\n",
       "\n",
       "    .dataframe thead th {\n",
       "        text-align: right;\n",
       "    }\n",
       "</style>\n",
       "<table border=\"1\" class=\"dataframe\">\n",
       "  <thead>\n",
       "    <tr style=\"text-align: right;\">\n",
       "      <th></th>\n",
       "      <th>px</th>\n",
       "      <th>Price Momentum 12M</th>\n",
       "      <th>Price Momentum 12M-1M</th>\n",
       "      <th>Price to 52W High</th>\n",
       "      <th>Price to 52W Low</th>\n",
       "      <th>Return 1D</th>\n",
       "      <th>Return 1M</th>\n",
       "      <th>Return 1Q</th>\n",
       "      <th>Max Daily Return over 1M</th>\n",
       "      <th>Realized Volatility 1M</th>\n",
       "      <th>Realized Volatility 3M</th>\n",
       "    </tr>\n",
       "    <tr>\n",
       "      <th>Date</th>\n",
       "      <th></th>\n",
       "      <th></th>\n",
       "      <th></th>\n",
       "      <th></th>\n",
       "      <th></th>\n",
       "      <th></th>\n",
       "      <th></th>\n",
       "      <th></th>\n",
       "      <th></th>\n",
       "      <th></th>\n",
       "      <th></th>\n",
       "    </tr>\n",
       "  </thead>\n",
       "  <tbody>\n",
       "    <tr>\n",
       "      <th>1994-01-03</th>\n",
       "      <td>567.09</td>\n",
       "      <td>NaN</td>\n",
       "      <td>NaN</td>\n",
       "      <td>NaN</td>\n",
       "      <td>NaN</td>\n",
       "      <td>NaN</td>\n",
       "      <td>NaN</td>\n",
       "      <td>NaN</td>\n",
       "      <td>NaN</td>\n",
       "      <td>NaN</td>\n",
       "      <td>NaN</td>\n",
       "    </tr>\n",
       "    <tr>\n",
       "      <th>1994-01-04</th>\n",
       "      <td>569.07</td>\n",
       "      <td>NaN</td>\n",
       "      <td>NaN</td>\n",
       "      <td>NaN</td>\n",
       "      <td>NaN</td>\n",
       "      <td>0.003492</td>\n",
       "      <td>NaN</td>\n",
       "      <td>NaN</td>\n",
       "      <td>NaN</td>\n",
       "      <td>NaN</td>\n",
       "      <td>NaN</td>\n",
       "    </tr>\n",
       "  </tbody>\n",
       "</table>\n",
       "</div>"
      ],
      "text/plain": [
       "                px  Price Momentum 12M  Price Momentum 12M-1M  \\\n",
       "Date                                                            \n",
       "1994-01-03  567.09                 NaN                    NaN   \n",
       "1994-01-04  569.07                 NaN                    NaN   \n",
       "\n",
       "            Price to 52W High  Price to 52W Low  Return 1D  Return 1M  \\\n",
       "Date                                                                    \n",
       "1994-01-03                NaN               NaN        NaN        NaN   \n",
       "1994-01-04                NaN               NaN   0.003492        NaN   \n",
       "\n",
       "            Return 1Q  Max Daily Return over 1M  Realized Volatility 1M  \\\n",
       "Date                                                                      \n",
       "1994-01-03        NaN                       NaN                     NaN   \n",
       "1994-01-04        NaN                       NaN                     NaN   \n",
       "\n",
       "            Realized Volatility 3M  \n",
       "Date                                \n",
       "1994-01-03                     NaN  \n",
       "1994-01-04                     NaN  "
      ]
     },
     "execution_count": 384,
     "metadata": {},
     "output_type": "execute_result"
    }
   ],
   "source": [
    "sp500_df = pd.read_csv('Daily_Stocks_Metrics/sp500.csv',index_col=['Date'],infer_datetime_format=True)\n",
    "\n",
    "sp500_df.head(2)"
   ]
  },
  {
   "cell_type": "code",
   "execution_count": 383,
   "metadata": {},
   "outputs": [
    {
     "data": {
      "text/plain": [
       "px                          6767\n",
       "Price Momentum 12M          6767\n",
       "Price Momentum 12M-1M       6767\n",
       "Price to 52W High           6767\n",
       "Price to 52W Low            6767\n",
       "Return 1D                   6767\n",
       "Return 1M                   6767\n",
       "Return 1Q                   6767\n",
       "Max Daily Return over 1M    6767\n",
       "Realized Volatility 1M      6767\n",
       "Realized Volatility 3M      6767\n",
       "dtype: int64"
      ]
     },
     "execution_count": 383,
     "metadata": {},
     "output_type": "execute_result"
    }
   ],
   "source": [
    "sp500_df.isnull().count()"
   ]
  },
  {
   "cell_type": "code",
   "execution_count": 385,
   "metadata": {},
   "outputs": [],
   "source": [
    "sp500_df.dropna(axis=1, how='all', inplace=True)"
   ]
  },
  {
   "cell_type": "code",
   "execution_count": 388,
   "metadata": {},
   "outputs": [],
   "source": [
    "sp500_df.dropna(inplace=True)"
   ]
  },
  {
   "cell_type": "code",
   "execution_count": null,
   "metadata": {},
   "outputs": [],
   "source": [
    "a,b,c,d,new_scaler=structure"
   ]
  },
  {
   "cell_type": "code",
   "execution_count": 470,
   "metadata": {},
   "outputs": [
    {
     "name": "stdout",
     "output_type": "stream",
     "text": [
      "Data Scaled\n",
      "          0         1         2         3         4         5         6  \\\n",
      "0  0.000000  0.507682  0.517671  0.438165  0.607432  0.684501  0.037189   \n",
      "1  0.000531  0.507803  0.516309  0.463306  0.610188  0.689758  0.037189   \n",
      "2  0.001808  0.520105  0.514974  0.498483  0.635413  0.700666  0.063427   \n",
      "3  0.002400  0.531609  0.521070  0.465690  0.645083  0.710889  0.063427   \n",
      "4  0.002340  0.536829  0.527215  0.435192  0.643074  0.713523  0.063427   \n",
      "\n",
      "          7  \n",
      "0  0.027985  \n",
      "1  0.029198  \n",
      "2  0.042477  \n",
      "3  0.043728  \n",
      "4  0.044216  \n",
      "X_train created\n",
      "X_test created\n",
      "y_train created\n",
      "y_test created\n"
     ]
    }
   ],
   "source": [
    "a, b, c, d, new_scaler= structure_data(sp500_df, 12, 15, .7)"
   ]
  },
  {
   "cell_type": "code",
   "execution_count": 472,
   "metadata": {},
   "outputs": [
    {
     "name": "stdout",
     "output_type": "stream",
     "text": [
      "Train on 1491 samples\n",
      "Epoch 1/10\n",
      "1491/1491 [==============================] - 17s 11ms/sample - loss: 0.0014\n",
      "Epoch 2/10\n",
      "1491/1491 [==============================] - 10s 7ms/sample - loss: 0.0017\n",
      "Epoch 3/10\n",
      "1491/1491 [==============================] - 10s 7ms/sample - loss: 0.0021\n",
      "Epoch 4/10\n",
      "1491/1491 [==============================] - 10s 7ms/sample - loss: 0.0025\n",
      "Epoch 5/10\n",
      "1491/1491 [==============================] - 10s 7ms/sample - loss: 0.0033\n",
      "Epoch 6/10\n",
      "1491/1491 [==============================] - 10s 7ms/sample - loss: 0.0033\n",
      "Epoch 7/10\n",
      "1491/1491 [==============================] - 10s 7ms/sample - loss: 0.0032\n",
      "Epoch 8/10\n",
      "1491/1491 [==============================] - 10s 6ms/sample - loss: 0.0031\n",
      "Epoch 9/10\n",
      "1491/1491 [==============================] - 10s 6ms/sample - loss: 0.0028\n",
      "Epoch 10/10\n",
      "1491/1491 [==============================] - 10s 6ms/sample - loss: 0.0024\n"
     ]
    },
    {
     "data": {
      "text/plain": [
       "<tensorflow.python.keras.callbacks.History at 0x1b22c044240>"
      ]
     },
     "execution_count": 472,
     "metadata": {},
     "output_type": "execute_result"
    }
   ],
   "source": [
    "rnn = Sequential()\n",
    "rnn.add(LSTM(units=number_units, return_sequences=True, batch_input_shape=(2,12,a.shape[2])))\n",
    "rnn.add(Dropout(drop_out))\n",
    "rnn.add(LSTM(units=number_units))\n",
    "rnn.add(Dropout(drop_out))\n",
    "rnn.add(Dense(1))\n",
    "rnn.compile(optimizer='adam',  loss= 'mean_squared_error')\n",
    "        \n",
    "rnn.fit(a, c, epochs=10, shuffle=False, batch_size=2, verbose=1)"
   ]
  },
  {
   "cell_type": "code",
   "execution_count": 474,
   "metadata": {},
   "outputs": [
    {
     "name": "stdout",
     "output_type": "stream",
     "text": [
      "612/1 [========================================================================================================================================================================================================================================================================================================================================================================================================================================================================================================================================================================================================================================================================================================================================================================================================================================================================================================================================================================================================================================================================================================================================================================================================================================================================================================================================================================================================================================================================================================================================================================================================================================================================================================================================================================================================================================================================================================================================================================================================================================================================================================================================================================================================================================================================================================================================================================================================================================================================================================================================================================================================================================================================================================================================================================================================================================================================================================================================================================================================================================================================================================================================================================================================================================================================================================================================================================================================================================================================================================================================================================================================================================================================================================================================================================================================================================================================================================================================================================================================================================================================================================================================================================================================================================================================================================================================================================================================================================================================================================================================================================================================================================================================================================================================================================================================================================================================================================================================================================================================================================================================================================================================================================================================================================================================================================================================================================================================================================================================================================================================================================================================================================================================================================================================================================================================================================================================================================================================================================================================================================================================================================================================================================================================================================================================================================================================================================================================================================================================================================================================================================================================================================================================================================================================================================================================================================================================================================================================================================================================================================================================================================================================================================================================================================================================================================================================================================================================================================================================================================================================================================================================================================================================================================================================================================================================================================================================================================================================================================================================================================================================================================================================================================================================================================================================================================================================================================================================================================================================================================================================================================================================================================================================================================================================================================================================================================================================================================================================================================================================================================================================================================================================================================================================================================================================================================================================================================================================================================================================================================================================================================================================================================================================================================================================================================================================================================================================================================================================================================================================================================================================================================================================================================================================================================================================================================================================================================================================================================================================================================================================================================================================================================================================================================================================================================================================================================================================================================================================================================================================================================================================================================================================================================================================================================================================================================================================================================================================================================================================================================================================================================================================================================================================================================================================================================================================================================================================================================================================================================================================================================================================================================================================================================================================================================================================================================================================================================================================================================================================================================================================================================================================================================================================================================================================================================================================================================================================================================================================================================================================================================================================================================================================================================================================================================================================================================================================================================================================================================================================================================================================================================================================================================================================================================================================================================================================================================================================================================================================================================================================================================================================================================================================================================================================================================================================================================================================================================================================================================================================================================================================================================================================================================================================================================================================================================================================================================================================================================================================================================================================================================================================================================================================================================================================================================================================================================================================================================================================================================================================================================================================================================================================================================================================================================================================================================================================================================================================================================================================================================================================================================================================================================================================================================================================================================================================================================================================================================================================================================================================================================================================================================================================================================================================================================================================================================================================================================================================================================================================================================================================================================================================================================================================================================================================================================================================================================================================================================================================================================================================================================================================================================================================================================================================================================================================================================================================================================================================================================================================================================================================================================================================================================================================================================================================================================================================================================================================================================================================================================================================================================================================================================================================================================================================================================================================================================================================================================================================================================================================================================================================================================================================================================================] - 3s 4ms/sample - loss: 0.3052\n"
     ]
    },
    {
     "data": {
      "text/plain": [
       "0.13948299507452616"
      ]
     },
     "execution_count": 474,
     "metadata": {},
     "output_type": "execute_result"
    }
   ],
   "source": [
    "rnn.evaluate(b,d)"
   ]
  },
  {
   "cell_type": "markdown",
   "metadata": {},
   "source": [
    "S&P model clearly overfit, likely can't be fixed by tuning. Input features will have to be changed. "
   ]
  },
  {
   "cell_type": "code",
   "execution_count": null,
   "metadata": {},
   "outputs": [],
   "source": []
  }
 ],
 "metadata": {
  "kernelspec": {
   "display_name": "Python 3",
   "language": "python",
   "name": "python3"
  },
  "language_info": {
   "codemirror_mode": {
    "name": "ipython",
    "version": 3
   },
   "file_extension": ".py",
   "mimetype": "text/x-python",
   "name": "python",
   "nbconvert_exporter": "python",
   "pygments_lexer": "ipython3",
   "version": "3.7.3"
  }
 },
 "nbformat": 4,
 "nbformat_minor": 4
}
